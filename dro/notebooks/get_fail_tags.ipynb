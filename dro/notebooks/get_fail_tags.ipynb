{
 "cells": [
  {
   "cell_type": "code",
   "execution_count": 1,
   "metadata": {},
   "outputs": [],
   "source": []
  },
  {
   "cell_type": "code",
   "execution_count": 2,
   "metadata": {},
   "outputs": [],
   "source": []
  },
  {
   "cell_type": "code",
   "execution_count": 25,
   "metadata": {},
   "outputs": [
    {
     "data": {
      "text/plain": [
       "['d_prime_peak']"
      ]
     },
     "execution_count": 25,
     "metadata": {},
     "output_type": "execute_result"
    }
   ],
   "source": [
    "from visual_behavior import database as db\n",
    "ophys_experiment_id = 1012468625\n",
    "\n",
    "mouseseeks = db.Database('mouseseeks')\n",
    "osid = db.convert_id({'ophys_experiment_id':ophys_experiment_id},'ophys_session_id')\n",
    "document = mouseseeks['db']['ophys_session_log'].find_one({'id':int(osid)})\n",
    "document['failure_tags']"
   ]
  },
  {
   "cell_type": "code",
   "execution_count": 33,
   "metadata": {},
   "outputs": [
    {
     "data": {
      "text/plain": [
       "856295914"
      ]
     },
     "execution_count": 33,
     "metadata": {},
     "output_type": "execute_result"
    }
   ],
   "source": [
    "document = mouseseeks['db']['ophys_session_log'].find_one({'failure_tags':['d_prime_peak']})\n",
    "document['id']"
   ]
  },
  {
   "cell_type": "code",
   "execution_count": 1,
   "metadata": {},
   "outputs": [
    {
     "name": "stdout",
     "output_type": "stream",
     "text": [
      "856295914 ['d_prime_peak']\n",
      "857232455 ['d_prime_peak']\n",
      "857202651 ['d_prime_peak']\n",
      "863527124 ['d_prime_peak']\n",
      "865275609 ['d_prime_peak']\n",
      "866947097 ['d_prime_peak']\n",
      "870377774 ['d_prime_peak']\n",
      "872551435 ['d_prime_peak']\n",
      "872551243 ['d_prime_peak']\n",
      "877497698 ['d_prime_peak']\n",
      "881071629 ['d_prime_peak']\n",
      "885229423 ['d_prime_peak']\n",
      "887087152 ['d_prime_peak']\n",
      "868529371 ['d_prime_peak']\n",
      "871606557 ['d_prime_peak']\n",
      "945889501 ['d_prime_peak']\n",
      "891493228 ['d_prime_peak']\n",
      "894836178 ['d_prime_peak']\n",
      "895547892 ['d_prime_peak']\n",
      "893346385 ['d_prime_peak']\n",
      "895003340 ['d_prime_peak']\n",
      "904828447 ['d_prime_peak']\n",
      "906632120 ['d_prime_peak']\n",
      "906299686 ['d_prime_peak']\n",
      "912539822 ['d_prime_peak']\n",
      "914306708 ['d_prime_peak']\n",
      "918717544 ['d_prime_peak']\n",
      "918116930 ['d_prime_peak']\n",
      "921636320 ['d_prime_peak']\n",
      "926683067 ['d_prime_peak']\n",
      "929685149 ['d_prime_peak']\n",
      "931553039 ['d_prime_peak']\n",
      "934739756 ['d_prime_peak']\n",
      "937421452 ['d_prime_peak']\n",
      "938353174 ['d_prime_peak']\n",
      "939524182 ['d_prime_peak']\n",
      "941368420 ['d_prime_peak']\n",
      "946951902 ['d_prime_peak']\n",
      "948188768 ['d_prime_peak']\n",
      "951556788 ['d_prime_peak']\n",
      "958774480 ['d_prime_peak']\n",
      "961666386 ['d_prime_peak']\n",
      "968900016 ['d_prime_peak']\n",
      "970670585 ['d_prime_peak']\n",
      "971851886 ['d_prime_peak']\n",
      "972295849 ['d_prime_peak']\n",
      "972656898 ['d_prime_peak']\n",
      "973328479 ['d_prime_peak']\n",
      "973619954 ['d_prime_peak']\n",
      "974205897 ['d_prime_peak']\n",
      "974017068 ['d_prime_peak']\n",
      "974302371 ['d_prime_peak']\n",
      "986052947 ['d_prime_peak']\n",
      "975120647 ['d_prime_peak']\n",
      "977726123 ['d_prime_peak']\n",
      "979876501 ['d_prime_peak']\n",
      "987896411 ['d_prime_peak']\n",
      "982722967 ['d_prime_peak']\n",
      "992393325 ['d_prime_peak']\n",
      "992675232 ['d_prime_peak']\n",
      "993230746 ['d_prime_peak']\n",
      "993738515 ['d_prime_peak']\n",
      "994199725 ['d_prime_peak']\n",
      "994883056 ['d_prime_peak']\n",
      "1002996472 ['d_prime_peak']\n",
      "1002932624 ['d_prime_peak']\n",
      "1003313533 ['d_prime_peak']\n",
      "1004317427 ['d_prime_peak']\n",
      "1005018474 ['d_prime_peak']\n",
      "1005249212 ['d_prime_peak']\n",
      "1007287108 ['d_prime_peak']\n",
      "1008995639 ['d_prime_peak']\n",
      "1008553837 ['d_prime_peak']\n",
      "1012256308 ['d_prime_peak']\n",
      "1010345922 ['d_prime_peak']\n",
      "1011849316 ['d_prime_peak']\n",
      "1012214760 ['d_prime_peak']\n",
      "1012258051 ['d_prime_peak']\n",
      "1012846464 ['d_prime_peak']\n",
      "857075165 ['d_prime_peak']\n",
      "1047532081 ['d_prime_peak']\n",
      "1062721068 ['d_prime_peak']\n",
      "1061660974 ['d_prime_peak']\n",
      "1042249629 ['d_prime_peak']\n",
      "1042749509 ['d_prime_peak']\n",
      "1043044289 ['d_prime_peak']\n",
      "1044388517 ['d_prime_peak']\n",
      "1046902203 ['d_prime_peak']\n",
      "1050957017 ['d_prime_peak']\n",
      "1062265645 ['d_prime_peak']\n",
      "1062498732 ['d_prime_peak']\n",
      "1070970140 ['d_prime_peak']\n"
     ]
    }
   ],
   "source": [
    "from visual_behavior import database as db\n",
    "\n",
    "mouseseeks = db.Database('mouseseeks')\n",
    "documents = list(mouseseeks['db']['ophys_session_log'].find({'failure_tags':['d_prime_peak']}))\n",
    "for document in documents:\n",
    "    print(document['id'], document['failure_tags'])"
   ]
  },
  {
   "cell_type": "code",
   "execution_count": 5,
   "metadata": {},
   "outputs": [
    {
     "name": "stdout",
     "output_type": "stream",
     "text": [
      "10\n",
      "903863805 ['d_prime_peak', 'num_contingent_trials']\n",
      "898447613 ['d_prime_peak', 'num_contingent_trials']\n",
      "875259383 ['d_prime_peak', 'num_contingent_trials']\n",
      "926186616 ['d_prime_peak', 'num_contingent_trials']\n",
      "944810835 ['d_prime_peak', 'num_contingent_trials']\n",
      "961180142 ['d_prime_peak', 'num_contingent_trials']\n",
      "974659900 ['d_prime_peak', 'num_contingent_trials']\n",
      "975460534 ['d_prime_peak', 'num_contingent_trials']\n",
      "993242873 ['d_prime_peak', 'num_contingent_trials']\n",
      "1065384473 ['d_prime_peak', 'num_contingent_trials']\n"
     ]
    }
   ],
   "source": [
    "from visual_behavior import database as db\n",
    "\n",
    "mouseseeks = db.Database('mouseseeks')\n",
    "documents = list(mouseseeks['db']['ophys_session_log'].find({'failure_tags':['d_prime_peak','num_contingent_trials']}))\n",
    "print(len(documents))\n",
    "for document in documents:\n",
    "    print(document['id'], document['failure_tags'])"
   ]
  },
  {
   "cell_type": "code",
   "execution_count": 6,
   "metadata": {
    "scrolled": false
   },
   "outputs": [
    {
     "name": "stdout",
     "output_type": "stream",
     "text": [
      "12\n",
      "863325716 ['num_contingent_trials']\n",
      "871906231 ['num_contingent_trials']\n",
      "874616920 ['num_contingent_trials']\n",
      "916330146 ['num_contingent_trials']\n",
      "924400171 ['num_contingent_trials']\n",
      "898849158 ['num_contingent_trials']\n",
      "937364655 ['num_contingent_trials']\n",
      "954800562 ['num_contingent_trials']\n",
      "987623801 ['num_contingent_trials']\n",
      "1011598162 ['num_contingent_trials']\n",
      "1057486216 ['num_contingent_trials']\n",
      "1058058727 ['num_contingent_trials']\n"
     ]
    }
   ],
   "source": [
    "from visual_behavior import database as db\n",
    "\n",
    "mouseseeks = db.Database('mouseseeks')\n",
    "documents = list(mouseseeks['db']['ophys_session_log'].find({'failure_tags':['num_contingent_trials']}))\n",
    "print(len(documents))\n",
    "for document in documents:\n",
    "    print(document['id'], document['failure_tags'])"
   ]
  },
  {
   "cell_type": "code",
   "execution_count": 23,
   "metadata": {
    "scrolled": false
   },
   "outputs": [
    {
     "data": {
      "text/plain": [
       "['d_prime_peak']"
      ]
     },
     "execution_count": 23,
     "metadata": {},
     "output_type": "execute_result"
    }
   ],
   "source": [
    "{\"$in\":[\"solide\"]}"
   ]
  },
  {
   "cell_type": "code",
   "execution_count": 10,
   "metadata": {
    "scrolled": false
   },
   "outputs": [
    {
     "name": "stdout",
     "output_type": "stream",
     "text": [
      "154\n",
      "856295914 VisualBehavior ['d_prime_peak']\n",
      "857232455 VisualBehavior ['d_prime_peak']\n",
      "857844924 VisualBehavior ['d_prime_peak', 'z_drift_corr_um_diff']\n",
      "857202651 VisualBehavior ['d_prime_peak']\n",
      "857786784 VisualBehavior ['nb_dropped_physio_frames', 'percent_change_intensity', 'd_prime_peak']\n",
      "859701393 VisualBehavior ['nb_dropped_physio_frames', 'percent_change_intensity', 'd_prime_peak']\n",
      "863527124 VisualBehavior ['d_prime_peak']\n",
      "865275609 VisualBehavior ['d_prime_peak']\n",
      "866947097 VisualBehavior ['d_prime_peak']\n",
      "869299002 VisualBehavior ['nb_saturated_pixels', 'd_prime_peak']\n",
      "870377774 VisualBehavior ['d_prime_peak']\n",
      "872551435 VisualBehavior ['d_prime_peak']\n",
      "872551243 VisualBehavior ['d_prime_peak']\n",
      "877497698 VisualBehavior ['d_prime_peak']\n",
      "881071629 VisualBehavior ['d_prime_peak']\n",
      "883352686 VisualBehavior ['nb_saturated_pixels', 'd_prime_peak']\n",
      "885229423 VisualBehavior ['d_prime_peak']\n",
      "886644087 VisualBehavior ['d_prime_peak', 'z_drift_corr_um_diff']\n",
      "887087152 VisualBehavior ['d_prime_peak']\n",
      "888945661 VisualBehavior ['percent_change_intensity', 'd_prime_peak']\n",
      "883619540 VisualBehaviorMultiscope ['percent_change_intensity', 'percent_change_intensity', 'percent_change_intensity', 'percent_change_intensity', 'd_prime_peak', 'z_drift_corr_um_diff']\n",
      "868529371 VisualBehavior ['d_prime_peak']\n",
      "903863805 VisualBehaviorTask1B ['d_prime_peak', 'num_contingent_trials']\n",
      "871606557 VisualBehavior ['d_prime_peak']\n",
      "874554672 VisualBehavior ['d_prime_peak', 'validate_licks']\n",
      "945889501 VisualBehavior ['d_prime_peak']\n",
      "891493228 VisualBehavior ['d_prime_peak']\n",
      "887769830 VisualBehavior ['percent_change_intensity', 'd_prime_peak']\n",
      "894836178 VisualBehavior ['d_prime_peak']\n",
      "895547892 VisualBehavior ['d_prime_peak']\n",
      "876303107 VisualBehaviorMultiscope ['d_prime_peak', 'z_drift_corr_um_diff', 'z_drift_corr_um_diff']\n",
      "898447613 VisualBehavior ['d_prime_peak', 'num_contingent_trials']\n",
      "893346385 VisualBehavior ['d_prime_peak']\n",
      "895003340 VisualBehavior ['d_prime_peak']\n",
      "880498009 VisualBehaviorMultiscope ['d_prime_peak', 'z_drift_corr_um_diff']\n",
      "904828447 VisualBehaviorTask1B ['d_prime_peak']\n",
      "875005830 VisualBehavior ['percent_change_intensity', 'd_prime_peak']\n",
      "906632120 VisualBehaviorTask1B ['d_prime_peak']\n",
      "906299686 VisualBehaviorTask1B ['d_prime_peak']\n",
      "875259383 VisualBehaviorMultiscope ['d_prime_peak', 'num_contingent_trials']\n",
      "912539822 VisualBehaviorTask1B ['d_prime_peak']\n",
      "914306708 VisualBehaviorTask1B ['d_prime_peak']\n",
      "918717544 VisualBehaviorTask1B ['d_prime_peak']\n",
      "918116930 VisualBehaviorTask1B ['d_prime_peak']\n",
      "917504374 VisualBehaviorTask1B ['parent_averaged_depth_image_0', 'd_prime_peak']\n",
      "920313022 VisualBehaviorTask1B ['epilepsy_probability', 'd_prime_peak']\n",
      "921636320 VisualBehaviorMultiscope ['d_prime_peak']\n",
      "922214579 VisualBehaviorTask1B ['epilepsy_probability', 'd_prime_peak']\n",
      "923469780 VisualBehaviorMultiscope ['d_prime_peak', 'z_drift_corr_um_diff']\n",
      "923440710 VisualBehaviorTask1B ['percent_change_intensity', 'd_prime_peak']\n",
      "926683067 VisualBehaviorTask1B ['d_prime_peak']\n",
      "926488384 VisualBehaviorMultiscope ['parent_averaged_depth_image_2', 'parent_averaged_depth_image_6', 'd_prime_peak', 'z_drift_corr_um_diff']\n",
      "929394527 VisualBehaviorTask1B ['d_prime_peak', 'z_drift_corr_um_diff']\n",
      "926186616 VisualBehaviorTask1B ['d_prime_peak', 'num_contingent_trials']\n",
      "929685149 VisualBehaviorTask1B ['d_prime_peak']\n",
      "931553039 VisualBehaviorTask1B ['d_prime_peak']\n",
      "934739756 VisualBehaviorTask1B ['d_prime_peak']\n",
      "937421452 VisualBehaviorTask1B ['d_prime_peak']\n",
      "938353174 VisualBehaviorTask1B ['d_prime_peak']\n",
      "939524182 VisualBehaviorTask1B ['d_prime_peak']\n",
      "940145217 VisualBehaviorMultiscope ['parent_averaged_depth_image_5', 'd_prime_peak']\n",
      "941368420 VisualBehaviorTask1B ['d_prime_peak']\n",
      "944810835 VisualBehavior ['d_prime_peak', 'num_contingent_trials']\n",
      "943592883 VisualBehavior ['nb_dropped_visual_stim_events', 'd_prime_peak']\n",
      "947174352 VisualBehavior ['d_prime_peak', 'validate_omitted_flashes_are_omitted']\n",
      "946951902 VisualBehavior ['d_prime_peak']\n",
      "948188768 VisualBehavior ['d_prime_peak']\n",
      "951556788 VisualBehavior ['d_prime_peak']\n",
      "958774480 VisualBehaviorTask1B ['d_prime_peak']\n",
      "961787616 VisualBehaviorTask1B ['d_prime_peak', 'validate_omitted_flashes_are_omitted']\n",
      "960749169 VisualBehavior ['d_prime_peak', 'validate_omitted_flashes_are_omitted']\n",
      "961180142 VisualBehaviorTask1B ['d_prime_peak', 'num_contingent_trials']\n",
      "961666386 VisualBehaviorTask1B ['d_prime_peak']\n",
      "966632021 VisualBehaviorMultiscope4areasx2d ['eye_tracking_global_mean', 'd_prime_peak']\n",
      "968900016 VisualBehaviorTask1B ['d_prime_peak']\n",
      "970670585 VisualBehaviorTask1B ['d_prime_peak']\n",
      "971851886 VisualBehaviorTask1B ['d_prime_peak']\n",
      "972295849 VisualBehaviorTask1B ['d_prime_peak']\n",
      "972656898 VisualBehaviorTask1B ['d_prime_peak']\n",
      "973328479 VisualBehaviorTask1B ['d_prime_peak']\n",
      "973619954 VisualBehaviorTask1B ['d_prime_peak']\n",
      "974205897 VisualBehavior ['d_prime_peak']\n",
      "974017068 VisualBehaviorTask1B ['d_prime_peak']\n",
      "974302371 VisualBehaviorTask1B ['d_prime_peak']\n",
      "986052947 VisualBehaviorTask1B ['d_prime_peak']\n",
      "972779381 VisualBehaviorTask1B ['nb_dropped_physio_frames', 'epilepsy_probability', 'd_prime_peak', 'num_contingent_trials']\n",
      "974888112 VisualBehaviorTask1B ['d_prime_peak', 'validate_omitted_flashes_are_omitted']\n",
      "974659900 VisualBehavior ['d_prime_peak', 'num_contingent_trials']\n",
      "975120647 VisualBehavior ['d_prime_peak']\n",
      "975460534 VisualBehaviorTask1B ['d_prime_peak', 'num_contingent_trials']\n",
      "975452945 VisualBehaviorMultiscope ['epilepsy_probability', 'epilepsy_probability', 'epilepsy_probability', 'd_prime_peak', 'z_drift_corr_um_diff']\n",
      "977726123 VisualBehaviorTask1B ['d_prime_peak']\n",
      "979876501 VisualBehavior ['d_prime_peak']\n",
      "980062339 VisualBehaviorMultiscope ['d_prime_peak', 'z_drift_corr_um_diff']\n",
      "979785168 VisualBehaviorMultiscope ['eye_tracking_global_mean', 'd_prime_peak']\n",
      "981845703 VisualBehaviorMultiscope ['d_prime_peak', 'z_drift_corr_um_diff']\n",
      "982576031 VisualBehavior ['parent_averaged_depth_image_0', 'd_prime_peak']\n",
      "987896411 VisualBehaviorTask1B ['d_prime_peak']\n",
      "982722967 VisualBehaviorMultiscope ['d_prime_peak']\n",
      "983913570 VisualBehaviorMultiscope ['d_prime_peak', 'z_drift_corr_um_diff']\n",
      "985888070 VisualBehaviorMultiscope ['epilepsy_probability', 'd_prime_peak', 'z_drift_corr_um_diff']\n",
      "992393325 VisualBehaviorMultiscope ['d_prime_peak']\n",
      "992675232 VisualBehaviorTask1B ['d_prime_peak']\n",
      "993242873 VisualBehaviorTask1B ['d_prime_peak', 'num_contingent_trials']\n",
      "993230746 VisualBehaviorTask1B ['d_prime_peak']\n",
      "993738515 VisualBehaviorMultiscope ['d_prime_peak']\n",
      "994199725 VisualBehaviorTask1B ['d_prime_peak']\n",
      "994883056 VisualBehaviorTask1B ['d_prime_peak']\n",
      "1002996472 VisualBehaviorTask1B ['d_prime_peak']\n",
      "1002932624 VisualBehaviorTask1B ['d_prime_peak']\n",
      "1003313533 VisualBehaviorTask1B ['d_prime_peak']\n",
      "1004317427 VisualBehaviorTask1B ['d_prime_peak']\n",
      "1005018474 VisualBehaviorTask1B ['d_prime_peak']\n",
      "1005249212 VisualBehaviorTask1B ['d_prime_peak']\n",
      "1006185116 VisualBehavior ['d_prime_peak', 'validate_omitted_flashes_are_omitted']\n",
      "1007287108 VisualBehavior ['d_prime_peak']\n",
      "779652742 VisualBehavior ['target_match', 'd_prime_peak', 'num_contingent_trials']\n",
      "1008995639 VisualBehavior ['d_prime_peak']\n",
      "1008553837 VisualBehaviorTask1B ['d_prime_peak']\n",
      "1008909459 VisualBehaviorTask1B ['d_prime_peak', 'z_drift_corr_um_diff']\n",
      "1010160763 VisualBehaviorMultiscope4areasx2d ['d_prime_peak', 'z_drift_corr_um_diff', 'z_drift_corr_um_diff', 'z_drift_corr_um_diff', 'z_drift_corr_um_diff', 'z_drift_corr_um_diff']\n",
      "1012256308 VisualBehaviorTask1B ['d_prime_peak']\n",
      "1010345922 VisualBehaviorTask1B ['d_prime_peak']\n",
      "1011849316 VisualBehaviorTask1B ['d_prime_peak']\n",
      "1012214760 VisualBehaviorTask1B ['d_prime_peak']\n",
      "1010696303 VisualBehavior ['percent_change_intensity', 'd_prime_peak', 'validate_omitted_flashes_are_omitted']\n",
      "1012258051 VisualBehavior ['d_prime_peak']\n",
      "1012846464 VisualBehaviorTask1B ['d_prime_peak']\n",
      "857075165 VisualBehavior ['d_prime_peak']\n",
      "857759922 VisualBehavior ['percent_change_intensity', 'd_prime_peak', 'num_contingent_trials']\n",
      "859459978 VisualBehavior ['nb_dropped_physio_frames', 'epilepsy_probability', 'd_prime_peak']\n",
      "873248441 VisualBehavior ['nb_saturated_pixels', 'd_prime_peak']\n",
      "875293691 VisualBehavior ['d_prime_peak', 'z_drift_corr_um_diff']\n",
      "1013136406 VisualBehaviorTask1B ['d_prime_peak', 'validate_licks']\n",
      "1037738585 VisualBehaviorDevelopment ['nb_dropped_eye_tracking_frames', 'd_prime_peak']\n",
      "1047532081 VisualBehavior ['d_prime_peak']\n",
      "1062721068 VisualBehavior ['d_prime_peak']\n",
      "1061660974 VisualBehavior ['d_prime_peak']\n",
      "1038767654 VisualBehaviorMultiscope4areasx2d ['d_prime_peak', 'validate_licks', 'z_drift_corr_um_diff', 'z_drift_corr_um_diff']\n",
      "1040318845 VisualBehaviorMultiscope4areasx2d ['d_prime_peak', 'validate_licks', 'z_drift_corr_um_diff']\n",
      "1042249629 VisualBehavior ['d_prime_peak']\n",
      "1042749509 VisualBehavior ['d_prime_peak']\n",
      "1043044289 VisualBehavior ['d_prime_peak']\n",
      "1044388517 VisualBehavior ['d_prime_peak']\n",
      "1046902203 VisualBehavior ['d_prime_peak']\n",
      "1049740675 VisualBehaviorMultiscope ['percent_change_intensity', 'percent_change_intensity', 'percent_change_intensity', 'percent_change_intensity', 'd_prime_peak', 'z_drift_corr_um_diff', 'z_drift_corr_um_diff']\n",
      "1050957017 VisualBehavior ['d_prime_peak']\n",
      "1062265645 VisualBehavior ['d_prime_peak']\n",
      "1062498732 VisualBehavior ['d_prime_peak']\n",
      "1065384473 VisualBehavior ['d_prime_peak', 'num_contingent_trials']\n",
      "1070970140 VisualBehavior ['d_prime_peak']\n",
      "1072492545 VisualBehaviorMultiscope ['d_prime_peak', 'z_drift_corr_um_diff', 'z_drift_corr_um_diff']\n",
      "1076027329 VisualBehavior ['d_prime_peak']\n",
      "1076255914 VisualBehavior ['d_prime_peak']\n"
     ]
    }
   ],
   "source": [
    "from visual_behavior import database as db\n",
    "\n",
    "mouseseeks = db.Database('mouseseeks')\n",
    "documents = list(mouseseeks['db']['ophys_session_log'].find({'failure_tags':{\"$in\":['d_prime_peak']}}))\n",
    "print(len(documents))\n",
    "for document in documents:\n",
    "    print(document['id'], document['project_code'], document['failure_tags'])"
   ]
  },
  {
   "cell_type": "code",
   "execution_count": 8,
   "metadata": {},
   "outputs": [
    {
     "data": {
      "text/plain": [
       "dict_keys(['_id', 'id', 'isi_experiment', 'name', 'workflow_state', 'specimen_id', 'date_of_acquisition', 'depth', 'project_code', 'area', 'storage_directory', 'ophys_parent_session', 'operator', 'rig', 'ophys_experiments', 'external_specimen_name', 'genotype', 'qc_status', 'failure_tags', 'flags', 'overrides', 'qc_reports'])"
      ]
     },
     "execution_count": 8,
     "metadata": {},
     "output_type": "execute_result"
    }
   ],
   "source": [
    "document.keys()"
   ]
  },
  {
   "cell_type": "code",
   "execution_count": 12,
   "metadata": {},
   "outputs": [
    {
     "name": "stdout",
     "output_type": "stream",
     "text": [
      "29\n",
      "827300748 ['percent_change_intensity', 'validate_omitted_flashes_are_omitted']\n",
      "828477392 ['validate_omitted_flashes_are_omitted', 'z_drift_corr_um_diff']\n",
      "828475651 ['percent_change_intensity', 'epilepsy_probability', 'validate_omitted_flashes_are_omitted']\n",
      "829031829 ['percent_change_intensity', 'validate_omitted_flashes_are_omitted']\n",
      "829521907 ['nb_dropped_visual_stim_events', 'validate_omitted_flashes_are_omitted']\n",
      "830761822 ['validate_omitted_flashes_are_omitted']\n",
      "831761261 ['validate_omitted_flashes_are_omitted']\n",
      "834887125 ['validate_omitted_flashes_are_omitted']\n",
      "834529759 ['percent_change_intensity', 'validate_omitted_flashes_are_omitted', 'z_drift_corr_um_diff']\n",
      "831026144 ['validate_omitted_flashes_are_omitted']\n",
      "834399411 ['percent_change_intensity', 'validate_omitted_flashes_are_omitted', 'z_drift_corr_um_diff']\n",
      "835800413 ['percent_change_intensity', 'validate_omitted_flashes_are_omitted', 'z_drift_corr_um_diff']\n",
      "835438317 ['validate_omitted_flashes_are_omitted', 'z_drift_corr_um_diff']\n",
      "836322848 ['nb_dropped_physio_frames', 'validate_omitted_flashes_are_omitted']\n",
      "851426367 ['validate_omitted_flashes_are_omitted']\n",
      "852037070 ['validate_omitted_flashes_are_omitted', 'z_drift_corr_um_diff']\n",
      "866903662 ['validate_omitted_flashes_are_omitted', 'z_drift_corr_um_diff']\n",
      "889882011 ['percent_change_intensity', 'validate_omitted_flashes_are_omitted', 'z_drift_corr_um_diff']\n",
      "917151972 ['num_contingent_trials', 'validate_omitted_flashes_are_omitted']\n",
      "938094182 ['validate_omitted_flashes_are_omitted']\n",
      "947174352 ['d_prime_peak', 'validate_omitted_flashes_are_omitted']\n",
      "961787616 ['d_prime_peak', 'validate_omitted_flashes_are_omitted']\n",
      "960749169 ['d_prime_peak', 'validate_omitted_flashes_are_omitted']\n",
      "973776534 ['validate_omitted_flashes_are_omitted']\n",
      "974888112 ['d_prime_peak', 'validate_omitted_flashes_are_omitted']\n",
      "1006185116 ['d_prime_peak', 'validate_omitted_flashes_are_omitted']\n",
      "1010897308 ['validate_omitted_flashes_are_omitted']\n",
      "1010696303 ['percent_change_intensity', 'd_prime_peak', 'validate_omitted_flashes_are_omitted']\n",
      "897687788 ['validate_omitted_flashes_are_omitted']\n"
     ]
    }
   ],
   "source": [
    "\n",
    "from visual_behavior import database as db\n",
    "\n",
    "mouseseeks = db.Database('mouseseeks')\n",
    "documents = list(mouseseeks['db']['ophys_session_log'].find({'failure_tags':{\"$in\":['validate_omitted_flashes_are_omitted']}}))\n",
    "print(len(documents))\n",
    "for document in documents:\n",
    "    print(document['id'], document['failure_tags'])"
   ]
  },
  {
   "cell_type": "code",
   "execution_count": null,
   "metadata": {},
   "outputs": [],
   "source": []
  }
 ],
 "metadata": {
  "kernelspec": {
   "display_name": "vba",
   "language": "python",
   "name": "vba"
  },
  "language_info": {
   "codemirror_mode": {
    "name": "ipython",
    "version": 3
   },
   "file_extension": ".py",
   "mimetype": "text/x-python",
   "name": "python",
   "nbconvert_exporter": "python",
   "pygments_lexer": "ipython3",
   "version": "3.7.9"
  }
 },
 "nbformat": 4,
 "nbformat_minor": 4
}
