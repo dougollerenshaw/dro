{
 "cells": [
  {
   "cell_type": "code",
   "execution_count": 1,
   "metadata": {},
   "outputs": [],
   "source": [
    "from matplotlib import animation, rc\n",
    "import matplotlib.pyplot as plt\n",
    "plt.style.use('dark_background')\n",
    "\n",
    "# note that ffmpeg must be installed on your system\n",
    "# this is tested on linux (not sure if it works on windows)\n",
    "mpl.rcParams['animation.ffmpeg_path'] = '/usr/local/bin/ffmpeg'\n",
    "plt.rcParams['animation.ffmpeg_path'] = '/usr/local/bin/ffmpeg'"
   ]
  },
  {
   "cell_type": "markdown",
   "metadata": {},
   "source": [
    "## define a function to make a figure\n",
    "the animation works by updating this on every frame"
   ]
  },
  {
   "cell_type": "code",
   "execution_count": 2,
   "metadata": {},
   "outputs": [],
   "source": [
    "def make_figure(t_now, t, y, ax, t_before=0.25, t_after=0.25):\n",
    "    '''\n",
    "    function to plot on an an axis\n",
    "    inputs:\n",
    "        t_now: current time\n",
    "        t: time array\n",
    "        y: array of y values\n",
    "        ax: axis to plot on\n",
    "        t_before: time before current time to show\n",
    "        t_after: time after current time to show\n",
    "    '''\n",
    "    ax.plot(t,y,color='lightpink',linewidth=3)\n",
    "    ax.set_xlim(t_now - t_before, t_now + t_before)\n",
    "    ax.set_xlabel('time',color='white')\n",
    "    ax.set_ylabel('some value',color='white')\n",
    "    ax.set_title('current time = {:0.2f}'.format(t_now),color='red')"
   ]
  },
  {
   "cell_type": "markdown",
   "metadata": {},
   "source": [
    "## define an update function\n",
    "The animation function calls this on every frame. It subsequently calls the make_figure function"
   ]
  },
  {
   "cell_type": "code",
   "execution_count": 3,
   "metadata": {},
   "outputs": [],
   "source": [
    "def update(frame_number):\n",
    "    '''\n",
    "    method to update figure\n",
    "    animation class will call this\n",
    "    \n",
    "    the print statement is there to help track progress\n",
    "    '''\n",
    "    t_now = t[frame_number]\n",
    "    make_figure(t_now, t, y, ax)\n",
    "    print('on frame {} of {}'.format(frame_number+1,len(t)), end='\\r')"
   ]
  },
  {
   "cell_type": "markdown",
   "metadata": {},
   "source": [
    "## set up t and y, define the writer"
   ]
  },
  {
   "cell_type": "code",
   "execution_count": 4,
   "metadata": {},
   "outputs": [],
   "source": [
    "t = np.arange(0,1,0.001)\n",
    "y = np.sin(20*np.pi*t) + np.cos(30*np.pi*t)\n",
    "\n",
    "fps = 10\n",
    "writer = animation.FFMpegFileWriter(\n",
    "    fps=fps,\n",
    "    codec='mpeg4',\n",
    "    bitrate=-1,\n",
    "    extra_args=['-pix_fmt', 'yuv420p', '-q:v', '5']\n",
    ")"
   ]
  },
  {
   "cell_type": "markdown",
   "metadata": {},
   "source": [
    "## make the figure, set up the animation, save it\n",
    "it will write all of the frames to the current folder, then stitch them into a movie once done  \n",
    "~30 seconds on my machine for this example"
   ]
  },
  {
   "cell_type": "code",
   "execution_count": 8,
   "metadata": {},
   "outputs": [
    {
     "name": "stdout",
     "output_type": "stream",
     "text": [
      "on frame 1 of 100000\r"
     ]
    },
    {
     "data": {
      "image/png": "[encoded data removed]",
      "text/plain": [
       "<Figure size 792x612 with 1 Axes>"
      ]
     },
     "metadata": {
      "needs_background": "dark"
     },
     "output_type": "display_data"
    }
   ],
   "source": [
    "fig, ax = plt.subplots(figsize=(11, 8.5))\n",
    "\n",
    "frames = np.arange(0,len(t),10) #subsample by a factor of 10\n",
    "\n",
    "a = animation.FuncAnimation(\n",
    "    fig,\n",
    "    update,\n",
    "    frames=frames,\n",
    "    interval=1/fps*1000,\n",
    "    repeat=False,\n",
    "    blit=False\n",
    ")\n",
    "\n",
    "save_folder = '/home/dougo/dropbox/share'\n",
    "a.save(\n",
    "    os.path.join(save_folder, 'test_output_movie.mp4'),\n",
    "    writer=writer\n",
    ")"
   ]
  },
  {
   "cell_type": "code",
   "execution_count": null,
   "metadata": {},
   "outputs": [],
   "source": []
  },
  {
   "cell_type": "code",
   "execution_count": null,
   "metadata": {},
   "outputs": [],
   "source": []
  }
 ],
 "metadata": {
  "kernelspec": {
   "display_name": "visual_behavior",
   "language": "python",
   "name": "visual_behavior"
  },
  "language_info": {
   "codemirror_mode": {
    "name": "ipython",
    "version": 3
   },
   "file_extension": ".py",
   "mimetype": "text/x-python",
   "name": "python",
   "nbconvert_exporter": "python",
   "pygments_lexer": "ipython3",
   "version": "3.7.3"
  }
 },
 "nbformat": 4,
 "nbformat_minor": 2
}
