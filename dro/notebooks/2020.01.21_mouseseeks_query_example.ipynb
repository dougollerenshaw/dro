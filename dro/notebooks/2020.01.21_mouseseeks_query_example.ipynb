{
 "cells": [
  {
   "cell_type": "code",
   "execution_count": 1,
   "metadata": {},
   "outputs": [],
   "source": [
    "from visual_behavior import database as db"
   ]
  },
  {
   "cell_type": "markdown",
   "metadata": {},
   "source": [
    "## connect to mouseseeks"
   ]
  },
  {
   "cell_type": "code",
   "execution_count": 2,
   "metadata": {},
   "outputs": [],
   "source": [
    "mouseseeks = db.Database('mouseseeks')"
   ]
  },
  {
   "cell_type": "markdown",
   "metadata": {},
   "source": [
    "## view methods on mouseseeks server"
   ]
  },
  {
   "cell_type": "code",
   "execution_count": 3,
   "metadata": {},
   "outputs": [
    {
     "data": {
      "text/plain": [
       "['__class__',\n",
       " '__delattr__',\n",
       " '__dict__',\n",
       " '__dir__',\n",
       " '__doc__',\n",
       " '__eq__',\n",
       " '__format__',\n",
       " '__ge__',\n",
       " '__getattribute__',\n",
       " '__getitem__',\n",
       " '__gt__',\n",
       " '__hash__',\n",
       " '__init__',\n",
       " '__init_subclass__',\n",
       " '__le__',\n",
       " '__lt__',\n",
       " '__module__',\n",
       " '__ne__',\n",
       " '__new__',\n",
       " '__reduce__',\n",
       " '__reduce_ex__',\n",
       " '__repr__',\n",
       " '__setattr__',\n",
       " '__sizeof__',\n",
       " '__str__',\n",
       " '__subclasshook__',\n",
       " '__weakref__',\n",
       " '_db_names',\n",
       " 'client',\n",
       " 'close',\n",
       " 'database',\n",
       " 'database_names',\n",
       " 'db',\n",
       " 'dev',\n",
       " 'local',\n",
       " 'qc',\n",
       " 'query']"
      ]
     },
     "execution_count": 3,
     "metadata": {},
     "output_type": "execute_result"
    }
   ],
   "source": [
    "dir(mouseseeks)"
   ]
  },
  {
   "cell_type": "markdown",
   "metadata": {},
   "source": [
    "## get database names"
   ]
  },
  {
   "cell_type": "code",
   "execution_count": 4,
   "metadata": {},
   "outputs": [
    {
     "data": {
      "text/plain": [
       "['db', 'dev', 'qc', 'local']"
      ]
     },
     "execution_count": 4,
     "metadata": {},
     "output_type": "execute_result"
    }
   ],
   "source": [
    "mouseseeks.database_names"
   ]
  },
  {
   "cell_type": "markdown",
   "metadata": {},
   "source": [
    "## look at methods on the 'qc' database"
   ]
  },
  {
   "cell_type": "code",
   "execution_count": 5,
   "metadata": {
    "scrolled": true
   },
   "outputs": [
    {
     "data": {
      "text/plain": [
       "['_BaseObject__codec_options',\n",
       " '_BaseObject__read_concern',\n",
       " '_BaseObject__read_preference',\n",
       " '_BaseObject__write_concern',\n",
       " '_Database__client',\n",
       " '_Database__incoming_copying_manipulators',\n",
       " '_Database__incoming_manipulators',\n",
       " '_Database__name',\n",
       " '_Database__outgoing_copying_manipulators',\n",
       " '_Database__outgoing_manipulators',\n",
       " '__call__',\n",
       " '__class__',\n",
       " '__delattr__',\n",
       " '__dict__',\n",
       " '__dir__',\n",
       " '__doc__',\n",
       " '__eq__',\n",
       " '__format__',\n",
       " '__ge__',\n",
       " '__getattr__',\n",
       " '__getattribute__',\n",
       " '__getitem__',\n",
       " '__gt__',\n",
       " '__hash__',\n",
       " '__init__',\n",
       " '__init_subclass__',\n",
       " '__iter__',\n",
       " '__le__',\n",
       " '__lt__',\n",
       " '__module__',\n",
       " '__ne__',\n",
       " '__new__',\n",
       " '__next__',\n",
       " '__reduce__',\n",
       " '__reduce_ex__',\n",
       " '__repr__',\n",
       " '__setattr__',\n",
       " '__sizeof__',\n",
       " '__str__',\n",
       " '__subclasshook__',\n",
       " '__weakref__',\n",
       " '_apply_incoming_copying_manipulators',\n",
       " '_apply_incoming_manipulators',\n",
       " '_command',\n",
       " '_create_or_update_user',\n",
       " '_current_op',\n",
       " '_default_role',\n",
       " '_fix_incoming',\n",
       " '_fix_outgoing',\n",
       " '_list_collections',\n",
       " '_read_preference_for',\n",
       " '_retryable_read_command',\n",
       " '_write_concern_for',\n",
       " 'add_son_manipulator',\n",
       " 'add_user',\n",
       " 'aggregate',\n",
       " 'authenticate',\n",
       " 'client',\n",
       " 'codec_options',\n",
       " 'collection_names',\n",
       " 'command',\n",
       " 'create_collection',\n",
       " 'current_op',\n",
       " 'dereference',\n",
       " 'drop_collection',\n",
       " 'error',\n",
       " 'eval',\n",
       " 'get_collection',\n",
       " 'incoming_copying_manipulators',\n",
       " 'incoming_manipulators',\n",
       " 'last_status',\n",
       " 'list_collection_names',\n",
       " 'list_collections',\n",
       " 'logout',\n",
       " 'name',\n",
       " 'next',\n",
       " 'outgoing_copying_manipulators',\n",
       " 'outgoing_manipulators',\n",
       " 'previous_error',\n",
       " 'profiling_info',\n",
       " 'profiling_level',\n",
       " 'read_concern',\n",
       " 'read_preference',\n",
       " 'remove_user',\n",
       " 'reset_error_history',\n",
       " 'set_profiling_level',\n",
       " 'system_js',\n",
       " 'validate_collection',\n",
       " 'watch',\n",
       " 'with_options',\n",
       " 'write_concern']"
      ]
     },
     "execution_count": 5,
     "metadata": {},
     "output_type": "execute_result"
    }
   ],
   "source": [
    "dir(mouseseeks['qc'])"
   ]
  },
  {
   "cell_type": "code",
   "execution_count": 6,
   "metadata": {},
   "outputs": [
    {
     "data": {
      "text/plain": [
       "['images', 'metrics', 'project_sets', 'reports', 'system.indexes']"
      ]
     },
     "execution_count": 6,
     "metadata": {},
     "output_type": "execute_result"
    }
   ],
   "source": [
    "mouseseeks['qc'].list_collection_names()"
   ]
  },
  {
   "cell_type": "markdown",
   "metadata": {},
   "source": [
    "## look at methods on the 'metrics' collection in the 'qc' database"
   ]
  },
  {
   "cell_type": "code",
   "execution_count": 7,
   "metadata": {},
   "outputs": [
    {
     "data": {
      "text/plain": [
       "['_BaseObject__codec_options',\n",
       " '_BaseObject__read_concern',\n",
       " '_BaseObject__read_preference',\n",
       " '_BaseObject__write_concern',\n",
       " '_Collection__create',\n",
       " '_Collection__create_index',\n",
       " '_Collection__database',\n",
       " '_Collection__find_and_modify',\n",
       " '_Collection__full_name',\n",
       " '_Collection__name',\n",
       " '_Collection__write_response_codec_options',\n",
       " '__call__',\n",
       " '__class__',\n",
       " '__delattr__',\n",
       " '__dict__',\n",
       " '__dir__',\n",
       " '__doc__',\n",
       " '__eq__',\n",
       " '__format__',\n",
       " '__ge__',\n",
       " '__getattr__',\n",
       " '__getattribute__',\n",
       " '__getitem__',\n",
       " '__gt__',\n",
       " '__hash__',\n",
       " '__init__',\n",
       " '__init_subclass__',\n",
       " '__iter__',\n",
       " '__le__',\n",
       " '__lt__',\n",
       " '__module__',\n",
       " '__ne__',\n",
       " '__new__',\n",
       " '__next__',\n",
       " '__reduce__',\n",
       " '__reduce_ex__',\n",
       " '__repr__',\n",
       " '__setattr__',\n",
       " '__sizeof__',\n",
       " '__str__',\n",
       " '__subclasshook__',\n",
       " '__weakref__',\n",
       " '_aggregate',\n",
       " '_aggregate_one_result',\n",
       " '_command',\n",
       " '_count',\n",
       " '_delete',\n",
       " '_delete_retryable',\n",
       " '_insert',\n",
       " '_insert_one',\n",
       " '_legacy_write',\n",
       " '_map_reduce',\n",
       " '_read_preference_for',\n",
       " '_socket_for_reads',\n",
       " '_socket_for_writes',\n",
       " '_update',\n",
       " '_update_retryable',\n",
       " '_write_concern_for',\n",
       " '_write_concern_for_cmd',\n",
       " 'aggregate',\n",
       " 'aggregate_raw_batches',\n",
       " 'bulk_write',\n",
       " 'codec_options',\n",
       " 'count',\n",
       " 'count_documents',\n",
       " 'create_index',\n",
       " 'create_indexes',\n",
       " 'database',\n",
       " 'delete_many',\n",
       " 'delete_one',\n",
       " 'distinct',\n",
       " 'drop',\n",
       " 'drop_index',\n",
       " 'drop_indexes',\n",
       " 'ensure_index',\n",
       " 'estimated_document_count',\n",
       " 'find',\n",
       " 'find_and_modify',\n",
       " 'find_one',\n",
       " 'find_one_and_delete',\n",
       " 'find_one_and_replace',\n",
       " 'find_one_and_update',\n",
       " 'find_raw_batches',\n",
       " 'full_name',\n",
       " 'group',\n",
       " 'index_information',\n",
       " 'initialize_ordered_bulk_op',\n",
       " 'initialize_unordered_bulk_op',\n",
       " 'inline_map_reduce',\n",
       " 'insert',\n",
       " 'insert_many',\n",
       " 'insert_one',\n",
       " 'list_indexes',\n",
       " 'map_reduce',\n",
       " 'name',\n",
       " 'next',\n",
       " 'options',\n",
       " 'parallel_scan',\n",
       " 'read_concern',\n",
       " 'read_preference',\n",
       " 'reindex',\n",
       " 'remove',\n",
       " 'rename',\n",
       " 'replace_one',\n",
       " 'save',\n",
       " 'update',\n",
       " 'update_many',\n",
       " 'update_one',\n",
       " 'watch',\n",
       " 'with_options',\n",
       " 'write_concern']"
      ]
     },
     "execution_count": 7,
     "metadata": {},
     "output_type": "execute_result"
    }
   ],
   "source": [
    "dir(mouseseeks['qc']['metrics'])"
   ]
  },
  {
   "cell_type": "markdown",
   "metadata": {},
   "source": [
    "## convert an ophys experiment ID to an ophys session ID"
   ]
  },
  {
   "cell_type": "code",
   "execution_count": 8,
   "metadata": {},
   "outputs": [],
   "source": [
    "ophys_experiment_id = 644942849\n",
    "osid = db.convert_id({'ophys_experiment_id':ophys_experiment_id},'ophys_session_id')"
   ]
  },
  {
   "cell_type": "markdown",
   "metadata": {},
   "source": [
    "## get a document associated with a given ophys session ID"
   ]
  },
  {
   "cell_type": "code",
   "execution_count": 9,
   "metadata": {},
   "outputs": [
    {
     "data": {
      "text/plain": [
       "{'_id': ObjectId('5a20683baef80dfca255a3a4'),\n",
       " 'lims_id': 644919226,\n",
       " 'lims_ophys_session': {'id': 644919226,\n",
       "  'name': '20171024_329071_sessionA',\n",
       "  'storage_directory': '\\\\\\\\allen\\\\programs\\\\braintv\\\\production\\\\neuralcoding\\\\prod0\\\\specimen_596175193\\\\ophys_session_644919226\\\\',\n",
       "  'external_specimen_name': '329071',\n",
       "  'genotype': 'Vip-IRES-Cre;Ai148',\n",
       "  'date_of_acquisition': datetime.datetime(2017, 10, 24, 17, 32, 52),\n",
       "  'operator': 'joshl',\n",
       "  'rig': 'CAM2P.6',\n",
       "  'parent_session_id': None,\n",
       "  'workflow_state': 'uploaded',\n",
       "  'project': 'VisualBehaviorDevelopment',\n",
       "  'stimulus_name': None,\n",
       "  'isi_experiment_id': 601259485,\n",
       "  'ophys_experiment_ids': [644942849],\n",
       "  'vasculature_image': '644919226_329071_20171024103315_vasculature_downsampled.tif',\n",
       "  'vasculature_image_id': 644942921},\n",
       " 'behavior_video': {'percentile_upper': 85.0,\n",
       "  'percentile_lower': 3.0,\n",
       "  'video_mean': 35.98257940467429},\n",
       " 'behavior_video_meta': {'shape': [110316, 640, 480],\n",
       "  'filename_on_rig': 'C:/videomon/data/644919226_329071_20171024103315_video-0.avi'},\n",
       " 'eye_tracking_video': {'percentile_upper': 157.0,\n",
       "  'percentile_lower': 17.0,\n",
       "  'video_mean': 82.96544552125792},\n",
       " 'eye_tracking_video_meta': {'shape': [110362, 640, 480],\n",
       "  'filename_on_rig': 'C:/videomon/data/644919226_329071_20171024103315_video-1.avi'},\n",
       " 'stimulus_pickle': {'nb_wheel_artifacts': 3263},\n",
       " 'rig_sync': {'mean_physio_period_s': 0.03228867821494114,\n",
       "  'physio_duration_min': 60.11344666666667,\n",
       "  'nb_dropped_visual_stim_events': 8,\n",
       "  'behavior_duration_min': 61.306357500000004,\n",
       "  'display_lag': 1.079728325917686,\n",
       "  'nb_dropped_photodiode_events': 2,\n",
       "  'eye_tracking_duration_min': 61.31192566666666,\n",
       "  'max_physio_period_s': 0.1334500000002663,\n",
       "  'visual_stim_duration_min': 59.999024166666665,\n",
       "  'nb_dropped_behavior_frames': 55,\n",
       "  'mean_eye_tracking_period_s': 0.033323811654724485,\n",
       "  'nb_dropped_eye_tracking_events': 1,\n",
       "  'nb_dropped_eye_tracking_frames': 32,\n",
       "  'nb_dropped_behavior_events': 5,\n",
       "  'nb_dropped_physio_frames': 34,\n",
       "  'mean_behavior_period_s': 0.03332772900244632,\n",
       "  'nb_dropped_physio_events': 1,\n",
       "  'mean_visual_stim_period_s': 0.016683851854254913},\n",
       " 'change_detection': {'validate_autoreward_volume': False,\n",
       "  'validate_number_of_warmup_trials': False,\n",
       "  'validate_reward_delivery_on_warmup_trials': True,\n",
       "  'validate_autorewards_after_N_consecutive_misses': False,\n",
       "  'validate_change_on_all_go_trials': True,\n",
       "  'validate_no_change_on_all_catch_trials': True,\n",
       "  'validate_intial_and_final_in_non_aborted': True,\n",
       "  'validate_min_change_time': True,\n",
       "  'validate_max_change_time': True,\n",
       "  'validate_reward_when_lick_in_window': True,\n",
       "  'validate_licks_near_every_reward': True,\n",
       "  'validate_never_more_than_one_reward': True,\n",
       "  'validate_lick_after_scheduled_on_go_catch_trials': False,\n",
       "  'validate_initial_matches_final': True,\n",
       "  'validate_first_lick_after_change_on_nonaborted': False,\n",
       "  'validate_trial_ends_without_licks': False,\n",
       "  'validate_session_within_expected_duration': True,\n",
       "  'validate_session_ends_at_max_cumulative_volume': True,\n",
       "  'validate_duration_and_volume_limit': True,\n",
       "  'validate_catch_frequency': True,\n",
       "  'validate_stage_present': True,\n",
       "  'validate_task_id_present': True,\n",
       "  'validate_number_aborted_trial_repeats': False,\n",
       "  'validate_params_change_after_aborted_trial_repeats': True,\n",
       "  'validate_ignore_false_alarms': True,\n",
       "  'validate_trial_times_never_overlap': True,\n",
       "  'validate_stimulus_distribution_key': True,\n",
       "  'validate_change_time_mean': True,\n",
       "  'validate_no_abort_on_lick_before_response_window': True,\n",
       "  'validate_licks_on_go_trials_earn_reward': True,\n",
       "  'validate_licks_on_catch_trials_do_not_earn_reward': True,\n",
       "  'validate_even_sampling': True,\n",
       "  'validate_two_stimuli_per_go_trial': True,\n",
       "  'validate_one_stimulus_per_catch_trial': True,\n",
       "  'validate_one_stimulus_per_aborted_trial': True,\n",
       "  'validate_change_frame_at_flash_onset': False,\n",
       "  'validate_initial_blank': True,\n",
       "  'validate_new_params_on_nonaborted_trials': False,\n",
       "  'validate_flash_blank_durations': True,\n",
       "  'validate_lick_before_scheduled_on_aborted_trials': True,\n",
       "  'validate_running_data': True,\n",
       "  'validate_licks': True,\n",
       "  'validate_minimal_dropped_frames': True,\n",
       "  'visual_behavior_global_software_test': False,\n",
       "  'nb_wheel_artifacts': 0,\n",
       "  'total_reward_number': 114,\n",
       "  'total_reward_volume': 0.754,\n",
       "  'autorewards_without_lick': 3,\n",
       "  'aborted_trial_perc': 49.78479196556671,\n",
       "  'total_trial_number': 697,\n",
       "  'nb_dropped_visual_stim_events': 8,\n",
       "  'visual_stim_duration_min': 59.99992906239349,\n",
       "  'mean_visual_stim_period_s': 0.016684567423082244}}"
      ]
     },
     "execution_count": 9,
     "metadata": {},
     "output_type": "execute_result"
    }
   ],
   "source": [
    "document = mouseseeks['qc']['metrics'].find_one({'lims_id':osid})\n",
    "document"
   ]
  },
  {
   "cell_type": "markdown",
   "metadata": {},
   "source": [
    "## get the dropped stim events record"
   ]
  },
  {
   "cell_type": "code",
   "execution_count": 10,
   "metadata": {},
   "outputs": [
    {
     "data": {
      "text/plain": [
       "8"
      ]
     },
     "execution_count": 10,
     "metadata": {},
     "output_type": "execute_result"
    }
   ],
   "source": [
    "document['rig_sync']['nb_dropped_visual_stim_events']"
   ]
  },
  {
   "cell_type": "code",
   "execution_count": 12,
   "metadata": {},
   "outputs": [
    {
     "data": {
      "text/plain": [
       "0    {'mean_physio_period_s': 0.03228867821494114, ...\n",
       "Name: rig_sync, dtype: object"
      ]
     },
     "execution_count": 12,
     "metadata": {},
     "output_type": "execute_result"
    }
   ],
   "source": [
    "mouseseeks.query('qc','metrics',{'lims_id':osid})['rig_sync']"
   ]
  },
  {
   "cell_type": "markdown",
   "metadata": {},
   "source": [
    "## close the connection when done"
   ]
  },
  {
   "cell_type": "code",
   "execution_count": 4,
   "metadata": {},
   "outputs": [],
   "source": [
    "mouseseeks.close()"
   ]
  },
  {
   "cell_type": "code",
   "execution_count": null,
   "metadata": {},
   "outputs": [],
   "source": []
  }
 ],
 "metadata": {
  "kernelspec": {
   "display_name": "visual_behavior",
   "language": "python",
   "name": "visual_behavior"
  },
  "language_info": {
   "codemirror_mode": {
    "name": "ipython",
    "version": 3
   },
   "file_extension": ".py",
   "mimetype": "text/x-python",
   "name": "python",
   "nbconvert_exporter": "python",
   "pygments_lexer": "ipython3",
   "version": "3.7.3"
  }
 },
 "nbformat": 4,
 "nbformat_minor": 2
}
