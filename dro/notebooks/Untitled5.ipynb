{
 "cells": [
  {
   "cell_type": "code",
   "execution_count": 4,
   "metadata": {},
   "outputs": [
    {
     "data": {
      "application/vnd.plotly.v1+json": {
       "config": {
        "plotlyServerURL": "https://plot.ly"
       },
       "data": [
        {
         "type": "scatter",
         "x": [
          1,
          2,
          3
         ],
         "xaxis": "x",
         "y": [
          4,
          5,
          6
         ],
         "yaxis": "y"
        },
        {
         "type": "scatter",
         "x": [
          20,
          30,
          40
         ],
         "xaxis": "x2",
         "y": [
          50,
          60,
          70
         ],
         "yaxis": "y2"
        }
       ],
       "layout": {
        "height": 600,
        "template": {
         "data": {
          "bar": [
           {
            "error_x": {
             "color": "#2a3f5f"
            },
            "error_y": {
             "color": "#2a3f5f"
            },
            "marker": {
             "line": {
              "color": "#E5ECF6",
              "width": 0.5
             }
            },
            "type": "bar"
           }
          ],
          "barpolar": [
           {
            "marker": {
             "line": {
              "color": "#E5ECF6",
              "width": 0.5
             }
            },
            "type": "barpolar"
           }
          ],
          "carpet": [
           {
            "aaxis": {
             "endlinecolor": "#2a3f5f",
             "gridcolor": "white",
             "linecolor": "white",
             "minorgridcolor": "white",
             "startlinecolor": "#2a3f5f"
            },
            "baxis": {
             "endlinecolor": "#2a3f5f",
             "gridcolor": "white",
             "linecolor": "white",
             "minorgridcolor": "white",
             "startlinecolor": "#2a3f5f"
            },
            "type": "carpet"
           }
          ],
          "choropleth": [
           {
            "colorbar": {
             "outlinewidth": 0,
             "ticks": ""
            },
            "type": "choropleth"
           }
          ],
          "contour": [
           {
            "colorbar": {
             "outlinewidth": 0,
             "ticks": ""
            },
            "colorscale": [
             [
              0,
              "#0d0887"
             ],
             [
              0.1111111111111111,
              "#46039f"
             ],
             [
              0.2222222222222222,
              "#7201a8"
             ],
             [
              0.3333333333333333,
              "#9c179e"
             ],
             [
              0.4444444444444444,
              "#bd3786"
             ],
             [
              0.5555555555555556,
              "#d8576b"
             ],
             [
              0.6666666666666666,
              "#ed7953"
             ],
             [
              0.7777777777777778,
              "#fb9f3a"
             ],
             [
              0.8888888888888888,
              "#fdca26"
             ],
             [
              1,
              "#f0f921"
             ]
            ],
            "type": "contour"
           }
          ],
          "contourcarpet": [
           {
            "colorbar": {
             "outlinewidth": 0,
             "ticks": ""
            },
            "type": "contourcarpet"
           }
          ],
          "heatmap": [
           {
            "colorbar": {
             "outlinewidth": 0,
             "ticks": ""
            },
            "colorscale": [
             [
              0,
              "#0d0887"
             ],
             [
              0.1111111111111111,
              "#46039f"
             ],
             [
              0.2222222222222222,
              "#7201a8"
             ],
             [
              0.3333333333333333,
              "#9c179e"
             ],
             [
              0.4444444444444444,
              "#bd3786"
             ],
             [
              0.5555555555555556,
              "#d8576b"
             ],
             [
              0.6666666666666666,
              "#ed7953"
             ],
             [
              0.7777777777777778,
              "#fb9f3a"
             ],
             [
              0.8888888888888888,
              "#fdca26"
             ],
             [
              1,
              "#f0f921"
             ]
            ],
            "type": "heatmap"
           }
          ],
          "heatmapgl": [
           {
            "colorbar": {
             "outlinewidth": 0,
             "ticks": ""
            },
            "colorscale": [
             [
              0,
              "#0d0887"
             ],
             [
              0.1111111111111111,
              "#46039f"
             ],
             [
              0.2222222222222222,
              "#7201a8"
             ],
             [
              0.3333333333333333,
              "#9c179e"
             ],
             [
              0.4444444444444444,
              "#bd3786"
             ],
             [
              0.5555555555555556,
              "#d8576b"
             ],
             [
              0.6666666666666666,
              "#ed7953"
             ],
             [
              0.7777777777777778,
              "#fb9f3a"
             ],
             [
              0.8888888888888888,
              "#fdca26"
             ],
             [
              1,
              "#f0f921"
             ]
            ],
            "type": "heatmapgl"
           }
          ],
          "histogram": [
           {
            "marker": {
             "colorbar": {
              "outlinewidth": 0,
              "ticks": ""
             }
            },
            "type": "histogram"
           }
          ],
          "histogram2d": [
           {
            "colorbar": {
             "outlinewidth": 0,
             "ticks": ""
            },
            "colorscale": [
             [
              0,
              "#0d0887"
             ],
             [
              0.1111111111111111,
              "#46039f"
             ],
             [
              0.2222222222222222,
              "#7201a8"
             ],
             [
              0.3333333333333333,
              "#9c179e"
             ],
             [
              0.4444444444444444,
              "#bd3786"
             ],
             [
              0.5555555555555556,
              "#d8576b"
             ],
             [
              0.6666666666666666,
              "#ed7953"
             ],
             [
              0.7777777777777778,
              "#fb9f3a"
             ],
             [
              0.8888888888888888,
              "#fdca26"
             ],
             [
              1,
              "#f0f921"
             ]
            ],
            "type": "histogram2d"
           }
          ],
          "histogram2dcontour": [
           {
            "colorbar": {
             "outlinewidth": 0,
             "ticks": ""
            },
            "colorscale": [
             [
              0,
              "#0d0887"
             ],
             [
              0.1111111111111111,
              "#46039f"
             ],
             [
              0.2222222222222222,
              "#7201a8"
             ],
             [
              0.3333333333333333,
              "#9c179e"
             ],
             [
              0.4444444444444444,
              "#bd3786"
             ],
             [
              0.5555555555555556,
              "#d8576b"
             ],
             [
              0.6666666666666666,
              "#ed7953"
             ],
             [
              0.7777777777777778,
              "#fb9f3a"
             ],
             [
              0.8888888888888888,
              "#fdca26"
             ],
             [
              1,
              "#f0f921"
             ]
            ],
            "type": "histogram2dcontour"
           }
          ],
          "mesh3d": [
           {
            "colorbar": {
             "outlinewidth": 0,
             "ticks": ""
            },
            "type": "mesh3d"
           }
          ],
          "parcoords": [
           {
            "line": {
             "colorbar": {
              "outlinewidth": 0,
              "ticks": ""
             }
            },
            "type": "parcoords"
           }
          ],
          "scatter": [
           {
            "marker": {
             "colorbar": {
              "outlinewidth": 0,
              "ticks": ""
             }
            },
            "type": "scatter"
           }
          ],
          "scatter3d": [
           {
            "line": {
             "colorbar": {
              "outlinewidth": 0,
              "ticks": ""
             }
            },
            "marker": {
             "colorbar": {
              "outlinewidth": 0,
              "ticks": ""
             }
            },
            "type": "scatter3d"
           }
          ],
          "scattercarpet": [
           {
            "marker": {
             "colorbar": {
              "outlinewidth": 0,
              "ticks": ""
             }
            },
            "type": "scattercarpet"
           }
          ],
          "scattergeo": [
           {
            "marker": {
             "colorbar": {
              "outlinewidth": 0,
              "ticks": ""
             }
            },
            "type": "scattergeo"
           }
          ],
          "scattergl": [
           {
            "marker": {
             "colorbar": {
              "outlinewidth": 0,
              "ticks": ""
             }
            },
            "type": "scattergl"
           }
          ],
          "scattermapbox": [
           {
            "marker": {
             "colorbar": {
              "outlinewidth": 0,
              "ticks": ""
             }
            },
            "type": "scattermapbox"
           }
          ],
          "scatterpolar": [
           {
            "marker": {
             "colorbar": {
              "outlinewidth": 0,
              "ticks": ""
             }
            },
            "type": "scatterpolar"
           }
          ],
          "scatterpolargl": [
           {
            "marker": {
             "colorbar": {
              "outlinewidth": 0,
              "ticks": ""
             }
            },
            "type": "scatterpolargl"
           }
          ],
          "scatterternary": [
           {
            "marker": {
             "colorbar": {
              "outlinewidth": 0,
              "ticks": ""
             }
            },
            "type": "scatterternary"
           }
          ],
          "surface": [
           {
            "colorbar": {
             "outlinewidth": 0,
             "ticks": ""
            },
            "colorscale": [
             [
              0,
              "#0d0887"
             ],
             [
              0.1111111111111111,
              "#46039f"
             ],
             [
              0.2222222222222222,
              "#7201a8"
             ],
             [
              0.3333333333333333,
              "#9c179e"
             ],
             [
              0.4444444444444444,
              "#bd3786"
             ],
             [
              0.5555555555555556,
              "#d8576b"
             ],
             [
              0.6666666666666666,
              "#ed7953"
             ],
             [
              0.7777777777777778,
              "#fb9f3a"
             ],
             [
              0.8888888888888888,
              "#fdca26"
             ],
             [
              1,
              "#f0f921"
             ]
            ],
            "type": "surface"
           }
          ],
          "table": [
           {
            "cells": {
             "fill": {
              "color": "#EBF0F8"
             },
             "line": {
              "color": "white"
             }
            },
            "header": {
             "fill": {
              "color": "#C8D4E3"
             },
             "line": {
              "color": "white"
             }
            },
            "type": "table"
           }
          ]
         },
         "layout": {
          "annotationdefaults": {
           "arrowcolor": "#2a3f5f",
           "arrowhead": 0,
           "arrowwidth": 1
          },
          "colorscale": {
           "diverging": [
            [
             0,
             "#8e0152"
            ],
            [
             0.1,
             "#c51b7d"
            ],
            [
             0.2,
             "#de77ae"
            ],
            [
             0.3,
             "#f1b6da"
            ],
            [
             0.4,
             "#fde0ef"
            ],
            [
             0.5,
             "#f7f7f7"
            ],
            [
             0.6,
             "#e6f5d0"
            ],
            [
             0.7,
             "#b8e186"
            ],
            [
             0.8,
             "#7fbc41"
            ],
            [
             0.9,
             "#4d9221"
            ],
            [
             1,
             "#276419"
            ]
           ],
           "sequential": [
            [
             0,
             "#0d0887"
            ],
            [
             0.1111111111111111,
             "#46039f"
            ],
            [
             0.2222222222222222,
             "#7201a8"
            ],
            [
             0.3333333333333333,
             "#9c179e"
            ],
            [
             0.4444444444444444,
             "#bd3786"
            ],
            [
             0.5555555555555556,
             "#d8576b"
            ],
            [
             0.6666666666666666,
             "#ed7953"
            ],
            [
             0.7777777777777778,
             "#fb9f3a"
            ],
            [
             0.8888888888888888,
             "#fdca26"
            ],
            [
             1,
             "#f0f921"
            ]
           ],
           "sequentialminus": [
            [
             0,
             "#0d0887"
            ],
            [
             0.1111111111111111,
             "#46039f"
            ],
            [
             0.2222222222222222,
             "#7201a8"
            ],
            [
             0.3333333333333333,
             "#9c179e"
            ],
            [
             0.4444444444444444,
             "#bd3786"
            ],
            [
             0.5555555555555556,
             "#d8576b"
            ],
            [
             0.6666666666666666,
             "#ed7953"
            ],
            [
             0.7777777777777778,
             "#fb9f3a"
            ],
            [
             0.8888888888888888,
             "#fdca26"
            ],
            [
             1,
             "#f0f921"
            ]
           ]
          },
          "colorway": [
           "#636efa",
           "#EF553B",
           "#00cc96",
           "#ab63fa",
           "#FFA15A",
           "#19d3f3",
           "#FF6692",
           "#B6E880",
           "#FF97FF",
           "#FECB52"
          ],
          "font": {
           "color": "#2a3f5f"
          },
          "geo": {
           "bgcolor": "white",
           "lakecolor": "white",
           "landcolor": "#E5ECF6",
           "showlakes": true,
           "showland": true,
           "subunitcolor": "white"
          },
          "hoverlabel": {
           "align": "left"
          },
          "hovermode": "closest",
          "mapbox": {
           "style": "light"
          },
          "paper_bgcolor": "white",
          "plot_bgcolor": "#E5ECF6",
          "polar": {
           "angularaxis": {
            "gridcolor": "white",
            "linecolor": "white",
            "ticks": ""
           },
           "bgcolor": "#E5ECF6",
           "radialaxis": {
            "gridcolor": "white",
            "linecolor": "white",
            "ticks": ""
           }
          },
          "scene": {
           "xaxis": {
            "backgroundcolor": "#E5ECF6",
            "gridcolor": "white",
            "gridwidth": 2,
            "linecolor": "white",
            "showbackground": true,
            "ticks": "",
            "zerolinecolor": "white"
           },
           "yaxis": {
            "backgroundcolor": "#E5ECF6",
            "gridcolor": "white",
            "gridwidth": 2,
            "linecolor": "white",
            "showbackground": true,
            "ticks": "",
            "zerolinecolor": "white"
           },
           "zaxis": {
            "backgroundcolor": "#E5ECF6",
            "gridcolor": "white",
            "gridwidth": 2,
            "linecolor": "white",
            "showbackground": true,
            "ticks": "",
            "zerolinecolor": "white"
           }
          },
          "shapedefaults": {
           "line": {
            "color": "#2a3f5f"
           }
          },
          "ternary": {
           "aaxis": {
            "gridcolor": "white",
            "linecolor": "white",
            "ticks": ""
           },
           "baxis": {
            "gridcolor": "white",
            "linecolor": "white",
            "ticks": ""
           },
           "bgcolor": "#E5ECF6",
           "caxis": {
            "gridcolor": "white",
            "linecolor": "white",
            "ticks": ""
           }
          },
          "title": {
           "x": 0.05
          },
          "xaxis": {
           "automargin": true,
           "gridcolor": "white",
           "linecolor": "white",
           "ticks": "",
           "zerolinecolor": "white",
           "zerolinewidth": 2
          },
          "yaxis": {
           "automargin": true,
           "gridcolor": "white",
           "linecolor": "white",
           "ticks": "",
           "zerolinecolor": "white",
           "zerolinewidth": 2
          }
         }
        },
        "title": {
         "text": "Subplots"
        },
        "width": 800,
        "xaxis": {
         "anchor": "y",
         "domain": [
          0,
          0.45
         ]
        },
        "xaxis2": {
         "anchor": "y2",
         "domain": [
          0.55,
          1
         ]
        },
        "yaxis": {
         "anchor": "x",
         "domain": [
          0,
          1
         ]
        },
        "yaxis2": {
         "anchor": "x2",
         "domain": [
          0,
          1
         ]
        }
       }
      },
      "text/html": [
       "<div>\n",
       "        \n",
       "        \n",
       "            <div id=\"e1faa70d-9909-42f7-b053-3db72c4dbf87\" class=\"plotly-graph-div\" style=\"height:600px; width:800px;\"></div>\n",
       "            <script type=\"text/javascript\">\n",
       "                require([\"plotly\"], function(Plotly) {\n",
       "                    window.PLOTLYENV=window.PLOTLYENV || {};\n",
       "                    \n",
       "                if (document.getElementById(\"e1faa70d-9909-42f7-b053-3db72c4dbf87\")) {\n",
       "                    Plotly.newPlot(\n",
       "                        'e1faa70d-9909-42f7-b053-3db72c4dbf87',\n",
       "                        [{\"type\": \"scatter\", \"x\": [1, 2, 3], \"xaxis\": \"x\", \"y\": [4, 5, 6], \"yaxis\": \"y\"}, {\"type\": \"scatter\", \"x\": [20, 30, 40], \"xaxis\": \"x2\", \"y\": [50, 60, 70], \"yaxis\": \"y2\"}],\n",
       "                        {\"height\": 600, \"template\": {\"data\": {\"bar\": [{\"error_x\": {\"color\": \"#2a3f5f\"}, \"error_y\": {\"color\": \"#2a3f5f\"}, \"marker\": {\"line\": {\"color\": \"#E5ECF6\", \"width\": 0.5}}, \"type\": \"bar\"}], \"barpolar\": [{\"marker\": {\"line\": {\"color\": \"#E5ECF6\", \"width\": 0.5}}, \"type\": \"barpolar\"}], \"carpet\": [{\"aaxis\": {\"endlinecolor\": \"#2a3f5f\", \"gridcolor\": \"white\", \"linecolor\": \"white\", \"minorgridcolor\": \"white\", \"startlinecolor\": \"#2a3f5f\"}, \"baxis\": {\"endlinecolor\": \"#2a3f5f\", \"gridcolor\": \"white\", \"linecolor\": \"white\", \"minorgridcolor\": \"white\", \"startlinecolor\": \"#2a3f5f\"}, \"type\": \"carpet\"}], \"choropleth\": [{\"colorbar\": {\"outlinewidth\": 0, \"ticks\": \"\"}, \"type\": \"choropleth\"}], \"contour\": [{\"colorbar\": {\"outlinewidth\": 0, \"ticks\": \"\"}, \"colorscale\": [[0.0, \"#0d0887\"], [0.1111111111111111, \"#46039f\"], [0.2222222222222222, \"#7201a8\"], [0.3333333333333333, \"#9c179e\"], [0.4444444444444444, \"#bd3786\"], [0.5555555555555556, \"#d8576b\"], [0.6666666666666666, \"#ed7953\"], [0.7777777777777778, \"#fb9f3a\"], [0.8888888888888888, \"#fdca26\"], [1.0, \"#f0f921\"]], \"type\": \"contour\"}], \"contourcarpet\": [{\"colorbar\": {\"outlinewidth\": 0, \"ticks\": \"\"}, \"type\": \"contourcarpet\"}], \"heatmap\": [{\"colorbar\": {\"outlinewidth\": 0, \"ticks\": \"\"}, \"colorscale\": [[0.0, \"#0d0887\"], [0.1111111111111111, \"#46039f\"], [0.2222222222222222, \"#7201a8\"], [0.3333333333333333, \"#9c179e\"], [0.4444444444444444, \"#bd3786\"], [0.5555555555555556, \"#d8576b\"], [0.6666666666666666, \"#ed7953\"], [0.7777777777777778, \"#fb9f3a\"], [0.8888888888888888, \"#fdca26\"], [1.0, \"#f0f921\"]], \"type\": \"heatmap\"}], \"heatmapgl\": [{\"colorbar\": {\"outlinewidth\": 0, \"ticks\": \"\"}, \"colorscale\": [[0.0, \"#0d0887\"], [0.1111111111111111, \"#46039f\"], [0.2222222222222222, \"#7201a8\"], [0.3333333333333333, \"#9c179e\"], [0.4444444444444444, \"#bd3786\"], [0.5555555555555556, \"#d8576b\"], [0.6666666666666666, \"#ed7953\"], [0.7777777777777778, \"#fb9f3a\"], [0.8888888888888888, \"#fdca26\"], [1.0, \"#f0f921\"]], \"type\": \"heatmapgl\"}], \"histogram\": [{\"marker\": {\"colorbar\": {\"outlinewidth\": 0, \"ticks\": \"\"}}, \"type\": \"histogram\"}], \"histogram2d\": [{\"colorbar\": {\"outlinewidth\": 0, \"ticks\": \"\"}, \"colorscale\": [[0.0, \"#0d0887\"], [0.1111111111111111, \"#46039f\"], [0.2222222222222222, \"#7201a8\"], [0.3333333333333333, \"#9c179e\"], [0.4444444444444444, \"#bd3786\"], [0.5555555555555556, \"#d8576b\"], [0.6666666666666666, \"#ed7953\"], [0.7777777777777778, \"#fb9f3a\"], [0.8888888888888888, \"#fdca26\"], [1.0, \"#f0f921\"]], \"type\": \"histogram2d\"}], \"histogram2dcontour\": [{\"colorbar\": {\"outlinewidth\": 0, \"ticks\": \"\"}, \"colorscale\": [[0.0, \"#0d0887\"], [0.1111111111111111, \"#46039f\"], [0.2222222222222222, \"#7201a8\"], [0.3333333333333333, \"#9c179e\"], [0.4444444444444444, \"#bd3786\"], [0.5555555555555556, \"#d8576b\"], [0.6666666666666666, \"#ed7953\"], [0.7777777777777778, \"#fb9f3a\"], [0.8888888888888888, \"#fdca26\"], [1.0, \"#f0f921\"]], \"type\": \"histogram2dcontour\"}], \"mesh3d\": [{\"colorbar\": {\"outlinewidth\": 0, \"ticks\": \"\"}, \"type\": \"mesh3d\"}], \"parcoords\": [{\"line\": {\"colorbar\": {\"outlinewidth\": 0, \"ticks\": \"\"}}, \"type\": \"parcoords\"}], \"scatter\": [{\"marker\": {\"colorbar\": {\"outlinewidth\": 0, \"ticks\": \"\"}}, \"type\": \"scatter\"}], \"scatter3d\": [{\"line\": {\"colorbar\": {\"outlinewidth\": 0, \"ticks\": \"\"}}, \"marker\": {\"colorbar\": {\"outlinewidth\": 0, \"ticks\": \"\"}}, \"type\": \"scatter3d\"}], \"scattercarpet\": [{\"marker\": {\"colorbar\": {\"outlinewidth\": 0, \"ticks\": \"\"}}, \"type\": \"scattercarpet\"}], \"scattergeo\": [{\"marker\": {\"colorbar\": {\"outlinewidth\": 0, \"ticks\": \"\"}}, \"type\": \"scattergeo\"}], \"scattergl\": [{\"marker\": {\"colorbar\": {\"outlinewidth\": 0, \"ticks\": \"\"}}, \"type\": \"scattergl\"}], \"scattermapbox\": [{\"marker\": {\"colorbar\": {\"outlinewidth\": 0, \"ticks\": \"\"}}, \"type\": \"scattermapbox\"}], \"scatterpolar\": [{\"marker\": {\"colorbar\": {\"outlinewidth\": 0, \"ticks\": \"\"}}, \"type\": \"scatterpolar\"}], \"scatterpolargl\": [{\"marker\": {\"colorbar\": {\"outlinewidth\": 0, \"ticks\": \"\"}}, \"type\": \"scatterpolargl\"}], \"scatterternary\": [{\"marker\": {\"colorbar\": {\"outlinewidth\": 0, \"ticks\": \"\"}}, \"type\": \"scatterternary\"}], \"surface\": [{\"colorbar\": {\"outlinewidth\": 0, \"ticks\": \"\"}, \"colorscale\": [[0.0, \"#0d0887\"], [0.1111111111111111, \"#46039f\"], [0.2222222222222222, \"#7201a8\"], [0.3333333333333333, \"#9c179e\"], [0.4444444444444444, \"#bd3786\"], [0.5555555555555556, \"#d8576b\"], [0.6666666666666666, \"#ed7953\"], [0.7777777777777778, \"#fb9f3a\"], [0.8888888888888888, \"#fdca26\"], [1.0, \"#f0f921\"]], \"type\": \"surface\"}], \"table\": [{\"cells\": {\"fill\": {\"color\": \"#EBF0F8\"}, \"line\": {\"color\": \"white\"}}, \"header\": {\"fill\": {\"color\": \"#C8D4E3\"}, \"line\": {\"color\": \"white\"}}, \"type\": \"table\"}]}, \"layout\": {\"annotationdefaults\": {\"arrowcolor\": \"#2a3f5f\", \"arrowhead\": 0, \"arrowwidth\": 1}, \"colorscale\": {\"diverging\": [[0, \"#8e0152\"], [0.1, \"#c51b7d\"], [0.2, \"#de77ae\"], [0.3, \"#f1b6da\"], [0.4, \"#fde0ef\"], [0.5, \"#f7f7f7\"], [0.6, \"#e6f5d0\"], [0.7, \"#b8e186\"], [0.8, \"#7fbc41\"], [0.9, \"#4d9221\"], [1, \"#276419\"]], \"sequential\": [[0.0, \"#0d0887\"], [0.1111111111111111, \"#46039f\"], [0.2222222222222222, \"#7201a8\"], [0.3333333333333333, \"#9c179e\"], [0.4444444444444444, \"#bd3786\"], [0.5555555555555556, \"#d8576b\"], [0.6666666666666666, \"#ed7953\"], [0.7777777777777778, \"#fb9f3a\"], [0.8888888888888888, \"#fdca26\"], [1.0, \"#f0f921\"]], \"sequentialminus\": [[0.0, \"#0d0887\"], [0.1111111111111111, \"#46039f\"], [0.2222222222222222, \"#7201a8\"], [0.3333333333333333, \"#9c179e\"], [0.4444444444444444, \"#bd3786\"], [0.5555555555555556, \"#d8576b\"], [0.6666666666666666, \"#ed7953\"], [0.7777777777777778, \"#fb9f3a\"], [0.8888888888888888, \"#fdca26\"], [1.0, \"#f0f921\"]]}, \"colorway\": [\"#636efa\", \"#EF553B\", \"#00cc96\", \"#ab63fa\", \"#FFA15A\", \"#19d3f3\", \"#FF6692\", \"#B6E880\", \"#FF97FF\", \"#FECB52\"], \"font\": {\"color\": \"#2a3f5f\"}, \"geo\": {\"bgcolor\": \"white\", \"lakecolor\": \"white\", \"landcolor\": \"#E5ECF6\", \"showlakes\": true, \"showland\": true, \"subunitcolor\": \"white\"}, \"hoverlabel\": {\"align\": \"left\"}, \"hovermode\": \"closest\", \"mapbox\": {\"style\": \"light\"}, \"paper_bgcolor\": \"white\", \"plot_bgcolor\": \"#E5ECF6\", \"polar\": {\"angularaxis\": {\"gridcolor\": \"white\", \"linecolor\": \"white\", \"ticks\": \"\"}, \"bgcolor\": \"#E5ECF6\", \"radialaxis\": {\"gridcolor\": \"white\", \"linecolor\": \"white\", \"ticks\": \"\"}}, \"scene\": {\"xaxis\": {\"backgroundcolor\": \"#E5ECF6\", \"gridcolor\": \"white\", \"gridwidth\": 2, \"linecolor\": \"white\", \"showbackground\": true, \"ticks\": \"\", \"zerolinecolor\": \"white\"}, \"yaxis\": {\"backgroundcolor\": \"#E5ECF6\", \"gridcolor\": \"white\", \"gridwidth\": 2, \"linecolor\": \"white\", \"showbackground\": true, \"ticks\": \"\", \"zerolinecolor\": \"white\"}, \"zaxis\": {\"backgroundcolor\": \"#E5ECF6\", \"gridcolor\": \"white\", \"gridwidth\": 2, \"linecolor\": \"white\", \"showbackground\": true, \"ticks\": \"\", \"zerolinecolor\": \"white\"}}, \"shapedefaults\": {\"line\": {\"color\": \"#2a3f5f\"}}, \"ternary\": {\"aaxis\": {\"gridcolor\": \"white\", \"linecolor\": \"white\", \"ticks\": \"\"}, \"baxis\": {\"gridcolor\": \"white\", \"linecolor\": \"white\", \"ticks\": \"\"}, \"bgcolor\": \"#E5ECF6\", \"caxis\": {\"gridcolor\": \"white\", \"linecolor\": \"white\", \"ticks\": \"\"}}, \"title\": {\"x\": 0.05}, \"xaxis\": {\"automargin\": true, \"gridcolor\": \"white\", \"linecolor\": \"white\", \"ticks\": \"\", \"zerolinecolor\": \"white\", \"zerolinewidth\": 2}, \"yaxis\": {\"automargin\": true, \"gridcolor\": \"white\", \"linecolor\": \"white\", \"ticks\": \"\", \"zerolinecolor\": \"white\", \"zerolinewidth\": 2}}}, \"title\": {\"text\": \"Subplots\"}, \"width\": 800, \"xaxis\": {\"anchor\": \"y\", \"domain\": [0.0, 0.45]}, \"xaxis2\": {\"anchor\": \"y2\", \"domain\": [0.55, 1.0]}, \"yaxis\": {\"anchor\": \"x\", \"domain\": [0.0, 1.0]}, \"yaxis2\": {\"anchor\": \"x2\", \"domain\": [0.0, 1.0]}},\n",
       "                        {\"responsive\": true}\n",
       "                    ).then(function(){\n",
       "                            \n",
       "var gd = document.getElementById('e1faa70d-9909-42f7-b053-3db72c4dbf87');\n",
       "var x = new MutationObserver(function (mutations, observer) {{\n",
       "        var display = window.getComputedStyle(gd).display;\n",
       "        if (!display || display === 'none') {{\n",
       "            console.log([gd, 'removed!']);\n",
       "            Plotly.purge(gd);\n",
       "            observer.disconnect();\n",
       "        }}\n",
       "}});\n",
       "\n",
       "// Listen for the removal of the full notebook cells\n",
       "var notebookContainer = gd.closest('#notebook-container');\n",
       "if (notebookContainer) {{\n",
       "    x.observe(notebookContainer, {childList: true});\n",
       "}}\n",
       "\n",
       "// Listen for the clearing of the current output cell\n",
       "var outputEl = gd.closest('.output');\n",
       "if (outputEl) {{\n",
       "    x.observe(outputEl, {childList: true});\n",
       "}}\n",
       "\n",
       "                        })\n",
       "                };\n",
       "                });\n",
       "            </script>\n",
       "        </div>"
      ]
     },
     "metadata": {},
     "output_type": "display_data"
    }
   ],
   "source": [
    "from plotly.subplots import make_subplots\n",
    "import plotly.graph_objects as go\n",
    "import plotly.express as px\n",
    "\n",
    "fig = make_subplots(rows=1, cols=2)\n",
    "\n",
    "fig.add_trace(\n",
    "    go.Scatter(x=[1, 2, 3], y=[4, 5, 6]),\n",
    "    row=1, col=1\n",
    ")\n",
    "\n",
    "fig.add_trace(\n",
    "    go.Scatter(x=[20, 30, 40], y=[50, 60, 70]),\n",
    "    row=1, col=2\n",
    ")\n",
    "\n",
    "fig.update_layout(height=600, width=800, title_text=\"Subplots\")\n",
    "fig.show()"
   ]
  },
  {
   "cell_type": "code",
   "execution_count": 5,
   "metadata": {},
   "outputs": [
    {
     "ename": "TypeError",
     "evalue": "scatter() missing 1 required positional argument: 'data_frame'",
     "output_type": "error",
     "traceback": [
      "\u001b[0;31m---------------------------------------------------------------------------\u001b[0m",
      "\u001b[0;31mTypeError\u001b[0m                                 Traceback (most recent call last)",
      "\u001b[0;32m<ipython-input-5-d500b151aa06>\u001b[0m in \u001b[0;36m<module>\u001b[0;34m\u001b[0m\n\u001b[0;32m----> 1\u001b[0;31m \u001b[0mfig1\u001b[0m \u001b[0;34m=\u001b[0m \u001b[0mpx\u001b[0m\u001b[0;34m.\u001b[0m\u001b[0mscatter\u001b[0m\u001b[0;34m(\u001b[0m\u001b[0mcolor\u001b[0m\u001b[0;34m=\u001b[0m\u001b[0;34m'colname1'\u001b[0m\u001b[0;34m)\u001b[0m\u001b[0;34m\u001b[0m\u001b[0;34m\u001b[0m\u001b[0m\n\u001b[0m\u001b[1;32m      2\u001b[0m \u001b[0mfig2\u001b[0m \u001b[0;34m=\u001b[0m \u001b[0mpx\u001b[0m\u001b[0;34m.\u001b[0m\u001b[0mscatter\u001b[0m\u001b[0;34m(\u001b[0m\u001b[0mcolor\u001b[0m\u001b[0;34m=\u001b[0m\u001b[0;34m'colname2'\u001b[0m\u001b[0;34m)\u001b[0m\u001b[0;34m\u001b[0m\u001b[0;34m\u001b[0m\u001b[0m\n\u001b[1;32m      3\u001b[0m \u001b[0mtrace1\u001b[0m \u001b[0;34m=\u001b[0m \u001b[0mfig1\u001b[0m\u001b[0;34m[\u001b[0m\u001b[0;34m'data'\u001b[0m\u001b[0;34m]\u001b[0m\u001b[0;34m[\u001b[0m\u001b[0;36m0\u001b[0m\u001b[0;34m]\u001b[0m\u001b[0;34m\u001b[0m\u001b[0;34m\u001b[0m\u001b[0m\n\u001b[1;32m      4\u001b[0m \u001b[0mtrace2\u001b[0m \u001b[0;34m=\u001b[0m \u001b[0mfig2\u001b[0m\u001b[0;34m[\u001b[0m\u001b[0;34m'data'\u001b[0m\u001b[0;34m]\u001b[0m\u001b[0;34m[\u001b[0m\u001b[0;36m0\u001b[0m\u001b[0;34m]\u001b[0m\u001b[0;34m\u001b[0m\u001b[0;34m\u001b[0m\u001b[0m\n\u001b[1;32m      5\u001b[0m \u001b[0;34m\u001b[0m\u001b[0m\n",
      "\u001b[0;31mTypeError\u001b[0m: scatter() missing 1 required positional argument: 'data_frame'"
     ]
    }
   ],
   "source": [
    "fig1 = px.scatter(color='colname1')\n",
    "fig2 = px.scatter(color='colname2')\n",
    "trace1 = fig1['data'][0]\n",
    "trace2 = fig2['data'][0]\n",
    "\n",
    "fig = make_subplots(rows=2, cols=1, shared_xaxes=False)\n",
    "fig.add_trace(trace1, row=1, col=1)\n",
    "fig.add_trace(trace2, row=2, col=1)"
   ]
  },
  {
   "cell_type": "code",
   "execution_count": 6,
   "metadata": {},
   "outputs": [],
   "source": [
    "import numpy as np"
   ]
  },
  {
   "cell_type": "code",
   "execution_count": 13,
   "metadata": {},
   "outputs": [
    {
     "data": {
      "text/html": [
       "<div>\n",
       "<style scoped>\n",
       "    .dataframe tbody tr th:only-of-type {\n",
       "        vertical-align: middle;\n",
       "    }\n",
       "\n",
       "    .dataframe tbody tr th {\n",
       "        vertical-align: top;\n",
       "    }\n",
       "\n",
       "    .dataframe thead th {\n",
       "        text-align: right;\n",
       "    }\n",
       "</style>\n",
       "<table border=\"1\" class=\"dataframe\">\n",
       "  <thead>\n",
       "    <tr style=\"text-align: right;\">\n",
       "      <th></th>\n",
       "      <th>t</th>\n",
       "      <th>var</th>\n",
       "      <th>val</th>\n",
       "    </tr>\n",
       "  </thead>\n",
       "  <tbody>\n",
       "    <tr>\n",
       "      <th>0</th>\n",
       "      <td>0.00</td>\n",
       "      <td>data1</td>\n",
       "      <td>0.000000</td>\n",
       "    </tr>\n",
       "    <tr>\n",
       "      <th>1</th>\n",
       "      <td>0.01</td>\n",
       "      <td>data1</td>\n",
       "      <td>0.062791</td>\n",
       "    </tr>\n",
       "    <tr>\n",
       "      <th>2</th>\n",
       "      <td>0.02</td>\n",
       "      <td>data1</td>\n",
       "      <td>0.125333</td>\n",
       "    </tr>\n",
       "    <tr>\n",
       "      <th>3</th>\n",
       "      <td>0.03</td>\n",
       "      <td>data1</td>\n",
       "      <td>0.187381</td>\n",
       "    </tr>\n",
       "    <tr>\n",
       "      <th>4</th>\n",
       "      <td>0.04</td>\n",
       "      <td>data1</td>\n",
       "      <td>0.248690</td>\n",
       "    </tr>\n",
       "    <tr>\n",
       "      <th>...</th>\n",
       "      <td>...</td>\n",
       "      <td>...</td>\n",
       "      <td>...</td>\n",
       "    </tr>\n",
       "    <tr>\n",
       "      <th>995</th>\n",
       "      <td>4.95</td>\n",
       "      <td>data2</td>\n",
       "      <td>0.951057</td>\n",
       "    </tr>\n",
       "    <tr>\n",
       "      <th>996</th>\n",
       "      <td>4.96</td>\n",
       "      <td>data2</td>\n",
       "      <td>0.968583</td>\n",
       "    </tr>\n",
       "    <tr>\n",
       "      <th>997</th>\n",
       "      <td>4.97</td>\n",
       "      <td>data2</td>\n",
       "      <td>0.982287</td>\n",
       "    </tr>\n",
       "    <tr>\n",
       "      <th>998</th>\n",
       "      <td>4.98</td>\n",
       "      <td>data2</td>\n",
       "      <td>0.992115</td>\n",
       "    </tr>\n",
       "    <tr>\n",
       "      <th>999</th>\n",
       "      <td>4.99</td>\n",
       "      <td>data2</td>\n",
       "      <td>0.998027</td>\n",
       "    </tr>\n",
       "  </tbody>\n",
       "</table>\n",
       "<p>1000 rows × 3 columns</p>\n",
       "</div>"
      ],
      "text/plain": [
       "        t    var       val\n",
       "0    0.00  data1  0.000000\n",
       "1    0.01  data1  0.062791\n",
       "2    0.02  data1  0.125333\n",
       "3    0.03  data1  0.187381\n",
       "4    0.04  data1  0.248690\n",
       "..    ...    ...       ...\n",
       "995  4.95  data2  0.951057\n",
       "996  4.96  data2  0.968583\n",
       "997  4.97  data2  0.982287\n",
       "998  4.98  data2  0.992115\n",
       "999  4.99  data2  0.998027\n",
       "\n",
       "[1000 rows x 3 columns]"
      ]
     },
     "execution_count": 13,
     "metadata": {},
     "output_type": "execute_result"
    }
   ],
   "source": [
    "t = np.arange(0,5,0.01)\n",
    "data1 = np.sin(2*np.pi*t)\n",
    "data2 = np.cos(2*np.pi*t)\n",
    "\n",
    "df = pd.DataFrame({'t':t,'data1':data1,'data2':data2})\n",
    "df_melted = pd.melt(\n",
    "        df,\n",
    "        id_vars=['t'],\n",
    "        value_vars=['data1','data2'],\n",
    "        var_name='var',\n",
    "        value_name='val'\n",
    "    )\n",
    "df_melted"
   ]
  },
  {
   "cell_type": "code",
   "execution_count": 14,
   "metadata": {},
   "outputs": [
    {
     "data": {
      "application/vnd.plotly.v1+json": {
       "config": {
        "plotlyServerURL": "https://plot.ly"
       },
       "data": [
        {
         "hoverlabel": {
          "namelength": 0
         },
         "hovertemplate": "<b>%{hovertext}</b><br><br>var=data1<br>t=%{x}<br>val=%{y}",
         "hovertext": [
          "data1",
          "data1",
          "data1",
          "data1",
          "data1",
          "data1",
          "data1",
          "data1",
          "data1",
          "data1",
          "data1",
          "data1",
          "data1",
          "data1",
          "data1",
          "data1",
          "data1",
          "data1",
          "data1",
          "data1",
          "data1",
          "data1",
          "data1",
          "data1",
          "data1",
          "data1",
          "data1",
          "data1",
          "data1",
          "data1",
          "data1",
          "data1",
          "data1",
          "data1",
          "data1",
          "data1",
          "data1",
          "data1",
          "data1",
          "data1",
          "data1",
          "data1",
          "data1",
          "data1",
          "data1",
          "data1",
          "data1",
          "data1",
          "data1",
          "data1",
          "data1",
          "data1",
          "data1",
          "data1",
          "data1",
          "data1",
          "data1",
          "data1",
          "data1",
          "data1",
          "data1",
          "data1",
          "data1",
          "data1",
          "data1",
          "data1",
          "data1",
          "data1",
          "data1",
          "data1",
          "data1",
          "data1",
          "data1",
          "data1",
          "data1",
          "data1",
          "data1",
          "data1",
          "data1",
          "data1",
          "data1",
          "data1",
          "data1",
          "data1",
          "data1",
          "data1",
          "data1",
          "data1",
          "data1",
          "data1",
          "data1",
          "data1",
          "data1",
          "data1",
          "data1",
          "data1",
          "data1",
          "data1",
          "data1",
          "data1",
          "data1",
          "data1",
          "data1",
          "data1",
          "data1",
          "data1",
          "data1",
          "data1",
          "data1",
          "data1",
          "data1",
          "data1",
          "data1",
          "data1",
          "data1",
          "data1",
          "data1",
          "data1",
          "data1",
          "data1",
          "data1",
          "data1",
          "data1",
          "data1",
          "data1",
          "data1",
          "data1",
          "data1",
          "data1",
          "data1",
          "data1",
          "data1",
          "data1",
          "data1",
          "data1",
          "data1",
          "data1",
          "data1",
          "data1",
          "data1",
          "data1",
          "data1",
          "data1",
          "data1",
          "data1",
          "data1",
          "data1",
          "data1",
          "data1",
          "data1",
          "data1",
          "data1",
          "data1",
          "data1",
          "data1",
          "data1",
          "data1",
          "data1",
          "data1",
          "data1",
          "data1",
          "data1",
          "data1",
          "data1",
          "data1",
          "data1",
          "data1",
          "data1",
          "data1",
          "data1",
          "data1",
          "data1",
          "data1",
          "data1",
          "data1",
          "data1",
          "data1",
          "data1",
          "data1",
          "data1",
          "data1",
          "data1",
          "data1",
          "data1",
          "data1",
          "data1",
          "data1",
          "data1",
          "data1",
          "data1",
          "data1",
          "data1",
          "data1",
          "data1",
          "data1",
          "data1",
          "data1",
          "data1",
          "data1",
          "data1",
          "data1",
          "data1",
          "data1",
          "data1",
          "data1",
          "data1",
          "data1",
          "data1",
          "data1",
          "data1",
          "data1",
          "data1",
          "data1",
          "data1",
          "data1",
          "data1",
          "data1",
          "data1",
          "data1",
          "data1",
          "data1",
          "data1",
          "data1",
          "data1",
          "data1",
          "data1",
          "data1",
          "data1",
          "data1",
          "data1",
          "data1",
          "data1",
          "data1",
          "data1",
          "data1",
          "data1",
          "data1",
          "data1",
          "data1",
          "data1",
          "data1",
          "data1",
          "data1",
          "data1",
          "data1",
          "data1",
          "data1",
          "data1",
          "data1",
          "data1",
          "data1",
          "data1",
          "data1",
          "data1",
          "data1",
          "data1",
          "data1",
          "data1",
          "data1",
          "data1",
          "data1",
          "data1",
          "data1",
          "data1",
          "data1",
          "data1",
          "data1",
          "data1",
          "data1",
          "data1",
          "data1",
          "data1",
          "data1",
          "data1",
          "data1",
          "data1",
          "data1",
          "data1",
          "data1",
          "data1",
          "data1",
          "data1",
          "data1",
          "data1",
          "data1",
          "data1",
          "data1",
          "data1",
          "data1",
          "data1",
          "data1",
          "data1",
          "data1",
          "data1",
          "data1",
          "data1",
          "data1",
          "data1",
          "data1",
          "data1",
          "data1",
          "data1",
          "data1",
          "data1",
          "data1",
          "data1",
          "data1",
          "data1",
          "data1",
          "data1",
          "data1",
          "data1",
          "data1",
          "data1",
          "data1",
          "data1",
          "data1",
          "data1",
          "data1",
          "data1",
          "data1",
          "data1",
          "data1",
          "data1",
          "data1",
          "data1",
          "data1",
          "data1",
          "data1",
          "data1",
          "data1",
          "data1",
          "data1",
          "data1",
          "data1",
          "data1",
          "data1",
          "data1",
          "data1",
          "data1",
          "data1",
          "data1",
          "data1",
          "data1",
          "data1",
          "data1",
          "data1",
          "data1",
          "data1",
          "data1",
          "data1",
          "data1",
          "data1",
          "data1",
          "data1",
          "data1",
          "data1",
          "data1",
          "data1",
          "data1",
          "data1",
          "data1",
          "data1",
          "data1",
          "data1",
          "data1",
          "data1",
          "data1",
          "data1",
          "data1",
          "data1",
          "data1",
          "data1",
          "data1",
          "data1",
          "data1",
          "data1",
          "data1",
          "data1",
          "data1",
          "data1",
          "data1",
          "data1",
          "data1",
          "data1",
          "data1",
          "data1",
          "data1",
          "data1",
          "data1",
          "data1",
          "data1",
          "data1",
          "data1",
          "data1",
          "data1",
          "data1",
          "data1",
          "data1",
          "data1",
          "data1",
          "data1",
          "data1",
          "data1",
          "data1",
          "data1",
          "data1",
          "data1",
          "data1",
          "data1",
          "data1",
          "data1",
          "data1",
          "data1",
          "data1",
          "data1",
          "data1",
          "data1",
          "data1",
          "data1",
          "data1",
          "data1",
          "data1",
          "data1",
          "data1",
          "data1",
          "data1",
          "data1",
          "data1",
          "data1",
          "data1",
          "data1",
          "data1",
          "data1",
          "data1",
          "data1",
          "data1",
          "data1",
          "data1",
          "data1",
          "data1",
          "data1",
          "data1",
          "data1",
          "data1",
          "data1",
          "data1",
          "data1",
          "data1",
          "data1",
          "data1",
          "data1",
          "data1",
          "data1",
          "data1",
          "data1",
          "data1",
          "data1",
          "data1",
          "data1",
          "data1",
          "data1",
          "data1",
          "data1",
          "data1",
          "data1",
          "data1",
          "data1",
          "data1",
          "data1",
          "data1",
          "data1",
          "data1",
          "data1",
          "data1",
          "data1",
          "data1",
          "data1",
          "data1",
          "data1",
          "data1",
          "data1",
          "data1",
          "data1",
          "data1",
          "data1",
          "data1",
          "data1",
          "data1",
          "data1",
          "data1",
          "data1",
          "data1",
          "data1",
          "data1",
          "data1",
          "data1",
          "data1",
          "data1",
          "data1"
         ],
         "legendgroup": "var=data1",
         "line": {
          "color": "#636efa",
          "dash": "solid"
         },
         "mode": "lines",
         "name": "var=data1",
         "showlegend": true,
         "type": "scatter",
         "x": [
          0,
          0.01,
          0.02,
          0.03,
          0.04,
          0.05,
          0.06,
          0.07,
          0.08,
          0.09,
          0.1,
          0.11,
          0.12,
          0.13,
          0.14,
          0.15,
          0.16,
          0.17,
          0.18,
          0.19,
          0.2,
          0.21,
          0.22,
          0.23,
          0.24,
          0.25,
          0.26,
          0.27,
          0.28,
          0.29,
          0.3,
          0.31,
          0.32,
          0.33,
          0.34,
          0.35000000000000003,
          0.36,
          0.37,
          0.38,
          0.39,
          0.4,
          0.41000000000000003,
          0.42,
          0.43,
          0.44,
          0.45,
          0.46,
          0.47000000000000003,
          0.48,
          0.49,
          0.5,
          0.51,
          0.52,
          0.53,
          0.54,
          0.55,
          0.56,
          0.5700000000000001,
          0.58,
          0.59,
          0.6,
          0.61,
          0.62,
          0.63,
          0.64,
          0.65,
          0.66,
          0.67,
          0.68,
          0.6900000000000001,
          0.7000000000000001,
          0.71,
          0.72,
          0.73,
          0.74,
          0.75,
          0.76,
          0.77,
          0.78,
          0.79,
          0.8,
          0.81,
          0.8200000000000001,
          0.8300000000000001,
          0.84,
          0.85,
          0.86,
          0.87,
          0.88,
          0.89,
          0.9,
          0.91,
          0.92,
          0.93,
          0.9400000000000001,
          0.9500000000000001,
          0.96,
          0.97,
          0.98,
          0.99,
          1,
          1.01,
          1.02,
          1.03,
          1.04,
          1.05,
          1.06,
          1.07,
          1.08,
          1.09,
          1.1,
          1.11,
          1.12,
          1.1300000000000001,
          1.1400000000000001,
          1.1500000000000001,
          1.16,
          1.17,
          1.18,
          1.19,
          1.2,
          1.21,
          1.22,
          1.23,
          1.24,
          1.25,
          1.26,
          1.27,
          1.28,
          1.29,
          1.3,
          1.31,
          1.32,
          1.33,
          1.34,
          1.35,
          1.36,
          1.37,
          1.3800000000000001,
          1.3900000000000001,
          1.4000000000000001,
          1.41,
          1.42,
          1.43,
          1.44,
          1.45,
          1.46,
          1.47,
          1.48,
          1.49,
          1.5,
          1.51,
          1.52,
          1.53,
          1.54,
          1.55,
          1.56,
          1.57,
          1.58,
          1.59,
          1.6,
          1.61,
          1.62,
          1.6300000000000001,
          1.6400000000000001,
          1.6500000000000001,
          1.6600000000000001,
          1.67,
          1.68,
          1.69,
          1.7,
          1.71,
          1.72,
          1.73,
          1.74,
          1.75,
          1.76,
          1.77,
          1.78,
          1.79,
          1.8,
          1.81,
          1.82,
          1.83,
          1.84,
          1.85,
          1.86,
          1.87,
          1.8800000000000001,
          1.8900000000000001,
          1.9000000000000001,
          1.9100000000000001,
          1.92,
          1.93,
          1.94,
          1.95,
          1.96,
          1.97,
          1.98,
          1.99,
          2,
          2.0100000000000002,
          2.02,
          2.0300000000000002,
          2.04,
          2.05,
          2.06,
          2.07,
          2.08,
          2.09,
          2.1,
          2.11,
          2.12,
          2.13,
          2.14,
          2.15,
          2.16,
          2.17,
          2.18,
          2.19,
          2.2,
          2.21,
          2.22,
          2.23,
          2.24,
          2.25,
          2.2600000000000002,
          2.27,
          2.2800000000000002,
          2.29,
          2.3000000000000003,
          2.31,
          2.32,
          2.33,
          2.34,
          2.35,
          2.36,
          2.37,
          2.38,
          2.39,
          2.4,
          2.41,
          2.42,
          2.43,
          2.44,
          2.45,
          2.46,
          2.47,
          2.48,
          2.49,
          2.5,
          2.5100000000000002,
          2.52,
          2.5300000000000002,
          2.54,
          2.5500000000000003,
          2.56,
          2.57,
          2.58,
          2.59,
          2.6,
          2.61,
          2.62,
          2.63,
          2.64,
          2.65,
          2.66,
          2.67,
          2.68,
          2.69,
          2.7,
          2.71,
          2.72,
          2.73,
          2.74,
          2.75,
          2.7600000000000002,
          2.77,
          2.7800000000000002,
          2.79,
          2.8000000000000003,
          2.81,
          2.82,
          2.83,
          2.84,
          2.85,
          2.86,
          2.87,
          2.88,
          2.89,
          2.9,
          2.91,
          2.92,
          2.93,
          2.94,
          2.95,
          2.96,
          2.97,
          2.98,
          2.99,
          3,
          3.0100000000000002,
          3.02,
          3.0300000000000002,
          3.04,
          3.0500000000000003,
          3.06,
          3.0700000000000003,
          3.08,
          3.09,
          3.1,
          3.11,
          3.12,
          3.13,
          3.14,
          3.15,
          3.16,
          3.17,
          3.18,
          3.19,
          3.2,
          3.21,
          3.22,
          3.23,
          3.24,
          3.25,
          3.2600000000000002,
          3.27,
          3.2800000000000002,
          3.29,
          3.3000000000000003,
          3.31,
          3.3200000000000003,
          3.33,
          3.34,
          3.35,
          3.36,
          3.37,
          3.38,
          3.39,
          3.4,
          3.41,
          3.42,
          3.43,
          3.44,
          3.45,
          3.46,
          3.47,
          3.48,
          3.49,
          3.5,
          3.5100000000000002,
          3.52,
          3.5300000000000002,
          3.54,
          3.5500000000000003,
          3.56,
          3.5700000000000003,
          3.58,
          3.59,
          3.6,
          3.61,
          3.62,
          3.63,
          3.64,
          3.65,
          3.66,
          3.67,
          3.68,
          3.69,
          3.7,
          3.71,
          3.72,
          3.73,
          3.74,
          3.75,
          3.7600000000000002,
          3.77,
          3.7800000000000002,
          3.79,
          3.8000000000000003,
          3.81,
          3.8200000000000003,
          3.83,
          3.84,
          3.85,
          3.86,
          3.87,
          3.88,
          3.89,
          3.9,
          3.91,
          3.92,
          3.93,
          3.94,
          3.95,
          3.96,
          3.97,
          3.98,
          3.99,
          4,
          4.01,
          4.0200000000000005,
          4.03,
          4.04,
          4.05,
          4.0600000000000005,
          4.07,
          4.08,
          4.09,
          4.1,
          4.11,
          4.12,
          4.13,
          4.14,
          4.15,
          4.16,
          4.17,
          4.18,
          4.19,
          4.2,
          4.21,
          4.22,
          4.23,
          4.24,
          4.25,
          4.26,
          4.2700000000000005,
          4.28,
          4.29,
          4.3,
          4.3100000000000005,
          4.32,
          4.33,
          4.34,
          4.3500000000000005,
          4.36,
          4.37,
          4.38,
          4.39,
          4.4,
          4.41,
          4.42,
          4.43,
          4.44,
          4.45,
          4.46,
          4.47,
          4.48,
          4.49,
          4.5,
          4.51,
          4.5200000000000005,
          4.53,
          4.54,
          4.55,
          4.5600000000000005,
          4.57,
          4.58,
          4.59,
          4.6000000000000005,
          4.61,
          4.62,
          4.63,
          4.64,
          4.65,
          4.66,
          4.67,
          4.68,
          4.69,
          4.7,
          4.71,
          4.72,
          4.73,
          4.74,
          4.75,
          4.76,
          4.7700000000000005,
          4.78,
          4.79,
          4.8,
          4.8100000000000005,
          4.82,
          4.83,
          4.84,
          4.8500000000000005,
          4.86,
          4.87,
          4.88,
          4.89,
          4.9,
          4.91,
          4.92,
          4.93,
          4.94,
          4.95,
          4.96,
          4.97,
          4.98,
          4.99
         ],
         "xaxis": "x",
         "y": [
          0,
          0.06279051952931337,
          0.12533323356430426,
          0.1873813145857246,
          0.2486898871648548,
          0.3090169943749474,
          0.3681245526846779,
          0.4257792915650727,
          0.4817536741017153,
          0.5358267949789967,
          0.5877852522924731,
          0.6374239897486896,
          0.6845471059286886,
          0.7289686274214116,
          0.7705132427757893,
          0.8090169943749475,
          0.8443279255020151,
          0.8763066800438637,
          0.9048270524660196,
          0.9297764858882513,
          0.9510565162951535,
          0.9685831611286311,
          0.9822872507286886,
          0.9921147013144779,
          0.9980267284282716,
          1,
          0.9980267284282716,
          0.9921147013144778,
          0.9822872507286886,
          0.9685831611286312,
          0.9510565162951536,
          0.9297764858882513,
          0.9048270524660195,
          0.8763066800438635,
          0.844327925502015,
          0.8090169943749475,
          0.7705132427757893,
          0.7289686274214114,
          0.6845471059286888,
          0.6374239897486899,
          0.5877852522924732,
          0.5358267949789967,
          0.4817536741017156,
          0.4257792915650729,
          0.36812455268467814,
          0.3090169943749475,
          0.24868988716485482,
          0.18738131458572457,
          0.12533323356430454,
          0.06279051952931358,
          1.2246467991473532e-16,
          -0.06279051952931335,
          -0.12533323356430429,
          -0.18738131458572477,
          -0.24868988716485502,
          -0.30901699437494773,
          -0.3681245526846783,
          -0.42577929156507266,
          -0.481753674101715,
          -0.5358267949789964,
          -0.587785252292473,
          -0.6374239897486896,
          -0.6845471059286887,
          -0.7289686274214113,
          -0.7705132427757894,
          -0.8090169943749473,
          -0.8443279255020153,
          -0.8763066800438636,
          -0.9048270524660198,
          -0.9297764858882515,
          -0.9510565162951535,
          -0.968583161128631,
          -0.9822872507286887,
          -0.9921147013144778,
          -0.9980267284282716,
          -1,
          -0.9980267284282716,
          -0.9921147013144779,
          -0.9822872507286887,
          -0.9685831611286311,
          -0.9510565162951536,
          -0.9297764858882512,
          -0.9048270524660196,
          -0.8763066800438634,
          -0.8443279255020155,
          -0.8090169943749476,
          -0.7705132427757896,
          -0.7289686274214116,
          -0.684547105928689,
          -0.6374239897486896,
          -0.5877852522924734,
          -0.5358267949789963,
          -0.4817536741017153,
          -0.4257792915650722,
          -0.36812455268467786,
          -0.3090169943749476,
          -0.24868988716485535,
          -0.18738131458572468,
          -0.12533323356430465,
          -0.06279051952931326,
          -2.4492935982947064e-16,
          0.06279051952931278,
          0.12533323356430418,
          0.1873813145857242,
          0.24868988716485488,
          0.3090169943749472,
          0.3681245526846782,
          0.42577929156507255,
          0.48175367410171566,
          0.5358267949789967,
          0.5877852522924736,
          0.6374239897486899,
          0.6845471059286893,
          0.7289686274214118,
          0.7705132427757893,
          0.8090169943749478,
          0.8443279255020147,
          0.8763066800438631,
          0.9048270524660194,
          0.9297764858882511,
          0.9510565162951535,
          0.968583161128631,
          0.9822872507286886,
          0.9921147013144778,
          0.9980267284282716,
          1,
          0.9980267284282716,
          0.9921147013144779,
          0.9822872507286886,
          0.9685831611286311,
          0.9510565162951536,
          0.9297764858882517,
          0.9048270524660192,
          0.8763066800438634,
          0.8443279255020151,
          0.8090169943749477,
          0.7705132427757886,
          0.728968627421411,
          0.6845471059286884,
          0.6374239897486897,
          0.5877852522924734,
          0.5358267949789972,
          0.4817536741017162,
          0.42577929156507394,
          0.368124552684678,
          0.3090169943749478,
          0.2486898871648555,
          0.18738131458572568,
          0.1253332335643039,
          0.06279051952931339,
          3.6739403974420594e-16,
          -0.06279051952931265,
          -0.12533323356430318,
          -0.18738131458572496,
          -0.24868988716485477,
          -0.30901699437494706,
          -0.36812455268467725,
          -0.42577929156507327,
          -0.48175367410171555,
          -0.5358267949789965,
          -0.5877852522924728,
          -0.6374239897486905,
          -0.6845471059286892,
          -0.7289686274214118,
          -0.7705132427757893,
          -0.8090169943749472,
          -0.8443279255020156,
          -0.876306680043863,
          -0.9048270524660189,
          -0.9297764858882513,
          -0.9510565162951534,
          -0.968583161128631,
          -0.9822872507286885,
          -0.9921147013144779,
          -0.9980267284282716,
          -1,
          -0.9980267284282716,
          -0.992114701314478,
          -0.9822872507286886,
          -0.9685831611286312,
          -0.9510565162951538,
          -0.9297764858882517,
          -0.9048270524660192,
          -0.8763066800438635,
          -0.8443279255020151,
          -0.8090169943749477,
          -0.7705132427757886,
          -0.7289686274214111,
          -0.6845471059286885,
          -0.6374239897486897,
          -0.5877852522924735,
          -0.5358267949789958,
          -0.4817536741017163,
          -0.42577929156507405,
          -0.3681245526846781,
          -0.3090169943749479,
          -0.2486898871648556,
          -0.1873813145857258,
          -0.125333233564304,
          -0.06279051952931351,
          -4.898587196589413e-16,
          0.0627905195293143,
          0.12533323356430304,
          0.18738131458572485,
          0.24868988716485466,
          0.30901699437494523,
          0.36812455268467714,
          0.42577929156507155,
          0.48175367410171543,
          0.535826794978995,
          0.5877852522924727,
          0.6374239897486891,
          0.6845471059286891,
          0.7289686274214104,
          0.7705132427757891,
          0.8090169943749471,
          0.8443279255020155,
          0.876306680043863,
          0.9048270524660196,
          0.9297764858882513,
          0.951056516295154,
          0.9685831611286309,
          0.9822872507286888,
          0.9921147013144779,
          0.9980267284282717,
          1,
          0.9980267284282716,
          0.992114701314478,
          0.9822872507286886,
          0.9685831611286312,
          0.9510565162951532,
          0.9297764858882518,
          0.90482705246602,
          0.8763066800438635,
          0.8443279255020162,
          0.8090169943749478,
          0.7705132427757898,
          0.7289686274214112,
          0.6845471059286898,
          0.6374239897486899,
          0.5877852522924736,
          0.5358267949789959,
          0.48175367410171643,
          0.42577929156507255,
          0.3681245526846782,
          0.3090169943749463,
          0.2486898871648557,
          0.18738131458572418,
          0.12533323356430415,
          0.06279051952931186,
          6.123233995736766e-16,
          -0.06279051952931418,
          -0.12533323356430293,
          -0.1873813145857247,
          -0.24868988716485452,
          -0.3090169943749485,
          -0.3681245526846787,
          -0.42577929156506983,
          -0.4817536741017153,
          -0.5358267949789964,
          -0.5877852522924726,
          -0.637423989748689,
          -0.6845471059286877,
          -0.7289686274214103,
          -0.7705132427757901,
          -0.809016994374946,
          -0.8443279255020155,
          -0.8763066800438638,
          -0.9048270524660196,
          -0.9297764858882513,
          -0.9510565162951534,
          -0.9685831611286309,
          -0.982287250728689,
          -0.9921147013144777,
          -0.9980267284282717,
          -1,
          -0.9980267284282716,
          -0.9921147013144778,
          -0.9822872507286887,
          -0.9685831611286312,
          -0.9510565162951538,
          -0.9297764858882518,
          -0.9048270524660201,
          -0.8763066800438645,
          -0.8443279255020162,
          -0.8090169943749468,
          -0.770513242775791,
          -0.7289686274214112,
          -0.6845471059286886,
          -0.63742398974869,
          -0.5877852522924737,
          -0.5358267949789975,
          -0.48175367410171654,
          -0.42577929156507105,
          -0.36812455268468,
          -0.3090169943749464,
          -0.2486898871648541,
          -0.1873813145857243,
          -0.12533323356430426,
          -0.06279051952931375,
          -7.347880794884119e-16,
          0.06279051952931583,
          0.12533323356430282,
          0.18738131458572635,
          0.24868988716485269,
          0.3090169943749484,
          0.3681245526846786,
          0.42577929156507294,
          0.4817536741017152,
          0.5358267949789963,
          0.5877852522924725,
          0.6374239897486889,
          0.6845471059286876,
          0.7289686274214102,
          0.7705132427757901,
          0.8090169943749459,
          0.8443279255020154,
          0.8763066800438637,
          0.9048270524660195,
          0.9297764858882512,
          0.9510565162951533,
          0.9685831611286309,
          0.982287250728689,
          0.9921147013144775,
          0.9980267284282717,
          1,
          0.9980267284282716,
          0.9921147013144778,
          0.9822872507286887,
          0.9685831611286312,
          0.9510565162951539,
          0.9297764858882518,
          0.9048270524660187,
          0.8763066800438645,
          0.8443279255020163,
          0.8090169943749469,
          0.7705132427757911,
          0.7289686274214113,
          0.6845471059286887,
          0.6374239897486901,
          0.5877852522924738,
          0.5358267949789977,
          0.48175367410171666,
          0.42577929156507116,
          0.3681245526846801,
          0.30901699437494656,
          0.24868988716485424,
          0.1873813145857244,
          0.1253332335643044,
          0.06279051952931387,
          8.572527594031472e-16,
          -0.0627905195293157,
          -0.12533323356430268,
          -0.1873813145857262,
          -0.24868988716485257,
          -0.3090169943749483,
          -0.3681245526846785,
          -0.4257792915650728,
          -0.48175367410171516,
          -0.5358267949789962,
          -0.5877852522924725,
          -0.6374239897486887,
          -0.6845471059286875,
          -0.7289686274214102,
          -0.77051324277579,
          -0.8090169943749459,
          -0.8443279255020154,
          -0.8763066800438637,
          -0.9048270524660195,
          -0.9297764858882512,
          -0.9510565162951533,
          -0.9685831611286309,
          -0.982287250728689,
          -0.9921147013144775,
          -0.9980267284282717,
          -1,
          -0.9980267284282716,
          -0.9921147013144778,
          -0.9822872507286887,
          -0.9685831611286313,
          -0.9510565162951539,
          -0.9297764858882519,
          -0.9048270524660187,
          -0.8763066800438646,
          -0.8443279255020163,
          -0.8090169943749469,
          -0.7705132427757911,
          -0.7289686274214114,
          -0.6845471059286888,
          -0.6374239897486902,
          -0.5877852522924739,
          -0.5358267949789978,
          -0.48175367410171677,
          -0.42577929156507127,
          -0.3681245526846802,
          -0.3090169943749467,
          -0.24868988716485435,
          -0.18738131458572455,
          -0.1253332335643045,
          -0.062790519529314,
          -9.797174393178826e-16,
          0.06279051952931204,
          0.1253332335643061,
          0.1873813145857261,
          0.24868988716485246,
          0.3090169943749448,
          0.36812455268467836,
          0.4257792915650727,
          0.48175367410171505,
          0.5358267949789961,
          0.5877852522924695,
          0.6374239897486914,
          0.6845471059286874,
          0.7289686274214101,
          0.7705132427757877,
          0.8090169943749479,
          0.8443279255020153,
          0.8763066800438636,
          0.9048270524660179,
          0.9297764858882525,
          0.9510565162951533,
          0.9685831611286307,
          0.9822872507286884,
          0.992114701314478,
          0.9980267284282717,
          1,
          0.9980267284282718,
          0.9921147013144774,
          0.9822872507286887,
          0.9685831611286313,
          0.9510565162951539,
          0.9297764858882506,
          0.9048270524660188,
          0.8763066800438646,
          0.8443279255020164,
          0.809016994374947,
          0.770513242775789,
          0.7289686274214116,
          0.684547105928689,
          0.637423989748693,
          0.5877852522924711,
          0.5358267949789979,
          0.4817536741017168,
          0.4257792915650746,
          0.368124552684677,
          0.3090169943749468,
          0.24868988716485446,
          0.18738131458572815,
          0.1253332335643011,
          0.06279051952931412,
          1.102182119232618e-15,
          -0.06279051952931192,
          -0.12533323356430598,
          -0.187381314585726,
          -0.24868988716485232,
          -0.3090169943749447,
          -0.36812455268467825,
          -0.4257792915650726,
          -0.48175367410171493,
          -0.535826794978996,
          -0.5877852522924751,
          -0.6374239897486913,
          -0.6845471059286873,
          -0.72896862742141,
          -0.7705132427757876,
          -0.8090169943749478,
          -0.8443279255020152,
          -0.8763066800438636,
          -0.9048270524660178,
          -0.9297764858882525,
          -0.9510565162951532,
          -0.9685831611286307,
          -0.9822872507286883,
          -0.992114701314478,
          -0.9980267284282717,
          -1,
          -0.9980267284282718,
          -0.9921147013144774,
          -0.9822872507286887,
          -0.9685831611286313,
          -0.951056516295154,
          -0.9297764858882507,
          -0.9048270524660188,
          -0.8763066800438647,
          -0.8443279255020165,
          -0.8090169943749471,
          -0.770513242775789,
          -0.7289686274214117,
          -0.6845471059286891,
          -0.6374239897486931,
          -0.5877852522924712,
          -0.535826794978998,
          -0.48175367410171693,
          -0.4257792915650747,
          -0.3681245526846771,
          -0.3090169943749469,
          -0.2486898871648546,
          -0.18738131458572826,
          -0.12533323356430123,
          -0.06279051952931425
         ],
         "yaxis": "y"
        },
        {
         "hoverlabel": {
          "namelength": 0
         },
         "hovertemplate": "<b>%{hovertext}</b><br><br>var=data2<br>t=%{x}<br>val=%{y}",
         "hovertext": [
          "data2",
          "data2",
          "data2",
          "data2",
          "data2",
          "data2",
          "data2",
          "data2",
          "data2",
          "data2",
          "data2",
          "data2",
          "data2",
          "data2",
          "data2",
          "data2",
          "data2",
          "data2",
          "data2",
          "data2",
          "data2",
          "data2",
          "data2",
          "data2",
          "data2",
          "data2",
          "data2",
          "data2",
          "data2",
          "data2",
          "data2",
          "data2",
          "data2",
          "data2",
          "data2",
          "data2",
          "data2",
          "data2",
          "data2",
          "data2",
          "data2",
          "data2",
          "data2",
          "data2",
          "data2",
          "data2",
          "data2",
          "data2",
          "data2",
          "data2",
          "data2",
          "data2",
          "data2",
          "data2",
          "data2",
          "data2",
          "data2",
          "data2",
          "data2",
          "data2",
          "data2",
          "data2",
          "data2",
          "data2",
          "data2",
          "data2",
          "data2",
          "data2",
          "data2",
          "data2",
          "data2",
          "data2",
          "data2",
          "data2",
          "data2",
          "data2",
          "data2",
          "data2",
          "data2",
          "data2",
          "data2",
          "data2",
          "data2",
          "data2",
          "data2",
          "data2",
          "data2",
          "data2",
          "data2",
          "data2",
          "data2",
          "data2",
          "data2",
          "data2",
          "data2",
          "data2",
          "data2",
          "data2",
          "data2",
          "data2",
          "data2",
          "data2",
          "data2",
          "data2",
          "data2",
          "data2",
          "data2",
          "data2",
          "data2",
          "data2",
          "data2",
          "data2",
          "data2",
          "data2",
          "data2",
          "data2",
          "data2",
          "data2",
          "data2",
          "data2",
          "data2",
          "data2",
          "data2",
          "data2",
          "data2",
          "data2",
          "data2",
          "data2",
          "data2",
          "data2",
          "data2",
          "data2",
          "data2",
          "data2",
          "data2",
          "data2",
          "data2",
          "data2",
          "data2",
          "data2",
          "data2",
          "data2",
          "data2",
          "data2",
          "data2",
          "data2",
          "data2",
          "data2",
          "data2",
          "data2",
          "data2",
          "data2",
          "data2",
          "data2",
          "data2",
          "data2",
          "data2",
          "data2",
          "data2",
          "data2",
          "data2",
          "data2",
          "data2",
          "data2",
          "data2",
          "data2",
          "data2",
          "data2",
          "data2",
          "data2",
          "data2",
          "data2",
          "data2",
          "data2",
          "data2",
          "data2",
          "data2",
          "data2",
          "data2",
          "data2",
          "data2",
          "data2",
          "data2",
          "data2",
          "data2",
          "data2",
          "data2",
          "data2",
          "data2",
          "data2",
          "data2",
          "data2",
          "data2",
          "data2",
          "data2",
          "data2",
          "data2",
          "data2",
          "data2",
          "data2",
          "data2",
          "data2",
          "data2",
          "data2",
          "data2",
          "data2",
          "data2",
          "data2",
          "data2",
          "data2",
          "data2",
          "data2",
          "data2",
          "data2",
          "data2",
          "data2",
          "data2",
          "data2",
          "data2",
          "data2",
          "data2",
          "data2",
          "data2",
          "data2",
          "data2",
          "data2",
          "data2",
          "data2",
          "data2",
          "data2",
          "data2",
          "data2",
          "data2",
          "data2",
          "data2",
          "data2",
          "data2",
          "data2",
          "data2",
          "data2",
          "data2",
          "data2",
          "data2",
          "data2",
          "data2",
          "data2",
          "data2",
          "data2",
          "data2",
          "data2",
          "data2",
          "data2",
          "data2",
          "data2",
          "data2",
          "data2",
          "data2",
          "data2",
          "data2",
          "data2",
          "data2",
          "data2",
          "data2",
          "data2",
          "data2",
          "data2",
          "data2",
          "data2",
          "data2",
          "data2",
          "data2",
          "data2",
          "data2",
          "data2",
          "data2",
          "data2",
          "data2",
          "data2",
          "data2",
          "data2",
          "data2",
          "data2",
          "data2",
          "data2",
          "data2",
          "data2",
          "data2",
          "data2",
          "data2",
          "data2",
          "data2",
          "data2",
          "data2",
          "data2",
          "data2",
          "data2",
          "data2",
          "data2",
          "data2",
          "data2",
          "data2",
          "data2",
          "data2",
          "data2",
          "data2",
          "data2",
          "data2",
          "data2",
          "data2",
          "data2",
          "data2",
          "data2",
          "data2",
          "data2",
          "data2",
          "data2",
          "data2",
          "data2",
          "data2",
          "data2",
          "data2",
          "data2",
          "data2",
          "data2",
          "data2",
          "data2",
          "data2",
          "data2",
          "data2",
          "data2",
          "data2",
          "data2",
          "data2",
          "data2",
          "data2",
          "data2",
          "data2",
          "data2",
          "data2",
          "data2",
          "data2",
          "data2",
          "data2",
          "data2",
          "data2",
          "data2",
          "data2",
          "data2",
          "data2",
          "data2",
          "data2",
          "data2",
          "data2",
          "data2",
          "data2",
          "data2",
          "data2",
          "data2",
          "data2",
          "data2",
          "data2",
          "data2",
          "data2",
          "data2",
          "data2",
          "data2",
          "data2",
          "data2",
          "data2",
          "data2",
          "data2",
          "data2",
          "data2",
          "data2",
          "data2",
          "data2",
          "data2",
          "data2",
          "data2",
          "data2",
          "data2",
          "data2",
          "data2",
          "data2",
          "data2",
          "data2",
          "data2",
          "data2",
          "data2",
          "data2",
          "data2",
          "data2",
          "data2",
          "data2",
          "data2",
          "data2",
          "data2",
          "data2",
          "data2",
          "data2",
          "data2",
          "data2",
          "data2",
          "data2",
          "data2",
          "data2",
          "data2",
          "data2",
          "data2",
          "data2",
          "data2",
          "data2",
          "data2",
          "data2",
          "data2",
          "data2",
          "data2",
          "data2",
          "data2",
          "data2",
          "data2",
          "data2",
          "data2",
          "data2",
          "data2",
          "data2",
          "data2",
          "data2",
          "data2",
          "data2",
          "data2",
          "data2",
          "data2",
          "data2",
          "data2",
          "data2",
          "data2",
          "data2",
          "data2",
          "data2",
          "data2",
          "data2",
          "data2",
          "data2",
          "data2",
          "data2",
          "data2",
          "data2",
          "data2",
          "data2",
          "data2",
          "data2",
          "data2",
          "data2",
          "data2",
          "data2",
          "data2",
          "data2",
          "data2",
          "data2",
          "data2",
          "data2",
          "data2",
          "data2",
          "data2",
          "data2",
          "data2",
          "data2",
          "data2",
          "data2",
          "data2",
          "data2",
          "data2",
          "data2",
          "data2",
          "data2",
          "data2",
          "data2",
          "data2",
          "data2",
          "data2",
          "data2",
          "data2",
          "data2",
          "data2",
          "data2",
          "data2",
          "data2",
          "data2",
          "data2",
          "data2",
          "data2",
          "data2",
          "data2",
          "data2",
          "data2",
          "data2",
          "data2",
          "data2",
          "data2"
         ],
         "legendgroup": "var=data2",
         "line": {
          "color": "#EF553B",
          "dash": "solid"
         },
         "mode": "lines",
         "name": "var=data2",
         "showlegend": true,
         "type": "scatter",
         "x": [
          0,
          0.01,
          0.02,
          0.03,
          0.04,
          0.05,
          0.06,
          0.07,
          0.08,
          0.09,
          0.1,
          0.11,
          0.12,
          0.13,
          0.14,
          0.15,
          0.16,
          0.17,
          0.18,
          0.19,
          0.2,
          0.21,
          0.22,
          0.23,
          0.24,
          0.25,
          0.26,
          0.27,
          0.28,
          0.29,
          0.3,
          0.31,
          0.32,
          0.33,
          0.34,
          0.35000000000000003,
          0.36,
          0.37,
          0.38,
          0.39,
          0.4,
          0.41000000000000003,
          0.42,
          0.43,
          0.44,
          0.45,
          0.46,
          0.47000000000000003,
          0.48,
          0.49,
          0.5,
          0.51,
          0.52,
          0.53,
          0.54,
          0.55,
          0.56,
          0.5700000000000001,
          0.58,
          0.59,
          0.6,
          0.61,
          0.62,
          0.63,
          0.64,
          0.65,
          0.66,
          0.67,
          0.68,
          0.6900000000000001,
          0.7000000000000001,
          0.71,
          0.72,
          0.73,
          0.74,
          0.75,
          0.76,
          0.77,
          0.78,
          0.79,
          0.8,
          0.81,
          0.8200000000000001,
          0.8300000000000001,
          0.84,
          0.85,
          0.86,
          0.87,
          0.88,
          0.89,
          0.9,
          0.91,
          0.92,
          0.93,
          0.9400000000000001,
          0.9500000000000001,
          0.96,
          0.97,
          0.98,
          0.99,
          1,
          1.01,
          1.02,
          1.03,
          1.04,
          1.05,
          1.06,
          1.07,
          1.08,
          1.09,
          1.1,
          1.11,
          1.12,
          1.1300000000000001,
          1.1400000000000001,
          1.1500000000000001,
          1.16,
          1.17,
          1.18,
          1.19,
          1.2,
          1.21,
          1.22,
          1.23,
          1.24,
          1.25,
          1.26,
          1.27,
          1.28,
          1.29,
          1.3,
          1.31,
          1.32,
          1.33,
          1.34,
          1.35,
          1.36,
          1.37,
          1.3800000000000001,
          1.3900000000000001,
          1.4000000000000001,
          1.41,
          1.42,
          1.43,
          1.44,
          1.45,
          1.46,
          1.47,
          1.48,
          1.49,
          1.5,
          1.51,
          1.52,
          1.53,
          1.54,
          1.55,
          1.56,
          1.57,
          1.58,
          1.59,
          1.6,
          1.61,
          1.62,
          1.6300000000000001,
          1.6400000000000001,
          1.6500000000000001,
          1.6600000000000001,
          1.67,
          1.68,
          1.69,
          1.7,
          1.71,
          1.72,
          1.73,
          1.74,
          1.75,
          1.76,
          1.77,
          1.78,
          1.79,
          1.8,
          1.81,
          1.82,
          1.83,
          1.84,
          1.85,
          1.86,
          1.87,
          1.8800000000000001,
          1.8900000000000001,
          1.9000000000000001,
          1.9100000000000001,
          1.92,
          1.93,
          1.94,
          1.95,
          1.96,
          1.97,
          1.98,
          1.99,
          2,
          2.0100000000000002,
          2.02,
          2.0300000000000002,
          2.04,
          2.05,
          2.06,
          2.07,
          2.08,
          2.09,
          2.1,
          2.11,
          2.12,
          2.13,
          2.14,
          2.15,
          2.16,
          2.17,
          2.18,
          2.19,
          2.2,
          2.21,
          2.22,
          2.23,
          2.24,
          2.25,
          2.2600000000000002,
          2.27,
          2.2800000000000002,
          2.29,
          2.3000000000000003,
          2.31,
          2.32,
          2.33,
          2.34,
          2.35,
          2.36,
          2.37,
          2.38,
          2.39,
          2.4,
          2.41,
          2.42,
          2.43,
          2.44,
          2.45,
          2.46,
          2.47,
          2.48,
          2.49,
          2.5,
          2.5100000000000002,
          2.52,
          2.5300000000000002,
          2.54,
          2.5500000000000003,
          2.56,
          2.57,
          2.58,
          2.59,
          2.6,
          2.61,
          2.62,
          2.63,
          2.64,
          2.65,
          2.66,
          2.67,
          2.68,
          2.69,
          2.7,
          2.71,
          2.72,
          2.73,
          2.74,
          2.75,
          2.7600000000000002,
          2.77,
          2.7800000000000002,
          2.79,
          2.8000000000000003,
          2.81,
          2.82,
          2.83,
          2.84,
          2.85,
          2.86,
          2.87,
          2.88,
          2.89,
          2.9,
          2.91,
          2.92,
          2.93,
          2.94,
          2.95,
          2.96,
          2.97,
          2.98,
          2.99,
          3,
          3.0100000000000002,
          3.02,
          3.0300000000000002,
          3.04,
          3.0500000000000003,
          3.06,
          3.0700000000000003,
          3.08,
          3.09,
          3.1,
          3.11,
          3.12,
          3.13,
          3.14,
          3.15,
          3.16,
          3.17,
          3.18,
          3.19,
          3.2,
          3.21,
          3.22,
          3.23,
          3.24,
          3.25,
          3.2600000000000002,
          3.27,
          3.2800000000000002,
          3.29,
          3.3000000000000003,
          3.31,
          3.3200000000000003,
          3.33,
          3.34,
          3.35,
          3.36,
          3.37,
          3.38,
          3.39,
          3.4,
          3.41,
          3.42,
          3.43,
          3.44,
          3.45,
          3.46,
          3.47,
          3.48,
          3.49,
          3.5,
          3.5100000000000002,
          3.52,
          3.5300000000000002,
          3.54,
          3.5500000000000003,
          3.56,
          3.5700000000000003,
          3.58,
          3.59,
          3.6,
          3.61,
          3.62,
          3.63,
          3.64,
          3.65,
          3.66,
          3.67,
          3.68,
          3.69,
          3.7,
          3.71,
          3.72,
          3.73,
          3.74,
          3.75,
          3.7600000000000002,
          3.77,
          3.7800000000000002,
          3.79,
          3.8000000000000003,
          3.81,
          3.8200000000000003,
          3.83,
          3.84,
          3.85,
          3.86,
          3.87,
          3.88,
          3.89,
          3.9,
          3.91,
          3.92,
          3.93,
          3.94,
          3.95,
          3.96,
          3.97,
          3.98,
          3.99,
          4,
          4.01,
          4.0200000000000005,
          4.03,
          4.04,
          4.05,
          4.0600000000000005,
          4.07,
          4.08,
          4.09,
          4.1,
          4.11,
          4.12,
          4.13,
          4.14,
          4.15,
          4.16,
          4.17,
          4.18,
          4.19,
          4.2,
          4.21,
          4.22,
          4.23,
          4.24,
          4.25,
          4.26,
          4.2700000000000005,
          4.28,
          4.29,
          4.3,
          4.3100000000000005,
          4.32,
          4.33,
          4.34,
          4.3500000000000005,
          4.36,
          4.37,
          4.38,
          4.39,
          4.4,
          4.41,
          4.42,
          4.43,
          4.44,
          4.45,
          4.46,
          4.47,
          4.48,
          4.49,
          4.5,
          4.51,
          4.5200000000000005,
          4.53,
          4.54,
          4.55,
          4.5600000000000005,
          4.57,
          4.58,
          4.59,
          4.6000000000000005,
          4.61,
          4.62,
          4.63,
          4.64,
          4.65,
          4.66,
          4.67,
          4.68,
          4.69,
          4.7,
          4.71,
          4.72,
          4.73,
          4.74,
          4.75,
          4.76,
          4.7700000000000005,
          4.78,
          4.79,
          4.8,
          4.8100000000000005,
          4.82,
          4.83,
          4.84,
          4.8500000000000005,
          4.86,
          4.87,
          4.88,
          4.89,
          4.9,
          4.91,
          4.92,
          4.93,
          4.94,
          4.95,
          4.96,
          4.97,
          4.98,
          4.99
         ],
         "xaxis": "x",
         "y": [
          1,
          0.9980267284282716,
          0.9921147013144779,
          0.9822872507286887,
          0.9685831611286311,
          0.9510565162951535,
          0.9297764858882515,
          0.9048270524660195,
          0.8763066800438636,
          0.8443279255020151,
          0.8090169943749475,
          0.7705132427757893,
          0.7289686274214116,
          0.6845471059286886,
          0.6374239897486896,
          0.5877852522924731,
          0.5358267949789965,
          0.48175367410171516,
          0.42577929156507266,
          0.3681245526846781,
          0.30901699437494745,
          0.24868988716485496,
          0.18738131458572474,
          0.12533323356430426,
          0.06279051952931353,
          6.123233995736766e-17,
          -0.0627905195293134,
          -0.12533323356430437,
          -0.18738131458572482,
          -0.24868988716485463,
          -0.30901699437494734,
          -0.368124552684678,
          -0.4257792915650727,
          -0.48175367410171543,
          -0.5358267949789969,
          -0.587785252292473,
          -0.6374239897486897,
          -0.6845471059286887,
          -0.7289686274214113,
          -0.7705132427757891,
          -0.8090169943749473,
          -0.8443279255020151,
          -0.8763066800438634,
          -0.9048270524660194,
          -0.9297764858882513,
          -0.9510565162951535,
          -0.9685831611286311,
          -0.9822872507286887,
          -0.9921147013144778,
          -0.9980267284282716,
          -1,
          -0.9980267284282716,
          -0.9921147013144779,
          -0.9822872507286886,
          -0.9685831611286311,
          -0.9510565162951535,
          -0.9297764858882512,
          -0.9048270524660195,
          -0.8763066800438637,
          -0.8443279255020152,
          -0.8090169943749476,
          -0.7705132427757893,
          -0.7289686274214116,
          -0.684547105928689,
          -0.6374239897486895,
          -0.5877852522924732,
          -0.5358267949789963,
          -0.48175367410171527,
          -0.42577929156507216,
          -0.3681245526846778,
          -0.30901699437494756,
          -0.2486898871648553,
          -0.18738131458572463,
          -0.1253332335643046,
          -0.06279051952931321,
          -1.8369701987210297e-16,
          0.06279051952931283,
          0.12533323356430423,
          0.18738131458572427,
          0.24868988716485493,
          0.30901699437494723,
          0.36812455268467825,
          0.4257792915650726,
          0.4817536741017157,
          0.535826794978996,
          0.5877852522924729,
          0.6374239897486893,
          0.6845471059286886,
          0.7289686274214112,
          0.7705132427757894,
          0.8090169943749473,
          0.8443279255020153,
          0.8763066800438636,
          0.9048270524660197,
          0.9297764858882515,
          0.9510565162951535,
          0.968583161128631,
          0.9822872507286887,
          0.9921147013144778,
          0.9980267284282716,
          1,
          0.9980267284282716,
          0.9921147013144779,
          0.9822872507286887,
          0.9685831611286311,
          0.9510565162951536,
          0.9297764858882513,
          0.9048270524660196,
          0.8763066800438634,
          0.8443279255020151,
          0.809016994374947,
          0.770513242775789,
          0.728968627421411,
          0.6845471059286884,
          0.6374239897486896,
          0.5877852522924727,
          0.5358267949789972,
          0.48175367410171616,
          0.42577929156507305,
          0.36812455268467875,
          0.30901699437494773,
          0.24868988716485543,
          0.18738131458572474,
          0.12533323356430473,
          0.06279051952931332,
          3.061616997868383e-16,
          -0.06279051952931271,
          -0.12533323356430412,
          -0.18738131458572502,
          -0.24868988716485482,
          -0.3090169943749471,
          -0.3681245526846773,
          -0.4257792915650733,
          -0.4817536741017156,
          -0.5358267949789967,
          -0.5877852522924729,
          -0.6374239897486905,
          -0.6845471059286892,
          -0.7289686274214118,
          -0.7705132427757893,
          -0.8090169943749472,
          -0.8443279255020147,
          -0.876306680043863,
          -0.9048270524660189,
          -0.9297764858882515,
          -0.9510565162951534,
          -0.968583161128631,
          -0.9822872507286885,
          -0.9921147013144779,
          -0.9980267284282716,
          -1,
          -0.9980267284282716,
          -0.992114701314478,
          -0.9822872507286886,
          -0.9685831611286311,
          -0.9510565162951536,
          -0.9297764858882517,
          -0.9048270524660192,
          -0.8763066800438635,
          -0.8443279255020151,
          -0.8090169943749477,
          -0.7705132427757886,
          -0.7289686274214111,
          -0.6845471059286884,
          -0.6374239897486897,
          -0.5877852522924735,
          -0.5358267949789958,
          -0.48175367410171627,
          -0.425779291565074,
          -0.36812455268467803,
          -0.30901699437494784,
          -0.24868988716485554,
          -0.18738131458572574,
          -0.12533323356430395,
          -0.06279051952931344,
          -4.286263797015736e-16,
          0.0627905195293126,
          0.12533323356430312,
          0.1873813145857249,
          0.2486898871648547,
          0.309016994374947,
          0.3681245526846772,
          0.4257792915650732,
          0.4817536741017155,
          0.5358267949789965,
          0.5877852522924728,
          0.6374239897486904,
          0.6845471059286892,
          0.7289686274214117,
          0.7705132427757891,
          0.8090169943749471,
          0.8443279255020156,
          0.876306680043863,
          0.9048270524660189,
          0.9297764858882513,
          0.9510565162951534,
          0.968583161128631,
          0.9822872507286885,
          0.9921147013144779,
          0.9980267284282716,
          1,
          0.9980267284282716,
          0.992114701314478,
          0.9822872507286886,
          0.9685831611286312,
          0.9510565162951543,
          0.9297764858882517,
          0.90482705246602,
          0.8763066800438635,
          0.8443279255020161,
          0.8090169943749477,
          0.7705132427757898,
          0.7289686274214111,
          0.6845471059286898,
          0.6374239897486899,
          0.5877852522924736,
          0.5358267949789959,
          0.4817536741017164,
          0.4257792915650725,
          0.36812455268467814,
          0.30901699437494623,
          0.24868988716485566,
          0.18738131458572413,
          0.1253332335643041,
          0.06279051952931179,
          5.51091059616309e-16,
          -0.06279051952931425,
          -0.12533323356430298,
          -0.18738131458572477,
          -0.2486898871648546,
          -0.30901699437494856,
          -0.3681245526846771,
          -0.4257792915650715,
          -0.4817536741017154,
          -0.5358267949789949,
          -0.5877852522924727,
          -0.637423989748689,
          -0.6845471059286891,
          -0.7289686274214104,
          -0.770513242775789,
          -0.8090169943749471,
          -0.8443279255020155,
          -0.8763066800438629,
          -0.9048270524660196,
          -0.9297764858882513,
          -0.951056516295154,
          -0.9685831611286309,
          -0.9822872507286887,
          -0.9921147013144779,
          -0.9980267284282717,
          -1,
          -0.9980267284282716,
          -0.992114701314478,
          -0.9822872507286886,
          -0.9685831611286312,
          -0.9510565162951532,
          -0.9297764858882511,
          -0.9048270524660209,
          -0.8763066800438636,
          -0.8443279255020152,
          -0.8090169943749478,
          -0.7705132427757899,
          -0.7289686274214124,
          -0.68454710592869,
          -0.6374239897486885,
          -0.5877852522924751,
          -0.535826794978996,
          -0.48175367410171493,
          -0.4257792915650726,
          -0.36812455268467825,
          -0.30901699437494806,
          -0.24868988716485577,
          -0.1873813145857225,
          -0.12533323356430598,
          -0.06279051952931192,
          -2.4499125789312946e-15,
          0.06279051952931412,
          0.12533323356430462,
          0.18738131458572466,
          0.24868988716485446,
          0.3090169943749468,
          0.368124552684677,
          0.4257792915650714,
          0.4817536741017137,
          0.5358267949789949,
          0.587785252292474,
          0.6374239897486875,
          0.684547105928689,
          0.7289686274214116,
          0.770513242775789,
          0.809016994374947,
          0.8443279255020145,
          0.8763066800438629,
          0.9048270524660202,
          0.9297764858882506,
          0.9510565162951539,
          0.9685831611286313,
          0.9822872507286887,
          0.9921147013144779,
          0.9980267284282716,
          1,
          0.9980267284282714,
          0.992114701314478,
          0.9822872507286884,
          0.9685831611286316,
          0.9510565162951533,
          0.9297764858882511,
          0.9048270524660194,
          0.8763066800438636,
          0.8443279255020153,
          0.8090169943749479,
          0.7705132427757899,
          0.7289686274214126,
          0.6845471059286901,
          0.6374239897486886,
          0.5877852522924751,
          0.5358267949789961,
          0.48175367410171505,
          0.4257792915650727,
          0.36812455268467836,
          0.3090169943749482,
          0.2486898871648559,
          0.1873813145857226,
          0.1253332335643061,
          0.06279051952931204,
          -9.803364199544708e-16,
          -0.062790519529314,
          -0.1253332335643045,
          -0.18738131458572455,
          -0.24868988716485435,
          -0.3090169943749467,
          -0.36812455268467686,
          -0.4257792915650745,
          -0.4817536741017136,
          -0.5358267949789948,
          -0.5877852522924739,
          -0.6374239897486874,
          -0.6845471059286888,
          -0.7289686274214114,
          -0.7705132427757889,
          -0.8090169943749469,
          -0.8443279255020144,
          -0.8763066800438628,
          -0.9048270524660202,
          -0.9297764858882506,
          -0.9510565162951539,
          -0.9685831611286313,
          -0.9822872507286887,
          -0.9921147013144778,
          -0.9980267284282716,
          -1,
          -0.9980267284282714,
          -0.992114701314478,
          -0.9822872507286884,
          -0.9685831611286317,
          -0.9510565162951533,
          -0.9297764858882512,
          -0.9048270524660195,
          -0.8763066800438637,
          -0.8443279255020154,
          -0.8090169943749479,
          -0.77051324277579,
          -0.7289686274214127,
          -0.6845471059286901,
          -0.6374239897486887,
          -0.5877852522924752,
          -0.5358267949789962,
          -0.4817536741017151,
          -0.4257792915650728,
          -0.3681245526846785,
          -0.3090169943749483,
          -0.24868988716485602,
          -0.18738131458572274,
          -0.1253332335643062,
          -0.06279051952931217,
          -2.6948419387607653e-15,
          0.06279051952931387,
          0.1253332335643044,
          0.1873813145857244,
          0.24868988716485424,
          0.30901699437494656,
          0.36812455268467675,
          0.4257792915650744,
          0.4817536741017135,
          0.5358267949789947,
          0.5877852522924738,
          0.6374239897486873,
          0.6845471059286887,
          0.7289686274214113,
          0.7705132427757888,
          0.8090169943749469,
          0.8443279255020144,
          0.8763066800438628,
          0.9048270524660201,
          0.9297764858882506,
          0.9510565162951539,
          0.9685831611286312,
          0.9822872507286887,
          0.9921147013144778,
          0.9980267284282716,
          1,
          0.9980267284282717,
          0.9921147013144775,
          0.9822872507286884,
          0.9685831611286317,
          0.9510565162951544,
          0.9297764858882512,
          0.9048270524660195,
          0.8763066800438637,
          0.8443279255020154,
          0.8090169943749501,
          0.7705132427757878,
          0.7289686274214127,
          0.6845471059286902,
          0.6374239897486916,
          0.5877852522924725,
          0.5358267949789963,
          0.4817536741017152,
          0.42577929156507616,
          0.36812455268467525,
          0.3090169943749484,
          0.24868988716485613,
          0.18738131458572635,
          0.12533323356430282,
          0.06279051952931229,
          -7.354070601250002e-16,
          -0.06279051952931021,
          -0.12533323356430778,
          -0.1873813145857243,
          -0.2486898871648541,
          -0.3090169943749464,
          -0.36812455268468,
          -0.42577929156507427,
          -0.48175367410171344,
          -0.5358267949789945,
          -0.5877852522924737,
          -0.63742398974869,
          -0.6845471059286886,
          -0.7289686274214113,
          -0.7705132427757865,
          -0.8090169943749489,
          -0.8443279255020143,
          -0.8763066800438627,
          -0.9048270524660186,
          -0.9297764858882518,
          -0.9510565162951538,
          -0.9685831611286312,
          -0.982287250728688,
          -0.9921147013144782,
          -0.9980267284282716,
          -1,
          -0.9980267284282717,
          -0.9921147013144777,
          -0.9822872507286884,
          -0.9685831611286317,
          -0.9510565162951544,
          -0.9297764858882512,
          -0.9048270524660196,
          -0.8763066800438638,
          -0.8443279255020155,
          -0.809016994374946,
          -0.7705132427757879,
          -0.7289686274214128,
          -0.6845471059286903,
          -0.6374239897486916,
          -0.5877852522924726,
          -0.5358267949789964,
          -0.4817536741017153,
          -0.42577929156507627,
          -0.3681245526846754,
          -0.3090169943749485,
          -0.24868988716485624,
          -0.18738131458572646,
          -0.12533323356430293,
          -0.0627905195293124,
          -2.939771298590236e-15,
          0.06279051952931008,
          0.12533323356430767,
          0.18738131458572418,
          0.248689887164854,
          0.3090169943749463,
          0.36812455268467986,
          0.42577929156507416,
          0.4817536741017133,
          0.5358267949789944,
          0.5877852522924736,
          0.6374239897486899,
          0.6845471059286886,
          0.7289686274214112,
          0.7705132427757865,
          0.8090169943749488,
          0.8443279255020143,
          0.8763066800438627,
          0.9048270524660186,
          0.9297764858882518,
          0.9510565162951538,
          0.9685831611286312,
          0.9822872507286879,
          0.9921147013144782,
          0.9980267284282716
         ],
         "yaxis": "y"
        }
       ],
       "layout": {
        "height": 600,
        "legend": {
         "tracegroupgap": 0
        },
        "margin": {
         "t": 60
        },
        "template": {
         "data": {
          "bar": [
           {
            "error_x": {
             "color": "#2a3f5f"
            },
            "error_y": {
             "color": "#2a3f5f"
            },
            "marker": {
             "line": {
              "color": "#E5ECF6",
              "width": 0.5
             }
            },
            "type": "bar"
           }
          ],
          "barpolar": [
           {
            "marker": {
             "line": {
              "color": "#E5ECF6",
              "width": 0.5
             }
            },
            "type": "barpolar"
           }
          ],
          "carpet": [
           {
            "aaxis": {
             "endlinecolor": "#2a3f5f",
             "gridcolor": "white",
             "linecolor": "white",
             "minorgridcolor": "white",
             "startlinecolor": "#2a3f5f"
            },
            "baxis": {
             "endlinecolor": "#2a3f5f",
             "gridcolor": "white",
             "linecolor": "white",
             "minorgridcolor": "white",
             "startlinecolor": "#2a3f5f"
            },
            "type": "carpet"
           }
          ],
          "choropleth": [
           {
            "colorbar": {
             "outlinewidth": 0,
             "ticks": ""
            },
            "type": "choropleth"
           }
          ],
          "contour": [
           {
            "colorbar": {
             "outlinewidth": 0,
             "ticks": ""
            },
            "colorscale": [
             [
              0,
              "#0d0887"
             ],
             [
              0.1111111111111111,
              "#46039f"
             ],
             [
              0.2222222222222222,
              "#7201a8"
             ],
             [
              0.3333333333333333,
              "#9c179e"
             ],
             [
              0.4444444444444444,
              "#bd3786"
             ],
             [
              0.5555555555555556,
              "#d8576b"
             ],
             [
              0.6666666666666666,
              "#ed7953"
             ],
             [
              0.7777777777777778,
              "#fb9f3a"
             ],
             [
              0.8888888888888888,
              "#fdca26"
             ],
             [
              1,
              "#f0f921"
             ]
            ],
            "type": "contour"
           }
          ],
          "contourcarpet": [
           {
            "colorbar": {
             "outlinewidth": 0,
             "ticks": ""
            },
            "type": "contourcarpet"
           }
          ],
          "heatmap": [
           {
            "colorbar": {
             "outlinewidth": 0,
             "ticks": ""
            },
            "colorscale": [
             [
              0,
              "#0d0887"
             ],
             [
              0.1111111111111111,
              "#46039f"
             ],
             [
              0.2222222222222222,
              "#7201a8"
             ],
             [
              0.3333333333333333,
              "#9c179e"
             ],
             [
              0.4444444444444444,
              "#bd3786"
             ],
             [
              0.5555555555555556,
              "#d8576b"
             ],
             [
              0.6666666666666666,
              "#ed7953"
             ],
             [
              0.7777777777777778,
              "#fb9f3a"
             ],
             [
              0.8888888888888888,
              "#fdca26"
             ],
             [
              1,
              "#f0f921"
             ]
            ],
            "type": "heatmap"
           }
          ],
          "heatmapgl": [
           {
            "colorbar": {
             "outlinewidth": 0,
             "ticks": ""
            },
            "colorscale": [
             [
              0,
              "#0d0887"
             ],
             [
              0.1111111111111111,
              "#46039f"
             ],
             [
              0.2222222222222222,
              "#7201a8"
             ],
             [
              0.3333333333333333,
              "#9c179e"
             ],
             [
              0.4444444444444444,
              "#bd3786"
             ],
             [
              0.5555555555555556,
              "#d8576b"
             ],
             [
              0.6666666666666666,
              "#ed7953"
             ],
             [
              0.7777777777777778,
              "#fb9f3a"
             ],
             [
              0.8888888888888888,
              "#fdca26"
             ],
             [
              1,
              "#f0f921"
             ]
            ],
            "type": "heatmapgl"
           }
          ],
          "histogram": [
           {
            "marker": {
             "colorbar": {
              "outlinewidth": 0,
              "ticks": ""
             }
            },
            "type": "histogram"
           }
          ],
          "histogram2d": [
           {
            "colorbar": {
             "outlinewidth": 0,
             "ticks": ""
            },
            "colorscale": [
             [
              0,
              "#0d0887"
             ],
             [
              0.1111111111111111,
              "#46039f"
             ],
             [
              0.2222222222222222,
              "#7201a8"
             ],
             [
              0.3333333333333333,
              "#9c179e"
             ],
             [
              0.4444444444444444,
              "#bd3786"
             ],
             [
              0.5555555555555556,
              "#d8576b"
             ],
             [
              0.6666666666666666,
              "#ed7953"
             ],
             [
              0.7777777777777778,
              "#fb9f3a"
             ],
             [
              0.8888888888888888,
              "#fdca26"
             ],
             [
              1,
              "#f0f921"
             ]
            ],
            "type": "histogram2d"
           }
          ],
          "histogram2dcontour": [
           {
            "colorbar": {
             "outlinewidth": 0,
             "ticks": ""
            },
            "colorscale": [
             [
              0,
              "#0d0887"
             ],
             [
              0.1111111111111111,
              "#46039f"
             ],
             [
              0.2222222222222222,
              "#7201a8"
             ],
             [
              0.3333333333333333,
              "#9c179e"
             ],
             [
              0.4444444444444444,
              "#bd3786"
             ],
             [
              0.5555555555555556,
              "#d8576b"
             ],
             [
              0.6666666666666666,
              "#ed7953"
             ],
             [
              0.7777777777777778,
              "#fb9f3a"
             ],
             [
              0.8888888888888888,
              "#fdca26"
             ],
             [
              1,
              "#f0f921"
             ]
            ],
            "type": "histogram2dcontour"
           }
          ],
          "mesh3d": [
           {
            "colorbar": {
             "outlinewidth": 0,
             "ticks": ""
            },
            "type": "mesh3d"
           }
          ],
          "parcoords": [
           {
            "line": {
             "colorbar": {
              "outlinewidth": 0,
              "ticks": ""
             }
            },
            "type": "parcoords"
           }
          ],
          "scatter": [
           {
            "marker": {
             "colorbar": {
              "outlinewidth": 0,
              "ticks": ""
             }
            },
            "type": "scatter"
           }
          ],
          "scatter3d": [
           {
            "line": {
             "colorbar": {
              "outlinewidth": 0,
              "ticks": ""
             }
            },
            "marker": {
             "colorbar": {
              "outlinewidth": 0,
              "ticks": ""
             }
            },
            "type": "scatter3d"
           }
          ],
          "scattercarpet": [
           {
            "marker": {
             "colorbar": {
              "outlinewidth": 0,
              "ticks": ""
             }
            },
            "type": "scattercarpet"
           }
          ],
          "scattergeo": [
           {
            "marker": {
             "colorbar": {
              "outlinewidth": 0,
              "ticks": ""
             }
            },
            "type": "scattergeo"
           }
          ],
          "scattergl": [
           {
            "marker": {
             "colorbar": {
              "outlinewidth": 0,
              "ticks": ""
             }
            },
            "type": "scattergl"
           }
          ],
          "scattermapbox": [
           {
            "marker": {
             "colorbar": {
              "outlinewidth": 0,
              "ticks": ""
             }
            },
            "type": "scattermapbox"
           }
          ],
          "scatterpolar": [
           {
            "marker": {
             "colorbar": {
              "outlinewidth": 0,
              "ticks": ""
             }
            },
            "type": "scatterpolar"
           }
          ],
          "scatterpolargl": [
           {
            "marker": {
             "colorbar": {
              "outlinewidth": 0,
              "ticks": ""
             }
            },
            "type": "scatterpolargl"
           }
          ],
          "scatterternary": [
           {
            "marker": {
             "colorbar": {
              "outlinewidth": 0,
              "ticks": ""
             }
            },
            "type": "scatterternary"
           }
          ],
          "surface": [
           {
            "colorbar": {
             "outlinewidth": 0,
             "ticks": ""
            },
            "colorscale": [
             [
              0,
              "#0d0887"
             ],
             [
              0.1111111111111111,
              "#46039f"
             ],
             [
              0.2222222222222222,
              "#7201a8"
             ],
             [
              0.3333333333333333,
              "#9c179e"
             ],
             [
              0.4444444444444444,
              "#bd3786"
             ],
             [
              0.5555555555555556,
              "#d8576b"
             ],
             [
              0.6666666666666666,
              "#ed7953"
             ],
             [
              0.7777777777777778,
              "#fb9f3a"
             ],
             [
              0.8888888888888888,
              "#fdca26"
             ],
             [
              1,
              "#f0f921"
             ]
            ],
            "type": "surface"
           }
          ],
          "table": [
           {
            "cells": {
             "fill": {
              "color": "#EBF0F8"
             },
             "line": {
              "color": "white"
             }
            },
            "header": {
             "fill": {
              "color": "#C8D4E3"
             },
             "line": {
              "color": "white"
             }
            },
            "type": "table"
           }
          ]
         },
         "layout": {
          "annotationdefaults": {
           "arrowcolor": "#2a3f5f",
           "arrowhead": 0,
           "arrowwidth": 1
          },
          "colorscale": {
           "diverging": [
            [
             0,
             "#8e0152"
            ],
            [
             0.1,
             "#c51b7d"
            ],
            [
             0.2,
             "#de77ae"
            ],
            [
             0.3,
             "#f1b6da"
            ],
            [
             0.4,
             "#fde0ef"
            ],
            [
             0.5,
             "#f7f7f7"
            ],
            [
             0.6,
             "#e6f5d0"
            ],
            [
             0.7,
             "#b8e186"
            ],
            [
             0.8,
             "#7fbc41"
            ],
            [
             0.9,
             "#4d9221"
            ],
            [
             1,
             "#276419"
            ]
           ],
           "sequential": [
            [
             0,
             "#0d0887"
            ],
            [
             0.1111111111111111,
             "#46039f"
            ],
            [
             0.2222222222222222,
             "#7201a8"
            ],
            [
             0.3333333333333333,
             "#9c179e"
            ],
            [
             0.4444444444444444,
             "#bd3786"
            ],
            [
             0.5555555555555556,
             "#d8576b"
            ],
            [
             0.6666666666666666,
             "#ed7953"
            ],
            [
             0.7777777777777778,
             "#fb9f3a"
            ],
            [
             0.8888888888888888,
             "#fdca26"
            ],
            [
             1,
             "#f0f921"
            ]
           ],
           "sequentialminus": [
            [
             0,
             "#0d0887"
            ],
            [
             0.1111111111111111,
             "#46039f"
            ],
            [
             0.2222222222222222,
             "#7201a8"
            ],
            [
             0.3333333333333333,
             "#9c179e"
            ],
            [
             0.4444444444444444,
             "#bd3786"
            ],
            [
             0.5555555555555556,
             "#d8576b"
            ],
            [
             0.6666666666666666,
             "#ed7953"
            ],
            [
             0.7777777777777778,
             "#fb9f3a"
            ],
            [
             0.8888888888888888,
             "#fdca26"
            ],
            [
             1,
             "#f0f921"
            ]
           ]
          },
          "colorway": [
           "#636efa",
           "#EF553B",
           "#00cc96",
           "#ab63fa",
           "#FFA15A",
           "#19d3f3",
           "#FF6692",
           "#B6E880",
           "#FF97FF",
           "#FECB52"
          ],
          "font": {
           "color": "#2a3f5f"
          },
          "geo": {
           "bgcolor": "white",
           "lakecolor": "white",
           "landcolor": "#E5ECF6",
           "showlakes": true,
           "showland": true,
           "subunitcolor": "white"
          },
          "hoverlabel": {
           "align": "left"
          },
          "hovermode": "closest",
          "mapbox": {
           "style": "light"
          },
          "paper_bgcolor": "white",
          "plot_bgcolor": "#E5ECF6",
          "polar": {
           "angularaxis": {
            "gridcolor": "white",
            "linecolor": "white",
            "ticks": ""
           },
           "bgcolor": "#E5ECF6",
           "radialaxis": {
            "gridcolor": "white",
            "linecolor": "white",
            "ticks": ""
           }
          },
          "scene": {
           "xaxis": {
            "backgroundcolor": "#E5ECF6",
            "gridcolor": "white",
            "gridwidth": 2,
            "linecolor": "white",
            "showbackground": true,
            "ticks": "",
            "zerolinecolor": "white"
           },
           "yaxis": {
            "backgroundcolor": "#E5ECF6",
            "gridcolor": "white",
            "gridwidth": 2,
            "linecolor": "white",
            "showbackground": true,
            "ticks": "",
            "zerolinecolor": "white"
           },
           "zaxis": {
            "backgroundcolor": "#E5ECF6",
            "gridcolor": "white",
            "gridwidth": 2,
            "linecolor": "white",
            "showbackground": true,
            "ticks": "",
            "zerolinecolor": "white"
           }
          },
          "shapedefaults": {
           "line": {
            "color": "#2a3f5f"
           }
          },
          "ternary": {
           "aaxis": {
            "gridcolor": "white",
            "linecolor": "white",
            "ticks": ""
           },
           "baxis": {
            "gridcolor": "white",
            "linecolor": "white",
            "ticks": ""
           },
           "bgcolor": "#E5ECF6",
           "caxis": {
            "gridcolor": "white",
            "linecolor": "white",
            "ticks": ""
           }
          },
          "title": {
           "x": 0.05
          },
          "xaxis": {
           "automargin": true,
           "gridcolor": "white",
           "linecolor": "white",
           "ticks": "",
           "zerolinecolor": "white",
           "zerolinewidth": 2
          },
          "yaxis": {
           "automargin": true,
           "gridcolor": "white",
           "linecolor": "white",
           "ticks": "",
           "zerolinecolor": "white",
           "zerolinewidth": 2
          }
         }
        },
        "xaxis": {
         "anchor": "y",
         "domain": [
          0,
          0.98
         ],
         "title": {
          "text": "t"
         }
        },
        "yaxis": {
         "anchor": "x",
         "domain": [
          0,
          1
         ],
         "title": {
          "text": "val"
         }
        }
       }
      },
      "text/html": [
       "<div>\n",
       "        \n",
       "        \n",
       "            <div id=\"fabf898c-836b-4472-9a19-5cc8abbebb8d\" class=\"plotly-graph-div\" style=\"height:600px; width:100%;\"></div>\n",
       "            <script type=\"text/javascript\">\n",
       "                require([\"plotly\"], function(Plotly) {\n",
       "                    window.PLOTLYENV=window.PLOTLYENV || {};\n",
       "                    \n",
       "                if (document.getElementById(\"fabf898c-836b-4472-9a19-5cc8abbebb8d\")) {\n",
       "                    Plotly.newPlot(\n",
       "                        'fabf898c-836b-4472-9a19-5cc8abbebb8d',\n",
       "                        [{\"hoverlabel\": {\"namelength\": 0}, \"hovertemplate\": \"<b>%{hovertext}</b><br><br>var=data1<br>t=%{x}<br>val=%{y}\", \"hovertext\": [\"data1\", \"data1\", \"data1\", \"data1\", \"data1\", \"data1\", \"data1\", \"data1\", \"data1\", \"data1\", \"data1\", \"data1\", \"data1\", \"data1\", \"data1\", \"data1\", \"data1\", \"data1\", \"data1\", \"data1\", \"data1\", \"data1\", \"data1\", \"data1\", \"data1\", \"data1\", \"data1\", \"data1\", \"data1\", \"data1\", \"data1\", \"data1\", \"data1\", \"data1\", \"data1\", \"data1\", \"data1\", \"data1\", \"data1\", \"data1\", \"data1\", \"data1\", \"data1\", \"data1\", \"data1\", \"data1\", \"data1\", \"data1\", \"data1\", \"data1\", \"data1\", \"data1\", \"data1\", \"data1\", \"data1\", \"data1\", \"data1\", \"data1\", \"data1\", \"data1\", \"data1\", \"data1\", \"data1\", \"data1\", \"data1\", \"data1\", \"data1\", \"data1\", \"data1\", \"data1\", \"data1\", \"data1\", \"data1\", \"data1\", \"data1\", \"data1\", \"data1\", \"data1\", \"data1\", \"data1\", \"data1\", \"data1\", \"data1\", \"data1\", \"data1\", \"data1\", \"data1\", \"data1\", \"data1\", \"data1\", \"data1\", \"data1\", \"data1\", \"data1\", \"data1\", \"data1\", \"data1\", \"data1\", \"data1\", \"data1\", \"data1\", \"data1\", \"data1\", \"data1\", \"data1\", \"data1\", \"data1\", \"data1\", \"data1\", \"data1\", \"data1\", \"data1\", \"data1\", \"data1\", \"data1\", \"data1\", \"data1\", \"data1\", \"data1\", \"data1\", \"data1\", \"data1\", \"data1\", \"data1\", \"data1\", \"data1\", \"data1\", \"data1\", \"data1\", \"data1\", \"data1\", \"data1\", \"data1\", \"data1\", \"data1\", \"data1\", \"data1\", \"data1\", \"data1\", \"data1\", \"data1\", \"data1\", \"data1\", \"data1\", \"data1\", \"data1\", \"data1\", \"data1\", \"data1\", \"data1\", \"data1\", \"data1\", \"data1\", \"data1\", \"data1\", \"data1\", \"data1\", \"data1\", \"data1\", \"data1\", \"data1\", \"data1\", \"data1\", \"data1\", \"data1\", \"data1\", \"data1\", \"data1\", \"data1\", \"data1\", \"data1\", \"data1\", \"data1\", \"data1\", \"data1\", \"data1\", \"data1\", \"data1\", \"data1\", \"data1\", \"data1\", \"data1\", \"data1\", \"data1\", \"data1\", \"data1\", \"data1\", \"data1\", \"data1\", \"data1\", \"data1\", \"data1\", \"data1\", \"data1\", \"data1\", \"data1\", \"data1\", \"data1\", \"data1\", \"data1\", \"data1\", \"data1\", \"data1\", \"data1\", \"data1\", \"data1\", \"data1\", \"data1\", \"data1\", \"data1\", \"data1\", \"data1\", \"data1\", \"data1\", \"data1\", \"data1\", \"data1\", \"data1\", \"data1\", \"data1\", \"data1\", \"data1\", \"data1\", \"data1\", \"data1\", \"data1\", \"data1\", \"data1\", \"data1\", \"data1\", \"data1\", \"data1\", \"data1\", \"data1\", \"data1\", \"data1\", \"data1\", \"data1\", \"data1\", \"data1\", \"data1\", \"data1\", \"data1\", \"data1\", \"data1\", \"data1\", \"data1\", \"data1\", \"data1\", \"data1\", \"data1\", \"data1\", \"data1\", \"data1\", \"data1\", \"data1\", \"data1\", \"data1\", \"data1\", \"data1\", \"data1\", \"data1\", \"data1\", \"data1\", \"data1\", \"data1\", \"data1\", \"data1\", \"data1\", \"data1\", \"data1\", \"data1\", \"data1\", \"data1\", \"data1\", \"data1\", \"data1\", \"data1\", \"data1\", \"data1\", \"data1\", \"data1\", \"data1\", \"data1\", \"data1\", \"data1\", \"data1\", \"data1\", \"data1\", \"data1\", \"data1\", \"data1\", \"data1\", \"data1\", \"data1\", \"data1\", \"data1\", \"data1\", \"data1\", \"data1\", \"data1\", \"data1\", \"data1\", \"data1\", \"data1\", \"data1\", \"data1\", \"data1\", \"data1\", \"data1\", \"data1\", \"data1\", \"data1\", \"data1\", \"data1\", \"data1\", \"data1\", \"data1\", \"data1\", \"data1\", \"data1\", \"data1\", \"data1\", \"data1\", \"data1\", \"data1\", \"data1\", \"data1\", \"data1\", \"data1\", \"data1\", \"data1\", \"data1\", \"data1\", \"data1\", \"data1\", \"data1\", \"data1\", \"data1\", \"data1\", \"data1\", \"data1\", \"data1\", \"data1\", \"data1\", \"data1\", \"data1\", \"data1\", \"data1\", \"data1\", \"data1\", \"data1\", \"data1\", \"data1\", \"data1\", \"data1\", \"data1\", \"data1\", \"data1\", \"data1\", \"data1\", \"data1\", \"data1\", \"data1\", \"data1\", \"data1\", \"data1\", \"data1\", \"data1\", \"data1\", \"data1\", \"data1\", \"data1\", \"data1\", \"data1\", \"data1\", \"data1\", \"data1\", \"data1\", \"data1\", \"data1\", \"data1\", \"data1\", \"data1\", \"data1\", \"data1\", \"data1\", \"data1\", \"data1\", \"data1\", \"data1\", \"data1\", \"data1\", \"data1\", \"data1\", \"data1\", \"data1\", \"data1\", \"data1\", \"data1\", \"data1\", \"data1\", \"data1\", \"data1\", \"data1\", \"data1\", \"data1\", \"data1\", \"data1\", \"data1\", \"data1\", \"data1\", \"data1\", \"data1\", \"data1\", \"data1\", \"data1\", \"data1\", \"data1\", \"data1\", \"data1\", \"data1\", \"data1\", \"data1\", \"data1\", \"data1\", \"data1\", \"data1\", \"data1\", \"data1\", \"data1\", \"data1\", \"data1\", \"data1\", \"data1\", \"data1\", \"data1\", \"data1\", \"data1\", \"data1\", \"data1\", \"data1\", \"data1\", \"data1\", \"data1\", \"data1\", \"data1\", \"data1\", \"data1\", \"data1\", \"data1\", \"data1\", \"data1\", \"data1\", \"data1\", \"data1\", \"data1\", \"data1\", \"data1\", \"data1\", \"data1\", \"data1\", \"data1\", \"data1\", \"data1\", \"data1\", \"data1\", \"data1\", \"data1\", \"data1\", \"data1\", \"data1\", \"data1\", \"data1\", \"data1\", \"data1\", \"data1\", \"data1\", \"data1\", \"data1\", \"data1\", \"data1\", \"data1\", \"data1\", \"data1\", \"data1\", \"data1\", \"data1\", \"data1\", \"data1\", \"data1\", \"data1\", \"data1\", \"data1\", \"data1\", \"data1\", \"data1\", \"data1\", \"data1\", \"data1\"], \"legendgroup\": \"var=data1\", \"line\": {\"color\": \"#636efa\", \"dash\": \"solid\"}, \"mode\": \"lines\", \"name\": \"var=data1\", \"showlegend\": true, \"type\": \"scatter\", \"x\": [0.0, 0.01, 0.02, 0.03, 0.04, 0.05, 0.06, 0.07, 0.08, 0.09, 0.1, 0.11, 0.12, 0.13, 0.14, 0.15, 0.16, 0.17, 0.18, 0.19, 0.2, 0.21, 0.22, 0.23, 0.24, 0.25, 0.26, 0.27, 0.28, 0.29, 0.3, 0.31, 0.32, 0.33, 0.34, 0.35000000000000003, 0.36, 0.37, 0.38, 0.39, 0.4, 0.41000000000000003, 0.42, 0.43, 0.44, 0.45, 0.46, 0.47000000000000003, 0.48, 0.49, 0.5, 0.51, 0.52, 0.53, 0.54, 0.55, 0.56, 0.5700000000000001, 0.58, 0.59, 0.6, 0.61, 0.62, 0.63, 0.64, 0.65, 0.66, 0.67, 0.68, 0.6900000000000001, 0.7000000000000001, 0.71, 0.72, 0.73, 0.74, 0.75, 0.76, 0.77, 0.78, 0.79, 0.8, 0.81, 0.8200000000000001, 0.8300000000000001, 0.84, 0.85, 0.86, 0.87, 0.88, 0.89, 0.9, 0.91, 0.92, 0.93, 0.9400000000000001, 0.9500000000000001, 0.96, 0.97, 0.98, 0.99, 1.0, 1.01, 1.02, 1.03, 1.04, 1.05, 1.06, 1.07, 1.08, 1.09, 1.1, 1.11, 1.12, 1.1300000000000001, 1.1400000000000001, 1.1500000000000001, 1.16, 1.17, 1.18, 1.19, 1.2, 1.21, 1.22, 1.23, 1.24, 1.25, 1.26, 1.27, 1.28, 1.29, 1.3, 1.31, 1.32, 1.33, 1.34, 1.35, 1.36, 1.37, 1.3800000000000001, 1.3900000000000001, 1.4000000000000001, 1.41, 1.42, 1.43, 1.44, 1.45, 1.46, 1.47, 1.48, 1.49, 1.5, 1.51, 1.52, 1.53, 1.54, 1.55, 1.56, 1.57, 1.58, 1.59, 1.6, 1.61, 1.62, 1.6300000000000001, 1.6400000000000001, 1.6500000000000001, 1.6600000000000001, 1.67, 1.68, 1.69, 1.7, 1.71, 1.72, 1.73, 1.74, 1.75, 1.76, 1.77, 1.78, 1.79, 1.8, 1.81, 1.82, 1.83, 1.84, 1.85, 1.86, 1.87, 1.8800000000000001, 1.8900000000000001, 1.9000000000000001, 1.9100000000000001, 1.92, 1.93, 1.94, 1.95, 1.96, 1.97, 1.98, 1.99, 2.0, 2.0100000000000002, 2.02, 2.0300000000000002, 2.04, 2.05, 2.06, 2.07, 2.08, 2.09, 2.1, 2.11, 2.12, 2.13, 2.14, 2.15, 2.16, 2.17, 2.18, 2.19, 2.2, 2.21, 2.22, 2.23, 2.24, 2.25, 2.2600000000000002, 2.27, 2.2800000000000002, 2.29, 2.3000000000000003, 2.31, 2.32, 2.33, 2.34, 2.35, 2.36, 2.37, 2.38, 2.39, 2.4, 2.41, 2.42, 2.43, 2.44, 2.45, 2.46, 2.47, 2.48, 2.49, 2.5, 2.5100000000000002, 2.52, 2.5300000000000002, 2.54, 2.5500000000000003, 2.56, 2.57, 2.58, 2.59, 2.6, 2.61, 2.62, 2.63, 2.64, 2.65, 2.66, 2.67, 2.68, 2.69, 2.7, 2.71, 2.72, 2.73, 2.74, 2.75, 2.7600000000000002, 2.77, 2.7800000000000002, 2.79, 2.8000000000000003, 2.81, 2.82, 2.83, 2.84, 2.85, 2.86, 2.87, 2.88, 2.89, 2.9, 2.91, 2.92, 2.93, 2.94, 2.95, 2.96, 2.97, 2.98, 2.99, 3.0, 3.0100000000000002, 3.02, 3.0300000000000002, 3.04, 3.0500000000000003, 3.06, 3.0700000000000003, 3.08, 3.09, 3.1, 3.11, 3.12, 3.13, 3.14, 3.15, 3.16, 3.17, 3.18, 3.19, 3.2, 3.21, 3.22, 3.23, 3.24, 3.25, 3.2600000000000002, 3.27, 3.2800000000000002, 3.29, 3.3000000000000003, 3.31, 3.3200000000000003, 3.33, 3.34, 3.35, 3.36, 3.37, 3.38, 3.39, 3.4, 3.41, 3.42, 3.43, 3.44, 3.45, 3.46, 3.47, 3.48, 3.49, 3.5, 3.5100000000000002, 3.52, 3.5300000000000002, 3.54, 3.5500000000000003, 3.56, 3.5700000000000003, 3.58, 3.59, 3.6, 3.61, 3.62, 3.63, 3.64, 3.65, 3.66, 3.67, 3.68, 3.69, 3.7, 3.71, 3.72, 3.73, 3.74, 3.75, 3.7600000000000002, 3.77, 3.7800000000000002, 3.79, 3.8000000000000003, 3.81, 3.8200000000000003, 3.83, 3.84, 3.85, 3.86, 3.87, 3.88, 3.89, 3.9, 3.91, 3.92, 3.93, 3.94, 3.95, 3.96, 3.97, 3.98, 3.99, 4.0, 4.01, 4.0200000000000005, 4.03, 4.04, 4.05, 4.0600000000000005, 4.07, 4.08, 4.09, 4.1, 4.11, 4.12, 4.13, 4.14, 4.15, 4.16, 4.17, 4.18, 4.19, 4.2, 4.21, 4.22, 4.23, 4.24, 4.25, 4.26, 4.2700000000000005, 4.28, 4.29, 4.3, 4.3100000000000005, 4.32, 4.33, 4.34, 4.3500000000000005, 4.36, 4.37, 4.38, 4.39, 4.4, 4.41, 4.42, 4.43, 4.44, 4.45, 4.46, 4.47, 4.48, 4.49, 4.5, 4.51, 4.5200000000000005, 4.53, 4.54, 4.55, 4.5600000000000005, 4.57, 4.58, 4.59, 4.6000000000000005, 4.61, 4.62, 4.63, 4.64, 4.65, 4.66, 4.67, 4.68, 4.69, 4.7, 4.71, 4.72, 4.73, 4.74, 4.75, 4.76, 4.7700000000000005, 4.78, 4.79, 4.8, 4.8100000000000005, 4.82, 4.83, 4.84, 4.8500000000000005, 4.86, 4.87, 4.88, 4.89, 4.9, 4.91, 4.92, 4.93, 4.94, 4.95, 4.96, 4.97, 4.98, 4.99], \"xaxis\": \"x\", \"y\": [0.0, 0.06279051952931337, 0.12533323356430426, 0.1873813145857246, 0.2486898871648548, 0.3090169943749474, 0.3681245526846779, 0.4257792915650727, 0.4817536741017153, 0.5358267949789967, 0.5877852522924731, 0.6374239897486896, 0.6845471059286886, 0.7289686274214116, 0.7705132427757893, 0.8090169943749475, 0.8443279255020151, 0.8763066800438637, 0.9048270524660196, 0.9297764858882513, 0.9510565162951535, 0.9685831611286311, 0.9822872507286886, 0.9921147013144779, 0.9980267284282716, 1.0, 0.9980267284282716, 0.9921147013144778, 0.9822872507286886, 0.9685831611286312, 0.9510565162951536, 0.9297764858882513, 0.9048270524660195, 0.8763066800438635, 0.844327925502015, 0.8090169943749475, 0.7705132427757893, 0.7289686274214114, 0.6845471059286888, 0.6374239897486899, 0.5877852522924732, 0.5358267949789967, 0.4817536741017156, 0.4257792915650729, 0.36812455268467814, 0.3090169943749475, 0.24868988716485482, 0.18738131458572457, 0.12533323356430454, 0.06279051952931358, 1.2246467991473532e-16, -0.06279051952931335, -0.12533323356430429, -0.18738131458572477, -0.24868988716485502, -0.30901699437494773, -0.3681245526846783, -0.42577929156507266, -0.481753674101715, -0.5358267949789964, -0.587785252292473, -0.6374239897486896, -0.6845471059286887, -0.7289686274214113, -0.7705132427757894, -0.8090169943749473, -0.8443279255020153, -0.8763066800438636, -0.9048270524660198, -0.9297764858882515, -0.9510565162951535, -0.968583161128631, -0.9822872507286887, -0.9921147013144778, -0.9980267284282716, -1.0, -0.9980267284282716, -0.9921147013144779, -0.9822872507286887, -0.9685831611286311, -0.9510565162951536, -0.9297764858882512, -0.9048270524660196, -0.8763066800438634, -0.8443279255020155, -0.8090169943749476, -0.7705132427757896, -0.7289686274214116, -0.684547105928689, -0.6374239897486896, -0.5877852522924734, -0.5358267949789963, -0.4817536741017153, -0.4257792915650722, -0.36812455268467786, -0.3090169943749476, -0.24868988716485535, -0.18738131458572468, -0.12533323356430465, -0.06279051952931326, -2.4492935982947064e-16, 0.06279051952931278, 0.12533323356430418, 0.1873813145857242, 0.24868988716485488, 0.3090169943749472, 0.3681245526846782, 0.42577929156507255, 0.48175367410171566, 0.5358267949789967, 0.5877852522924736, 0.6374239897486899, 0.6845471059286893, 0.7289686274214118, 0.7705132427757893, 0.8090169943749478, 0.8443279255020147, 0.8763066800438631, 0.9048270524660194, 0.9297764858882511, 0.9510565162951535, 0.968583161128631, 0.9822872507286886, 0.9921147013144778, 0.9980267284282716, 1.0, 0.9980267284282716, 0.9921147013144779, 0.9822872507286886, 0.9685831611286311, 0.9510565162951536, 0.9297764858882517, 0.9048270524660192, 0.8763066800438634, 0.8443279255020151, 0.8090169943749477, 0.7705132427757886, 0.728968627421411, 0.6845471059286884, 0.6374239897486897, 0.5877852522924734, 0.5358267949789972, 0.4817536741017162, 0.42577929156507394, 0.368124552684678, 0.3090169943749478, 0.2486898871648555, 0.18738131458572568, 0.1253332335643039, 0.06279051952931339, 3.6739403974420594e-16, -0.06279051952931265, -0.12533323356430318, -0.18738131458572496, -0.24868988716485477, -0.30901699437494706, -0.36812455268467725, -0.42577929156507327, -0.48175367410171555, -0.5358267949789965, -0.5877852522924728, -0.6374239897486905, -0.6845471059286892, -0.7289686274214118, -0.7705132427757893, -0.8090169943749472, -0.8443279255020156, -0.876306680043863, -0.9048270524660189, -0.9297764858882513, -0.9510565162951534, -0.968583161128631, -0.9822872507286885, -0.9921147013144779, -0.9980267284282716, -1.0, -0.9980267284282716, -0.992114701314478, -0.9822872507286886, -0.9685831611286312, -0.9510565162951538, -0.9297764858882517, -0.9048270524660192, -0.8763066800438635, -0.8443279255020151, -0.8090169943749477, -0.7705132427757886, -0.7289686274214111, -0.6845471059286885, -0.6374239897486897, -0.5877852522924735, -0.5358267949789958, -0.4817536741017163, -0.42577929156507405, -0.3681245526846781, -0.3090169943749479, -0.2486898871648556, -0.1873813145857258, -0.125333233564304, -0.06279051952931351, -4.898587196589413e-16, 0.0627905195293143, 0.12533323356430304, 0.18738131458572485, 0.24868988716485466, 0.30901699437494523, 0.36812455268467714, 0.42577929156507155, 0.48175367410171543, 0.535826794978995, 0.5877852522924727, 0.6374239897486891, 0.6845471059286891, 0.7289686274214104, 0.7705132427757891, 0.8090169943749471, 0.8443279255020155, 0.876306680043863, 0.9048270524660196, 0.9297764858882513, 0.951056516295154, 0.9685831611286309, 0.9822872507286888, 0.9921147013144779, 0.9980267284282717, 1.0, 0.9980267284282716, 0.992114701314478, 0.9822872507286886, 0.9685831611286312, 0.9510565162951532, 0.9297764858882518, 0.90482705246602, 0.8763066800438635, 0.8443279255020162, 0.8090169943749478, 0.7705132427757898, 0.7289686274214112, 0.6845471059286898, 0.6374239897486899, 0.5877852522924736, 0.5358267949789959, 0.48175367410171643, 0.42577929156507255, 0.3681245526846782, 0.3090169943749463, 0.2486898871648557, 0.18738131458572418, 0.12533323356430415, 0.06279051952931186, 6.123233995736766e-16, -0.06279051952931418, -0.12533323356430293, -0.1873813145857247, -0.24868988716485452, -0.3090169943749485, -0.3681245526846787, -0.42577929156506983, -0.4817536741017153, -0.5358267949789964, -0.5877852522924726, -0.637423989748689, -0.6845471059286877, -0.7289686274214103, -0.7705132427757901, -0.809016994374946, -0.8443279255020155, -0.8763066800438638, -0.9048270524660196, -0.9297764858882513, -0.9510565162951534, -0.9685831611286309, -0.982287250728689, -0.9921147013144777, -0.9980267284282717, -1.0, -0.9980267284282716, -0.9921147013144778, -0.9822872507286887, -0.9685831611286312, -0.9510565162951538, -0.9297764858882518, -0.9048270524660201, -0.8763066800438645, -0.8443279255020162, -0.8090169943749468, -0.770513242775791, -0.7289686274214112, -0.6845471059286886, -0.63742398974869, -0.5877852522924737, -0.5358267949789975, -0.48175367410171654, -0.42577929156507105, -0.36812455268468, -0.3090169943749464, -0.2486898871648541, -0.1873813145857243, -0.12533323356430426, -0.06279051952931375, -7.347880794884119e-16, 0.06279051952931583, 0.12533323356430282, 0.18738131458572635, 0.24868988716485269, 0.3090169943749484, 0.3681245526846786, 0.42577929156507294, 0.4817536741017152, 0.5358267949789963, 0.5877852522924725, 0.6374239897486889, 0.6845471059286876, 0.7289686274214102, 0.7705132427757901, 0.8090169943749459, 0.8443279255020154, 0.8763066800438637, 0.9048270524660195, 0.9297764858882512, 0.9510565162951533, 0.9685831611286309, 0.982287250728689, 0.9921147013144775, 0.9980267284282717, 1.0, 0.9980267284282716, 0.9921147013144778, 0.9822872507286887, 0.9685831611286312, 0.9510565162951539, 0.9297764858882518, 0.9048270524660187, 0.8763066800438645, 0.8443279255020163, 0.8090169943749469, 0.7705132427757911, 0.7289686274214113, 0.6845471059286887, 0.6374239897486901, 0.5877852522924738, 0.5358267949789977, 0.48175367410171666, 0.42577929156507116, 0.3681245526846801, 0.30901699437494656, 0.24868988716485424, 0.1873813145857244, 0.1253332335643044, 0.06279051952931387, 8.572527594031472e-16, -0.0627905195293157, -0.12533323356430268, -0.1873813145857262, -0.24868988716485257, -0.3090169943749483, -0.3681245526846785, -0.4257792915650728, -0.48175367410171516, -0.5358267949789962, -0.5877852522924725, -0.6374239897486887, -0.6845471059286875, -0.7289686274214102, -0.77051324277579, -0.8090169943749459, -0.8443279255020154, -0.8763066800438637, -0.9048270524660195, -0.9297764858882512, -0.9510565162951533, -0.9685831611286309, -0.982287250728689, -0.9921147013144775, -0.9980267284282717, -1.0, -0.9980267284282716, -0.9921147013144778, -0.9822872507286887, -0.9685831611286313, -0.9510565162951539, -0.9297764858882519, -0.9048270524660187, -0.8763066800438646, -0.8443279255020163, -0.8090169943749469, -0.7705132427757911, -0.7289686274214114, -0.6845471059286888, -0.6374239897486902, -0.5877852522924739, -0.5358267949789978, -0.48175367410171677, -0.42577929156507127, -0.3681245526846802, -0.3090169943749467, -0.24868988716485435, -0.18738131458572455, -0.1253332335643045, -0.062790519529314, -9.797174393178826e-16, 0.06279051952931204, 0.1253332335643061, 0.1873813145857261, 0.24868988716485246, 0.3090169943749448, 0.36812455268467836, 0.4257792915650727, 0.48175367410171505, 0.5358267949789961, 0.5877852522924695, 0.6374239897486914, 0.6845471059286874, 0.7289686274214101, 0.7705132427757877, 0.8090169943749479, 0.8443279255020153, 0.8763066800438636, 0.9048270524660179, 0.9297764858882525, 0.9510565162951533, 0.9685831611286307, 0.9822872507286884, 0.992114701314478, 0.9980267284282717, 1.0, 0.9980267284282718, 0.9921147013144774, 0.9822872507286887, 0.9685831611286313, 0.9510565162951539, 0.9297764858882506, 0.9048270524660188, 0.8763066800438646, 0.8443279255020164, 0.809016994374947, 0.770513242775789, 0.7289686274214116, 0.684547105928689, 0.637423989748693, 0.5877852522924711, 0.5358267949789979, 0.4817536741017168, 0.4257792915650746, 0.368124552684677, 0.3090169943749468, 0.24868988716485446, 0.18738131458572815, 0.1253332335643011, 0.06279051952931412, 1.102182119232618e-15, -0.06279051952931192, -0.12533323356430598, -0.187381314585726, -0.24868988716485232, -0.3090169943749447, -0.36812455268467825, -0.4257792915650726, -0.48175367410171493, -0.535826794978996, -0.5877852522924751, -0.6374239897486913, -0.6845471059286873, -0.72896862742141, -0.7705132427757876, -0.8090169943749478, -0.8443279255020152, -0.8763066800438636, -0.9048270524660178, -0.9297764858882525, -0.9510565162951532, -0.9685831611286307, -0.9822872507286883, -0.992114701314478, -0.9980267284282717, -1.0, -0.9980267284282718, -0.9921147013144774, -0.9822872507286887, -0.9685831611286313, -0.951056516295154, -0.9297764858882507, -0.9048270524660188, -0.8763066800438647, -0.8443279255020165, -0.8090169943749471, -0.770513242775789, -0.7289686274214117, -0.6845471059286891, -0.6374239897486931, -0.5877852522924712, -0.535826794978998, -0.48175367410171693, -0.4257792915650747, -0.3681245526846771, -0.3090169943749469, -0.2486898871648546, -0.18738131458572826, -0.12533323356430123, -0.06279051952931425], \"yaxis\": \"y\"}, {\"hoverlabel\": {\"namelength\": 0}, \"hovertemplate\": \"<b>%{hovertext}</b><br><br>var=data2<br>t=%{x}<br>val=%{y}\", \"hovertext\": [\"data2\", \"data2\", \"data2\", \"data2\", \"data2\", \"data2\", \"data2\", \"data2\", \"data2\", \"data2\", \"data2\", \"data2\", \"data2\", \"data2\", \"data2\", \"data2\", \"data2\", \"data2\", \"data2\", \"data2\", \"data2\", \"data2\", \"data2\", \"data2\", \"data2\", \"data2\", \"data2\", \"data2\", \"data2\", \"data2\", \"data2\", \"data2\", \"data2\", \"data2\", \"data2\", \"data2\", \"data2\", \"data2\", \"data2\", \"data2\", \"data2\", \"data2\", \"data2\", \"data2\", \"data2\", \"data2\", \"data2\", \"data2\", \"data2\", \"data2\", \"data2\", \"data2\", \"data2\", \"data2\", \"data2\", \"data2\", \"data2\", \"data2\", \"data2\", \"data2\", \"data2\", \"data2\", \"data2\", \"data2\", \"data2\", \"data2\", \"data2\", \"data2\", \"data2\", \"data2\", \"data2\", \"data2\", \"data2\", \"data2\", \"data2\", \"data2\", \"data2\", \"data2\", \"data2\", \"data2\", \"data2\", \"data2\", \"data2\", \"data2\", \"data2\", \"data2\", \"data2\", \"data2\", \"data2\", \"data2\", \"data2\", \"data2\", \"data2\", \"data2\", \"data2\", \"data2\", \"data2\", \"data2\", \"data2\", \"data2\", \"data2\", \"data2\", \"data2\", \"data2\", \"data2\", \"data2\", \"data2\", \"data2\", \"data2\", \"data2\", \"data2\", \"data2\", \"data2\", \"data2\", \"data2\", \"data2\", \"data2\", \"data2\", \"data2\", \"data2\", \"data2\", \"data2\", \"data2\", \"data2\", \"data2\", \"data2\", \"data2\", \"data2\", \"data2\", \"data2\", \"data2\", \"data2\", \"data2\", \"data2\", \"data2\", \"data2\", \"data2\", \"data2\", \"data2\", \"data2\", \"data2\", \"data2\", \"data2\", \"data2\", \"data2\", \"data2\", \"data2\", \"data2\", \"data2\", \"data2\", \"data2\", \"data2\", \"data2\", \"data2\", \"data2\", \"data2\", \"data2\", \"data2\", \"data2\", \"data2\", \"data2\", \"data2\", \"data2\", \"data2\", \"data2\", \"data2\", \"data2\", \"data2\", \"data2\", \"data2\", \"data2\", \"data2\", \"data2\", \"data2\", \"data2\", \"data2\", \"data2\", \"data2\", \"data2\", \"data2\", \"data2\", \"data2\", \"data2\", \"data2\", \"data2\", \"data2\", \"data2\", \"data2\", \"data2\", \"data2\", \"data2\", \"data2\", \"data2\", \"data2\", \"data2\", \"data2\", \"data2\", \"data2\", \"data2\", \"data2\", \"data2\", \"data2\", \"data2\", \"data2\", \"data2\", \"data2\", \"data2\", \"data2\", \"data2\", \"data2\", \"data2\", \"data2\", \"data2\", \"data2\", \"data2\", \"data2\", \"data2\", \"data2\", \"data2\", \"data2\", \"data2\", \"data2\", \"data2\", \"data2\", \"data2\", \"data2\", \"data2\", \"data2\", \"data2\", \"data2\", \"data2\", \"data2\", \"data2\", \"data2\", \"data2\", \"data2\", \"data2\", \"data2\", \"data2\", \"data2\", \"data2\", \"data2\", \"data2\", \"data2\", \"data2\", \"data2\", \"data2\", \"data2\", \"data2\", \"data2\", \"data2\", \"data2\", \"data2\", \"data2\", \"data2\", \"data2\", \"data2\", \"data2\", \"data2\", \"data2\", \"data2\", \"data2\", \"data2\", \"data2\", \"data2\", \"data2\", \"data2\", \"data2\", \"data2\", \"data2\", \"data2\", \"data2\", \"data2\", \"data2\", \"data2\", \"data2\", \"data2\", \"data2\", \"data2\", \"data2\", \"data2\", \"data2\", \"data2\", \"data2\", \"data2\", \"data2\", \"data2\", \"data2\", \"data2\", \"data2\", \"data2\", \"data2\", \"data2\", \"data2\", \"data2\", \"data2\", \"data2\", \"data2\", \"data2\", \"data2\", \"data2\", \"data2\", \"data2\", \"data2\", \"data2\", \"data2\", \"data2\", \"data2\", \"data2\", \"data2\", \"data2\", \"data2\", \"data2\", \"data2\", \"data2\", \"data2\", \"data2\", \"data2\", \"data2\", \"data2\", \"data2\", \"data2\", \"data2\", \"data2\", \"data2\", \"data2\", \"data2\", \"data2\", \"data2\", \"data2\", \"data2\", \"data2\", \"data2\", \"data2\", \"data2\", \"data2\", \"data2\", \"data2\", \"data2\", \"data2\", \"data2\", \"data2\", \"data2\", \"data2\", \"data2\", \"data2\", \"data2\", \"data2\", \"data2\", \"data2\", \"data2\", \"data2\", \"data2\", \"data2\", \"data2\", \"data2\", \"data2\", \"data2\", \"data2\", \"data2\", \"data2\", \"data2\", \"data2\", \"data2\", \"data2\", \"data2\", \"data2\", \"data2\", \"data2\", \"data2\", \"data2\", \"data2\", \"data2\", \"data2\", \"data2\", \"data2\", \"data2\", \"data2\", \"data2\", \"data2\", \"data2\", \"data2\", \"data2\", \"data2\", \"data2\", \"data2\", \"data2\", \"data2\", \"data2\", \"data2\", \"data2\", \"data2\", \"data2\", \"data2\", \"data2\", \"data2\", \"data2\", \"data2\", \"data2\", \"data2\", \"data2\", \"data2\", \"data2\", \"data2\", \"data2\", \"data2\", \"data2\", \"data2\", \"data2\", \"data2\", \"data2\", \"data2\", \"data2\", \"data2\", \"data2\", \"data2\", \"data2\", \"data2\", \"data2\", \"data2\", \"data2\", \"data2\", \"data2\", \"data2\", \"data2\", \"data2\", \"data2\", \"data2\", \"data2\", \"data2\", \"data2\", \"data2\", \"data2\", \"data2\", \"data2\", \"data2\", \"data2\", \"data2\", \"data2\", \"data2\", \"data2\", \"data2\", \"data2\", \"data2\", \"data2\", \"data2\", \"data2\", \"data2\", \"data2\", \"data2\", \"data2\", \"data2\", \"data2\", \"data2\", \"data2\", \"data2\", \"data2\", \"data2\", \"data2\", \"data2\", \"data2\", \"data2\", \"data2\", \"data2\", \"data2\", \"data2\", \"data2\", \"data2\", \"data2\", \"data2\", \"data2\", \"data2\", \"data2\", \"data2\", \"data2\", \"data2\", \"data2\", \"data2\", \"data2\", \"data2\", \"data2\", \"data2\", \"data2\", \"data2\", \"data2\", \"data2\", \"data2\", \"data2\", \"data2\", \"data2\", \"data2\", \"data2\", \"data2\", \"data2\", \"data2\", \"data2\", \"data2\", \"data2\", \"data2\", \"data2\"], \"legendgroup\": \"var=data2\", \"line\": {\"color\": \"#EF553B\", \"dash\": \"solid\"}, \"mode\": \"lines\", \"name\": \"var=data2\", \"showlegend\": true, \"type\": \"scatter\", \"x\": [0.0, 0.01, 0.02, 0.03, 0.04, 0.05, 0.06, 0.07, 0.08, 0.09, 0.1, 0.11, 0.12, 0.13, 0.14, 0.15, 0.16, 0.17, 0.18, 0.19, 0.2, 0.21, 0.22, 0.23, 0.24, 0.25, 0.26, 0.27, 0.28, 0.29, 0.3, 0.31, 0.32, 0.33, 0.34, 0.35000000000000003, 0.36, 0.37, 0.38, 0.39, 0.4, 0.41000000000000003, 0.42, 0.43, 0.44, 0.45, 0.46, 0.47000000000000003, 0.48, 0.49, 0.5, 0.51, 0.52, 0.53, 0.54, 0.55, 0.56, 0.5700000000000001, 0.58, 0.59, 0.6, 0.61, 0.62, 0.63, 0.64, 0.65, 0.66, 0.67, 0.68, 0.6900000000000001, 0.7000000000000001, 0.71, 0.72, 0.73, 0.74, 0.75, 0.76, 0.77, 0.78, 0.79, 0.8, 0.81, 0.8200000000000001, 0.8300000000000001, 0.84, 0.85, 0.86, 0.87, 0.88, 0.89, 0.9, 0.91, 0.92, 0.93, 0.9400000000000001, 0.9500000000000001, 0.96, 0.97, 0.98, 0.99, 1.0, 1.01, 1.02, 1.03, 1.04, 1.05, 1.06, 1.07, 1.08, 1.09, 1.1, 1.11, 1.12, 1.1300000000000001, 1.1400000000000001, 1.1500000000000001, 1.16, 1.17, 1.18, 1.19, 1.2, 1.21, 1.22, 1.23, 1.24, 1.25, 1.26, 1.27, 1.28, 1.29, 1.3, 1.31, 1.32, 1.33, 1.34, 1.35, 1.36, 1.37, 1.3800000000000001, 1.3900000000000001, 1.4000000000000001, 1.41, 1.42, 1.43, 1.44, 1.45, 1.46, 1.47, 1.48, 1.49, 1.5, 1.51, 1.52, 1.53, 1.54, 1.55, 1.56, 1.57, 1.58, 1.59, 1.6, 1.61, 1.62, 1.6300000000000001, 1.6400000000000001, 1.6500000000000001, 1.6600000000000001, 1.67, 1.68, 1.69, 1.7, 1.71, 1.72, 1.73, 1.74, 1.75, 1.76, 1.77, 1.78, 1.79, 1.8, 1.81, 1.82, 1.83, 1.84, 1.85, 1.86, 1.87, 1.8800000000000001, 1.8900000000000001, 1.9000000000000001, 1.9100000000000001, 1.92, 1.93, 1.94, 1.95, 1.96, 1.97, 1.98, 1.99, 2.0, 2.0100000000000002, 2.02, 2.0300000000000002, 2.04, 2.05, 2.06, 2.07, 2.08, 2.09, 2.1, 2.11, 2.12, 2.13, 2.14, 2.15, 2.16, 2.17, 2.18, 2.19, 2.2, 2.21, 2.22, 2.23, 2.24, 2.25, 2.2600000000000002, 2.27, 2.2800000000000002, 2.29, 2.3000000000000003, 2.31, 2.32, 2.33, 2.34, 2.35, 2.36, 2.37, 2.38, 2.39, 2.4, 2.41, 2.42, 2.43, 2.44, 2.45, 2.46, 2.47, 2.48, 2.49, 2.5, 2.5100000000000002, 2.52, 2.5300000000000002, 2.54, 2.5500000000000003, 2.56, 2.57, 2.58, 2.59, 2.6, 2.61, 2.62, 2.63, 2.64, 2.65, 2.66, 2.67, 2.68, 2.69, 2.7, 2.71, 2.72, 2.73, 2.74, 2.75, 2.7600000000000002, 2.77, 2.7800000000000002, 2.79, 2.8000000000000003, 2.81, 2.82, 2.83, 2.84, 2.85, 2.86, 2.87, 2.88, 2.89, 2.9, 2.91, 2.92, 2.93, 2.94, 2.95, 2.96, 2.97, 2.98, 2.99, 3.0, 3.0100000000000002, 3.02, 3.0300000000000002, 3.04, 3.0500000000000003, 3.06, 3.0700000000000003, 3.08, 3.09, 3.1, 3.11, 3.12, 3.13, 3.14, 3.15, 3.16, 3.17, 3.18, 3.19, 3.2, 3.21, 3.22, 3.23, 3.24, 3.25, 3.2600000000000002, 3.27, 3.2800000000000002, 3.29, 3.3000000000000003, 3.31, 3.3200000000000003, 3.33, 3.34, 3.35, 3.36, 3.37, 3.38, 3.39, 3.4, 3.41, 3.42, 3.43, 3.44, 3.45, 3.46, 3.47, 3.48, 3.49, 3.5, 3.5100000000000002, 3.52, 3.5300000000000002, 3.54, 3.5500000000000003, 3.56, 3.5700000000000003, 3.58, 3.59, 3.6, 3.61, 3.62, 3.63, 3.64, 3.65, 3.66, 3.67, 3.68, 3.69, 3.7, 3.71, 3.72, 3.73, 3.74, 3.75, 3.7600000000000002, 3.77, 3.7800000000000002, 3.79, 3.8000000000000003, 3.81, 3.8200000000000003, 3.83, 3.84, 3.85, 3.86, 3.87, 3.88, 3.89, 3.9, 3.91, 3.92, 3.93, 3.94, 3.95, 3.96, 3.97, 3.98, 3.99, 4.0, 4.01, 4.0200000000000005, 4.03, 4.04, 4.05, 4.0600000000000005, 4.07, 4.08, 4.09, 4.1, 4.11, 4.12, 4.13, 4.14, 4.15, 4.16, 4.17, 4.18, 4.19, 4.2, 4.21, 4.22, 4.23, 4.24, 4.25, 4.26, 4.2700000000000005, 4.28, 4.29, 4.3, 4.3100000000000005, 4.32, 4.33, 4.34, 4.3500000000000005, 4.36, 4.37, 4.38, 4.39, 4.4, 4.41, 4.42, 4.43, 4.44, 4.45, 4.46, 4.47, 4.48, 4.49, 4.5, 4.51, 4.5200000000000005, 4.53, 4.54, 4.55, 4.5600000000000005, 4.57, 4.58, 4.59, 4.6000000000000005, 4.61, 4.62, 4.63, 4.64, 4.65, 4.66, 4.67, 4.68, 4.69, 4.7, 4.71, 4.72, 4.73, 4.74, 4.75, 4.76, 4.7700000000000005, 4.78, 4.79, 4.8, 4.8100000000000005, 4.82, 4.83, 4.84, 4.8500000000000005, 4.86, 4.87, 4.88, 4.89, 4.9, 4.91, 4.92, 4.93, 4.94, 4.95, 4.96, 4.97, 4.98, 4.99], \"xaxis\": \"x\", \"y\": [1.0, 0.9980267284282716, 0.9921147013144779, 0.9822872507286887, 0.9685831611286311, 0.9510565162951535, 0.9297764858882515, 0.9048270524660195, 0.8763066800438636, 0.8443279255020151, 0.8090169943749475, 0.7705132427757893, 0.7289686274214116, 0.6845471059286886, 0.6374239897486896, 0.5877852522924731, 0.5358267949789965, 0.48175367410171516, 0.42577929156507266, 0.3681245526846781, 0.30901699437494745, 0.24868988716485496, 0.18738131458572474, 0.12533323356430426, 0.06279051952931353, 6.123233995736766e-17, -0.0627905195293134, -0.12533323356430437, -0.18738131458572482, -0.24868988716485463, -0.30901699437494734, -0.368124552684678, -0.4257792915650727, -0.48175367410171543, -0.5358267949789969, -0.587785252292473, -0.6374239897486897, -0.6845471059286887, -0.7289686274214113, -0.7705132427757891, -0.8090169943749473, -0.8443279255020151, -0.8763066800438634, -0.9048270524660194, -0.9297764858882513, -0.9510565162951535, -0.9685831611286311, -0.9822872507286887, -0.9921147013144778, -0.9980267284282716, -1.0, -0.9980267284282716, -0.9921147013144779, -0.9822872507286886, -0.9685831611286311, -0.9510565162951535, -0.9297764858882512, -0.9048270524660195, -0.8763066800438637, -0.8443279255020152, -0.8090169943749476, -0.7705132427757893, -0.7289686274214116, -0.684547105928689, -0.6374239897486895, -0.5877852522924732, -0.5358267949789963, -0.48175367410171527, -0.42577929156507216, -0.3681245526846778, -0.30901699437494756, -0.2486898871648553, -0.18738131458572463, -0.1253332335643046, -0.06279051952931321, -1.8369701987210297e-16, 0.06279051952931283, 0.12533323356430423, 0.18738131458572427, 0.24868988716485493, 0.30901699437494723, 0.36812455268467825, 0.4257792915650726, 0.4817536741017157, 0.535826794978996, 0.5877852522924729, 0.6374239897486893, 0.6845471059286886, 0.7289686274214112, 0.7705132427757894, 0.8090169943749473, 0.8443279255020153, 0.8763066800438636, 0.9048270524660197, 0.9297764858882515, 0.9510565162951535, 0.968583161128631, 0.9822872507286887, 0.9921147013144778, 0.9980267284282716, 1.0, 0.9980267284282716, 0.9921147013144779, 0.9822872507286887, 0.9685831611286311, 0.9510565162951536, 0.9297764858882513, 0.9048270524660196, 0.8763066800438634, 0.8443279255020151, 0.809016994374947, 0.770513242775789, 0.728968627421411, 0.6845471059286884, 0.6374239897486896, 0.5877852522924727, 0.5358267949789972, 0.48175367410171616, 0.42577929156507305, 0.36812455268467875, 0.30901699437494773, 0.24868988716485543, 0.18738131458572474, 0.12533323356430473, 0.06279051952931332, 3.061616997868383e-16, -0.06279051952931271, -0.12533323356430412, -0.18738131458572502, -0.24868988716485482, -0.3090169943749471, -0.3681245526846773, -0.4257792915650733, -0.4817536741017156, -0.5358267949789967, -0.5877852522924729, -0.6374239897486905, -0.6845471059286892, -0.7289686274214118, -0.7705132427757893, -0.8090169943749472, -0.8443279255020147, -0.876306680043863, -0.9048270524660189, -0.9297764858882515, -0.9510565162951534, -0.968583161128631, -0.9822872507286885, -0.9921147013144779, -0.9980267284282716, -1.0, -0.9980267284282716, -0.992114701314478, -0.9822872507286886, -0.9685831611286311, -0.9510565162951536, -0.9297764858882517, -0.9048270524660192, -0.8763066800438635, -0.8443279255020151, -0.8090169943749477, -0.7705132427757886, -0.7289686274214111, -0.6845471059286884, -0.6374239897486897, -0.5877852522924735, -0.5358267949789958, -0.48175367410171627, -0.425779291565074, -0.36812455268467803, -0.30901699437494784, -0.24868988716485554, -0.18738131458572574, -0.12533323356430395, -0.06279051952931344, -4.286263797015736e-16, 0.0627905195293126, 0.12533323356430312, 0.1873813145857249, 0.2486898871648547, 0.309016994374947, 0.3681245526846772, 0.4257792915650732, 0.4817536741017155, 0.5358267949789965, 0.5877852522924728, 0.6374239897486904, 0.6845471059286892, 0.7289686274214117, 0.7705132427757891, 0.8090169943749471, 0.8443279255020156, 0.876306680043863, 0.9048270524660189, 0.9297764858882513, 0.9510565162951534, 0.968583161128631, 0.9822872507286885, 0.9921147013144779, 0.9980267284282716, 1.0, 0.9980267284282716, 0.992114701314478, 0.9822872507286886, 0.9685831611286312, 0.9510565162951543, 0.9297764858882517, 0.90482705246602, 0.8763066800438635, 0.8443279255020161, 0.8090169943749477, 0.7705132427757898, 0.7289686274214111, 0.6845471059286898, 0.6374239897486899, 0.5877852522924736, 0.5358267949789959, 0.4817536741017164, 0.4257792915650725, 0.36812455268467814, 0.30901699437494623, 0.24868988716485566, 0.18738131458572413, 0.1253332335643041, 0.06279051952931179, 5.51091059616309e-16, -0.06279051952931425, -0.12533323356430298, -0.18738131458572477, -0.2486898871648546, -0.30901699437494856, -0.3681245526846771, -0.4257792915650715, -0.4817536741017154, -0.5358267949789949, -0.5877852522924727, -0.637423989748689, -0.6845471059286891, -0.7289686274214104, -0.770513242775789, -0.8090169943749471, -0.8443279255020155, -0.8763066800438629, -0.9048270524660196, -0.9297764858882513, -0.951056516295154, -0.9685831611286309, -0.9822872507286887, -0.9921147013144779, -0.9980267284282717, -1.0, -0.9980267284282716, -0.992114701314478, -0.9822872507286886, -0.9685831611286312, -0.9510565162951532, -0.9297764858882511, -0.9048270524660209, -0.8763066800438636, -0.8443279255020152, -0.8090169943749478, -0.7705132427757899, -0.7289686274214124, -0.68454710592869, -0.6374239897486885, -0.5877852522924751, -0.535826794978996, -0.48175367410171493, -0.4257792915650726, -0.36812455268467825, -0.30901699437494806, -0.24868988716485577, -0.1873813145857225, -0.12533323356430598, -0.06279051952931192, -2.4499125789312946e-15, 0.06279051952931412, 0.12533323356430462, 0.18738131458572466, 0.24868988716485446, 0.3090169943749468, 0.368124552684677, 0.4257792915650714, 0.4817536741017137, 0.5358267949789949, 0.587785252292474, 0.6374239897486875, 0.684547105928689, 0.7289686274214116, 0.770513242775789, 0.809016994374947, 0.8443279255020145, 0.8763066800438629, 0.9048270524660202, 0.9297764858882506, 0.9510565162951539, 0.9685831611286313, 0.9822872507286887, 0.9921147013144779, 0.9980267284282716, 1.0, 0.9980267284282714, 0.992114701314478, 0.9822872507286884, 0.9685831611286316, 0.9510565162951533, 0.9297764858882511, 0.9048270524660194, 0.8763066800438636, 0.8443279255020153, 0.8090169943749479, 0.7705132427757899, 0.7289686274214126, 0.6845471059286901, 0.6374239897486886, 0.5877852522924751, 0.5358267949789961, 0.48175367410171505, 0.4257792915650727, 0.36812455268467836, 0.3090169943749482, 0.2486898871648559, 0.1873813145857226, 0.1253332335643061, 0.06279051952931204, -9.803364199544708e-16, -0.062790519529314, -0.1253332335643045, -0.18738131458572455, -0.24868988716485435, -0.3090169943749467, -0.36812455268467686, -0.4257792915650745, -0.4817536741017136, -0.5358267949789948, -0.5877852522924739, -0.6374239897486874, -0.6845471059286888, -0.7289686274214114, -0.7705132427757889, -0.8090169943749469, -0.8443279255020144, -0.8763066800438628, -0.9048270524660202, -0.9297764858882506, -0.9510565162951539, -0.9685831611286313, -0.9822872507286887, -0.9921147013144778, -0.9980267284282716, -1.0, -0.9980267284282714, -0.992114701314478, -0.9822872507286884, -0.9685831611286317, -0.9510565162951533, -0.9297764858882512, -0.9048270524660195, -0.8763066800438637, -0.8443279255020154, -0.8090169943749479, -0.77051324277579, -0.7289686274214127, -0.6845471059286901, -0.6374239897486887, -0.5877852522924752, -0.5358267949789962, -0.4817536741017151, -0.4257792915650728, -0.3681245526846785, -0.3090169943749483, -0.24868988716485602, -0.18738131458572274, -0.1253332335643062, -0.06279051952931217, -2.6948419387607653e-15, 0.06279051952931387, 0.1253332335643044, 0.1873813145857244, 0.24868988716485424, 0.30901699437494656, 0.36812455268467675, 0.4257792915650744, 0.4817536741017135, 0.5358267949789947, 0.5877852522924738, 0.6374239897486873, 0.6845471059286887, 0.7289686274214113, 0.7705132427757888, 0.8090169943749469, 0.8443279255020144, 0.8763066800438628, 0.9048270524660201, 0.9297764858882506, 0.9510565162951539, 0.9685831611286312, 0.9822872507286887, 0.9921147013144778, 0.9980267284282716, 1.0, 0.9980267284282717, 0.9921147013144775, 0.9822872507286884, 0.9685831611286317, 0.9510565162951544, 0.9297764858882512, 0.9048270524660195, 0.8763066800438637, 0.8443279255020154, 0.8090169943749501, 0.7705132427757878, 0.7289686274214127, 0.6845471059286902, 0.6374239897486916, 0.5877852522924725, 0.5358267949789963, 0.4817536741017152, 0.42577929156507616, 0.36812455268467525, 0.3090169943749484, 0.24868988716485613, 0.18738131458572635, 0.12533323356430282, 0.06279051952931229, -7.354070601250002e-16, -0.06279051952931021, -0.12533323356430778, -0.1873813145857243, -0.2486898871648541, -0.3090169943749464, -0.36812455268468, -0.42577929156507427, -0.48175367410171344, -0.5358267949789945, -0.5877852522924737, -0.63742398974869, -0.6845471059286886, -0.7289686274214113, -0.7705132427757865, -0.8090169943749489, -0.8443279255020143, -0.8763066800438627, -0.9048270524660186, -0.9297764858882518, -0.9510565162951538, -0.9685831611286312, -0.982287250728688, -0.9921147013144782, -0.9980267284282716, -1.0, -0.9980267284282717, -0.9921147013144777, -0.9822872507286884, -0.9685831611286317, -0.9510565162951544, -0.9297764858882512, -0.9048270524660196, -0.8763066800438638, -0.8443279255020155, -0.809016994374946, -0.7705132427757879, -0.7289686274214128, -0.6845471059286903, -0.6374239897486916, -0.5877852522924726, -0.5358267949789964, -0.4817536741017153, -0.42577929156507627, -0.3681245526846754, -0.3090169943749485, -0.24868988716485624, -0.18738131458572646, -0.12533323356430293, -0.0627905195293124, -2.939771298590236e-15, 0.06279051952931008, 0.12533323356430767, 0.18738131458572418, 0.248689887164854, 0.3090169943749463, 0.36812455268467986, 0.42577929156507416, 0.4817536741017133, 0.5358267949789944, 0.5877852522924736, 0.6374239897486899, 0.6845471059286886, 0.7289686274214112, 0.7705132427757865, 0.8090169943749488, 0.8443279255020143, 0.8763066800438627, 0.9048270524660186, 0.9297764858882518, 0.9510565162951538, 0.9685831611286312, 0.9822872507286879, 0.9921147013144782, 0.9980267284282716], \"yaxis\": \"y\"}],\n",
       "                        {\"height\": 600, \"legend\": {\"tracegroupgap\": 0}, \"margin\": {\"t\": 60}, \"template\": {\"data\": {\"bar\": [{\"error_x\": {\"color\": \"#2a3f5f\"}, \"error_y\": {\"color\": \"#2a3f5f\"}, \"marker\": {\"line\": {\"color\": \"#E5ECF6\", \"width\": 0.5}}, \"type\": \"bar\"}], \"barpolar\": [{\"marker\": {\"line\": {\"color\": \"#E5ECF6\", \"width\": 0.5}}, \"type\": \"barpolar\"}], \"carpet\": [{\"aaxis\": {\"endlinecolor\": \"#2a3f5f\", \"gridcolor\": \"white\", \"linecolor\": \"white\", \"minorgridcolor\": \"white\", \"startlinecolor\": \"#2a3f5f\"}, \"baxis\": {\"endlinecolor\": \"#2a3f5f\", \"gridcolor\": \"white\", \"linecolor\": \"white\", \"minorgridcolor\": \"white\", \"startlinecolor\": \"#2a3f5f\"}, \"type\": \"carpet\"}], \"choropleth\": [{\"colorbar\": {\"outlinewidth\": 0, \"ticks\": \"\"}, \"type\": \"choropleth\"}], \"contour\": [{\"colorbar\": {\"outlinewidth\": 0, \"ticks\": \"\"}, \"colorscale\": [[0.0, \"#0d0887\"], [0.1111111111111111, \"#46039f\"], [0.2222222222222222, \"#7201a8\"], [0.3333333333333333, \"#9c179e\"], [0.4444444444444444, \"#bd3786\"], [0.5555555555555556, \"#d8576b\"], [0.6666666666666666, \"#ed7953\"], [0.7777777777777778, \"#fb9f3a\"], [0.8888888888888888, \"#fdca26\"], [1.0, \"#f0f921\"]], \"type\": \"contour\"}], \"contourcarpet\": [{\"colorbar\": {\"outlinewidth\": 0, \"ticks\": \"\"}, \"type\": \"contourcarpet\"}], \"heatmap\": [{\"colorbar\": {\"outlinewidth\": 0, \"ticks\": \"\"}, \"colorscale\": [[0.0, \"#0d0887\"], [0.1111111111111111, \"#46039f\"], [0.2222222222222222, \"#7201a8\"], [0.3333333333333333, \"#9c179e\"], [0.4444444444444444, \"#bd3786\"], [0.5555555555555556, \"#d8576b\"], [0.6666666666666666, \"#ed7953\"], [0.7777777777777778, \"#fb9f3a\"], [0.8888888888888888, \"#fdca26\"], [1.0, \"#f0f921\"]], \"type\": \"heatmap\"}], \"heatmapgl\": [{\"colorbar\": {\"outlinewidth\": 0, \"ticks\": \"\"}, \"colorscale\": [[0.0, \"#0d0887\"], [0.1111111111111111, \"#46039f\"], [0.2222222222222222, \"#7201a8\"], [0.3333333333333333, \"#9c179e\"], [0.4444444444444444, \"#bd3786\"], [0.5555555555555556, \"#d8576b\"], [0.6666666666666666, \"#ed7953\"], [0.7777777777777778, \"#fb9f3a\"], [0.8888888888888888, \"#fdca26\"], [1.0, \"#f0f921\"]], \"type\": \"heatmapgl\"}], \"histogram\": [{\"marker\": {\"colorbar\": {\"outlinewidth\": 0, \"ticks\": \"\"}}, \"type\": \"histogram\"}], \"histogram2d\": [{\"colorbar\": {\"outlinewidth\": 0, \"ticks\": \"\"}, \"colorscale\": [[0.0, \"#0d0887\"], [0.1111111111111111, \"#46039f\"], [0.2222222222222222, \"#7201a8\"], [0.3333333333333333, \"#9c179e\"], [0.4444444444444444, \"#bd3786\"], [0.5555555555555556, \"#d8576b\"], [0.6666666666666666, \"#ed7953\"], [0.7777777777777778, \"#fb9f3a\"], [0.8888888888888888, \"#fdca26\"], [1.0, \"#f0f921\"]], \"type\": \"histogram2d\"}], \"histogram2dcontour\": [{\"colorbar\": {\"outlinewidth\": 0, \"ticks\": \"\"}, \"colorscale\": [[0.0, \"#0d0887\"], [0.1111111111111111, \"#46039f\"], [0.2222222222222222, \"#7201a8\"], [0.3333333333333333, \"#9c179e\"], [0.4444444444444444, \"#bd3786\"], [0.5555555555555556, \"#d8576b\"], [0.6666666666666666, \"#ed7953\"], [0.7777777777777778, \"#fb9f3a\"], [0.8888888888888888, \"#fdca26\"], [1.0, \"#f0f921\"]], \"type\": \"histogram2dcontour\"}], \"mesh3d\": [{\"colorbar\": {\"outlinewidth\": 0, \"ticks\": \"\"}, \"type\": \"mesh3d\"}], \"parcoords\": [{\"line\": {\"colorbar\": {\"outlinewidth\": 0, \"ticks\": \"\"}}, \"type\": \"parcoords\"}], \"scatter\": [{\"marker\": {\"colorbar\": {\"outlinewidth\": 0, \"ticks\": \"\"}}, \"type\": \"scatter\"}], \"scatter3d\": [{\"line\": {\"colorbar\": {\"outlinewidth\": 0, \"ticks\": \"\"}}, \"marker\": {\"colorbar\": {\"outlinewidth\": 0, \"ticks\": \"\"}}, \"type\": \"scatter3d\"}], \"scattercarpet\": [{\"marker\": {\"colorbar\": {\"outlinewidth\": 0, \"ticks\": \"\"}}, \"type\": \"scattercarpet\"}], \"scattergeo\": [{\"marker\": {\"colorbar\": {\"outlinewidth\": 0, \"ticks\": \"\"}}, \"type\": \"scattergeo\"}], \"scattergl\": [{\"marker\": {\"colorbar\": {\"outlinewidth\": 0, \"ticks\": \"\"}}, \"type\": \"scattergl\"}], \"scattermapbox\": [{\"marker\": {\"colorbar\": {\"outlinewidth\": 0, \"ticks\": \"\"}}, \"type\": \"scattermapbox\"}], \"scatterpolar\": [{\"marker\": {\"colorbar\": {\"outlinewidth\": 0, \"ticks\": \"\"}}, \"type\": \"scatterpolar\"}], \"scatterpolargl\": [{\"marker\": {\"colorbar\": {\"outlinewidth\": 0, \"ticks\": \"\"}}, \"type\": \"scatterpolargl\"}], \"scatterternary\": [{\"marker\": {\"colorbar\": {\"outlinewidth\": 0, \"ticks\": \"\"}}, \"type\": \"scatterternary\"}], \"surface\": [{\"colorbar\": {\"outlinewidth\": 0, \"ticks\": \"\"}, \"colorscale\": [[0.0, \"#0d0887\"], [0.1111111111111111, \"#46039f\"], [0.2222222222222222, \"#7201a8\"], [0.3333333333333333, \"#9c179e\"], [0.4444444444444444, \"#bd3786\"], [0.5555555555555556, \"#d8576b\"], [0.6666666666666666, \"#ed7953\"], [0.7777777777777778, \"#fb9f3a\"], [0.8888888888888888, \"#fdca26\"], [1.0, \"#f0f921\"]], \"type\": \"surface\"}], \"table\": [{\"cells\": {\"fill\": {\"color\": \"#EBF0F8\"}, \"line\": {\"color\": \"white\"}}, \"header\": {\"fill\": {\"color\": \"#C8D4E3\"}, \"line\": {\"color\": \"white\"}}, \"type\": \"table\"}]}, \"layout\": {\"annotationdefaults\": {\"arrowcolor\": \"#2a3f5f\", \"arrowhead\": 0, \"arrowwidth\": 1}, \"colorscale\": {\"diverging\": [[0, \"#8e0152\"], [0.1, \"#c51b7d\"], [0.2, \"#de77ae\"], [0.3, \"#f1b6da\"], [0.4, \"#fde0ef\"], [0.5, \"#f7f7f7\"], [0.6, \"#e6f5d0\"], [0.7, \"#b8e186\"], [0.8, \"#7fbc41\"], [0.9, \"#4d9221\"], [1, \"#276419\"]], \"sequential\": [[0.0, \"#0d0887\"], [0.1111111111111111, \"#46039f\"], [0.2222222222222222, \"#7201a8\"], [0.3333333333333333, \"#9c179e\"], [0.4444444444444444, \"#bd3786\"], [0.5555555555555556, \"#d8576b\"], [0.6666666666666666, \"#ed7953\"], [0.7777777777777778, \"#fb9f3a\"], [0.8888888888888888, \"#fdca26\"], [1.0, \"#f0f921\"]], \"sequentialminus\": [[0.0, \"#0d0887\"], [0.1111111111111111, \"#46039f\"], [0.2222222222222222, \"#7201a8\"], [0.3333333333333333, \"#9c179e\"], [0.4444444444444444, \"#bd3786\"], [0.5555555555555556, \"#d8576b\"], [0.6666666666666666, \"#ed7953\"], [0.7777777777777778, \"#fb9f3a\"], [0.8888888888888888, \"#fdca26\"], [1.0, \"#f0f921\"]]}, \"colorway\": [\"#636efa\", \"#EF553B\", \"#00cc96\", \"#ab63fa\", \"#FFA15A\", \"#19d3f3\", \"#FF6692\", \"#B6E880\", \"#FF97FF\", \"#FECB52\"], \"font\": {\"color\": \"#2a3f5f\"}, \"geo\": {\"bgcolor\": \"white\", \"lakecolor\": \"white\", \"landcolor\": \"#E5ECF6\", \"showlakes\": true, \"showland\": true, \"subunitcolor\": \"white\"}, \"hoverlabel\": {\"align\": \"left\"}, \"hovermode\": \"closest\", \"mapbox\": {\"style\": \"light\"}, \"paper_bgcolor\": \"white\", \"plot_bgcolor\": \"#E5ECF6\", \"polar\": {\"angularaxis\": {\"gridcolor\": \"white\", \"linecolor\": \"white\", \"ticks\": \"\"}, \"bgcolor\": \"#E5ECF6\", \"radialaxis\": {\"gridcolor\": \"white\", \"linecolor\": \"white\", \"ticks\": \"\"}}, \"scene\": {\"xaxis\": {\"backgroundcolor\": \"#E5ECF6\", \"gridcolor\": \"white\", \"gridwidth\": 2, \"linecolor\": \"white\", \"showbackground\": true, \"ticks\": \"\", \"zerolinecolor\": \"white\"}, \"yaxis\": {\"backgroundcolor\": \"#E5ECF6\", \"gridcolor\": \"white\", \"gridwidth\": 2, \"linecolor\": \"white\", \"showbackground\": true, \"ticks\": \"\", \"zerolinecolor\": \"white\"}, \"zaxis\": {\"backgroundcolor\": \"#E5ECF6\", \"gridcolor\": \"white\", \"gridwidth\": 2, \"linecolor\": \"white\", \"showbackground\": true, \"ticks\": \"\", \"zerolinecolor\": \"white\"}}, \"shapedefaults\": {\"line\": {\"color\": \"#2a3f5f\"}}, \"ternary\": {\"aaxis\": {\"gridcolor\": \"white\", \"linecolor\": \"white\", \"ticks\": \"\"}, \"baxis\": {\"gridcolor\": \"white\", \"linecolor\": \"white\", \"ticks\": \"\"}, \"bgcolor\": \"#E5ECF6\", \"caxis\": {\"gridcolor\": \"white\", \"linecolor\": \"white\", \"ticks\": \"\"}}, \"title\": {\"x\": 0.05}, \"xaxis\": {\"automargin\": true, \"gridcolor\": \"white\", \"linecolor\": \"white\", \"ticks\": \"\", \"zerolinecolor\": \"white\", \"zerolinewidth\": 2}, \"yaxis\": {\"automargin\": true, \"gridcolor\": \"white\", \"linecolor\": \"white\", \"ticks\": \"\", \"zerolinecolor\": \"white\", \"zerolinewidth\": 2}}}, \"xaxis\": {\"anchor\": \"y\", \"domain\": [0.0, 0.98], \"title\": {\"text\": \"t\"}}, \"yaxis\": {\"anchor\": \"x\", \"domain\": [0.0, 1.0], \"title\": {\"text\": \"val\"}}},\n",
       "                        {\"responsive\": true}\n",
       "                    ).then(function(){\n",
       "                            \n",
       "var gd = document.getElementById('fabf898c-836b-4472-9a19-5cc8abbebb8d');\n",
       "var x = new MutationObserver(function (mutations, observer) {{\n",
       "        var display = window.getComputedStyle(gd).display;\n",
       "        if (!display || display === 'none') {{\n",
       "            console.log([gd, 'removed!']);\n",
       "            Plotly.purge(gd);\n",
       "            observer.disconnect();\n",
       "        }}\n",
       "}});\n",
       "\n",
       "// Listen for the removal of the full notebook cells\n",
       "var notebookContainer = gd.closest('#notebook-container');\n",
       "if (notebookContainer) {{\n",
       "    x.observe(notebookContainer, {childList: true});\n",
       "}}\n",
       "\n",
       "// Listen for the clearing of the current output cell\n",
       "var outputEl = gd.closest('.output');\n",
       "if (outputEl) {{\n",
       "    x.observe(outputEl, {childList: true});\n",
       "}}\n",
       "\n",
       "                        })\n",
       "                };\n",
       "                });\n",
       "            </script>\n",
       "        </div>"
      ]
     },
     "metadata": {},
     "output_type": "display_data"
    }
   ],
   "source": [
    "fig = px.line(\n",
    "        df_melted,\n",
    "        x='t',\n",
    "        y='val',\n",
    "        color='var',\n",
    "        hover_name='var',\n",
    "        render_mode=\"svg\"\n",
    "    )\n",
    "fig.show()"
   ]
  },
  {
   "cell_type": "code",
   "execution_count": 59,
   "metadata": {},
   "outputs": [],
   "source": [
    "def designate_flashes_plotly(fig,omit=None,pre_color='blue',post_color='blue',alpha=0.25,rows=[1],cols=[1],lims=[-10,10]):\n",
    "    '''add vertical spans to designate stimulus flashes'''\n",
    "    shape_list = []\n",
    "    for row in rows:\n",
    "        for col in cols:\n",
    "            for flash_start in np.arange(0,lims[1],0.75):\n",
    "                if flash_start != omit:\n",
    "                    shape_list.append(\n",
    "                        go.layout.Shape(\n",
    "                            type=\"rect\",\n",
    "                            x0=flash_start,\n",
    "                            y0=-2,\n",
    "                            x1=flash_start+0.25,\n",
    "                            y1=2,\n",
    "                            fillcolor=post_color,\n",
    "                            opacity=alpha,\n",
    "                            layer=\"below\",\n",
    "                            line_width=0,\n",
    "                            xref='x{}'.format(col),\n",
    "                            yref='y{}'.format(row),\n",
    "                        ),\n",
    "                    )\n",
    "            for flash_start in np.arange(-0.75,lims[0]-0.001,-0.75):\n",
    "                if flash_start != omit:\n",
    "                    shape_list.append(\n",
    "                        go.layout.Shape(\n",
    "                            type=\"rect\",\n",
    "                            x0=flash_start,\n",
    "                            y0=-2,\n",
    "                            x1=flash_start+0.25,\n",
    "                            y1=2,\n",
    "                            fillcolor=pre_color,\n",
    "                            opacity=alpha,\n",
    "                            layer=\"below\",\n",
    "                            line_width=0,\n",
    "                            xref='x{}'.format(col),\n",
    "                            yref='y{}'.format(row),\n",
    "                        ),\n",
    "                    )\n",
    "\n",
    "    fig.update_layout(shapes=shape_list)"
   ]
  },
  {
   "cell_type": "code",
   "execution_count": 65,
   "metadata": {},
   "outputs": [
    {
     "data": {
      "application/vnd.plotly.v1+json": {
       "config": {
        "plotlyServerURL": "https://plot.ly"
       },
       "data": [
        {
         "line": {
          "color": "firebrick",
          "width": 4
         },
         "opacity": 0.5,
         "type": "scatter",
         "x": [
          0,
          0.01,
          0.02,
          0.03,
          0.04,
          0.05,
          0.06,
          0.07,
          0.08,
          0.09,
          0.1,
          0.11,
          0.12,
          0.13,
          0.14,
          0.15,
          0.16,
          0.17,
          0.18,
          0.19,
          0.2,
          0.21,
          0.22,
          0.23,
          0.24,
          0.25,
          0.26,
          0.27,
          0.28,
          0.29,
          0.3,
          0.31,
          0.32,
          0.33,
          0.34,
          0.35000000000000003,
          0.36,
          0.37,
          0.38,
          0.39,
          0.4,
          0.41000000000000003,
          0.42,
          0.43,
          0.44,
          0.45,
          0.46,
          0.47000000000000003,
          0.48,
          0.49,
          0.5,
          0.51,
          0.52,
          0.53,
          0.54,
          0.55,
          0.56,
          0.5700000000000001,
          0.58,
          0.59,
          0.6,
          0.61,
          0.62,
          0.63,
          0.64,
          0.65,
          0.66,
          0.67,
          0.68,
          0.6900000000000001,
          0.7000000000000001,
          0.71,
          0.72,
          0.73,
          0.74,
          0.75,
          0.76,
          0.77,
          0.78,
          0.79,
          0.8,
          0.81,
          0.8200000000000001,
          0.8300000000000001,
          0.84,
          0.85,
          0.86,
          0.87,
          0.88,
          0.89,
          0.9,
          0.91,
          0.92,
          0.93,
          0.9400000000000001,
          0.9500000000000001,
          0.96,
          0.97,
          0.98,
          0.99,
          1,
          1.01,
          1.02,
          1.03,
          1.04,
          1.05,
          1.06,
          1.07,
          1.08,
          1.09,
          1.1,
          1.11,
          1.12,
          1.1300000000000001,
          1.1400000000000001,
          1.1500000000000001,
          1.16,
          1.17,
          1.18,
          1.19,
          1.2,
          1.21,
          1.22,
          1.23,
          1.24,
          1.25,
          1.26,
          1.27,
          1.28,
          1.29,
          1.3,
          1.31,
          1.32,
          1.33,
          1.34,
          1.35,
          1.36,
          1.37,
          1.3800000000000001,
          1.3900000000000001,
          1.4000000000000001,
          1.41,
          1.42,
          1.43,
          1.44,
          1.45,
          1.46,
          1.47,
          1.48,
          1.49,
          1.5,
          1.51,
          1.52,
          1.53,
          1.54,
          1.55,
          1.56,
          1.57,
          1.58,
          1.59,
          1.6,
          1.61,
          1.62,
          1.6300000000000001,
          1.6400000000000001,
          1.6500000000000001,
          1.6600000000000001,
          1.67,
          1.68,
          1.69,
          1.7,
          1.71,
          1.72,
          1.73,
          1.74,
          1.75,
          1.76,
          1.77,
          1.78,
          1.79,
          1.8,
          1.81,
          1.82,
          1.83,
          1.84,
          1.85,
          1.86,
          1.87,
          1.8800000000000001,
          1.8900000000000001,
          1.9000000000000001,
          1.9100000000000001,
          1.92,
          1.93,
          1.94,
          1.95,
          1.96,
          1.97,
          1.98,
          1.99,
          2,
          2.0100000000000002,
          2.02,
          2.0300000000000002,
          2.04,
          2.05,
          2.06,
          2.07,
          2.08,
          2.09,
          2.1,
          2.11,
          2.12,
          2.13,
          2.14,
          2.15,
          2.16,
          2.17,
          2.18,
          2.19,
          2.2,
          2.21,
          2.22,
          2.23,
          2.24,
          2.25,
          2.2600000000000002,
          2.27,
          2.2800000000000002,
          2.29,
          2.3000000000000003,
          2.31,
          2.32,
          2.33,
          2.34,
          2.35,
          2.36,
          2.37,
          2.38,
          2.39,
          2.4,
          2.41,
          2.42,
          2.43,
          2.44,
          2.45,
          2.46,
          2.47,
          2.48,
          2.49,
          2.5,
          2.5100000000000002,
          2.52,
          2.5300000000000002,
          2.54,
          2.5500000000000003,
          2.56,
          2.57,
          2.58,
          2.59,
          2.6,
          2.61,
          2.62,
          2.63,
          2.64,
          2.65,
          2.66,
          2.67,
          2.68,
          2.69,
          2.7,
          2.71,
          2.72,
          2.73,
          2.74,
          2.75,
          2.7600000000000002,
          2.77,
          2.7800000000000002,
          2.79,
          2.8000000000000003,
          2.81,
          2.82,
          2.83,
          2.84,
          2.85,
          2.86,
          2.87,
          2.88,
          2.89,
          2.9,
          2.91,
          2.92,
          2.93,
          2.94,
          2.95,
          2.96,
          2.97,
          2.98,
          2.99,
          3,
          3.0100000000000002,
          3.02,
          3.0300000000000002,
          3.04,
          3.0500000000000003,
          3.06,
          3.0700000000000003,
          3.08,
          3.09,
          3.1,
          3.11,
          3.12,
          3.13,
          3.14,
          3.15,
          3.16,
          3.17,
          3.18,
          3.19,
          3.2,
          3.21,
          3.22,
          3.23,
          3.24,
          3.25,
          3.2600000000000002,
          3.27,
          3.2800000000000002,
          3.29,
          3.3000000000000003,
          3.31,
          3.3200000000000003,
          3.33,
          3.34,
          3.35,
          3.36,
          3.37,
          3.38,
          3.39,
          3.4,
          3.41,
          3.42,
          3.43,
          3.44,
          3.45,
          3.46,
          3.47,
          3.48,
          3.49,
          3.5,
          3.5100000000000002,
          3.52,
          3.5300000000000002,
          3.54,
          3.5500000000000003,
          3.56,
          3.5700000000000003,
          3.58,
          3.59,
          3.6,
          3.61,
          3.62,
          3.63,
          3.64,
          3.65,
          3.66,
          3.67,
          3.68,
          3.69,
          3.7,
          3.71,
          3.72,
          3.73,
          3.74,
          3.75,
          3.7600000000000002,
          3.77,
          3.7800000000000002,
          3.79,
          3.8000000000000003,
          3.81,
          3.8200000000000003,
          3.83,
          3.84,
          3.85,
          3.86,
          3.87,
          3.88,
          3.89,
          3.9,
          3.91,
          3.92,
          3.93,
          3.94,
          3.95,
          3.96,
          3.97,
          3.98,
          3.99,
          4,
          4.01,
          4.0200000000000005,
          4.03,
          4.04,
          4.05,
          4.0600000000000005,
          4.07,
          4.08,
          4.09,
          4.1,
          4.11,
          4.12,
          4.13,
          4.14,
          4.15,
          4.16,
          4.17,
          4.18,
          4.19,
          4.2,
          4.21,
          4.22,
          4.23,
          4.24,
          4.25,
          4.26,
          4.2700000000000005,
          4.28,
          4.29,
          4.3,
          4.3100000000000005,
          4.32,
          4.33,
          4.34,
          4.3500000000000005,
          4.36,
          4.37,
          4.38,
          4.39,
          4.4,
          4.41,
          4.42,
          4.43,
          4.44,
          4.45,
          4.46,
          4.47,
          4.48,
          4.49,
          4.5,
          4.51,
          4.5200000000000005,
          4.53,
          4.54,
          4.55,
          4.5600000000000005,
          4.57,
          4.58,
          4.59,
          4.6000000000000005,
          4.61,
          4.62,
          4.63,
          4.64,
          4.65,
          4.66,
          4.67,
          4.68,
          4.69,
          4.7,
          4.71,
          4.72,
          4.73,
          4.74,
          4.75,
          4.76,
          4.7700000000000005,
          4.78,
          4.79,
          4.8,
          4.8100000000000005,
          4.82,
          4.83,
          4.84,
          4.8500000000000005,
          4.86,
          4.87,
          4.88,
          4.89,
          4.9,
          4.91,
          4.92,
          4.93,
          4.94,
          4.95,
          4.96,
          4.97,
          4.98,
          4.99
         ],
         "xaxis": "x",
         "y": [
          0,
          0.06279051952931337,
          0.12533323356430426,
          0.1873813145857246,
          0.2486898871648548,
          0.3090169943749474,
          0.3681245526846779,
          0.4257792915650727,
          0.4817536741017153,
          0.5358267949789967,
          0.5877852522924731,
          0.6374239897486896,
          0.6845471059286886,
          0.7289686274214116,
          0.7705132427757893,
          0.8090169943749475,
          0.8443279255020151,
          0.8763066800438637,
          0.9048270524660196,
          0.9297764858882513,
          0.9510565162951535,
          0.9685831611286311,
          0.9822872507286886,
          0.9921147013144779,
          0.9980267284282716,
          1,
          0.9980267284282716,
          0.9921147013144778,
          0.9822872507286886,
          0.9685831611286312,
          0.9510565162951536,
          0.9297764858882513,
          0.9048270524660195,
          0.8763066800438635,
          0.844327925502015,
          0.8090169943749475,
          0.7705132427757893,
          0.7289686274214114,
          0.6845471059286888,
          0.6374239897486899,
          0.5877852522924732,
          0.5358267949789967,
          0.4817536741017156,
          0.4257792915650729,
          0.36812455268467814,
          0.3090169943749475,
          0.24868988716485482,
          0.18738131458572457,
          0.12533323356430454,
          0.06279051952931358,
          1.2246467991473532e-16,
          -0.06279051952931335,
          -0.12533323356430429,
          -0.18738131458572477,
          -0.24868988716485502,
          -0.30901699437494773,
          -0.3681245526846783,
          -0.42577929156507266,
          -0.481753674101715,
          -0.5358267949789964,
          -0.587785252292473,
          -0.6374239897486896,
          -0.6845471059286887,
          -0.7289686274214113,
          -0.7705132427757894,
          -0.8090169943749473,
          -0.8443279255020153,
          -0.8763066800438636,
          -0.9048270524660198,
          -0.9297764858882515,
          -0.9510565162951535,
          -0.968583161128631,
          -0.9822872507286887,
          -0.9921147013144778,
          -0.9980267284282716,
          -1,
          -0.9980267284282716,
          -0.9921147013144779,
          -0.9822872507286887,
          -0.9685831611286311,
          -0.9510565162951536,
          -0.9297764858882512,
          -0.9048270524660196,
          -0.8763066800438634,
          -0.8443279255020155,
          -0.8090169943749476,
          -0.7705132427757896,
          -0.7289686274214116,
          -0.684547105928689,
          -0.6374239897486896,
          -0.5877852522924734,
          -0.5358267949789963,
          -0.4817536741017153,
          -0.4257792915650722,
          -0.36812455268467786,
          -0.3090169943749476,
          -0.24868988716485535,
          -0.18738131458572468,
          -0.12533323356430465,
          -0.06279051952931326,
          -2.4492935982947064e-16,
          0.06279051952931278,
          0.12533323356430418,
          0.1873813145857242,
          0.24868988716485488,
          0.3090169943749472,
          0.3681245526846782,
          0.42577929156507255,
          0.48175367410171566,
          0.5358267949789967,
          0.5877852522924736,
          0.6374239897486899,
          0.6845471059286893,
          0.7289686274214118,
          0.7705132427757893,
          0.8090169943749478,
          0.8443279255020147,
          0.8763066800438631,
          0.9048270524660194,
          0.9297764858882511,
          0.9510565162951535,
          0.968583161128631,
          0.9822872507286886,
          0.9921147013144778,
          0.9980267284282716,
          1,
          0.9980267284282716,
          0.9921147013144779,
          0.9822872507286886,
          0.9685831611286311,
          0.9510565162951536,
          0.9297764858882517,
          0.9048270524660192,
          0.8763066800438634,
          0.8443279255020151,
          0.8090169943749477,
          0.7705132427757886,
          0.728968627421411,
          0.6845471059286884,
          0.6374239897486897,
          0.5877852522924734,
          0.5358267949789972,
          0.4817536741017162,
          0.42577929156507394,
          0.368124552684678,
          0.3090169943749478,
          0.2486898871648555,
          0.18738131458572568,
          0.1253332335643039,
          0.06279051952931339,
          3.6739403974420594e-16,
          -0.06279051952931265,
          -0.12533323356430318,
          -0.18738131458572496,
          -0.24868988716485477,
          -0.30901699437494706,
          -0.36812455268467725,
          -0.42577929156507327,
          -0.48175367410171555,
          -0.5358267949789965,
          -0.5877852522924728,
          -0.6374239897486905,
          -0.6845471059286892,
          -0.7289686274214118,
          -0.7705132427757893,
          -0.8090169943749472,
          -0.8443279255020156,
          -0.876306680043863,
          -0.9048270524660189,
          -0.9297764858882513,
          -0.9510565162951534,
          -0.968583161128631,
          -0.9822872507286885,
          -0.9921147013144779,
          -0.9980267284282716,
          -1,
          -0.9980267284282716,
          -0.992114701314478,
          -0.9822872507286886,
          -0.9685831611286312,
          -0.9510565162951538,
          -0.9297764858882517,
          -0.9048270524660192,
          -0.8763066800438635,
          -0.8443279255020151,
          -0.8090169943749477,
          -0.7705132427757886,
          -0.7289686274214111,
          -0.6845471059286885,
          -0.6374239897486897,
          -0.5877852522924735,
          -0.5358267949789958,
          -0.4817536741017163,
          -0.42577929156507405,
          -0.3681245526846781,
          -0.3090169943749479,
          -0.2486898871648556,
          -0.1873813145857258,
          -0.125333233564304,
          -0.06279051952931351,
          -4.898587196589413e-16,
          0.0627905195293143,
          0.12533323356430304,
          0.18738131458572485,
          0.24868988716485466,
          0.30901699437494523,
          0.36812455268467714,
          0.42577929156507155,
          0.48175367410171543,
          0.535826794978995,
          0.5877852522924727,
          0.6374239897486891,
          0.6845471059286891,
          0.7289686274214104,
          0.7705132427757891,
          0.8090169943749471,
          0.8443279255020155,
          0.876306680043863,
          0.9048270524660196,
          0.9297764858882513,
          0.951056516295154,
          0.9685831611286309,
          0.9822872507286888,
          0.9921147013144779,
          0.9980267284282717,
          1,
          0.9980267284282716,
          0.992114701314478,
          0.9822872507286886,
          0.9685831611286312,
          0.9510565162951532,
          0.9297764858882518,
          0.90482705246602,
          0.8763066800438635,
          0.8443279255020162,
          0.8090169943749478,
          0.7705132427757898,
          0.7289686274214112,
          0.6845471059286898,
          0.6374239897486899,
          0.5877852522924736,
          0.5358267949789959,
          0.48175367410171643,
          0.42577929156507255,
          0.3681245526846782,
          0.3090169943749463,
          0.2486898871648557,
          0.18738131458572418,
          0.12533323356430415,
          0.06279051952931186,
          6.123233995736766e-16,
          -0.06279051952931418,
          -0.12533323356430293,
          -0.1873813145857247,
          -0.24868988716485452,
          -0.3090169943749485,
          -0.3681245526846787,
          -0.42577929156506983,
          -0.4817536741017153,
          -0.5358267949789964,
          -0.5877852522924726,
          -0.637423989748689,
          -0.6845471059286877,
          -0.7289686274214103,
          -0.7705132427757901,
          -0.809016994374946,
          -0.8443279255020155,
          -0.8763066800438638,
          -0.9048270524660196,
          -0.9297764858882513,
          -0.9510565162951534,
          -0.9685831611286309,
          -0.982287250728689,
          -0.9921147013144777,
          -0.9980267284282717,
          -1,
          -0.9980267284282716,
          -0.9921147013144778,
          -0.9822872507286887,
          -0.9685831611286312,
          -0.9510565162951538,
          -0.9297764858882518,
          -0.9048270524660201,
          -0.8763066800438645,
          -0.8443279255020162,
          -0.8090169943749468,
          -0.770513242775791,
          -0.7289686274214112,
          -0.6845471059286886,
          -0.63742398974869,
          -0.5877852522924737,
          -0.5358267949789975,
          -0.48175367410171654,
          -0.42577929156507105,
          -0.36812455268468,
          -0.3090169943749464,
          -0.2486898871648541,
          -0.1873813145857243,
          -0.12533323356430426,
          -0.06279051952931375,
          -7.347880794884119e-16,
          0.06279051952931583,
          0.12533323356430282,
          0.18738131458572635,
          0.24868988716485269,
          0.3090169943749484,
          0.3681245526846786,
          0.42577929156507294,
          0.4817536741017152,
          0.5358267949789963,
          0.5877852522924725,
          0.6374239897486889,
          0.6845471059286876,
          0.7289686274214102,
          0.7705132427757901,
          0.8090169943749459,
          0.8443279255020154,
          0.8763066800438637,
          0.9048270524660195,
          0.9297764858882512,
          0.9510565162951533,
          0.9685831611286309,
          0.982287250728689,
          0.9921147013144775,
          0.9980267284282717,
          1,
          0.9980267284282716,
          0.9921147013144778,
          0.9822872507286887,
          0.9685831611286312,
          0.9510565162951539,
          0.9297764858882518,
          0.9048270524660187,
          0.8763066800438645,
          0.8443279255020163,
          0.8090169943749469,
          0.7705132427757911,
          0.7289686274214113,
          0.6845471059286887,
          0.6374239897486901,
          0.5877852522924738,
          0.5358267949789977,
          0.48175367410171666,
          0.42577929156507116,
          0.3681245526846801,
          0.30901699437494656,
          0.24868988716485424,
          0.1873813145857244,
          0.1253332335643044,
          0.06279051952931387,
          8.572527594031472e-16,
          -0.0627905195293157,
          -0.12533323356430268,
          -0.1873813145857262,
          -0.24868988716485257,
          -0.3090169943749483,
          -0.3681245526846785,
          -0.4257792915650728,
          -0.48175367410171516,
          -0.5358267949789962,
          -0.5877852522924725,
          -0.6374239897486887,
          -0.6845471059286875,
          -0.7289686274214102,
          -0.77051324277579,
          -0.8090169943749459,
          -0.8443279255020154,
          -0.8763066800438637,
          -0.9048270524660195,
          -0.9297764858882512,
          -0.9510565162951533,
          -0.9685831611286309,
          -0.982287250728689,
          -0.9921147013144775,
          -0.9980267284282717,
          -1,
          -0.9980267284282716,
          -0.9921147013144778,
          -0.9822872507286887,
          -0.9685831611286313,
          -0.9510565162951539,
          -0.9297764858882519,
          -0.9048270524660187,
          -0.8763066800438646,
          -0.8443279255020163,
          -0.8090169943749469,
          -0.7705132427757911,
          -0.7289686274214114,
          -0.6845471059286888,
          -0.6374239897486902,
          -0.5877852522924739,
          -0.5358267949789978,
          -0.48175367410171677,
          -0.42577929156507127,
          -0.3681245526846802,
          -0.3090169943749467,
          -0.24868988716485435,
          -0.18738131458572455,
          -0.1253332335643045,
          -0.062790519529314,
          -9.797174393178826e-16,
          0.06279051952931204,
          0.1253332335643061,
          0.1873813145857261,
          0.24868988716485246,
          0.3090169943749448,
          0.36812455268467836,
          0.4257792915650727,
          0.48175367410171505,
          0.5358267949789961,
          0.5877852522924695,
          0.6374239897486914,
          0.6845471059286874,
          0.7289686274214101,
          0.7705132427757877,
          0.8090169943749479,
          0.8443279255020153,
          0.8763066800438636,
          0.9048270524660179,
          0.9297764858882525,
          0.9510565162951533,
          0.9685831611286307,
          0.9822872507286884,
          0.992114701314478,
          0.9980267284282717,
          1,
          0.9980267284282718,
          0.9921147013144774,
          0.9822872507286887,
          0.9685831611286313,
          0.9510565162951539,
          0.9297764858882506,
          0.9048270524660188,
          0.8763066800438646,
          0.8443279255020164,
          0.809016994374947,
          0.770513242775789,
          0.7289686274214116,
          0.684547105928689,
          0.637423989748693,
          0.5877852522924711,
          0.5358267949789979,
          0.4817536741017168,
          0.4257792915650746,
          0.368124552684677,
          0.3090169943749468,
          0.24868988716485446,
          0.18738131458572815,
          0.1253332335643011,
          0.06279051952931412,
          1.102182119232618e-15,
          -0.06279051952931192,
          -0.12533323356430598,
          -0.187381314585726,
          -0.24868988716485232,
          -0.3090169943749447,
          -0.36812455268467825,
          -0.4257792915650726,
          -0.48175367410171493,
          -0.535826794978996,
          -0.5877852522924751,
          -0.6374239897486913,
          -0.6845471059286873,
          -0.72896862742141,
          -0.7705132427757876,
          -0.8090169943749478,
          -0.8443279255020152,
          -0.8763066800438636,
          -0.9048270524660178,
          -0.9297764858882525,
          -0.9510565162951532,
          -0.9685831611286307,
          -0.9822872507286883,
          -0.992114701314478,
          -0.9980267284282717,
          -1,
          -0.9980267284282718,
          -0.9921147013144774,
          -0.9822872507286887,
          -0.9685831611286313,
          -0.951056516295154,
          -0.9297764858882507,
          -0.9048270524660188,
          -0.8763066800438647,
          -0.8443279255020165,
          -0.8090169943749471,
          -0.770513242775789,
          -0.7289686274214117,
          -0.6845471059286891,
          -0.6374239897486931,
          -0.5877852522924712,
          -0.535826794978998,
          -0.48175367410171693,
          -0.4257792915650747,
          -0.3681245526846771,
          -0.3090169943749469,
          -0.2486898871648546,
          -0.18738131458572826,
          -0.12533323356430123,
          -0.06279051952931425
         ],
         "yaxis": "y"
        },
        {
         "showlegend": false,
         "type": "scatter",
         "x": [
          0,
          0.01,
          0.02,
          0.03,
          0.04,
          0.05,
          0.06,
          0.07,
          0.08,
          0.09,
          0.1,
          0.11,
          0.12,
          0.13,
          0.14,
          0.15,
          0.16,
          0.17,
          0.18,
          0.19,
          0.2,
          0.21,
          0.22,
          0.23,
          0.24,
          0.25,
          0.26,
          0.27,
          0.28,
          0.29,
          0.3,
          0.31,
          0.32,
          0.33,
          0.34,
          0.35000000000000003,
          0.36,
          0.37,
          0.38,
          0.39,
          0.4,
          0.41000000000000003,
          0.42,
          0.43,
          0.44,
          0.45,
          0.46,
          0.47000000000000003,
          0.48,
          0.49,
          0.5,
          0.51,
          0.52,
          0.53,
          0.54,
          0.55,
          0.56,
          0.5700000000000001,
          0.58,
          0.59,
          0.6,
          0.61,
          0.62,
          0.63,
          0.64,
          0.65,
          0.66,
          0.67,
          0.68,
          0.6900000000000001,
          0.7000000000000001,
          0.71,
          0.72,
          0.73,
          0.74,
          0.75,
          0.76,
          0.77,
          0.78,
          0.79,
          0.8,
          0.81,
          0.8200000000000001,
          0.8300000000000001,
          0.84,
          0.85,
          0.86,
          0.87,
          0.88,
          0.89,
          0.9,
          0.91,
          0.92,
          0.93,
          0.9400000000000001,
          0.9500000000000001,
          0.96,
          0.97,
          0.98,
          0.99,
          1,
          1.01,
          1.02,
          1.03,
          1.04,
          1.05,
          1.06,
          1.07,
          1.08,
          1.09,
          1.1,
          1.11,
          1.12,
          1.1300000000000001,
          1.1400000000000001,
          1.1500000000000001,
          1.16,
          1.17,
          1.18,
          1.19,
          1.2,
          1.21,
          1.22,
          1.23,
          1.24,
          1.25,
          1.26,
          1.27,
          1.28,
          1.29,
          1.3,
          1.31,
          1.32,
          1.33,
          1.34,
          1.35,
          1.36,
          1.37,
          1.3800000000000001,
          1.3900000000000001,
          1.4000000000000001,
          1.41,
          1.42,
          1.43,
          1.44,
          1.45,
          1.46,
          1.47,
          1.48,
          1.49,
          1.5,
          1.51,
          1.52,
          1.53,
          1.54,
          1.55,
          1.56,
          1.57,
          1.58,
          1.59,
          1.6,
          1.61,
          1.62,
          1.6300000000000001,
          1.6400000000000001,
          1.6500000000000001,
          1.6600000000000001,
          1.67,
          1.68,
          1.69,
          1.7,
          1.71,
          1.72,
          1.73,
          1.74,
          1.75,
          1.76,
          1.77,
          1.78,
          1.79,
          1.8,
          1.81,
          1.82,
          1.83,
          1.84,
          1.85,
          1.86,
          1.87,
          1.8800000000000001,
          1.8900000000000001,
          1.9000000000000001,
          1.9100000000000001,
          1.92,
          1.93,
          1.94,
          1.95,
          1.96,
          1.97,
          1.98,
          1.99,
          2,
          2.0100000000000002,
          2.02,
          2.0300000000000002,
          2.04,
          2.05,
          2.06,
          2.07,
          2.08,
          2.09,
          2.1,
          2.11,
          2.12,
          2.13,
          2.14,
          2.15,
          2.16,
          2.17,
          2.18,
          2.19,
          2.2,
          2.21,
          2.22,
          2.23,
          2.24,
          2.25,
          2.2600000000000002,
          2.27,
          2.2800000000000002,
          2.29,
          2.3000000000000003,
          2.31,
          2.32,
          2.33,
          2.34,
          2.35,
          2.36,
          2.37,
          2.38,
          2.39,
          2.4,
          2.41,
          2.42,
          2.43,
          2.44,
          2.45,
          2.46,
          2.47,
          2.48,
          2.49,
          2.5,
          2.5100000000000002,
          2.52,
          2.5300000000000002,
          2.54,
          2.5500000000000003,
          2.56,
          2.57,
          2.58,
          2.59,
          2.6,
          2.61,
          2.62,
          2.63,
          2.64,
          2.65,
          2.66,
          2.67,
          2.68,
          2.69,
          2.7,
          2.71,
          2.72,
          2.73,
          2.74,
          2.75,
          2.7600000000000002,
          2.77,
          2.7800000000000002,
          2.79,
          2.8000000000000003,
          2.81,
          2.82,
          2.83,
          2.84,
          2.85,
          2.86,
          2.87,
          2.88,
          2.89,
          2.9,
          2.91,
          2.92,
          2.93,
          2.94,
          2.95,
          2.96,
          2.97,
          2.98,
          2.99,
          3,
          3.0100000000000002,
          3.02,
          3.0300000000000002,
          3.04,
          3.0500000000000003,
          3.06,
          3.0700000000000003,
          3.08,
          3.09,
          3.1,
          3.11,
          3.12,
          3.13,
          3.14,
          3.15,
          3.16,
          3.17,
          3.18,
          3.19,
          3.2,
          3.21,
          3.22,
          3.23,
          3.24,
          3.25,
          3.2600000000000002,
          3.27,
          3.2800000000000002,
          3.29,
          3.3000000000000003,
          3.31,
          3.3200000000000003,
          3.33,
          3.34,
          3.35,
          3.36,
          3.37,
          3.38,
          3.39,
          3.4,
          3.41,
          3.42,
          3.43,
          3.44,
          3.45,
          3.46,
          3.47,
          3.48,
          3.49,
          3.5,
          3.5100000000000002,
          3.52,
          3.5300000000000002,
          3.54,
          3.5500000000000003,
          3.56,
          3.5700000000000003,
          3.58,
          3.59,
          3.6,
          3.61,
          3.62,
          3.63,
          3.64,
          3.65,
          3.66,
          3.67,
          3.68,
          3.69,
          3.7,
          3.71,
          3.72,
          3.73,
          3.74,
          3.75,
          3.7600000000000002,
          3.77,
          3.7800000000000002,
          3.79,
          3.8000000000000003,
          3.81,
          3.8200000000000003,
          3.83,
          3.84,
          3.85,
          3.86,
          3.87,
          3.88,
          3.89,
          3.9,
          3.91,
          3.92,
          3.93,
          3.94,
          3.95,
          3.96,
          3.97,
          3.98,
          3.99,
          4,
          4.01,
          4.0200000000000005,
          4.03,
          4.04,
          4.05,
          4.0600000000000005,
          4.07,
          4.08,
          4.09,
          4.1,
          4.11,
          4.12,
          4.13,
          4.14,
          4.15,
          4.16,
          4.17,
          4.18,
          4.19,
          4.2,
          4.21,
          4.22,
          4.23,
          4.24,
          4.25,
          4.26,
          4.2700000000000005,
          4.28,
          4.29,
          4.3,
          4.3100000000000005,
          4.32,
          4.33,
          4.34,
          4.3500000000000005,
          4.36,
          4.37,
          4.38,
          4.39,
          4.4,
          4.41,
          4.42,
          4.43,
          4.44,
          4.45,
          4.46,
          4.47,
          4.48,
          4.49,
          4.5,
          4.51,
          4.5200000000000005,
          4.53,
          4.54,
          4.55,
          4.5600000000000005,
          4.57,
          4.58,
          4.59,
          4.6000000000000005,
          4.61,
          4.62,
          4.63,
          4.64,
          4.65,
          4.66,
          4.67,
          4.68,
          4.69,
          4.7,
          4.71,
          4.72,
          4.73,
          4.74,
          4.75,
          4.76,
          4.7700000000000005,
          4.78,
          4.79,
          4.8,
          4.8100000000000005,
          4.82,
          4.83,
          4.84,
          4.8500000000000005,
          4.86,
          4.87,
          4.88,
          4.89,
          4.9,
          4.91,
          4.92,
          4.93,
          4.94,
          4.95,
          4.96,
          4.97,
          4.98,
          4.99
         ],
         "xaxis": "x2",
         "y": [
          1,
          0.9980267284282716,
          0.9921147013144779,
          0.9822872507286887,
          0.9685831611286311,
          0.9510565162951535,
          0.9297764858882515,
          0.9048270524660195,
          0.8763066800438636,
          0.8443279255020151,
          0.8090169943749475,
          0.7705132427757893,
          0.7289686274214116,
          0.6845471059286886,
          0.6374239897486896,
          0.5877852522924731,
          0.5358267949789965,
          0.48175367410171516,
          0.42577929156507266,
          0.3681245526846781,
          0.30901699437494745,
          0.24868988716485496,
          0.18738131458572474,
          0.12533323356430426,
          0.06279051952931353,
          6.123233995736766e-17,
          -0.0627905195293134,
          -0.12533323356430437,
          -0.18738131458572482,
          -0.24868988716485463,
          -0.30901699437494734,
          -0.368124552684678,
          -0.4257792915650727,
          -0.48175367410171543,
          -0.5358267949789969,
          -0.587785252292473,
          -0.6374239897486897,
          -0.6845471059286887,
          -0.7289686274214113,
          -0.7705132427757891,
          -0.8090169943749473,
          -0.8443279255020151,
          -0.8763066800438634,
          -0.9048270524660194,
          -0.9297764858882513,
          -0.9510565162951535,
          -0.9685831611286311,
          -0.9822872507286887,
          -0.9921147013144778,
          -0.9980267284282716,
          -1,
          -0.9980267284282716,
          -0.9921147013144779,
          -0.9822872507286886,
          -0.9685831611286311,
          -0.9510565162951535,
          -0.9297764858882512,
          -0.9048270524660195,
          -0.8763066800438637,
          -0.8443279255020152,
          -0.8090169943749476,
          -0.7705132427757893,
          -0.7289686274214116,
          -0.684547105928689,
          -0.6374239897486895,
          -0.5877852522924732,
          -0.5358267949789963,
          -0.48175367410171527,
          -0.42577929156507216,
          -0.3681245526846778,
          -0.30901699437494756,
          -0.2486898871648553,
          -0.18738131458572463,
          -0.1253332335643046,
          -0.06279051952931321,
          -1.8369701987210297e-16,
          0.06279051952931283,
          0.12533323356430423,
          0.18738131458572427,
          0.24868988716485493,
          0.30901699437494723,
          0.36812455268467825,
          0.4257792915650726,
          0.4817536741017157,
          0.535826794978996,
          0.5877852522924729,
          0.6374239897486893,
          0.6845471059286886,
          0.7289686274214112,
          0.7705132427757894,
          0.8090169943749473,
          0.8443279255020153,
          0.8763066800438636,
          0.9048270524660197,
          0.9297764858882515,
          0.9510565162951535,
          0.968583161128631,
          0.9822872507286887,
          0.9921147013144778,
          0.9980267284282716,
          1,
          0.9980267284282716,
          0.9921147013144779,
          0.9822872507286887,
          0.9685831611286311,
          0.9510565162951536,
          0.9297764858882513,
          0.9048270524660196,
          0.8763066800438634,
          0.8443279255020151,
          0.809016994374947,
          0.770513242775789,
          0.728968627421411,
          0.6845471059286884,
          0.6374239897486896,
          0.5877852522924727,
          0.5358267949789972,
          0.48175367410171616,
          0.42577929156507305,
          0.36812455268467875,
          0.30901699437494773,
          0.24868988716485543,
          0.18738131458572474,
          0.12533323356430473,
          0.06279051952931332,
          3.061616997868383e-16,
          -0.06279051952931271,
          -0.12533323356430412,
          -0.18738131458572502,
          -0.24868988716485482,
          -0.3090169943749471,
          -0.3681245526846773,
          -0.4257792915650733,
          -0.4817536741017156,
          -0.5358267949789967,
          -0.5877852522924729,
          -0.6374239897486905,
          -0.6845471059286892,
          -0.7289686274214118,
          -0.7705132427757893,
          -0.8090169943749472,
          -0.8443279255020147,
          -0.876306680043863,
          -0.9048270524660189,
          -0.9297764858882515,
          -0.9510565162951534,
          -0.968583161128631,
          -0.9822872507286885,
          -0.9921147013144779,
          -0.9980267284282716,
          -1,
          -0.9980267284282716,
          -0.992114701314478,
          -0.9822872507286886,
          -0.9685831611286311,
          -0.9510565162951536,
          -0.9297764858882517,
          -0.9048270524660192,
          -0.8763066800438635,
          -0.8443279255020151,
          -0.8090169943749477,
          -0.7705132427757886,
          -0.7289686274214111,
          -0.6845471059286884,
          -0.6374239897486897,
          -0.5877852522924735,
          -0.5358267949789958,
          -0.48175367410171627,
          -0.425779291565074,
          -0.36812455268467803,
          -0.30901699437494784,
          -0.24868988716485554,
          -0.18738131458572574,
          -0.12533323356430395,
          -0.06279051952931344,
          -4.286263797015736e-16,
          0.0627905195293126,
          0.12533323356430312,
          0.1873813145857249,
          0.2486898871648547,
          0.309016994374947,
          0.3681245526846772,
          0.4257792915650732,
          0.4817536741017155,
          0.5358267949789965,
          0.5877852522924728,
          0.6374239897486904,
          0.6845471059286892,
          0.7289686274214117,
          0.7705132427757891,
          0.8090169943749471,
          0.8443279255020156,
          0.876306680043863,
          0.9048270524660189,
          0.9297764858882513,
          0.9510565162951534,
          0.968583161128631,
          0.9822872507286885,
          0.9921147013144779,
          0.9980267284282716,
          1,
          0.9980267284282716,
          0.992114701314478,
          0.9822872507286886,
          0.9685831611286312,
          0.9510565162951543,
          0.9297764858882517,
          0.90482705246602,
          0.8763066800438635,
          0.8443279255020161,
          0.8090169943749477,
          0.7705132427757898,
          0.7289686274214111,
          0.6845471059286898,
          0.6374239897486899,
          0.5877852522924736,
          0.5358267949789959,
          0.4817536741017164,
          0.4257792915650725,
          0.36812455268467814,
          0.30901699437494623,
          0.24868988716485566,
          0.18738131458572413,
          0.1253332335643041,
          0.06279051952931179,
          5.51091059616309e-16,
          -0.06279051952931425,
          -0.12533323356430298,
          -0.18738131458572477,
          -0.2486898871648546,
          -0.30901699437494856,
          -0.3681245526846771,
          -0.4257792915650715,
          -0.4817536741017154,
          -0.5358267949789949,
          -0.5877852522924727,
          -0.637423989748689,
          -0.6845471059286891,
          -0.7289686274214104,
          -0.770513242775789,
          -0.8090169943749471,
          -0.8443279255020155,
          -0.8763066800438629,
          -0.9048270524660196,
          -0.9297764858882513,
          -0.951056516295154,
          -0.9685831611286309,
          -0.9822872507286887,
          -0.9921147013144779,
          -0.9980267284282717,
          -1,
          -0.9980267284282716,
          -0.992114701314478,
          -0.9822872507286886,
          -0.9685831611286312,
          -0.9510565162951532,
          -0.9297764858882511,
          -0.9048270524660209,
          -0.8763066800438636,
          -0.8443279255020152,
          -0.8090169943749478,
          -0.7705132427757899,
          -0.7289686274214124,
          -0.68454710592869,
          -0.6374239897486885,
          -0.5877852522924751,
          -0.535826794978996,
          -0.48175367410171493,
          -0.4257792915650726,
          -0.36812455268467825,
          -0.30901699437494806,
          -0.24868988716485577,
          -0.1873813145857225,
          -0.12533323356430598,
          -0.06279051952931192,
          -2.4499125789312946e-15,
          0.06279051952931412,
          0.12533323356430462,
          0.18738131458572466,
          0.24868988716485446,
          0.3090169943749468,
          0.368124552684677,
          0.4257792915650714,
          0.4817536741017137,
          0.5358267949789949,
          0.587785252292474,
          0.6374239897486875,
          0.684547105928689,
          0.7289686274214116,
          0.770513242775789,
          0.809016994374947,
          0.8443279255020145,
          0.8763066800438629,
          0.9048270524660202,
          0.9297764858882506,
          0.9510565162951539,
          0.9685831611286313,
          0.9822872507286887,
          0.9921147013144779,
          0.9980267284282716,
          1,
          0.9980267284282714,
          0.992114701314478,
          0.9822872507286884,
          0.9685831611286316,
          0.9510565162951533,
          0.9297764858882511,
          0.9048270524660194,
          0.8763066800438636,
          0.8443279255020153,
          0.8090169943749479,
          0.7705132427757899,
          0.7289686274214126,
          0.6845471059286901,
          0.6374239897486886,
          0.5877852522924751,
          0.5358267949789961,
          0.48175367410171505,
          0.4257792915650727,
          0.36812455268467836,
          0.3090169943749482,
          0.2486898871648559,
          0.1873813145857226,
          0.1253332335643061,
          0.06279051952931204,
          -9.803364199544708e-16,
          -0.062790519529314,
          -0.1253332335643045,
          -0.18738131458572455,
          -0.24868988716485435,
          -0.3090169943749467,
          -0.36812455268467686,
          -0.4257792915650745,
          -0.4817536741017136,
          -0.5358267949789948,
          -0.5877852522924739,
          -0.6374239897486874,
          -0.6845471059286888,
          -0.7289686274214114,
          -0.7705132427757889,
          -0.8090169943749469,
          -0.8443279255020144,
          -0.8763066800438628,
          -0.9048270524660202,
          -0.9297764858882506,
          -0.9510565162951539,
          -0.9685831611286313,
          -0.9822872507286887,
          -0.9921147013144778,
          -0.9980267284282716,
          -1,
          -0.9980267284282714,
          -0.992114701314478,
          -0.9822872507286884,
          -0.9685831611286317,
          -0.9510565162951533,
          -0.9297764858882512,
          -0.9048270524660195,
          -0.8763066800438637,
          -0.8443279255020154,
          -0.8090169943749479,
          -0.77051324277579,
          -0.7289686274214127,
          -0.6845471059286901,
          -0.6374239897486887,
          -0.5877852522924752,
          -0.5358267949789962,
          -0.4817536741017151,
          -0.4257792915650728,
          -0.3681245526846785,
          -0.3090169943749483,
          -0.24868988716485602,
          -0.18738131458572274,
          -0.1253332335643062,
          -0.06279051952931217,
          -2.6948419387607653e-15,
          0.06279051952931387,
          0.1253332335643044,
          0.1873813145857244,
          0.24868988716485424,
          0.30901699437494656,
          0.36812455268467675,
          0.4257792915650744,
          0.4817536741017135,
          0.5358267949789947,
          0.5877852522924738,
          0.6374239897486873,
          0.6845471059286887,
          0.7289686274214113,
          0.7705132427757888,
          0.8090169943749469,
          0.8443279255020144,
          0.8763066800438628,
          0.9048270524660201,
          0.9297764858882506,
          0.9510565162951539,
          0.9685831611286312,
          0.9822872507286887,
          0.9921147013144778,
          0.9980267284282716,
          1,
          0.9980267284282717,
          0.9921147013144775,
          0.9822872507286884,
          0.9685831611286317,
          0.9510565162951544,
          0.9297764858882512,
          0.9048270524660195,
          0.8763066800438637,
          0.8443279255020154,
          0.8090169943749501,
          0.7705132427757878,
          0.7289686274214127,
          0.6845471059286902,
          0.6374239897486916,
          0.5877852522924725,
          0.5358267949789963,
          0.4817536741017152,
          0.42577929156507616,
          0.36812455268467525,
          0.3090169943749484,
          0.24868988716485613,
          0.18738131458572635,
          0.12533323356430282,
          0.06279051952931229,
          -7.354070601250002e-16,
          -0.06279051952931021,
          -0.12533323356430778,
          -0.1873813145857243,
          -0.2486898871648541,
          -0.3090169943749464,
          -0.36812455268468,
          -0.42577929156507427,
          -0.48175367410171344,
          -0.5358267949789945,
          -0.5877852522924737,
          -0.63742398974869,
          -0.6845471059286886,
          -0.7289686274214113,
          -0.7705132427757865,
          -0.8090169943749489,
          -0.8443279255020143,
          -0.8763066800438627,
          -0.9048270524660186,
          -0.9297764858882518,
          -0.9510565162951538,
          -0.9685831611286312,
          -0.982287250728688,
          -0.9921147013144782,
          -0.9980267284282716,
          -1,
          -0.9980267284282717,
          -0.9921147013144777,
          -0.9822872507286884,
          -0.9685831611286317,
          -0.9510565162951544,
          -0.9297764858882512,
          -0.9048270524660196,
          -0.8763066800438638,
          -0.8443279255020155,
          -0.809016994374946,
          -0.7705132427757879,
          -0.7289686274214128,
          -0.6845471059286903,
          -0.6374239897486916,
          -0.5877852522924726,
          -0.5358267949789964,
          -0.4817536741017153,
          -0.42577929156507627,
          -0.3681245526846754,
          -0.3090169943749485,
          -0.24868988716485624,
          -0.18738131458572646,
          -0.12533323356430293,
          -0.0627905195293124,
          -2.939771298590236e-15,
          0.06279051952931008,
          0.12533323356430767,
          0.18738131458572418,
          0.248689887164854,
          0.3090169943749463,
          0.36812455268467986,
          0.42577929156507416,
          0.4817536741017133,
          0.5358267949789944,
          0.5877852522924736,
          0.6374239897486899,
          0.6845471059286886,
          0.7289686274214112,
          0.7705132427757865,
          0.8090169943749488,
          0.8443279255020143,
          0.8763066800438627,
          0.9048270524660186,
          0.9297764858882518,
          0.9510565162951538,
          0.9685831611286312,
          0.9822872507286879,
          0.9921147013144782,
          0.9980267284282716
         ],
         "yaxis": "y2"
        }
       ],
       "layout": {
        "shapes": [
         {
          "fillcolor": "blue",
          "layer": "below",
          "line": {
           "width": 0
          },
          "opacity": 0.25,
          "type": "rect",
          "x0": 0.75,
          "x1": 1,
          "xref": "x",
          "y0": -2,
          "y1": 2,
          "yref": "y"
         },
         {
          "fillcolor": "blue",
          "layer": "below",
          "line": {
           "width": 0
          },
          "opacity": 0.25,
          "type": "rect",
          "x0": 1.5,
          "x1": 1.75,
          "xref": "x",
          "y0": -2,
          "y1": 2,
          "yref": "y"
         },
         {
          "fillcolor": "blue",
          "layer": "below",
          "line": {
           "width": 0
          },
          "opacity": 0.25,
          "type": "rect",
          "x0": 2.25,
          "x1": 2.5,
          "xref": "x",
          "y0": -2,
          "y1": 2,
          "yref": "y"
         },
         {
          "fillcolor": "blue",
          "layer": "below",
          "line": {
           "width": 0
          },
          "opacity": 0.25,
          "type": "rect",
          "x0": 3,
          "x1": 3.25,
          "xref": "x",
          "y0": -2,
          "y1": 2,
          "yref": "y"
         },
         {
          "fillcolor": "blue",
          "layer": "below",
          "line": {
           "width": 0
          },
          "opacity": 0.25,
          "type": "rect",
          "x0": 3.75,
          "x1": 4,
          "xref": "x",
          "y0": -2,
          "y1": 2,
          "yref": "y"
         },
         {
          "fillcolor": "blue",
          "layer": "below",
          "line": {
           "width": 0
          },
          "opacity": 0.25,
          "type": "rect",
          "x0": 4.5,
          "x1": 4.75,
          "xref": "x",
          "y0": -2,
          "y1": 2,
          "yref": "y"
         },
         {
          "fillcolor": "blue",
          "layer": "below",
          "line": {
           "width": 0
          },
          "opacity": 0.25,
          "type": "rect",
          "x0": 0.75,
          "x1": 1,
          "xref": "x2",
          "y0": -2,
          "y1": 2,
          "yref": "y"
         },
         {
          "fillcolor": "blue",
          "layer": "below",
          "line": {
           "width": 0
          },
          "opacity": 0.25,
          "type": "rect",
          "x0": 1.5,
          "x1": 1.75,
          "xref": "x2",
          "y0": -2,
          "y1": 2,
          "yref": "y"
         },
         {
          "fillcolor": "blue",
          "layer": "below",
          "line": {
           "width": 0
          },
          "opacity": 0.25,
          "type": "rect",
          "x0": 2.25,
          "x1": 2.5,
          "xref": "x2",
          "y0": -2,
          "y1": 2,
          "yref": "y"
         },
         {
          "fillcolor": "blue",
          "layer": "below",
          "line": {
           "width": 0
          },
          "opacity": 0.25,
          "type": "rect",
          "x0": 3,
          "x1": 3.25,
          "xref": "x2",
          "y0": -2,
          "y1": 2,
          "yref": "y"
         },
         {
          "fillcolor": "blue",
          "layer": "below",
          "line": {
           "width": 0
          },
          "opacity": 0.25,
          "type": "rect",
          "x0": 3.75,
          "x1": 4,
          "xref": "x2",
          "y0": -2,
          "y1": 2,
          "yref": "y"
         },
         {
          "fillcolor": "blue",
          "layer": "below",
          "line": {
           "width": 0
          },
          "opacity": 0.25,
          "type": "rect",
          "x0": 4.5,
          "x1": 4.75,
          "xref": "x2",
          "y0": -2,
          "y1": 2,
          "yref": "y"
         }
        ],
        "template": {
         "data": {
          "bar": [
           {
            "error_x": {
             "color": "#2a3f5f"
            },
            "error_y": {
             "color": "#2a3f5f"
            },
            "marker": {
             "line": {
              "color": "#E5ECF6",
              "width": 0.5
             }
            },
            "type": "bar"
           }
          ],
          "barpolar": [
           {
            "marker": {
             "line": {
              "color": "#E5ECF6",
              "width": 0.5
             }
            },
            "type": "barpolar"
           }
          ],
          "carpet": [
           {
            "aaxis": {
             "endlinecolor": "#2a3f5f",
             "gridcolor": "white",
             "linecolor": "white",
             "minorgridcolor": "white",
             "startlinecolor": "#2a3f5f"
            },
            "baxis": {
             "endlinecolor": "#2a3f5f",
             "gridcolor": "white",
             "linecolor": "white",
             "minorgridcolor": "white",
             "startlinecolor": "#2a3f5f"
            },
            "type": "carpet"
           }
          ],
          "choropleth": [
           {
            "colorbar": {
             "outlinewidth": 0,
             "ticks": ""
            },
            "type": "choropleth"
           }
          ],
          "contour": [
           {
            "colorbar": {
             "outlinewidth": 0,
             "ticks": ""
            },
            "colorscale": [
             [
              0,
              "#0d0887"
             ],
             [
              0.1111111111111111,
              "#46039f"
             ],
             [
              0.2222222222222222,
              "#7201a8"
             ],
             [
              0.3333333333333333,
              "#9c179e"
             ],
             [
              0.4444444444444444,
              "#bd3786"
             ],
             [
              0.5555555555555556,
              "#d8576b"
             ],
             [
              0.6666666666666666,
              "#ed7953"
             ],
             [
              0.7777777777777778,
              "#fb9f3a"
             ],
             [
              0.8888888888888888,
              "#fdca26"
             ],
             [
              1,
              "#f0f921"
             ]
            ],
            "type": "contour"
           }
          ],
          "contourcarpet": [
           {
            "colorbar": {
             "outlinewidth": 0,
             "ticks": ""
            },
            "type": "contourcarpet"
           }
          ],
          "heatmap": [
           {
            "colorbar": {
             "outlinewidth": 0,
             "ticks": ""
            },
            "colorscale": [
             [
              0,
              "#0d0887"
             ],
             [
              0.1111111111111111,
              "#46039f"
             ],
             [
              0.2222222222222222,
              "#7201a8"
             ],
             [
              0.3333333333333333,
              "#9c179e"
             ],
             [
              0.4444444444444444,
              "#bd3786"
             ],
             [
              0.5555555555555556,
              "#d8576b"
             ],
             [
              0.6666666666666666,
              "#ed7953"
             ],
             [
              0.7777777777777778,
              "#fb9f3a"
             ],
             [
              0.8888888888888888,
              "#fdca26"
             ],
             [
              1,
              "#f0f921"
             ]
            ],
            "type": "heatmap"
           }
          ],
          "heatmapgl": [
           {
            "colorbar": {
             "outlinewidth": 0,
             "ticks": ""
            },
            "colorscale": [
             [
              0,
              "#0d0887"
             ],
             [
              0.1111111111111111,
              "#46039f"
             ],
             [
              0.2222222222222222,
              "#7201a8"
             ],
             [
              0.3333333333333333,
              "#9c179e"
             ],
             [
              0.4444444444444444,
              "#bd3786"
             ],
             [
              0.5555555555555556,
              "#d8576b"
             ],
             [
              0.6666666666666666,
              "#ed7953"
             ],
             [
              0.7777777777777778,
              "#fb9f3a"
             ],
             [
              0.8888888888888888,
              "#fdca26"
             ],
             [
              1,
              "#f0f921"
             ]
            ],
            "type": "heatmapgl"
           }
          ],
          "histogram": [
           {
            "marker": {
             "colorbar": {
              "outlinewidth": 0,
              "ticks": ""
             }
            },
            "type": "histogram"
           }
          ],
          "histogram2d": [
           {
            "colorbar": {
             "outlinewidth": 0,
             "ticks": ""
            },
            "colorscale": [
             [
              0,
              "#0d0887"
             ],
             [
              0.1111111111111111,
              "#46039f"
             ],
             [
              0.2222222222222222,
              "#7201a8"
             ],
             [
              0.3333333333333333,
              "#9c179e"
             ],
             [
              0.4444444444444444,
              "#bd3786"
             ],
             [
              0.5555555555555556,
              "#d8576b"
             ],
             [
              0.6666666666666666,
              "#ed7953"
             ],
             [
              0.7777777777777778,
              "#fb9f3a"
             ],
             [
              0.8888888888888888,
              "#fdca26"
             ],
             [
              1,
              "#f0f921"
             ]
            ],
            "type": "histogram2d"
           }
          ],
          "histogram2dcontour": [
           {
            "colorbar": {
             "outlinewidth": 0,
             "ticks": ""
            },
            "colorscale": [
             [
              0,
              "#0d0887"
             ],
             [
              0.1111111111111111,
              "#46039f"
             ],
             [
              0.2222222222222222,
              "#7201a8"
             ],
             [
              0.3333333333333333,
              "#9c179e"
             ],
             [
              0.4444444444444444,
              "#bd3786"
             ],
             [
              0.5555555555555556,
              "#d8576b"
             ],
             [
              0.6666666666666666,
              "#ed7953"
             ],
             [
              0.7777777777777778,
              "#fb9f3a"
             ],
             [
              0.8888888888888888,
              "#fdca26"
             ],
             [
              1,
              "#f0f921"
             ]
            ],
            "type": "histogram2dcontour"
           }
          ],
          "mesh3d": [
           {
            "colorbar": {
             "outlinewidth": 0,
             "ticks": ""
            },
            "type": "mesh3d"
           }
          ],
          "parcoords": [
           {
            "line": {
             "colorbar": {
              "outlinewidth": 0,
              "ticks": ""
             }
            },
            "type": "parcoords"
           }
          ],
          "scatter": [
           {
            "marker": {
             "colorbar": {
              "outlinewidth": 0,
              "ticks": ""
             }
            },
            "type": "scatter"
           }
          ],
          "scatter3d": [
           {
            "line": {
             "colorbar": {
              "outlinewidth": 0,
              "ticks": ""
             }
            },
            "marker": {
             "colorbar": {
              "outlinewidth": 0,
              "ticks": ""
             }
            },
            "type": "scatter3d"
           }
          ],
          "scattercarpet": [
           {
            "marker": {
             "colorbar": {
              "outlinewidth": 0,
              "ticks": ""
             }
            },
            "type": "scattercarpet"
           }
          ],
          "scattergeo": [
           {
            "marker": {
             "colorbar": {
              "outlinewidth": 0,
              "ticks": ""
             }
            },
            "type": "scattergeo"
           }
          ],
          "scattergl": [
           {
            "marker": {
             "colorbar": {
              "outlinewidth": 0,
              "ticks": ""
             }
            },
            "type": "scattergl"
           }
          ],
          "scattermapbox": [
           {
            "marker": {
             "colorbar": {
              "outlinewidth": 0,
              "ticks": ""
             }
            },
            "type": "scattermapbox"
           }
          ],
          "scatterpolar": [
           {
            "marker": {
             "colorbar": {
              "outlinewidth": 0,
              "ticks": ""
             }
            },
            "type": "scatterpolar"
           }
          ],
          "scatterpolargl": [
           {
            "marker": {
             "colorbar": {
              "outlinewidth": 0,
              "ticks": ""
             }
            },
            "type": "scatterpolargl"
           }
          ],
          "scatterternary": [
           {
            "marker": {
             "colorbar": {
              "outlinewidth": 0,
              "ticks": ""
             }
            },
            "type": "scatterternary"
           }
          ],
          "surface": [
           {
            "colorbar": {
             "outlinewidth": 0,
             "ticks": ""
            },
            "colorscale": [
             [
              0,
              "#0d0887"
             ],
             [
              0.1111111111111111,
              "#46039f"
             ],
             [
              0.2222222222222222,
              "#7201a8"
             ],
             [
              0.3333333333333333,
              "#9c179e"
             ],
             [
              0.4444444444444444,
              "#bd3786"
             ],
             [
              0.5555555555555556,
              "#d8576b"
             ],
             [
              0.6666666666666666,
              "#ed7953"
             ],
             [
              0.7777777777777778,
              "#fb9f3a"
             ],
             [
              0.8888888888888888,
              "#fdca26"
             ],
             [
              1,
              "#f0f921"
             ]
            ],
            "type": "surface"
           }
          ],
          "table": [
           {
            "cells": {
             "fill": {
              "color": "#EBF0F8"
             },
             "line": {
              "color": "white"
             }
            },
            "header": {
             "fill": {
              "color": "#C8D4E3"
             },
             "line": {
              "color": "white"
             }
            },
            "type": "table"
           }
          ]
         },
         "layout": {
          "annotationdefaults": {
           "arrowcolor": "#2a3f5f",
           "arrowhead": 0,
           "arrowwidth": 1
          },
          "colorscale": {
           "diverging": [
            [
             0,
             "#8e0152"
            ],
            [
             0.1,
             "#c51b7d"
            ],
            [
             0.2,
             "#de77ae"
            ],
            [
             0.3,
             "#f1b6da"
            ],
            [
             0.4,
             "#fde0ef"
            ],
            [
             0.5,
             "#f7f7f7"
            ],
            [
             0.6,
             "#e6f5d0"
            ],
            [
             0.7,
             "#b8e186"
            ],
            [
             0.8,
             "#7fbc41"
            ],
            [
             0.9,
             "#4d9221"
            ],
            [
             1,
             "#276419"
            ]
           ],
           "sequential": [
            [
             0,
             "#0d0887"
            ],
            [
             0.1111111111111111,
             "#46039f"
            ],
            [
             0.2222222222222222,
             "#7201a8"
            ],
            [
             0.3333333333333333,
             "#9c179e"
            ],
            [
             0.4444444444444444,
             "#bd3786"
            ],
            [
             0.5555555555555556,
             "#d8576b"
            ],
            [
             0.6666666666666666,
             "#ed7953"
            ],
            [
             0.7777777777777778,
             "#fb9f3a"
            ],
            [
             0.8888888888888888,
             "#fdca26"
            ],
            [
             1,
             "#f0f921"
            ]
           ],
           "sequentialminus": [
            [
             0,
             "#0d0887"
            ],
            [
             0.1111111111111111,
             "#46039f"
            ],
            [
             0.2222222222222222,
             "#7201a8"
            ],
            [
             0.3333333333333333,
             "#9c179e"
            ],
            [
             0.4444444444444444,
             "#bd3786"
            ],
            [
             0.5555555555555556,
             "#d8576b"
            ],
            [
             0.6666666666666666,
             "#ed7953"
            ],
            [
             0.7777777777777778,
             "#fb9f3a"
            ],
            [
             0.8888888888888888,
             "#fdca26"
            ],
            [
             1,
             "#f0f921"
            ]
           ]
          },
          "colorway": [
           "#636efa",
           "#EF553B",
           "#00cc96",
           "#ab63fa",
           "#FFA15A",
           "#19d3f3",
           "#FF6692",
           "#B6E880",
           "#FF97FF",
           "#FECB52"
          ],
          "font": {
           "color": "#2a3f5f"
          },
          "geo": {
           "bgcolor": "white",
           "lakecolor": "white",
           "landcolor": "#E5ECF6",
           "showlakes": true,
           "showland": true,
           "subunitcolor": "white"
          },
          "hoverlabel": {
           "align": "left"
          },
          "hovermode": "closest",
          "mapbox": {
           "style": "light"
          },
          "paper_bgcolor": "white",
          "plot_bgcolor": "#E5ECF6",
          "polar": {
           "angularaxis": {
            "gridcolor": "white",
            "linecolor": "white",
            "ticks": ""
           },
           "bgcolor": "#E5ECF6",
           "radialaxis": {
            "gridcolor": "white",
            "linecolor": "white",
            "ticks": ""
           }
          },
          "scene": {
           "xaxis": {
            "backgroundcolor": "#E5ECF6",
            "gridcolor": "white",
            "gridwidth": 2,
            "linecolor": "white",
            "showbackground": true,
            "ticks": "",
            "zerolinecolor": "white"
           },
           "yaxis": {
            "backgroundcolor": "#E5ECF6",
            "gridcolor": "white",
            "gridwidth": 2,
            "linecolor": "white",
            "showbackground": true,
            "ticks": "",
            "zerolinecolor": "white"
           },
           "zaxis": {
            "backgroundcolor": "#E5ECF6",
            "gridcolor": "white",
            "gridwidth": 2,
            "linecolor": "white",
            "showbackground": true,
            "ticks": "",
            "zerolinecolor": "white"
           }
          },
          "shapedefaults": {
           "line": {
            "color": "#2a3f5f"
           }
          },
          "ternary": {
           "aaxis": {
            "gridcolor": "white",
            "linecolor": "white",
            "ticks": ""
           },
           "baxis": {
            "gridcolor": "white",
            "linecolor": "white",
            "ticks": ""
           },
           "bgcolor": "#E5ECF6",
           "caxis": {
            "gridcolor": "white",
            "linecolor": "white",
            "ticks": ""
           }
          },
          "title": {
           "x": 0.05
          },
          "xaxis": {
           "automargin": true,
           "gridcolor": "white",
           "linecolor": "white",
           "ticks": "",
           "zerolinecolor": "white",
           "zerolinewidth": 2
          },
          "yaxis": {
           "automargin": true,
           "gridcolor": "white",
           "linecolor": "white",
           "ticks": "",
           "zerolinecolor": "white",
           "zerolinewidth": 2
          }
         }
        },
        "xaxis": {
         "anchor": "y",
         "domain": [
          0,
          0.45
         ],
         "range": [
          0,
          5
         ]
        },
        "xaxis2": {
         "anchor": "y2",
         "domain": [
          0.55,
          1
         ],
         "range": [
          0,
          5
         ]
        },
        "yaxis": {
         "anchor": "x",
         "domain": [
          0,
          1
         ],
         "range": [
          -1.5,
          1.5
         ]
        },
        "yaxis2": {
         "anchor": "x2",
         "domain": [
          0,
          1
         ],
         "range": [
          -1.5,
          1.5
         ]
        }
       }
      },
      "text/html": [
       "<div>\n",
       "        \n",
       "        \n",
       "            <div id=\"71eb5411-e117-4c38-9338-6d2729035922\" class=\"plotly-graph-div\" style=\"height:525px; width:100%;\"></div>\n",
       "            <script type=\"text/javascript\">\n",
       "                require([\"plotly\"], function(Plotly) {\n",
       "                    window.PLOTLYENV=window.PLOTLYENV || {};\n",
       "                    \n",
       "                if (document.getElementById(\"71eb5411-e117-4c38-9338-6d2729035922\")) {\n",
       "                    Plotly.newPlot(\n",
       "                        '71eb5411-e117-4c38-9338-6d2729035922',\n",
       "                        [{\"line\": {\"color\": \"firebrick\", \"width\": 4}, \"opacity\": 0.5, \"type\": \"scatter\", \"x\": [0.0, 0.01, 0.02, 0.03, 0.04, 0.05, 0.06, 0.07, 0.08, 0.09, 0.1, 0.11, 0.12, 0.13, 0.14, 0.15, 0.16, 0.17, 0.18, 0.19, 0.2, 0.21, 0.22, 0.23, 0.24, 0.25, 0.26, 0.27, 0.28, 0.29, 0.3, 0.31, 0.32, 0.33, 0.34, 0.35000000000000003, 0.36, 0.37, 0.38, 0.39, 0.4, 0.41000000000000003, 0.42, 0.43, 0.44, 0.45, 0.46, 0.47000000000000003, 0.48, 0.49, 0.5, 0.51, 0.52, 0.53, 0.54, 0.55, 0.56, 0.5700000000000001, 0.58, 0.59, 0.6, 0.61, 0.62, 0.63, 0.64, 0.65, 0.66, 0.67, 0.68, 0.6900000000000001, 0.7000000000000001, 0.71, 0.72, 0.73, 0.74, 0.75, 0.76, 0.77, 0.78, 0.79, 0.8, 0.81, 0.8200000000000001, 0.8300000000000001, 0.84, 0.85, 0.86, 0.87, 0.88, 0.89, 0.9, 0.91, 0.92, 0.93, 0.9400000000000001, 0.9500000000000001, 0.96, 0.97, 0.98, 0.99, 1.0, 1.01, 1.02, 1.03, 1.04, 1.05, 1.06, 1.07, 1.08, 1.09, 1.1, 1.11, 1.12, 1.1300000000000001, 1.1400000000000001, 1.1500000000000001, 1.16, 1.17, 1.18, 1.19, 1.2, 1.21, 1.22, 1.23, 1.24, 1.25, 1.26, 1.27, 1.28, 1.29, 1.3, 1.31, 1.32, 1.33, 1.34, 1.35, 1.36, 1.37, 1.3800000000000001, 1.3900000000000001, 1.4000000000000001, 1.41, 1.42, 1.43, 1.44, 1.45, 1.46, 1.47, 1.48, 1.49, 1.5, 1.51, 1.52, 1.53, 1.54, 1.55, 1.56, 1.57, 1.58, 1.59, 1.6, 1.61, 1.62, 1.6300000000000001, 1.6400000000000001, 1.6500000000000001, 1.6600000000000001, 1.67, 1.68, 1.69, 1.7, 1.71, 1.72, 1.73, 1.74, 1.75, 1.76, 1.77, 1.78, 1.79, 1.8, 1.81, 1.82, 1.83, 1.84, 1.85, 1.86, 1.87, 1.8800000000000001, 1.8900000000000001, 1.9000000000000001, 1.9100000000000001, 1.92, 1.93, 1.94, 1.95, 1.96, 1.97, 1.98, 1.99, 2.0, 2.0100000000000002, 2.02, 2.0300000000000002, 2.04, 2.05, 2.06, 2.07, 2.08, 2.09, 2.1, 2.11, 2.12, 2.13, 2.14, 2.15, 2.16, 2.17, 2.18, 2.19, 2.2, 2.21, 2.22, 2.23, 2.24, 2.25, 2.2600000000000002, 2.27, 2.2800000000000002, 2.29, 2.3000000000000003, 2.31, 2.32, 2.33, 2.34, 2.35, 2.36, 2.37, 2.38, 2.39, 2.4, 2.41, 2.42, 2.43, 2.44, 2.45, 2.46, 2.47, 2.48, 2.49, 2.5, 2.5100000000000002, 2.52, 2.5300000000000002, 2.54, 2.5500000000000003, 2.56, 2.57, 2.58, 2.59, 2.6, 2.61, 2.62, 2.63, 2.64, 2.65, 2.66, 2.67, 2.68, 2.69, 2.7, 2.71, 2.72, 2.73, 2.74, 2.75, 2.7600000000000002, 2.77, 2.7800000000000002, 2.79, 2.8000000000000003, 2.81, 2.82, 2.83, 2.84, 2.85, 2.86, 2.87, 2.88, 2.89, 2.9, 2.91, 2.92, 2.93, 2.94, 2.95, 2.96, 2.97, 2.98, 2.99, 3.0, 3.0100000000000002, 3.02, 3.0300000000000002, 3.04, 3.0500000000000003, 3.06, 3.0700000000000003, 3.08, 3.09, 3.1, 3.11, 3.12, 3.13, 3.14, 3.15, 3.16, 3.17, 3.18, 3.19, 3.2, 3.21, 3.22, 3.23, 3.24, 3.25, 3.2600000000000002, 3.27, 3.2800000000000002, 3.29, 3.3000000000000003, 3.31, 3.3200000000000003, 3.33, 3.34, 3.35, 3.36, 3.37, 3.38, 3.39, 3.4, 3.41, 3.42, 3.43, 3.44, 3.45, 3.46, 3.47, 3.48, 3.49, 3.5, 3.5100000000000002, 3.52, 3.5300000000000002, 3.54, 3.5500000000000003, 3.56, 3.5700000000000003, 3.58, 3.59, 3.6, 3.61, 3.62, 3.63, 3.64, 3.65, 3.66, 3.67, 3.68, 3.69, 3.7, 3.71, 3.72, 3.73, 3.74, 3.75, 3.7600000000000002, 3.77, 3.7800000000000002, 3.79, 3.8000000000000003, 3.81, 3.8200000000000003, 3.83, 3.84, 3.85, 3.86, 3.87, 3.88, 3.89, 3.9, 3.91, 3.92, 3.93, 3.94, 3.95, 3.96, 3.97, 3.98, 3.99, 4.0, 4.01, 4.0200000000000005, 4.03, 4.04, 4.05, 4.0600000000000005, 4.07, 4.08, 4.09, 4.1, 4.11, 4.12, 4.13, 4.14, 4.15, 4.16, 4.17, 4.18, 4.19, 4.2, 4.21, 4.22, 4.23, 4.24, 4.25, 4.26, 4.2700000000000005, 4.28, 4.29, 4.3, 4.3100000000000005, 4.32, 4.33, 4.34, 4.3500000000000005, 4.36, 4.37, 4.38, 4.39, 4.4, 4.41, 4.42, 4.43, 4.44, 4.45, 4.46, 4.47, 4.48, 4.49, 4.5, 4.51, 4.5200000000000005, 4.53, 4.54, 4.55, 4.5600000000000005, 4.57, 4.58, 4.59, 4.6000000000000005, 4.61, 4.62, 4.63, 4.64, 4.65, 4.66, 4.67, 4.68, 4.69, 4.7, 4.71, 4.72, 4.73, 4.74, 4.75, 4.76, 4.7700000000000005, 4.78, 4.79, 4.8, 4.8100000000000005, 4.82, 4.83, 4.84, 4.8500000000000005, 4.86, 4.87, 4.88, 4.89, 4.9, 4.91, 4.92, 4.93, 4.94, 4.95, 4.96, 4.97, 4.98, 4.99], \"xaxis\": \"x\", \"y\": [0.0, 0.06279051952931337, 0.12533323356430426, 0.1873813145857246, 0.2486898871648548, 0.3090169943749474, 0.3681245526846779, 0.4257792915650727, 0.4817536741017153, 0.5358267949789967, 0.5877852522924731, 0.6374239897486896, 0.6845471059286886, 0.7289686274214116, 0.7705132427757893, 0.8090169943749475, 0.8443279255020151, 0.8763066800438637, 0.9048270524660196, 0.9297764858882513, 0.9510565162951535, 0.9685831611286311, 0.9822872507286886, 0.9921147013144779, 0.9980267284282716, 1.0, 0.9980267284282716, 0.9921147013144778, 0.9822872507286886, 0.9685831611286312, 0.9510565162951536, 0.9297764858882513, 0.9048270524660195, 0.8763066800438635, 0.844327925502015, 0.8090169943749475, 0.7705132427757893, 0.7289686274214114, 0.6845471059286888, 0.6374239897486899, 0.5877852522924732, 0.5358267949789967, 0.4817536741017156, 0.4257792915650729, 0.36812455268467814, 0.3090169943749475, 0.24868988716485482, 0.18738131458572457, 0.12533323356430454, 0.06279051952931358, 1.2246467991473532e-16, -0.06279051952931335, -0.12533323356430429, -0.18738131458572477, -0.24868988716485502, -0.30901699437494773, -0.3681245526846783, -0.42577929156507266, -0.481753674101715, -0.5358267949789964, -0.587785252292473, -0.6374239897486896, -0.6845471059286887, -0.7289686274214113, -0.7705132427757894, -0.8090169943749473, -0.8443279255020153, -0.8763066800438636, -0.9048270524660198, -0.9297764858882515, -0.9510565162951535, -0.968583161128631, -0.9822872507286887, -0.9921147013144778, -0.9980267284282716, -1.0, -0.9980267284282716, -0.9921147013144779, -0.9822872507286887, -0.9685831611286311, -0.9510565162951536, -0.9297764858882512, -0.9048270524660196, -0.8763066800438634, -0.8443279255020155, -0.8090169943749476, -0.7705132427757896, -0.7289686274214116, -0.684547105928689, -0.6374239897486896, -0.5877852522924734, -0.5358267949789963, -0.4817536741017153, -0.4257792915650722, -0.36812455268467786, -0.3090169943749476, -0.24868988716485535, -0.18738131458572468, -0.12533323356430465, -0.06279051952931326, -2.4492935982947064e-16, 0.06279051952931278, 0.12533323356430418, 0.1873813145857242, 0.24868988716485488, 0.3090169943749472, 0.3681245526846782, 0.42577929156507255, 0.48175367410171566, 0.5358267949789967, 0.5877852522924736, 0.6374239897486899, 0.6845471059286893, 0.7289686274214118, 0.7705132427757893, 0.8090169943749478, 0.8443279255020147, 0.8763066800438631, 0.9048270524660194, 0.9297764858882511, 0.9510565162951535, 0.968583161128631, 0.9822872507286886, 0.9921147013144778, 0.9980267284282716, 1.0, 0.9980267284282716, 0.9921147013144779, 0.9822872507286886, 0.9685831611286311, 0.9510565162951536, 0.9297764858882517, 0.9048270524660192, 0.8763066800438634, 0.8443279255020151, 0.8090169943749477, 0.7705132427757886, 0.728968627421411, 0.6845471059286884, 0.6374239897486897, 0.5877852522924734, 0.5358267949789972, 0.4817536741017162, 0.42577929156507394, 0.368124552684678, 0.3090169943749478, 0.2486898871648555, 0.18738131458572568, 0.1253332335643039, 0.06279051952931339, 3.6739403974420594e-16, -0.06279051952931265, -0.12533323356430318, -0.18738131458572496, -0.24868988716485477, -0.30901699437494706, -0.36812455268467725, -0.42577929156507327, -0.48175367410171555, -0.5358267949789965, -0.5877852522924728, -0.6374239897486905, -0.6845471059286892, -0.7289686274214118, -0.7705132427757893, -0.8090169943749472, -0.8443279255020156, -0.876306680043863, -0.9048270524660189, -0.9297764858882513, -0.9510565162951534, -0.968583161128631, -0.9822872507286885, -0.9921147013144779, -0.9980267284282716, -1.0, -0.9980267284282716, -0.992114701314478, -0.9822872507286886, -0.9685831611286312, -0.9510565162951538, -0.9297764858882517, -0.9048270524660192, -0.8763066800438635, -0.8443279255020151, -0.8090169943749477, -0.7705132427757886, -0.7289686274214111, -0.6845471059286885, -0.6374239897486897, -0.5877852522924735, -0.5358267949789958, -0.4817536741017163, -0.42577929156507405, -0.3681245526846781, -0.3090169943749479, -0.2486898871648556, -0.1873813145857258, -0.125333233564304, -0.06279051952931351, -4.898587196589413e-16, 0.0627905195293143, 0.12533323356430304, 0.18738131458572485, 0.24868988716485466, 0.30901699437494523, 0.36812455268467714, 0.42577929156507155, 0.48175367410171543, 0.535826794978995, 0.5877852522924727, 0.6374239897486891, 0.6845471059286891, 0.7289686274214104, 0.7705132427757891, 0.8090169943749471, 0.8443279255020155, 0.876306680043863, 0.9048270524660196, 0.9297764858882513, 0.951056516295154, 0.9685831611286309, 0.9822872507286888, 0.9921147013144779, 0.9980267284282717, 1.0, 0.9980267284282716, 0.992114701314478, 0.9822872507286886, 0.9685831611286312, 0.9510565162951532, 0.9297764858882518, 0.90482705246602, 0.8763066800438635, 0.8443279255020162, 0.8090169943749478, 0.7705132427757898, 0.7289686274214112, 0.6845471059286898, 0.6374239897486899, 0.5877852522924736, 0.5358267949789959, 0.48175367410171643, 0.42577929156507255, 0.3681245526846782, 0.3090169943749463, 0.2486898871648557, 0.18738131458572418, 0.12533323356430415, 0.06279051952931186, 6.123233995736766e-16, -0.06279051952931418, -0.12533323356430293, -0.1873813145857247, -0.24868988716485452, -0.3090169943749485, -0.3681245526846787, -0.42577929156506983, -0.4817536741017153, -0.5358267949789964, -0.5877852522924726, -0.637423989748689, -0.6845471059286877, -0.7289686274214103, -0.7705132427757901, -0.809016994374946, -0.8443279255020155, -0.8763066800438638, -0.9048270524660196, -0.9297764858882513, -0.9510565162951534, -0.9685831611286309, -0.982287250728689, -0.9921147013144777, -0.9980267284282717, -1.0, -0.9980267284282716, -0.9921147013144778, -0.9822872507286887, -0.9685831611286312, -0.9510565162951538, -0.9297764858882518, -0.9048270524660201, -0.8763066800438645, -0.8443279255020162, -0.8090169943749468, -0.770513242775791, -0.7289686274214112, -0.6845471059286886, -0.63742398974869, -0.5877852522924737, -0.5358267949789975, -0.48175367410171654, -0.42577929156507105, -0.36812455268468, -0.3090169943749464, -0.2486898871648541, -0.1873813145857243, -0.12533323356430426, -0.06279051952931375, -7.347880794884119e-16, 0.06279051952931583, 0.12533323356430282, 0.18738131458572635, 0.24868988716485269, 0.3090169943749484, 0.3681245526846786, 0.42577929156507294, 0.4817536741017152, 0.5358267949789963, 0.5877852522924725, 0.6374239897486889, 0.6845471059286876, 0.7289686274214102, 0.7705132427757901, 0.8090169943749459, 0.8443279255020154, 0.8763066800438637, 0.9048270524660195, 0.9297764858882512, 0.9510565162951533, 0.9685831611286309, 0.982287250728689, 0.9921147013144775, 0.9980267284282717, 1.0, 0.9980267284282716, 0.9921147013144778, 0.9822872507286887, 0.9685831611286312, 0.9510565162951539, 0.9297764858882518, 0.9048270524660187, 0.8763066800438645, 0.8443279255020163, 0.8090169943749469, 0.7705132427757911, 0.7289686274214113, 0.6845471059286887, 0.6374239897486901, 0.5877852522924738, 0.5358267949789977, 0.48175367410171666, 0.42577929156507116, 0.3681245526846801, 0.30901699437494656, 0.24868988716485424, 0.1873813145857244, 0.1253332335643044, 0.06279051952931387, 8.572527594031472e-16, -0.0627905195293157, -0.12533323356430268, -0.1873813145857262, -0.24868988716485257, -0.3090169943749483, -0.3681245526846785, -0.4257792915650728, -0.48175367410171516, -0.5358267949789962, -0.5877852522924725, -0.6374239897486887, -0.6845471059286875, -0.7289686274214102, -0.77051324277579, -0.8090169943749459, -0.8443279255020154, -0.8763066800438637, -0.9048270524660195, -0.9297764858882512, -0.9510565162951533, -0.9685831611286309, -0.982287250728689, -0.9921147013144775, -0.9980267284282717, -1.0, -0.9980267284282716, -0.9921147013144778, -0.9822872507286887, -0.9685831611286313, -0.9510565162951539, -0.9297764858882519, -0.9048270524660187, -0.8763066800438646, -0.8443279255020163, -0.8090169943749469, -0.7705132427757911, -0.7289686274214114, -0.6845471059286888, -0.6374239897486902, -0.5877852522924739, -0.5358267949789978, -0.48175367410171677, -0.42577929156507127, -0.3681245526846802, -0.3090169943749467, -0.24868988716485435, -0.18738131458572455, -0.1253332335643045, -0.062790519529314, -9.797174393178826e-16, 0.06279051952931204, 0.1253332335643061, 0.1873813145857261, 0.24868988716485246, 0.3090169943749448, 0.36812455268467836, 0.4257792915650727, 0.48175367410171505, 0.5358267949789961, 0.5877852522924695, 0.6374239897486914, 0.6845471059286874, 0.7289686274214101, 0.7705132427757877, 0.8090169943749479, 0.8443279255020153, 0.8763066800438636, 0.9048270524660179, 0.9297764858882525, 0.9510565162951533, 0.9685831611286307, 0.9822872507286884, 0.992114701314478, 0.9980267284282717, 1.0, 0.9980267284282718, 0.9921147013144774, 0.9822872507286887, 0.9685831611286313, 0.9510565162951539, 0.9297764858882506, 0.9048270524660188, 0.8763066800438646, 0.8443279255020164, 0.809016994374947, 0.770513242775789, 0.7289686274214116, 0.684547105928689, 0.637423989748693, 0.5877852522924711, 0.5358267949789979, 0.4817536741017168, 0.4257792915650746, 0.368124552684677, 0.3090169943749468, 0.24868988716485446, 0.18738131458572815, 0.1253332335643011, 0.06279051952931412, 1.102182119232618e-15, -0.06279051952931192, -0.12533323356430598, -0.187381314585726, -0.24868988716485232, -0.3090169943749447, -0.36812455268467825, -0.4257792915650726, -0.48175367410171493, -0.535826794978996, -0.5877852522924751, -0.6374239897486913, -0.6845471059286873, -0.72896862742141, -0.7705132427757876, -0.8090169943749478, -0.8443279255020152, -0.8763066800438636, -0.9048270524660178, -0.9297764858882525, -0.9510565162951532, -0.9685831611286307, -0.9822872507286883, -0.992114701314478, -0.9980267284282717, -1.0, -0.9980267284282718, -0.9921147013144774, -0.9822872507286887, -0.9685831611286313, -0.951056516295154, -0.9297764858882507, -0.9048270524660188, -0.8763066800438647, -0.8443279255020165, -0.8090169943749471, -0.770513242775789, -0.7289686274214117, -0.6845471059286891, -0.6374239897486931, -0.5877852522924712, -0.535826794978998, -0.48175367410171693, -0.4257792915650747, -0.3681245526846771, -0.3090169943749469, -0.2486898871648546, -0.18738131458572826, -0.12533323356430123, -0.06279051952931425], \"yaxis\": \"y\"}, {\"showlegend\": false, \"type\": \"scatter\", \"x\": [0.0, 0.01, 0.02, 0.03, 0.04, 0.05, 0.06, 0.07, 0.08, 0.09, 0.1, 0.11, 0.12, 0.13, 0.14, 0.15, 0.16, 0.17, 0.18, 0.19, 0.2, 0.21, 0.22, 0.23, 0.24, 0.25, 0.26, 0.27, 0.28, 0.29, 0.3, 0.31, 0.32, 0.33, 0.34, 0.35000000000000003, 0.36, 0.37, 0.38, 0.39, 0.4, 0.41000000000000003, 0.42, 0.43, 0.44, 0.45, 0.46, 0.47000000000000003, 0.48, 0.49, 0.5, 0.51, 0.52, 0.53, 0.54, 0.55, 0.56, 0.5700000000000001, 0.58, 0.59, 0.6, 0.61, 0.62, 0.63, 0.64, 0.65, 0.66, 0.67, 0.68, 0.6900000000000001, 0.7000000000000001, 0.71, 0.72, 0.73, 0.74, 0.75, 0.76, 0.77, 0.78, 0.79, 0.8, 0.81, 0.8200000000000001, 0.8300000000000001, 0.84, 0.85, 0.86, 0.87, 0.88, 0.89, 0.9, 0.91, 0.92, 0.93, 0.9400000000000001, 0.9500000000000001, 0.96, 0.97, 0.98, 0.99, 1.0, 1.01, 1.02, 1.03, 1.04, 1.05, 1.06, 1.07, 1.08, 1.09, 1.1, 1.11, 1.12, 1.1300000000000001, 1.1400000000000001, 1.1500000000000001, 1.16, 1.17, 1.18, 1.19, 1.2, 1.21, 1.22, 1.23, 1.24, 1.25, 1.26, 1.27, 1.28, 1.29, 1.3, 1.31, 1.32, 1.33, 1.34, 1.35, 1.36, 1.37, 1.3800000000000001, 1.3900000000000001, 1.4000000000000001, 1.41, 1.42, 1.43, 1.44, 1.45, 1.46, 1.47, 1.48, 1.49, 1.5, 1.51, 1.52, 1.53, 1.54, 1.55, 1.56, 1.57, 1.58, 1.59, 1.6, 1.61, 1.62, 1.6300000000000001, 1.6400000000000001, 1.6500000000000001, 1.6600000000000001, 1.67, 1.68, 1.69, 1.7, 1.71, 1.72, 1.73, 1.74, 1.75, 1.76, 1.77, 1.78, 1.79, 1.8, 1.81, 1.82, 1.83, 1.84, 1.85, 1.86, 1.87, 1.8800000000000001, 1.8900000000000001, 1.9000000000000001, 1.9100000000000001, 1.92, 1.93, 1.94, 1.95, 1.96, 1.97, 1.98, 1.99, 2.0, 2.0100000000000002, 2.02, 2.0300000000000002, 2.04, 2.05, 2.06, 2.07, 2.08, 2.09, 2.1, 2.11, 2.12, 2.13, 2.14, 2.15, 2.16, 2.17, 2.18, 2.19, 2.2, 2.21, 2.22, 2.23, 2.24, 2.25, 2.2600000000000002, 2.27, 2.2800000000000002, 2.29, 2.3000000000000003, 2.31, 2.32, 2.33, 2.34, 2.35, 2.36, 2.37, 2.38, 2.39, 2.4, 2.41, 2.42, 2.43, 2.44, 2.45, 2.46, 2.47, 2.48, 2.49, 2.5, 2.5100000000000002, 2.52, 2.5300000000000002, 2.54, 2.5500000000000003, 2.56, 2.57, 2.58, 2.59, 2.6, 2.61, 2.62, 2.63, 2.64, 2.65, 2.66, 2.67, 2.68, 2.69, 2.7, 2.71, 2.72, 2.73, 2.74, 2.75, 2.7600000000000002, 2.77, 2.7800000000000002, 2.79, 2.8000000000000003, 2.81, 2.82, 2.83, 2.84, 2.85, 2.86, 2.87, 2.88, 2.89, 2.9, 2.91, 2.92, 2.93, 2.94, 2.95, 2.96, 2.97, 2.98, 2.99, 3.0, 3.0100000000000002, 3.02, 3.0300000000000002, 3.04, 3.0500000000000003, 3.06, 3.0700000000000003, 3.08, 3.09, 3.1, 3.11, 3.12, 3.13, 3.14, 3.15, 3.16, 3.17, 3.18, 3.19, 3.2, 3.21, 3.22, 3.23, 3.24, 3.25, 3.2600000000000002, 3.27, 3.2800000000000002, 3.29, 3.3000000000000003, 3.31, 3.3200000000000003, 3.33, 3.34, 3.35, 3.36, 3.37, 3.38, 3.39, 3.4, 3.41, 3.42, 3.43, 3.44, 3.45, 3.46, 3.47, 3.48, 3.49, 3.5, 3.5100000000000002, 3.52, 3.5300000000000002, 3.54, 3.5500000000000003, 3.56, 3.5700000000000003, 3.58, 3.59, 3.6, 3.61, 3.62, 3.63, 3.64, 3.65, 3.66, 3.67, 3.68, 3.69, 3.7, 3.71, 3.72, 3.73, 3.74, 3.75, 3.7600000000000002, 3.77, 3.7800000000000002, 3.79, 3.8000000000000003, 3.81, 3.8200000000000003, 3.83, 3.84, 3.85, 3.86, 3.87, 3.88, 3.89, 3.9, 3.91, 3.92, 3.93, 3.94, 3.95, 3.96, 3.97, 3.98, 3.99, 4.0, 4.01, 4.0200000000000005, 4.03, 4.04, 4.05, 4.0600000000000005, 4.07, 4.08, 4.09, 4.1, 4.11, 4.12, 4.13, 4.14, 4.15, 4.16, 4.17, 4.18, 4.19, 4.2, 4.21, 4.22, 4.23, 4.24, 4.25, 4.26, 4.2700000000000005, 4.28, 4.29, 4.3, 4.3100000000000005, 4.32, 4.33, 4.34, 4.3500000000000005, 4.36, 4.37, 4.38, 4.39, 4.4, 4.41, 4.42, 4.43, 4.44, 4.45, 4.46, 4.47, 4.48, 4.49, 4.5, 4.51, 4.5200000000000005, 4.53, 4.54, 4.55, 4.5600000000000005, 4.57, 4.58, 4.59, 4.6000000000000005, 4.61, 4.62, 4.63, 4.64, 4.65, 4.66, 4.67, 4.68, 4.69, 4.7, 4.71, 4.72, 4.73, 4.74, 4.75, 4.76, 4.7700000000000005, 4.78, 4.79, 4.8, 4.8100000000000005, 4.82, 4.83, 4.84, 4.8500000000000005, 4.86, 4.87, 4.88, 4.89, 4.9, 4.91, 4.92, 4.93, 4.94, 4.95, 4.96, 4.97, 4.98, 4.99], \"xaxis\": \"x2\", \"y\": [1.0, 0.9980267284282716, 0.9921147013144779, 0.9822872507286887, 0.9685831611286311, 0.9510565162951535, 0.9297764858882515, 0.9048270524660195, 0.8763066800438636, 0.8443279255020151, 0.8090169943749475, 0.7705132427757893, 0.7289686274214116, 0.6845471059286886, 0.6374239897486896, 0.5877852522924731, 0.5358267949789965, 0.48175367410171516, 0.42577929156507266, 0.3681245526846781, 0.30901699437494745, 0.24868988716485496, 0.18738131458572474, 0.12533323356430426, 0.06279051952931353, 6.123233995736766e-17, -0.0627905195293134, -0.12533323356430437, -0.18738131458572482, -0.24868988716485463, -0.30901699437494734, -0.368124552684678, -0.4257792915650727, -0.48175367410171543, -0.5358267949789969, -0.587785252292473, -0.6374239897486897, -0.6845471059286887, -0.7289686274214113, -0.7705132427757891, -0.8090169943749473, -0.8443279255020151, -0.8763066800438634, -0.9048270524660194, -0.9297764858882513, -0.9510565162951535, -0.9685831611286311, -0.9822872507286887, -0.9921147013144778, -0.9980267284282716, -1.0, -0.9980267284282716, -0.9921147013144779, -0.9822872507286886, -0.9685831611286311, -0.9510565162951535, -0.9297764858882512, -0.9048270524660195, -0.8763066800438637, -0.8443279255020152, -0.8090169943749476, -0.7705132427757893, -0.7289686274214116, -0.684547105928689, -0.6374239897486895, -0.5877852522924732, -0.5358267949789963, -0.48175367410171527, -0.42577929156507216, -0.3681245526846778, -0.30901699437494756, -0.2486898871648553, -0.18738131458572463, -0.1253332335643046, -0.06279051952931321, -1.8369701987210297e-16, 0.06279051952931283, 0.12533323356430423, 0.18738131458572427, 0.24868988716485493, 0.30901699437494723, 0.36812455268467825, 0.4257792915650726, 0.4817536741017157, 0.535826794978996, 0.5877852522924729, 0.6374239897486893, 0.6845471059286886, 0.7289686274214112, 0.7705132427757894, 0.8090169943749473, 0.8443279255020153, 0.8763066800438636, 0.9048270524660197, 0.9297764858882515, 0.9510565162951535, 0.968583161128631, 0.9822872507286887, 0.9921147013144778, 0.9980267284282716, 1.0, 0.9980267284282716, 0.9921147013144779, 0.9822872507286887, 0.9685831611286311, 0.9510565162951536, 0.9297764858882513, 0.9048270524660196, 0.8763066800438634, 0.8443279255020151, 0.809016994374947, 0.770513242775789, 0.728968627421411, 0.6845471059286884, 0.6374239897486896, 0.5877852522924727, 0.5358267949789972, 0.48175367410171616, 0.42577929156507305, 0.36812455268467875, 0.30901699437494773, 0.24868988716485543, 0.18738131458572474, 0.12533323356430473, 0.06279051952931332, 3.061616997868383e-16, -0.06279051952931271, -0.12533323356430412, -0.18738131458572502, -0.24868988716485482, -0.3090169943749471, -0.3681245526846773, -0.4257792915650733, -0.4817536741017156, -0.5358267949789967, -0.5877852522924729, -0.6374239897486905, -0.6845471059286892, -0.7289686274214118, -0.7705132427757893, -0.8090169943749472, -0.8443279255020147, -0.876306680043863, -0.9048270524660189, -0.9297764858882515, -0.9510565162951534, -0.968583161128631, -0.9822872507286885, -0.9921147013144779, -0.9980267284282716, -1.0, -0.9980267284282716, -0.992114701314478, -0.9822872507286886, -0.9685831611286311, -0.9510565162951536, -0.9297764858882517, -0.9048270524660192, -0.8763066800438635, -0.8443279255020151, -0.8090169943749477, -0.7705132427757886, -0.7289686274214111, -0.6845471059286884, -0.6374239897486897, -0.5877852522924735, -0.5358267949789958, -0.48175367410171627, -0.425779291565074, -0.36812455268467803, -0.30901699437494784, -0.24868988716485554, -0.18738131458572574, -0.12533323356430395, -0.06279051952931344, -4.286263797015736e-16, 0.0627905195293126, 0.12533323356430312, 0.1873813145857249, 0.2486898871648547, 0.309016994374947, 0.3681245526846772, 0.4257792915650732, 0.4817536741017155, 0.5358267949789965, 0.5877852522924728, 0.6374239897486904, 0.6845471059286892, 0.7289686274214117, 0.7705132427757891, 0.8090169943749471, 0.8443279255020156, 0.876306680043863, 0.9048270524660189, 0.9297764858882513, 0.9510565162951534, 0.968583161128631, 0.9822872507286885, 0.9921147013144779, 0.9980267284282716, 1.0, 0.9980267284282716, 0.992114701314478, 0.9822872507286886, 0.9685831611286312, 0.9510565162951543, 0.9297764858882517, 0.90482705246602, 0.8763066800438635, 0.8443279255020161, 0.8090169943749477, 0.7705132427757898, 0.7289686274214111, 0.6845471059286898, 0.6374239897486899, 0.5877852522924736, 0.5358267949789959, 0.4817536741017164, 0.4257792915650725, 0.36812455268467814, 0.30901699437494623, 0.24868988716485566, 0.18738131458572413, 0.1253332335643041, 0.06279051952931179, 5.51091059616309e-16, -0.06279051952931425, -0.12533323356430298, -0.18738131458572477, -0.2486898871648546, -0.30901699437494856, -0.3681245526846771, -0.4257792915650715, -0.4817536741017154, -0.5358267949789949, -0.5877852522924727, -0.637423989748689, -0.6845471059286891, -0.7289686274214104, -0.770513242775789, -0.8090169943749471, -0.8443279255020155, -0.8763066800438629, -0.9048270524660196, -0.9297764858882513, -0.951056516295154, -0.9685831611286309, -0.9822872507286887, -0.9921147013144779, -0.9980267284282717, -1.0, -0.9980267284282716, -0.992114701314478, -0.9822872507286886, -0.9685831611286312, -0.9510565162951532, -0.9297764858882511, -0.9048270524660209, -0.8763066800438636, -0.8443279255020152, -0.8090169943749478, -0.7705132427757899, -0.7289686274214124, -0.68454710592869, -0.6374239897486885, -0.5877852522924751, -0.535826794978996, -0.48175367410171493, -0.4257792915650726, -0.36812455268467825, -0.30901699437494806, -0.24868988716485577, -0.1873813145857225, -0.12533323356430598, -0.06279051952931192, -2.4499125789312946e-15, 0.06279051952931412, 0.12533323356430462, 0.18738131458572466, 0.24868988716485446, 0.3090169943749468, 0.368124552684677, 0.4257792915650714, 0.4817536741017137, 0.5358267949789949, 0.587785252292474, 0.6374239897486875, 0.684547105928689, 0.7289686274214116, 0.770513242775789, 0.809016994374947, 0.8443279255020145, 0.8763066800438629, 0.9048270524660202, 0.9297764858882506, 0.9510565162951539, 0.9685831611286313, 0.9822872507286887, 0.9921147013144779, 0.9980267284282716, 1.0, 0.9980267284282714, 0.992114701314478, 0.9822872507286884, 0.9685831611286316, 0.9510565162951533, 0.9297764858882511, 0.9048270524660194, 0.8763066800438636, 0.8443279255020153, 0.8090169943749479, 0.7705132427757899, 0.7289686274214126, 0.6845471059286901, 0.6374239897486886, 0.5877852522924751, 0.5358267949789961, 0.48175367410171505, 0.4257792915650727, 0.36812455268467836, 0.3090169943749482, 0.2486898871648559, 0.1873813145857226, 0.1253332335643061, 0.06279051952931204, -9.803364199544708e-16, -0.062790519529314, -0.1253332335643045, -0.18738131458572455, -0.24868988716485435, -0.3090169943749467, -0.36812455268467686, -0.4257792915650745, -0.4817536741017136, -0.5358267949789948, -0.5877852522924739, -0.6374239897486874, -0.6845471059286888, -0.7289686274214114, -0.7705132427757889, -0.8090169943749469, -0.8443279255020144, -0.8763066800438628, -0.9048270524660202, -0.9297764858882506, -0.9510565162951539, -0.9685831611286313, -0.9822872507286887, -0.9921147013144778, -0.9980267284282716, -1.0, -0.9980267284282714, -0.992114701314478, -0.9822872507286884, -0.9685831611286317, -0.9510565162951533, -0.9297764858882512, -0.9048270524660195, -0.8763066800438637, -0.8443279255020154, -0.8090169943749479, -0.77051324277579, -0.7289686274214127, -0.6845471059286901, -0.6374239897486887, -0.5877852522924752, -0.5358267949789962, -0.4817536741017151, -0.4257792915650728, -0.3681245526846785, -0.3090169943749483, -0.24868988716485602, -0.18738131458572274, -0.1253332335643062, -0.06279051952931217, -2.6948419387607653e-15, 0.06279051952931387, 0.1253332335643044, 0.1873813145857244, 0.24868988716485424, 0.30901699437494656, 0.36812455268467675, 0.4257792915650744, 0.4817536741017135, 0.5358267949789947, 0.5877852522924738, 0.6374239897486873, 0.6845471059286887, 0.7289686274214113, 0.7705132427757888, 0.8090169943749469, 0.8443279255020144, 0.8763066800438628, 0.9048270524660201, 0.9297764858882506, 0.9510565162951539, 0.9685831611286312, 0.9822872507286887, 0.9921147013144778, 0.9980267284282716, 1.0, 0.9980267284282717, 0.9921147013144775, 0.9822872507286884, 0.9685831611286317, 0.9510565162951544, 0.9297764858882512, 0.9048270524660195, 0.8763066800438637, 0.8443279255020154, 0.8090169943749501, 0.7705132427757878, 0.7289686274214127, 0.6845471059286902, 0.6374239897486916, 0.5877852522924725, 0.5358267949789963, 0.4817536741017152, 0.42577929156507616, 0.36812455268467525, 0.3090169943749484, 0.24868988716485613, 0.18738131458572635, 0.12533323356430282, 0.06279051952931229, -7.354070601250002e-16, -0.06279051952931021, -0.12533323356430778, -0.1873813145857243, -0.2486898871648541, -0.3090169943749464, -0.36812455268468, -0.42577929156507427, -0.48175367410171344, -0.5358267949789945, -0.5877852522924737, -0.63742398974869, -0.6845471059286886, -0.7289686274214113, -0.7705132427757865, -0.8090169943749489, -0.8443279255020143, -0.8763066800438627, -0.9048270524660186, -0.9297764858882518, -0.9510565162951538, -0.9685831611286312, -0.982287250728688, -0.9921147013144782, -0.9980267284282716, -1.0, -0.9980267284282717, -0.9921147013144777, -0.9822872507286884, -0.9685831611286317, -0.9510565162951544, -0.9297764858882512, -0.9048270524660196, -0.8763066800438638, -0.8443279255020155, -0.809016994374946, -0.7705132427757879, -0.7289686274214128, -0.6845471059286903, -0.6374239897486916, -0.5877852522924726, -0.5358267949789964, -0.4817536741017153, -0.42577929156507627, -0.3681245526846754, -0.3090169943749485, -0.24868988716485624, -0.18738131458572646, -0.12533323356430293, -0.0627905195293124, -2.939771298590236e-15, 0.06279051952931008, 0.12533323356430767, 0.18738131458572418, 0.248689887164854, 0.3090169943749463, 0.36812455268467986, 0.42577929156507416, 0.4817536741017133, 0.5358267949789944, 0.5877852522924736, 0.6374239897486899, 0.6845471059286886, 0.7289686274214112, 0.7705132427757865, 0.8090169943749488, 0.8443279255020143, 0.8763066800438627, 0.9048270524660186, 0.9297764858882518, 0.9510565162951538, 0.9685831611286312, 0.9822872507286879, 0.9921147013144782, 0.9980267284282716], \"yaxis\": \"y2\"}],\n",
       "                        {\"shapes\": [{\"fillcolor\": \"blue\", \"layer\": \"below\", \"line\": {\"width\": 0}, \"opacity\": 0.25, \"type\": \"rect\", \"x0\": 0.75, \"x1\": 1.0, \"xref\": \"x\", \"y0\": -2, \"y1\": 2, \"yref\": \"y\"}, {\"fillcolor\": \"blue\", \"layer\": \"below\", \"line\": {\"width\": 0}, \"opacity\": 0.25, \"type\": \"rect\", \"x0\": 1.5, \"x1\": 1.75, \"xref\": \"x\", \"y0\": -2, \"y1\": 2, \"yref\": \"y\"}, {\"fillcolor\": \"blue\", \"layer\": \"below\", \"line\": {\"width\": 0}, \"opacity\": 0.25, \"type\": \"rect\", \"x0\": 2.25, \"x1\": 2.5, \"xref\": \"x\", \"y0\": -2, \"y1\": 2, \"yref\": \"y\"}, {\"fillcolor\": \"blue\", \"layer\": \"below\", \"line\": {\"width\": 0}, \"opacity\": 0.25, \"type\": \"rect\", \"x0\": 3.0, \"x1\": 3.25, \"xref\": \"x\", \"y0\": -2, \"y1\": 2, \"yref\": \"y\"}, {\"fillcolor\": \"blue\", \"layer\": \"below\", \"line\": {\"width\": 0}, \"opacity\": 0.25, \"type\": \"rect\", \"x0\": 3.75, \"x1\": 4.0, \"xref\": \"x\", \"y0\": -2, \"y1\": 2, \"yref\": \"y\"}, {\"fillcolor\": \"blue\", \"layer\": \"below\", \"line\": {\"width\": 0}, \"opacity\": 0.25, \"type\": \"rect\", \"x0\": 4.5, \"x1\": 4.75, \"xref\": \"x\", \"y0\": -2, \"y1\": 2, \"yref\": \"y\"}, {\"fillcolor\": \"blue\", \"layer\": \"below\", \"line\": {\"width\": 0}, \"opacity\": 0.25, \"type\": \"rect\", \"x0\": 0.75, \"x1\": 1.0, \"xref\": \"x2\", \"y0\": -2, \"y1\": 2, \"yref\": \"y\"}, {\"fillcolor\": \"blue\", \"layer\": \"below\", \"line\": {\"width\": 0}, \"opacity\": 0.25, \"type\": \"rect\", \"x0\": 1.5, \"x1\": 1.75, \"xref\": \"x2\", \"y0\": -2, \"y1\": 2, \"yref\": \"y\"}, {\"fillcolor\": \"blue\", \"layer\": \"below\", \"line\": {\"width\": 0}, \"opacity\": 0.25, \"type\": \"rect\", \"x0\": 2.25, \"x1\": 2.5, \"xref\": \"x2\", \"y0\": -2, \"y1\": 2, \"yref\": \"y\"}, {\"fillcolor\": \"blue\", \"layer\": \"below\", \"line\": {\"width\": 0}, \"opacity\": 0.25, \"type\": \"rect\", \"x0\": 3.0, \"x1\": 3.25, \"xref\": \"x2\", \"y0\": -2, \"y1\": 2, \"yref\": \"y\"}, {\"fillcolor\": \"blue\", \"layer\": \"below\", \"line\": {\"width\": 0}, \"opacity\": 0.25, \"type\": \"rect\", \"x0\": 3.75, \"x1\": 4.0, \"xref\": \"x2\", \"y0\": -2, \"y1\": 2, \"yref\": \"y\"}, {\"fillcolor\": \"blue\", \"layer\": \"below\", \"line\": {\"width\": 0}, \"opacity\": 0.25, \"type\": \"rect\", \"x0\": 4.5, \"x1\": 4.75, \"xref\": \"x2\", \"y0\": -2, \"y1\": 2, \"yref\": \"y\"}], \"template\": {\"data\": {\"bar\": [{\"error_x\": {\"color\": \"#2a3f5f\"}, \"error_y\": {\"color\": \"#2a3f5f\"}, \"marker\": {\"line\": {\"color\": \"#E5ECF6\", \"width\": 0.5}}, \"type\": \"bar\"}], \"barpolar\": [{\"marker\": {\"line\": {\"color\": \"#E5ECF6\", \"width\": 0.5}}, \"type\": \"barpolar\"}], \"carpet\": [{\"aaxis\": {\"endlinecolor\": \"#2a3f5f\", \"gridcolor\": \"white\", \"linecolor\": \"white\", \"minorgridcolor\": \"white\", \"startlinecolor\": \"#2a3f5f\"}, \"baxis\": {\"endlinecolor\": \"#2a3f5f\", \"gridcolor\": \"white\", \"linecolor\": \"white\", \"minorgridcolor\": \"white\", \"startlinecolor\": \"#2a3f5f\"}, \"type\": \"carpet\"}], \"choropleth\": [{\"colorbar\": {\"outlinewidth\": 0, \"ticks\": \"\"}, \"type\": \"choropleth\"}], \"contour\": [{\"colorbar\": {\"outlinewidth\": 0, \"ticks\": \"\"}, \"colorscale\": [[0.0, \"#0d0887\"], [0.1111111111111111, \"#46039f\"], [0.2222222222222222, \"#7201a8\"], [0.3333333333333333, \"#9c179e\"], [0.4444444444444444, \"#bd3786\"], [0.5555555555555556, \"#d8576b\"], [0.6666666666666666, \"#ed7953\"], [0.7777777777777778, \"#fb9f3a\"], [0.8888888888888888, \"#fdca26\"], [1.0, \"#f0f921\"]], \"type\": \"contour\"}], \"contourcarpet\": [{\"colorbar\": {\"outlinewidth\": 0, \"ticks\": \"\"}, \"type\": \"contourcarpet\"}], \"heatmap\": [{\"colorbar\": {\"outlinewidth\": 0, \"ticks\": \"\"}, \"colorscale\": [[0.0, \"#0d0887\"], [0.1111111111111111, \"#46039f\"], [0.2222222222222222, \"#7201a8\"], [0.3333333333333333, \"#9c179e\"], [0.4444444444444444, \"#bd3786\"], [0.5555555555555556, \"#d8576b\"], [0.6666666666666666, \"#ed7953\"], [0.7777777777777778, \"#fb9f3a\"], [0.8888888888888888, \"#fdca26\"], [1.0, \"#f0f921\"]], \"type\": \"heatmap\"}], \"heatmapgl\": [{\"colorbar\": {\"outlinewidth\": 0, \"ticks\": \"\"}, \"colorscale\": [[0.0, \"#0d0887\"], [0.1111111111111111, \"#46039f\"], [0.2222222222222222, \"#7201a8\"], [0.3333333333333333, \"#9c179e\"], [0.4444444444444444, \"#bd3786\"], [0.5555555555555556, \"#d8576b\"], [0.6666666666666666, \"#ed7953\"], [0.7777777777777778, \"#fb9f3a\"], [0.8888888888888888, \"#fdca26\"], [1.0, \"#f0f921\"]], \"type\": \"heatmapgl\"}], \"histogram\": [{\"marker\": {\"colorbar\": {\"outlinewidth\": 0, \"ticks\": \"\"}}, \"type\": \"histogram\"}], \"histogram2d\": [{\"colorbar\": {\"outlinewidth\": 0, \"ticks\": \"\"}, \"colorscale\": [[0.0, \"#0d0887\"], [0.1111111111111111, \"#46039f\"], [0.2222222222222222, \"#7201a8\"], [0.3333333333333333, \"#9c179e\"], [0.4444444444444444, \"#bd3786\"], [0.5555555555555556, \"#d8576b\"], [0.6666666666666666, \"#ed7953\"], [0.7777777777777778, \"#fb9f3a\"], [0.8888888888888888, \"#fdca26\"], [1.0, \"#f0f921\"]], \"type\": \"histogram2d\"}], \"histogram2dcontour\": [{\"colorbar\": {\"outlinewidth\": 0, \"ticks\": \"\"}, \"colorscale\": [[0.0, \"#0d0887\"], [0.1111111111111111, \"#46039f\"], [0.2222222222222222, \"#7201a8\"], [0.3333333333333333, \"#9c179e\"], [0.4444444444444444, \"#bd3786\"], [0.5555555555555556, \"#d8576b\"], [0.6666666666666666, \"#ed7953\"], [0.7777777777777778, \"#fb9f3a\"], [0.8888888888888888, \"#fdca26\"], [1.0, \"#f0f921\"]], \"type\": \"histogram2dcontour\"}], \"mesh3d\": [{\"colorbar\": {\"outlinewidth\": 0, \"ticks\": \"\"}, \"type\": \"mesh3d\"}], \"parcoords\": [{\"line\": {\"colorbar\": {\"outlinewidth\": 0, \"ticks\": \"\"}}, \"type\": \"parcoords\"}], \"scatter\": [{\"marker\": {\"colorbar\": {\"outlinewidth\": 0, \"ticks\": \"\"}}, \"type\": \"scatter\"}], \"scatter3d\": [{\"line\": {\"colorbar\": {\"outlinewidth\": 0, \"ticks\": \"\"}}, \"marker\": {\"colorbar\": {\"outlinewidth\": 0, \"ticks\": \"\"}}, \"type\": \"scatter3d\"}], \"scattercarpet\": [{\"marker\": {\"colorbar\": {\"outlinewidth\": 0, \"ticks\": \"\"}}, \"type\": \"scattercarpet\"}], \"scattergeo\": [{\"marker\": {\"colorbar\": {\"outlinewidth\": 0, \"ticks\": \"\"}}, \"type\": \"scattergeo\"}], \"scattergl\": [{\"marker\": {\"colorbar\": {\"outlinewidth\": 0, \"ticks\": \"\"}}, \"type\": \"scattergl\"}], \"scattermapbox\": [{\"marker\": {\"colorbar\": {\"outlinewidth\": 0, \"ticks\": \"\"}}, \"type\": \"scattermapbox\"}], \"scatterpolar\": [{\"marker\": {\"colorbar\": {\"outlinewidth\": 0, \"ticks\": \"\"}}, \"type\": \"scatterpolar\"}], \"scatterpolargl\": [{\"marker\": {\"colorbar\": {\"outlinewidth\": 0, \"ticks\": \"\"}}, \"type\": \"scatterpolargl\"}], \"scatterternary\": [{\"marker\": {\"colorbar\": {\"outlinewidth\": 0, \"ticks\": \"\"}}, \"type\": \"scatterternary\"}], \"surface\": [{\"colorbar\": {\"outlinewidth\": 0, \"ticks\": \"\"}, \"colorscale\": [[0.0, \"#0d0887\"], [0.1111111111111111, \"#46039f\"], [0.2222222222222222, \"#7201a8\"], [0.3333333333333333, \"#9c179e\"], [0.4444444444444444, \"#bd3786\"], [0.5555555555555556, \"#d8576b\"], [0.6666666666666666, \"#ed7953\"], [0.7777777777777778, \"#fb9f3a\"], [0.8888888888888888, \"#fdca26\"], [1.0, \"#f0f921\"]], \"type\": \"surface\"}], \"table\": [{\"cells\": {\"fill\": {\"color\": \"#EBF0F8\"}, \"line\": {\"color\": \"white\"}}, \"header\": {\"fill\": {\"color\": \"#C8D4E3\"}, \"line\": {\"color\": \"white\"}}, \"type\": \"table\"}]}, \"layout\": {\"annotationdefaults\": {\"arrowcolor\": \"#2a3f5f\", \"arrowhead\": 0, \"arrowwidth\": 1}, \"colorscale\": {\"diverging\": [[0, \"#8e0152\"], [0.1, \"#c51b7d\"], [0.2, \"#de77ae\"], [0.3, \"#f1b6da\"], [0.4, \"#fde0ef\"], [0.5, \"#f7f7f7\"], [0.6, \"#e6f5d0\"], [0.7, \"#b8e186\"], [0.8, \"#7fbc41\"], [0.9, \"#4d9221\"], [1, \"#276419\"]], \"sequential\": [[0.0, \"#0d0887\"], [0.1111111111111111, \"#46039f\"], [0.2222222222222222, \"#7201a8\"], [0.3333333333333333, \"#9c179e\"], [0.4444444444444444, \"#bd3786\"], [0.5555555555555556, \"#d8576b\"], [0.6666666666666666, \"#ed7953\"], [0.7777777777777778, \"#fb9f3a\"], [0.8888888888888888, \"#fdca26\"], [1.0, \"#f0f921\"]], \"sequentialminus\": [[0.0, \"#0d0887\"], [0.1111111111111111, \"#46039f\"], [0.2222222222222222, \"#7201a8\"], [0.3333333333333333, \"#9c179e\"], [0.4444444444444444, \"#bd3786\"], [0.5555555555555556, \"#d8576b\"], [0.6666666666666666, \"#ed7953\"], [0.7777777777777778, \"#fb9f3a\"], [0.8888888888888888, \"#fdca26\"], [1.0, \"#f0f921\"]]}, \"colorway\": [\"#636efa\", \"#EF553B\", \"#00cc96\", \"#ab63fa\", \"#FFA15A\", \"#19d3f3\", \"#FF6692\", \"#B6E880\", \"#FF97FF\", \"#FECB52\"], \"font\": {\"color\": \"#2a3f5f\"}, \"geo\": {\"bgcolor\": \"white\", \"lakecolor\": \"white\", \"landcolor\": \"#E5ECF6\", \"showlakes\": true, \"showland\": true, \"subunitcolor\": \"white\"}, \"hoverlabel\": {\"align\": \"left\"}, \"hovermode\": \"closest\", \"mapbox\": {\"style\": \"light\"}, \"paper_bgcolor\": \"white\", \"plot_bgcolor\": \"#E5ECF6\", \"polar\": {\"angularaxis\": {\"gridcolor\": \"white\", \"linecolor\": \"white\", \"ticks\": \"\"}, \"bgcolor\": \"#E5ECF6\", \"radialaxis\": {\"gridcolor\": \"white\", \"linecolor\": \"white\", \"ticks\": \"\"}}, \"scene\": {\"xaxis\": {\"backgroundcolor\": \"#E5ECF6\", \"gridcolor\": \"white\", \"gridwidth\": 2, \"linecolor\": \"white\", \"showbackground\": true, \"ticks\": \"\", \"zerolinecolor\": \"white\"}, \"yaxis\": {\"backgroundcolor\": \"#E5ECF6\", \"gridcolor\": \"white\", \"gridwidth\": 2, \"linecolor\": \"white\", \"showbackground\": true, \"ticks\": \"\", \"zerolinecolor\": \"white\"}, \"zaxis\": {\"backgroundcolor\": \"#E5ECF6\", \"gridcolor\": \"white\", \"gridwidth\": 2, \"linecolor\": \"white\", \"showbackground\": true, \"ticks\": \"\", \"zerolinecolor\": \"white\"}}, \"shapedefaults\": {\"line\": {\"color\": \"#2a3f5f\"}}, \"ternary\": {\"aaxis\": {\"gridcolor\": \"white\", \"linecolor\": \"white\", \"ticks\": \"\"}, \"baxis\": {\"gridcolor\": \"white\", \"linecolor\": \"white\", \"ticks\": \"\"}, \"bgcolor\": \"#E5ECF6\", \"caxis\": {\"gridcolor\": \"white\", \"linecolor\": \"white\", \"ticks\": \"\"}}, \"title\": {\"x\": 0.05}, \"xaxis\": {\"automargin\": true, \"gridcolor\": \"white\", \"linecolor\": \"white\", \"ticks\": \"\", \"zerolinecolor\": \"white\", \"zerolinewidth\": 2}, \"yaxis\": {\"automargin\": true, \"gridcolor\": \"white\", \"linecolor\": \"white\", \"ticks\": \"\", \"zerolinecolor\": \"white\", \"zerolinewidth\": 2}}}, \"xaxis\": {\"anchor\": \"y\", \"domain\": [0.0, 0.45], \"range\": [0, 5]}, \"xaxis2\": {\"anchor\": \"y2\", \"domain\": [0.55, 1.0], \"range\": [0, 5]}, \"yaxis\": {\"anchor\": \"x\", \"domain\": [0.0, 1.0], \"range\": [-1.5, 1.5]}, \"yaxis2\": {\"anchor\": \"x2\", \"domain\": [0.0, 1.0], \"range\": [-1.5, 1.5]}},\n",
       "                        {\"responsive\": true}\n",
       "                    ).then(function(){\n",
       "                            \n",
       "var gd = document.getElementById('71eb5411-e117-4c38-9338-6d2729035922');\n",
       "var x = new MutationObserver(function (mutations, observer) {{\n",
       "        var display = window.getComputedStyle(gd).display;\n",
       "        if (!display || display === 'none') {{\n",
       "            console.log([gd, 'removed!']);\n",
       "            Plotly.purge(gd);\n",
       "            observer.disconnect();\n",
       "        }}\n",
       "}});\n",
       "\n",
       "// Listen for the removal of the full notebook cells\n",
       "var notebookContainer = gd.closest('#notebook-container');\n",
       "if (notebookContainer) {{\n",
       "    x.observe(notebookContainer, {childList: true});\n",
       "}}\n",
       "\n",
       "// Listen for the clearing of the current output cell\n",
       "var outputEl = gd.closest('.output');\n",
       "if (outputEl) {{\n",
       "    x.observe(outputEl, {childList: true});\n",
       "}}\n",
       "\n",
       "                        })\n",
       "                };\n",
       "                });\n",
       "            </script>\n",
       "        </div>"
      ]
     },
     "metadata": {},
     "output_type": "display_data"
    }
   ],
   "source": [
    "fig = make_subplots(rows=1, cols=2, shared_xaxes=True)\n",
    "\n",
    "fig.add_trace(\n",
    "    go.Scatter(\n",
    "        x = df['t'],\n",
    "        y = df['data1'],\n",
    "        opacity=0.5,\n",
    "        line=dict(color='firebrick', width=4)\n",
    "    ),\n",
    "    row=1, \n",
    "    col=1,\n",
    ")\n",
    "fig.add_trace(\n",
    "    go.Scatter(\n",
    "        x = df['t'],\n",
    "        y = df['data2'],\n",
    "        showlegend=False\n",
    "    ),\n",
    "    row=1, \n",
    "    col=2,\n",
    ")\n",
    "\n",
    "designate_flashes_plotly(fig,omit=0,pre_color='blue',post_color='blue',cols=[1,2],lims=[0,5])\n",
    "\n",
    "fig.update_yaxes(range=[-1.5,1.5])\n",
    "fig.update_xaxes(range=[0,5])\n",
    "fig.show()"
   ]
  },
  {
   "cell_type": "code",
   "execution_count": 49,
   "metadata": {},
   "outputs": [
    {
     "data": {
      "text/plain": [
       "['__class__',\n",
       " '__contains__',\n",
       " '__delattr__',\n",
       " '__dict__',\n",
       " '__dir__',\n",
       " '__doc__',\n",
       " '__eq__',\n",
       " '__format__',\n",
       " '__ge__',\n",
       " '__getattribute__',\n",
       " '__getitem__',\n",
       " '__gt__',\n",
       " '__hash__',\n",
       " '__init__',\n",
       " '__init_subclass__',\n",
       " '__iter__',\n",
       " '__le__',\n",
       " '__lt__',\n",
       " '__module__',\n",
       " '__ne__',\n",
       " '__new__',\n",
       " '__reduce__',\n",
       " '__reduce_ex__',\n",
       " '__repr__',\n",
       " '__setattr__',\n",
       " '__setitem__',\n",
       " '__sizeof__',\n",
       " '__str__',\n",
       " '__subclasshook__',\n",
       " '__weakref__',\n",
       " '_animation_duration_validator',\n",
       " '_animation_easing_validator',\n",
       " '_batch_layout_edits',\n",
       " '_batch_trace_edits',\n",
       " '_bracket_re',\n",
       " '_build_dispatch_plan',\n",
       " '_build_update_params_from_batch',\n",
       " '_config',\n",
       " '_data',\n",
       " '_data_defaults',\n",
       " '_data_objs',\n",
       " '_data_validator',\n",
       " '_dispatch_layout_change_callbacks',\n",
       " '_dispatch_trace_change_callbacks',\n",
       " '_frame_objs',\n",
       " '_frames_validator',\n",
       " '_get_child_prop_defaults',\n",
       " '_get_child_props',\n",
       " '_grid_ref',\n",
       " '_grid_str',\n",
       " '_in_batch_mode',\n",
       " '_index_is',\n",
       " '_init_child_props',\n",
       " '_initialize_layout_template',\n",
       " '_ipython_display_',\n",
       " '_is_dict_list',\n",
       " '_is_key_path_compatible',\n",
       " '_layout',\n",
       " '_layout_defaults',\n",
       " '_layout_obj',\n",
       " '_layout_validator',\n",
       " '_normalize_trace_indexes',\n",
       " '_perform_batch_animate',\n",
       " '_perform_plotly_relayout',\n",
       " '_perform_plotly_restyle',\n",
       " '_perform_plotly_update',\n",
       " '_perform_select_traces',\n",
       " '_perform_update',\n",
       " '_raise_invalid_rows_cols',\n",
       " '_relayout_child',\n",
       " '_restyle_child',\n",
       " '_select_layout_subplots_by_prefix',\n",
       " '_selector_matches',\n",
       " '_send_addTraces_msg',\n",
       " '_send_animate_msg',\n",
       " '_send_deleteTraces_msg',\n",
       " '_send_moveTraces_msg',\n",
       " '_send_relayout_msg',\n",
       " '_send_restyle_msg',\n",
       " '_send_update_msg',\n",
       " '_set_in',\n",
       " '_set_trace_grid_position',\n",
       " '_set_trace_uid',\n",
       " '_str_to_dict_path',\n",
       " '_to_ordered_dict',\n",
       " '_valid_underscore_properties',\n",
       " '_validate_get_grid_ref',\n",
       " '_validate_rows_cols',\n",
       " 'add_area',\n",
       " 'add_bar',\n",
       " 'add_barpolar',\n",
       " 'add_box',\n",
       " 'add_candlestick',\n",
       " 'add_carpet',\n",
       " 'add_choropleth',\n",
       " 'add_choroplethmapbox',\n",
       " 'add_cone',\n",
       " 'add_contour',\n",
       " 'add_contourcarpet',\n",
       " 'add_densitymapbox',\n",
       " 'add_funnel',\n",
       " 'add_funnelarea',\n",
       " 'add_heatmap',\n",
       " 'add_heatmapgl',\n",
       " 'add_histogram',\n",
       " 'add_histogram2d',\n",
       " 'add_histogram2dcontour',\n",
       " 'add_indicator',\n",
       " 'add_isosurface',\n",
       " 'add_mesh3d',\n",
       " 'add_ohlc',\n",
       " 'add_parcats',\n",
       " 'add_parcoords',\n",
       " 'add_pie',\n",
       " 'add_pointcloud',\n",
       " 'add_sankey',\n",
       " 'add_scatter',\n",
       " 'add_scatter3d',\n",
       " 'add_scattercarpet',\n",
       " 'add_scattergeo',\n",
       " 'add_scattergl',\n",
       " 'add_scattermapbox',\n",
       " 'add_scatterpolar',\n",
       " 'add_scatterpolargl',\n",
       " 'add_scatterternary',\n",
       " 'add_splom',\n",
       " 'add_streamtube',\n",
       " 'add_sunburst',\n",
       " 'add_surface',\n",
       " 'add_table',\n",
       " 'add_trace',\n",
       " 'add_traces',\n",
       " 'add_violin',\n",
       " 'add_volume',\n",
       " 'add_waterfall',\n",
       " 'append_trace',\n",
       " 'batch_animate',\n",
       " 'batch_update',\n",
       " 'data',\n",
       " 'for_each_coloraxis',\n",
       " 'for_each_geo',\n",
       " 'for_each_mapbox',\n",
       " 'for_each_polar',\n",
       " 'for_each_scene',\n",
       " 'for_each_ternary',\n",
       " 'for_each_trace',\n",
       " 'for_each_xaxis',\n",
       " 'for_each_yaxis',\n",
       " 'frames',\n",
       " 'get_subplot',\n",
       " 'layout',\n",
       " 'plotly_relayout',\n",
       " 'plotly_restyle',\n",
       " 'plotly_update',\n",
       " 'pop',\n",
       " 'print_grid',\n",
       " 'select_coloraxes',\n",
       " 'select_geos',\n",
       " 'select_mapboxes',\n",
       " 'select_polars',\n",
       " 'select_scenes',\n",
       " 'select_ternaries',\n",
       " 'select_traces',\n",
       " 'select_xaxes',\n",
       " 'select_yaxes',\n",
       " 'show',\n",
       " 'to_dict',\n",
       " 'to_html',\n",
       " 'to_image',\n",
       " 'to_json',\n",
       " 'to_ordered_dict',\n",
       " 'to_plotly_json',\n",
       " 'update',\n",
       " 'update_coloraxes',\n",
       " 'update_geos',\n",
       " 'update_layout',\n",
       " 'update_mapboxes',\n",
       " 'update_polars',\n",
       " 'update_scenes',\n",
       " 'update_ternaries',\n",
       " 'update_traces',\n",
       " 'update_xaxes',\n",
       " 'update_yaxes',\n",
       " 'write_html',\n",
       " 'write_image',\n",
       " 'write_json']"
      ]
     },
     "execution_count": 49,
     "metadata": {},
     "output_type": "execute_result"
    }
   ],
   "source": [
    "dir(fig)"
   ]
  },
  {
   "cell_type": "code",
   "execution_count": 21,
   "metadata": {},
   "outputs": [
    {
     "data": {
      "application/vnd.plotly.v1+json": {
       "config": {
        "plotlyServerURL": "https://plot.ly"
       },
       "data": [
        {
         "line": {
          "color": "firebrick",
          "width": 4
         },
         "name": "High 2014",
         "type": "scatter",
         "x": [
          "January",
          "February",
          "March",
          "April",
          "May",
          "June",
          "July",
          "August",
          "September",
          "October",
          "November",
          "December"
         ],
         "y": [
          28.8,
          28.5,
          37,
          56.8,
          69.7,
          79.7,
          78.5,
          77.8,
          74.1,
          62.6,
          45.3,
          39.9
         ]
        },
        {
         "line": {
          "color": "royalblue",
          "width": 4
         },
         "name": "Low 2014",
         "type": "scatter",
         "x": [
          "January",
          "February",
          "March",
          "April",
          "May",
          "June",
          "July",
          "August",
          "September",
          "October",
          "November",
          "December"
         ],
         "y": [
          12.7,
          14.3,
          18.6,
          35.5,
          49.9,
          58,
          60,
          58.6,
          51.7,
          45.2,
          32.2,
          29.1
         ]
        },
        {
         "line": {
          "color": "firebrick",
          "dash": "dash",
          "width": 4
         },
         "name": "High 2007",
         "type": "scatter",
         "x": [
          "January",
          "February",
          "March",
          "April",
          "May",
          "June",
          "July",
          "August",
          "September",
          "October",
          "November",
          "December"
         ],
         "y": [
          36.5,
          26.6,
          43.6,
          52.3,
          71.5,
          81.4,
          80.5,
          82.2,
          76,
          67.3,
          46.1,
          35
         ]
        },
        {
         "line": {
          "color": "royalblue",
          "dash": "dash",
          "width": 4
         },
         "name": "Low 2007",
         "type": "scatter",
         "x": [
          "January",
          "February",
          "March",
          "April",
          "May",
          "June",
          "July",
          "August",
          "September",
          "October",
          "November",
          "December"
         ],
         "y": [
          23.6,
          14,
          27,
          36.8,
          47.6,
          57.7,
          58.9,
          61.2,
          53.3,
          48.5,
          31,
          23.6
         ]
        },
        {
         "line": {
          "color": "firebrick",
          "dash": "dot",
          "width": 4
         },
         "name": "High 2000",
         "type": "scatter",
         "x": [
          "January",
          "February",
          "March",
          "April",
          "May",
          "June",
          "July",
          "August",
          "September",
          "October",
          "November",
          "December"
         ],
         "y": [
          32.5,
          37.6,
          49.9,
          53,
          69.1,
          75.4,
          76.5,
          76.6,
          70.7,
          60.6,
          45.1,
          29.3
         ]
        },
        {
         "line": {
          "color": "royalblue",
          "dash": "dot",
          "width": 4
         },
         "name": "Low 2000",
         "type": "scatter",
         "x": [
          "January",
          "February",
          "March",
          "April",
          "May",
          "June",
          "July",
          "August",
          "September",
          "October",
          "November",
          "December"
         ],
         "y": [
          13.8,
          22.3,
          32.5,
          37.2,
          49.9,
          56.1,
          57.7,
          58.3,
          51.2,
          42.8,
          31.6,
          15.9
         ]
        }
       ],
       "layout": {
        "template": {
         "data": {
          "bar": [
           {
            "error_x": {
             "color": "#2a3f5f"
            },
            "error_y": {
             "color": "#2a3f5f"
            },
            "marker": {
             "line": {
              "color": "#E5ECF6",
              "width": 0.5
             }
            },
            "type": "bar"
           }
          ],
          "barpolar": [
           {
            "marker": {
             "line": {
              "color": "#E5ECF6",
              "width": 0.5
             }
            },
            "type": "barpolar"
           }
          ],
          "carpet": [
           {
            "aaxis": {
             "endlinecolor": "#2a3f5f",
             "gridcolor": "white",
             "linecolor": "white",
             "minorgridcolor": "white",
             "startlinecolor": "#2a3f5f"
            },
            "baxis": {
             "endlinecolor": "#2a3f5f",
             "gridcolor": "white",
             "linecolor": "white",
             "minorgridcolor": "white",
             "startlinecolor": "#2a3f5f"
            },
            "type": "carpet"
           }
          ],
          "choropleth": [
           {
            "colorbar": {
             "outlinewidth": 0,
             "ticks": ""
            },
            "type": "choropleth"
           }
          ],
          "contour": [
           {
            "colorbar": {
             "outlinewidth": 0,
             "ticks": ""
            },
            "colorscale": [
             [
              0,
              "#0d0887"
             ],
             [
              0.1111111111111111,
              "#46039f"
             ],
             [
              0.2222222222222222,
              "#7201a8"
             ],
             [
              0.3333333333333333,
              "#9c179e"
             ],
             [
              0.4444444444444444,
              "#bd3786"
             ],
             [
              0.5555555555555556,
              "#d8576b"
             ],
             [
              0.6666666666666666,
              "#ed7953"
             ],
             [
              0.7777777777777778,
              "#fb9f3a"
             ],
             [
              0.8888888888888888,
              "#fdca26"
             ],
             [
              1,
              "#f0f921"
             ]
            ],
            "type": "contour"
           }
          ],
          "contourcarpet": [
           {
            "colorbar": {
             "outlinewidth": 0,
             "ticks": ""
            },
            "type": "contourcarpet"
           }
          ],
          "heatmap": [
           {
            "colorbar": {
             "outlinewidth": 0,
             "ticks": ""
            },
            "colorscale": [
             [
              0,
              "#0d0887"
             ],
             [
              0.1111111111111111,
              "#46039f"
             ],
             [
              0.2222222222222222,
              "#7201a8"
             ],
             [
              0.3333333333333333,
              "#9c179e"
             ],
             [
              0.4444444444444444,
              "#bd3786"
             ],
             [
              0.5555555555555556,
              "#d8576b"
             ],
             [
              0.6666666666666666,
              "#ed7953"
             ],
             [
              0.7777777777777778,
              "#fb9f3a"
             ],
             [
              0.8888888888888888,
              "#fdca26"
             ],
             [
              1,
              "#f0f921"
             ]
            ],
            "type": "heatmap"
           }
          ],
          "heatmapgl": [
           {
            "colorbar": {
             "outlinewidth": 0,
             "ticks": ""
            },
            "colorscale": [
             [
              0,
              "#0d0887"
             ],
             [
              0.1111111111111111,
              "#46039f"
             ],
             [
              0.2222222222222222,
              "#7201a8"
             ],
             [
              0.3333333333333333,
              "#9c179e"
             ],
             [
              0.4444444444444444,
              "#bd3786"
             ],
             [
              0.5555555555555556,
              "#d8576b"
             ],
             [
              0.6666666666666666,
              "#ed7953"
             ],
             [
              0.7777777777777778,
              "#fb9f3a"
             ],
             [
              0.8888888888888888,
              "#fdca26"
             ],
             [
              1,
              "#f0f921"
             ]
            ],
            "type": "heatmapgl"
           }
          ],
          "histogram": [
           {
            "marker": {
             "colorbar": {
              "outlinewidth": 0,
              "ticks": ""
             }
            },
            "type": "histogram"
           }
          ],
          "histogram2d": [
           {
            "colorbar": {
             "outlinewidth": 0,
             "ticks": ""
            },
            "colorscale": [
             [
              0,
              "#0d0887"
             ],
             [
              0.1111111111111111,
              "#46039f"
             ],
             [
              0.2222222222222222,
              "#7201a8"
             ],
             [
              0.3333333333333333,
              "#9c179e"
             ],
             [
              0.4444444444444444,
              "#bd3786"
             ],
             [
              0.5555555555555556,
              "#d8576b"
             ],
             [
              0.6666666666666666,
              "#ed7953"
             ],
             [
              0.7777777777777778,
              "#fb9f3a"
             ],
             [
              0.8888888888888888,
              "#fdca26"
             ],
             [
              1,
              "#f0f921"
             ]
            ],
            "type": "histogram2d"
           }
          ],
          "histogram2dcontour": [
           {
            "colorbar": {
             "outlinewidth": 0,
             "ticks": ""
            },
            "colorscale": [
             [
              0,
              "#0d0887"
             ],
             [
              0.1111111111111111,
              "#46039f"
             ],
             [
              0.2222222222222222,
              "#7201a8"
             ],
             [
              0.3333333333333333,
              "#9c179e"
             ],
             [
              0.4444444444444444,
              "#bd3786"
             ],
             [
              0.5555555555555556,
              "#d8576b"
             ],
             [
              0.6666666666666666,
              "#ed7953"
             ],
             [
              0.7777777777777778,
              "#fb9f3a"
             ],
             [
              0.8888888888888888,
              "#fdca26"
             ],
             [
              1,
              "#f0f921"
             ]
            ],
            "type": "histogram2dcontour"
           }
          ],
          "mesh3d": [
           {
            "colorbar": {
             "outlinewidth": 0,
             "ticks": ""
            },
            "type": "mesh3d"
           }
          ],
          "parcoords": [
           {
            "line": {
             "colorbar": {
              "outlinewidth": 0,
              "ticks": ""
             }
            },
            "type": "parcoords"
           }
          ],
          "scatter": [
           {
            "marker": {
             "colorbar": {
              "outlinewidth": 0,
              "ticks": ""
             }
            },
            "type": "scatter"
           }
          ],
          "scatter3d": [
           {
            "line": {
             "colorbar": {
              "outlinewidth": 0,
              "ticks": ""
             }
            },
            "marker": {
             "colorbar": {
              "outlinewidth": 0,
              "ticks": ""
             }
            },
            "type": "scatter3d"
           }
          ],
          "scattercarpet": [
           {
            "marker": {
             "colorbar": {
              "outlinewidth": 0,
              "ticks": ""
             }
            },
            "type": "scattercarpet"
           }
          ],
          "scattergeo": [
           {
            "marker": {
             "colorbar": {
              "outlinewidth": 0,
              "ticks": ""
             }
            },
            "type": "scattergeo"
           }
          ],
          "scattergl": [
           {
            "marker": {
             "colorbar": {
              "outlinewidth": 0,
              "ticks": ""
             }
            },
            "type": "scattergl"
           }
          ],
          "scattermapbox": [
           {
            "marker": {
             "colorbar": {
              "outlinewidth": 0,
              "ticks": ""
             }
            },
            "type": "scattermapbox"
           }
          ],
          "scatterpolar": [
           {
            "marker": {
             "colorbar": {
              "outlinewidth": 0,
              "ticks": ""
             }
            },
            "type": "scatterpolar"
           }
          ],
          "scatterpolargl": [
           {
            "marker": {
             "colorbar": {
              "outlinewidth": 0,
              "ticks": ""
             }
            },
            "type": "scatterpolargl"
           }
          ],
          "scatterternary": [
           {
            "marker": {
             "colorbar": {
              "outlinewidth": 0,
              "ticks": ""
             }
            },
            "type": "scatterternary"
           }
          ],
          "surface": [
           {
            "colorbar": {
             "outlinewidth": 0,
             "ticks": ""
            },
            "colorscale": [
             [
              0,
              "#0d0887"
             ],
             [
              0.1111111111111111,
              "#46039f"
             ],
             [
              0.2222222222222222,
              "#7201a8"
             ],
             [
              0.3333333333333333,
              "#9c179e"
             ],
             [
              0.4444444444444444,
              "#bd3786"
             ],
             [
              0.5555555555555556,
              "#d8576b"
             ],
             [
              0.6666666666666666,
              "#ed7953"
             ],
             [
              0.7777777777777778,
              "#fb9f3a"
             ],
             [
              0.8888888888888888,
              "#fdca26"
             ],
             [
              1,
              "#f0f921"
             ]
            ],
            "type": "surface"
           }
          ],
          "table": [
           {
            "cells": {
             "fill": {
              "color": "#EBF0F8"
             },
             "line": {
              "color": "white"
             }
            },
            "header": {
             "fill": {
              "color": "#C8D4E3"
             },
             "line": {
              "color": "white"
             }
            },
            "type": "table"
           }
          ]
         },
         "layout": {
          "annotationdefaults": {
           "arrowcolor": "#2a3f5f",
           "arrowhead": 0,
           "arrowwidth": 1
          },
          "colorscale": {
           "diverging": [
            [
             0,
             "#8e0152"
            ],
            [
             0.1,
             "#c51b7d"
            ],
            [
             0.2,
             "#de77ae"
            ],
            [
             0.3,
             "#f1b6da"
            ],
            [
             0.4,
             "#fde0ef"
            ],
            [
             0.5,
             "#f7f7f7"
            ],
            [
             0.6,
             "#e6f5d0"
            ],
            [
             0.7,
             "#b8e186"
            ],
            [
             0.8,
             "#7fbc41"
            ],
            [
             0.9,
             "#4d9221"
            ],
            [
             1,
             "#276419"
            ]
           ],
           "sequential": [
            [
             0,
             "#0d0887"
            ],
            [
             0.1111111111111111,
             "#46039f"
            ],
            [
             0.2222222222222222,
             "#7201a8"
            ],
            [
             0.3333333333333333,
             "#9c179e"
            ],
            [
             0.4444444444444444,
             "#bd3786"
            ],
            [
             0.5555555555555556,
             "#d8576b"
            ],
            [
             0.6666666666666666,
             "#ed7953"
            ],
            [
             0.7777777777777778,
             "#fb9f3a"
            ],
            [
             0.8888888888888888,
             "#fdca26"
            ],
            [
             1,
             "#f0f921"
            ]
           ],
           "sequentialminus": [
            [
             0,
             "#0d0887"
            ],
            [
             0.1111111111111111,
             "#46039f"
            ],
            [
             0.2222222222222222,
             "#7201a8"
            ],
            [
             0.3333333333333333,
             "#9c179e"
            ],
            [
             0.4444444444444444,
             "#bd3786"
            ],
            [
             0.5555555555555556,
             "#d8576b"
            ],
            [
             0.6666666666666666,
             "#ed7953"
            ],
            [
             0.7777777777777778,
             "#fb9f3a"
            ],
            [
             0.8888888888888888,
             "#fdca26"
            ],
            [
             1,
             "#f0f921"
            ]
           ]
          },
          "colorway": [
           "#636efa",
           "#EF553B",
           "#00cc96",
           "#ab63fa",
           "#FFA15A",
           "#19d3f3",
           "#FF6692",
           "#B6E880",
           "#FF97FF",
           "#FECB52"
          ],
          "font": {
           "color": "#2a3f5f"
          },
          "geo": {
           "bgcolor": "white",
           "lakecolor": "white",
           "landcolor": "#E5ECF6",
           "showlakes": true,
           "showland": true,
           "subunitcolor": "white"
          },
          "hoverlabel": {
           "align": "left"
          },
          "hovermode": "closest",
          "mapbox": {
           "style": "light"
          },
          "paper_bgcolor": "white",
          "plot_bgcolor": "#E5ECF6",
          "polar": {
           "angularaxis": {
            "gridcolor": "white",
            "linecolor": "white",
            "ticks": ""
           },
           "bgcolor": "#E5ECF6",
           "radialaxis": {
            "gridcolor": "white",
            "linecolor": "white",
            "ticks": ""
           }
          },
          "scene": {
           "xaxis": {
            "backgroundcolor": "#E5ECF6",
            "gridcolor": "white",
            "gridwidth": 2,
            "linecolor": "white",
            "showbackground": true,
            "ticks": "",
            "zerolinecolor": "white"
           },
           "yaxis": {
            "backgroundcolor": "#E5ECF6",
            "gridcolor": "white",
            "gridwidth": 2,
            "linecolor": "white",
            "showbackground": true,
            "ticks": "",
            "zerolinecolor": "white"
           },
           "zaxis": {
            "backgroundcolor": "#E5ECF6",
            "gridcolor": "white",
            "gridwidth": 2,
            "linecolor": "white",
            "showbackground": true,
            "ticks": "",
            "zerolinecolor": "white"
           }
          },
          "shapedefaults": {
           "line": {
            "color": "#2a3f5f"
           }
          },
          "ternary": {
           "aaxis": {
            "gridcolor": "white",
            "linecolor": "white",
            "ticks": ""
           },
           "baxis": {
            "gridcolor": "white",
            "linecolor": "white",
            "ticks": ""
           },
           "bgcolor": "#E5ECF6",
           "caxis": {
            "gridcolor": "white",
            "linecolor": "white",
            "ticks": ""
           }
          },
          "title": {
           "x": 0.05
          },
          "xaxis": {
           "automargin": true,
           "gridcolor": "white",
           "linecolor": "white",
           "ticks": "",
           "zerolinecolor": "white",
           "zerolinewidth": 2
          },
          "yaxis": {
           "automargin": true,
           "gridcolor": "white",
           "linecolor": "white",
           "ticks": "",
           "zerolinecolor": "white",
           "zerolinewidth": 2
          }
         }
        },
        "title": {
         "text": "Average High and Low Temperatures in New York"
        },
        "xaxis": {
         "title": {
          "text": "Month"
         }
        },
        "yaxis": {
         "title": {
          "text": "Temperature (degrees F)"
         }
        }
       }
      },
      "text/html": [
       "<div>\n",
       "        \n",
       "        \n",
       "            <div id=\"aea6d7a0-42c4-4761-b82b-7ba550ff716a\" class=\"plotly-graph-div\" style=\"height:525px; width:100%;\"></div>\n",
       "            <script type=\"text/javascript\">\n",
       "                require([\"plotly\"], function(Plotly) {\n",
       "                    window.PLOTLYENV=window.PLOTLYENV || {};\n",
       "                    \n",
       "                if (document.getElementById(\"aea6d7a0-42c4-4761-b82b-7ba550ff716a\")) {\n",
       "                    Plotly.newPlot(\n",
       "                        'aea6d7a0-42c4-4761-b82b-7ba550ff716a',\n",
       "                        [{\"line\": {\"color\": \"firebrick\", \"width\": 4}, \"name\": \"High 2014\", \"type\": \"scatter\", \"x\": [\"January\", \"February\", \"March\", \"April\", \"May\", \"June\", \"July\", \"August\", \"September\", \"October\", \"November\", \"December\"], \"y\": [28.8, 28.5, 37.0, 56.8, 69.7, 79.7, 78.5, 77.8, 74.1, 62.6, 45.3, 39.9]}, {\"line\": {\"color\": \"royalblue\", \"width\": 4}, \"name\": \"Low 2014\", \"type\": \"scatter\", \"x\": [\"January\", \"February\", \"March\", \"April\", \"May\", \"June\", \"July\", \"August\", \"September\", \"October\", \"November\", \"December\"], \"y\": [12.7, 14.3, 18.6, 35.5, 49.9, 58.0, 60.0, 58.6, 51.7, 45.2, 32.2, 29.1]}, {\"line\": {\"color\": \"firebrick\", \"dash\": \"dash\", \"width\": 4}, \"name\": \"High 2007\", \"type\": \"scatter\", \"x\": [\"January\", \"February\", \"March\", \"April\", \"May\", \"June\", \"July\", \"August\", \"September\", \"October\", \"November\", \"December\"], \"y\": [36.5, 26.6, 43.6, 52.3, 71.5, 81.4, 80.5, 82.2, 76.0, 67.3, 46.1, 35.0]}, {\"line\": {\"color\": \"royalblue\", \"dash\": \"dash\", \"width\": 4}, \"name\": \"Low 2007\", \"type\": \"scatter\", \"x\": [\"January\", \"February\", \"March\", \"April\", \"May\", \"June\", \"July\", \"August\", \"September\", \"October\", \"November\", \"December\"], \"y\": [23.6, 14.0, 27.0, 36.8, 47.6, 57.7, 58.9, 61.2, 53.3, 48.5, 31.0, 23.6]}, {\"line\": {\"color\": \"firebrick\", \"dash\": \"dot\", \"width\": 4}, \"name\": \"High 2000\", \"type\": \"scatter\", \"x\": [\"January\", \"February\", \"March\", \"April\", \"May\", \"June\", \"July\", \"August\", \"September\", \"October\", \"November\", \"December\"], \"y\": [32.5, 37.6, 49.9, 53.0, 69.1, 75.4, 76.5, 76.6, 70.7, 60.6, 45.1, 29.3]}, {\"line\": {\"color\": \"royalblue\", \"dash\": \"dot\", \"width\": 4}, \"name\": \"Low 2000\", \"type\": \"scatter\", \"x\": [\"January\", \"February\", \"March\", \"April\", \"May\", \"June\", \"July\", \"August\", \"September\", \"October\", \"November\", \"December\"], \"y\": [13.8, 22.3, 32.5, 37.2, 49.9, 56.1, 57.7, 58.3, 51.2, 42.8, 31.6, 15.9]}],\n",
       "                        {\"template\": {\"data\": {\"bar\": [{\"error_x\": {\"color\": \"#2a3f5f\"}, \"error_y\": {\"color\": \"#2a3f5f\"}, \"marker\": {\"line\": {\"color\": \"#E5ECF6\", \"width\": 0.5}}, \"type\": \"bar\"}], \"barpolar\": [{\"marker\": {\"line\": {\"color\": \"#E5ECF6\", \"width\": 0.5}}, \"type\": \"barpolar\"}], \"carpet\": [{\"aaxis\": {\"endlinecolor\": \"#2a3f5f\", \"gridcolor\": \"white\", \"linecolor\": \"white\", \"minorgridcolor\": \"white\", \"startlinecolor\": \"#2a3f5f\"}, \"baxis\": {\"endlinecolor\": \"#2a3f5f\", \"gridcolor\": \"white\", \"linecolor\": \"white\", \"minorgridcolor\": \"white\", \"startlinecolor\": \"#2a3f5f\"}, \"type\": \"carpet\"}], \"choropleth\": [{\"colorbar\": {\"outlinewidth\": 0, \"ticks\": \"\"}, \"type\": \"choropleth\"}], \"contour\": [{\"colorbar\": {\"outlinewidth\": 0, \"ticks\": \"\"}, \"colorscale\": [[0.0, \"#0d0887\"], [0.1111111111111111, \"#46039f\"], [0.2222222222222222, \"#7201a8\"], [0.3333333333333333, \"#9c179e\"], [0.4444444444444444, \"#bd3786\"], [0.5555555555555556, \"#d8576b\"], [0.6666666666666666, \"#ed7953\"], [0.7777777777777778, \"#fb9f3a\"], [0.8888888888888888, \"#fdca26\"], [1.0, \"#f0f921\"]], \"type\": \"contour\"}], \"contourcarpet\": [{\"colorbar\": {\"outlinewidth\": 0, \"ticks\": \"\"}, \"type\": \"contourcarpet\"}], \"heatmap\": [{\"colorbar\": {\"outlinewidth\": 0, \"ticks\": \"\"}, \"colorscale\": [[0.0, \"#0d0887\"], [0.1111111111111111, \"#46039f\"], [0.2222222222222222, \"#7201a8\"], [0.3333333333333333, \"#9c179e\"], [0.4444444444444444, \"#bd3786\"], [0.5555555555555556, \"#d8576b\"], [0.6666666666666666, \"#ed7953\"], [0.7777777777777778, \"#fb9f3a\"], [0.8888888888888888, \"#fdca26\"], [1.0, \"#f0f921\"]], \"type\": \"heatmap\"}], \"heatmapgl\": [{\"colorbar\": {\"outlinewidth\": 0, \"ticks\": \"\"}, \"colorscale\": [[0.0, \"#0d0887\"], [0.1111111111111111, \"#46039f\"], [0.2222222222222222, \"#7201a8\"], [0.3333333333333333, \"#9c179e\"], [0.4444444444444444, \"#bd3786\"], [0.5555555555555556, \"#d8576b\"], [0.6666666666666666, \"#ed7953\"], [0.7777777777777778, \"#fb9f3a\"], [0.8888888888888888, \"#fdca26\"], [1.0, \"#f0f921\"]], \"type\": \"heatmapgl\"}], \"histogram\": [{\"marker\": {\"colorbar\": {\"outlinewidth\": 0, \"ticks\": \"\"}}, \"type\": \"histogram\"}], \"histogram2d\": [{\"colorbar\": {\"outlinewidth\": 0, \"ticks\": \"\"}, \"colorscale\": [[0.0, \"#0d0887\"], [0.1111111111111111, \"#46039f\"], [0.2222222222222222, \"#7201a8\"], [0.3333333333333333, \"#9c179e\"], [0.4444444444444444, \"#bd3786\"], [0.5555555555555556, \"#d8576b\"], [0.6666666666666666, \"#ed7953\"], [0.7777777777777778, \"#fb9f3a\"], [0.8888888888888888, \"#fdca26\"], [1.0, \"#f0f921\"]], \"type\": \"histogram2d\"}], \"histogram2dcontour\": [{\"colorbar\": {\"outlinewidth\": 0, \"ticks\": \"\"}, \"colorscale\": [[0.0, \"#0d0887\"], [0.1111111111111111, \"#46039f\"], [0.2222222222222222, \"#7201a8\"], [0.3333333333333333, \"#9c179e\"], [0.4444444444444444, \"#bd3786\"], [0.5555555555555556, \"#d8576b\"], [0.6666666666666666, \"#ed7953\"], [0.7777777777777778, \"#fb9f3a\"], [0.8888888888888888, \"#fdca26\"], [1.0, \"#f0f921\"]], \"type\": \"histogram2dcontour\"}], \"mesh3d\": [{\"colorbar\": {\"outlinewidth\": 0, \"ticks\": \"\"}, \"type\": \"mesh3d\"}], \"parcoords\": [{\"line\": {\"colorbar\": {\"outlinewidth\": 0, \"ticks\": \"\"}}, \"type\": \"parcoords\"}], \"scatter\": [{\"marker\": {\"colorbar\": {\"outlinewidth\": 0, \"ticks\": \"\"}}, \"type\": \"scatter\"}], \"scatter3d\": [{\"line\": {\"colorbar\": {\"outlinewidth\": 0, \"ticks\": \"\"}}, \"marker\": {\"colorbar\": {\"outlinewidth\": 0, \"ticks\": \"\"}}, \"type\": \"scatter3d\"}], \"scattercarpet\": [{\"marker\": {\"colorbar\": {\"outlinewidth\": 0, \"ticks\": \"\"}}, \"type\": \"scattercarpet\"}], \"scattergeo\": [{\"marker\": {\"colorbar\": {\"outlinewidth\": 0, \"ticks\": \"\"}}, \"type\": \"scattergeo\"}], \"scattergl\": [{\"marker\": {\"colorbar\": {\"outlinewidth\": 0, \"ticks\": \"\"}}, \"type\": \"scattergl\"}], \"scattermapbox\": [{\"marker\": {\"colorbar\": {\"outlinewidth\": 0, \"ticks\": \"\"}}, \"type\": \"scattermapbox\"}], \"scatterpolar\": [{\"marker\": {\"colorbar\": {\"outlinewidth\": 0, \"ticks\": \"\"}}, \"type\": \"scatterpolar\"}], \"scatterpolargl\": [{\"marker\": {\"colorbar\": {\"outlinewidth\": 0, \"ticks\": \"\"}}, \"type\": \"scatterpolargl\"}], \"scatterternary\": [{\"marker\": {\"colorbar\": {\"outlinewidth\": 0, \"ticks\": \"\"}}, \"type\": \"scatterternary\"}], \"surface\": [{\"colorbar\": {\"outlinewidth\": 0, \"ticks\": \"\"}, \"colorscale\": [[0.0, \"#0d0887\"], [0.1111111111111111, \"#46039f\"], [0.2222222222222222, \"#7201a8\"], [0.3333333333333333, \"#9c179e\"], [0.4444444444444444, \"#bd3786\"], [0.5555555555555556, \"#d8576b\"], [0.6666666666666666, \"#ed7953\"], [0.7777777777777778, \"#fb9f3a\"], [0.8888888888888888, \"#fdca26\"], [1.0, \"#f0f921\"]], \"type\": \"surface\"}], \"table\": [{\"cells\": {\"fill\": {\"color\": \"#EBF0F8\"}, \"line\": {\"color\": \"white\"}}, \"header\": {\"fill\": {\"color\": \"#C8D4E3\"}, \"line\": {\"color\": \"white\"}}, \"type\": \"table\"}]}, \"layout\": {\"annotationdefaults\": {\"arrowcolor\": \"#2a3f5f\", \"arrowhead\": 0, \"arrowwidth\": 1}, \"colorscale\": {\"diverging\": [[0, \"#8e0152\"], [0.1, \"#c51b7d\"], [0.2, \"#de77ae\"], [0.3, \"#f1b6da\"], [0.4, \"#fde0ef\"], [0.5, \"#f7f7f7\"], [0.6, \"#e6f5d0\"], [0.7, \"#b8e186\"], [0.8, \"#7fbc41\"], [0.9, \"#4d9221\"], [1, \"#276419\"]], \"sequential\": [[0.0, \"#0d0887\"], [0.1111111111111111, \"#46039f\"], [0.2222222222222222, \"#7201a8\"], [0.3333333333333333, \"#9c179e\"], [0.4444444444444444, \"#bd3786\"], [0.5555555555555556, \"#d8576b\"], [0.6666666666666666, \"#ed7953\"], [0.7777777777777778, \"#fb9f3a\"], [0.8888888888888888, \"#fdca26\"], [1.0, \"#f0f921\"]], \"sequentialminus\": [[0.0, \"#0d0887\"], [0.1111111111111111, \"#46039f\"], [0.2222222222222222, \"#7201a8\"], [0.3333333333333333, \"#9c179e\"], [0.4444444444444444, \"#bd3786\"], [0.5555555555555556, \"#d8576b\"], [0.6666666666666666, \"#ed7953\"], [0.7777777777777778, \"#fb9f3a\"], [0.8888888888888888, \"#fdca26\"], [1.0, \"#f0f921\"]]}, \"colorway\": [\"#636efa\", \"#EF553B\", \"#00cc96\", \"#ab63fa\", \"#FFA15A\", \"#19d3f3\", \"#FF6692\", \"#B6E880\", \"#FF97FF\", \"#FECB52\"], \"font\": {\"color\": \"#2a3f5f\"}, \"geo\": {\"bgcolor\": \"white\", \"lakecolor\": \"white\", \"landcolor\": \"#E5ECF6\", \"showlakes\": true, \"showland\": true, \"subunitcolor\": \"white\"}, \"hoverlabel\": {\"align\": \"left\"}, \"hovermode\": \"closest\", \"mapbox\": {\"style\": \"light\"}, \"paper_bgcolor\": \"white\", \"plot_bgcolor\": \"#E5ECF6\", \"polar\": {\"angularaxis\": {\"gridcolor\": \"white\", \"linecolor\": \"white\", \"ticks\": \"\"}, \"bgcolor\": \"#E5ECF6\", \"radialaxis\": {\"gridcolor\": \"white\", \"linecolor\": \"white\", \"ticks\": \"\"}}, \"scene\": {\"xaxis\": {\"backgroundcolor\": \"#E5ECF6\", \"gridcolor\": \"white\", \"gridwidth\": 2, \"linecolor\": \"white\", \"showbackground\": true, \"ticks\": \"\", \"zerolinecolor\": \"white\"}, \"yaxis\": {\"backgroundcolor\": \"#E5ECF6\", \"gridcolor\": \"white\", \"gridwidth\": 2, \"linecolor\": \"white\", \"showbackground\": true, \"ticks\": \"\", \"zerolinecolor\": \"white\"}, \"zaxis\": {\"backgroundcolor\": \"#E5ECF6\", \"gridcolor\": \"white\", \"gridwidth\": 2, \"linecolor\": \"white\", \"showbackground\": true, \"ticks\": \"\", \"zerolinecolor\": \"white\"}}, \"shapedefaults\": {\"line\": {\"color\": \"#2a3f5f\"}}, \"ternary\": {\"aaxis\": {\"gridcolor\": \"white\", \"linecolor\": \"white\", \"ticks\": \"\"}, \"baxis\": {\"gridcolor\": \"white\", \"linecolor\": \"white\", \"ticks\": \"\"}, \"bgcolor\": \"#E5ECF6\", \"caxis\": {\"gridcolor\": \"white\", \"linecolor\": \"white\", \"ticks\": \"\"}}, \"title\": {\"x\": 0.05}, \"xaxis\": {\"automargin\": true, \"gridcolor\": \"white\", \"linecolor\": \"white\", \"ticks\": \"\", \"zerolinecolor\": \"white\", \"zerolinewidth\": 2}, \"yaxis\": {\"automargin\": true, \"gridcolor\": \"white\", \"linecolor\": \"white\", \"ticks\": \"\", \"zerolinecolor\": \"white\", \"zerolinewidth\": 2}}}, \"title\": {\"text\": \"Average High and Low Temperatures in New York\"}, \"xaxis\": {\"title\": {\"text\": \"Month\"}}, \"yaxis\": {\"title\": {\"text\": \"Temperature (degrees F)\"}}},\n",
       "                        {\"responsive\": true}\n",
       "                    ).then(function(){\n",
       "                            \n",
       "var gd = document.getElementById('aea6d7a0-42c4-4761-b82b-7ba550ff716a');\n",
       "var x = new MutationObserver(function (mutations, observer) {{\n",
       "        var display = window.getComputedStyle(gd).display;\n",
       "        if (!display || display === 'none') {{\n",
       "            console.log([gd, 'removed!']);\n",
       "            Plotly.purge(gd);\n",
       "            observer.disconnect();\n",
       "        }}\n",
       "}});\n",
       "\n",
       "// Listen for the removal of the full notebook cells\n",
       "var notebookContainer = gd.closest('#notebook-container');\n",
       "if (notebookContainer) {{\n",
       "    x.observe(notebookContainer, {childList: true});\n",
       "}}\n",
       "\n",
       "// Listen for the clearing of the current output cell\n",
       "var outputEl = gd.closest('.output');\n",
       "if (outputEl) {{\n",
       "    x.observe(outputEl, {childList: true});\n",
       "}}\n",
       "\n",
       "                        })\n",
       "                };\n",
       "                });\n",
       "            </script>\n",
       "        </div>"
      ]
     },
     "metadata": {},
     "output_type": "display_data"
    }
   ],
   "source": [
    "import plotly.graph_objects as go\n",
    "\n",
    "# Add data\n",
    "month = ['January', 'February', 'March', 'April', 'May', 'June', 'July',\n",
    "         'August', 'September', 'October', 'November', 'December']\n",
    "high_2000 = [32.5, 37.6, 49.9, 53.0, 69.1, 75.4, 76.5, 76.6, 70.7, 60.6, 45.1, 29.3]\n",
    "low_2000 = [13.8, 22.3, 32.5, 37.2, 49.9, 56.1, 57.7, 58.3, 51.2, 42.8, 31.6, 15.9]\n",
    "high_2007 = [36.5, 26.6, 43.6, 52.3, 71.5, 81.4, 80.5, 82.2, 76.0, 67.3, 46.1, 35.0]\n",
    "low_2007 = [23.6, 14.0, 27.0, 36.8, 47.6, 57.7, 58.9, 61.2, 53.3, 48.5, 31.0, 23.6]\n",
    "high_2014 = [28.8, 28.5, 37.0, 56.8, 69.7, 79.7, 78.5, 77.8, 74.1, 62.6, 45.3, 39.9]\n",
    "low_2014 = [12.7, 14.3, 18.6, 35.5, 49.9, 58.0, 60.0, 58.6, 51.7, 45.2, 32.2, 29.1]\n",
    "\n",
    "fig = go.Figure()\n",
    "# Create and style traces\n",
    "fig.add_trace(go.Scatter(x=month, y=high_2014, name='High 2014',\n",
    "                         line=dict(color='firebrick', width=4)))\n",
    "fig.add_trace(go.Scatter(x=month, y=low_2014, name = 'Low 2014',\n",
    "                         line=dict(color='royalblue', width=4)))\n",
    "fig.add_trace(go.Scatter(x=month, y=high_2007, name='High 2007',\n",
    "                         line=dict(color='firebrick', width=4,\n",
    "                              dash='dash') # dash options include 'dash', 'dot', and 'dashdot'\n",
    "))\n",
    "fig.add_trace(go.Scatter(x=month, y=low_2007, name='Low 2007',\n",
    "                         line = dict(color='royalblue', width=4, dash='dash')))\n",
    "fig.add_trace(go.Scatter(x=month, y=high_2000, name='High 2000',\n",
    "                         line = dict(color='firebrick', width=4, dash='dot')))\n",
    "fig.add_trace(go.Scatter(x=month, y=low_2000, name='Low 2000',\n",
    "                         line=dict(color='royalblue', width=4, dash='dot')))\n",
    "\n",
    "# Edit the layout\n",
    "fig.update_layout(title='Average High and Low Temperatures in New York',\n",
    "                   xaxis_title='Month',\n",
    "                   yaxis_title='Temperature (degrees F)')\n",
    "\n",
    "\n",
    "fig.show()"
   ]
  },
  {
   "cell_type": "code",
   "execution_count": 82,
   "metadata": {},
   "outputs": [
    {
     "data": {
      "text/html": [
       "<div>\n",
       "<style scoped>\n",
       "    .dataframe tbody tr th:only-of-type {\n",
       "        vertical-align: middle;\n",
       "    }\n",
       "\n",
       "    .dataframe tbody tr th {\n",
       "        vertical-align: top;\n",
       "    }\n",
       "\n",
       "    .dataframe thead th {\n",
       "        text-align: right;\n",
       "    }\n",
       "</style>\n",
       "<table border=\"1\" class=\"dataframe\">\n",
       "  <thead>\n",
       "    <tr style=\"text-align: right;\">\n",
       "      <th></th>\n",
       "      <th>a</th>\n",
       "      <th>b</th>\n",
       "      <th>c</th>\n",
       "      <th>d</th>\n",
       "      <th>e</th>\n",
       "    </tr>\n",
       "  </thead>\n",
       "  <tbody>\n",
       "    <tr>\n",
       "      <th>a</th>\n",
       "      <td>1</td>\n",
       "      <td>1</td>\n",
       "      <td>1</td>\n",
       "      <td>1</td>\n",
       "      <td>1</td>\n",
       "    </tr>\n",
       "    <tr>\n",
       "      <th>b</th>\n",
       "      <td>2</td>\n",
       "      <td>2</td>\n",
       "      <td>2</td>\n",
       "      <td>2</td>\n",
       "      <td>2</td>\n",
       "    </tr>\n",
       "    <tr>\n",
       "      <th>c</th>\n",
       "      <td>3</td>\n",
       "      <td>3</td>\n",
       "      <td>3</td>\n",
       "      <td>3</td>\n",
       "      <td>3</td>\n",
       "    </tr>\n",
       "  </tbody>\n",
       "</table>\n",
       "</div>"
      ],
      "text/plain": [
       "   a  b  c  d  e\n",
       "a  1  1  1  1  1\n",
       "b  2  2  2  2  2\n",
       "c  3  3  3  3  3"
      ]
     },
     "execution_count": 82,
     "metadata": {},
     "output_type": "execute_result"
    }
   ],
   "source": [
    "df = pd.DataFrame({\n",
    "    'a':[1,2,3],\n",
    "    'b':[1,2,3],\n",
    "    'c':[1,2,3],\n",
    "    'd':[1,2,3],\n",
    "    'e':[1,2,3]\n",
    "},index=['a','b','c'])\n",
    "df"
   ]
  },
  {
   "cell_type": "code",
   "execution_count": 83,
   "metadata": {},
   "outputs": [
    {
     "data": {
      "text/plain": [
       "set()"
      ]
     },
     "execution_count": 83,
     "metadata": {},
     "output_type": "execute_result"
    }
   ],
   "source": [
    "set(df.index) - set(df.columns)"
   ]
  },
  {
   "cell_type": "code",
   "execution_count": 89,
   "metadata": {},
   "outputs": [
    {
     "data": {
      "text/html": [
       "<div>\n",
       "<style scoped>\n",
       "    .dataframe tbody tr th:only-of-type {\n",
       "        vertical-align: middle;\n",
       "    }\n",
       "\n",
       "    .dataframe tbody tr th {\n",
       "        vertical-align: top;\n",
       "    }\n",
       "\n",
       "    .dataframe thead th {\n",
       "        text-align: right;\n",
       "    }\n",
       "</style>\n",
       "<table border=\"1\" class=\"dataframe\">\n",
       "  <thead>\n",
       "    <tr style=\"text-align: right;\">\n",
       "      <th></th>\n",
       "      <th>a</th>\n",
       "      <th>b</th>\n",
       "      <th>c</th>\n",
       "      <th>d</th>\n",
       "      <th>e</th>\n",
       "    </tr>\n",
       "  </thead>\n",
       "  <tbody>\n",
       "    <tr>\n",
       "      <th>a</th>\n",
       "      <td>1.0</td>\n",
       "      <td>1.0</td>\n",
       "      <td>1.0</td>\n",
       "      <td>1.0</td>\n",
       "      <td>1.0</td>\n",
       "    </tr>\n",
       "    <tr>\n",
       "      <th>b</th>\n",
       "      <td>2.0</td>\n",
       "      <td>2.0</td>\n",
       "      <td>2.0</td>\n",
       "      <td>2.0</td>\n",
       "      <td>2.0</td>\n",
       "    </tr>\n",
       "    <tr>\n",
       "      <th>c</th>\n",
       "      <td>3.0</td>\n",
       "      <td>3.0</td>\n",
       "      <td>3.0</td>\n",
       "      <td>3.0</td>\n",
       "      <td>3.0</td>\n",
       "    </tr>\n",
       "    <tr>\n",
       "      <th>e</th>\n",
       "      <td>NaN</td>\n",
       "      <td>NaN</td>\n",
       "      <td>NaN</td>\n",
       "      <td>NaN</td>\n",
       "      <td>NaN</td>\n",
       "    </tr>\n",
       "    <tr>\n",
       "      <th>d</th>\n",
       "      <td>NaN</td>\n",
       "      <td>NaN</td>\n",
       "      <td>NaN</td>\n",
       "      <td>NaN</td>\n",
       "      <td>NaN</td>\n",
       "    </tr>\n",
       "  </tbody>\n",
       "</table>\n",
       "</div>"
      ],
      "text/plain": [
       "     a    b    c    d    e\n",
       "a  1.0  1.0  1.0  1.0  1.0\n",
       "b  2.0  2.0  2.0  2.0  2.0\n",
       "c  3.0  3.0  3.0  3.0  3.0\n",
       "e  NaN  NaN  NaN  NaN  NaN\n",
       "d  NaN  NaN  NaN  NaN  NaN"
      ]
     },
     "execution_count": 89,
     "metadata": {},
     "output_type": "execute_result"
    }
   ],
   "source": [
    "for missing_idx in set(df.columns) - set(df.index):\n",
    "    df.loc[missing_idx,df.columns] = np.nan\n",
    "df"
   ]
  },
  {
   "cell_type": "code",
   "execution_count": 79,
   "metadata": {},
   "outputs": [
    {
     "data": {
      "text/html": [
       "<div>\n",
       "<style scoped>\n",
       "    .dataframe tbody tr th:only-of-type {\n",
       "        vertical-align: middle;\n",
       "    }\n",
       "\n",
       "    .dataframe tbody tr th {\n",
       "        vertical-align: top;\n",
       "    }\n",
       "\n",
       "    .dataframe thead th {\n",
       "        text-align: right;\n",
       "    }\n",
       "</style>\n",
       "<table border=\"1\" class=\"dataframe\">\n",
       "  <thead>\n",
       "    <tr style=\"text-align: right;\">\n",
       "      <th></th>\n",
       "      <th>a</th>\n",
       "      <th>b</th>\n",
       "      <th>c</th>\n",
       "      <th>d</th>\n",
       "      <th>e</th>\n",
       "    </tr>\n",
       "  </thead>\n",
       "  <tbody>\n",
       "    <tr>\n",
       "      <th>a</th>\n",
       "      <td>1.0</td>\n",
       "      <td>1.0</td>\n",
       "      <td>1.0</td>\n",
       "      <td>1.0</td>\n",
       "      <td>1.0</td>\n",
       "    </tr>\n",
       "    <tr>\n",
       "      <th>b</th>\n",
       "      <td>2.0</td>\n",
       "      <td>2.0</td>\n",
       "      <td>2.0</td>\n",
       "      <td>2.0</td>\n",
       "      <td>2.0</td>\n",
       "    </tr>\n",
       "    <tr>\n",
       "      <th>c</th>\n",
       "      <td>3.0</td>\n",
       "      <td>3.0</td>\n",
       "      <td>3.0</td>\n",
       "      <td>3.0</td>\n",
       "      <td>3.0</td>\n",
       "    </tr>\n",
       "    <tr>\n",
       "      <th>d</th>\n",
       "      <td>NaN</td>\n",
       "      <td>NaN</td>\n",
       "      <td>NaN</td>\n",
       "      <td>NaN</td>\n",
       "      <td>NaN</td>\n",
       "    </tr>\n",
       "    <tr>\n",
       "      <th>e</th>\n",
       "      <td>NaN</td>\n",
       "      <td>NaN</td>\n",
       "      <td>NaN</td>\n",
       "      <td>NaN</td>\n",
       "      <td>NaN</td>\n",
       "    </tr>\n",
       "  </tbody>\n",
       "</table>\n",
       "</div>"
      ],
      "text/plain": [
       "     a    b    c    d    e\n",
       "a  1.0  1.0  1.0  1.0  1.0\n",
       "b  2.0  2.0  2.0  2.0  2.0\n",
       "c  3.0  3.0  3.0  3.0  3.0\n",
       "d  NaN  NaN  NaN  NaN  NaN\n",
       "e  NaN  NaN  NaN  NaN  NaN"
      ]
     },
     "execution_count": 79,
     "metadata": {},
     "output_type": "execute_result"
    }
   ],
   "source": [
    "for col in df.columns:\n",
    "    if not col in df.index:\n",
    "        df.loc[col,df.columns] = np.nan\n",
    "        \n",
    "df"
   ]
  },
  {
   "cell_type": "code",
   "execution_count": null,
   "metadata": {},
   "outputs": [],
   "source": [
    "set"
   ]
  },
  {
   "cell_type": "code",
   "execution_count": 93,
   "metadata": {},
   "outputs": [
    {
     "data": {
      "text/html": [
       "<div>\n",
       "<style scoped>\n",
       "    .dataframe tbody tr th:only-of-type {\n",
       "        vertical-align: middle;\n",
       "    }\n",
       "\n",
       "    .dataframe tbody tr th {\n",
       "        vertical-align: top;\n",
       "    }\n",
       "\n",
       "    .dataframe thead th {\n",
       "        text-align: right;\n",
       "    }\n",
       "</style>\n",
       "<table border=\"1\" class=\"dataframe\">\n",
       "  <thead>\n",
       "    <tr style=\"text-align: right;\">\n",
       "      <th></th>\n",
       "      <th>a</th>\n",
       "      <th>b</th>\n",
       "      <th>c</th>\n",
       "    </tr>\n",
       "  </thead>\n",
       "  <tbody>\n",
       "    <tr>\n",
       "      <th>a</th>\n",
       "      <td>1</td>\n",
       "      <td>1</td>\n",
       "      <td>1</td>\n",
       "    </tr>\n",
       "    <tr>\n",
       "      <th>b</th>\n",
       "      <td>2</td>\n",
       "      <td>2</td>\n",
       "      <td>2</td>\n",
       "    </tr>\n",
       "    <tr>\n",
       "      <th>c</th>\n",
       "      <td>3</td>\n",
       "      <td>3</td>\n",
       "      <td>3</td>\n",
       "    </tr>\n",
       "    <tr>\n",
       "      <th>d</th>\n",
       "      <td>4</td>\n",
       "      <td>4</td>\n",
       "      <td>4</td>\n",
       "    </tr>\n",
       "    <tr>\n",
       "      <th>e</th>\n",
       "      <td>5</td>\n",
       "      <td>5</td>\n",
       "      <td>5</td>\n",
       "    </tr>\n",
       "  </tbody>\n",
       "</table>\n",
       "</div>"
      ],
      "text/plain": [
       "   a  b  c\n",
       "a  1  1  1\n",
       "b  2  2  2\n",
       "c  3  3  3\n",
       "d  4  4  4\n",
       "e  5  5  5"
      ]
     },
     "execution_count": 93,
     "metadata": {},
     "output_type": "execute_result"
    }
   ],
   "source": [
    "df = pd.DataFrame({\n",
    "    'a':[1,2,3,4,5],\n",
    "    'b':[1,2,3,4,5],\n",
    "    'c':[1,2,3,4,5],\n",
    "},index=['a','b','c','d','e'])\n",
    "df"
   ]
  },
  {
   "cell_type": "code",
   "execution_count": 95,
   "metadata": {},
   "outputs": [
    {
     "data": {
      "text/html": [
       "<div>\n",
       "<style scoped>\n",
       "    .dataframe tbody tr th:only-of-type {\n",
       "        vertical-align: middle;\n",
       "    }\n",
       "\n",
       "    .dataframe tbody tr th {\n",
       "        vertical-align: top;\n",
       "    }\n",
       "\n",
       "    .dataframe thead th {\n",
       "        text-align: right;\n",
       "    }\n",
       "</style>\n",
       "<table border=\"1\" class=\"dataframe\">\n",
       "  <thead>\n",
       "    <tr style=\"text-align: right;\">\n",
       "      <th></th>\n",
       "      <th>a</th>\n",
       "      <th>b</th>\n",
       "      <th>c</th>\n",
       "      <th>e</th>\n",
       "      <th>d</th>\n",
       "    </tr>\n",
       "  </thead>\n",
       "  <tbody>\n",
       "    <tr>\n",
       "      <th>a</th>\n",
       "      <td>1</td>\n",
       "      <td>1</td>\n",
       "      <td>1</td>\n",
       "      <td>NaN</td>\n",
       "      <td>NaN</td>\n",
       "    </tr>\n",
       "    <tr>\n",
       "      <th>b</th>\n",
       "      <td>2</td>\n",
       "      <td>2</td>\n",
       "      <td>2</td>\n",
       "      <td>NaN</td>\n",
       "      <td>NaN</td>\n",
       "    </tr>\n",
       "    <tr>\n",
       "      <th>c</th>\n",
       "      <td>3</td>\n",
       "      <td>3</td>\n",
       "      <td>3</td>\n",
       "      <td>NaN</td>\n",
       "      <td>NaN</td>\n",
       "    </tr>\n",
       "    <tr>\n",
       "      <th>d</th>\n",
       "      <td>4</td>\n",
       "      <td>4</td>\n",
       "      <td>4</td>\n",
       "      <td>NaN</td>\n",
       "      <td>NaN</td>\n",
       "    </tr>\n",
       "    <tr>\n",
       "      <th>e</th>\n",
       "      <td>5</td>\n",
       "      <td>5</td>\n",
       "      <td>5</td>\n",
       "      <td>NaN</td>\n",
       "      <td>NaN</td>\n",
       "    </tr>\n",
       "  </tbody>\n",
       "</table>\n",
       "</div>"
      ],
      "text/plain": [
       "   a  b  c   e   d\n",
       "a  1  1  1 NaN NaN\n",
       "b  2  2  2 NaN NaN\n",
       "c  3  3  3 NaN NaN\n",
       "d  4  4  4 NaN NaN\n",
       "e  5  5  5 NaN NaN"
      ]
     },
     "execution_count": 95,
     "metadata": {},
     "output_type": "execute_result"
    }
   ],
   "source": [
    "for missing_column in set(df.index) - set(df.columns):\n",
    "    df[missing_column] = np.nan\n",
    "df"
   ]
  },
  {
   "cell_type": "code",
   "execution_count": 81,
   "metadata": {},
   "outputs": [
    {
     "data": {
      "text/html": [
       "<div>\n",
       "<style scoped>\n",
       "    .dataframe tbody tr th:only-of-type {\n",
       "        vertical-align: middle;\n",
       "    }\n",
       "\n",
       "    .dataframe tbody tr th {\n",
       "        vertical-align: top;\n",
       "    }\n",
       "\n",
       "    .dataframe thead th {\n",
       "        text-align: right;\n",
       "    }\n",
       "</style>\n",
       "<table border=\"1\" class=\"dataframe\">\n",
       "  <thead>\n",
       "    <tr style=\"text-align: right;\">\n",
       "      <th></th>\n",
       "      <th>a</th>\n",
       "      <th>b</th>\n",
       "      <th>c</th>\n",
       "      <th>d</th>\n",
       "      <th>e</th>\n",
       "    </tr>\n",
       "  </thead>\n",
       "  <tbody>\n",
       "    <tr>\n",
       "      <th>a</th>\n",
       "      <td>1</td>\n",
       "      <td>1</td>\n",
       "      <td>1</td>\n",
       "      <td>NaN</td>\n",
       "      <td>NaN</td>\n",
       "    </tr>\n",
       "    <tr>\n",
       "      <th>b</th>\n",
       "      <td>2</td>\n",
       "      <td>2</td>\n",
       "      <td>2</td>\n",
       "      <td>NaN</td>\n",
       "      <td>NaN</td>\n",
       "    </tr>\n",
       "    <tr>\n",
       "      <th>c</th>\n",
       "      <td>3</td>\n",
       "      <td>3</td>\n",
       "      <td>3</td>\n",
       "      <td>NaN</td>\n",
       "      <td>NaN</td>\n",
       "    </tr>\n",
       "    <tr>\n",
       "      <th>d</th>\n",
       "      <td>4</td>\n",
       "      <td>4</td>\n",
       "      <td>4</td>\n",
       "      <td>NaN</td>\n",
       "      <td>NaN</td>\n",
       "    </tr>\n",
       "    <tr>\n",
       "      <th>e</th>\n",
       "      <td>5</td>\n",
       "      <td>5</td>\n",
       "      <td>5</td>\n",
       "      <td>NaN</td>\n",
       "      <td>NaN</td>\n",
       "    </tr>\n",
       "  </tbody>\n",
       "</table>\n",
       "</div>"
      ],
      "text/plain": [
       "   a  b  c   d   e\n",
       "a  1  1  1 NaN NaN\n",
       "b  2  2  2 NaN NaN\n",
       "c  3  3  3 NaN NaN\n",
       "d  4  4  4 NaN NaN\n",
       "e  5  5  5 NaN NaN"
      ]
     },
     "execution_count": 81,
     "metadata": {},
     "output_type": "execute_result"
    }
   ],
   "source": [
    "for idx in df.index:\n",
    "    if not idx in df.columns:\n",
    "        df[idx] = np.nan\n",
    "df"
   ]
  },
  {
   "cell_type": "code",
   "execution_count": null,
   "metadata": {},
   "outputs": [],
   "source": []
  }
 ],
 "metadata": {
  "kernelspec": {
   "display_name": "ephys_eyetracking",
   "language": "python",
   "name": "ephys_eyetracking"
  },
  "language_info": {
   "codemirror_mode": {
    "name": "ipython",
    "version": 3
   },
   "file_extension": ".py",
   "mimetype": "text/x-python",
   "name": "python",
   "nbconvert_exporter": "python",
   "pygments_lexer": "ipython3",
   "version": "3.7.5"
  }
 },
 "nbformat": 4,
 "nbformat_minor": 2
}
