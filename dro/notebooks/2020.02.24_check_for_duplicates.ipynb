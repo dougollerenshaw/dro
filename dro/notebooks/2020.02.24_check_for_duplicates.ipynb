{
 "cells": [
  {
   "cell_type": "code",
   "execution_count": 1,
   "metadata": {},
   "outputs": [
    {
     "data": {
      "text/html": [
       "<style>.container { width:100% !important; }</style>"
      ],
      "text/plain": [
       "<IPython.core.display.HTML object>"
      ]
     },
     "metadata": {},
     "output_type": "display_data"
    }
   ],
   "source": [
    "import imageio\n",
    "import time\n",
    "import shutil\n",
    "\n",
    "import ipywidgets as widgets\n",
    "\n",
    "%widescreen"
   ]
  },
  {
   "cell_type": "code",
   "execution_count": 5,
   "metadata": {},
   "outputs": [
    {
     "name": "stdout",
     "output_type": "stream",
     "text": [
      "CPU times: user 4 µs, sys: 3 µs, total: 7 µs\n",
      "Wall time: 13.8 µs\n",
      "8333\n"
     ]
    }
   ],
   "source": [
    "%time\n",
    "base_folders = [\n",
    "    '/allen/programs/braintv/workgroups/nc-ophys/visual_behavior/lick_detection_validation/models/three_class_model',\n",
    "]\n",
    "n_files = 0\n",
    "for base_folder in base_folders:\n",
    "    for subfolder in ['train','test','validate']:\n",
    "        for label in ['no_contact','tongue','paw']:\n",
    "            n_files += len(os.listdir(os.path.join(base_folder,subfolder,label)))\n",
    "print(n_files)"
   ]
  },
  {
   "cell_type": "code",
   "execution_count": 8,
   "metadata": {},
   "outputs": [],
   "source": [
    "list_of_dicts = []\n",
    "for base_folder in base_folders:\n",
    "    for subfolder in ['train','test','validate']:\n",
    "        for label in ['no_contact','tongue','paw']:\n",
    "            for filename in os.listdir(os.path.join(base_folder, subfolder, label)):\n",
    "                _d = {\n",
    "                    'filename':filename,\n",
    "                    'foldername':subfolder+'/'+label\n",
    "                }\n",
    "                list_of_dicts.append(_d)\n",
    "df = pd.DataFrame(list_of_dicts)"
   ]
  },
  {
   "cell_type": "code",
   "execution_count": 9,
   "metadata": {},
   "outputs": [
    {
     "data": {
      "text/html": [
       "<div>\n",
       "<style scoped>\n",
       "    .dataframe tbody tr th:only-of-type {\n",
       "        vertical-align: middle;\n",
       "    }\n",
       "\n",
       "    .dataframe tbody tr th {\n",
       "        vertical-align: top;\n",
       "    }\n",
       "\n",
       "    .dataframe thead th {\n",
       "        text-align: right;\n",
       "    }\n",
       "</style>\n",
       "<table border=\"1\" class=\"dataframe\">\n",
       "  <thead>\n",
       "    <tr style=\"text-align: right;\">\n",
       "      <th></th>\n",
       "      <th>filename</th>\n",
       "      <th>foldername</th>\n",
       "    </tr>\n",
       "  </thead>\n",
       "  <tbody>\n",
       "    <tr>\n",
       "      <th>2531</th>\n",
       "      <td>Thumbs.db</td>\n",
       "      <td>train/no_contact</td>\n",
       "    </tr>\n",
       "    <tr>\n",
       "      <th>5311</th>\n",
       "      <td>Thumbs.db</td>\n",
       "      <td>train/tongue</td>\n",
       "    </tr>\n",
       "    <tr>\n",
       "      <th>6444</th>\n",
       "      <td>Thumbs.db</td>\n",
       "      <td>train/paw</td>\n",
       "    </tr>\n",
       "    <tr>\n",
       "      <th>6976</th>\n",
       "      <td>Thumbs.db</td>\n",
       "      <td>test/no_contact</td>\n",
       "    </tr>\n",
       "    <tr>\n",
       "      <th>7317</th>\n",
       "      <td>Thumbs.db</td>\n",
       "      <td>test/tongue</td>\n",
       "    </tr>\n",
       "    <tr>\n",
       "      <th>7467</th>\n",
       "      <td>Thumbs.db</td>\n",
       "      <td>test/paw</td>\n",
       "    </tr>\n",
       "    <tr>\n",
       "      <th>7797</th>\n",
       "      <td>Thumbs.db</td>\n",
       "      <td>validate/no_contact</td>\n",
       "    </tr>\n",
       "    <tr>\n",
       "      <th>8138</th>\n",
       "      <td>Thumbs.db</td>\n",
       "      <td>validate/tongue</td>\n",
       "    </tr>\n",
       "    <tr>\n",
       "      <th>8305</th>\n",
       "      <td>Thumbs.db</td>\n",
       "      <td>validate/paw</td>\n",
       "    </tr>\n",
       "  </tbody>\n",
       "</table>\n",
       "</div>"
      ],
      "text/plain": [
       "       filename           foldername\n",
       "2531  Thumbs.db     train/no_contact\n",
       "5311  Thumbs.db         train/tongue\n",
       "6444  Thumbs.db            train/paw\n",
       "6976  Thumbs.db      test/no_contact\n",
       "7317  Thumbs.db          test/tongue\n",
       "7467  Thumbs.db             test/paw\n",
       "7797  Thumbs.db  validate/no_contact\n",
       "8138  Thumbs.db      validate/tongue\n",
       "8305  Thumbs.db         validate/paw"
      ]
     },
     "execution_count": 9,
     "metadata": {},
     "output_type": "execute_result"
    }
   ],
   "source": [
    "df_duplicated = df[df.duplicated('filename',keep=False)].sort_values(by='filename')\n",
    "df_duplicated"
   ]
  },
  {
   "cell_type": "code",
   "execution_count": 38,
   "metadata": {},
   "outputs": [],
   "source": [
    "for filename in df_duplicated['filename'].unique():\n",
    "    foldernames = df.query('filename == @filename').foldername\n",
    "    for foldername in foldernames:\n",
    "        if foldername is not 'app_annotated_ambiguous':\n",
    "            src = os.path.join('/allen/programs/braintv/workgroups/nc-ophys/visual_behavior/lick_detection_validation',foldername,filename)\n",
    "            dst = os.path.join('/allen/programs/braintv/workgroups/nc-ophys/visual_behavior/lick_detection_validation','app_annotated_ambiguous',filename)\n",
    "            shutil.move(src,dst)\n",
    "    "
   ]
  },
  {
   "cell_type": "code",
   "execution_count": null,
   "metadata": {},
   "outputs": [],
   "source": []
  }
 ],
 "metadata": {
  "kernelspec": {
   "display_name": "visual_behavior",
   "language": "python",
   "name": "visual_behavior"
  },
  "language_info": {
   "codemirror_mode": {
    "name": "ipython",
    "version": 3
   },
   "file_extension": ".py",
   "mimetype": "text/x-python",
   "name": "python",
   "nbconvert_exporter": "python",
   "pygments_lexer": "ipython3",
   "version": "3.7.3"
  }
 },
 "nbformat": 4,
 "nbformat_minor": 2
}
