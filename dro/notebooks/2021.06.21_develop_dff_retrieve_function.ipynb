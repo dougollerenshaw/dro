{
 "cells": [
  {
   "cell_type": "code",
   "execution_count": 56,
   "metadata": {},
   "outputs": [],
   "source": [
    "from visual_behavior import database as db\n",
    "from visual_behavior.data_access import from_lims, loading\n",
    "import pandas as pd"
   ]
  },
  {
   "cell_type": "code",
   "execution_count": 72,
   "metadata": {},
   "outputs": [],
   "source": [
    "%load_ext autoreload\n",
    "%autoreload 2"
   ]
  },
  {
   "cell_type": "code",
   "execution_count": 2,
   "metadata": {},
   "outputs": [
    {
     "data": {
      "text/html": [
       "<style>.container { width:100% !important; }</style>"
      ],
      "text/plain": [
       "<IPython.core.display.HTML object>"
      ]
     },
     "metadata": {},
     "output_type": "display_data"
    }
   ],
   "source": [
    "from IPython.core.display import display, HTML\n",
    "display(HTML(\"<style>.container { width:100% !important; }</style>\"))"
   ]
  },
  {
   "cell_type": "code",
   "execution_count": 57,
   "metadata": {},
   "outputs": [],
   "source": [
    "cell_table = loading.get_cell_table()"
   ]
  },
  {
   "cell_type": "code",
   "execution_count": 3,
   "metadata": {},
   "outputs": [],
   "source": [
    "cell_specimen_id = 1086489640\n",
    "oeid_good = 882520593\n",
    "oeid_bad = 888666698"
   ]
  },
  {
   "cell_type": "code",
   "execution_count": 128,
   "metadata": {},
   "outputs": [
    {
     "data": {
      "text/html": [
       "<div>\n",
       "<style scoped>\n",
       "    .dataframe tbody tr th:only-of-type {\n",
       "        vertical-align: middle;\n",
       "    }\n",
       "\n",
       "    .dataframe tbody tr th {\n",
       "        vertical-align: top;\n",
       "    }\n",
       "\n",
       "    .dataframe thead th {\n",
       "        text-align: right;\n",
       "    }\n",
       "</style>\n",
       "<table border=\"1\" class=\"dataframe\">\n",
       "  <thead>\n",
       "    <tr style=\"text-align: right;\">\n",
       "      <th></th>\n",
       "      <th>cell_roi_id</th>\n",
       "      <th>cell_specimen_id</th>\n",
       "      <th>ophys_experiment_id</th>\n",
       "      <th>x</th>\n",
       "      <th>y</th>\n",
       "      <th>width</th>\n",
       "      <th>height</th>\n",
       "      <th>valid_roi</th>\n",
       "      <th>mask_matrix</th>\n",
       "      <th>max_correction_up</th>\n",
       "      <th>max_correction_down</th>\n",
       "      <th>max_correction_right</th>\n",
       "      <th>max_correction_left</th>\n",
       "      <th>mask_image_plane</th>\n",
       "      <th>ophys_cell_segmentation_run_id</th>\n",
       "    </tr>\n",
       "  </thead>\n",
       "  <tbody>\n",
       "    <tr>\n",
       "      <th>49394</th>\n",
       "      <td>1080867088</td>\n",
       "      <td>1086489640</td>\n",
       "      <td>882520593</td>\n",
       "      <td>249</td>\n",
       "      <td>209</td>\n",
       "      <td>20</td>\n",
       "      <td>21</td>\n",
       "      <td>True</td>\n",
       "      <td>[[False, False, False, False, False, False, Fa...</td>\n",
       "      <td>8.0</td>\n",
       "      <td>6.0</td>\n",
       "      <td>23.0</td>\n",
       "      <td>6.0</td>\n",
       "      <td>1</td>\n",
       "      <td>1080721914</td>\n",
       "    </tr>\n",
       "  </tbody>\n",
       "</table>\n",
       "</div>"
      ],
      "text/plain": [
       "       cell_roi_id  cell_specimen_id  ophys_experiment_id    x    y  width  \\\n",
       "49394   1080867088        1086489640            882520593  249  209     20   \n",
       "\n",
       "       height  valid_roi                                        mask_matrix  \\\n",
       "49394      21       True  [[False, False, False, False, False, False, Fa...   \n",
       "\n",
       "       max_correction_up  max_correction_down  max_correction_right  \\\n",
       "49394                8.0                  6.0                  23.0   \n",
       "\n",
       "       max_correction_left  mask_image_plane  ophys_cell_segmentation_run_id  \n",
       "49394                  6.0                 1                      1080721914  "
      ]
     },
     "execution_count": 128,
     "metadata": {},
     "output_type": "execute_result"
    }
   ],
   "source": [
    "cell_table.query('cell_specimen_id == @cell_specimen_id and ophys_experiment_id == 882520593')"
   ]
  },
  {
   "cell_type": "code",
   "execution_count": 8,
   "metadata": {},
   "outputs": [
    {
     "data": {
      "text/plain": [
       "882351065"
      ]
     },
     "execution_count": 8,
     "metadata": {},
     "output_type": "execute_result"
    }
   ],
   "source": [
    "osid_good = from_lims.get_ophys_session_id_for_ophys_experiment_id(oeid_good)\n",
    "osid_good"
   ]
  },
  {
   "cell_type": "code",
   "execution_count": 12,
   "metadata": {},
   "outputs": [
    {
     "data": {
      "text/plain": [
       "888190799"
      ]
     },
     "execution_count": 12,
     "metadata": {},
     "output_type": "execute_result"
    }
   ],
   "source": [
    "osid_bad = from_lims.get_ophys_session_id_for_ophys_experiment_id(oeid_bad)\n",
    "osid_bad"
   ]
  },
  {
   "cell_type": "code",
   "execution_count": 78,
   "metadata": {},
   "outputs": [
    {
     "data": {
      "text/plain": [
       "True"
      ]
     },
     "execution_count": 78,
     "metadata": {},
     "output_type": "execute_result"
    }
   ],
   "source": [
    "wkf_bad = db.get_well_known_files(oeid_bad, attachable_id_type='OphysExperiment')\n",
    "asset in wkf_bad.index.to_list()"
   ]
  },
  {
   "cell_type": "code",
   "execution_count": 104,
   "metadata": {},
   "outputs": [
    {
     "data": {
      "text/plain": [
       "['BehaviorOphysNwb',\n",
       " 'OphysTimeSynchronization',\n",
       " 'OphysEventTraceFile',\n",
       " 'OphysDffTraceFile',\n",
       " 'NeuropilCorrection',\n",
       " 'OphysNeuropilTraces',\n",
       " 'OphysRoiTraces',\n",
       " 'OphysExtractedTracesInputJson',\n",
       " 'OphysMotionPreview',\n",
       " 'OphysMotionXyOffsetData',\n",
       " 'MotionCorrectedImageStack',\n",
       " 'OphysRegistrationSummaryImage',\n",
       " 'OphysAverageIntensityProjectionImage',\n",
       " 'DemixedTracesFile']"
      ]
     },
     "execution_count": 104,
     "metadata": {},
     "output_type": "execute_result"
    }
   ],
   "source": [
    "wkf_bad.index.to_list()"
   ]
  },
  {
   "cell_type": "code",
   "execution_count": 105,
   "metadata": {},
   "outputs": [
    {
     "data": {
      "text/plain": [
       "'/allen/programs/braintv/production/visualbehavior/prod0/specimen_842724854/ophys_session_888190799/ophys_experiment_888666698/888666698_dff.h5'"
      ]
     },
     "execution_count": 105,
     "metadata": {},
     "output_type": "execute_result"
    }
   ],
   "source": [
    "asset = 'OphysDffTraceFile'\n",
    "traces = ''.join([wkf_bad.loc[asset]['storage_directory'], wkf_bad.loc[asset]['filename']])\n",
    "traces"
   ]
  },
  {
   "cell_type": "code",
   "execution_count": 107,
   "metadata": {},
   "outputs": [
    {
     "name": "stdout",
     "output_type": "stream",
     "text": [
      "CPU times: user 4.88 ms, sys: 201 µs, total: 5.08 ms\n",
      "Wall time: 12.4 ms\n"
     ]
    }
   ],
   "source": [
    "%%time\n",
    "traces = from_lims.get_well_known_file_path(oeid_bad, 'OphysExperiment', 'OphysDffTraceFile')"
   ]
  },
  {
   "cell_type": "code",
   "execution_count": 108,
   "metadata": {},
   "outputs": [],
   "source": [
    "hf = h5py.File(traces, 'r')"
   ]
  },
  {
   "cell_type": "code",
   "execution_count": 109,
   "metadata": {},
   "outputs": [
    {
     "data": {
      "text/plain": [
       "<KeysViewHDF5 ['data', 'num_small_baseline_frames', 'roi_names', 'sigma_dff']>"
      ]
     },
     "execution_count": 109,
     "metadata": {},
     "output_type": "execute_result"
    }
   ],
   "source": [
    "hf.keys()"
   ]
  },
  {
   "cell_type": "code",
   "execution_count": 110,
   "metadata": {},
   "outputs": [],
   "source": [
    "data = hf.get('data')"
   ]
  },
  {
   "cell_type": "code",
   "execution_count": 140,
   "metadata": {},
   "outputs": [
    {
     "name": "stdout",
     "output_type": "stream",
     "text": [
      "CPU times: user 11.8 ms, sys: 0 ns, total: 11.8 ms\n",
      "Wall time: 11.8 ms\n"
     ]
    }
   ],
   "source": [
    "%%time\n",
    "roi_ids = [roi_name.decode(\"utf-8\") for roi_name in hf.get('roi_names')]"
   ]
  },
  {
   "cell_type": "code",
   "execution_count": null,
   "metadata": {},
   "outputs": [],
   "source": []
  },
  {
   "cell_type": "code",
   "execution_count": 112,
   "metadata": {},
   "outputs": [],
   "source": [
    "cell_roi_id = 1080853168"
   ]
  },
  {
   "cell_type": "code",
   "execution_count": 113,
   "metadata": {},
   "outputs": [
    {
     "data": {
      "text/plain": [
       "<module 'visual_behavior.data_access.from_lims' from '/allen/programs/braintv/workgroups/nc-ophys/Doug/code/visual_behavior_analysis/visual_behavior/data_access/from_lims.py'>"
      ]
     },
     "execution_count": 113,
     "metadata": {},
     "output_type": "execute_result"
    }
   ],
   "source": [
    "from importlib import reload\n",
    "reload(from_lims)"
   ]
  },
  {
   "cell_type": "code",
   "execution_count": 119,
   "metadata": {},
   "outputs": [
    {
     "data": {
      "text/plain": [
       "[\"b'1080852550'\",\n",
       " \"b'1080852556'\",\n",
       " \"b'1080852561'\",\n",
       " \"b'1080852569'\",\n",
       " \"b'1080852573'\",\n",
       " \"b'1080852576'\",\n",
       " \"b'1080852579'\",\n",
       " \"b'1080852584'\",\n",
       " \"b'1080852588'\",\n",
       " \"b'1080852592'\",\n",
       " \"b'1080852597'\",\n",
       " \"b'1080852601'\",\n",
       " \"b'1080852603'\",\n",
       " \"b'1080852606'\",\n",
       " \"b'1080852610'\",\n",
       " \"b'1080852613'\",\n",
       " \"b'1080852617'\",\n",
       " \"b'1080852621'\",\n",
       " \"b'1080852625'\",\n",
       " \"b'1080852628'\",\n",
       " \"b'1080852631'\",\n",
       " \"b'1080852636'\",\n",
       " \"b'1080852640'\",\n",
       " \"b'1080852646'\",\n",
       " \"b'1080852649'\",\n",
       " \"b'1080852655'\",\n",
       " \"b'1080852658'\",\n",
       " \"b'1080852661'\",\n",
       " \"b'1080852664'\",\n",
       " \"b'1080852668'\",\n",
       " \"b'1080852671'\",\n",
       " \"b'1080852676'\",\n",
       " \"b'1080852680'\",\n",
       " \"b'1080852682'\",\n",
       " \"b'1080852686'\",\n",
       " \"b'1080852689'\",\n",
       " \"b'1080852691'\",\n",
       " \"b'1080852695'\",\n",
       " \"b'1080852699'\",\n",
       " \"b'1080852703'\",\n",
       " \"b'1080852707'\",\n",
       " \"b'1080852708'\",\n",
       " \"b'1080852712'\",\n",
       " \"b'1080852717'\",\n",
       " \"b'1080852720'\",\n",
       " \"b'1080852724'\",\n",
       " \"b'1080852727'\",\n",
       " \"b'1080852732'\",\n",
       " \"b'1080852736'\",\n",
       " \"b'1080852739'\",\n",
       " \"b'1080852743'\",\n",
       " \"b'1080852746'\",\n",
       " \"b'1080852752'\",\n",
       " \"b'1080852754'\",\n",
       " \"b'1080852757'\",\n",
       " \"b'1080852760'\",\n",
       " \"b'1080852764'\",\n",
       " \"b'1080852768'\",\n",
       " \"b'1080852772'\",\n",
       " \"b'1080852776'\",\n",
       " \"b'1080852779'\",\n",
       " \"b'1080852784'\",\n",
       " \"b'1080852789'\",\n",
       " \"b'1080852792'\",\n",
       " \"b'1080852795'\",\n",
       " \"b'1080852801'\",\n",
       " \"b'1080852805'\",\n",
       " \"b'1080852809'\",\n",
       " \"b'1080852813'\",\n",
       " \"b'1080852818'\",\n",
       " \"b'1080852822'\",\n",
       " \"b'1080852829'\",\n",
       " \"b'1080852833'\",\n",
       " \"b'1080852839'\",\n",
       " \"b'1080852845'\",\n",
       " \"b'1080852850'\",\n",
       " \"b'1080852854'\",\n",
       " \"b'1080852857'\",\n",
       " \"b'1080852862'\",\n",
       " \"b'1080852867'\",\n",
       " \"b'1080852871'\",\n",
       " \"b'1080852875'\",\n",
       " \"b'1080852879'\",\n",
       " \"b'1080852884'\",\n",
       " \"b'1080852888'\",\n",
       " \"b'1080852894'\",\n",
       " \"b'1080852898'\",\n",
       " \"b'1080852902'\",\n",
       " \"b'1080852906'\",\n",
       " \"b'1080852913'\",\n",
       " \"b'1080852917'\",\n",
       " \"b'1080852923'\",\n",
       " \"b'1080852927'\",\n",
       " \"b'1080852931'\",\n",
       " \"b'1080852935'\",\n",
       " \"b'1080852939'\",\n",
       " \"b'1080852943'\",\n",
       " \"b'1080852948'\",\n",
       " \"b'1080852952'\",\n",
       " \"b'1080852958'\",\n",
       " \"b'1080852961'\",\n",
       " \"b'1080852968'\",\n",
       " \"b'1080852973'\",\n",
       " \"b'1080852977'\",\n",
       " \"b'1080852984'\",\n",
       " \"b'1080852990'\",\n",
       " \"b'1080852994'\",\n",
       " \"b'1080853004'\",\n",
       " \"b'1080853010'\",\n",
       " \"b'1080853017'\",\n",
       " \"b'1080853025'\",\n",
       " \"b'1080853030'\",\n",
       " \"b'1080853034'\",\n",
       " \"b'1080853040'\",\n",
       " \"b'1080853045'\",\n",
       " \"b'1080853052'\",\n",
       " \"b'1080853059'\",\n",
       " \"b'1080853064'\",\n",
       " \"b'1080853070'\",\n",
       " \"b'1080853076'\",\n",
       " \"b'1080853082'\",\n",
       " \"b'1080853087'\",\n",
       " \"b'1080853090'\",\n",
       " \"b'1080853093'\",\n",
       " \"b'1080853098'\",\n",
       " \"b'1080853103'\",\n",
       " \"b'1080853108'\",\n",
       " \"b'1080853116'\",\n",
       " \"b'1080853119'\",\n",
       " \"b'1080853123'\",\n",
       " \"b'1080853127'\",\n",
       " \"b'1080853133'\",\n",
       " \"b'1080853138'\",\n",
       " \"b'1080853141'\",\n",
       " \"b'1080853147'\",\n",
       " \"b'1080853151'\",\n",
       " \"b'1080853155'\",\n",
       " \"b'1080853159'\",\n",
       " \"b'1080853162'\",\n",
       " \"b'1080853168'\",\n",
       " \"b'1080853175'\",\n",
       " \"b'1080853178'\",\n",
       " \"b'1080853182'\",\n",
       " \"b'1080853186'\",\n",
       " \"b'1080853189'\",\n",
       " \"b'1080853195'\",\n",
       " \"b'1080853198'\",\n",
       " \"b'1080853201'\",\n",
       " \"b'1080853205'\",\n",
       " \"b'1080853208'\",\n",
       " \"b'1080853212'\",\n",
       " \"b'1080853215'\",\n",
       " \"b'1080853220'\",\n",
       " \"b'1080853225'\",\n",
       " \"b'1080853229'\",\n",
       " \"b'1080853231'\",\n",
       " \"b'1080853235'\",\n",
       " \"b'1080853237'\",\n",
       " \"b'1080853240'\",\n",
       " \"b'1080853241'\",\n",
       " \"b'1080853242'\",\n",
       " \"b'1080853243'\",\n",
       " \"b'1080853244'\",\n",
       " \"b'1080853245'\",\n",
       " \"b'1080853246'\",\n",
       " \"b'1080853247'\",\n",
       " \"b'1080853248'\",\n",
       " \"b'1080853250'\",\n",
       " \"b'1080853251'\",\n",
       " \"b'1080853252'\"]"
      ]
     },
     "execution_count": 119,
     "metadata": {},
     "output_type": "execute_result"
    }
   ],
   "source": []
  },
  {
   "cell_type": "code",
   "execution_count": 75,
   "metadata": {},
   "outputs": [
    {
     "data": {
      "text/plain": [
       "888666698"
      ]
     },
     "execution_count": 75,
     "metadata": {},
     "output_type": "execute_result"
    }
   ],
   "source": []
  },
  {
   "cell_type": "code",
   "execution_count": 91,
   "metadata": {},
   "outputs": [],
   "source": [
    "def get_dff_traces_for_roi(cell_roi_id):\n",
    "    # get associated experiment_id\n",
    "    ophys_experiment_id = from_lims.get_ophys_experiment_id_for_cell_roi_id(cell_roi_id)\n",
    "    \n",
    "    # get roi_traces filepath\n",
    "    roi_traces = from_lims.get_well_known_file_path(oeid_bad, 'OphysExperiment', 'OphysRoiTraces')\n",
    "    \n",
    "    f = h5py.File(roi_traces, 'r')\n",
    "    \n",
    "    # get index for associated roi\n",
    "    roi_index = list(roi_ids).index(str(cell_roi_id))\n",
    "    \n",
    "    # get corresponding data\n",
    "    dff_data = hf.get('data')\n",
    "    dff = dff_data[roi_index]\n",
    "    \n",
    "    # close file\n",
    "    f.close()\n",
    "    \n",
    "    return dff"
   ]
  },
  {
   "cell_type": "code",
   "execution_count": 129,
   "metadata": {},
   "outputs": [],
   "source": [
    "cell_roi_id = 1080867088"
   ]
  },
  {
   "cell_type": "code",
   "execution_count": 143,
   "metadata": {},
   "outputs": [
    {
     "name": "stdout",
     "output_type": "stream",
     "text": [
      "CPU times: user 34.8 ms, sys: 586 µs, total: 35.4 ms\n",
      "Wall time: 69 ms\n"
     ]
    }
   ],
   "source": [
    "%%time\n",
    "dff = loading.get_dff_traces_for_roi(cell_roi_id)"
   ]
  },
  {
   "cell_type": "code",
   "execution_count": 144,
   "metadata": {},
   "outputs": [
    {
     "data": {
      "text/plain": [
       "True"
      ]
     },
     "execution_count": 144,
     "metadata": {},
     "output_type": "execute_result"
    }
   ],
   "source": [
    "import numpy as np\n",
    "np.isclose(dff[100],-0.13958465)"
   ]
  },
  {
   "cell_type": "code",
   "execution_count": 132,
   "metadata": {},
   "outputs": [
    {
     "data": {
      "text/plain": [
       "882520593"
      ]
     },
     "execution_count": 132,
     "metadata": {},
     "output_type": "execute_result"
    }
   ],
   "source": [
    "query_string = '''\n",
    "select ophys_experiment_id\n",
    "from cell_rois\n",
    "where id = {}\n",
    "'''\n",
    "db.lims_query(query_string.format(cell_roi_id))"
   ]
  },
  {
   "cell_type": "code",
   "execution_count": 133,
   "metadata": {},
   "outputs": [
    {
     "data": {
      "text/plain": [
       "[<matplotlib.lines.Line2D at 0x7f9c47533580>]"
      ]
     },
     "execution_count": 133,
     "metadata": {},
     "output_type": "execute_result"
    },
    {
     "data": {
      "image/png": "[encoded data removed]",
      "text/plain": [
       "<Figure size 432x288 with 1 Axes>"
      ]
     },
     "metadata": {
      "needs_background": "light"
     },
     "output_type": "display_data"
    }
   ],
   "source": [
    "import matplotlib.pyplot as plt\n",
    "fig, ax = plt.subplots()\n",
    "ax.plot(dff)"
   ]
  },
  {
   "cell_type": "code",
   "execution_count": null,
   "metadata": {},
   "outputs": [],
   "source": [
    "query_string = '''\n",
    "    select id\n",
    "    from cell_rois\n",
    "    where cell_specimen_id = {} and ophys_experiment_id = {}\n",
    "'''\n",
    "db.lims_query()"
   ]
  }
 ],
 "metadata": {
  "kernelspec": {
   "display_name": "vba",
   "language": "python",
   "name": "vba"
  },
  "language_info": {
   "codemirror_mode": {
    "name": "ipython",
    "version": 3
   },
   "file_extension": ".py",
   "mimetype": "text/x-python",
   "name": "python",
   "nbconvert_exporter": "python",
   "pygments_lexer": "ipython3",
   "version": "3.8.8"
  }
 },
 "nbformat": 4,
 "nbformat_minor": 4
}
