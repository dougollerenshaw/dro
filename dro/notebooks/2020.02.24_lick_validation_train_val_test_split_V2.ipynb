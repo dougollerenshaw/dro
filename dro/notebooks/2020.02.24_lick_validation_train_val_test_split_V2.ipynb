{
 "cells": [
  {
   "cell_type": "code",
   "execution_count": 15,
   "metadata": {},
   "outputs": [],
   "source": [
    "import pandas as pd\n",
    "import os\n",
    "from tqdm import tqdm\n",
    "import shutil"
   ]
  },
  {
   "cell_type": "code",
   "execution_count": 20,
   "metadata": {},
   "outputs": [
    {
     "data": {
      "text/plain": [
       "'//allen/programs/braintv/workgroups/nc-ophys/visual_behavior/lick_detection_validation/app_annotated_frames'"
      ]
     },
     "execution_count": 20,
     "metadata": {},
     "output_type": "execute_result"
    }
   ],
   "source": [
    "new_image_path = r'//allen/programs/braintv/workgroups/nc-ophys/visual_behavior/lick_detection_validation/app_annotated_frames'\n",
    "new_folder_names = [\n",
    "    'no_contact',\n",
    "    'tongue',\n",
    "    'paw',\n",
    "]\n",
    "new_image_path"
   ]
  },
  {
   "cell_type": "code",
   "execution_count": 21,
   "metadata": {},
   "outputs": [
    {
     "data": {
      "text/plain": [
       "'//allen/programs/braintv/workgroups/nc-ophys/visual_behavior/lick_detection_validation/models/three_class_model'"
      ]
     },
     "execution_count": 21,
     "metadata": {},
     "output_type": "execute_result"
    }
   ],
   "source": [
    "existing_image_path = r'//allen/programs/braintv/workgroups/nc-ophys/visual_behavior/lick_detection_validation/models/three_class_model'\n",
    "existing_folder_names = [\n",
    "    'train',\n",
    "    'test',\n",
    "    'validate',\n",
    "]\n",
    "existing_image_path"
   ]
  },
  {
   "cell_type": "code",
   "execution_count": 22,
   "metadata": {},
   "outputs": [],
   "source": [
    "new_data = []\n",
    "for folder_name in new_folder_names:\n",
    "    df = pd.DataFrame({'filename':os.listdir(os.path.join(new_image_path,folder_name))})\n",
    "    df['folder'] = folder_name\n",
    "    new_data.append(df)\n",
    "new_data = pd.concat(new_data)"
   ]
  },
  {
   "cell_type": "code",
   "execution_count": 23,
   "metadata": {},
   "outputs": [
    {
     "data": {
      "text/html": [
       "<div>\n",
       "<style scoped>\n",
       "    .dataframe tbody tr th:only-of-type {\n",
       "        vertical-align: middle;\n",
       "    }\n",
       "\n",
       "    .dataframe tbody tr th {\n",
       "        vertical-align: top;\n",
       "    }\n",
       "\n",
       "    .dataframe thead th {\n",
       "        text-align: right;\n",
       "    }\n",
       "</style>\n",
       "<table border=\"1\" class=\"dataframe\">\n",
       "  <thead>\n",
       "    <tr style=\"text-align: right;\">\n",
       "      <th></th>\n",
       "      <th>filename</th>\n",
       "      <th>folder</th>\n",
       "    </tr>\n",
       "  </thead>\n",
       "  <tbody>\n",
       "    <tr>\n",
       "      <th>0</th>\n",
       "      <td>oeid_833631914__frame_132399.png</td>\n",
       "      <td>no_contact</td>\n",
       "    </tr>\n",
       "    <tr>\n",
       "      <th>1</th>\n",
       "      <td>oeid_794389498__frame_13702.png</td>\n",
       "      <td>no_contact</td>\n",
       "    </tr>\n",
       "    <tr>\n",
       "      <th>2</th>\n",
       "      <td>oeid_833631932__frame_50305.png</td>\n",
       "      <td>no_contact</td>\n",
       "    </tr>\n",
       "    <tr>\n",
       "      <th>3</th>\n",
       "      <td>oeid_882519987__frame_58479.png</td>\n",
       "      <td>no_contact</td>\n",
       "    </tr>\n",
       "    <tr>\n",
       "      <th>4</th>\n",
       "      <td>oeid_862023590__frame_36099.png</td>\n",
       "      <td>no_contact</td>\n",
       "    </tr>\n",
       "    <tr>\n",
       "      <th>...</th>\n",
       "      <td>...</td>\n",
       "      <td>...</td>\n",
       "    </tr>\n",
       "    <tr>\n",
       "      <th>49</th>\n",
       "      <td>oeid_923100531__frame_111946.png</td>\n",
       "      <td>paw</td>\n",
       "    </tr>\n",
       "    <tr>\n",
       "      <th>50</th>\n",
       "      <td>oeid_833631914__frame_130139.png</td>\n",
       "      <td>paw</td>\n",
       "    </tr>\n",
       "    <tr>\n",
       "      <th>51</th>\n",
       "      <td>oeid_833631914__frame_130151.png</td>\n",
       "      <td>paw</td>\n",
       "    </tr>\n",
       "    <tr>\n",
       "      <th>52</th>\n",
       "      <td>oeid_948514870__frame_54641.png</td>\n",
       "      <td>paw</td>\n",
       "    </tr>\n",
       "    <tr>\n",
       "      <th>53</th>\n",
       "      <td>oeid_918548272__frame_126240.png</td>\n",
       "      <td>paw</td>\n",
       "    </tr>\n",
       "  </tbody>\n",
       "</table>\n",
       "<p>1008 rows × 2 columns</p>\n",
       "</div>"
      ],
      "text/plain": [
       "                            filename      folder\n",
       "0   oeid_833631914__frame_132399.png  no_contact\n",
       "1    oeid_794389498__frame_13702.png  no_contact\n",
       "2    oeid_833631932__frame_50305.png  no_contact\n",
       "3    oeid_882519987__frame_58479.png  no_contact\n",
       "4    oeid_862023590__frame_36099.png  no_contact\n",
       "..                               ...         ...\n",
       "49  oeid_923100531__frame_111946.png         paw\n",
       "50  oeid_833631914__frame_130139.png         paw\n",
       "51  oeid_833631914__frame_130151.png         paw\n",
       "52   oeid_948514870__frame_54641.png         paw\n",
       "53  oeid_918548272__frame_126240.png         paw\n",
       "\n",
       "[1008 rows x 2 columns]"
      ]
     },
     "execution_count": 23,
     "metadata": {},
     "output_type": "execute_result"
    }
   ],
   "source": [
    "new_data"
   ]
  },
  {
   "cell_type": "code",
   "execution_count": 24,
   "metadata": {},
   "outputs": [],
   "source": [
    "existing_filenames = []\n",
    "for foldername in existing_folder_names:\n",
    "    for category in new_folder_names:\n",
    "        existing_filenames += os.listdir(os.path.join(existing_image_path, foldername, category))"
   ]
  },
  {
   "cell_type": "code",
   "execution_count": 25,
   "metadata": {},
   "outputs": [],
   "source": [
    "new_data = new_data.sample(len(new_data)).reset_index()\n",
    "new_data['set'] = None\n",
    "new_data['label'] = None"
   ]
  },
  {
   "cell_type": "code",
   "execution_count": 26,
   "metadata": {},
   "outputs": [],
   "source": [
    "def label(folder):\n",
    "    if folder.startswith('tongue'):\n",
    "        return 'tongue'\n",
    "    elif folder.startswith('paw'):\n",
    "        return 'paw'\n",
    "    else:\n",
    "        return 'no_contact'"
   ]
  },
  {
   "cell_type": "code",
   "execution_count": 27,
   "metadata": {},
   "outputs": [],
   "source": [
    "new_data.loc[:0.8*len(new_data),'set'] = 'train'\n",
    "new_data.loc[0.8*len(new_data):0.9*len(new_data),'set'] = 'validate'\n",
    "new_data.loc[0.9*len(new_data):,'set'] = 'test'\n",
    "new_data['label'] = new_data['folder'].map(label)"
   ]
  },
  {
   "cell_type": "code",
   "execution_count": 28,
   "metadata": {},
   "outputs": [
    {
     "data": {
      "text/html": [
       "<div>\n",
       "<style scoped>\n",
       "    .dataframe tbody tr th:only-of-type {\n",
       "        vertical-align: middle;\n",
       "    }\n",
       "\n",
       "    .dataframe tbody tr th {\n",
       "        vertical-align: top;\n",
       "    }\n",
       "\n",
       "    .dataframe thead th {\n",
       "        text-align: right;\n",
       "    }\n",
       "</style>\n",
       "<table border=\"1\" class=\"dataframe\">\n",
       "  <thead>\n",
       "    <tr style=\"text-align: right;\">\n",
       "      <th></th>\n",
       "      <th>index</th>\n",
       "      <th>filename</th>\n",
       "      <th>folder</th>\n",
       "      <th>set</th>\n",
       "      <th>label</th>\n",
       "    </tr>\n",
       "  </thead>\n",
       "  <tbody>\n",
       "    <tr>\n",
       "      <th>0</th>\n",
       "      <td>27</td>\n",
       "      <td>oeid_833631932__frame_60256.png</td>\n",
       "      <td>no_contact</td>\n",
       "      <td>train</td>\n",
       "      <td>no_contact</td>\n",
       "    </tr>\n",
       "    <tr>\n",
       "      <th>1</th>\n",
       "      <td>343</td>\n",
       "      <td>oeid_750852080__frame_5900.png</td>\n",
       "      <td>tongue</td>\n",
       "      <td>train</td>\n",
       "      <td>tongue</td>\n",
       "    </tr>\n",
       "    <tr>\n",
       "      <th>2</th>\n",
       "      <td>340</td>\n",
       "      <td>oeid_896160394__frame_14459.png</td>\n",
       "      <td>no_contact</td>\n",
       "      <td>train</td>\n",
       "      <td>no_contact</td>\n",
       "    </tr>\n",
       "    <tr>\n",
       "      <th>3</th>\n",
       "      <td>68</td>\n",
       "      <td>oeid_944366183__frame_116705.png</td>\n",
       "      <td>tongue</td>\n",
       "      <td>train</td>\n",
       "      <td>tongue</td>\n",
       "    </tr>\n",
       "    <tr>\n",
       "      <th>4</th>\n",
       "      <td>469</td>\n",
       "      <td>oeid_833631932__frame_3119.png</td>\n",
       "      <td>no_contact</td>\n",
       "      <td>train</td>\n",
       "      <td>no_contact</td>\n",
       "    </tr>\n",
       "    <tr>\n",
       "      <th>...</th>\n",
       "      <td>...</td>\n",
       "      <td>...</td>\n",
       "      <td>...</td>\n",
       "      <td>...</td>\n",
       "      <td>...</td>\n",
       "    </tr>\n",
       "    <tr>\n",
       "      <th>1003</th>\n",
       "      <td>150</td>\n",
       "      <td>oeid_972884638__frame_44485.png</td>\n",
       "      <td>no_contact</td>\n",
       "      <td>test</td>\n",
       "      <td>no_contact</td>\n",
       "    </tr>\n",
       "    <tr>\n",
       "      <th>1004</th>\n",
       "      <td>334</td>\n",
       "      <td>oeid_878358326__frame_909.png</td>\n",
       "      <td>no_contact</td>\n",
       "      <td>test</td>\n",
       "      <td>no_contact</td>\n",
       "    </tr>\n",
       "    <tr>\n",
       "      <th>1005</th>\n",
       "      <td>272</td>\n",
       "      <td>oeid_944366183__frame_107793.png</td>\n",
       "      <td>tongue</td>\n",
       "      <td>test</td>\n",
       "      <td>tongue</td>\n",
       "    </tr>\n",
       "    <tr>\n",
       "      <th>1006</th>\n",
       "      <td>293</td>\n",
       "      <td>oeid_981178524__frame_12159.png</td>\n",
       "      <td>tongue</td>\n",
       "      <td>test</td>\n",
       "      <td>tongue</td>\n",
       "    </tr>\n",
       "    <tr>\n",
       "      <th>1007</th>\n",
       "      <td>237</td>\n",
       "      <td>oeid_894727297__frame_68682.png</td>\n",
       "      <td>tongue</td>\n",
       "      <td>test</td>\n",
       "      <td>tongue</td>\n",
       "    </tr>\n",
       "  </tbody>\n",
       "</table>\n",
       "<p>1008 rows × 5 columns</p>\n",
       "</div>"
      ],
      "text/plain": [
       "      index                          filename      folder    set       label\n",
       "0        27   oeid_833631932__frame_60256.png  no_contact  train  no_contact\n",
       "1       343    oeid_750852080__frame_5900.png      tongue  train      tongue\n",
       "2       340   oeid_896160394__frame_14459.png  no_contact  train  no_contact\n",
       "3        68  oeid_944366183__frame_116705.png      tongue  train      tongue\n",
       "4       469    oeid_833631932__frame_3119.png  no_contact  train  no_contact\n",
       "...     ...                               ...         ...    ...         ...\n",
       "1003    150   oeid_972884638__frame_44485.png  no_contact   test  no_contact\n",
       "1004    334     oeid_878358326__frame_909.png  no_contact   test  no_contact\n",
       "1005    272  oeid_944366183__frame_107793.png      tongue   test      tongue\n",
       "1006    293   oeid_981178524__frame_12159.png      tongue   test      tongue\n",
       "1007    237   oeid_894727297__frame_68682.png      tongue   test      tongue\n",
       "\n",
       "[1008 rows x 5 columns]"
      ]
     },
     "execution_count": 28,
     "metadata": {},
     "output_type": "execute_result"
    }
   ],
   "source": [
    "new_data"
   ]
  },
  {
   "cell_type": "code",
   "execution_count": 29,
   "metadata": {},
   "outputs": [
    {
     "data": {
      "text/plain": [
       "no_contact    591\n",
       "tongue        363\n",
       "paw            54\n",
       "Name: label, dtype: int64"
      ]
     },
     "execution_count": 29,
     "metadata": {},
     "output_type": "execute_result"
    }
   ],
   "source": [
    "new_data['label'].value_counts()"
   ]
  },
  {
   "cell_type": "code",
   "execution_count": 30,
   "metadata": {},
   "outputs": [
    {
     "data": {
      "text/plain": [
       "train       807\n",
       "validate    101\n",
       "test        100\n",
       "Name: set, dtype: int64"
      ]
     },
     "execution_count": 30,
     "metadata": {},
     "output_type": "execute_result"
    }
   ],
   "source": [
    "new_data['set'].value_counts()"
   ]
  },
  {
   "cell_type": "code",
   "execution_count": 31,
   "metadata": {},
   "outputs": [
    {
     "name": "stderr",
     "output_type": "stream",
     "text": [
      "18it [00:00, 28.51it/s]"
     ]
    },
    {
     "name": "stdout",
     "output_type": "stream",
     "text": [
      "did not copy //allen/programs/braintv/workgroups/nc-ophys/visual_behavior/lick_detection_validation/app_annotated_frames/paw/oeid_822647135__frame_54527.png, already exists\n"
     ]
    },
    {
     "name": "stderr",
     "output_type": "stream",
     "text": [
      "31it [00:00, 33.45it/s]"
     ]
    },
    {
     "name": "stdout",
     "output_type": "stream",
     "text": [
      "did not copy //allen/programs/braintv/workgroups/nc-ophys/visual_behavior/lick_detection_validation/app_annotated_frames/paw/oeid_822647135__frame_62380.png, already exists\n"
     ]
    },
    {
     "name": "stderr",
     "output_type": "stream",
     "text": [
      "92it [00:02, 35.54it/s]"
     ]
    },
    {
     "name": "stdout",
     "output_type": "stream",
     "text": [
      "did not copy //allen/programs/braintv/workgroups/nc-ophys/visual_behavior/lick_detection_validation/app_annotated_frames/paw/oeid_918548272__frame_27124.png, already exists\n",
      "did not copy //allen/programs/braintv/workgroups/nc-ophys/visual_behavior/lick_detection_validation/app_annotated_frames/paw/oeid_822647135__frame_36772.png, already exists\n"
     ]
    },
    {
     "name": "stderr",
     "output_type": "stream",
     "text": [
      "153it [00:04, 35.59it/s]"
     ]
    },
    {
     "name": "stdout",
     "output_type": "stream",
     "text": [
      "did not copy //allen/programs/braintv/workgroups/nc-ophys/visual_behavior/lick_detection_validation/app_annotated_frames/paw/oeid_822647135__frame_49098.png, already exists\n"
     ]
    },
    {
     "name": "stderr",
     "output_type": "stream",
     "text": [
      "221it [00:06, 36.75it/s]"
     ]
    },
    {
     "name": "stdout",
     "output_type": "stream",
     "text": [
      "did not copy //allen/programs/braintv/workgroups/nc-ophys/visual_behavior/lick_detection_validation/app_annotated_frames/paw/oeid_822647135__frame_36465.png, already exists\n"
     ]
    },
    {
     "name": "stderr",
     "output_type": "stream",
     "text": [
      "234it [00:06, 36.80it/s]"
     ]
    },
    {
     "name": "stdout",
     "output_type": "stream",
     "text": [
      "did not copy //allen/programs/braintv/workgroups/nc-ophys/visual_behavior/lick_detection_validation/app_annotated_frames/paw/oeid_822647135__frame_36486.png, already exists\n"
     ]
    },
    {
     "name": "stderr",
     "output_type": "stream",
     "text": [
      "434it [00:12, 37.78it/s]"
     ]
    },
    {
     "name": "stdout",
     "output_type": "stream",
     "text": [
      "did not copy //allen/programs/braintv/workgroups/nc-ophys/visual_behavior/lick_detection_validation/app_annotated_frames/paw/oeid_822647135__frame_36482.png, already exists\n"
     ]
    },
    {
     "name": "stderr",
     "output_type": "stream",
     "text": [
      "493it [00:13, 39.63it/s]"
     ]
    },
    {
     "name": "stdout",
     "output_type": "stream",
     "text": [
      "did not copy //allen/programs/braintv/workgroups/nc-ophys/visual_behavior/lick_detection_validation/app_annotated_frames/paw/oeid_918548272__frame_2599.png, already exists\n"
     ]
    },
    {
     "name": "stderr",
     "output_type": "stream",
     "text": [
      "555it [00:15, 39.57it/s]"
     ]
    },
    {
     "name": "stdout",
     "output_type": "stream",
     "text": [
      "did not copy //allen/programs/braintv/workgroups/nc-ophys/visual_behavior/lick_detection_validation/app_annotated_frames/tongue/oeid_833631932__frame_17981.png, already exists\n"
     ]
    },
    {
     "name": "stderr",
     "output_type": "stream",
     "text": [
      "621it [00:17, 37.98it/s]"
     ]
    },
    {
     "name": "stdout",
     "output_type": "stream",
     "text": [
      "did not copy //allen/programs/braintv/workgroups/nc-ophys/visual_behavior/lick_detection_validation/app_annotated_frames/paw/oeid_918548272__frame_20821.png, already exists\n"
     ]
    },
    {
     "name": "stderr",
     "output_type": "stream",
     "text": [
      "641it [00:17, 38.78it/s]"
     ]
    },
    {
     "name": "stdout",
     "output_type": "stream",
     "text": [
      "did not copy //allen/programs/braintv/workgroups/nc-ophys/visual_behavior/lick_detection_validation/app_annotated_frames/paw/oeid_918548272__frame_126240.png, already exists\n"
     ]
    },
    {
     "name": "stderr",
     "output_type": "stream",
     "text": [
      "740it [00:20, 41.53it/s]"
     ]
    },
    {
     "name": "stdout",
     "output_type": "stream",
     "text": [
      "did not copy //allen/programs/braintv/workgroups/nc-ophys/visual_behavior/lick_detection_validation/app_annotated_frames/paw/oeid_822647135__frame_45998.png, already exists\n",
      "did not copy //allen/programs/braintv/workgroups/nc-ophys/visual_behavior/lick_detection_validation/app_annotated_frames/paw/oeid_918548272__frame_22691.png, already exists\n"
     ]
    },
    {
     "name": "stderr",
     "output_type": "stream",
     "text": [
      "798it [00:21, 41.21it/s]"
     ]
    },
    {
     "name": "stdout",
     "output_type": "stream",
     "text": [
      "did not copy //allen/programs/braintv/workgroups/nc-ophys/visual_behavior/lick_detection_validation/app_annotated_frames/tongue/oeid_833631932__frame_17692.png, already exists\n"
     ]
    },
    {
     "name": "stderr",
     "output_type": "stream",
     "text": [
      "961it [00:26, 37.77it/s]"
     ]
    },
    {
     "name": "stdout",
     "output_type": "stream",
     "text": [
      "did not copy //allen/programs/braintv/workgroups/nc-ophys/visual_behavior/lick_detection_validation/app_annotated_frames/paw/oeid_822647135__frame_54484.png, already exists\n"
     ]
    },
    {
     "name": "stderr",
     "output_type": "stream",
     "text": [
      "1008it [00:27, 36.45it/s]\n"
     ]
    }
   ],
   "source": [
    "data_dst = '/allen/programs/braintv/workgroups/nc-ophys/visual_behavior/lick_detection_validation/models/three_class_model'\n",
    "for idx,row in tqdm(new_data.iterrows()):\n",
    "    src = os.path.join(new_image_path,row['folder'],row['filename'])\n",
    "    dst = os.path.join(existing_image_path,row['set'],str(row['label']))\n",
    "    if os.path.exists(dst) == False:\n",
    "        os.mkdir(dst)\n",
    "    if row['filename'] not in existing_filenames:\n",
    "        shutil.copy(src,dst)\n",
    "    else:\n",
    "        print('did not copy {}, already exists'.format(src))"
   ]
  },
  {
   "cell_type": "code",
   "execution_count": 19,
   "metadata": {},
   "outputs": [
    {
     "data": {
      "text/plain": [
       "False"
      ]
     },
     "execution_count": 19,
     "metadata": {},
     "output_type": "execute_result"
    }
   ],
   "source": [
    "row['filename'] in existing_filenames"
   ]
  },
  {
   "cell_type": "code",
   "execution_count": null,
   "metadata": {},
   "outputs": [],
   "source": []
  }
 ],
 "metadata": {
  "kernelspec": {
   "display_name": "keras",
   "language": "python",
   "name": "keras"
  },
  "language_info": {
   "codemirror_mode": {
    "name": "ipython",
    "version": 3
   },
   "file_extension": ".py",
   "mimetype": "text/x-python",
   "name": "python",
   "nbconvert_exporter": "python",
   "pygments_lexer": "ipython3",
   "version": "3.6.8"
  }
 },
 "nbformat": 4,
 "nbformat_minor": 2
}
