{
 "cells": [
  {
   "cell_type": "code",
   "execution_count": 1,
   "metadata": {},
   "outputs": [],
   "source": [
    "import pandas as pd\n",
    "import os\n",
    "from tqdm import tqdm\n",
    "import shutil"
   ]
  },
  {
   "cell_type": "code",
   "execution_count": 2,
   "metadata": {},
   "outputs": [
    {
     "data": {
      "text/plain": [
       "'//allen/programs/braintv/workgroups/nc-ophys/visual_behavior/lick_detection_validation/manually_annotated'"
      ]
     },
     "execution_count": 2,
     "metadata": {},
     "output_type": "execute_result"
    }
   ],
   "source": [
    "new_image_path = r'//allen/programs/braintv/workgroups/nc-ophys/visual_behavior/lick_detection_validation/manually_annotated'\n",
    "new_folder_names = [\n",
    "    'no_contact',\n",
    "    'tongue',\n",
    "    'paw',\n",
    "]\n",
    "new_image_path"
   ]
  },
  {
   "cell_type": "code",
   "execution_count": 3,
   "metadata": {},
   "outputs": [
    {
     "data": {
      "text/plain": [
       "'//allen/programs/braintv/workgroups/nc-ophys/visual_behavior/lick_detection_validation/models/three_class_model'"
      ]
     },
     "execution_count": 3,
     "metadata": {},
     "output_type": "execute_result"
    }
   ],
   "source": [
    "existing_image_path = r'//allen/programs/braintv/workgroups/nc-ophys/visual_behavior/lick_detection_validation/models/three_class_model'\n",
    "existing_folder_names = [\n",
    "    'train',\n",
    "    'test',\n",
    "    'validate',\n",
    "]\n",
    "existing_image_path"
   ]
  },
  {
   "cell_type": "code",
   "execution_count": 4,
   "metadata": {},
   "outputs": [],
   "source": [
    "new_data = []\n",
    "for folder_name in new_folder_names:\n",
    "    df = pd.DataFrame({'filename':os.listdir(os.path.join(new_image_path,folder_name))})\n",
    "    df['folder'] = folder_name\n",
    "    new_data.append(df)\n",
    "new_data = pd.concat(new_data)"
   ]
  },
  {
   "cell_type": "code",
   "execution_count": 5,
   "metadata": {},
   "outputs": [
    {
     "data": {
      "text/html": [
       "<div>\n",
       "<style scoped>\n",
       "    .dataframe tbody tr th:only-of-type {\n",
       "        vertical-align: middle;\n",
       "    }\n",
       "\n",
       "    .dataframe tbody tr th {\n",
       "        vertical-align: top;\n",
       "    }\n",
       "\n",
       "    .dataframe thead th {\n",
       "        text-align: right;\n",
       "    }\n",
       "</style>\n",
       "<table border=\"1\" class=\"dataframe\">\n",
       "  <thead>\n",
       "    <tr style=\"text-align: right;\">\n",
       "      <th></th>\n",
       "      <th>filename</th>\n",
       "      <th>folder</th>\n",
       "    </tr>\n",
       "  </thead>\n",
       "  <tbody>\n",
       "    <tr>\n",
       "      <th>0</th>\n",
       "      <td>oeid_956903412__frame_91093.png</td>\n",
       "      <td>no_contact</td>\n",
       "    </tr>\n",
       "    <tr>\n",
       "      <th>1</th>\n",
       "      <td>oeid_956903412__frame_89967.png</td>\n",
       "      <td>no_contact</td>\n",
       "    </tr>\n",
       "    <tr>\n",
       "      <th>2</th>\n",
       "      <td>oeid_956903412__frame_116114.png</td>\n",
       "      <td>no_contact</td>\n",
       "    </tr>\n",
       "    <tr>\n",
       "      <th>3</th>\n",
       "      <td>oeid_956903412__frame_123426.png</td>\n",
       "      <td>no_contact</td>\n",
       "    </tr>\n",
       "    <tr>\n",
       "      <th>4</th>\n",
       "      <td>oeid_956903412__frame_123366.png</td>\n",
       "      <td>no_contact</td>\n",
       "    </tr>\n",
       "    <tr>\n",
       "      <th>...</th>\n",
       "      <td>...</td>\n",
       "      <td>...</td>\n",
       "    </tr>\n",
       "    <tr>\n",
       "      <th>2</th>\n",
       "      <td>oeid_846490568__frame_117771.png</td>\n",
       "      <td>paw</td>\n",
       "    </tr>\n",
       "    <tr>\n",
       "      <th>3</th>\n",
       "      <td>oeid_956903412__frame_81653.png</td>\n",
       "      <td>paw</td>\n",
       "    </tr>\n",
       "    <tr>\n",
       "      <th>4</th>\n",
       "      <td>Thumbs.db</td>\n",
       "      <td>paw</td>\n",
       "    </tr>\n",
       "    <tr>\n",
       "      <th>5</th>\n",
       "      <td>oeid_846490568__frame_85731.png</td>\n",
       "      <td>paw</td>\n",
       "    </tr>\n",
       "    <tr>\n",
       "      <th>6</th>\n",
       "      <td>oeid_956903412__frame_126718.png</td>\n",
       "      <td>paw</td>\n",
       "    </tr>\n",
       "  </tbody>\n",
       "</table>\n",
       "<p>337 rows × 2 columns</p>\n",
       "</div>"
      ],
      "text/plain": [
       "                            filename      folder\n",
       "0    oeid_956903412__frame_91093.png  no_contact\n",
       "1    oeid_956903412__frame_89967.png  no_contact\n",
       "2   oeid_956903412__frame_116114.png  no_contact\n",
       "3   oeid_956903412__frame_123426.png  no_contact\n",
       "4   oeid_956903412__frame_123366.png  no_contact\n",
       "..                               ...         ...\n",
       "2   oeid_846490568__frame_117771.png         paw\n",
       "3    oeid_956903412__frame_81653.png         paw\n",
       "4                          Thumbs.db         paw\n",
       "5    oeid_846490568__frame_85731.png         paw\n",
       "6   oeid_956903412__frame_126718.png         paw\n",
       "\n",
       "[337 rows x 2 columns]"
      ]
     },
     "execution_count": 5,
     "metadata": {},
     "output_type": "execute_result"
    }
   ],
   "source": [
    "new_data"
   ]
  },
  {
   "cell_type": "code",
   "execution_count": 15,
   "metadata": {},
   "outputs": [],
   "source": [
    "existing_filenames = []\n",
    "for foldername in existing_folder_names:\n",
    "    for category in new_folder_names:\n",
    "        existing_filenames += os.listdir(os.path.join(existing_image_path, foldername, category))"
   ]
  },
  {
   "cell_type": "code",
   "execution_count": 18,
   "metadata": {},
   "outputs": [
    {
     "data": {
      "text/plain": [
       "11316"
      ]
     },
     "execution_count": 18,
     "metadata": {},
     "output_type": "execute_result"
    }
   ],
   "source": [
    "len(existing_filenames)"
   ]
  },
  {
   "cell_type": "code",
   "execution_count": 8,
   "metadata": {},
   "outputs": [],
   "source": [
    "new_data = new_data.sample(len(new_data)).reset_index()\n",
    "new_data['set'] = None\n",
    "new_data['label'] = None"
   ]
  },
  {
   "cell_type": "code",
   "execution_count": 9,
   "metadata": {},
   "outputs": [],
   "source": [
    "def label(folder):\n",
    "    if folder.startswith('tongue'):\n",
    "        return 'tongue'\n",
    "    elif folder.startswith('paw'):\n",
    "        return 'paw'\n",
    "    else:\n",
    "        return 'no_contact'"
   ]
  },
  {
   "cell_type": "code",
   "execution_count": 10,
   "metadata": {},
   "outputs": [],
   "source": [
    "new_data.loc[:0.8*len(new_data),'set'] = 'train'\n",
    "new_data.loc[0.8*len(new_data):0.9*len(new_data),'set'] = 'validate'\n",
    "new_data.loc[0.9*len(new_data):,'set'] = 'test'\n",
    "new_data['label'] = new_data['folder'].map(label)"
   ]
  },
  {
   "cell_type": "code",
   "execution_count": 11,
   "metadata": {},
   "outputs": [
    {
     "data": {
      "text/html": [
       "<div>\n",
       "<style scoped>\n",
       "    .dataframe tbody tr th:only-of-type {\n",
       "        vertical-align: middle;\n",
       "    }\n",
       "\n",
       "    .dataframe tbody tr th {\n",
       "        vertical-align: top;\n",
       "    }\n",
       "\n",
       "    .dataframe thead th {\n",
       "        text-align: right;\n",
       "    }\n",
       "</style>\n",
       "<table border=\"1\" class=\"dataframe\">\n",
       "  <thead>\n",
       "    <tr style=\"text-align: right;\">\n",
       "      <th></th>\n",
       "      <th>index</th>\n",
       "      <th>filename</th>\n",
       "      <th>folder</th>\n",
       "      <th>set</th>\n",
       "      <th>label</th>\n",
       "    </tr>\n",
       "  </thead>\n",
       "  <tbody>\n",
       "    <tr>\n",
       "      <th>0</th>\n",
       "      <td>34</td>\n",
       "      <td>oeid_956903412__frame_69835.png</td>\n",
       "      <td>no_contact</td>\n",
       "      <td>train</td>\n",
       "      <td>no_contact</td>\n",
       "    </tr>\n",
       "    <tr>\n",
       "      <th>1</th>\n",
       "      <td>31</td>\n",
       "      <td>oeid_956903412__frame_103637.png</td>\n",
       "      <td>no_contact</td>\n",
       "      <td>train</td>\n",
       "      <td>no_contact</td>\n",
       "    </tr>\n",
       "    <tr>\n",
       "      <th>2</th>\n",
       "      <td>187</td>\n",
       "      <td>oeid_956903412__frame_80186.png</td>\n",
       "      <td>no_contact</td>\n",
       "      <td>train</td>\n",
       "      <td>no_contact</td>\n",
       "    </tr>\n",
       "    <tr>\n",
       "      <th>3</th>\n",
       "      <td>199</td>\n",
       "      <td>oeid_846490568__frame_2871.png</td>\n",
       "      <td>no_contact</td>\n",
       "      <td>train</td>\n",
       "      <td>no_contact</td>\n",
       "    </tr>\n",
       "    <tr>\n",
       "      <th>4</th>\n",
       "      <td>80</td>\n",
       "      <td>oeid_956903412__frame_105038.png</td>\n",
       "      <td>no_contact</td>\n",
       "      <td>train</td>\n",
       "      <td>no_contact</td>\n",
       "    </tr>\n",
       "    <tr>\n",
       "      <th>...</th>\n",
       "      <td>...</td>\n",
       "      <td>...</td>\n",
       "      <td>...</td>\n",
       "      <td>...</td>\n",
       "      <td>...</td>\n",
       "    </tr>\n",
       "    <tr>\n",
       "      <th>332</th>\n",
       "      <td>218</td>\n",
       "      <td>oeid_956903412__frame_11961.png</td>\n",
       "      <td>no_contact</td>\n",
       "      <td>test</td>\n",
       "      <td>no_contact</td>\n",
       "    </tr>\n",
       "    <tr>\n",
       "      <th>333</th>\n",
       "      <td>259</td>\n",
       "      <td>oeid_956903412__frame_91142.png</td>\n",
       "      <td>no_contact</td>\n",
       "      <td>test</td>\n",
       "      <td>no_contact</td>\n",
       "    </tr>\n",
       "    <tr>\n",
       "      <th>334</th>\n",
       "      <td>281</td>\n",
       "      <td>oeid_956903412__frame_27459.png</td>\n",
       "      <td>no_contact</td>\n",
       "      <td>test</td>\n",
       "      <td>no_contact</td>\n",
       "    </tr>\n",
       "    <tr>\n",
       "      <th>335</th>\n",
       "      <td>169</td>\n",
       "      <td>oeid_956903412__frame_48137.png</td>\n",
       "      <td>no_contact</td>\n",
       "      <td>test</td>\n",
       "      <td>no_contact</td>\n",
       "    </tr>\n",
       "    <tr>\n",
       "      <th>336</th>\n",
       "      <td>185</td>\n",
       "      <td>oeid_956903412__frame_122700.png</td>\n",
       "      <td>no_contact</td>\n",
       "      <td>test</td>\n",
       "      <td>no_contact</td>\n",
       "    </tr>\n",
       "  </tbody>\n",
       "</table>\n",
       "<p>337 rows × 5 columns</p>\n",
       "</div>"
      ],
      "text/plain": [
       "     index                          filename      folder    set       label\n",
       "0       34   oeid_956903412__frame_69835.png  no_contact  train  no_contact\n",
       "1       31  oeid_956903412__frame_103637.png  no_contact  train  no_contact\n",
       "2      187   oeid_956903412__frame_80186.png  no_contact  train  no_contact\n",
       "3      199    oeid_846490568__frame_2871.png  no_contact  train  no_contact\n",
       "4       80  oeid_956903412__frame_105038.png  no_contact  train  no_contact\n",
       "..     ...                               ...         ...    ...         ...\n",
       "332    218   oeid_956903412__frame_11961.png  no_contact   test  no_contact\n",
       "333    259   oeid_956903412__frame_91142.png  no_contact   test  no_contact\n",
       "334    281   oeid_956903412__frame_27459.png  no_contact   test  no_contact\n",
       "335    169   oeid_956903412__frame_48137.png  no_contact   test  no_contact\n",
       "336    185  oeid_956903412__frame_122700.png  no_contact   test  no_contact\n",
       "\n",
       "[337 rows x 5 columns]"
      ]
     },
     "execution_count": 11,
     "metadata": {},
     "output_type": "execute_result"
    }
   ],
   "source": [
    "new_data"
   ]
  },
  {
   "cell_type": "code",
   "execution_count": 12,
   "metadata": {},
   "outputs": [
    {
     "data": {
      "text/plain": [
       "no_contact    315\n",
       "tongue         15\n",
       "paw             7\n",
       "Name: label, dtype: int64"
      ]
     },
     "execution_count": 12,
     "metadata": {},
     "output_type": "execute_result"
    }
   ],
   "source": [
    "new_data['label'].value_counts()"
   ]
  },
  {
   "cell_type": "code",
   "execution_count": 13,
   "metadata": {},
   "outputs": [
    {
     "data": {
      "text/plain": [
       "train       270\n",
       "validate     34\n",
       "test         33\n",
       "Name: set, dtype: int64"
      ]
     },
     "execution_count": 13,
     "metadata": {},
     "output_type": "execute_result"
    }
   ],
   "source": [
    "new_data['set'].value_counts()"
   ]
  },
  {
   "cell_type": "code",
   "execution_count": 14,
   "metadata": {},
   "outputs": [
    {
     "name": "stderr",
     "output_type": "stream",
     "text": [
      "19it [00:00, 82.97it/s]"
     ]
    },
    {
     "name": "stdout",
     "output_type": "stream",
     "text": [
      "did not copy //allen/programs/braintv/workgroups/nc-ophys/visual_behavior/lick_detection_validation/manually_annotated/no_contact/oeid_956903412__frame_103637.png, already exists\n",
      "did not copy //allen/programs/braintv/workgroups/nc-ophys/visual_behavior/lick_detection_validation/manually_annotated/no_contact/oeid_956903412__frame_80186.png, already exists\n",
      "did not copy //allen/programs/braintv/workgroups/nc-ophys/visual_behavior/lick_detection_validation/manually_annotated/no_contact/oeid_956903412__frame_105038.png, already exists\n",
      "did not copy //allen/programs/braintv/workgroups/nc-ophys/visual_behavior/lick_detection_validation/manually_annotated/no_contact/oeid_956903412__frame_111690.png, already exists\n",
      "did not copy //allen/programs/braintv/workgroups/nc-ophys/visual_behavior/lick_detection_validation/manually_annotated/no_contact/oeid_956903412__frame_89188.png, already exists\n",
      "did not copy //allen/programs/braintv/workgroups/nc-ophys/visual_behavior/lick_detection_validation/manually_annotated/no_contact/oeid_956903412__frame_81540.png, already exists\n",
      "did not copy //allen/programs/braintv/workgroups/nc-ophys/visual_behavior/lick_detection_validation/manually_annotated/no_contact/oeid_956903412__frame_121706.png, already exists\n",
      "did not copy //allen/programs/braintv/workgroups/nc-ophys/visual_behavior/lick_detection_validation/manually_annotated/no_contact/oeid_956903412__frame_45736.png, already exists\n",
      "did not copy //allen/programs/braintv/workgroups/nc-ophys/visual_behavior/lick_detection_validation/manually_annotated/no_contact/oeid_846490568__frame_78210.png, already exists\n",
      "did not copy //allen/programs/braintv/workgroups/nc-ophys/visual_behavior/lick_detection_validation/manually_annotated/no_contact/oeid_956903412__frame_110971.png, already exists\n",
      "did not copy //allen/programs/braintv/workgroups/nc-ophys/visual_behavior/lick_detection_validation/manually_annotated/no_contact/oeid_956903412__frame_104936.png, already exists\n",
      "did not copy //allen/programs/braintv/workgroups/nc-ophys/visual_behavior/lick_detection_validation/manually_annotated/tongue/oeid_956903412__frame_18834.png, already exists\n"
     ]
    },
    {
     "name": "stderr",
     "output_type": "stream",
     "text": [
      "38it [00:00, 63.41it/s]"
     ]
    },
    {
     "name": "stdout",
     "output_type": "stream",
     "text": [
      "did not copy //allen/programs/braintv/workgroups/nc-ophys/visual_behavior/lick_detection_validation/manually_annotated/no_contact/oeid_956903412__frame_89581.png, already exists\n",
      "did not copy //allen/programs/braintv/workgroups/nc-ophys/visual_behavior/lick_detection_validation/manually_annotated/no_contact/oeid_956903412__frame_106721.png, already exists\n",
      "did not copy //allen/programs/braintv/workgroups/nc-ophys/visual_behavior/lick_detection_validation/manually_annotated/no_contact/oeid_956903412__frame_116004.png, already exists\n",
      "did not copy //allen/programs/braintv/workgroups/nc-ophys/visual_behavior/lick_detection_validation/manually_annotated/no_contact/oeid_956903412__frame_61065.png, already exists\n",
      "did not copy //allen/programs/braintv/workgroups/nc-ophys/visual_behavior/lick_detection_validation/manually_annotated/no_contact/oeid_956903412__frame_111034.png, already exists\n",
      "did not copy //allen/programs/braintv/workgroups/nc-ophys/visual_behavior/lick_detection_validation/manually_annotated/no_contact/oeid_956903412__frame_40236.png, already exists\n",
      "did not copy //allen/programs/braintv/workgroups/nc-ophys/visual_behavior/lick_detection_validation/manually_annotated/paw/oeid_846490568__frame_85731.png, already exists\n"
     ]
    },
    {
     "name": "stderr",
     "output_type": "stream",
     "text": [
      "50it [00:00, 50.50it/s]"
     ]
    },
    {
     "name": "stdout",
     "output_type": "stream",
     "text": [
      "did not copy //allen/programs/braintv/workgroups/nc-ophys/visual_behavior/lick_detection_validation/manually_annotated/no_contact/oeid_956903412__frame_110163.png, already exists\n",
      "did not copy //allen/programs/braintv/workgroups/nc-ophys/visual_behavior/lick_detection_validation/manually_annotated/no_contact/oeid_956903412__frame_89602.png, already exists\n",
      "did not copy //allen/programs/braintv/workgroups/nc-ophys/visual_behavior/lick_detection_validation/manually_annotated/tongue/oeid_846490568__frame_28432.png, already exists\n"
     ]
    },
    {
     "name": "stderr",
     "output_type": "stream",
     "text": [
      "70it [00:01, 64.52it/s]"
     ]
    },
    {
     "name": "stdout",
     "output_type": "stream",
     "text": [
      "did not copy //allen/programs/braintv/workgroups/nc-ophys/visual_behavior/lick_detection_validation/manually_annotated/no_contact/oeid_956903412__frame_111832.png, already exists\n",
      "did not copy //allen/programs/braintv/workgroups/nc-ophys/visual_behavior/lick_detection_validation/manually_annotated/no_contact/oeid_956903412__frame_111821.png, already exists\n",
      "did not copy //allen/programs/braintv/workgroups/nc-ophys/visual_behavior/lick_detection_validation/manually_annotated/paw/oeid_956903412__frame_126718.png, already exists\n",
      "did not copy //allen/programs/braintv/workgroups/nc-ophys/visual_behavior/lick_detection_validation/manually_annotated/no_contact/oeid_956903412__frame_88637.png, already exists\n",
      "did not copy //allen/programs/braintv/workgroups/nc-ophys/visual_behavior/lick_detection_validation/manually_annotated/no_contact/oeid_956903412__frame_87136.png, already exists\n",
      "did not copy //allen/programs/braintv/workgroups/nc-ophys/visual_behavior/lick_detection_validation/manually_annotated/no_contact/oeid_956903412__frame_76910.png, already exists\n",
      "did not copy //allen/programs/braintv/workgroups/nc-ophys/visual_behavior/lick_detection_validation/manually_annotated/no_contact/oeid_956903412__frame_111998.png, already exists\n",
      "did not copy //allen/programs/braintv/workgroups/nc-ophys/visual_behavior/lick_detection_validation/manually_annotated/no_contact/oeid_956903412__frame_99250.png, already exists\n",
      "did not copy //allen/programs/braintv/workgroups/nc-ophys/visual_behavior/lick_detection_validation/manually_annotated/no_contact/oeid_956903412__frame_90345.png, already exists\n",
      "did not copy //allen/programs/braintv/workgroups/nc-ophys/visual_behavior/lick_detection_validation/manually_annotated/no_contact/oeid_956903412__frame_118814.png, already exists\n",
      "did not copy //allen/programs/braintv/workgroups/nc-ophys/visual_behavior/lick_detection_validation/manually_annotated/no_contact/oeid_956903412__frame_100882.png, already exists\n",
      "did not copy //allen/programs/braintv/workgroups/nc-ophys/visual_behavior/lick_detection_validation/manually_annotated/no_contact/oeid_956903412__frame_91266.png, already exists\n"
     ]
    },
    {
     "name": "stderr",
     "output_type": "stream",
     "text": [
      "84it [00:01, 63.00it/s]"
     ]
    },
    {
     "name": "stdout",
     "output_type": "stream",
     "text": [
      "did not copy //allen/programs/braintv/workgroups/nc-ophys/visual_behavior/lick_detection_validation/manually_annotated/no_contact/oeid_956903412__frame_63655.png, already exists\n",
      "did not copy //allen/programs/braintv/workgroups/nc-ophys/visual_behavior/lick_detection_validation/manually_annotated/paw/oeid_956903412__frame_61157.png, already exists\n",
      "did not copy //allen/programs/braintv/workgroups/nc-ophys/visual_behavior/lick_detection_validation/manually_annotated/no_contact/oeid_956903412__frame_110132.png, already exists\n",
      "did not copy //allen/programs/braintv/workgroups/nc-ophys/visual_behavior/lick_detection_validation/manually_annotated/tongue/oeid_956903412__frame_116361.png, already exists\n",
      "did not copy //allen/programs/braintv/workgroups/nc-ophys/visual_behavior/lick_detection_validation/manually_annotated/no_contact/oeid_956903412__frame_80618.png, already exists\n",
      "did not copy //allen/programs/braintv/workgroups/nc-ophys/visual_behavior/lick_detection_validation/manually_annotated/no_contact/oeid_956903412__frame_99449.png, already exists\n"
     ]
    },
    {
     "name": "stderr",
     "output_type": "stream",
     "text": [
      "\r",
      "92it [00:01, 64.24it/s]"
     ]
    },
    {
     "name": "stdout",
     "output_type": "stream",
     "text": [
      "did not copy //allen/programs/braintv/workgroups/nc-ophys/visual_behavior/lick_detection_validation/manually_annotated/no_contact/oeid_956903412__frame_81840.png, already exists\n",
      "did not copy //allen/programs/braintv/workgroups/nc-ophys/visual_behavior/lick_detection_validation/manually_annotated/no_contact/oeid_956903412__frame_89132.png, already exists\n",
      "did not copy //allen/programs/braintv/workgroups/nc-ophys/visual_behavior/lick_detection_validation/manually_annotated/no_contact/oeid_956903412__frame_103160.png, already exists\n",
      "did not copy //allen/programs/braintv/workgroups/nc-ophys/visual_behavior/lick_detection_validation/manually_annotated/no_contact/oeid_956903412__frame_82051.png, already exists\n",
      "did not copy //allen/programs/braintv/workgroups/nc-ophys/visual_behavior/lick_detection_validation/manually_annotated/no_contact/oeid_956903412__frame_92309.png, already exists\n",
      "did not copy //allen/programs/braintv/workgroups/nc-ophys/visual_behavior/lick_detection_validation/manually_annotated/no_contact/oeid_956903412__frame_89153.png, already exists\n",
      "did not copy //allen/programs/braintv/workgroups/nc-ophys/visual_behavior/lick_detection_validation/manually_annotated/no_contact/oeid_956903412__frame_104987.png, already exists\n",
      "did not copy //allen/programs/braintv/workgroups/nc-ophys/visual_behavior/lick_detection_validation/manually_annotated/no_contact/oeid_956903412__frame_89084.png, already exists\n",
      "did not copy //allen/programs/braintv/workgroups/nc-ophys/visual_behavior/lick_detection_validation/manually_annotated/no_contact/oeid_956903412__frame_103500.png, already exists\n",
      "did not copy //allen/programs/braintv/workgroups/nc-ophys/visual_behavior/lick_detection_validation/manually_annotated/no_contact/oeid_956903412__frame_80152.png, already exists\n"
     ]
    },
    {
     "name": "stderr",
     "output_type": "stream",
     "text": [
      "110it [00:01, 68.07it/s]"
     ]
    },
    {
     "name": "stdout",
     "output_type": "stream",
     "text": [
      "did not copy //allen/programs/braintv/workgroups/nc-ophys/visual_behavior/lick_detection_validation/manually_annotated/no_contact/oeid_956903412__frame_86946.png, already exists\n",
      "did not copy //allen/programs/braintv/workgroups/nc-ophys/visual_behavior/lick_detection_validation/manually_annotated/no_contact/oeid_956903412__frame_111136.png, already exists\n",
      "did not copy //allen/programs/braintv/workgroups/nc-ophys/visual_behavior/lick_detection_validation/manually_annotated/paw/oeid_956903412__frame_62680.png, already exists\n",
      "did not copy //allen/programs/braintv/workgroups/nc-ophys/visual_behavior/lick_detection_validation/manually_annotated/no_contact/oeid_956903412__frame_116789.png, already exists\n",
      "did not copy //allen/programs/braintv/workgroups/nc-ophys/visual_behavior/lick_detection_validation/manually_annotated/no_contact/oeid_956903412__frame_46027.png, already exists\n",
      "did not copy //allen/programs/braintv/workgroups/nc-ophys/visual_behavior/lick_detection_validation/manually_annotated/no_contact/oeid_956903412__frame_117642.png, already exists\n",
      "did not copy //allen/programs/braintv/workgroups/nc-ophys/visual_behavior/lick_detection_validation/manually_annotated/no_contact/oeid_956903412__frame_62962.png, already exists\n",
      "did not copy //allen/programs/braintv/workgroups/nc-ophys/visual_behavior/lick_detection_validation/manually_annotated/no_contact/oeid_956903412__frame_111844.png, already exists\n"
     ]
    },
    {
     "name": "stderr",
     "output_type": "stream",
     "text": [
      "129it [00:02, 40.06it/s]"
     ]
    },
    {
     "name": "stdout",
     "output_type": "stream",
     "text": [
      "did not copy //allen/programs/braintv/workgroups/nc-ophys/visual_behavior/lick_detection_validation/manually_annotated/no_contact/oeid_956903412__frame_69905.png, already exists\n",
      "did not copy //allen/programs/braintv/workgroups/nc-ophys/visual_behavior/lick_detection_validation/manually_annotated/no_contact/oeid_956903412__frame_60964.png, already exists\n",
      "did not copy //allen/programs/braintv/workgroups/nc-ophys/visual_behavior/lick_detection_validation/manually_annotated/no_contact/oeid_956903412__frame_118577.png, already exists\n",
      "did not copy //allen/programs/braintv/workgroups/nc-ophys/visual_behavior/lick_detection_validation/manually_annotated/tongue/oeid_956903412__frame_18556.png, already exists\n"
     ]
    },
    {
     "name": "stderr",
     "output_type": "stream",
     "text": [
      "139it [00:02, 42.71it/s]"
     ]
    },
    {
     "name": "stdout",
     "output_type": "stream",
     "text": [
      "did not copy //allen/programs/braintv/workgroups/nc-ophys/visual_behavior/lick_detection_validation/manually_annotated/no_contact/oeid_956903412__frame_83630.png, already exists\n",
      "did not copy //allen/programs/braintv/workgroups/nc-ophys/visual_behavior/lick_detection_validation/manually_annotated/no_contact/oeid_956903412__frame_108130.png, already exists\n",
      "did not copy //allen/programs/braintv/workgroups/nc-ophys/visual_behavior/lick_detection_validation/manually_annotated/no_contact/oeid_956903412__frame_105460.png, already exists\n"
     ]
    },
    {
     "name": "stderr",
     "output_type": "stream",
     "text": [
      "159it [00:02, 55.62it/s]"
     ]
    },
    {
     "name": "stdout",
     "output_type": "stream",
     "text": [
      "did not copy //allen/programs/braintv/workgroups/nc-ophys/visual_behavior/lick_detection_validation/manually_annotated/no_contact/oeid_956903412__frame_91368.png, already exists\n",
      "did not copy //allen/programs/braintv/workgroups/nc-ophys/visual_behavior/lick_detection_validation/manually_annotated/no_contact/oeid_956903412__frame_105142.png, already exists\n",
      "did not copy //allen/programs/braintv/workgroups/nc-ophys/visual_behavior/lick_detection_validation/manually_annotated/no_contact/oeid_956903412__frame_63742.png, already exists\n",
      "did not copy //allen/programs/braintv/workgroups/nc-ophys/visual_behavior/lick_detection_validation/manually_annotated/no_contact/oeid_956903412__frame_63813.png, already exists\n",
      "did not copy //allen/programs/braintv/workgroups/nc-ophys/visual_behavior/lick_detection_validation/manually_annotated/no_contact/oeid_956903412__frame_117612.png, already exists\n",
      "did not copy //allen/programs/braintv/workgroups/nc-ophys/visual_behavior/lick_detection_validation/manually_annotated/no_contact/oeid_956903412__frame_81669.png, already exists\n",
      "did not copy //allen/programs/braintv/workgroups/nc-ophys/visual_behavior/lick_detection_validation/manually_annotated/no_contact/oeid_956903412__frame_92065.png, already exists\n",
      "did not copy //allen/programs/braintv/workgroups/nc-ophys/visual_behavior/lick_detection_validation/manually_annotated/no_contact/oeid_956903412__frame_88216.png, already exists\n",
      "did not copy //allen/programs/braintv/workgroups/nc-ophys/visual_behavior/lick_detection_validation/manually_annotated/tongue/Thumbs.db, already exists\n",
      "did not copy //allen/programs/braintv/workgroups/nc-ophys/visual_behavior/lick_detection_validation/manually_annotated/no_contact/oeid_956903412__frame_31840.png, already exists\n",
      "did not copy //allen/programs/braintv/workgroups/nc-ophys/visual_behavior/lick_detection_validation/manually_annotated/no_contact/oeid_956903412__frame_132786.png, already exists\n",
      "did not copy //allen/programs/braintv/workgroups/nc-ophys/visual_behavior/lick_detection_validation/manually_annotated/no_contact/oeid_956903412__frame_81818.png, already exists\n"
     ]
    },
    {
     "name": "stderr",
     "output_type": "stream",
     "text": [
      "184it [00:02, 74.99it/s]"
     ]
    },
    {
     "name": "stdout",
     "output_type": "stream",
     "text": [
      "did not copy //allen/programs/braintv/workgroups/nc-ophys/visual_behavior/lick_detection_validation/manually_annotated/no_contact/oeid_956903412__frame_90883.png, already exists\n",
      "did not copy //allen/programs/braintv/workgroups/nc-ophys/visual_behavior/lick_detection_validation/manually_annotated/no_contact/oeid_956903412__frame_89195.png, already exists\n",
      "did not copy //allen/programs/braintv/workgroups/nc-ophys/visual_behavior/lick_detection_validation/manually_annotated/no_contact/Thumbs.db, already exists\n",
      "did not copy //allen/programs/braintv/workgroups/nc-ophys/visual_behavior/lick_detection_validation/manually_annotated/no_contact/oeid_956903412__frame_105167.png, already exists\n",
      "did not copy //allen/programs/braintv/workgroups/nc-ophys/visual_behavior/lick_detection_validation/manually_annotated/no_contact/oeid_846490568__frame_134414.png, already exists\n",
      "did not copy //allen/programs/braintv/workgroups/nc-ophys/visual_behavior/lick_detection_validation/manually_annotated/no_contact/oeid_956903412__frame_89583.png, already exists\n",
      "did not copy //allen/programs/braintv/workgroups/nc-ophys/visual_behavior/lick_detection_validation/manually_annotated/no_contact/oeid_956903412__frame_135050.png, already exists\n",
      "did not copy //allen/programs/braintv/workgroups/nc-ophys/visual_behavior/lick_detection_validation/manually_annotated/no_contact/oeid_956903412__frame_117640.png, already exists\n",
      "did not copy //allen/programs/braintv/workgroups/nc-ophys/visual_behavior/lick_detection_validation/manually_annotated/no_contact/oeid_956903412__frame_85981.png, already exists\n",
      "did not copy //allen/programs/braintv/workgroups/nc-ophys/visual_behavior/lick_detection_validation/manually_annotated/no_contact/oeid_956903412__frame_105171.png, already exists\n",
      "did not copy //allen/programs/braintv/workgroups/nc-ophys/visual_behavior/lick_detection_validation/manually_annotated/no_contact/oeid_956903412__frame_112173.png, already exists\n",
      "did not copy //allen/programs/braintv/workgroups/nc-ophys/visual_behavior/lick_detection_validation/manually_annotated/no_contact/oeid_956903412__frame_85916.png, already exists\n",
      "did not copy //allen/programs/braintv/workgroups/nc-ophys/visual_behavior/lick_detection_validation/manually_annotated/no_contact/oeid_956903412__frame_105138.png, already exists\n",
      "did not copy //allen/programs/braintv/workgroups/nc-ophys/visual_behavior/lick_detection_validation/manually_annotated/no_contact/oeid_956903412__frame_70151.png, already exists\n",
      "did not copy //allen/programs/braintv/workgroups/nc-ophys/visual_behavior/lick_detection_validation/manually_annotated/no_contact/oeid_956903412__frame_76929.png, already exists\n",
      "did not copy //allen/programs/braintv/workgroups/nc-ophys/visual_behavior/lick_detection_validation/manually_annotated/no_contact/oeid_956903412__frame_63956.png, already exists\n",
      "did not copy //allen/programs/braintv/workgroups/nc-ophys/visual_behavior/lick_detection_validation/manually_annotated/no_contact/oeid_956903412__frame_133020.png, already exists\n",
      "did not copy //allen/programs/braintv/workgroups/nc-ophys/visual_behavior/lick_detection_validation/manually_annotated/no_contact/oeid_846490568__frame_132567.png, already exists\n"
     ]
    },
    {
     "name": "stderr",
     "output_type": "stream",
     "text": [
      "\r",
      "194it [00:03, 63.20it/s]"
     ]
    },
    {
     "name": "stdout",
     "output_type": "stream",
     "text": [
      "did not copy //allen/programs/braintv/workgroups/nc-ophys/visual_behavior/lick_detection_validation/manually_annotated/paw/oeid_956903412__frame_81653.png, already exists\n",
      "did not copy //allen/programs/braintv/workgroups/nc-ophys/visual_behavior/lick_detection_validation/manually_annotated/no_contact/oeid_956903412__frame_5388.png, already exists\n",
      "did not copy //allen/programs/braintv/workgroups/nc-ophys/visual_behavior/lick_detection_validation/manually_annotated/no_contact/oeid_956903412__frame_69827.png, already exists\n",
      "did not copy //allen/programs/braintv/workgroups/nc-ophys/visual_behavior/lick_detection_validation/manually_annotated/no_contact/oeid_956903412__frame_104089.png, already exists\n"
     ]
    },
    {
     "name": "stderr",
     "output_type": "stream",
     "text": [
      "\r",
      "203it [00:03, 67.64it/s]"
     ]
    },
    {
     "name": "stdout",
     "output_type": "stream",
     "text": [
      "did not copy //allen/programs/braintv/workgroups/nc-ophys/visual_behavior/lick_detection_validation/manually_annotated/no_contact/oeid_956903412__frame_86233.png, already exists\n",
      "did not copy //allen/programs/braintv/workgroups/nc-ophys/visual_behavior/lick_detection_validation/manually_annotated/no_contact/oeid_956903412__frame_102424.png, already exists\n",
      "did not copy //allen/programs/braintv/workgroups/nc-ophys/visual_behavior/lick_detection_validation/manually_annotated/no_contact/oeid_956903412__frame_91110.png, already exists\n",
      "did not copy //allen/programs/braintv/workgroups/nc-ophys/visual_behavior/lick_detection_validation/manually_annotated/no_contact/oeid_846490568__frame_133995.png, already exists\n",
      "did not copy //allen/programs/braintv/workgroups/nc-ophys/visual_behavior/lick_detection_validation/manually_annotated/no_contact/oeid_956903412__frame_105043.png, already exists\n",
      "did not copy //allen/programs/braintv/workgroups/nc-ophys/visual_behavior/lick_detection_validation/manually_annotated/paw/Thumbs.db, already exists\n",
      "did not copy //allen/programs/braintv/workgroups/nc-ophys/visual_behavior/lick_detection_validation/manually_annotated/no_contact/oeid_956903412__frame_33834.png, already exists\n"
     ]
    },
    {
     "name": "stderr",
     "output_type": "stream",
     "text": [
      "219it [00:03, 65.22it/s]"
     ]
    },
    {
     "name": "stdout",
     "output_type": "stream",
     "text": [
      "did not copy //allen/programs/braintv/workgroups/nc-ophys/visual_behavior/lick_detection_validation/manually_annotated/no_contact/oeid_956903412__frame_129499.png, already exists\n",
      "did not copy //allen/programs/braintv/workgroups/nc-ophys/visual_behavior/lick_detection_validation/manually_annotated/no_contact/oeid_956903412__frame_81747.png, already exists\n",
      "did not copy //allen/programs/braintv/workgroups/nc-ophys/visual_behavior/lick_detection_validation/manually_annotated/no_contact/oeid_956903412__frame_70677.png, already exists\n",
      "did not copy //allen/programs/braintv/workgroups/nc-ophys/visual_behavior/lick_detection_validation/manually_annotated/no_contact/oeid_956903412__frame_91159.png, already exists\n",
      "did not copy //allen/programs/braintv/workgroups/nc-ophys/visual_behavior/lick_detection_validation/manually_annotated/no_contact/oeid_956903412__frame_135077.png, already exists\n",
      "did not copy //allen/programs/braintv/workgroups/nc-ophys/visual_behavior/lick_detection_validation/manually_annotated/no_contact/oeid_956903412__frame_91453.png, already exists\n",
      "did not copy //allen/programs/braintv/workgroups/nc-ophys/visual_behavior/lick_detection_validation/manually_annotated/no_contact/oeid_956903412__frame_87661.png, already exists\n",
      "did not copy //allen/programs/braintv/workgroups/nc-ophys/visual_behavior/lick_detection_validation/manually_annotated/no_contact/oeid_846490568__frame_33226.png, already exists\n",
      "did not copy //allen/programs/braintv/workgroups/nc-ophys/visual_behavior/lick_detection_validation/manually_annotated/no_contact/oeid_956903412__frame_103865.png, already exists\n",
      "did not copy //allen/programs/braintv/workgroups/nc-ophys/visual_behavior/lick_detection_validation/manually_annotated/no_contact/oeid_956903412__frame_105100.png, already exists\n",
      "did not copy //allen/programs/braintv/workgroups/nc-ophys/visual_behavior/lick_detection_validation/manually_annotated/no_contact/oeid_956903412__frame_105192.png, already exists\n",
      "did not copy //allen/programs/braintv/workgroups/nc-ophys/visual_behavior/lick_detection_validation/manually_annotated/no_contact/oeid_956903412__frame_69870.png, already exists\n",
      "did not copy //allen/programs/braintv/workgroups/nc-ophys/visual_behavior/lick_detection_validation/manually_annotated/no_contact/oeid_956903412__frame_111029.png, already exists\n"
     ]
    },
    {
     "name": "stderr",
     "output_type": "stream",
     "text": [
      "241it [00:03, 64.16it/s]"
     ]
    },
    {
     "name": "stdout",
     "output_type": "stream",
     "text": [
      "did not copy //allen/programs/braintv/workgroups/nc-ophys/visual_behavior/lick_detection_validation/manually_annotated/no_contact/oeid_956903412__frame_91045.png, already exists\n",
      "did not copy //allen/programs/braintv/workgroups/nc-ophys/visual_behavior/lick_detection_validation/manually_annotated/no_contact/oeid_956903412__frame_102910.png, already exists\n",
      "did not copy //allen/programs/braintv/workgroups/nc-ophys/visual_behavior/lick_detection_validation/manually_annotated/no_contact/oeid_956903412__frame_116935.png, already exists\n",
      "did not copy //allen/programs/braintv/workgroups/nc-ophys/visual_behavior/lick_detection_validation/manually_annotated/no_contact/oeid_956903412__frame_103953.png, already exists\n",
      "did not copy //allen/programs/braintv/workgroups/nc-ophys/visual_behavior/lick_detection_validation/manually_annotated/no_contact/oeid_956903412__frame_91026.png, already exists\n",
      "did not copy //allen/programs/braintv/workgroups/nc-ophys/visual_behavior/lick_detection_validation/manually_annotated/no_contact/oeid_956903412__frame_65058.png, already exists\n",
      "did not copy //allen/programs/braintv/workgroups/nc-ophys/visual_behavior/lick_detection_validation/manually_annotated/no_contact/oeid_956903412__frame_104244.png, already exists\n",
      "did not copy //allen/programs/braintv/workgroups/nc-ophys/visual_behavior/lick_detection_validation/manually_annotated/no_contact/oeid_956903412__frame_44272.png, already exists\n",
      "did not copy //allen/programs/braintv/workgroups/nc-ophys/visual_behavior/lick_detection_validation/manually_annotated/no_contact/oeid_956903412__frame_89684.png, already exists\n"
     ]
    },
    {
     "name": "stderr",
     "output_type": "stream",
     "text": [
      "270it [00:04, 73.60it/s]"
     ]
    },
    {
     "name": "stdout",
     "output_type": "stream",
     "text": [
      "did not copy //allen/programs/braintv/workgroups/nc-ophys/visual_behavior/lick_detection_validation/manually_annotated/no_contact/oeid_956903412__frame_128098.png, already exists\n",
      "did not copy //allen/programs/braintv/workgroups/nc-ophys/visual_behavior/lick_detection_validation/manually_annotated/no_contact/oeid_956903412__frame_121697.png, already exists\n",
      "did not copy //allen/programs/braintv/workgroups/nc-ophys/visual_behavior/lick_detection_validation/manually_annotated/no_contact/oeid_846490568__frame_134869.png, already exists\n",
      "did not copy //allen/programs/braintv/workgroups/nc-ophys/visual_behavior/lick_detection_validation/manually_annotated/no_contact/oeid_846490568__frame_112648.png, already exists\n",
      "did not copy //allen/programs/braintv/workgroups/nc-ophys/visual_behavior/lick_detection_validation/manually_annotated/no_contact/oeid_956903412__frame_116725.png, already exists\n",
      "did not copy //allen/programs/braintv/workgroups/nc-ophys/visual_behavior/lick_detection_validation/manually_annotated/no_contact/oeid_956903412__frame_118622.png, already exists\n",
      "did not copy //allen/programs/braintv/workgroups/nc-ophys/visual_behavior/lick_detection_validation/manually_annotated/no_contact/oeid_956903412__frame_81423.png, already exists\n",
      "did not copy //allen/programs/braintv/workgroups/nc-ophys/visual_behavior/lick_detection_validation/manually_annotated/no_contact/oeid_956903412__frame_120666.png, already exists\n",
      "did not copy //allen/programs/braintv/workgroups/nc-ophys/visual_behavior/lick_detection_validation/manually_annotated/tongue/oeid_846490568__frame_87308.png, already exists\n",
      "did not copy //allen/programs/braintv/workgroups/nc-ophys/visual_behavior/lick_detection_validation/manually_annotated/no_contact/oeid_956903412__frame_111168.png, already exists\n",
      "did not copy //allen/programs/braintv/workgroups/nc-ophys/visual_behavior/lick_detection_validation/manually_annotated/no_contact/oeid_956903412__frame_63806.png, already exists\n"
     ]
    },
    {
     "name": "stderr",
     "output_type": "stream",
     "text": [
      "285it [00:04, 46.57it/s]"
     ]
    },
    {
     "name": "stdout",
     "output_type": "stream",
     "text": [
      "did not copy //allen/programs/braintv/workgroups/nc-ophys/visual_behavior/lick_detection_validation/manually_annotated/no_contact/oeid_846490568__frame_133359.png, already exists\n",
      "did not copy //allen/programs/braintv/workgroups/nc-ophys/visual_behavior/lick_detection_validation/manually_annotated/no_contact/oeid_956903412__frame_76651.png, already exists\n",
      "did not copy //allen/programs/braintv/workgroups/nc-ophys/visual_behavior/lick_detection_validation/manually_annotated/no_contact/oeid_956903412__frame_118746.png, already exists\n",
      "did not copy //allen/programs/braintv/workgroups/nc-ophys/visual_behavior/lick_detection_validation/manually_annotated/no_contact/oeid_956903412__frame_31751.png, already exists\n",
      "did not copy //allen/programs/braintv/workgroups/nc-ophys/visual_behavior/lick_detection_validation/manually_annotated/no_contact/oeid_956903412__frame_68432.png, already exists\n"
     ]
    },
    {
     "name": "stderr",
     "output_type": "stream",
     "text": [
      "301it [00:04, 55.26it/s]"
     ]
    },
    {
     "name": "stdout",
     "output_type": "stream",
     "text": [
      "did not copy //allen/programs/braintv/workgroups/nc-ophys/visual_behavior/lick_detection_validation/manually_annotated/no_contact/oeid_956903412__frame_93701.png, already exists\n",
      "did not copy //allen/programs/braintv/workgroups/nc-ophys/visual_behavior/lick_detection_validation/manually_annotated/no_contact/oeid_956903412__frame_105061.png, already exists\n",
      "did not copy //allen/programs/braintv/workgroups/nc-ophys/visual_behavior/lick_detection_validation/manually_annotated/no_contact/oeid_956903412__frame_98039.png, already exists\n",
      "did not copy //allen/programs/braintv/workgroups/nc-ophys/visual_behavior/lick_detection_validation/manually_annotated/no_contact/oeid_956903412__frame_67789.png, already exists\n",
      "did not copy //allen/programs/braintv/workgroups/nc-ophys/visual_behavior/lick_detection_validation/manually_annotated/no_contact/oeid_956903412__frame_85537.png, already exists\n",
      "did not copy //allen/programs/braintv/workgroups/nc-ophys/visual_behavior/lick_detection_validation/manually_annotated/no_contact/oeid_956903412__frame_112090.png, already exists\n",
      "did not copy //allen/programs/braintv/workgroups/nc-ophys/visual_behavior/lick_detection_validation/manually_annotated/no_contact/oeid_956903412__frame_118316.png, already exists\n",
      "did not copy //allen/programs/braintv/workgroups/nc-ophys/visual_behavior/lick_detection_validation/manually_annotated/no_contact/oeid_956903412__frame_80859.png, already exists\n"
     ]
    },
    {
     "name": "stderr",
     "output_type": "stream",
     "text": [
      "316it [00:05, 57.09it/s]"
     ]
    },
    {
     "name": "stdout",
     "output_type": "stream",
     "text": [
      "did not copy //allen/programs/braintv/workgroups/nc-ophys/visual_behavior/lick_detection_validation/manually_annotated/no_contact/oeid_956903412__frame_91007.png, already exists\n",
      "did not copy //allen/programs/braintv/workgroups/nc-ophys/visual_behavior/lick_detection_validation/manually_annotated/tongue/oeid_846490568__frame_43646.png, already exists\n",
      "did not copy //allen/programs/braintv/workgroups/nc-ophys/visual_behavior/lick_detection_validation/manually_annotated/no_contact/oeid_956903412__frame_69914.png, already exists\n",
      "did not copy //allen/programs/braintv/workgroups/nc-ophys/visual_behavior/lick_detection_validation/manually_annotated/no_contact/oeid_956903412__frame_91098.png, already exists\n",
      "did not copy //allen/programs/braintv/workgroups/nc-ophys/visual_behavior/lick_detection_validation/manually_annotated/no_contact/oeid_956903412__frame_111768.png, already exists\n",
      "did not copy //allen/programs/braintv/workgroups/nc-ophys/visual_behavior/lick_detection_validation/manually_annotated/no_contact/oeid_956903412__frame_89967.png, already exists\n",
      "did not copy //allen/programs/braintv/workgroups/nc-ophys/visual_behavior/lick_detection_validation/manually_annotated/no_contact/oeid_956903412__frame_125058.png, already exists\n",
      "did not copy //allen/programs/braintv/workgroups/nc-ophys/visual_behavior/lick_detection_validation/manually_annotated/no_contact/oeid_956903412__frame_105000.png, already exists\n"
     ]
    },
    {
     "name": "stderr",
     "output_type": "stream",
     "text": [
      "\r",
      "324it [00:05, 60.27it/s]"
     ]
    },
    {
     "name": "stdout",
     "output_type": "stream",
     "text": [
      "did not copy //allen/programs/braintv/workgroups/nc-ophys/visual_behavior/lick_detection_validation/manually_annotated/no_contact/oeid_956903412__frame_117645.png, already exists\n"
     ]
    },
    {
     "name": "stderr",
     "output_type": "stream",
     "text": [
      "337it [00:05, 46.61it/s]\n"
     ]
    }
   ],
   "source": [
    "data_dst = '/allen/programs/braintv/workgroups/nc-ophys/visual_behavior/lick_detection_validation/models/three_class_model'\n",
    "for idx,row in tqdm(new_data.iterrows()):\n",
    "    src = os.path.join(new_image_path,row['folder'],row['filename'])\n",
    "    dst = os.path.join(existing_image_path,row['set'],str(row['label']))\n",
    "    if os.path.exists(dst) == False:\n",
    "        os.mkdir(dst)\n",
    "    if row['filename'] not in existing_filenames:\n",
    "        shutil.copy(src,dst)\n",
    "    else:\n",
    "        print('did not copy {}, already exists'.format(src))"
   ]
  },
  {
   "cell_type": "code",
   "execution_count": 27,
   "metadata": {},
   "outputs": [
    {
     "data": {
      "text/plain": [
       "False"
      ]
     },
     "execution_count": 27,
     "metadata": {},
     "output_type": "execute_result"
    }
   ],
   "source": [
    "target_path = '/ibs-dougo-ux1/root/local'\n",
    "os.path.exists(target_path)"
   ]
  },
  {
   "cell_type": "code",
   "execution_count": null,
   "metadata": {},
   "outputs": [],
   "source": [
    "from dirsync import sync\n",
    "source_path = data_dst = '/allen/programs/braintv/workgroups/nc-ophys/visual_behavior/lick_detection_validation/models/three_class_model'\n",
    "target_path = '/Give/Target/Folder/Here'\n",
    "\n",
    "sync(source_path, target_path, 'sync') #for syncing one way\n",
    "# sync(target_path, source_path, 'sync') #for syncing the opposite way"
   ]
  }
 ],
 "metadata": {
  "kernelspec": {
   "display_name": "keras",
   "language": "python",
   "name": "keras"
  },
  "language_info": {
   "codemirror_mode": {
    "name": "ipython",
    "version": 3
   },
   "file_extension": ".py",
   "mimetype": "text/x-python",
   "name": "python",
   "nbconvert_exporter": "python",
   "pygments_lexer": "ipython3",
   "version": "3.6.8"
  }
 },
 "nbformat": 4,
 "nbformat_minor": 2
}
