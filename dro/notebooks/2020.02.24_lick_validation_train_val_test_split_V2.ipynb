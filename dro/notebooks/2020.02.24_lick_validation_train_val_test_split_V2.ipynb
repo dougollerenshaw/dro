{
 "cells": [
  {
   "cell_type": "code",
   "execution_count": 6,
   "metadata": {},
   "outputs": [],
   "source": [
    "import pandas as pd\n",
    "import os\n",
    "from tqdm import tqdm\n",
    "import shutil"
   ]
  },
  {
   "cell_type": "code",
   "execution_count": 11,
   "metadata": {},
   "outputs": [
    {
     "data": {
      "text/plain": [
       "'//allen/programs/braintv/workgroups/nc-ophys/visual_behavior/lick_detection_validation/manually_annotated'"
      ]
     },
     "execution_count": 11,
     "metadata": {},
     "output_type": "execute_result"
    }
   ],
   "source": [
    "new_image_path = r'//allen/programs/braintv/workgroups/nc-ophys/visual_behavior/lick_detection_validation/manually_annotated'\n",
    "new_folder_names = [\n",
    "    'no_contact',\n",
    "    'tongue',\n",
    "    'paw',\n",
    "]\n",
    "new_image_path"
   ]
  },
  {
   "cell_type": "code",
   "execution_count": 12,
   "metadata": {},
   "outputs": [
    {
     "data": {
      "text/plain": [
       "'//allen/programs/braintv/workgroups/nc-ophys/visual_behavior/lick_detection_validation/models/three_class_model'"
      ]
     },
     "execution_count": 12,
     "metadata": {},
     "output_type": "execute_result"
    }
   ],
   "source": [
    "existing_image_path = r'//allen/programs/braintv/workgroups/nc-ophys/visual_behavior/lick_detection_validation/models/three_class_model'\n",
    "existing_folder_names = [\n",
    "    'train',\n",
    "    'test',\n",
    "    'validate',\n",
    "]\n",
    "existing_image_path"
   ]
  },
  {
   "cell_type": "code",
   "execution_count": 13,
   "metadata": {},
   "outputs": [],
   "source": [
    "new_data = []\n",
    "for folder_name in new_folder_names:\n",
    "    df = pd.DataFrame({'filename':os.listdir(os.path.join(new_image_path,folder_name))})\n",
    "    df['folder'] = folder_name\n",
    "    new_data.append(df)\n",
    "new_data = pd.concat(new_data)"
   ]
  },
  {
   "cell_type": "code",
   "execution_count": 14,
   "metadata": {},
   "outputs": [
    {
     "data": {
      "text/html": [
       "<div>\n",
       "<style scoped>\n",
       "    .dataframe tbody tr th:only-of-type {\n",
       "        vertical-align: middle;\n",
       "    }\n",
       "\n",
       "    .dataframe tbody tr th {\n",
       "        vertical-align: top;\n",
       "    }\n",
       "\n",
       "    .dataframe thead th {\n",
       "        text-align: right;\n",
       "    }\n",
       "</style>\n",
       "<table border=\"1\" class=\"dataframe\">\n",
       "  <thead>\n",
       "    <tr style=\"text-align: right;\">\n",
       "      <th></th>\n",
       "      <th>filename</th>\n",
       "      <th>folder</th>\n",
       "    </tr>\n",
       "  </thead>\n",
       "  <tbody>\n",
       "    <tr>\n",
       "      <th>0</th>\n",
       "      <td>oeid_846487947__frame_121967.png</td>\n",
       "      <td>no_contact</td>\n",
       "    </tr>\n",
       "    <tr>\n",
       "      <th>1</th>\n",
       "      <td>oeid_846487947__frame_98778.png</td>\n",
       "      <td>no_contact</td>\n",
       "    </tr>\n",
       "    <tr>\n",
       "      <th>2</th>\n",
       "      <td>oeid_965930965__frame_22518.png</td>\n",
       "      <td>no_contact</td>\n",
       "    </tr>\n",
       "    <tr>\n",
       "      <th>3</th>\n",
       "      <td>oeid_826587940__frame_1770.png</td>\n",
       "      <td>no_contact</td>\n",
       "    </tr>\n",
       "    <tr>\n",
       "      <th>4</th>\n",
       "      <td>oeid_817267785__frame_125060.png</td>\n",
       "      <td>no_contact</td>\n",
       "    </tr>\n",
       "    <tr>\n",
       "      <th>...</th>\n",
       "      <td>...</td>\n",
       "      <td>...</td>\n",
       "    </tr>\n",
       "    <tr>\n",
       "      <th>63</th>\n",
       "      <td>oeid_813083478__frame_58575.png</td>\n",
       "      <td>paw</td>\n",
       "    </tr>\n",
       "    <tr>\n",
       "      <th>64</th>\n",
       "      <td>oeid_813083478__frame_58631.png</td>\n",
       "      <td>paw</td>\n",
       "    </tr>\n",
       "    <tr>\n",
       "      <th>65</th>\n",
       "      <td>oeid_977132456__frame_106747.png</td>\n",
       "      <td>paw</td>\n",
       "    </tr>\n",
       "    <tr>\n",
       "      <th>66</th>\n",
       "      <td>oeid_813083478__frame_58581.png</td>\n",
       "      <td>paw</td>\n",
       "    </tr>\n",
       "    <tr>\n",
       "      <th>67</th>\n",
       "      <td>oeid_822024770__frame_82554.png</td>\n",
       "      <td>paw</td>\n",
       "    </tr>\n",
       "  </tbody>\n",
       "</table>\n",
       "<p>8483 rows × 2 columns</p>\n",
       "</div>"
      ],
      "text/plain": [
       "                            filename      folder\n",
       "0   oeid_846487947__frame_121967.png  no_contact\n",
       "1    oeid_846487947__frame_98778.png  no_contact\n",
       "2    oeid_965930965__frame_22518.png  no_contact\n",
       "3     oeid_826587940__frame_1770.png  no_contact\n",
       "4   oeid_817267785__frame_125060.png  no_contact\n",
       "..                               ...         ...\n",
       "63   oeid_813083478__frame_58575.png         paw\n",
       "64   oeid_813083478__frame_58631.png         paw\n",
       "65  oeid_977132456__frame_106747.png         paw\n",
       "66   oeid_813083478__frame_58581.png         paw\n",
       "67   oeid_822024770__frame_82554.png         paw\n",
       "\n",
       "[8483 rows x 2 columns]"
      ]
     },
     "execution_count": 14,
     "metadata": {},
     "output_type": "execute_result"
    }
   ],
   "source": [
    "new_data"
   ]
  },
  {
   "cell_type": "code",
   "execution_count": 15,
   "metadata": {},
   "outputs": [],
   "source": [
    "existing_filenames = []\n",
    "for foldername in existing_folder_names:\n",
    "    for category in new_folder_names:\n",
    "        existing_filenames += os.listdir(os.path.join(existing_image_path, foldername, category))"
   ]
  },
  {
   "cell_type": "code",
   "execution_count": 16,
   "metadata": {},
   "outputs": [
    {
     "data": {
      "text/plain": [
       "11316"
      ]
     },
     "execution_count": 16,
     "metadata": {},
     "output_type": "execute_result"
    }
   ],
   "source": [
    "len(existing_filenames)"
   ]
  },
  {
   "cell_type": "code",
   "execution_count": 17,
   "metadata": {},
   "outputs": [],
   "source": [
    "new_data = new_data.sample(len(new_data)).reset_index()\n",
    "new_data['set'] = None\n",
    "new_data['label'] = None"
   ]
  },
  {
   "cell_type": "code",
   "execution_count": 18,
   "metadata": {},
   "outputs": [],
   "source": [
    "def label(folder):\n",
    "    if folder.startswith('tongue'):\n",
    "        return 'tongue'\n",
    "    elif folder.startswith('paw'):\n",
    "        return 'paw'\n",
    "    else:\n",
    "        return 'no_contact'"
   ]
  },
  {
   "cell_type": "code",
   "execution_count": 19,
   "metadata": {},
   "outputs": [],
   "source": [
    "new_data.loc[:0.8*len(new_data),'set'] = 'train'\n",
    "new_data.loc[0.8*len(new_data):0.9*len(new_data),'set'] = 'validate'\n",
    "new_data.loc[0.9*len(new_data):,'set'] = 'test'\n",
    "new_data['label'] = new_data['folder'].map(label)"
   ]
  },
  {
   "cell_type": "code",
   "execution_count": 20,
   "metadata": {},
   "outputs": [
    {
     "data": {
      "text/html": [
       "<div>\n",
       "<style scoped>\n",
       "    .dataframe tbody tr th:only-of-type {\n",
       "        vertical-align: middle;\n",
       "    }\n",
       "\n",
       "    .dataframe tbody tr th {\n",
       "        vertical-align: top;\n",
       "    }\n",
       "\n",
       "    .dataframe thead th {\n",
       "        text-align: right;\n",
       "    }\n",
       "</style>\n",
       "<table border=\"1\" class=\"dataframe\">\n",
       "  <thead>\n",
       "    <tr style=\"text-align: right;\">\n",
       "      <th></th>\n",
       "      <th>index</th>\n",
       "      <th>filename</th>\n",
       "      <th>folder</th>\n",
       "      <th>set</th>\n",
       "      <th>label</th>\n",
       "    </tr>\n",
       "  </thead>\n",
       "  <tbody>\n",
       "    <tr>\n",
       "      <th>0</th>\n",
       "      <td>442</td>\n",
       "      <td>oeid_846487947__frame_74720.png</td>\n",
       "      <td>no_contact</td>\n",
       "      <td>train</td>\n",
       "      <td>no_contact</td>\n",
       "    </tr>\n",
       "    <tr>\n",
       "      <th>1</th>\n",
       "      <td>1970</td>\n",
       "      <td>oeid_909090479__frame_135992.png</td>\n",
       "      <td>no_contact</td>\n",
       "      <td>train</td>\n",
       "      <td>no_contact</td>\n",
       "    </tr>\n",
       "    <tr>\n",
       "      <th>2</th>\n",
       "      <td>1182</td>\n",
       "      <td>oeid_933338703__frame_74437.png</td>\n",
       "      <td>tongue</td>\n",
       "      <td>train</td>\n",
       "      <td>tongue</td>\n",
       "    </tr>\n",
       "    <tr>\n",
       "      <th>3</th>\n",
       "      <td>2290</td>\n",
       "      <td>oeid_953443028__frame_10773.png</td>\n",
       "      <td>tongue</td>\n",
       "      <td>train</td>\n",
       "      <td>tongue</td>\n",
       "    </tr>\n",
       "    <tr>\n",
       "      <th>4</th>\n",
       "      <td>3928</td>\n",
       "      <td>oeid_846487947__frame_48150.png</td>\n",
       "      <td>no_contact</td>\n",
       "      <td>train</td>\n",
       "      <td>no_contact</td>\n",
       "    </tr>\n",
       "    <tr>\n",
       "      <th>...</th>\n",
       "      <td>...</td>\n",
       "      <td>...</td>\n",
       "      <td>...</td>\n",
       "      <td>...</td>\n",
       "      <td>...</td>\n",
       "    </tr>\n",
       "    <tr>\n",
       "      <th>8478</th>\n",
       "      <td>2489</td>\n",
       "      <td>oeid_823392290__frame_55740.png</td>\n",
       "      <td>tongue</td>\n",
       "      <td>test</td>\n",
       "      <td>tongue</td>\n",
       "    </tr>\n",
       "    <tr>\n",
       "      <th>8479</th>\n",
       "      <td>4156</td>\n",
       "      <td>oeid_842973730__frame_55326.png</td>\n",
       "      <td>no_contact</td>\n",
       "      <td>test</td>\n",
       "      <td>no_contact</td>\n",
       "    </tr>\n",
       "    <tr>\n",
       "      <th>8480</th>\n",
       "      <td>2897</td>\n",
       "      <td>oeid_962473308__frame_21343.png</td>\n",
       "      <td>tongue</td>\n",
       "      <td>test</td>\n",
       "      <td>tongue</td>\n",
       "    </tr>\n",
       "    <tr>\n",
       "      <th>8481</th>\n",
       "      <td>1744</td>\n",
       "      <td>oeid_850489605__frame_101608.png</td>\n",
       "      <td>tongue</td>\n",
       "      <td>test</td>\n",
       "      <td>tongue</td>\n",
       "    </tr>\n",
       "    <tr>\n",
       "      <th>8482</th>\n",
       "      <td>3101</td>\n",
       "      <td>oeid_848692970__frame_57129.png</td>\n",
       "      <td>tongue</td>\n",
       "      <td>test</td>\n",
       "      <td>tongue</td>\n",
       "    </tr>\n",
       "  </tbody>\n",
       "</table>\n",
       "<p>8483 rows × 5 columns</p>\n",
       "</div>"
      ],
      "text/plain": [
       "      index                          filename      folder    set       label\n",
       "0       442   oeid_846487947__frame_74720.png  no_contact  train  no_contact\n",
       "1      1970  oeid_909090479__frame_135992.png  no_contact  train  no_contact\n",
       "2      1182   oeid_933338703__frame_74437.png      tongue  train      tongue\n",
       "3      2290   oeid_953443028__frame_10773.png      tongue  train      tongue\n",
       "4      3928   oeid_846487947__frame_48150.png  no_contact  train  no_contact\n",
       "...     ...                               ...         ...    ...         ...\n",
       "8478   2489   oeid_823392290__frame_55740.png      tongue   test      tongue\n",
       "8479   4156   oeid_842973730__frame_55326.png  no_contact   test  no_contact\n",
       "8480   2897   oeid_962473308__frame_21343.png      tongue   test      tongue\n",
       "8481   1744  oeid_850489605__frame_101608.png      tongue   test      tongue\n",
       "8482   3101   oeid_848692970__frame_57129.png      tongue   test      tongue\n",
       "\n",
       "[8483 rows x 5 columns]"
      ]
     },
     "execution_count": 20,
     "metadata": {},
     "output_type": "execute_result"
    }
   ],
   "source": [
    "new_data"
   ]
  },
  {
   "cell_type": "code",
   "execution_count": 21,
   "metadata": {},
   "outputs": [
    {
     "data": {
      "text/plain": [
       "no_contact    4878\n",
       "tongue        3537\n",
       "paw             68\n",
       "Name: label, dtype: int64"
      ]
     },
     "execution_count": 21,
     "metadata": {},
     "output_type": "execute_result"
    }
   ],
   "source": [
    "new_data['label'].value_counts()"
   ]
  },
  {
   "cell_type": "code",
   "execution_count": 22,
   "metadata": {},
   "outputs": [
    {
     "data": {
      "text/plain": [
       "train       6787\n",
       "validate     848\n",
       "test         848\n",
       "Name: set, dtype: int64"
      ]
     },
     "execution_count": 22,
     "metadata": {},
     "output_type": "execute_result"
    }
   ],
   "source": [
    "new_data['set'].value_counts()"
   ]
  },
  {
   "cell_type": "code",
   "execution_count": 23,
   "metadata": {},
   "outputs": [
    {
     "name": "stderr",
     "output_type": "stream",
     "text": [
      "2341it [00:29, 94.43it/s] "
     ]
    },
    {
     "name": "stdout",
     "output_type": "stream",
     "text": [
      "did not move //allen/programs/braintv/workgroups/nc-ophys/visual_behavior/lick_detection_validation/manually_annotated/paw/Thumbs.db, already exists\n"
     ]
    },
    {
     "name": "stderr",
     "output_type": "stream",
     "text": [
      "2448it [00:30, 96.35it/s] "
     ]
    },
    {
     "name": "stdout",
     "output_type": "stream",
     "text": [
      "did not move //allen/programs/braintv/workgroups/nc-ophys/visual_behavior/lick_detection_validation/manually_annotated/no_contact/Thumbs.db, already exists\n"
     ]
    },
    {
     "name": "stderr",
     "output_type": "stream",
     "text": [
      "3585it [00:42, 102.60it/s]"
     ]
    },
    {
     "name": "stdout",
     "output_type": "stream",
     "text": [
      "did not move //allen/programs/braintv/workgroups/nc-ophys/visual_behavior/lick_detection_validation/manually_annotated/tongue/Thumbs.db, already exists\n"
     ]
    },
    {
     "name": "stderr",
     "output_type": "stream",
     "text": [
      "3722it [00:43, 99.84it/s] "
     ]
    },
    {
     "name": "stdout",
     "output_type": "stream",
     "text": [
      "did not move //allen/programs/braintv/workgroups/nc-ophys/visual_behavior/lick_detection_validation/manually_annotated/tongue/oeid_896160394__frame_11440.png, already exists\n"
     ]
    },
    {
     "name": "stderr",
     "output_type": "stream",
     "text": [
      "4846it [00:54, 105.02it/s]"
     ]
    },
    {
     "name": "stdout",
     "output_type": "stream",
     "text": [
      "did not move //allen/programs/braintv/workgroups/nc-ophys/visual_behavior/lick_detection_validation/manually_annotated/tongue/oeid_878358326__frame_56448.png, already exists\n"
     ]
    },
    {
     "name": "stderr",
     "output_type": "stream",
     "text": [
      "8483it [01:29, 95.17it/s] \n"
     ]
    }
   ],
   "source": [
    "data_dst = '/allen/programs/braintv/workgroups/nc-ophys/visual_behavior/lick_detection_validation/models/three_class_model'\n",
    "for idx,row in tqdm(new_data.iterrows()):\n",
    "    src = os.path.join(new_image_path,row['folder'],row['filename'])\n",
    "    dst = os.path.join(existing_image_path,row['set'],str(row['label']))\n",
    "    if os.path.exists(dst) == False:\n",
    "        os.mkdir(dst)\n",
    "    if row['filename'] not in existing_filenames:\n",
    "        shutil.move(src,dst)\n",
    "    else:\n",
    "        print('did not move {}, already exists'.format(src))"
   ]
  },
  {
   "cell_type": "code",
   "execution_count": null,
   "metadata": {},
   "outputs": [],
   "source": [
    "target_path = '/ibs-dougo-ux1/root/local'\n",
    "os.path.exists(target_path)"
   ]
  },
  {
   "cell_type": "code",
   "execution_count": null,
   "metadata": {},
   "outputs": [],
   "source": [
    "from dirsync import sync\n",
    "source_path = data_dst = '/allen/programs/braintv/workgroups/nc-ophys/visual_behavior/lick_detection_validation/models/three_class_model'\n",
    "target_path = '/Give/Target/Folder/Here'\n",
    "\n",
    "sync(source_path, target_path, 'sync') #for syncing one way\n",
    "# sync(target_path, source_path, 'sync') #for syncing the opposite way"
   ]
  }
 ],
 "metadata": {
  "kernelspec": {
   "display_name": "keras",
   "language": "python",
   "name": "keras"
  },
  "language_info": {
   "codemirror_mode": {
    "name": "ipython",
    "version": 3
   },
   "file_extension": ".py",
   "mimetype": "text/x-python",
   "name": "python",
   "nbconvert_exporter": "python",
   "pygments_lexer": "ipython3",
   "version": "3.6.8"
  }
 },
 "nbformat": 4,
 "nbformat_minor": 2
}
