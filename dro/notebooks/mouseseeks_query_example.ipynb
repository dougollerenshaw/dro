{
 "cells": [
  {
   "cell_type": "code",
   "execution_count": 3,
   "metadata": {},
   "outputs": [],
   "source": [
    "from visual_behavior import database as db"
   ]
  },
  {
   "cell_type": "markdown",
   "metadata": {},
   "source": [
    "## connect to mouseseeks"
   ]
  },
  {
   "cell_type": "code",
   "execution_count": 4,
   "metadata": {},
   "outputs": [],
   "source": [
    "mouseseeks = db.Database('mouseseeks')"
   ]
  },
  {
   "cell_type": "markdown",
   "metadata": {},
   "source": [
    "## view methods on mouseseeks server"
   ]
  },
  {
   "cell_type": "code",
   "execution_count": 5,
   "metadata": {},
   "outputs": [
    {
     "data": {
      "text/plain": [
       "['__class__',\n",
       " '__delattr__',\n",
       " '__dict__',\n",
       " '__dir__',\n",
       " '__doc__',\n",
       " '__eq__',\n",
       " '__format__',\n",
       " '__ge__',\n",
       " '__getattribute__',\n",
       " '__getitem__',\n",
       " '__gt__',\n",
       " '__hash__',\n",
       " '__init__',\n",
       " '__init_subclass__',\n",
       " '__le__',\n",
       " '__lt__',\n",
       " '__module__',\n",
       " '__ne__',\n",
       " '__new__',\n",
       " '__reduce__',\n",
       " '__reduce_ex__',\n",
       " '__repr__',\n",
       " '__setattr__',\n",
       " '__sizeof__',\n",
       " '__str__',\n",
       " '__subclasshook__',\n",
       " '__weakref__',\n",
       " '_db_names',\n",
       " 'client',\n",
       " 'close',\n",
       " 'database',\n",
       " 'database_names',\n",
       " 'db',\n",
       " 'dev',\n",
       " 'local',\n",
       " 'qc',\n",
       " 'query']"
      ]
     },
     "execution_count": 5,
     "metadata": {},
     "output_type": "execute_result"
    }
   ],
   "source": [
    "dir(mouseseeks)"
   ]
  },
  {
   "cell_type": "markdown",
   "metadata": {},
   "source": [
    "## get database names"
   ]
  },
  {
   "cell_type": "code",
   "execution_count": 6,
   "metadata": {},
   "outputs": [
    {
     "data": {
      "text/plain": [
       "['db', 'dev', 'qc', 'local']"
      ]
     },
     "execution_count": 6,
     "metadata": {},
     "output_type": "execute_result"
    }
   ],
   "source": [
    "mouseseeks.database_names"
   ]
  },
  {
   "cell_type": "markdown",
   "metadata": {},
   "source": [
    "## look at methods on the 'qc' database"
   ]
  },
  {
   "cell_type": "code",
   "execution_count": 7,
   "metadata": {
    "scrolled": true
   },
   "outputs": [
    {
     "data": {
      "text/plain": [
       "['_BaseObject__codec_options',\n",
       " '_BaseObject__read_concern',\n",
       " '_BaseObject__read_preference',\n",
       " '_BaseObject__write_concern',\n",
       " '_Database__client',\n",
       " '_Database__incoming_copying_manipulators',\n",
       " '_Database__incoming_manipulators',\n",
       " '_Database__name',\n",
       " '_Database__outgoing_copying_manipulators',\n",
       " '_Database__outgoing_manipulators',\n",
       " '__call__',\n",
       " '__class__',\n",
       " '__delattr__',\n",
       " '__dict__',\n",
       " '__dir__',\n",
       " '__doc__',\n",
       " '__eq__',\n",
       " '__format__',\n",
       " '__ge__',\n",
       " '__getattr__',\n",
       " '__getattribute__',\n",
       " '__getitem__',\n",
       " '__gt__',\n",
       " '__hash__',\n",
       " '__init__',\n",
       " '__init_subclass__',\n",
       " '__iter__',\n",
       " '__le__',\n",
       " '__lt__',\n",
       " '__module__',\n",
       " '__ne__',\n",
       " '__new__',\n",
       " '__next__',\n",
       " '__reduce__',\n",
       " '__reduce_ex__',\n",
       " '__repr__',\n",
       " '__setattr__',\n",
       " '__sizeof__',\n",
       " '__str__',\n",
       " '__subclasshook__',\n",
       " '__weakref__',\n",
       " '_apply_incoming_copying_manipulators',\n",
       " '_apply_incoming_manipulators',\n",
       " '_command',\n",
       " '_create_or_update_user',\n",
       " '_current_op',\n",
       " '_default_role',\n",
       " '_fix_incoming',\n",
       " '_fix_outgoing',\n",
       " '_list_collections',\n",
       " '_read_preference_for',\n",
       " '_retryable_read_command',\n",
       " '_write_concern_for',\n",
       " 'add_son_manipulator',\n",
       " 'add_user',\n",
       " 'aggregate',\n",
       " 'authenticate',\n",
       " 'client',\n",
       " 'codec_options',\n",
       " 'collection_names',\n",
       " 'command',\n",
       " 'create_collection',\n",
       " 'current_op',\n",
       " 'dereference',\n",
       " 'drop_collection',\n",
       " 'error',\n",
       " 'eval',\n",
       " 'get_collection',\n",
       " 'incoming_copying_manipulators',\n",
       " 'incoming_manipulators',\n",
       " 'last_status',\n",
       " 'list_collection_names',\n",
       " 'list_collections',\n",
       " 'logout',\n",
       " 'name',\n",
       " 'next',\n",
       " 'outgoing_copying_manipulators',\n",
       " 'outgoing_manipulators',\n",
       " 'previous_error',\n",
       " 'profiling_info',\n",
       " 'profiling_level',\n",
       " 'read_concern',\n",
       " 'read_preference',\n",
       " 'remove_user',\n",
       " 'reset_error_history',\n",
       " 'set_profiling_level',\n",
       " 'system_js',\n",
       " 'validate_collection',\n",
       " 'watch',\n",
       " 'with_options',\n",
       " 'write_concern']"
      ]
     },
     "execution_count": 7,
     "metadata": {},
     "output_type": "execute_result"
    }
   ],
   "source": [
    "dir(mouseseeks['qc'])"
   ]
  },
  {
   "cell_type": "code",
   "execution_count": 8,
   "metadata": {},
   "outputs": [
    {
     "data": {
      "text/plain": [
       "['images', 'metrics', 'project_sets', 'reports', 'system.indexes']"
      ]
     },
     "execution_count": 8,
     "metadata": {},
     "output_type": "execute_result"
    }
   ],
   "source": [
    "mouseseeks['qc'].list_collection_names()"
   ]
  },
  {
   "cell_type": "markdown",
   "metadata": {},
   "source": [
    "## look at methods on the 'metrics' collection in the 'qc' database"
   ]
  },
  {
   "cell_type": "code",
   "execution_count": 12,
   "metadata": {},
   "outputs": [
    {
     "data": {
      "text/plain": [
       "['_BaseObject__codec_options',\n",
       " '_BaseObject__read_concern',\n",
       " '_BaseObject__read_preference',\n",
       " '_BaseObject__write_concern',\n",
       " '_Collection__create',\n",
       " '_Collection__create_index',\n",
       " '_Collection__database',\n",
       " '_Collection__find_and_modify',\n",
       " '_Collection__full_name',\n",
       " '_Collection__name',\n",
       " '_Collection__write_response_codec_options',\n",
       " '__call__',\n",
       " '__class__',\n",
       " '__delattr__',\n",
       " '__dict__',\n",
       " '__dir__',\n",
       " '__doc__',\n",
       " '__eq__',\n",
       " '__format__',\n",
       " '__ge__',\n",
       " '__getattr__',\n",
       " '__getattribute__',\n",
       " '__getitem__',\n",
       " '__gt__',\n",
       " '__hash__',\n",
       " '__init__',\n",
       " '__init_subclass__',\n",
       " '__iter__',\n",
       " '__le__',\n",
       " '__lt__',\n",
       " '__module__',\n",
       " '__ne__',\n",
       " '__new__',\n",
       " '__next__',\n",
       " '__reduce__',\n",
       " '__reduce_ex__',\n",
       " '__repr__',\n",
       " '__setattr__',\n",
       " '__sizeof__',\n",
       " '__str__',\n",
       " '__subclasshook__',\n",
       " '__weakref__',\n",
       " '_aggregate',\n",
       " '_aggregate_one_result',\n",
       " '_command',\n",
       " '_count',\n",
       " '_delete',\n",
       " '_delete_retryable',\n",
       " '_insert',\n",
       " '_insert_one',\n",
       " '_legacy_write',\n",
       " '_map_reduce',\n",
       " '_read_preference_for',\n",
       " '_socket_for_reads',\n",
       " '_socket_for_writes',\n",
       " '_update',\n",
       " '_update_retryable',\n",
       " '_write_concern_for',\n",
       " '_write_concern_for_cmd',\n",
       " 'aggregate',\n",
       " 'aggregate_raw_batches',\n",
       " 'bulk_write',\n",
       " 'codec_options',\n",
       " 'count',\n",
       " 'count_documents',\n",
       " 'create_index',\n",
       " 'create_indexes',\n",
       " 'database',\n",
       " 'delete_many',\n",
       " 'delete_one',\n",
       " 'distinct',\n",
       " 'drop',\n",
       " 'drop_index',\n",
       " 'drop_indexes',\n",
       " 'ensure_index',\n",
       " 'estimated_document_count',\n",
       " 'find',\n",
       " 'find_and_modify',\n",
       " 'find_one',\n",
       " 'find_one_and_delete',\n",
       " 'find_one_and_replace',\n",
       " 'find_one_and_update',\n",
       " 'find_raw_batches',\n",
       " 'full_name',\n",
       " 'group',\n",
       " 'index_information',\n",
       " 'initialize_ordered_bulk_op',\n",
       " 'initialize_unordered_bulk_op',\n",
       " 'inline_map_reduce',\n",
       " 'insert',\n",
       " 'insert_many',\n",
       " 'insert_one',\n",
       " 'list_indexes',\n",
       " 'map_reduce',\n",
       " 'name',\n",
       " 'next',\n",
       " 'options',\n",
       " 'parallel_scan',\n",
       " 'read_concern',\n",
       " 'read_preference',\n",
       " 'reindex',\n",
       " 'remove',\n",
       " 'rename',\n",
       " 'replace_one',\n",
       " 'save',\n",
       " 'update',\n",
       " 'update_many',\n",
       " 'update_one',\n",
       " 'watch',\n",
       " 'with_options',\n",
       " 'write_concern']"
      ]
     },
     "execution_count": 12,
     "metadata": {},
     "output_type": "execute_result"
    }
   ],
   "source": [
    "dir(mouseseeks['qc']['reports'])"
   ]
  },
  {
   "cell_type": "markdown",
   "metadata": {},
   "source": [
    "## convert an ophys experiment ID to an ophys session ID"
   ]
  },
  {
   "cell_type": "code",
   "execution_count": 10,
   "metadata": {},
   "outputs": [],
   "source": [
    "ophys_experiment_id = 783927872\n",
    "osid = db.convert_id({'ophys_experiment_id':ophys_experiment_id},'ophys_session_id')"
   ]
  },
  {
   "cell_type": "markdown",
   "metadata": {},
   "source": [
    "## get a document associated with a given ophys session ID"
   ]
  },
  {
   "cell_type": "code",
   "execution_count": 24,
   "metadata": {
    "scrolled": false
   },
   "outputs": [
    {
     "data": {
      "text/plain": [
       "{'_id': ObjectId('5d8c13a617ec6f430f44331c'),\n",
       " 'lims_id': 953659741,\n",
       " 'lims_ophys_experiment': {'id': 953659741,\n",
       "  'name': '20190923_457841_2imagesA_VISp_100_100_150',\n",
       "  'storage_directory': '\\\\\\\\allen\\\\programs\\\\braintv\\\\production\\\\visualbehavior\\\\prod2\\\\specimen_850862430\\\\ophys_session_952430817\\\\ophys_experiment_953659741\\\\',\n",
       "  'depth': 150,\n",
       "  'area': 'VISp',\n",
       "  'workflow_state': 'failed',\n",
       "  'rig': 'MESO.1',\n",
       "  'calculated_depth': 150.0,\n",
       "  'ophys_session': {'id': 952430817,\n",
       "   'storage_directory': '/allen/programs/braintv/production/visualbehavior/prod2/specimen_850862430/ophys_session_952430817/'},\n",
       "  'ophys_primary_image': '953659741.h5',\n",
       "  'ophys_z_stack_local_image': '953659741_z_stack_local.h5',\n",
       "  'averaged_surface_image': '953659741_surface.tif',\n",
       "  'averaged_depth_image': '953659741_depth.tif',\n",
       "  'maximum_intensity_projection_image': '953659741_maximum_projection.png',\n",
       "  'ophys_primary_image_id': 953802007,\n",
       "  'measured_area': 'VISrl',\n",
       "  'radius_um': 739.996830765399,\n",
       "  'target_dist': 582.204431449985,\n",
       "  'target_match': False},\n",
       " 'motion_corr_physio': {'crop': [0, 0],\n",
       "  'shape': [48332, 512, 512],\n",
       "  'video_mean': 167.1530196838379,\n",
       "  'percent_change_intensity': -3.9707005700074602,\n",
       "  'epilepsy_probability': 0.0,\n",
       "  'simple_snr_mean': 1.5160238822720173,\n",
       "  'simple_snr_med': 1.5289948549503545,\n",
       "  'simple_snr_std': 0.04139417566619222,\n",
       "  'photon_flux_median': 0.05495196907304914,\n",
       "  'photon_gain': 260.9787232333271,\n",
       "  'background_noise': 120.65870527215836,\n",
       "  'photon_offset': -31489.354848914205,\n",
       "  'nb_saturated_pixels': 4,\n",
       "  'nb_low_pixels': 172,\n",
       "  'nb_low_pixels_perc': 0.06595382690429688,\n",
       "  'percentile_lower': 105.0,\n",
       "  'percentile_upper': 372.0},\n",
       " 'motion_corr_physio_meta': {'mean_total_shift': 9.317848962933558,\n",
       "  'median_total_shift': 10.363888112340698,\n",
       "  'max_total_shift': 16.33985434990104,\n",
       "  'max_xy_shift': [15, 11],\n",
       "  'nb_excessive_motion_frames': 0,\n",
       "  'nb_constant_x_shifts': 0,\n",
       "  'perc_constant_x_shifts': 0.0,\n",
       "  'nb_constant_y_shifts': 0,\n",
       "  'perc_constant_y_shifts': 0.0,\n",
       "  'start_position': [0.015290915800000006, -0.18116194942433334],\n",
       "  'end_position': [-5.3875141, -7.158950599999998],\n",
       "  'xy_drift': [-5.402805015799999, -6.977788650575665]},\n",
       " 'local_z_stack': {'shape': [1620, 512, 512],\n",
       "  'z_drift_corr_start_frame': 23,\n",
       "  'z_drift_corr_end_frame': 38,\n",
       "  'z_drift_corr_frame_diff': 15,\n",
       "  'z_drift_corr_um_diff': 11.25,\n",
       "  'z_drift_ssim_start_frame': 21,\n",
       "  'z_drift_ssim_end_frame': 36,\n",
       "  'z_drift_ssim_frame_diff': 15,\n",
       "  'z_drift_ssim_um_diff': 11.25},\n",
       " 'local_z_stack_meta': {'piezo_mode': True,\n",
       "  'nb_of_loops': 20,\n",
       "  'nb_of_planes': 81,\n",
       "  'z_spacing_um': 0.75,\n",
       "  'total_z_distance': 60.0,\n",
       "  'x_size_um': 1,\n",
       "  'y_size_um': 1}}"
      ]
     },
     "execution_count": 24,
     "metadata": {},
     "output_type": "execute_result"
    }
   ],
   "source": [
    "osid = 952430817\n",
    "oeid = 953659741\n",
    "document = mouseseeks['qc']['metrics'].find_one({'lims_id':oeid})\n",
    "document"
   ]
  },
  {
   "cell_type": "code",
   "execution_count": null,
   "metadata": {},
   "outputs": [],
   "source": [
    "document = mouseseeks['qc']['metrics'].find_one({'lims_id':int(osid)})"
   ]
  },
  {
   "cell_type": "markdown",
   "metadata": {},
   "source": [
    "## get the dropped stim events record"
   ]
  },
  {
   "cell_type": "code",
   "execution_count": 11,
   "metadata": {},
   "outputs": [
    {
     "data": {
      "text/plain": [
       "8"
      ]
     },
     "execution_count": 11,
     "metadata": {},
     "output_type": "execute_result"
    }
   ],
   "source": [
    "document['rig_sync']['nb_dropped_visual_stim_events']"
   ]
  },
  {
   "cell_type": "code",
   "execution_count": 13,
   "metadata": {},
   "outputs": [
    {
     "data": {
      "text/plain": [
       "0    {'mean_physio_period_s': 0.03228867821494114, ...\n",
       "Name: rig_sync, dtype: object"
      ]
     },
     "execution_count": 13,
     "metadata": {},
     "output_type": "execute_result"
    }
   ],
   "source": [
    "mouseseeks.query('qc','metrics',{'lims_id':int(osid)})['rig_sync']"
   ]
  },
  {
   "cell_type": "code",
   "execution_count": 27,
   "metadata": {},
   "outputs": [
    {
     "name": "stdout",
     "output_type": "stream",
     "text": [
      "None\n"
     ]
    }
   ],
   "source": [
    "report = mouseseeks['qc']['reports'].find_one({'lims_id':int(osid)})\n",
    "print(report)"
   ]
  },
  {
   "cell_type": "markdown",
   "metadata": {},
   "source": [
    "## close the connection when done"
   ]
  },
  {
   "cell_type": "code",
   "execution_count": 14,
   "metadata": {},
   "outputs": [],
   "source": [
    "mouseseeks.close()"
   ]
  }
 ],
 "metadata": {
  "kernelspec": {
   "display_name": "visual_behavior",
   "language": "python",
   "name": "visual_behavior"
  },
  "language_info": {
   "codemirror_mode": {
    "name": "ipython",
    "version": 3
   },
   "file_extension": ".py",
   "mimetype": "text/x-python",
   "name": "python",
   "nbconvert_exporter": "python",
   "pygments_lexer": "ipython3",
   "version": "3.7.3"
  }
 },
 "nbformat": 4,
 "nbformat_minor": 2
}
