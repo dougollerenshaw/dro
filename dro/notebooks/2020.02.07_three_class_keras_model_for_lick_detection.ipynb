{
 "cells": [
  {
   "cell_type": "code",
   "execution_count": 1,
   "metadata": {},
   "outputs": [
    {
     "name": "stderr",
     "output_type": "stream",
     "text": [
      "Using TensorFlow backend.\n"
     ]
    }
   ],
   "source": [
    "\n",
    "import keras\n",
    "import tensorflow as tf\n",
    "from tensorflow.python.ops import array_ops\n",
    "from keras import metrics\n",
    "from keras.models import Sequential, Model\n",
    "from keras.layers import Conv2D, MaxPooling2D, GlobalAveragePooling2D, Concatenate\n",
    "from keras.layers import Activation, Dropout, Flatten, Dense, Input, BatchNormalization\n",
    "from keras.optimizers import RMSprop\n",
    "from keras import backend as K\n",
    "from keras.optimizers import SGD\n",
    "from keras.optimizers import Adam\n",
    "from keras.applications.vgg19 import VGG19\n",
    "from keras.callbacks import EarlyStopping, ReduceLROnPlateau, ModelCheckpoint, Callback"
   ]
  },
  {
   "cell_type": "code",
   "execution_count": null,
   "metadata": {},
   "outputs": [],
   "source": []
  },
  {
   "cell_type": "code",
   "execution_count": 2,
   "metadata": {},
   "outputs": [],
   "source": [
    "import datetime\n",
    "from matplotlib.image import imread"
   ]
  },
  {
   "cell_type": "code",
   "execution_count": 3,
   "metadata": {},
   "outputs": [
    {
     "data": {
      "text/html": [
       "<style>.container { width:100% !important; }</style>"
      ],
      "text/plain": [
       "<IPython.core.display.HTML object>"
      ]
     },
     "metadata": {},
     "output_type": "display_data"
    }
   ],
   "source": [
    "%widescreen"
   ]
  },
  {
   "cell_type": "code",
   "execution_count": 5,
   "metadata": {
    "scrolled": true
   },
   "outputs": [
    {
     "name": "stdout",
     "output_type": "stream",
     "text": [
      "[name: \"/device:CPU:0\"\n",
      "device_type: \"CPU\"\n",
      "memory_limit: 268435456\n",
      "locality {\n",
      "}\n",
      "incarnation: 8170694551530269892\n",
      ", name: \"/device:XLA_GPU:0\"\n",
      "device_type: \"XLA_GPU\"\n",
      "memory_limit: 17179869184\n",
      "locality {\n",
      "}\n",
      "incarnation: 8538659246173318512\n",
      "physical_device_desc: \"device: XLA_GPU device\"\n",
      ", name: \"/device:XLA_GPU:1\"\n",
      "device_type: \"XLA_GPU\"\n",
      "memory_limit: 17179869184\n",
      "locality {\n",
      "}\n",
      "incarnation: 4972224487112304130\n",
      "physical_device_desc: \"device: XLA_GPU device\"\n",
      ", name: \"/device:XLA_CPU:0\"\n",
      "device_type: \"XLA_CPU\"\n",
      "memory_limit: 17179869184\n",
      "locality {\n",
      "}\n",
      "incarnation: 6508745360705530784\n",
      "physical_device_desc: \"device: XLA_CPU device\"\n",
      ", name: \"/device:GPU:0\"\n",
      "device_type: \"GPU\"\n",
      "memory_limit: 10896169370\n",
      "locality {\n",
      "  bus_id: 1\n",
      "  links {\n",
      "  }\n",
      "}\n",
      "incarnation: 12239743099213784672\n",
      "physical_device_desc: \"device: 0, name: GeForce GTX 1080 Ti, pci bus id: 0000:17:00.0, compute capability: 6.1\"\n",
      "]\n"
     ]
    }
   ],
   "source": [
    "from tensorflow.python.client import device_lib\n",
    "print(device_lib.list_local_devices())"
   ]
  },
  {
   "cell_type": "code",
   "execution_count": 6,
   "metadata": {},
   "outputs": [],
   "source": [
    "from tensorflow.keras.preprocessing.image import ImageDataGenerator"
   ]
  },
  {
   "cell_type": "code",
   "execution_count": 7,
   "metadata": {},
   "outputs": [
    {
     "name": "stderr",
     "output_type": "stream",
     "text": [
      "WARNING: Logging before flag parsing goes to stderr.\n",
      "W0207 16:09:58.181301 140243401434944 deprecation_wrapper.py:119] From /home/dougo/.conda/envs/keras/lib/python3.6/site-packages/keras/backend/tensorflow_backend.py:4070: The name tf.nn.max_pool is deprecated. Please use tf.nn.max_pool2d instead.\n",
      "\n",
      "/home/dougo/.conda/envs/keras/lib/python3.6/site-packages/ipykernel_launcher.py:21: UserWarning: Update your `Model` call to the Keras 2 API: `Model(inputs=Tensor(\"in..., outputs=Tensor(\"de...)`\n"
     ]
    }
   ],
   "source": [
    "input_image_size = (480,640,3)\n",
    "\n",
    "base_model = VGG19(\n",
    "    include_top=False, \n",
    "    weights='imagenet', \n",
    "    input_shape=(input_image_size), \n",
    ")\n",
    "\n",
    "for layer in base_model.layers:\n",
    "    layer.trainable = False\n",
    "\n",
    "#Adding custom Layers \n",
    "x = base_model.output\n",
    "x = Flatten()(x)\n",
    "x = Dense(512, activation=\"relu\")(x)\n",
    "# x = Dropout(0.25)(x)\n",
    "# x = Dense(512, activation=\"relu\")(x)\n",
    "predictions = Dense(3, activation='softmax')(x)\n",
    "\n",
    "# creating the final model \n",
    "model = Model(input = base_model.input, output = predictions)\n",
    "\n",
    "# compile the model \n",
    "model.compile(\n",
    "    loss = \"categorical_crossentropy\", \n",
    "    optimizer = Adam(), #SGD(lr=0.0001, momentum=0.9), \n",
    "    metrics=[\"accuracy\"]\n",
    ")\n",
    "    \n"
   ]
  },
  {
   "cell_type": "code",
   "execution_count": 8,
   "metadata": {},
   "outputs": [
    {
     "name": "stdout",
     "output_type": "stream",
     "text": [
      "Model: \"model_1\"\n",
      "_________________________________________________________________\n",
      "Layer (type)                 Output Shape              Param #   \n",
      "=================================================================\n",
      "input_1 (InputLayer)         (None, 480, 640, 3)       0         \n",
      "_________________________________________________________________\n",
      "block1_conv1 (Conv2D)        (None, 480, 640, 64)      1792      \n",
      "_________________________________________________________________\n",
      "block1_conv2 (Conv2D)        (None, 480, 640, 64)      36928     \n",
      "_________________________________________________________________\n",
      "block1_pool (MaxPooling2D)   (None, 240, 320, 64)      0         \n",
      "_________________________________________________________________\n",
      "block2_conv1 (Conv2D)        (None, 240, 320, 128)     73856     \n",
      "_________________________________________________________________\n",
      "block2_conv2 (Conv2D)        (None, 240, 320, 128)     147584    \n",
      "_________________________________________________________________\n",
      "block2_pool (MaxPooling2D)   (None, 120, 160, 128)     0         \n",
      "_________________________________________________________________\n",
      "block3_conv1 (Conv2D)        (None, 120, 160, 256)     295168    \n",
      "_________________________________________________________________\n",
      "block3_conv2 (Conv2D)        (None, 120, 160, 256)     590080    \n",
      "_________________________________________________________________\n",
      "block3_conv3 (Conv2D)        (None, 120, 160, 256)     590080    \n",
      "_________________________________________________________________\n",
      "block3_conv4 (Conv2D)        (None, 120, 160, 256)     590080    \n",
      "_________________________________________________________________\n",
      "block3_pool (MaxPooling2D)   (None, 60, 80, 256)       0         \n",
      "_________________________________________________________________\n",
      "block4_conv1 (Conv2D)        (None, 60, 80, 512)       1180160   \n",
      "_________________________________________________________________\n",
      "block4_conv2 (Conv2D)        (None, 60, 80, 512)       2359808   \n",
      "_________________________________________________________________\n",
      "block4_conv3 (Conv2D)        (None, 60, 80, 512)       2359808   \n",
      "_________________________________________________________________\n",
      "block4_conv4 (Conv2D)        (None, 60, 80, 512)       2359808   \n",
      "_________________________________________________________________\n",
      "block4_pool (MaxPooling2D)   (None, 30, 40, 512)       0         \n",
      "_________________________________________________________________\n",
      "block5_conv1 (Conv2D)        (None, 30, 40, 512)       2359808   \n",
      "_________________________________________________________________\n",
      "block5_conv2 (Conv2D)        (None, 30, 40, 512)       2359808   \n",
      "_________________________________________________________________\n",
      "block5_conv3 (Conv2D)        (None, 30, 40, 512)       2359808   \n",
      "_________________________________________________________________\n",
      "block5_conv4 (Conv2D)        (None, 30, 40, 512)       2359808   \n",
      "_________________________________________________________________\n",
      "block5_pool (MaxPooling2D)   (None, 15, 20, 512)       0         \n",
      "_________________________________________________________________\n",
      "flatten_1 (Flatten)          (None, 153600)            0         \n",
      "_________________________________________________________________\n",
      "dense_1 (Dense)              (None, 512)               78643712  \n",
      "_________________________________________________________________\n",
      "dense_2 (Dense)              (None, 3)                 1539      \n",
      "=================================================================\n",
      "Total params: 98,669,635\n",
      "Trainable params: 78,645,251\n",
      "Non-trainable params: 20,024,384\n",
      "_________________________________________________________________\n"
     ]
    }
   ],
   "source": [
    "model.summary()"
   ]
  },
  {
   "cell_type": "code",
   "execution_count": 8,
   "metadata": {},
   "outputs": [],
   "source": [
    "# model.load_weights(\"model_weights_checkpoint_2020-02-05T13_43_24.296156.h5\")"
   ]
  },
  {
   "cell_type": "code",
   "execution_count": 9,
   "metadata": {},
   "outputs": [
    {
     "name": "stdout",
     "output_type": "stream",
     "text": [
      "Found 3129 images belonging to 3 classes.\n"
     ]
    }
   ],
   "source": [
    "train_datagen = ImageDataGenerator(\n",
    "    rescale=1./255,\n",
    "    shear_range=0.25,\n",
    "    zoom_range=0.25,\n",
    "    rotation_range=0.2,\n",
    ")\n",
    "train_generator = train_datagen.flow_from_directory(\n",
    "    directory=r\"/ssd1/lick_detection_model/three_class_model/train/\",\n",
    "    target_size=(480,640),\n",
    "    color_mode=\"rgb\",\n",
    "    batch_size=8,\n",
    "    class_mode=\"categorical\",\n",
    "    shuffle=True,\n",
    "    seed=42\n",
    ")"
   ]
  },
  {
   "cell_type": "code",
   "execution_count": 10,
   "metadata": {},
   "outputs": [
    {
     "name": "stdout",
     "output_type": "stream",
     "text": [
      "Found 3129 images belonging to 3 classes.\n"
     ]
    }
   ],
   "source": [
    "nonshuffled_train_generator = train_datagen.flow_from_directory(\n",
    "    directory=r\"/ssd1/lick_detection_model/three_class_model/train/\",\n",
    "    target_size=(480,640),\n",
    "    color_mode=\"rgb\",\n",
    "    batch_size=8,\n",
    "    class_mode=\"categorical\",\n",
    "    shuffle=False,\n",
    "    seed=42\n",
    ")"
   ]
  },
  {
   "cell_type": "code",
   "execution_count": 11,
   "metadata": {},
   "outputs": [
    {
     "name": "stdout",
     "output_type": "stream",
     "text": [
      "Found 392 images belonging to 3 classes.\n"
     ]
    }
   ],
   "source": [
    "validation_datagen = ImageDataGenerator(\n",
    "    rescale=1./255,\n",
    ")\n",
    "validation_generator = valid_datagen.flow_from_directory(\n",
    "    directory=r\"/ssd1/lick_detection_model/three_class_model/validate/\",\n",
    "    target_size=(480,640),\n",
    "    color_mode=\"rgb\",\n",
    "    batch_size=8,\n",
    "    class_mode=\"categorical\",\n",
    "    shuffle=True,\n",
    "    seed=42\n",
    ")"
   ]
  },
  {
   "cell_type": "code",
   "execution_count": 12,
   "metadata": {},
   "outputs": [
    {
     "name": "stdout",
     "output_type": "stream",
     "text": [
      "Found 391 images belonging to 3 classes.\n"
     ]
    }
   ],
   "source": [
    "test_datagen = ImageDataGenerator(\n",
    "    rescale=1./255,\n",
    ")\n",
    "test_generator = valid_datagen.flow_from_directory(\n",
    "    directory=r\"/ssd1/lick_detection_model/three_class_model/test/\",\n",
    "    target_size=(480,640),\n",
    "    color_mode=\"rgb\",\n",
    "    batch_size=8,\n",
    "    class_mode=\"categorical\",\n",
    "    shuffle=False,\n",
    ")"
   ]
  },
  {
   "cell_type": "code",
   "execution_count": 13,
   "metadata": {},
   "outputs": [],
   "source": [
    "# setup callbacks\n",
    "earlystop = EarlyStopping(patience=20)\n",
    "\n",
    "datestamp = str(datetime.datetime.now()).replace(':','_').replace(' ','T')\n",
    "\n",
    "checkpoint_name = \"/ssd1/lick_detection_model/three_class_model/model_weights_checkpoint_{}.h5\".format(datestamp)\n",
    "checkpoint = ModelCheckpoint(\n",
    "                            checkpoint_name, \n",
    "                            monitor='val_accuracy', \n",
    "                            verbose=0, \n",
    "                            save_best_only=True, \n",
    "                            save_weights_only=True,\n",
    "                            mode='auto')\n",
    "\n",
    "callbacks = [earlystop, checkpoint]"
   ]
  },
  {
   "cell_type": "code",
   "execution_count": 14,
   "metadata": {
    "scrolled": false
   },
   "outputs": [
    {
     "name": "stderr",
     "output_type": "stream",
     "text": [
      "W0207 16:10:45.967440 140243401434944 deprecation_wrapper.py:119] From /home/dougo/.conda/envs/keras/lib/python3.6/site-packages/keras/backend/tensorflow_backend.py:422: The name tf.global_variables is deprecated. Please use tf.compat.v1.global_variables instead.\n",
      "\n"
     ]
    },
    {
     "name": "stdout",
     "output_type": "stream",
     "text": [
      "Epoch 1/50\n",
      "391/391 [==============================] - 214s 547ms/step - loss: 3.1419 - accuracy: 0.6331 - val_loss: 0.5728 - val_accuracy: 0.6046\n",
      "Epoch 2/50\n",
      "391/391 [==============================] - 212s 542ms/step - loss: 0.6539 - accuracy: 0.7603 - val_loss: 0.1025 - val_accuracy: 0.8393\n",
      "Epoch 3/50\n",
      "391/391 [==============================] - 220s 562ms/step - loss: 0.4822 - accuracy: 0.8145 - val_loss: 0.1174 - val_accuracy: 0.8724\n",
      "Epoch 4/50\n",
      "391/391 [==============================] - 208s 533ms/step - loss: 0.4031 - accuracy: 0.8372 - val_loss: 0.4741 - val_accuracy: 0.7372\n",
      "Epoch 5/50\n",
      "391/391 [==============================] - 210s 538ms/step - loss: 0.3834 - accuracy: 0.8523 - val_loss: 0.2342 - val_accuracy: 0.8622\n",
      "Epoch 6/50\n",
      "391/391 [==============================] - 212s 543ms/step - loss: 0.4053 - accuracy: 0.8404 - val_loss: 0.7378 - val_accuracy: 0.8929\n",
      "Epoch 7/50\n",
      "229/391 [================>.............] - ETA: 1:24 - loss: 0.4256 - accuracy: 0.8290"
     ]
    },
    {
     "name": "stderr",
     "output_type": "stream",
     "text": [
      "E0207 16:34:10.077962 140243401434944 ultratb.py:149] Internal Python error in the inspect module.\n",
      "Below is the traceback from this internal error.\n",
      "\n"
     ]
    },
    {
     "name": "stdout",
     "output_type": "stream",
     "text": [
      "Traceback (most recent call last):\n",
      "  File \"/home/dougo/.conda/envs/keras/lib/python3.6/site-packages/IPython/core/interactiveshell.py\", line 3267, in run_code\n",
      "    exec(code_obj, self.user_global_ns, self.user_ns)\n",
      "  File \"<ipython-input-14-3a4aaf44572f>\", line 9, in <module>\n",
      "    callbacks = callbacks,\n",
      "  File \"/home/dougo/.conda/envs/keras/lib/python3.6/site-packages/keras/legacy/interfaces.py\", line 91, in wrapper\n",
      "    return func(*args, **kwargs)\n",
      "  File \"/home/dougo/.conda/envs/keras/lib/python3.6/site-packages/keras/engine/training.py\", line 1732, in fit_generator\n",
      "    initial_epoch=initial_epoch)\n",
      "  File \"/home/dougo/.conda/envs/keras/lib/python3.6/site-packages/keras/engine/training_generator.py\", line 220, in fit_generator\n",
      "    reset_metrics=False)\n",
      "  File \"/home/dougo/.conda/envs/keras/lib/python3.6/site-packages/keras/engine/training.py\", line 1514, in train_on_batch\n",
      "    outputs = self.train_function(ins)\n",
      "  File \"/home/dougo/.conda/envs/keras/lib/python3.6/site-packages/tensorflow/python/keras/backend.py\", line 3292, in __call__\n",
      "    run_metadata=self.run_metadata)\n",
      "  File \"/home/dougo/.conda/envs/keras/lib/python3.6/site-packages/tensorflow/python/client/session.py\", line 1458, in __call__\n",
      "    run_metadata_ptr)\n",
      "KeyboardInterrupt\n",
      "\n",
      "During handling of the above exception, another exception occurred:\n",
      "\n",
      "Traceback (most recent call last):\n",
      "  File \"/home/dougo/.conda/envs/keras/lib/python3.6/site-packages/IPython/core/interactiveshell.py\", line 2018, in showtraceback\n",
      "    stb = value._render_traceback_()\n",
      "AttributeError: 'KeyboardInterrupt' object has no attribute '_render_traceback_'\n",
      "\n",
      "During handling of the above exception, another exception occurred:\n",
      "\n",
      "Traceback (most recent call last):\n",
      "  File \"/home/dougo/.conda/envs/keras/lib/python3.6/site-packages/IPython/core/ultratb.py\", line 1095, in get_records\n",
      "    return _fixed_getinnerframes(etb, number_of_lines_of_context, tb_offset)\n",
      "  File \"/home/dougo/.conda/envs/keras/lib/python3.6/site-packages/IPython/core/ultratb.py\", line 313, in wrapped\n",
      "    return f(*args, **kwargs)\n",
      "  File \"/home/dougo/.conda/envs/keras/lib/python3.6/site-packages/IPython/core/ultratb.py\", line 347, in _fixed_getinnerframes\n",
      "    records = fix_frame_records_filenames(inspect.getinnerframes(etb, context))\n",
      "  File \"/home/dougo/.conda/envs/keras/lib/python3.6/inspect.py\", line 1490, in getinnerframes\n",
      "    frameinfo = (tb.tb_frame,) + getframeinfo(tb, context)\n",
      "  File \"/home/dougo/.conda/envs/keras/lib/python3.6/inspect.py\", line 1448, in getframeinfo\n",
      "    filename = getsourcefile(frame) or getfile(frame)\n",
      "  File \"/home/dougo/.conda/envs/keras/lib/python3.6/inspect.py\", line 696, in getsourcefile\n",
      "    if getattr(getmodule(object, filename), '__loader__', None) is not None:\n",
      "  File \"/home/dougo/.conda/envs/keras/lib/python3.6/inspect.py\", line 739, in getmodule\n",
      "    f = getabsfile(module)\n",
      "  File \"/home/dougo/.conda/envs/keras/lib/python3.6/inspect.py\", line 708, in getabsfile\n",
      "    _filename = getsourcefile(object) or getfile(object)\n",
      "  File \"/home/dougo/.conda/envs/keras/lib/python3.6/inspect.py\", line 693, in getsourcefile\n",
      "    if os.path.exists(filename):\n",
      "  File \"/home/dougo/.conda/envs/keras/lib/python3.6/genericpath.py\", line 19, in exists\n",
      "    os.stat(path)\n",
      "KeyboardInterrupt\n"
     ]
    },
    {
     "ename": "KeyboardInterrupt",
     "evalue": "",
     "output_type": "error",
     "traceback": [
      "\u001b[0;31m---------------------------------------------------------------------------\u001b[0m"
     ]
    }
   ],
   "source": [
    "STEP_SIZE_TRAIN=train_generator.n//train_generator.batch_size\n",
    "STEP_SIZE_VALID=valid_generator.n//valid_generator.batch_size\n",
    "\n",
    "history = model.fit_generator(generator=train_generator,\n",
    "                    steps_per_epoch=STEP_SIZE_TRAIN,\n",
    "                    validation_data=valid_generator,\n",
    "                    validation_steps=STEP_SIZE_VALID,\n",
    "                    epochs=50,\n",
    "                    callbacks = callbacks,\n",
    ")"
   ]
  },
  {
   "cell_type": "code",
   "execution_count": 19,
   "metadata": {
    "scrolled": false
   },
   "outputs": [
    {
     "name": "stdout",
     "output_type": "stream",
     "text": [
      "\n",
      "import keras\n",
      "import tensorflow as tf\n",
      "from tensorflow.python.ops import array_ops\n",
      "from keras import metrics\n",
      "from keras.models import Sequential, Model\n",
      "from keras.layers import Conv2D, MaxPooling2D, GlobalAveragePooling2D, Concatenate\n",
      "from keras.layers import Activation, Dropout, Flatten, Dense, Input, BatchNormalization\n",
      "from keras.optimizers import RMSprop\n",
      "from keras import backend as K\n",
      "from keras.optimizers import SGD\n",
      "from keras.optimizers import Adam\n",
      "from keras.applications.vgg19 import VGG19\n",
      "from keras.callbacks import EarlyStopping, ReduceLROnPlateau, ModelCheckpoint, Callback\n",
      "import datetime\n",
      "from matplotlib.image import imread\n",
      "%widescreen\n",
      "from tensorflow.python.client import device_lib\n",
      "print(device_lib.list_local_devices())\n",
      "from tensorflow.keras.preprocessing.image import ImageDataGenerator\n",
      "input_image_size = (480,640,3)\n",
      "\n",
      "base_model = VGG19(\n",
      "    include_top=False, \n",
      "    weights='imagenet', \n",
      "    input_shape=(input_image_size), \n",
      ")\n",
      "\n",
      "for layer in base_model.layers:\n",
      "    layer.trainable = False\n",
      "\n",
      "#Adding custom Layers \n",
      "x = base_model.output\n",
      "x = Flatten()(x)\n",
      "x = Dense(512, activation=\"relu\")(x)\n",
      "# x = Dropout(0.25)(x)\n",
      "# x = Dense(512, activation=\"relu\")(x)\n",
      "predictions = Dense(3, activation='softmax')(x)\n",
      "\n",
      "# creating the final model \n",
      "model = Model(input = base_model.input, output = predictions)\n",
      "\n",
      "# compile the model \n",
      "model.compile(\n",
      "    loss = \"categorical_crossentropy\", \n",
      "    optimizer = Adam(), #SGD(lr=0.0001, momentum=0.9), \n",
      "    metrics=[\"accuracy\"]\n",
      ")\n",
      "model.summary()\n",
      "# model.load_weights(\"model_weights_checkpoint_2020-02-05T13_43_24.296156.h5\")\n",
      "train_datagen = ImageDataGenerator(\n",
      "    rescale=1./255,\n",
      "    shear_range=0.25,\n",
      "    zoom_range=0.25,\n",
      "    rotation_range=0.2,\n",
      ")\n",
      "train_generator = train_datagen.flow_from_directory(\n",
      "    directory=r\"/ssd1/lick_detection_model/three_class_model/train/\",\n",
      "    target_size=(480,640),\n",
      "    color_mode=\"rgb\",\n",
      "    batch_size=8,\n",
      "    class_mode=\"categorical\",\n",
      "    shuffle=True,\n",
      "    seed=42\n",
      ")\n",
      "nonshuffled_train_generator = train_datagen.flow_from_directory(\n",
      "    directory=r\"/ssd1/lick_detection_model/three_class_model/train/\",\n",
      "    target_size=(480,640),\n",
      "    color_mode=\"rgb\",\n",
      "    batch_size=8,\n",
      "    class_mode=\"categorical\",\n",
      "    shuffle=False,\n",
      "    seed=42\n",
      ")\n",
      "valid_datagen = ImageDataGenerator(\n",
      "    rescale=1./255,\n",
      "#     shear_range=0.2,\n",
      "#     zoom_range=0.2,\n",
      "#     rotation_range=0.2,\n",
      ")\n",
      "valid_generator = valid_datagen.flow_from_directory(\n",
      "    directory=r\"/ssd1/lick_detection_model/three_class_model/validate/\",\n",
      "    target_size=(480,640),\n",
      "    color_mode=\"rgb\",\n",
      "    batch_size=8,\n",
      "    class_mode=\"categorical\",\n",
      "    shuffle=True,\n",
      "    seed=42\n",
      ")\n",
      "test_datagen = ImageDataGenerator(\n",
      "    rescale=1./255,\n",
      ")\n",
      "test_generator = valid_datagen.flow_from_directory(\n",
      "    directory=r\"/ssd1/lick_detection_model/three_class_model/test/\",\n",
      "    target_size=(480,640),\n",
      "    color_mode=\"rgb\",\n",
      "    batch_size=8,\n",
      "    class_mode=\"categorical\",\n",
      "    shuffle=False,\n",
      ")\n",
      "# setup callbacks\n",
      "earlystop = EarlyStopping(patience=20)\n",
      "\n",
      "datestamp = str(datetime.datetime.now()).replace(':','_').replace(' ','T')\n",
      "\n",
      "checkpoint_name = \"model_weights_checkpoint_{}.h5\".format(datestamp)\n",
      "checkpoint = ModelCheckpoint(\n",
      "                            checkpoint_name, \n",
      "                            monitor='val_accuracy', \n",
      "                            verbose=0, \n",
      "                            save_best_only=True, \n",
      "                            save_weights_only=True,\n",
      "                            mode='auto')\n",
      "\n",
      "callbacks = [earlystop, checkpoint]\n",
      "STEP_SIZE_TRAIN=train_generator.n//train_generator.batch_size\n",
      "STEP_SIZE_VALID=valid_generator.n//valid_generator.batch_size\n",
      "\n",
      "history = model.fit_generator(generator=train_generator,\n",
      "                    steps_per_epoch=STEP_SIZE_TRAIN,\n",
      "                    validation_data=valid_generator,\n",
      "                    validation_steps=STEP_SIZE_VALID,\n",
      "                    epochs=50,\n",
      "                    callbacks = callbacks,\n",
      ")\n",
      "fig,ax=plt.subplots()\n",
      "ax.plot(history.history['accuracy'])\n",
      "ax.plot(history.history['val_accuracy'])\n",
      "def plot_example(predictions,generator,index,ax,fontsize=10):\n",
      "    reverse_class_lookup = {v:k for k,v in generator.class_indices.items()}\n",
      "    \n",
      "    filename = os.path.join(generator.directory,generator.filenames[index])\n",
      "    actual_class_index = generator.classes[index]\n",
      "    actual_class_name = reverse_class_lookup[actual_class_index]\n",
      "    \n",
      "    predicted_class = predictions[index].argmax()\n",
      "    predicted_class_name = reverse_class_lookup[predicted_class]\n",
      "    predicted_class_probability = predictions[index][predicted_class]\n",
      "    \n",
      "    image = imread(filename)\n",
      "    ax.imshow(image)\n",
      "    \n",
      "    ax.set_title(\n",
      "        '{}\\nactual class = {}\\npredicted class = {}\\nprobability = {}'.format(\n",
      "            generator.filenames[index], \n",
      "            actual_class_name, \n",
      "            predicted_class_name,\n",
      "            predicted_class_probability,\n",
      "        ),\n",
      "        fontsize=fontsize,\n",
      "    )\n",
      "    ax.set_xticks([])\n",
      "    ax.set_yticks([])\n",
      "\n",
      "    if predicted_class_name == actual_class_name:\n",
      "        color='green'\n",
      "    else:\n",
      "        color='red'\n",
      "    for spine in ax.spines.values():\n",
      "        spine.set_edgecolor(color)\n",
      "        spine.set_linewidth(5)\n",
      "        \n",
      "    return ax\n",
      "fig,ax=plt.subplots()\n",
      "plot_example(predictions,valid_generator,index=0,ax=ax)\n",
      "histor\n",
      "history\n"
     ]
    }
   ],
   "source": [
    "history"
   ]
  },
  {
   "cell_type": "code",
   "execution_count": 20,
   "metadata": {},
   "outputs": [
    {
     "ename": "NameError",
     "evalue": "name 'history' is not defined",
     "output_type": "error",
     "traceback": [
      "\u001b[0;31m---------------------------------------------------------------------------\u001b[0m",
      "\u001b[0;31mNameError\u001b[0m                                 Traceback (most recent call last)",
      "\u001b[0;32m<ipython-input-20-028a401d44a9>\u001b[0m in \u001b[0;36m<module>\u001b[0;34m\u001b[0m\n\u001b[1;32m      1\u001b[0m \u001b[0mfig\u001b[0m\u001b[0;34m,\u001b[0m\u001b[0max\u001b[0m\u001b[0;34m=\u001b[0m\u001b[0mplt\u001b[0m\u001b[0;34m.\u001b[0m\u001b[0msubplots\u001b[0m\u001b[0;34m(\u001b[0m\u001b[0;34m)\u001b[0m\u001b[0;34m\u001b[0m\u001b[0;34m\u001b[0m\u001b[0m\n\u001b[0;32m----> 2\u001b[0;31m \u001b[0max\u001b[0m\u001b[0;34m.\u001b[0m\u001b[0mplot\u001b[0m\u001b[0;34m(\u001b[0m\u001b[0mhistory\u001b[0m\u001b[0;34m.\u001b[0m\u001b[0mhistory\u001b[0m\u001b[0;34m[\u001b[0m\u001b[0;34m'accuracy'\u001b[0m\u001b[0;34m]\u001b[0m\u001b[0;34m)\u001b[0m\u001b[0;34m\u001b[0m\u001b[0;34m\u001b[0m\u001b[0m\n\u001b[0m\u001b[1;32m      3\u001b[0m \u001b[0max\u001b[0m\u001b[0;34m.\u001b[0m\u001b[0mplot\u001b[0m\u001b[0;34m(\u001b[0m\u001b[0mhistory\u001b[0m\u001b[0;34m.\u001b[0m\u001b[0mhistory\u001b[0m\u001b[0;34m[\u001b[0m\u001b[0;34m'val_accuracy'\u001b[0m\u001b[0;34m]\u001b[0m\u001b[0;34m)\u001b[0m\u001b[0;34m\u001b[0m\u001b[0;34m\u001b[0m\u001b[0m\n",
      "\u001b[0;31mNameError\u001b[0m: name 'history' is not defined"
     ]
    },
    {
     "data": {
      "image/png": "[encoded data removed]",
      "text/plain": [
       "<Figure size 432x288 with 1 Axes>"
      ]
     },
     "metadata": {
      "needs_background": "light"
     },
     "output_type": "display_data"
    }
   ],
   "source": [
    "fig,ax=plt.subplots()\n",
    "ax.plot(history.history['accuracy'])\n",
    "ax.plot(history.history['val_accuracy'])"
   ]
  },
  {
   "cell_type": "code",
   "execution_count": 16,
   "metadata": {},
   "outputs": [],
   "source": [
    "def plot_example(predictions,generator,index,ax,fontsize=10):\n",
    "    reverse_class_lookup = {v:k for k,v in generator.class_indices.items()}\n",
    "    \n",
    "    filename = os.path.join(generator.directory,generator.filenames[index])\n",
    "    actual_class_index = generator.classes[index]\n",
    "    actual_class_name = reverse_class_lookup[actual_class_index]\n",
    "    \n",
    "    predicted_class = predictions[index].argmax()\n",
    "    predicted_class_name = reverse_class_lookup[predicted_class]\n",
    "    predicted_class_probability = predictions[index][predicted_class]\n",
    "    \n",
    "    image = imread(filename)\n",
    "    ax.imshow(image)\n",
    "    \n",
    "    ax.set_title(\n",
    "        '{}\\nactual class = {}\\npredicted class = {}\\nprobability = {}'.format(\n",
    "            generator.filenames[index], \n",
    "            actual_class_name, \n",
    "            predicted_class_name,\n",
    "            predicted_class_probability,\n",
    "        ),\n",
    "        fontsize=fontsize,\n",
    "    )\n",
    "    ax.set_xticks([])\n",
    "    ax.set_yticks([])\n",
    "\n",
    "    if predicted_class_name == actual_class_name:\n",
    "        color='green'\n",
    "    else:\n",
    "        color='red'\n",
    "    for spine in ax.spines.values():\n",
    "        spine.set_edgecolor(color)\n",
    "        spine.set_linewidth(5)\n",
    "        \n",
    "    return ax"
   ]
  },
  {
   "cell_type": "code",
   "execution_count": 21,
   "metadata": {},
   "outputs": [
    {
     "data": {
      "text/plain": [
       "<matplotlib.axes._subplots.AxesSubplot at 0x7fb24c4db208>"
      ]
     },
     "execution_count": 21,
     "metadata": {},
     "output_type": "execute_result"
    },
    {
     "data": {
      "image/png": "[encoded data removed]",
      "text/plain": [
       "<Figure size 432x288 with 1 Axes>"
      ]
     },
     "metadata": {},
     "output_type": "display_data"
    }
   ],
   "source": [
    "predictions = model.predict_generator(valid_generator)\n",
    "fig,ax=plt.subplots()\n",
    "plot_example(predictions,valid_generator,index=0,ax=ax)"
   ]
  },
  {
   "cell_type": "code",
   "execution_count": 22,
   "metadata": {},
   "outputs": [],
   "source": [
    "def visualize_predictions(model, generator):\n",
    "    generator.reset()\n",
    "    print('making predictions')\n",
    "    predictions = model.predict_generator(generator)\n",
    "    print('done with predictions')\n",
    "    \n",
    "    indices = np.arange(len(generator.filenames))\n",
    "    \n",
    "    fig,axes=plt.subplots(int(np.ceil(len(generator.filenames)/8)),8,figsize=(25,2.5*np.ceil(len(generator.filenames)/8)))\n",
    "    for ii,index in enumerate(indices):\n",
    "        ax = axes.flatten()[ii]\n",
    "        plot_example(predictions,generator,index=index,ax=ax,fontsize=8)\n",
    "\n",
    "    fig.tight_layout()\n",
    "    \n",
    "    return fig,axes"
   ]
  },
  {
   "cell_type": "code",
   "execution_count": 26,
   "metadata": {},
   "outputs": [],
   "source": [
    "model_evaluation = model.evaluate_generator(test_generator)"
   ]
  },
  {
   "cell_type": "code",
   "execution_count": null,
   "metadata": {
    "scrolled": false
   },
   "outputs": [
    {
     "name": "stdout",
     "output_type": "stream",
     "text": [
      "making predictions\n",
      "done with predictions\n"
     ]
    }
   ],
   "source": [
    "fig,axes = visualize_predictions(model,test_generator)\n",
    "plt.subplots_adjust(top=0.98)\n",
    "fig.suptitle('accuracy on test set = {:.3f}'.format(model_evaluation[1]))\n",
    "fig.savefig('/ssd1/model_vis.png',dpi=100)"
   ]
  },
  {
   "cell_type": "code",
   "execution_count": 25,
   "metadata": {},
   "outputs": [
    {
     "data": {
      "text/plain": [
       "Text(0.5, 0.98, '[0.004277786239981651, 0.8885449171066284]')"
      ]
     },
     "execution_count": 25,
     "metadata": {},
     "output_type": "execute_result"
    },
    {
     "data": {
      "text/plain": [
       "<Figure size 432x288 with 0 Axes>"
      ]
     },
     "metadata": {},
     "output_type": "display_data"
    }
   ],
   "source": [
    "fig\n"
   ]
  },
  {
   "cell_type": "code",
   "execution_count": null,
   "metadata": {},
   "outputs": [],
   "source": []
  }
 ],
 "metadata": {
  "kernelspec": {
   "display_name": "keras",
   "language": "python",
   "name": "keras"
  },
  "language_info": {
   "codemirror_mode": {
    "name": "ipython",
    "version": 3
   },
   "file_extension": ".py",
   "mimetype": "text/x-python",
   "name": "python",
   "nbconvert_exporter": "python",
   "pygments_lexer": "ipython3",
   "version": "3.6.8"
  }
 },
 "nbformat": 4,
 "nbformat_minor": 2
}
