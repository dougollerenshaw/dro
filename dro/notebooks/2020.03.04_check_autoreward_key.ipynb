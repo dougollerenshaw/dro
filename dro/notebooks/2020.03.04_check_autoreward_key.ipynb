{
 "cells": [
  {
   "cell_type": "code",
   "execution_count": 1,
   "metadata": {},
   "outputs": [],
   "source": [
    "from visual_behavior import database as db\n",
    "from tqdm import tqdm"
   ]
  },
  {
   "cell_type": "markdown",
   "metadata": {},
   "source": [
    "## load session summary"
   ]
  },
  {
   "cell_type": "code",
   "execution_count": 2,
   "metadata": {},
   "outputs": [],
   "source": [
    "summary = db.get_behavior_session_summary()"
   ]
  },
  {
   "cell_type": "markdown",
   "metadata": {},
   "source": [
    "## choose a 100 session random sample"
   ]
  },
  {
   "cell_type": "code",
   "execution_count": 3,
   "metadata": {},
   "outputs": [],
   "source": [
    "sample = summary.sample(100).copy()"
   ]
  },
  {
   "cell_type": "markdown",
   "metadata": {},
   "source": [
    "## for each session in the sample, check whether there are any instances of the 'auto_reward' or 'auto_rewarded' key in the trial log"
   ]
  },
  {
   "cell_type": "code",
   "execution_count": 4,
   "metadata": {},
   "outputs": [
    {
     "name": "stderr",
     "output_type": "stream",
     "text": [
      "100it [02:52,  1.72s/it]\n"
     ]
    }
   ],
   "source": [
    "for idx,session in tqdm(sample.iterrows()):\n",
    "    pkl_path = session['pkl_path']\n",
    "    data = pd.read_pickle(pkl_path)\n",
    "    \n",
    "    #check auto_reward and auto_rewarded\n",
    "    auto_reward = np.zeros(len(data[\"items\"][\"behavior\"]['trial_log']))\n",
    "    auto_rewarded = np.zeros(len(data[\"items\"][\"behavior\"]['trial_log']))\n",
    "    for i in range(len(data[\"items\"][\"behavior\"]['trial_log'])):\n",
    "        if 'trial_params' in data[\"items\"][\"behavior\"]['trial_log'][i].keys():\n",
    "            auto_reward[i] = ('auto_reward' in data[\"items\"][\"behavior\"]['trial_log'][i]['trial_params'].keys())\n",
    "            auto_rewarded[i] = ('auto_rewarded' in data[\"items\"][\"behavior\"]['trial_log'][i]['trial_params'].keys())\n",
    "        \n",
    "    sample.loc[idx,'auto_reward_exists'] = np.any(auto_reward)\n",
    "    sample.loc[idx,'auto_rewarded_exists'] = np.any(auto_rewarded)\n",
    "#     break"
   ]
  },
  {
   "cell_type": "markdown",
   "metadata": {},
   "source": [
    "## every session has 'auto_reward'"
   ]
  },
  {
   "cell_type": "code",
   "execution_count": 8,
   "metadata": {},
   "outputs": [
    {
     "data": {
      "text/plain": [
       "True    100\n",
       "Name: auto_reward_exists, dtype: int64"
      ]
     },
     "execution_count": 8,
     "metadata": {},
     "output_type": "execute_result"
    }
   ],
   "source": [
    "sample['auto_reward_exists'].value_counts()"
   ]
  },
  {
   "cell_type": "markdown",
   "metadata": {},
   "source": [
    "## no sessions have 'auto_rewarded'"
   ]
  },
  {
   "cell_type": "code",
   "execution_count": 9,
   "metadata": {},
   "outputs": [
    {
     "data": {
      "text/plain": [
       "False    100\n",
       "Name: auto_rewarded_exists, dtype: int64"
      ]
     },
     "execution_count": 9,
     "metadata": {},
     "output_type": "execute_result"
    }
   ],
   "source": [
    "sample['auto_rewarded_exists'].value_counts()"
   ]
  },
  {
   "cell_type": "code",
   "execution_count": null,
   "metadata": {},
   "outputs": [],
   "source": []
  }
 ],
 "metadata": {
  "kernelspec": {
   "display_name": "visual_behavior",
   "language": "python",
   "name": "visual_behavior"
  },
  "language_info": {
   "codemirror_mode": {
    "name": "ipython",
    "version": 3
   },
   "file_extension": ".py",
   "mimetype": "text/x-python",
   "name": "python",
   "nbconvert_exporter": "python",
   "pygments_lexer": "ipython3",
   "version": "3.7.3"
  }
 },
 "nbformat": 4,
 "nbformat_minor": 2
}
