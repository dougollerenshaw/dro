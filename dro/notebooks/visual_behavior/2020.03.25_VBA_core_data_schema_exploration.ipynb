{
 "cells": [
  {
   "cell_type": "code",
   "execution_count": 7,
   "metadata": {},
   "outputs": [
    {
     "data": {
      "text/html": [
       "<style>.container { width:100% !important; }</style>"
      ],
      "text/plain": [
       "<IPython.core.display.HTML object>"
      ]
     },
     "metadata": {},
     "output_type": "display_data"
    }
   ],
   "source": [
    "from visual_behavior import database as db\n",
    "from visual_behavior.translator.foraging2 import data_to_change_detection_core\n",
    "\n",
    "import pandas as pd\n",
    "\n",
    "%widescreen"
   ]
  },
  {
   "cell_type": "code",
   "execution_count": 3,
   "metadata": {},
   "outputs": [],
   "source": [
    "def get_path(well_known_files, name):\n",
    "    '''\n",
    "    get path from well_known_files dataframe\n",
    "    inputs:\n",
    "        well_known_files (dataframe with index set to name)\n",
    "        name (string with desired name)\n",
    "    returns:\n",
    "        string with full filepath\n",
    "    '''\n",
    "    if name in well_known_files.index:\n",
    "        return ''.join(well_known_files.loc[name][['storage_directory', 'filename']].tolist())\n",
    "    else:\n",
    "        return None"
   ]
  },
  {
   "cell_type": "code",
   "execution_count": 5,
   "metadata": {},
   "outputs": [
    {
     "data": {
      "text/plain": [
       "'/allen/programs/braintv/production/visualbehavior/prod3/specimen_916458892/behavior_session_977429735/977285599.pkl'"
      ]
     },
     "execution_count": 5,
     "metadata": {},
     "output_type": "execute_result"
    }
   ],
   "source": [
    "osid = 977285599\n",
    "well_known_files = db.get_well_known_files(osid).set_index('name')\n",
    "pkl_path = get_path(well_known_files, 'StimulusPickle')\n",
    "pkl_path"
   ]
  },
  {
   "cell_type": "code",
   "execution_count": 9,
   "metadata": {},
   "outputs": [],
   "source": [
    "data = pd.read_pickle(pkl_path)"
   ]
  },
  {
   "cell_type": "code",
   "execution_count": 10,
   "metadata": {},
   "outputs": [],
   "source": [
    "core_data = data_to_change_detection_core(data)"
   ]
  },
  {
   "cell_type": "code",
   "execution_count": 11,
   "metadata": {},
   "outputs": [
    {
     "data": {
      "text/plain": [
       "dict_keys(['metadata', 'time', 'licks', 'trials', 'running', 'rewards', 'visual_stimuli', 'omitted_stimuli', 'image_set', 'log'])"
      ]
     },
     "execution_count": 11,
     "metadata": {},
     "output_type": "execute_result"
    }
   ],
   "source": [
    "core_data.keys()"
   ]
  },
  {
   "cell_type": "code",
   "execution_count": 13,
   "metadata": {},
   "outputs": [
    {
     "name": "stdout",
     "output_type": "stream",
     "text": [
      "key metadata is of type <class 'dict'>\n",
      "key time is of type <class 'numpy.ndarray'>\n",
      "key licks is of type <class 'pandas.core.frame.DataFrame'>\n",
      "key trials is of type <class 'pandas.core.frame.DataFrame'>\n",
      "key running is of type <class 'pandas.core.frame.DataFrame'>\n",
      "key rewards is of type <class 'pandas.core.frame.DataFrame'>\n",
      "key visual_stimuli is of type <class 'pandas.core.frame.DataFrame'>\n",
      "key omitted_stimuli is of type <class 'pandas.core.frame.DataFrame'>\n",
      "key image_set is of type <class 'dict'>\n",
      "key log is of type <class 'list'>\n"
     ]
    }
   ],
   "source": [
    "for key in core_data.keys():\n",
    "    print('key {} is of type {}'.format(key,type(core_data[key])))"
   ]
  },
  {
   "cell_type": "code",
   "execution_count": 31,
   "metadata": {},
   "outputs": [
    {
     "name": "stdout",
     "output_type": "stream",
     "text": [
      "key metadata is of type <class 'dict'>\n",
      "keys:\n",
      "\tstartdatetime\n",
      "\trig_id\n",
      "\tcomputer_name\n",
      "\treward_vol\n",
      "\trewardvol\n",
      "\tauto_reward_vol\n",
      "\tparams\n",
      "\tmouseid\n",
      "\tresponse_window\n",
      "\ttask\n",
      "\tstage\n",
      "\tstoptime\n",
      "\tuserid\n",
      "\tlick_detect_training_mode\n",
      "\tblankscreen_on_timeout\n",
      "\tstim_duration\n",
      "\tblank_duration_range\n",
      "\tdelta_minimum\n",
      "\tstimulus_distribution\n",
      "\tdelta_mean\n",
      "\ttrial_duration\n",
      "\tn_stimulus_frames\n",
      "\tstimulus\n",
      "\twarm_up_trials\n",
      "\tstimulus_window\n",
      "\tvolume_limit\n",
      "\tfailure_repeats\n",
      "\tcatch_frequency\n",
      "\tauto_reward_delay\n",
      "\tfree_reward_trials\n",
      "\tmin_no_lick_time\n",
      "\tmax_session_duration\n",
      "\tabort_on_early_response\n",
      "\tinitial_blank_duration\n",
      "\teven_sampling_enabled\n",
      "\tbehavior_session_uuid\n",
      "\tperiodic_flash\n",
      "\tplatform_info\n",
      "\n",
      "key time is of type <class 'numpy.ndarray'>\n",
      "key licks is of type <class 'pandas.core.frame.DataFrame'>\n",
      "columns:\n",
      "frame    float64\n",
      "time     float64\n",
      "dtype: object\n",
      "\n",
      "key trials is of type <class 'pandas.core.frame.DataFrame'>\n",
      "columns:\n",
      "index                         int64\n",
      "lick_times                   object\n",
      "auto_rewarded                object\n",
      "cumulative_volume           float64\n",
      "cumulative_reward_number      int64\n",
      "reward_volume                 int64\n",
      "reward_times                 object\n",
      "reward_frames                object\n",
      "rewarded                       bool\n",
      "optogenetics                   bool\n",
      "response_type                object\n",
      "response_time                object\n",
      "change_time                 float64\n",
      "change_frame                  int64\n",
      "response_latency            float64\n",
      "starttime                   float64\n",
      "startframe                    int64\n",
      "trial_length                float64\n",
      "scheduled_change_time       float64\n",
      "endtime                     float64\n",
      "endframe                      int64\n",
      "initial_image_category       object\n",
      "initial_image_name           object\n",
      "change_image_name            object\n",
      "change_image_category        object\n",
      "change_ori                   object\n",
      "change_contrast              object\n",
      "initial_ori                  object\n",
      "initial_contrast             object\n",
      "delta_ori                    object\n",
      "dtype: object\n",
      "\n",
      "key running is of type <class 'pandas.core.frame.DataFrame'>\n",
      "columns:\n",
      "time     float64\n",
      "frame      int64\n",
      "speed    float64\n",
      "dx       float32\n",
      "v_sig    float64\n",
      "v_in     float64\n",
      "dtype: object\n",
      "\n",
      "key rewards is of type <class 'pandas.core.frame.DataFrame'>\n",
      "columns:\n",
      "frame        float64\n",
      "time         float64\n",
      "volume       float64\n",
      "lickspout    float64\n",
      "dtype: object\n",
      "\n",
      "key visual_stimuli is of type <class 'pandas.core.frame.DataFrame'>\n",
      "columns:\n",
      "orientation       float64\n",
      "image_name         object\n",
      "image_category     object\n",
      "frame               int64\n",
      "end_frame         float64\n",
      "time              float64\n",
      "duration          float64\n",
      "stop_frame        float64\n",
      "dtype: object\n",
      "\n",
      "key omitted_stimuli is of type <class 'pandas.core.frame.DataFrame'>\n",
      "columns:\n",
      "frame      int64\n",
      "time     float64\n",
      "dtype: object\n",
      "\n",
      "key image_set is of type <class 'dict'>\n",
      "keys:\n",
      "\tmetadata\n",
      "\timages\n",
      "\timage_attributes\n",
      "\n",
      "key log is of type <class 'list'>\n"
     ]
    }
   ],
   "source": [
    "for key in core_data.keys():\n",
    "    print('key {} is of type {}'.format(key,type(core_data[key])))\n",
    "    if type(core_data[key]) == pd.DataFrame:\n",
    "        print('columns:')\n",
    "        print(core_data[key].dtypes)\n",
    "        print('')\n",
    "    elif type(core_data[key]) == dict:\n",
    "        print('keys:')\n",
    "        for subkey,value in core_data[key].items():\n",
    "            print('\\t{}'.format(subkey))\n",
    "        print('')"
   ]
  },
  {
   "cell_type": "code",
   "execution_count": 29,
   "metadata": {},
   "outputs": [
    {
     "name": "stdout",
     "output_type": "stream",
     "text": [
      "startdatetime 2019-11-06T08:50:17.400000-08:00\n",
      "rig_id 2P5\n",
      "computer_name W7DT2P5STIM\n",
      "reward_vol 0.007\n",
      "rewardvol 0.007\n",
      "auto_reward_vol 0.005\n",
      "params {'auto_reward_delay': 0.15, 'free_reward_trials': 10000, 'end_after_response': True, 'flash_omit_probability': 0.05, 'change_flashes_max': 12, 'mouse_id': '479426', 'change_time_dist': 'geometric', 'stimulus_window': 6.0, 'response_window': [0.15, 0.75], 'change_flashes_min': 4, 'catch_frequency': None, 'min_no_lick_time': 0.0, 'timeout_duration': 0.3, 'change_time_scale': 0.3, 'volume_limit': 5.0, 'max_task_duration_min': 60.0, 'lick_spout': False, 'reward_volume': 0.007, 'end_after_response_sec': 3.5, 'start_stop_padding': 300.0, 'periodic_flash': [0.25, 0.5], 'user_id': 'xana.waughman', 'epilogue': {'params': {'frame_length': 0.03333333333333333, 'movie_path': '//allen/programs/braintv/workgroups/neuralcoding/Saskia/Visual Stimuli 151207/Movie_TOE1.npy', 'runs': 10, 'size': [1920, 1080]}, 'name': 'fingerprint'}, 'stage': 'OPHYS_5_images_B_passive', 'auto_reward_vol': 0.005, 'task_id': 'DoC', 'stimulus': {'params': {'image_set': '//allen/programs/braintv/workgroups/nc-ophys/visual_behavior/image_dictionaries/Natural_Images_Lum_Matched_set_ophys_6_2017.07.14.pkl', 'sampling': 'even'}, 'class': 'images'}, 'failure_repeats': 5, 'warm_up_trials': 0, 'pre_change_time': 0.0}\n",
      "mouseid 479426\n",
      "response_window [0.15, 0.75]\n",
      "task DoC_untranslated\n",
      "stage OPHYS_5_images_B_passive\n",
      "stoptime 4507.552881978118\n",
      "userid xana.waughman\n",
      "lick_detect_training_mode single\n",
      "blankscreen_on_timeout False\n",
      "stim_duration 6000.0\n",
      "blank_duration_range [0.5, 0.5]\n",
      "delta_minimum 0.0\n",
      "stimulus_distribution geometric\n",
      "delta_mean 0.3\n",
      "trial_duration None\n",
      "n_stimulus_frames 69295\n",
      "stimulus images\n",
      "warm_up_trials 0\n",
      "stimulus_window 6.0\n",
      "volume_limit 5.0\n",
      "failure_repeats 5\n",
      "catch_frequency 0.125\n",
      "auto_reward_delay 0.15\n",
      "free_reward_trials 10000\n",
      "min_no_lick_time 0.0\n",
      "max_session_duration 60.0\n",
      "abort_on_early_response True\n",
      "initial_blank_duration 0.0\n",
      "even_sampling_enabled True\n",
      "behavior_session_uuid ae21feb0-112f-49ac-9c95-c0e659a68526\n",
      "periodic_flash (0.25, 0.5)\n",
      "platform_info {'camstim': '0.5.6+g9c5966f.b2062', 'opengl': '4.6.0 NVIDIA 392.00', 'python': '2.7.13', 'rig_id': 'unknown', 'hardware': ('Intel64 Family 6 Model 63 Stepping 2, GenuineIntel', 'AMD64'), 'pyglet': '1.2.4', 'computer_name': 'W7DT2P5STIM', 'os': ('Windows', '7', '6.1.7601'), 'psychopy': '1.82.02', 'camstim_git_hash': None}\n"
     ]
    }
   ],
   "source": [
    "for k,v in core_data['metadata'].items():\n",
    "    print(k,v)"
   ]
  },
  {
   "cell_type": "code",
   "execution_count": null,
   "metadata": {},
   "outputs": [],
   "source": []
  }
 ],
 "metadata": {
  "kernelspec": {
   "display_name": "visual_behavior",
   "language": "python",
   "name": "visual_behavior"
  },
  "language_info": {
   "codemirror_mode": {
    "name": "ipython",
    "version": 3
   },
   "file_extension": ".py",
   "mimetype": "text/x-python",
   "name": "python",
   "nbconvert_exporter": "python",
   "pygments_lexer": "ipython3",
   "version": "3.7.3"
  }
 },
 "nbformat": 4,
 "nbformat_minor": 4
}
