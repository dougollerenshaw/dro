{
 "cells": [
  {
   "cell_type": "code",
   "execution_count": 27,
   "metadata": {},
   "outputs": [
    {
     "name": "stderr",
     "output_type": "stream",
     "text": [
      "/home/dougo/Code/AllenSDK/allensdk/brain_observatory/sync_dataset.py:109: UserWarning: The loaded sync file contains the following deprecated line label keys: {'cam2_exposure', 'cam1_exposure'}. Consider updating the sync file line labels.\n",
      "  self._check_line_labels()\n",
      "/home/dougo/Code/AllenSDK/allensdk/brain_observatory/sync_dataset.py:109: UserWarning: The loaded sync file contains the following deprecated line label keys: {'cam2_exposure', 'cam1_exposure'}. Consider updating the sync file line labels.\n",
      "  self._check_line_labels()\n",
      "WARNING:root:Could not find valid lines for the following data sources\n",
      "WARNING:root:acquiring (valid line label(s) = ['2p_acquiring']\n",
      "ERROR:visual_behavior.ophys.sync.process_sync:Sync photodiode error needs to be fixed. Using assumed monitor delay: 0.0351\n"
     ]
    },
    {
     "name": "stdout",
     "output_type": "stream",
     "text": [
      "resampling mesoscope 2P frame times\n"
     ]
    },
    {
     "name": "stderr",
     "output_type": "stream",
     "text": [
      "/home/dougo/.conda/envs/visual_behavior/lib/python3.8/site-packages/pandas/core/indexing.py:376: SettingWithCopyWarning: \n",
      "A value is trying to be set on a copy of a slice from a DataFrame.\n",
      "Try using .loc[row_indexer,col_indexer] = value instead\n",
      "\n",
      "See the caveats in the documentation: http://pandas.pydata.org/pandas-docs/stable/user_guide/indexing.html#returning-a-view-versus-a-copy\n",
      "  self.obj[key] = _infer_fill_value(value)\n",
      "/home/dougo/.conda/envs/visual_behavior/lib/python3.8/site-packages/pandas/core/indexing.py:494: SettingWithCopyWarning: \n",
      "A value is trying to be set on a copy of a slice from a DataFrame.\n",
      "Try using .loc[row_indexer,col_indexer] = value instead\n",
      "\n",
      "See the caveats in the documentation: http://pandas.pydata.org/pandas-docs/stable/user_guide/indexing.html#returning-a-view-versus-a-copy\n",
      "  self.obj[item] = s\n",
      "ERROR:visual_behavior.ophys.sync.process_sync:Sync photodiode error needs to be fixed. Using assumed monitor delay: 0.0351\n"
     ]
    },
    {
     "name": "stdout",
     "output_type": "stream",
     "text": [
      "resampling mesoscope 2P frame times\n"
     ]
    },
    {
     "name": "stderr",
     "output_type": "stream",
     "text": [
      "ERROR:visual_behavior.ophys.sync.process_sync:Sync photodiode error needs to be fixed. Using assumed monitor delay: 0.0351\n"
     ]
    },
    {
     "name": "stdout",
     "output_type": "stream",
     "text": [
      "resampling mesoscope 2P frame times\n"
     ]
    },
    {
     "name": "stderr",
     "output_type": "stream",
     "text": [
      "ERROR:visual_behavior.ophys.sync.process_sync:Sync photodiode error needs to be fixed. Using assumed monitor delay: 0.0351\n",
      "/home/dougo/.conda/envs/visual_behavior/lib/python3.8/site-packages/pandas/core/indexing.py:494: SettingWithCopyWarning: \n",
      "A value is trying to be set on a copy of a slice from a DataFrame.\n",
      "Try using .loc[row_indexer,col_indexer] = value instead\n",
      "\n",
      "See the caveats in the documentation: http://pandas.pydata.org/pandas-docs/stable/user_guide/indexing.html#returning-a-view-versus-a-copy\n",
      "  self.obj[item] = s\n"
     ]
    },
    {
     "name": "stdout",
     "output_type": "stream",
     "text": [
      "resampling mesoscope 2P frame times\n",
      "shape of omission_response trace: (106,)\n",
      "\n",
      "trace timestamps: \n",
      "[-4.95811202 -4.86456273 -4.77101345 -4.67746417 -4.58391488 -4.4903656\n",
      " -4.39681632 -4.30326703 -4.20971775 -4.11616847 -4.02261918 -3.9290699\n",
      " -3.83552062 -3.74197133 -3.64842205 -3.55487277 -3.46132348 -3.3677742\n",
      " -3.27422492 -3.18067563 -3.08712635 -2.99357707 -2.90002778 -2.8064785\n",
      " -2.71292922 -2.61937993 -2.52583065 -2.43228137 -2.33873208 -2.2451828\n",
      " -2.15163352 -2.05808423 -1.96453495 -1.87098567 -1.77743638 -1.6838871\n",
      " -1.59033782 -1.49678853 -1.40323925 -1.30968997 -1.21614068 -1.1225914\n",
      " -1.02904212 -0.93549283 -0.84194355 -0.74839427 -0.65484498 -0.5612957\n",
      " -0.46774642 -0.37419713 -0.28064785 -0.18709857 -0.09354928  0.\n",
      "  0.09354928  0.18709857  0.28064785  0.37419713  0.46774642  0.5612957\n",
      "  0.65484498  0.74839427  0.84194355  0.93549283  1.02904212  1.1225914\n",
      "  1.21614068  1.30968997  1.40323925  1.49678853  1.59033782  1.6838871\n",
      "  1.77743638  1.87098567  1.96453495  2.05808423  2.15163352  2.2451828\n",
      "  2.33873208  2.43228137  2.52583065  2.61937993  2.71292922  2.8064785\n",
      "  2.90002778  2.99357707  3.08712635  3.18067563  3.27422492  3.3677742\n",
      "  3.46132348  3.55487277  3.64842205  3.74197133  3.83552062  3.9290699\n",
      "  4.02261918  4.11616847  4.20971775  4.30326703  4.39681632  4.4903656\n",
      "  4.58391488  4.67746417  4.77101345  4.86456273]\n"
     ]
    }
   ],
   "source": [
    "import visual_behavior.data_access.loading as loading\n",
    "from visual_behavior.ophys.response_analysis.response_analysis import ResponseAnalysis\n",
    "\n",
    "ophys_experiment_id = 1000744370\n",
    "dataset = loading.get_ophys_dataset(ophys_experiment_id)\n",
    "analysis = ResponseAnalysis(dataset)\n",
    "\n",
    "print('shape of omission_response trace: {}'.format(analysis.omission_response_df.iloc[0]['trace'].shape))\n",
    "print('')\n",
    "print('trace timestamps: \\n{}'.format(analysis.omission_response_df.iloc[0]['trace_timestamps']))"
   ]
  },
  {
   "cell_type": "code",
   "execution_count": null,
   "metadata": {},
   "outputs": [],
   "source": []
  }
 ],
 "metadata": {
  "kernelspec": {
   "display_name": "visual_behavior",
   "language": "python",
   "name": "visual_behavior"
  },
  "language_info": {
   "codemirror_mode": {
    "name": "ipython",
    "version": 3
   },
   "file_extension": ".py",
   "mimetype": "text/x-python",
   "name": "python",
   "nbconvert_exporter": "python",
   "pygments_lexer": "ipython3",
   "version": "3.8.3"
  }
 },
 "nbformat": 4,
 "nbformat_minor": 4
}
