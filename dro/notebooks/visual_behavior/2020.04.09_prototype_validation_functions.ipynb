{
 "cells": [
  {
   "cell_type": "markdown",
   "metadata": {},
   "source": [
    "# SDK Validation example\n",
    "##  dougo, 4/9/2020"
   ]
  },
  {
   "cell_type": "markdown",
   "metadata": {},
   "source": [
    "# Imports"
   ]
  },
  {
   "cell_type": "code",
   "execution_count": 1,
   "metadata": {},
   "outputs": [
    {
     "name": "stderr",
     "output_type": "stream",
     "text": [
      "/home/dougo/Code/AllenSDK/allensdk/brain_observatory/behavior/behavior_ophys_api/behavior_ophys_nwb_api.py:9: FutureWarning: pandas.util.testing is deprecated. Use the functions in the public API at pandas.testing instead.\n",
      "  from pandas.util.testing import assert_frame_equal\n"
     ]
    }
   ],
   "source": [
    "import visual_behavior.validation.sdk as sdk_validation\n",
    "from visual_behavior.validation.sdk import ValidateSDK\n",
    "\n",
    "from multiprocessing import Pool"
   ]
  },
  {
   "cell_type": "markdown",
   "metadata": {},
   "source": [
    "# Validate behavior_session_id 992440576"
   ]
  },
  {
   "cell_type": "code",
   "execution_count": 11,
   "metadata": {},
   "outputs": [
    {
     "name": "stderr",
     "output_type": "stream",
     "text": [
      "/home/dougo/Code/AllenSDK/allensdk/brain_observatory/sync_dataset.py:109: UserWarning: The loaded sync file contains the following deprecated line label keys: {'cam1_exposure', 'cam2_exposure'}. Consider updating the sync file line labels.\n",
      "  self._check_line_labels()\n",
      "/home/dougo/Code/AllenSDK/allensdk/brain_observatory/sync_dataset.py:109: UserWarning: The loaded sync file contains the following deprecated line label keys: {'cam1_exposure', 'cam2_exposure'}. Consider updating the sync file line labels.\n",
      "  self._check_line_labels()\n",
      "/home/dougo/Code/AllenSDK/allensdk/brain_observatory/sync_dataset.py:109: UserWarning: The loaded sync file contains the following deprecated line label keys: {'cam1_exposure', 'cam2_exposure'}. Consider updating the sync file line labels.\n",
      "  self._check_line_labels()\n",
      "/home/dougo/Code/AllenSDK/allensdk/brain_observatory/sync_dataset.py:109: UserWarning: The loaded sync file contains the following deprecated line label keys: {'cam1_exposure', 'cam2_exposure'}. Consider updating the sync file line labels.\n",
      "  self._check_line_labels()\n",
      "/home/dougo/Code/AllenSDK/allensdk/brain_observatory/sync_dataset.py:109: UserWarning: The loaded sync file contains the following deprecated line label keys: {'cam1_exposure', 'cam2_exposure'}. Consider updating the sync file line labels.\n",
      "  self._check_line_labels()\n",
      "/home/dougo/Code/AllenSDK/allensdk/brain_observatory/sync_dataset.py:109: UserWarning: The loaded sync file contains the following deprecated line label keys: {'cam1_exposure', 'cam2_exposure'}. Consider updating the sync file line labels.\n",
      "  self._check_line_labels()\n",
      "/home/dougo/Code/AllenSDK/allensdk/brain_observatory/sync_dataset.py:109: UserWarning: The loaded sync file contains the following deprecated line label keys: {'cam1_exposure', 'cam2_exposure'}. Consider updating the sync file line labels.\n",
      "  self._check_line_labels()\n",
      "/home/dougo/Code/AllenSDK/allensdk/brain_observatory/sync_dataset.py:109: UserWarning: The loaded sync file contains the following deprecated line label keys: {'cam1_exposure', 'cam2_exposure'}. Consider updating the sync file line labels.\n",
      "  self._check_line_labels()\n",
      "/home/dougo/Code/AllenSDK/allensdk/brain_observatory/sync_dataset.py:109: UserWarning: The loaded sync file contains the following deprecated line label keys: {'cam1_exposure', 'cam2_exposure'}. Consider updating the sync file line labels.\n",
      "  self._check_line_labels()\n",
      "/home/dougo/Code/AllenSDK/allensdk/brain_observatory/sync_dataset.py:109: UserWarning: The loaded sync file contains the following deprecated line label keys: {'cam1_exposure', 'cam2_exposure'}. Consider updating the sync file line labels.\n",
      "  self._check_line_labels()\n",
      "/home/dougo/Code/AllenSDK/allensdk/brain_observatory/sync_dataset.py:109: UserWarning: The loaded sync file contains the following deprecated line label keys: {'cam1_exposure', 'cam2_exposure'}. Consider updating the sync file line labels.\n",
      "  self._check_line_labels()\n"
     ]
    }
   ],
   "source": [
    "validation = ValidateSDK(992440576)"
   ]
  },
  {
   "cell_type": "markdown",
   "metadata": {},
   "source": [
    "# View results (full list of attributes needs to be implemented)"
   ]
  },
  {
   "cell_type": "code",
   "execution_count": 13,
   "metadata": {},
   "outputs": [
    {
     "data": {
      "text/plain": [
       "{'average_projection': False,\n",
       " 'cell_specimen_table': True,\n",
       " 'corrected_fluorescence_traces': True,\n",
       " 'dff_traces': True,\n",
       " 'eye_tracking': True,\n",
       " 'licks': True,\n",
       " 'max_projection': False,\n",
       " 'metadata': True,\n",
       " 'motion_correction': True,\n",
       " 'ophys_timestamps': True,\n",
       " 'rewards': True,\n",
       " 'running_data_df': False,\n",
       " 'running_speed': False,\n",
       " 'segmentation_mask_image': False,\n",
       " 'stimulus_presentations': False,\n",
       " 'stimulus_templates': False,\n",
       " 'stimulus_timestamps': True,\n",
       " 'task_parameters': True,\n",
       " 'trials': False,\n",
       " 'behavior_session_id': 992440576}"
      ]
     },
     "execution_count": 13,
     "metadata": {},
     "output_type": "execute_result"
    }
   ],
   "source": [
    "validation.results"
   ]
  },
  {
   "cell_type": "markdown",
   "metadata": {},
   "source": [
    "# Errors are logged to mongo, view them:"
   ]
  },
  {
   "cell_type": "code",
   "execution_count": 34,
   "metadata": {},
   "outputs": [
    {
     "data": {
      "text/html": [
       "<div>\n",
       "<style scoped>\n",
       "    .dataframe tbody tr th:only-of-type {\n",
       "        vertical-align: middle;\n",
       "    }\n",
       "\n",
       "    .dataframe tbody tr th {\n",
       "        vertical-align: top;\n",
       "    }\n",
       "\n",
       "    .dataframe thead th {\n",
       "        text-align: right;\n",
       "    }\n",
       "</style>\n",
       "<table border=\"1\" class=\"dataframe\">\n",
       "  <thead>\n",
       "    <tr style=\"text-align: right;\">\n",
       "      <th></th>\n",
       "      <th>_id</th>\n",
       "      <th>timestamp</th>\n",
       "      <th>sdk_version</th>\n",
       "      <th>python_version</th>\n",
       "      <th>platform</th>\n",
       "      <th>behavior_session_id</th>\n",
       "      <th>failed_attribute</th>\n",
       "      <th>error_class</th>\n",
       "      <th>traceback</th>\n",
       "    </tr>\n",
       "  </thead>\n",
       "  <tbody>\n",
       "    <tr>\n",
       "      <th>0</th>\n",
       "      <td>5e900bd13b1f16bb02f25764</td>\n",
       "      <td>2020-04-09 23:01:53.703109</td>\n",
       "      <td>1.7.0</td>\n",
       "      <td>3.7.3</td>\n",
       "      <td>Linux-3.10.0-514.26.2.el7.x86_64-x86_64-with-c...</td>\n",
       "      <td>846710859</td>\n",
       "      <td>eye_tracking</td>\n",
       "      <td>&lt;class 'allensdk.OneResultExpectedError'&gt;</td>\n",
       "      <td>Traceback (most recent call last):\\n  File \"/h...</td>\n",
       "    </tr>\n",
       "  </tbody>\n",
       "</table>\n",
       "</div>"
      ],
      "text/plain": [
       "                        _id                   timestamp sdk_version  \\\n",
       "0  5e900bd13b1f16bb02f25764  2020-04-09 23:01:53.703109       1.7.0   \n",
       "\n",
       "  python_version                                           platform  \\\n",
       "0          3.7.3  Linux-3.10.0-514.26.2.el7.x86_64-x86_64-with-c...   \n",
       "\n",
       "   behavior_session_id failed_attribute  \\\n",
       "0            846710859     eye_tracking   \n",
       "\n",
       "                                 error_class  \\\n",
       "0  <class 'allensdk.OneResultExpectedError'>   \n",
       "\n",
       "                                           traceback  \n",
       "0  Traceback (most recent call last):\\n  File \"/h...  "
      ]
     },
     "execution_count": 34,
     "metadata": {},
     "output_type": "execute_result"
    }
   ],
   "source": [
    "error_log = sdk_validation.get_error_logs(846710859)\n",
    "error_log = error_log.drop_duplicates('failed_attribute')\n",
    "error_log"
   ]
  },
  {
   "cell_type": "markdown",
   "metadata": {},
   "source": [
    "# Iterate over errors, view the full tracebacks"
   ]
  },
  {
   "cell_type": "code",
   "execution_count": 35,
   "metadata": {
    "scrolled": false
   },
   "outputs": [
    {
     "name": "stdout",
     "output_type": "stream",
     "text": [
      "traceback for eye_tracking:\n",
      "========================================\n",
      "Traceback (most recent call last):\n",
      "  File \"/home/dougo/code/visual_behavior_analysis/visual_behavior/validation/sdk.py\", line 78, in validate_attribute\n",
      "    res = getattr(session, attribute)\n",
      "  File \"/home/dougo/Code/AllenSDK/allensdk/brain_observatory/behavior/behavior_ophys_session.py\", line 372, in eye_tracking\n",
      "    dilation_frames=self._eye_tracking_dilation_frames)\n",
      "  File \"/home/dougo/Code/AllenSDK/allensdk/internal/api/behavior_ophys_api.py\", line 296, in get_eye_tracking\n",
      "    filepath = Path(self.get_eye_tracking_filepath())\n",
      "  File \"/home/dougo/Code/AllenSDK/allensdk/api/cache.py\", line 75, in wrapper\n",
      "    result = f(*args, **kwargs)\n",
      "  File \"/home/dougo/Code/AllenSDK/allensdk/internal/api/behavior_ophys_api.py\", line 285, in get_eye_tracking_filepath\n",
      "    return safe_system_path(self.lims_db.fetchone(query, strict=True))\n",
      "  File \"/home/dougo/Code/AllenSDK/allensdk/internal/api/__init__.py\", line 48, in fetchone\n",
      "    raise OneResultExpectedError\n",
      "allensdk.OneResultExpectedError\n",
      "\n"
     ]
    }
   ],
   "source": [
    "for idx,row in error_log.iterrows():\n",
    "    print(\"traceback for {}:\\n{}\".format(row['failed_attribute'],'='*40))\n",
    "    print(row['traceback'])"
   ]
  },
  {
   "cell_type": "code",
   "execution_count": 6,
   "metadata": {},
   "outputs": [
    {
     "data": {
      "text/html": [
       "<div>\n",
       "<style scoped>\n",
       "    .dataframe tbody tr th:only-of-type {\n",
       "        vertical-align: middle;\n",
       "    }\n",
       "\n",
       "    .dataframe tbody tr th {\n",
       "        vertical-align: top;\n",
       "    }\n",
       "\n",
       "    .dataframe thead th {\n",
       "        text-align: right;\n",
       "    }\n",
       "</style>\n",
       "<table border=\"1\" class=\"dataframe\">\n",
       "  <thead>\n",
       "    <tr style=\"text-align: right;\">\n",
       "      <th></th>\n",
       "      <th>ophys_session_id</th>\n",
       "      <th>behavior_training_id</th>\n",
       "      <th>equipment_name</th>\n",
       "      <th>donor_id</th>\n",
       "      <th>full_genotype</th>\n",
       "      <th>reporter_line</th>\n",
       "      <th>driver_line</th>\n",
       "      <th>sex</th>\n",
       "      <th>foraging_id</th>\n",
       "      <th>session_type</th>\n",
       "    </tr>\n",
       "    <tr>\n",
       "      <th>behavior_session_id</th>\n",
       "      <th></th>\n",
       "      <th></th>\n",
       "      <th></th>\n",
       "      <th></th>\n",
       "      <th></th>\n",
       "      <th></th>\n",
       "      <th></th>\n",
       "      <th></th>\n",
       "      <th></th>\n",
       "      <th></th>\n",
       "    </tr>\n",
       "  </thead>\n",
       "  <tbody>\n",
       "    <tr>\n",
       "      <th>846710859</th>\n",
       "      <td>846605051.0</td>\n",
       "      <td>NaN</td>\n",
       "      <td>CAM2P.4</td>\n",
       "      <td>814111925</td>\n",
       "      <td>Slc17a7-IRES2-Cre/wt;Camk2a-tTA/wt;Ai94(TITL-G...</td>\n",
       "      <td>[Ai94(TITL-GCaMP6s)]</td>\n",
       "      <td>[Camk2a-tTA, Slc17a7-IRES2-Cre]</td>\n",
       "      <td>F</td>\n",
       "      <td>b183a85b-6a29-4054-9d3c-915a0408a10a</td>\n",
       "      <td>OPHYS_5_images_B_passive</td>\n",
       "    </tr>\n",
       "    <tr>\n",
       "      <th>820627398</th>\n",
       "      <td>NaN</td>\n",
       "      <td>NaN</td>\n",
       "      <td>MESO.1</td>\n",
       "      <td>703198154</td>\n",
       "      <td>Slc17a7-IRES2-Cre/wt;Camk2a-tTA/wt;Ai93(TITL-G...</td>\n",
       "      <td>[Ai93(TITL-GCaMP6f)]</td>\n",
       "      <td>[Camk2a-tTA, Slc17a7-IRES2-Cre]</td>\n",
       "      <td>M</td>\n",
       "      <td>e3bc6a4b-3477-41bc-966b-ef8e3d35b6cd</td>\n",
       "      <td>OPHYS_1_images_A</td>\n",
       "    </tr>\n",
       "    <tr>\n",
       "      <th>767197943</th>\n",
       "      <td>NaN</td>\n",
       "      <td>NaN</td>\n",
       "      <td>CAM2P.3</td>\n",
       "      <td>642238406</td>\n",
       "      <td>Slc17a7-IRES2-Cre/wt;Ai162(TIT2L-GC6s-ICL-tTA2...</td>\n",
       "      <td>[Ai162(TIT2L-GC6s-ICL-tTA2)]</td>\n",
       "      <td>[Slc17a7-IRES2-Cre]</td>\n",
       "      <td>M</td>\n",
       "      <td>7a1d6674-df2c-53e7-ad85-9065a520634d</td>\n",
       "      <td>0_gratings_autorewards_15min</td>\n",
       "    </tr>\n",
       "    <tr>\n",
       "      <th>768638583</th>\n",
       "      <td>768434190.0</td>\n",
       "      <td>NaN</td>\n",
       "      <td>CAM2P.4</td>\n",
       "      <td>703210569</td>\n",
       "      <td>Slc17a7-IRES2-Cre/wt;Camk2a-tTA/wt;Ai93(TITL-G...</td>\n",
       "      <td>[Ai93(TITL-GCaMP6f)]</td>\n",
       "      <td>[Camk2a-tTA, Slc17a7-IRES2-Cre]</td>\n",
       "      <td>F</td>\n",
       "      <td>cf1769ef-623e-4bb9-a698-a82986e91727</td>\n",
       "      <td>5_images_a_ophys</td>\n",
       "    </tr>\n",
       "    <tr>\n",
       "      <th>768879508</th>\n",
       "      <td>NaN</td>\n",
       "      <td>NaN</td>\n",
       "      <td>CAM2P.3</td>\n",
       "      <td>642238406</td>\n",
       "      <td>Slc17a7-IRES2-Cre/wt;Ai162(TIT2L-GC6s-ICL-tTA2...</td>\n",
       "      <td>[Ai162(TIT2L-GC6s-ICL-tTA2)]</td>\n",
       "      <td>[Slc17a7-IRES2-Cre]</td>\n",
       "      <td>M</td>\n",
       "      <td>3e2e0696-70f9-5839-888a-a90668e66a4d</td>\n",
       "      <td>1_gratings</td>\n",
       "    </tr>\n",
       "    <tr>\n",
       "      <th>...</th>\n",
       "      <td>...</td>\n",
       "      <td>...</td>\n",
       "      <td>...</td>\n",
       "      <td>...</td>\n",
       "      <td>...</td>\n",
       "      <td>...</td>\n",
       "      <td>...</td>\n",
       "      <td>...</td>\n",
       "      <td>...</td>\n",
       "      <td>...</td>\n",
       "    </tr>\n",
       "    <tr>\n",
       "      <th>1015018367</th>\n",
       "      <td>NaN</td>\n",
       "      <td>NaN</td>\n",
       "      <td>BEH.B</td>\n",
       "      <td>1002508469</td>\n",
       "      <td>Sst-IRES-Cre/wt;Ai148(TIT2L-GC6f-ICL-tTA2)/wt</td>\n",
       "      <td>[Ai148(TIT2L-GC6f-ICL-tTA2)]</td>\n",
       "      <td>[Sst-IRES-Cre]</td>\n",
       "      <td>M</td>\n",
       "      <td>efd6b749-cb0b-4e34-bf07-92ac2302bf2d</td>\n",
       "      <td>TRAINING_1_gratings</td>\n",
       "    </tr>\n",
       "    <tr>\n",
       "      <th>1015171799</th>\n",
       "      <td>NaN</td>\n",
       "      <td>NaN</td>\n",
       "      <td>BEH.F</td>\n",
       "      <td>999261458</td>\n",
       "      <td>Sst-IRES-Cre/wt;Ai32(RCL-ChR2(H134R)_EYFP)/wt</td>\n",
       "      <td>[Ai32(RCL-ChR2(H134R)_EYFP)]</td>\n",
       "      <td>[Sst-IRES-Cre]</td>\n",
       "      <td>F</td>\n",
       "      <td>06cd41ab-2111-45b3-bcc2-0eb508d1e45f</td>\n",
       "      <td>TRAINING_5_images_G_handoff_ready</td>\n",
       "    </tr>\n",
       "    <tr>\n",
       "      <th>1015019342</th>\n",
       "      <td>NaN</td>\n",
       "      <td>NaN</td>\n",
       "      <td>BEH.B</td>\n",
       "      <td>1000324121</td>\n",
       "      <td>Vip-IRES-Cre/wt;Ai32(RCL-ChR2(H134R)_EYFP)/wt</td>\n",
       "      <td>[Ai32(RCL-ChR2(H134R)_EYFP)]</td>\n",
       "      <td>[Vip-IRES-Cre]</td>\n",
       "      <td>M</td>\n",
       "      <td>538ba43c-57b9-44be-859b-8c1f472ded66</td>\n",
       "      <td>TRAINING_5_images_G_epilogue</td>\n",
       "    </tr>\n",
       "    <tr>\n",
       "      <th>1015172275</th>\n",
       "      <td>NaN</td>\n",
       "      <td>NaN</td>\n",
       "      <td>BEH.B</td>\n",
       "      <td>999255912</td>\n",
       "      <td>Vip-IRES-Cre/wt;Ai148(TIT2L-GC6f-ICL-tTA2)/wt</td>\n",
       "      <td>[Ai148(TIT2L-GC6f-ICL-tTA2)]</td>\n",
       "      <td>[Vip-IRES-Cre]</td>\n",
       "      <td>M</td>\n",
       "      <td>e30529f8-7c89-41f9-9bc1-bb1cccd9c85c</td>\n",
       "      <td>TRAINING_1_gratings</td>\n",
       "    </tr>\n",
       "    <tr>\n",
       "      <th>1015172277</th>\n",
       "      <td>NaN</td>\n",
       "      <td>NaN</td>\n",
       "      <td>BEH.F</td>\n",
       "      <td>993546182</td>\n",
       "      <td>Sst-IRES-Cre/wt;Ai148(TIT2L-GC6f-ICL-tTA2)/wt</td>\n",
       "      <td>[Ai148(TIT2L-GC6f-ICL-tTA2)]</td>\n",
       "      <td>[Sst-IRES-Cre]</td>\n",
       "      <td>M</td>\n",
       "      <td>1877670f-42ae-42de-926b-633aa57e060f</td>\n",
       "      <td>TRAINING_5_images_G_handoff_ready</td>\n",
       "    </tr>\n",
       "  </tbody>\n",
       "</table>\n",
       "<p>10001 rows × 10 columns</p>\n",
       "</div>"
      ],
      "text/plain": [
       "                     ophys_session_id  behavior_training_id equipment_name  \\\n",
       "behavior_session_id                                                          \n",
       "846710859                 846605051.0                   NaN        CAM2P.4   \n",
       "820627398                         NaN                   NaN         MESO.1   \n",
       "767197943                         NaN                   NaN        CAM2P.3   \n",
       "768638583                 768434190.0                   NaN        CAM2P.4   \n",
       "768879508                         NaN                   NaN        CAM2P.3   \n",
       "...                               ...                   ...            ...   \n",
       "1015018367                        NaN                   NaN          BEH.B   \n",
       "1015171799                        NaN                   NaN          BEH.F   \n",
       "1015019342                        NaN                   NaN          BEH.B   \n",
       "1015172275                        NaN                   NaN          BEH.B   \n",
       "1015172277                        NaN                   NaN          BEH.F   \n",
       "\n",
       "                       donor_id  \\\n",
       "behavior_session_id               \n",
       "846710859             814111925   \n",
       "820627398             703198154   \n",
       "767197943             642238406   \n",
       "768638583             703210569   \n",
       "768879508             642238406   \n",
       "...                         ...   \n",
       "1015018367           1002508469   \n",
       "1015171799            999261458   \n",
       "1015019342           1000324121   \n",
       "1015172275            999255912   \n",
       "1015172277            993546182   \n",
       "\n",
       "                                                         full_genotype  \\\n",
       "behavior_session_id                                                      \n",
       "846710859            Slc17a7-IRES2-Cre/wt;Camk2a-tTA/wt;Ai94(TITL-G...   \n",
       "820627398            Slc17a7-IRES2-Cre/wt;Camk2a-tTA/wt;Ai93(TITL-G...   \n",
       "767197943            Slc17a7-IRES2-Cre/wt;Ai162(TIT2L-GC6s-ICL-tTA2...   \n",
       "768638583            Slc17a7-IRES2-Cre/wt;Camk2a-tTA/wt;Ai93(TITL-G...   \n",
       "768879508            Slc17a7-IRES2-Cre/wt;Ai162(TIT2L-GC6s-ICL-tTA2...   \n",
       "...                                                                ...   \n",
       "1015018367               Sst-IRES-Cre/wt;Ai148(TIT2L-GC6f-ICL-tTA2)/wt   \n",
       "1015171799               Sst-IRES-Cre/wt;Ai32(RCL-ChR2(H134R)_EYFP)/wt   \n",
       "1015019342               Vip-IRES-Cre/wt;Ai32(RCL-ChR2(H134R)_EYFP)/wt   \n",
       "1015172275               Vip-IRES-Cre/wt;Ai148(TIT2L-GC6f-ICL-tTA2)/wt   \n",
       "1015172277               Sst-IRES-Cre/wt;Ai148(TIT2L-GC6f-ICL-tTA2)/wt   \n",
       "\n",
       "                                    reporter_line  \\\n",
       "behavior_session_id                                 \n",
       "846710859                    [Ai94(TITL-GCaMP6s)]   \n",
       "820627398                    [Ai93(TITL-GCaMP6f)]   \n",
       "767197943            [Ai162(TIT2L-GC6s-ICL-tTA2)]   \n",
       "768638583                    [Ai93(TITL-GCaMP6f)]   \n",
       "768879508            [Ai162(TIT2L-GC6s-ICL-tTA2)]   \n",
       "...                                           ...   \n",
       "1015018367           [Ai148(TIT2L-GC6f-ICL-tTA2)]   \n",
       "1015171799           [Ai32(RCL-ChR2(H134R)_EYFP)]   \n",
       "1015019342           [Ai32(RCL-ChR2(H134R)_EYFP)]   \n",
       "1015172275           [Ai148(TIT2L-GC6f-ICL-tTA2)]   \n",
       "1015172277           [Ai148(TIT2L-GC6f-ICL-tTA2)]   \n",
       "\n",
       "                                         driver_line sex  \\\n",
       "behavior_session_id                                        \n",
       "846710859            [Camk2a-tTA, Slc17a7-IRES2-Cre]   F   \n",
       "820627398            [Camk2a-tTA, Slc17a7-IRES2-Cre]   M   \n",
       "767197943                        [Slc17a7-IRES2-Cre]   M   \n",
       "768638583            [Camk2a-tTA, Slc17a7-IRES2-Cre]   F   \n",
       "768879508                        [Slc17a7-IRES2-Cre]   M   \n",
       "...                                              ...  ..   \n",
       "1015018367                            [Sst-IRES-Cre]   M   \n",
       "1015171799                            [Sst-IRES-Cre]   F   \n",
       "1015019342                            [Vip-IRES-Cre]   M   \n",
       "1015172275                            [Vip-IRES-Cre]   M   \n",
       "1015172277                            [Sst-IRES-Cre]   M   \n",
       "\n",
       "                                              foraging_id  \\\n",
       "behavior_session_id                                         \n",
       "846710859            b183a85b-6a29-4054-9d3c-915a0408a10a   \n",
       "820627398            e3bc6a4b-3477-41bc-966b-ef8e3d35b6cd   \n",
       "767197943            7a1d6674-df2c-53e7-ad85-9065a520634d   \n",
       "768638583            cf1769ef-623e-4bb9-a698-a82986e91727   \n",
       "768879508            3e2e0696-70f9-5839-888a-a90668e66a4d   \n",
       "...                                                   ...   \n",
       "1015018367           efd6b749-cb0b-4e34-bf07-92ac2302bf2d   \n",
       "1015171799           06cd41ab-2111-45b3-bcc2-0eb508d1e45f   \n",
       "1015019342           538ba43c-57b9-44be-859b-8c1f472ded66   \n",
       "1015172275           e30529f8-7c89-41f9-9bc1-bb1cccd9c85c   \n",
       "1015172277           1877670f-42ae-42de-926b-633aa57e060f   \n",
       "\n",
       "                                          session_type  \n",
       "behavior_session_id                                     \n",
       "846710859                     OPHYS_5_images_B_passive  \n",
       "820627398                             OPHYS_1_images_A  \n",
       "767197943                 0_gratings_autorewards_15min  \n",
       "768638583                             5_images_a_ophys  \n",
       "768879508                                   1_gratings  \n",
       "...                                                ...  \n",
       "1015018367                         TRAINING_1_gratings  \n",
       "1015171799           TRAINING_5_images_G_handoff_ready  \n",
       "1015019342                TRAINING_5_images_G_epilogue  \n",
       "1015172275                         TRAINING_1_gratings  \n",
       "1015172277           TRAINING_5_images_G_handoff_ready  \n",
       "\n",
       "[10001 rows x 10 columns]"
      ]
     },
     "execution_count": 6,
     "metadata": {},
     "output_type": "execute_result"
    }
   ],
   "source": [
    "cache = sdk_validation.get_cache()\n",
    "behavior_session_table = cache.get_behavior_session_table()\n",
    "behavior_session_table"
   ]
  },
  {
   "cell_type": "code",
   "execution_count": 15,
   "metadata": {},
   "outputs": [
    {
     "data": {
      "text/plain": [
       "array([ 846710859,  820627398,  767197943, ..., 1015019342, 1015172275,\n",
       "       1015172277])"
      ]
     },
     "execution_count": 15,
     "metadata": {},
     "output_type": "execute_result"
    }
   ],
   "source": [
    "behavior_session_table.index.values"
   ]
  },
  {
   "cell_type": "code",
   "execution_count": 32,
   "metadata": {},
   "outputs": [
    {
     "data": {
      "text/plain": [
       "ophys_session_id                                                  NaN\n",
       "behavior_training_id                                              NaN\n",
       "equipment_name                                                  BEH.F\n",
       "donor_id                                                    993546182\n",
       "full_genotype           Sst-IRES-Cre/wt;Ai148(TIT2L-GC6f-ICL-tTA2)/wt\n",
       "reporter_line                            [Ai148(TIT2L-GC6f-ICL-tTA2)]\n",
       "driver_line                                            [Sst-IRES-Cre]\n",
       "sex                                                                 M\n",
       "foraging_id                      1877670f-42ae-42de-926b-633aa57e060f\n",
       "session_type                        TRAINING_5_images_G_handoff_ready\n",
       "Name: 1015172277, dtype: object"
      ]
     },
     "execution_count": 32,
     "metadata": {},
     "output_type": "execute_result"
    }
   ],
   "source": [
    "behavior_session_table.loc[1015172277]"
   ]
  },
  {
   "cell_type": "code",
   "execution_count": 28,
   "metadata": {},
   "outputs": [],
   "source": [
    "def run_validation(behavior_session_id):\n",
    "    print('running behavior session {}'.format(behavior_session_id))\n",
    "    ValidateSDK(behavior_session_id)\n",
    "    print('done with behavior session {}'.format(behavior_session_id))"
   ]
  },
  {
   "cell_type": "code",
   "execution_count": 29,
   "metadata": {},
   "outputs": [
    {
     "name": "stdout",
     "output_type": "stream",
     "text": [
      "running behavior session 846710859\n",
      "running behavior session 791769447\n",
      "running behavior session 796820587\n",
      "running behavior session 768893600\n",
      "running behavior session 791862976\n",
      "running behavior session 813041953\n",
      "running behavior session 814731438\n",
      "running behavior session 816394256\n",
      "running behavior session 821770768\n",
      "running behavior session 822919982\n",
      "running behavior session 834093014\n",
      "running behavior session 826841469\n",
      "running behavior session 830592943\n",
      "running behavior session 828829967\n",
      "running behavior session 841426857\n",
      "running behavior session 841855693\n",
      "running behavior session 844197868\n",
      "running behavior session 845572044\n",
      "running behavior session 851541347\n",
      "running behavior session 852451561\n",
      "running behavior session 854201675\n",
      "running behavior session 856719608\n",
      "running behavior session 864665199\n",
      "running behavior session 860247669\n",
      "running behavior session 859788451\n",
      "running behavior session 863368485\n",
      "running behavior session 866906682\n",
      "running behavior session 865288326\n",
      "running behavior session 867666649\n",
      "running behavior session 865463863\n",
      "running behavior session 873810756\n",
      "running behavior session 876660021\n",
      "running behavior session 873729031\n",
      "running behavior session 876448498\n",
      "running behavior session 872646068\n",
      "running behavior session 877938203\n",
      "running behavior session 878251948\n",
      "running behavior session 879854787\n",
      "running behavior session 880784785\n",
      "running behavior session 890025551\n",
      "running behavior session 882393197\n",
      "running behavior session 882779440\n",
      "running behavior session 883857891\n",
      "running behavior session 885598412\n",
      "running behavior session 884820140\n",
      "running behavior session 892400279\n",
      "running behavior session 893428461\n",
      "running behavior session 894452869\n",
      "running behavior session 895947603\n",
      "running behavior session 885795585\n",
      "running behavior session 898880206\n",
      "running behavior session 901076145\n",
      "running behavior session 906623513\n",
      "running behavior session 908564906\n",
      "running behavior session 911342254\n",
      "running behavior session 911366190\n",
      "running behavior session 911030050\n",
      "running behavior session 913677694\n",
      "running behavior session 914728679\n",
      "running behavior session 915675633\n",
      "running behavior session 920798071\n",
      "running behavior session 919073273\n",
      "running behavior session 922540154\n",
      "running behavior session 919866089\n",
      "running behavior session 924575646\n",
      "running behavior session 926434150\n",
      "running behavior session 932097687\n",
      "running behavior session 927652110\n",
      "running behavior session 934040573\n",
      "running behavior session 937363110\n",
      "running behavior session 937442661\n",
      "running behavior session 940001622\n",
      "running behavior session 942182170\n",
      "running behavior session 945029866\n",
      "running behavior session 952566307\n",
      "running behavior session 945204293\n",
      "running behavior session 976853684\n",
      "running behavior session 952554548\n",
      "running behavior session 956433359\n",
      "running behavior session 957145028\n",
      "running behavior session 961107536\n",
      "running behavior session 972664778\n",
      "running behavior session 966467436\n",
      "running behavior session 973677642\n",
      "running behavior session 972773993\n",
      "running behavior session 968498578\n",
      "running behavior session 973688352\n",
      "running behavior session 970942784\n",
      "running behavior session 974330789\n",
      "running behavior session 972543150\n",
      "running behavior session 976173608\n",
      "running behavior session 978554421\n",
      "running behavior session 978678310\n",
      "running behavior session 978726629\n",
      "running behavior session 988866696\n",
      "running behavior session 982009411\n",
      "running behavior session 987017124\n",
      "running behavior session 990596340\n",
      "running behavior session 991937787\n",
      "running behavior session 991759180\n",
      "running behavior session 992258884\n",
      "running behavior session 994882261\n",
      "running behavior session 995321753\n",
      "running behavior session 995394555\n",
      "running behavior session 1000449335\n",
      "running behavior session 999058000\n",
      "running behavior session 1001844784\n",
      "running behavior session 1000803367\n",
      "running behavior session 1003297146\n",
      "running behavior session 1003599450\n",
      "running behavior session 1004027115\n",
      "running behavior session 1005044740\n",
      "running behavior session 1005643080\n",
      "running behavior session 1005443689\n",
      "running behavior session 1007753854\n",
      "running behavior session 1007331224\n",
      "running behavior session 1009002694\n",
      "running behavior session 1009847494\n",
      "running behavior session 1011702030\n",
      "running behavior session 1010662691\n",
      "running behavior session 1011643476\n",
      "running behavior session 1012384297\n",
      "running behavior session 1012835176\n",
      "running behavior session 1012840924\n",
      "running behavior session 1012846685\n",
      "running behavior session 1013996837\n",
      "running behavior session 1015587027\n"
     ]
    },
    {
     "name": "stderr",
     "output_type": "stream",
     "text": [
      "/home/dougo/Code/AllenSDK/allensdk/brain_observatory/sync_dataset.py:109: UserWarning: The loaded sync file contains the following deprecated line label keys: {'cam1_exposure', 'cam2_exposure'}. Consider updating the sync file line labels.\n",
      "  self._check_line_labels()\n",
      "/home/dougo/Code/AllenSDK/allensdk/brain_observatory/sync_dataset.py:109: UserWarning: The loaded sync file contains the following deprecated line label keys: {'cam1_exposure', 'cam2_exposure'}. Consider updating the sync file line labels.\n",
      "  self._check_line_labels()\n",
      "/home/dougo/Code/AllenSDK/allensdk/brain_observatory/sync_dataset.py:109: UserWarning: The loaded sync file contains the following deprecated line label keys: {'cam1_exposure', 'cam2_exposure'}. Consider updating the sync file line labels.\n",
      "  self._check_line_labels()\n"
     ]
    },
    {
     "name": "stdout",
     "output_type": "stream",
     "text": [
      "done with behavior session 1005044740\n",
      "running behavior session 1005257622\n"
     ]
    },
    {
     "name": "stderr",
     "output_type": "stream",
     "text": [
      "/home/dougo/Code/AllenSDK/allensdk/brain_observatory/sync_dataset.py:109: UserWarning: The loaded sync file contains the following deprecated line label keys: {'cam1_exposure', 'cam2_exposure'}. Consider updating the sync file line labels.\n",
      "  self._check_line_labels()\n",
      "/home/dougo/Code/AllenSDK/allensdk/brain_observatory/sync_dataset.py:109: UserWarning: The loaded sync file contains the following deprecated line label keys: {'cam1_exposure', 'cam2_exposure'}. Consider updating the sync file line labels.\n",
      "  self._check_line_labels()\n",
      "/home/dougo/Code/AllenSDK/allensdk/brain_observatory/sync_dataset.py:109: UserWarning: The loaded sync file contains the following deprecated line label keys: {'cam1_exposure', 'cam2_exposure'}. Consider updating the sync file line labels.\n",
      "  self._check_line_labels()\n",
      "/home/dougo/Code/AllenSDK/allensdk/brain_observatory/sync_dataset.py:109: UserWarning: The loaded sync file contains the following deprecated line label keys: {'cam1_exposure', 'cam2_exposure'}. Consider updating the sync file line labels.\n",
      "  self._check_line_labels()\n",
      "/home/dougo/Code/AllenSDK/allensdk/brain_observatory/sync_dataset.py:109: UserWarning: The loaded sync file contains the following deprecated line label keys: {'cam1_exposure', 'cam2_exposure'}. Consider updating the sync file line labels.\n",
      "  self._check_line_labels()\n",
      "/home/dougo/Code/AllenSDK/allensdk/brain_observatory/sync_dataset.py:109: UserWarning: The loaded sync file contains the following deprecated line label keys: {'cam1_exposure', 'cam2_exposure'}. Consider updating the sync file line labels.\n",
      "  self._check_line_labels()\n"
     ]
    },
    {
     "name": "stdout",
     "output_type": "stream",
     "text": [
      "done with behavior session 932097687\n",
      "running behavior session 931955527\n",
      "done with behavior session 1007331224\n",
      "running behavior session 1007849594\n",
      "done with behavior session 1005443689\n",
      "running behavior session 1005680420\n"
     ]
    },
    {
     "name": "stderr",
     "output_type": "stream",
     "text": [
      "/home/dougo/Code/AllenSDK/allensdk/brain_observatory/sync_dataset.py:109: UserWarning: The loaded sync file contains the following deprecated line label keys: {'cam1_exposure', 'cam2_exposure'}. Consider updating the sync file line labels.\n",
      "  self._check_line_labels()\n",
      "/home/dougo/Code/AllenSDK/allensdk/brain_observatory/sync_dataset.py:109: UserWarning: The loaded sync file contains the following deprecated line label keys: {'cam1_exposure', 'cam2_exposure'}. Consider updating the sync file line labels.\n",
      "  self._check_line_labels()\n",
      "/home/dougo/Code/AllenSDK/allensdk/brain_observatory/sync_dataset.py:109: UserWarning: The loaded sync file contains the following deprecated line label keys: {'cam1_exposure', 'cam2_exposure'}. Consider updating the sync file line labels.\n",
      "  self._check_line_labels()\n",
      "/home/dougo/Code/AllenSDK/allensdk/brain_observatory/sync_dataset.py:109: UserWarning: The loaded sync file contains the following deprecated line label keys: {'cam1_exposure', 'cam2_exposure'}. Consider updating the sync file line labels.\n",
      "  self._check_line_labels()\n",
      "/home/dougo/Code/AllenSDK/allensdk/brain_observatory/sync_dataset.py:109: UserWarning: The loaded sync file contains the following deprecated line label keys: {'cam1_exposure', 'cam2_exposure'}. Consider updating the sync file line labels.\n",
      "  self._check_line_labels()\n",
      "/home/dougo/Code/AllenSDK/allensdk/brain_observatory/sync_dataset.py:109: UserWarning: The loaded sync file contains the following deprecated line label keys: {'cam1_exposure', 'cam2_exposure'}. Consider updating the sync file line labels.\n",
      "  self._check_line_labels()\n",
      "/home/dougo/Code/AllenSDK/allensdk/brain_observatory/sync_dataset.py:109: UserWarning: The loaded sync file contains the following deprecated line label keys: {'cam1_exposure', 'cam2_exposure'}. Consider updating the sync file line labels.\n",
      "  self._check_line_labels()\n",
      "/home/dougo/Code/AllenSDK/allensdk/brain_observatory/sync_dataset.py:109: UserWarning: The loaded sync file contains the following deprecated line label keys: {'cam1_exposure', 'cam2_exposure'}. Consider updating the sync file line labels.\n",
      "  self._check_line_labels()\n",
      "/home/dougo/Code/AllenSDK/allensdk/brain_observatory/sync_dataset.py:109: UserWarning: The loaded sync file contains the following deprecated line label keys: {'cam1_exposure', 'cam2_exposure'}. Consider updating the sync file line labels.\n",
      "  self._check_line_labels()\n",
      "/home/dougo/Code/AllenSDK/allensdk/brain_observatory/sync_dataset.py:109: UserWarning: The loaded sync file contains the following deprecated line label keys: {'cam1_exposure', 'cam2_exposure'}. Consider updating the sync file line labels.\n",
      "  self._check_line_labels()\n",
      "/home/dougo/Code/AllenSDK/allensdk/brain_observatory/sync_dataset.py:109: UserWarning: The loaded sync file contains the following deprecated line label keys: {'cam1_exposure', 'cam2_exposure'}. Consider updating the sync file line labels.\n",
      "  self._check_line_labels()\n",
      "/home/dougo/Code/AllenSDK/allensdk/brain_observatory/sync_dataset.py:109: UserWarning: The loaded sync file contains the following deprecated line label keys: {'cam1_exposure', 'cam2_exposure'}. Consider updating the sync file line labels.\n",
      "  self._check_line_labels()\n",
      "/home/dougo/Code/AllenSDK/allensdk/brain_observatory/sync_dataset.py:109: UserWarning: The loaded sync file contains the following deprecated line label keys: {'cam1_exposure', 'cam2_exposure'}. Consider updating the sync file line labels.\n",
      "  self._check_line_labels()\n",
      "/home/dougo/Code/AllenSDK/allensdk/brain_observatory/sync_dataset.py:109: UserWarning: The loaded sync file contains the following deprecated line label keys: {'cam1_exposure', 'cam2_exposure'}. Consider updating the sync file line labels.\n",
      "  self._check_line_labels()\n",
      "/home/dougo/Code/AllenSDK/allensdk/brain_observatory/sync_dataset.py:109: UserWarning: The loaded sync file contains the following deprecated line label keys: {'cam1_exposure', 'cam2_exposure'}. Consider updating the sync file line labels.\n",
      "  self._check_line_labels()\n",
      "/home/dougo/Code/AllenSDK/allensdk/brain_observatory/sync_dataset.py:109: UserWarning: The loaded sync file contains the following deprecated line label keys: {'cam1_exposure', 'cam2_exposure'}. Consider updating the sync file line labels.\n",
      "  self._check_line_labels()\n",
      "/home/dougo/Code/AllenSDK/allensdk/brain_observatory/sync_dataset.py:109: UserWarning: The loaded sync file contains the following deprecated line label keys: {'cam1_exposure', 'cam2_exposure'}. Consider updating the sync file line labels.\n",
      "  self._check_line_labels()\n",
      "/home/dougo/Code/AllenSDK/allensdk/brain_observatory/sync_dataset.py:109: UserWarning: The loaded sync file contains the following deprecated line label keys: {'cam1_exposure', 'cam2_exposure'}. Consider updating the sync file line labels.\n",
      "  self._check_line_labels()\n",
      "/home/dougo/Code/AllenSDK/allensdk/brain_observatory/sync_dataset.py:109: UserWarning: The loaded sync file contains the following deprecated line label keys: {'cam1_exposure', 'cam2_exposure'}. Consider updating the sync file line labels.\n",
      "  self._check_line_labels()\n",
      "/home/dougo/Code/AllenSDK/allensdk/brain_observatory/sync_dataset.py:109: UserWarning: The loaded sync file contains the following deprecated line label keys: {'cam1_exposure', 'cam2_exposure'}. Consider updating the sync file line labels.\n",
      "  self._check_line_labels()\n",
      "/home/dougo/Code/AllenSDK/allensdk/brain_observatory/sync_dataset.py:109: UserWarning: The loaded sync file contains the following deprecated line label keys: {'cam1_exposure', 'cam2_exposure'}. Consider updating the sync file line labels.\n",
      "  self._check_line_labels()\n",
      "/home/dougo/Code/AllenSDK/allensdk/brain_observatory/sync_dataset.py:109: UserWarning: The loaded sync file contains the following deprecated line label keys: {'cam1_exposure', 'cam2_exposure'}. Consider updating the sync file line labels.\n",
      "  self._check_line_labels()\n",
      "/home/dougo/Code/AllenSDK/allensdk/brain_observatory/sync_dataset.py:109: UserWarning: The loaded sync file contains the following deprecated line label keys: {'cam1_exposure', 'cam2_exposure'}. Consider updating the sync file line labels.\n",
      "  self._check_line_labels()\n",
      "/home/dougo/Code/AllenSDK/allensdk/brain_observatory/sync_dataset.py:109: UserWarning: The loaded sync file contains the following deprecated line label keys: {'cam1_exposure', 'cam2_exposure'}. Consider updating the sync file line labels.\n",
      "  self._check_line_labels()\n",
      "/home/dougo/Code/AllenSDK/allensdk/brain_observatory/sync_dataset.py:109: UserWarning: The loaded sync file contains the following deprecated line label keys: {'cam1_exposure', 'cam2_exposure'}. Consider updating the sync file line labels.\n",
      "  self._check_line_labels()\n",
      "/home/dougo/Code/AllenSDK/allensdk/brain_observatory/sync_dataset.py:109: UserWarning: The loaded sync file contains the following deprecated line label keys: {'cam1_exposure', 'cam2_exposure'}. Consider updating the sync file line labels.\n",
      "  self._check_line_labels()\n",
      "/home/dougo/Code/AllenSDK/allensdk/brain_observatory/sync_dataset.py:109: UserWarning: The loaded sync file contains the following deprecated line label keys: {'cam1_exposure', 'cam2_exposure'}. Consider updating the sync file line labels.\n",
      "  self._check_line_labels()\n",
      "/home/dougo/Code/AllenSDK/allensdk/brain_observatory/sync_dataset.py:109: UserWarning: The loaded sync file contains the following deprecated line label keys: {'cam1_exposure', 'cam2_exposure'}. Consider updating the sync file line labels.\n",
      "  self._check_line_labels()\n",
      "/home/dougo/Code/AllenSDK/allensdk/brain_observatory/sync_dataset.py:109: UserWarning: The loaded sync file contains the following deprecated line label keys: {'cam1_exposure', 'cam2_exposure'}. Consider updating the sync file line labels.\n",
      "  self._check_line_labels()\n",
      "/home/dougo/Code/AllenSDK/allensdk/brain_observatory/sync_dataset.py:109: UserWarning: The loaded sync file contains the following deprecated line label keys: {'cam1_exposure', 'cam2_exposure'}. Consider updating the sync file line labels.\n",
      "  self._check_line_labels()\n",
      "/home/dougo/Code/AllenSDK/allensdk/brain_observatory/sync_dataset.py:109: UserWarning: The loaded sync file contains the following deprecated line label keys: {'cam1_exposure', 'cam2_exposure'}. Consider updating the sync file line labels.\n",
      "  self._check_line_labels()\n"
     ]
    },
    {
     "name": "stderr",
     "output_type": "stream",
     "text": [
      "/home/dougo/Code/AllenSDK/allensdk/brain_observatory/sync_dataset.py:109: UserWarning: The loaded sync file contains the following deprecated line label keys: {'cam1_exposure', 'cam2_exposure'}. Consider updating the sync file line labels.\n",
      "  self._check_line_labels()\n",
      "/home/dougo/Code/AllenSDK/allensdk/brain_observatory/sync_dataset.py:109: UserWarning: The loaded sync file contains the following deprecated line label keys: {'cam1_exposure', 'cam2_exposure'}. Consider updating the sync file line labels.\n",
      "  self._check_line_labels()\n",
      "/home/dougo/Code/AllenSDK/allensdk/brain_observatory/sync_dataset.py:109: UserWarning: The loaded sync file contains the following deprecated line label keys: {'cam1_exposure', 'cam2_exposure'}. Consider updating the sync file line labels.\n",
      "  self._check_line_labels()\n",
      "/home/dougo/Code/AllenSDK/allensdk/brain_observatory/sync_dataset.py:109: UserWarning: The loaded sync file contains the following deprecated line label keys: {'cam1_exposure', 'cam2_exposure'}. Consider updating the sync file line labels.\n",
      "  self._check_line_labels()\n",
      "/home/dougo/Code/AllenSDK/allensdk/brain_observatory/sync_dataset.py:109: UserWarning: The loaded sync file contains the following deprecated line label keys: {'cam1_exposure', 'cam2_exposure'}. Consider updating the sync file line labels.\n",
      "  self._check_line_labels()\n",
      "/home/dougo/Code/AllenSDK/allensdk/brain_observatory/sync_dataset.py:109: UserWarning: The loaded sync file contains the following deprecated line label keys: {'cam1_exposure', 'cam2_exposure'}. Consider updating the sync file line labels.\n",
      "  self._check_line_labels()\n"
     ]
    },
    {
     "name": "stdout",
     "output_type": "stream",
     "text": [
      "done with behavior session 1011643476\n",
      "running behavior session 1011643473\n"
     ]
    },
    {
     "name": "stderr",
     "output_type": "stream",
     "text": [
      "/home/dougo/Code/AllenSDK/allensdk/brain_observatory/sync_dataset.py:109: UserWarning: The loaded sync file contains the following deprecated line label keys: {'cam1_exposure', 'cam2_exposure'}. Consider updating the sync file line labels.\n",
      "  self._check_line_labels()\n"
     ]
    },
    {
     "name": "stdout",
     "output_type": "stream",
     "text": [
      "done with behavior session 1003297146\n",
      "running behavior session 1004351910\n"
     ]
    },
    {
     "name": "stderr",
     "output_type": "stream",
     "text": [
      "/home/dougo/Code/AllenSDK/allensdk/brain_observatory/sync_dataset.py:109: UserWarning: The loaded sync file contains the following deprecated line label keys: {'cam1_exposure', 'cam2_exposure'}. Consider updating the sync file line labels.\n",
      "  self._check_line_labels()\n",
      "/home/dougo/Code/AllenSDK/allensdk/brain_observatory/sync_dataset.py:109: UserWarning: The loaded sync file contains the following deprecated line label keys: {'cam1_exposure', 'cam2_exposure'}. Consider updating the sync file line labels.\n",
      "  self._check_line_labels()\n",
      "/home/dougo/Code/AllenSDK/allensdk/brain_observatory/sync_dataset.py:109: UserWarning: The loaded sync file contains the following deprecated line label keys: {'cam1_exposure', 'cam2_exposure'}. Consider updating the sync file line labels.\n",
      "  self._check_line_labels()\n",
      "/home/dougo/Code/AllenSDK/allensdk/brain_observatory/sync_dataset.py:109: UserWarning: The loaded sync file contains the following deprecated line label keys: {'cam1_exposure', 'cam2_exposure'}. Consider updating the sync file line labels.\n",
      "  self._check_line_labels()\n",
      "/home/dougo/Code/AllenSDK/allensdk/brain_observatory/sync_dataset.py:109: UserWarning: The loaded sync file contains the following deprecated line label keys: {'cam1_exposure', 'cam2_exposure'}. Consider updating the sync file line labels.\n",
      "  self._check_line_labels()\n",
      "/home/dougo/Code/AllenSDK/allensdk/brain_observatory/sync_dataset.py:109: UserWarning: The loaded sync file contains the following deprecated line label keys: {'cam1_exposure', 'cam2_exposure'}. Consider updating the sync file line labels.\n",
      "  self._check_line_labels()\n",
      "/home/dougo/Code/AllenSDK/allensdk/brain_observatory/sync_dataset.py:109: UserWarning: The loaded sync file contains the following deprecated line label keys: {'cam1_exposure', 'cam2_exposure'}. Consider updating the sync file line labels.\n",
      "  self._check_line_labels()\n",
      "/home/dougo/Code/AllenSDK/allensdk/brain_observatory/sync_dataset.py:109: UserWarning: The loaded sync file contains the following deprecated line label keys: {'cam1_exposure', 'cam2_exposure'}. Consider updating the sync file line labels.\n",
      "  self._check_line_labels()\n",
      "/home/dougo/Code/AllenSDK/allensdk/brain_observatory/sync_dataset.py:109: UserWarning: The loaded sync file contains the following deprecated line label keys: {'cam1_exposure', 'cam2_exposure'}. Consider updating the sync file line labels.\n",
      "  self._check_line_labels()\n",
      "/home/dougo/Code/AllenSDK/allensdk/brain_observatory/sync_dataset.py:109: UserWarning: The loaded sync file contains the following deprecated line label keys: {'cam1_exposure', 'cam2_exposure'}. Consider updating the sync file line labels.\n",
      "  self._check_line_labels()\n",
      "/home/dougo/Code/AllenSDK/allensdk/brain_observatory/sync_dataset.py:109: UserWarning: The loaded sync file contains the following deprecated line label keys: {'cam1_exposure', 'cam2_exposure'}. Consider updating the sync file line labels.\n",
      "  self._check_line_labels()\n",
      "/home/dougo/Code/AllenSDK/allensdk/brain_observatory/sync_dataset.py:109: UserWarning: The loaded sync file contains the following deprecated line label keys: {'cam1_exposure', 'cam2_exposure'}. Consider updating the sync file line labels.\n",
      "  self._check_line_labels()\n",
      "/home/dougo/Code/AllenSDK/allensdk/brain_observatory/sync_dataset.py:109: UserWarning: The loaded sync file contains the following deprecated line label keys: {'cam1_exposure', 'cam2_exposure'}. Consider updating the sync file line labels.\n",
      "  self._check_line_labels()\n",
      "/home/dougo/Code/AllenSDK/allensdk/brain_observatory/sync_dataset.py:109: UserWarning: The loaded sync file contains the following deprecated line label keys: {'cam1_exposure', 'cam2_exposure'}. Consider updating the sync file line labels.\n",
      "  self._check_line_labels()\n",
      "/home/dougo/Code/AllenSDK/allensdk/brain_observatory/sync_dataset.py:109: UserWarning: The loaded sync file contains the following deprecated line label keys: {'cam1_exposure', 'cam2_exposure'}. Consider updating the sync file line labels.\n",
      "  self._check_line_labels()\n",
      "/home/dougo/Code/AllenSDK/allensdk/brain_observatory/sync_dataset.py:109: UserWarning: The loaded sync file contains the following deprecated line label keys: {'cam1_exposure', 'cam2_exposure'}. Consider updating the sync file line labels.\n",
      "  self._check_line_labels()\n",
      "/home/dougo/Code/AllenSDK/allensdk/brain_observatory/sync_dataset.py:109: UserWarning: The loaded sync file contains the following deprecated line label keys: {'cam1_exposure', 'cam2_exposure'}. Consider updating the sync file line labels.\n",
      "  self._check_line_labels()\n",
      "/home/dougo/Code/AllenSDK/allensdk/brain_observatory/sync_dataset.py:109: UserWarning: The loaded sync file contains the following deprecated line label keys: {'cam1_exposure', 'cam2_exposure'}. Consider updating the sync file line labels.\n",
      "  self._check_line_labels()\n",
      "/home/dougo/Code/AllenSDK/allensdk/brain_observatory/sync_dataset.py:109: UserWarning: The loaded sync file contains the following deprecated line label keys: {'cam1_exposure', 'cam2_exposure'}. Consider updating the sync file line labels.\n",
      "  self._check_line_labels()\n"
     ]
    },
    {
     "name": "stdout",
     "output_type": "stream",
     "text": [
      "done with behavior session 934040573\n",
      "running behavior session 933869031\n"
     ]
    },
    {
     "name": "stderr",
     "output_type": "stream",
     "text": [
      "/home/dougo/Code/AllenSDK/allensdk/brain_observatory/sync_dataset.py:109: UserWarning: The loaded sync file contains the following deprecated line label keys: {'cam1_exposure', 'cam2_exposure'}. Consider updating the sync file line labels.\n",
      "  self._check_line_labels()\n",
      "/home/dougo/Code/AllenSDK/allensdk/brain_observatory/sync_dataset.py:109: UserWarning: The loaded sync file contains the following deprecated line label keys: {'cam1_exposure', 'cam2_exposure'}. Consider updating the sync file line labels.\n",
      "  self._check_line_labels()\n",
      "/home/dougo/Code/AllenSDK/allensdk/brain_observatory/sync_dataset.py:109: UserWarning: The loaded sync file contains the following deprecated line label keys: {'cam1_exposure', 'cam2_exposure'}. Consider updating the sync file line labels.\n",
      "  self._check_line_labels()\n"
     ]
    },
    {
     "name": "stdout",
     "output_type": "stream",
     "text": [
      "done with behavior session 822919982\n",
      "running behavior session 823513125\n",
      "done with behavior session 931955527\n",
      "running behavior session 932932402\n",
      "done with behavior session 823513125\n",
      "running behavior session 823513134\n",
      "done with behavior session 932932402\n",
      "running behavior session 932932421\n"
     ]
    },
    {
     "ename": "EmptyDataError",
     "evalue": "No columns to parse from file",
     "output_type": "error",
     "traceback": [
      "\u001b[0;31m---------------------------------------------------------------------------\u001b[0m",
      "\u001b[0;31mRemoteTraceback\u001b[0m                           Traceback (most recent call last)",
      "\u001b[0;31mRemoteTraceback\u001b[0m: \n\"\"\"\nTraceback (most recent call last):\n  File \"/home/dougo/.conda/envs/visual_behavior/lib/python3.7/multiprocessing/pool.py\", line 121, in worker\n    result = (True, func(*args, **kwds))\n  File \"/home/dougo/.conda/envs/visual_behavior/lib/python3.7/multiprocessing/pool.py\", line 44, in mapstar\n    return list(map(*args))\n  File \"<ipython-input-28-89bf6660b6cc>\", line 3, in run_validation\n    ValidateSDK(behavior_session_id)\n  File \"/home/dougo/Code/visual_behavior_analysis/visual_behavior/validation/sdk.py\", line 96, in __init__\n    self.session = get_sdk_session(behavior_session_id, self.is_ophys)\n  File \"/home/dougo/Code/visual_behavior_analysis/visual_behavior/validation/sdk.py\", line 34, in get_sdk_session\n    return cache.get_behavior_session_data(behavior_session_id)\n  File \"/home/dougo/Code/AllenSDK/allensdk/brain_observatory/behavior/behavior_project_cache.py\", line 364, in get_behavior_session_data\n    read=fetch_session\n  File \"/home/dougo/Code/AllenSDK/allensdk/api/caching_utilities.py\", line 100, in call_caching\n    write(data)\n  File \"/home/dougo/Code/AllenSDK/allensdk/brain_observatory/behavior/behavior_project_cache.py\", line 386, in _write_log\n    record = (pd.read_csv(path, index_col=key_name)\n  File \"/home/dougo/.conda/envs/visual_behavior/lib/python3.7/site-packages/pandas/io/parsers.py\", line 676, in parser_f\n    return _read(filepath_or_buffer, kwds)\n  File \"/home/dougo/.conda/envs/visual_behavior/lib/python3.7/site-packages/pandas/io/parsers.py\", line 448, in _read\n    parser = TextFileReader(fp_or_buf, **kwds)\n  File \"/home/dougo/.conda/envs/visual_behavior/lib/python3.7/site-packages/pandas/io/parsers.py\", line 880, in __init__\n    self._make_engine(self.engine)\n  File \"/home/dougo/.conda/envs/visual_behavior/lib/python3.7/site-packages/pandas/io/parsers.py\", line 1114, in _make_engine\n    self._engine = CParserWrapper(self.f, **self.options)\n  File \"/home/dougo/.conda/envs/visual_behavior/lib/python3.7/site-packages/pandas/io/parsers.py\", line 1891, in __init__\n    self._reader = parsers.TextReader(src, **kwds)\n  File \"pandas/_libs/parsers.pyx\", line 532, in pandas._libs.parsers.TextReader.__cinit__\npandas.errors.EmptyDataError: No columns to parse from file\n\"\"\"",
      "\nThe above exception was the direct cause of the following exception:\n",
      "\u001b[0;31mEmptyDataError\u001b[0m                            Traceback (most recent call last)",
      "\u001b[0;32m<ipython-input-29-3f228230e4ce>\u001b[0m in \u001b[0;36m<module>\u001b[0;34m\u001b[0m\n\u001b[1;32m      1\u001b[0m \u001b[0;32mwith\u001b[0m \u001b[0mPool\u001b[0m\u001b[0;34m(\u001b[0m\u001b[0;36m32\u001b[0m\u001b[0;34m)\u001b[0m \u001b[0;32mas\u001b[0m \u001b[0mpool\u001b[0m\u001b[0;34m:\u001b[0m\u001b[0;34m\u001b[0m\u001b[0;34m\u001b[0m\u001b[0m\n\u001b[0;32m----> 2\u001b[0;31m     \u001b[0mpool\u001b[0m\u001b[0;34m.\u001b[0m\u001b[0mmap\u001b[0m\u001b[0;34m(\u001b[0m\u001b[0mrun_validation\u001b[0m\u001b[0;34m,\u001b[0m \u001b[0mbehavior_session_table\u001b[0m\u001b[0;34m.\u001b[0m\u001b[0mindex\u001b[0m\u001b[0;34m.\u001b[0m\u001b[0mvalues\u001b[0m\u001b[0;34m)\u001b[0m\u001b[0;34m\u001b[0m\u001b[0;34m\u001b[0m\u001b[0m\n\u001b[0m",
      "\u001b[0;32m~/.conda/envs/visual_behavior/lib/python3.7/multiprocessing/pool.py\u001b[0m in \u001b[0;36mmap\u001b[0;34m(self, func, iterable, chunksize)\u001b[0m\n\u001b[1;32m    266\u001b[0m         \u001b[0;32min\u001b[0m \u001b[0ma\u001b[0m \u001b[0mlist\u001b[0m \u001b[0mthat\u001b[0m \u001b[0;32mis\u001b[0m \u001b[0mreturned\u001b[0m\u001b[0;34m.\u001b[0m\u001b[0;34m\u001b[0m\u001b[0;34m\u001b[0m\u001b[0m\n\u001b[1;32m    267\u001b[0m         '''\n\u001b[0;32m--> 268\u001b[0;31m         \u001b[0;32mreturn\u001b[0m \u001b[0mself\u001b[0m\u001b[0;34m.\u001b[0m\u001b[0m_map_async\u001b[0m\u001b[0;34m(\u001b[0m\u001b[0mfunc\u001b[0m\u001b[0;34m,\u001b[0m \u001b[0miterable\u001b[0m\u001b[0;34m,\u001b[0m \u001b[0mmapstar\u001b[0m\u001b[0;34m,\u001b[0m \u001b[0mchunksize\u001b[0m\u001b[0;34m)\u001b[0m\u001b[0;34m.\u001b[0m\u001b[0mget\u001b[0m\u001b[0;34m(\u001b[0m\u001b[0;34m)\u001b[0m\u001b[0;34m\u001b[0m\u001b[0;34m\u001b[0m\u001b[0m\n\u001b[0m\u001b[1;32m    269\u001b[0m \u001b[0;34m\u001b[0m\u001b[0m\n\u001b[1;32m    270\u001b[0m     \u001b[0;32mdef\u001b[0m \u001b[0mstarmap\u001b[0m\u001b[0;34m(\u001b[0m\u001b[0mself\u001b[0m\u001b[0;34m,\u001b[0m \u001b[0mfunc\u001b[0m\u001b[0;34m,\u001b[0m \u001b[0miterable\u001b[0m\u001b[0;34m,\u001b[0m \u001b[0mchunksize\u001b[0m\u001b[0;34m=\u001b[0m\u001b[0;32mNone\u001b[0m\u001b[0;34m)\u001b[0m\u001b[0;34m:\u001b[0m\u001b[0;34m\u001b[0m\u001b[0;34m\u001b[0m\u001b[0m\n",
      "\u001b[0;32m~/.conda/envs/visual_behavior/lib/python3.7/multiprocessing/pool.py\u001b[0m in \u001b[0;36mget\u001b[0;34m(self, timeout)\u001b[0m\n\u001b[1;32m    655\u001b[0m             \u001b[0;32mreturn\u001b[0m \u001b[0mself\u001b[0m\u001b[0;34m.\u001b[0m\u001b[0m_value\u001b[0m\u001b[0;34m\u001b[0m\u001b[0;34m\u001b[0m\u001b[0m\n\u001b[1;32m    656\u001b[0m         \u001b[0;32melse\u001b[0m\u001b[0;34m:\u001b[0m\u001b[0;34m\u001b[0m\u001b[0;34m\u001b[0m\u001b[0m\n\u001b[0;32m--> 657\u001b[0;31m             \u001b[0;32mraise\u001b[0m \u001b[0mself\u001b[0m\u001b[0;34m.\u001b[0m\u001b[0m_value\u001b[0m\u001b[0;34m\u001b[0m\u001b[0;34m\u001b[0m\u001b[0m\n\u001b[0m\u001b[1;32m    658\u001b[0m \u001b[0;34m\u001b[0m\u001b[0m\n\u001b[1;32m    659\u001b[0m     \u001b[0;32mdef\u001b[0m \u001b[0m_set\u001b[0m\u001b[0;34m(\u001b[0m\u001b[0mself\u001b[0m\u001b[0;34m,\u001b[0m \u001b[0mi\u001b[0m\u001b[0;34m,\u001b[0m \u001b[0mobj\u001b[0m\u001b[0;34m)\u001b[0m\u001b[0;34m:\u001b[0m\u001b[0;34m\u001b[0m\u001b[0;34m\u001b[0m\u001b[0m\n",
      "\u001b[0;31mEmptyDataError\u001b[0m: No columns to parse from file"
     ]
    }
   ],
   "source": [
    "with Pool(32) as pool:\n",
    "    pool.map(run_validation, behavior_session_table.index.values)"
   ]
  },
  {
   "cell_type": "code",
   "execution_count": 30,
   "metadata": {},
   "outputs": [],
   "source": [
    "validation = ValidateSDK(932932421)"
   ]
  },
  {
   "cell_type": "code",
   "execution_count": 31,
   "metadata": {},
   "outputs": [
    {
     "data": {
      "text/plain": [
       "{'average_projection': None,\n",
       " 'cell_specimen_table': None,\n",
       " 'corrected_fluorescence_traces': None,\n",
       " 'dff_traces': None,\n",
       " 'eye_tracking': None,\n",
       " 'licks': True,\n",
       " 'max_projection': None,\n",
       " 'metadata': False,\n",
       " 'motion_correction': None,\n",
       " 'ophys_timestamps': None,\n",
       " 'rewards': True,\n",
       " 'running_data_df': True,\n",
       " 'running_speed': True,\n",
       " 'segmentation_mask_image': None,\n",
       " 'stimulus_presentations': True,\n",
       " 'stimulus_templates': True,\n",
       " 'stimulus_timestamps': True,\n",
       " 'task_parameters': True,\n",
       " 'trials': True,\n",
       " 'behavior_session_id': 932932421,\n",
       " 'is_ophys': False,\n",
       " 'timestamp': '2020-04-09 21:49:27.479130'}"
      ]
     },
     "execution_count": 31,
     "metadata": {},
     "output_type": "execute_result"
    }
   ],
   "source": [
    "validation.results"
   ]
  },
  {
   "cell_type": "code",
   "execution_count": 33,
   "metadata": {},
   "outputs": [
    {
     "data": {
      "text/plain": [
       "<visual_behavior.validation.sdk.ValidateSDK at 0x7f8e0d0ae0f0>"
      ]
     },
     "execution_count": 33,
     "metadata": {},
     "output_type": "execute_result"
    }
   ],
   "source": [
    "ValidateSDK(1015172277)"
   ]
  },
  {
   "cell_type": "code",
   "execution_count": null,
   "metadata": {},
   "outputs": [],
   "source": []
  }
 ],
 "metadata": {
  "kernelspec": {
   "display_name": "visual_behavior",
   "language": "python",
   "name": "visual_behavior"
  },
  "language_info": {
   "codemirror_mode": {
    "name": "ipython",
    "version": 3
   },
   "file_extension": ".py",
   "mimetype": "text/x-python",
   "name": "python",
   "nbconvert_exporter": "python",
   "pygments_lexer": "ipython3",
   "version": "3.7.3"
  }
 },
 "nbformat": 4,
 "nbformat_minor": 4
}
