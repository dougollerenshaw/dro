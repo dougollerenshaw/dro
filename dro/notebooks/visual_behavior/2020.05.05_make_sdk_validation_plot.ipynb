{
 "cells": [
  {
   "cell_type": "markdown",
   "metadata": {},
   "source": [
    "# a notebook for loading and plotting SDK validation results. Also an example on viewing detailed error logs\n",
    "Doug Ollerenshaw, 4/13/2020"
   ]
  },
  {
   "cell_type": "markdown",
   "metadata": {},
   "source": [
    "# imports"
   ]
  },
  {
   "cell_type": "code",
   "execution_count": null,
   "metadata": {},
   "outputs": [],
   "source": [
    "import visual_behavior.data_access.loading as loading\n",
    "import visual_behavior.validation.sdk as sdk_validation\n",
    "from visual_behavior.validation.sdk import ValidateSDK\n",
    "from visual_behavior import database as db\n",
    "\n",
    "import datetime\n",
    "\n",
    "\n",
    "%widescreen\n",
    "%standard_imports"
   ]
  },
  {
   "cell_type": "markdown",
   "metadata": {},
   "source": [
    "# load data"
   ]
  },
  {
   "cell_type": "markdown",
   "metadata": {},
   "source": [
    "## get behavior session table from cache, merge in some other columns"
   ]
  },
  {
   "cell_type": "code",
   "execution_count": null,
   "metadata": {},
   "outputs": [],
   "source": [
    "cache = sdk_validation.get_cache()\n",
    "behavior_session_table = cache.get_behavior_session_table()\n",
    "project_table = db.lims_query(\"select id,code from projects\")\n",
    "ophys_session_table = db.lims_query(\"select id,project_id from ophys_sessions\")\n",
    "filtered_ophys_experiment_table = loading.get_filtered_ophys_experiment_table()"
   ]
  },
  {
   "cell_type": "markdown",
   "metadata": {},
   "source": [
    "## get project code using behavior sessions and specimens\n",
    "(thanks Nick M!)"
   ]
  },
  {
   "cell_type": "code",
   "execution_count": null,
   "metadata": {},
   "outputs": [],
   "source": [
    "query = '''SELECT behavior_sessions.id, specimens.project_id FROM specimens\n",
    "JOIN donors ON specimens.donor_id=donors.id\n",
    "JOIN behavior_sessions ON donors.id=behavior_sessions.donor_id'''\n",
    "behavior_id_project_id_map = db.lims_query(query).rename(columns={'id':'behavior_session_id'}).merge(\n",
    "    project_table,\n",
    "    left_on='project_id',\n",
    "    right_on='id',\n",
    "    how='left',\n",
    ").drop(columns=['id']).rename(columns={'code':'project_code'}).drop_duplicates('behavior_session_id').set_index('behavior_session_id')"
   ]
  },
  {
   "cell_type": "code",
   "execution_count": null,
   "metadata": {},
   "outputs": [],
   "source": [
    "donor_to_specimen_map = {\n",
    "    donor_id:db.get_mouse_ids('donor_id', donor_id)['specimen_id'].iloc[0] for donor_id in behavior_session_table['donor_id'].unique()\n",
    "}\n",
    "behavior_session_table['specimen_id'] = behavior_session_table['donor_id'].map(lambda donor_id: donor_to_specimen_map[donor_id])"
   ]
  },
  {
   "cell_type": "markdown",
   "metadata": {},
   "source": [
    "## Get cached validation results from Mongo database"
   ]
  },
  {
   "cell_type": "code",
   "execution_count": null,
   "metadata": {},
   "outputs": [],
   "source": [
    "## get validation results from mongo\n",
    "validation_results = sdk_validation.get_validation_results().sort_index()\n",
    "\n",
    "# compare length of validation results and length of behavior session table to get percent complete\n",
    "# this was useful when monitoring progress of cluster jobs used to do validation\n",
    "print('Jobs are {:0.2f}% complete'.format(100*len(validation_results)/len(behavior_session_table)))\n",
    "\n",
    "# merge in behavior session table\n",
    "validation_results = validation_results.merge(\n",
    "    behavior_session_table,\n",
    "    left_index=True,\n",
    "    right_index=True,\n",
    "    how='left',\n",
    ").sort_values(by=['is_ophys','session_type','behavior_session_id'])\n",
    "# filter out the NP\n",
    "validation_results = validation_results[~validation_results['equipment_name'].str.contains('NP')]\n",
    "\n",
    "# merge in project code\n",
    "validation_results = validation_results.merge(\n",
    "    behavior_id_project_id_map,\n",
    "    left_index=True,\n",
    "    right_index=True,\n",
    "    how='left'\n",
    ")\n",
    "\n",
    "validation_results['specimen_id']\n",
    "\n",
    "# get filtered ophys session IDS (sessions that have passed QC)\n",
    "filtered_ophys_session_ids = list(np.sort(filtered_ophys_experiment_table['ophys_session_id'].unique()))\n",
    "filtered_specimen_ids = list(np.sort(filtered_ophys_experiment_table['specimen_id'].unique()))"
   ]
  },
  {
   "cell_type": "code",
   "execution_count": null,
   "metadata": {},
   "outputs": [],
   "source": [
    "def in_filtered_list(row):\n",
    "    if pd.notnull(row['ophys_session_id']):\n",
    "        # if ophys, is session in filtered session ID list?\n",
    "        return row['ophys_session_id'] in filtered_ophys_session_ids\n",
    "    else:\n",
    "        # if behavior only, does the animal have at least one session in filtered session ID list?\n",
    "        return row['specimen_id'] in filtered_specimen_ids\n",
    "        \n",
    "\n",
    "# filter out ophys sessions that haven't passed QC\n",
    "# validation_results['in_filtered_table'] = (validation_results['ophys_session_id']\n",
    "#                                            .fillna(0)\n",
    "#                                            .astype(int)\n",
    "#                                            .map(lambda osid:osid in filtered_ophys_ids))\n",
    "validation_results['in_filtered_table'] = validation_results.apply(in_filtered_list, axis=1)"
   ]
  },
  {
   "cell_type": "markdown",
   "metadata": {},
   "source": [
    "## of the ophys sessions, what is the breakdown of QC True/False?"
   ]
  },
  {
   "cell_type": "code",
   "execution_count": null,
   "metadata": {},
   "outputs": [],
   "source": [
    "validation_results.query('is_ophys == False')['in_filtered_table'].value_counts()"
   ]
  },
  {
   "cell_type": "code",
   "execution_count": null,
   "metadata": {},
   "outputs": [],
   "source": [
    "validation_results.query('is_ophys == True')['in_filtered_table'].value_counts()"
   ]
  },
  {
   "cell_type": "markdown",
   "metadata": {},
   "source": [
    "# Generate and show the figure (interactive plotly figure is displayed inline)"
   ]
  },
  {
   "cell_type": "code",
   "execution_count": null,
   "metadata": {
    "scrolled": false
   },
   "outputs": [],
   "source": [
    "savefig = True\n",
    "\n",
    "sort_by = ['is_ophys','project_code','session_type','behavior_session_id']\n",
    "\n",
    "fig = sdk_validation.make_sdk_heatmap(\n",
    "    validation_results[\n",
    "        (validation_results['in_filtered_table']==True)\n",
    "        &(pd.notnull(validation_results['session_type']))\n",
    "    ].sort_values(by=sort_by)\n",
    ")\n",
    "if savefig:\n",
    "    fig.write_html(\"/home/dougo/code/dougollerenshaw.github.io/figures_to_share/sdk_validation_matrix.html\")\n",
    "fig.show()\n"
   ]
  },
  {
   "cell_type": "code",
   "execution_count": null,
   "metadata": {
    "scrolled": false
   },
   "outputs": [],
   "source": [
    "savefig = True\n",
    "\n",
    "sort_by = ['is_ophys','project_code','session_type','behavior_session_id']\n",
    "\n",
    "for title,is_ophys in zip(['ophys_only','behavior_only'],[True,False]):\n",
    "    fig = sdk_validation.make_sdk_heatmap(\n",
    "        validation_results[\n",
    "            (validation_results['in_filtered_table']==True)\n",
    "            &(pd.notnull(validation_results['session_type']))\n",
    "            &(validation_results['is_ophys'] == is_ophys)\n",
    "        ].sort_values(by=sort_by),\n",
    "        title_addendum = ' - {} - '.format(title)\n",
    "    )\n",
    "    if savefig:\n",
    "        fig.write_html(\"/home/dougo/code/dougollerenshaw.github.io/figures_to_share/sdk_validation_matrix_{}.html\".format(title))\n",
    "    fig.show()"
   ]
  },
  {
   "cell_type": "markdown",
   "metadata": {},
   "source": [
    "# View some error logs"
   ]
  },
  {
   "cell_type": "markdown",
   "metadata": {},
   "source": [
    "### start with one of the mesoscope sessions, 974634733"
   ]
  },
  {
   "cell_type": "code",
   "execution_count": null,
   "metadata": {},
   "outputs": [],
   "source": [
    "# behavior_session_id = 886424031\n",
    "behavior_session_id = 873813922\n",
    "\n",
    "sdk_validation.get_validation_results(behavior_session_id)"
   ]
  },
  {
   "cell_type": "code",
   "execution_count": null,
   "metadata": {},
   "outputs": [],
   "source": [
    "error_log = sdk_validation.get_error_logs(behavior_session_id).drop(columns=['_id'])\n",
    "error_log"
   ]
  },
  {
   "cell_type": "code",
   "execution_count": null,
   "metadata": {},
   "outputs": [],
   "source": [
    "print(error_log.iloc[26]['traceback'])"
   ]
  },
  {
   "cell_type": "code",
   "execution_count": null,
   "metadata": {},
   "outputs": [],
   "source": [
    "query = {\n",
    "        \"traceback\": {\n",
    "        \"$regex\": 'ValueError: No photodiode events found. Please check the input data for errors. ',\n",
    "        \"$options\" :'i' # case-insensitive\n",
    "    }\n",
    "}\n",
    "conn = db.Database('visual_behavior_data')\n",
    "matching_errors = pd.DataFrame(list(conn['sdk_validation']['error_logs'].find(query))).drop(columns='_id')\n",
    "conn.close()"
   ]
  },
  {
   "cell_type": "code",
   "execution_count": null,
   "metadata": {},
   "outputs": [],
   "source": [
    "matching_errors.query('sdk_version == \"1.7.1\"')"
   ]
  },
  {
   "cell_type": "code",
   "execution_count": null,
   "metadata": {},
   "outputs": [],
   "source": []
  }
 ],
 "metadata": {
  "kernelspec": {
   "display_name": "visual_behavior",
   "language": "python",
   "name": "visual_behavior"
  },
  "language_info": {
   "codemirror_mode": {
    "name": "ipython",
    "version": 3
   },
   "file_extension": ".py",
   "mimetype": "text/x-python",
   "name": "python",
   "nbconvert_exporter": "python",
   "pygments_lexer": "ipython3",
   "version": "3.7.9"
  }
 },
 "nbformat": 4,
 "nbformat_minor": 4
}
