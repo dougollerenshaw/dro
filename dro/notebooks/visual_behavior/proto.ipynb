{
 "cells": [
  {
   "cell_type": "code",
   "execution_count": 2,
   "metadata": {},
   "outputs": [],
   "source": [
    "import pandas as pd\n",
    "import visual_behavior.database as db\n",
    "from visual_behavior.visualization.qc.dash_app import functions"
   ]
  },
  {
   "cell_type": "code",
   "execution_count": 5,
   "metadata": {},
   "outputs": [],
   "source": [
    "def does_session_have_qc(session_id, attribute):\n",
    "    \n",
    "    conn = db.Database('visual_behavior_data')\n",
    "    collection = conn['ophys_qc']['session_qc_records']\n",
    "    res = list(collection.find({'session_id':session_id, 'qc_attribute':attribute}))\n",
    "    conn.close()\n",
    "    \n",
    "    return len(res) > 0\n",
    "\n",
    "def mark_session_as_qcd(session_id, attribute):\n",
    "    entry = {\n",
    "        'session_id':session_id,\n",
    "        attribute:True\n",
    "    }\n",
    "    \n",
    "    conn = db.Database('visual_behavior_data')\n",
    "    collection = conn['ophys_qc']['session_qc']\n",
    "    db.update_or_create(collection, db.clean_and_timestamp(entry), keys_to_check=['session_id'])\n",
    "    conn.close()"
   ]
  },
  {
   "cell_type": "code",
   "execution_count": 6,
   "metadata": {},
   "outputs": [
    {
     "data": {
      "text/plain": [
       "True"
      ]
     },
     "execution_count": 6,
     "metadata": {},
     "output_type": "execute_result"
    }
   ],
   "source": [
    "session_id = 1048363441\n",
    "attribute = 'Decrosstalking - Session Level'\n",
    "does_session_have_qc(session_id, attribute)"
   ]
  },
  {
   "cell_type": "code",
   "execution_count": 7,
   "metadata": {},
   "outputs": [
    {
     "name": "stdout",
     "output_type": "stream",
     "text": [
      "[{'_id': '80992a7c19cc4fd88505cba1461dc57b', 'timestamp': '2021-01-20 17:45:20', 'username': 'test_dougo', 'session_id': 1048363441, 'experiment_id': 1048483604, 'qc_attribute': 'Decrosstalking - Session Level', 'motion_present': None, 'qc_labels': 'no_problems', 'input_text': '', 'entry_time_utc': '2021-01-21 01:45:52.270178'}, {'_id': '1d718bb1a399456ca5dd78108d96d1ba', 'timestamp': '2021-01-20 17:50:28', 'username': 'test_doug', 'session_id': 1048363441, 'experiment_id': 1048483604, 'qc_attribute': 'Decrosstalking - Session Level', 'motion_present': None, 'qc_labels': 'no_problems', 'input_text': 'test', 'entry_time_utc': '2021-01-21 01:50:41.986721'}, {'_id': 'c39c7eb6649f4450babd906acbe58508', 'timestamp': '2021-01-20 17:51:25', 'username': 'test_doug', 'session_id': 1048363441, 'experiment_id': 1048483604, 'qc_attribute': 'Decrosstalking - Session Level', 'motion_present': None, 'qc_labels': 'no_problems', 'input_text': '', 'entry_time_utc': '2021-01-21 01:51:31.734318'}]\n"
     ]
    }
   ],
   "source": [
    "session_id = 1048363441\n",
    "\n",
    "conn = db.Database('visual_behavior_data')\n",
    "collection = conn['ophys_qc']['session_qc_records']\n",
    "res = list(collection.find({'session_id':int(session_id)}))\n",
    "conn.close()\n",
    "\n",
    "print(res)"
   ]
  },
  {
   "cell_type": "code",
   "execution_count": 8,
   "metadata": {},
   "outputs": [
    {
     "data": {
      "text/plain": [
       "[{'_id': '80992a7c19cc4fd88505cba1461dc57b',\n",
       "  'timestamp': '2021-01-20 17:45:20',\n",
       "  'username': 'test_dougo',\n",
       "  'session_id': 1048363441,\n",
       "  'experiment_id': 1048483604,\n",
       "  'qc_attribute': 'Decrosstalking - Session Level',\n",
       "  'motion_present': None,\n",
       "  'qc_labels': 'no_problems',\n",
       "  'input_text': '',\n",
       "  'entry_time_utc': '2021-01-21 01:45:52.270178'},\n",
       " {'_id': '1d718bb1a399456ca5dd78108d96d1ba',\n",
       "  'timestamp': '2021-01-20 17:50:28',\n",
       "  'username': 'test_doug',\n",
       "  'session_id': 1048363441,\n",
       "  'experiment_id': 1048483604,\n",
       "  'qc_attribute': 'Decrosstalking - Session Level',\n",
       "  'motion_present': None,\n",
       "  'qc_labels': 'no_problems',\n",
       "  'input_text': 'test',\n",
       "  'entry_time_utc': '2021-01-21 01:50:41.986721'},\n",
       " {'_id': 'c39c7eb6649f4450babd906acbe58508',\n",
       "  'timestamp': '2021-01-20 17:51:25',\n",
       "  'username': 'test_doug',\n",
       "  'session_id': 1048363441,\n",
       "  'experiment_id': 1048483604,\n",
       "  'qc_attribute': 'Decrosstalking - Session Level',\n",
       "  'motion_present': None,\n",
       "  'qc_labels': 'no_problems',\n",
       "  'input_text': '',\n",
       "  'entry_time_utc': '2021-01-21 01:51:31.734318'}]"
      ]
     },
     "execution_count": 8,
     "metadata": {},
     "output_type": "execute_result"
    }
   ],
   "source": [
    "res"
   ]
  },
  {
   "cell_type": "code",
   "execution_count": 9,
   "metadata": {},
   "outputs": [
    {
     "data": {
      "text/plain": [
       "{'session_id': 1048363441, 'Decrosstalking - Session Level': True}"
      ]
     },
     "execution_count": 9,
     "metadata": {},
     "output_type": "execute_result"
    }
   ],
   "source": [
    "entry = {\n",
    "    'session_id':session_id,\n",
    "    attribute:True\n",
    "}\n",
    "entry"
   ]
  },
  {
   "cell_type": "code",
   "execution_count": 10,
   "metadata": {},
   "outputs": [],
   "source": [
    "mark_session_as_qcd(session_id, attribute)"
   ]
  },
  {
   "cell_type": "code",
   "execution_count": 12,
   "metadata": {},
   "outputs": [
    {
     "name": "stderr",
     "output_type": "stream",
     "text": [
      "Getting all ophys sessions. This might take a while.\n"
     ]
    },
    {
     "name": "stdout",
     "output_type": "stream",
     "text": [
      "952430817 True\n",
      "955775716 True\n",
      "958105827 False\n",
      "958772311 True\n",
      "959458018 True\n",
      "988768058 False\n",
      "989267296 False\n",
      "1048363441 True\n",
      "1049240847 True\n",
      "1050231786 False\n",
      "1051319542 False\n",
      "941676716 True\n",
      "929686773 False\n",
      "931326814 False\n",
      "935559843 False\n",
      "937162622 True\n",
      "938140092 False\n",
      "939526443 False\n",
      "1052752249 False\n",
      "882386411 False\n",
      "848983781 False\n",
      "881094781 False\n",
      "882060185 False\n",
      "882674040 False\n",
      "884451806 False\n",
      "886130638 False\n",
      "886806800 False\n",
      "889944877 False\n",
      "944888114 False\n",
      "947199653 False\n",
      "948042811 False\n",
      "949217880 False\n",
      "870352564 False\n",
      "871526950 False\n",
      "872592724 False\n",
      "873247524 False\n",
      "973384292 True\n",
      "974167263 False\n",
      "974486549 False\n",
      "904771513 False\n",
      "866197765 True\n",
      "867027875 False\n",
      "868688430 False\n",
      "870762788 False\n",
      "976382032 True\n",
      "986130604 False\n",
      "917498735 False\n",
      "919888953 False\n",
      "920695792 True\n",
      "849304162 False\n",
      "852794141 False\n",
      "993228542 False\n",
      "971849979 False\n",
      "1040797492 False\n",
      "1041082185 False\n",
      "994136636 False\n",
      "993942673 False\n",
      "993504279 False\n",
      "1038963428 False\n",
      "1039252364 False\n",
      "959735908 False\n",
      "960606804 False\n",
      "962045676 False\n",
      "962996586 False\n",
      "963749922 False\n",
      "1039474951 False\n",
      "1010346697 False\n",
      "1009188505 False\n",
      "1010607747 False\n"
     ]
    }
   ],
   "source": [
    "session_table = functions.load_session_data()\n",
    "attribute = 'Decrosstalking - Session Level'\n",
    "for idx,row in session_table.iterrows():\n",
    "    osid = int(row['ophys_session_id'])\n",
    "    print(osid, does_session_have_qc(osid, attribute))\n",
    "    if does_session_have_qc(osid, attribute):\n",
    "        mark_session_as_qcd(osid, attribute)"
   ]
  },
  {
   "cell_type": "code",
   "execution_count": 18,
   "metadata": {},
   "outputs": [
    {
     "name": "stdout",
     "output_type": "stream",
     "text": [
      "CPU times: user 9 µs, sys: 3 µs, total: 12 µs\n",
      "Wall time: 21.5 µs\n"
     ]
    }
   ],
   "source": [
    "%%time\n",
    "def update_session_table(session_table):\n",
    "    for idx,row in session_table.iterrows():\n",
    "        if does_session_have_qc(osid, attribute):\n",
    "            session_table.at[idx,'has_decrosstalk_qc'] = True\n",
    "    return session_table"
   ]
  },
  {
   "cell_type": "code",
   "execution_count": 20,
   "metadata": {},
   "outputs": [],
   "source": [
    "import visual_behavior.database as db\n",
    "import pandas as pd\n",
    "def get_session_qc_records(search_dict={}):\n",
    "    '''\n",
    "    find all session level qc records matching the pattern in search_dict\n",
    "    passing an empty search dict (or no args) returns all records\n",
    "    returns pandas dataframe\n",
    "    '''\n",
    "    conn = db.Database('visual_behavior_data')\n",
    "    collection = conn['ophys_qc']['session_qc_records']\n",
    "    res = list(collection.find(search_dict))\n",
    "    conn.close()\n",
    "    return pd.DataFrame(res)"
   ]
  },
  {
   "cell_type": "code",
   "execution_count": 22,
   "metadata": {},
   "outputs": [
    {
     "data": {
      "text/html": [
       "<div>\n",
       "<style scoped>\n",
       "    .dataframe tbody tr th:only-of-type {\n",
       "        vertical-align: middle;\n",
       "    }\n",
       "\n",
       "    .dataframe tbody tr th {\n",
       "        vertical-align: top;\n",
       "    }\n",
       "\n",
       "    .dataframe thead th {\n",
       "        text-align: right;\n",
       "    }\n",
       "</style>\n",
       "<table border=\"1\" class=\"dataframe\">\n",
       "  <thead>\n",
       "    <tr style=\"text-align: right;\">\n",
       "      <th></th>\n",
       "      <th>_id</th>\n",
       "      <th>timestamp</th>\n",
       "      <th>username</th>\n",
       "      <th>session_id</th>\n",
       "      <th>experiment_id</th>\n",
       "      <th>qc_attribute</th>\n",
       "      <th>motion_present</th>\n",
       "      <th>qc_labels</th>\n",
       "      <th>input_text</th>\n",
       "      <th>entry_time_utc</th>\n",
       "    </tr>\n",
       "  </thead>\n",
       "  <tbody>\n",
       "    <tr>\n",
       "      <th>0</th>\n",
       "      <td>97b117878486409fa4fc15149b7a274f</td>\n",
       "      <td>2021-01-21 11:12:12</td>\n",
       "      <td>natalia</td>\n",
       "      <td>952430817</td>\n",
       "      <td>953659749</td>\n",
       "      <td>Decrosstalking - Session Level</td>\n",
       "      <td>None</td>\n",
       "      <td>overlap_plots_missing</td>\n",
       "      <td>13</td>\n",
       "      <td>2021-01-21 19:12:31.843178</td>\n",
       "    </tr>\n",
       "    <tr>\n",
       "      <th>1</th>\n",
       "      <td>c7b79b7d6d954091a45ee74dd71478aa</td>\n",
       "      <td>2021-01-21 11:15:20</td>\n",
       "      <td>natalia</td>\n",
       "      <td>952430817</td>\n",
       "      <td>953659749</td>\n",
       "      <td>Decrosstalking - Session Level</td>\n",
       "      <td>None</td>\n",
       "      <td>outlier_no_double</td>\n",
       "      <td>19</td>\n",
       "      <td>2021-01-21 19:15:40.140500</td>\n",
       "    </tr>\n",
       "    <tr>\n",
       "      <th>2</th>\n",
       "      <td>9ba93866e7e244c9aab94427098590bc</td>\n",
       "      <td>2021-01-21 11:20:55</td>\n",
       "      <td>natalia</td>\n",
       "      <td>952430817</td>\n",
       "      <td>953659752</td>\n",
       "      <td>Decrosstalking - Session Level</td>\n",
       "      <td>None</td>\n",
       "      <td>overlap_plots_missing</td>\n",
       "      <td>14</td>\n",
       "      <td>2021-01-21 19:21:26.863718</td>\n",
       "    </tr>\n",
       "    <tr>\n",
       "      <th>3</th>\n",
       "      <td>77a3e5e77abe475e9be23a98d5cdc8da</td>\n",
       "      <td>2021-01-21 11:23:48</td>\n",
       "      <td>natalia</td>\n",
       "      <td>952430817</td>\n",
       "      <td>953659756</td>\n",
       "      <td>Decrosstalking - Session Level</td>\n",
       "      <td>None</td>\n",
       "      <td>ghost_ROI_has_no_double</td>\n",
       "      <td>3</td>\n",
       "      <td>2021-01-21 19:24:11.258393</td>\n",
       "    </tr>\n",
       "    <tr>\n",
       "      <th>4</th>\n",
       "      <td>044ab5c647ef4c709e6671661b14069f</td>\n",
       "      <td>2021-01-21 11:46:40</td>\n",
       "      <td>natalia</td>\n",
       "      <td>976382032</td>\n",
       "      <td>977247470</td>\n",
       "      <td>Decrosstalking - Session Level</td>\n",
       "      <td>None</td>\n",
       "      <td>too_many_outlier_ROIs</td>\n",
       "      <td></td>\n",
       "      <td>2021-01-21 19:46:52.756509</td>\n",
       "    </tr>\n",
       "    <tr>\n",
       "      <th>5</th>\n",
       "      <td>d289f646a3a54b57abbd73e83f183e03</td>\n",
       "      <td>2021-01-21 11:51:59</td>\n",
       "      <td>natalia</td>\n",
       "      <td>976382032</td>\n",
       "      <td>977247470</td>\n",
       "      <td>Decrosstalking - Session Level</td>\n",
       "      <td>None</td>\n",
       "      <td>outlier_not_ghost</td>\n",
       "      <td>12</td>\n",
       "      <td>2021-01-21 19:52:22.215952</td>\n",
       "    </tr>\n",
       "    <tr>\n",
       "      <th>6</th>\n",
       "      <td>9d96cbc5e1c6450f967cf0819844ebe1</td>\n",
       "      <td>2021-01-21 12:15:28</td>\n",
       "      <td>natalia</td>\n",
       "      <td>952430817</td>\n",
       "      <td>953659743</td>\n",
       "      <td>Decrosstalking - Session Level</td>\n",
       "      <td>None</td>\n",
       "      <td>missed_ghost</td>\n",
       "      <td>4</td>\n",
       "      <td>2021-01-21 20:15:36.884226</td>\n",
       "    </tr>\n",
       "    <tr>\n",
       "      <th>7</th>\n",
       "      <td>feed9ce7a5344725ae3be90395c2a86f</td>\n",
       "      <td>2021-01-21 12:42:23</td>\n",
       "      <td>natalia</td>\n",
       "      <td>989267296</td>\n",
       "      <td>989610989</td>\n",
       "      <td>Decrosstalking - Session Level</td>\n",
       "      <td>None</td>\n",
       "      <td>overlap_plots_missing</td>\n",
       "      <td></td>\n",
       "      <td>2021-01-21 20:42:52.980391</td>\n",
       "    </tr>\n",
       "  </tbody>\n",
       "</table>\n",
       "</div>"
      ],
      "text/plain": [
       "                                _id            timestamp username  session_id  \\\n",
       "0  97b117878486409fa4fc15149b7a274f  2021-01-21 11:12:12  natalia   952430817   \n",
       "1  c7b79b7d6d954091a45ee74dd71478aa  2021-01-21 11:15:20  natalia   952430817   \n",
       "2  9ba93866e7e244c9aab94427098590bc  2021-01-21 11:20:55  natalia   952430817   \n",
       "3  77a3e5e77abe475e9be23a98d5cdc8da  2021-01-21 11:23:48  natalia   952430817   \n",
       "4  044ab5c647ef4c709e6671661b14069f  2021-01-21 11:46:40  natalia   976382032   \n",
       "5  d289f646a3a54b57abbd73e83f183e03  2021-01-21 11:51:59  natalia   976382032   \n",
       "6  9d96cbc5e1c6450f967cf0819844ebe1  2021-01-21 12:15:28  natalia   952430817   \n",
       "7  feed9ce7a5344725ae3be90395c2a86f  2021-01-21 12:42:23  natalia   989267296   \n",
       "\n",
       "   experiment_id                    qc_attribute motion_present  \\\n",
       "0      953659749  Decrosstalking - Session Level           None   \n",
       "1      953659749  Decrosstalking - Session Level           None   \n",
       "2      953659752  Decrosstalking - Session Level           None   \n",
       "3      953659756  Decrosstalking - Session Level           None   \n",
       "4      977247470  Decrosstalking - Session Level           None   \n",
       "5      977247470  Decrosstalking - Session Level           None   \n",
       "6      953659743  Decrosstalking - Session Level           None   \n",
       "7      989610989  Decrosstalking - Session Level           None   \n",
       "\n",
       "                 qc_labels input_text              entry_time_utc  \n",
       "0    overlap_plots_missing         13  2021-01-21 19:12:31.843178  \n",
       "1        outlier_no_double         19  2021-01-21 19:15:40.140500  \n",
       "2    overlap_plots_missing         14  2021-01-21 19:21:26.863718  \n",
       "3  ghost_ROI_has_no_double          3  2021-01-21 19:24:11.258393  \n",
       "4    too_many_outlier_ROIs             2021-01-21 19:46:52.756509  \n",
       "5        outlier_not_ghost         12  2021-01-21 19:52:22.215952  \n",
       "6             missed_ghost          4  2021-01-21 20:15:36.884226  \n",
       "7    overlap_plots_missing             2021-01-21 20:42:52.980391  "
      ]
     },
     "execution_count": 22,
     "metadata": {},
     "output_type": "execute_result"
    }
   ],
   "source": [
    "get_session_records({'username':'natalia'})"
   ]
  },
  {
   "cell_type": "code",
   "execution_count": null,
   "metadata": {},
   "outputs": [],
   "source": []
  }
 ],
 "metadata": {
  "kernelspec": {
   "display_name": "vb_qc_app",
   "language": "python",
   "name": "vb_qc_app"
  },
  "language_info": {
   "codemirror_mode": {
    "name": "ipython",
    "version": 3
   },
   "file_extension": ".py",
   "mimetype": "text/x-python",
   "name": "python",
   "nbconvert_exporter": "python",
   "pygments_lexer": "ipython3",
   "version": "3.7.9"
  }
 },
 "nbformat": 4,
 "nbformat_minor": 4
}
