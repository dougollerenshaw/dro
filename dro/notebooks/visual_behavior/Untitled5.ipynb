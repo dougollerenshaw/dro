{
 "cells": [
  {
   "cell_type": "code",
   "execution_count": 1,
   "metadata": {},
   "outputs": [
    {
     "name": "stdout",
     "output_type": "stream",
     "text": [
      "hi Elliott!\n"
     ]
    }
   ],
   "source": [
    "print('hi Elliott!')"
   ]
  },
  {
   "cell_type": "code",
   "execution_count": 3,
   "metadata": {},
   "outputs": [
    {
     "name": "stdout",
     "output_type": "stream",
     "text": [
      "pokemon  pokemon  pokemon  pokemon  pokemon  pokemon  pokemon  \n"
     ]
    }
   ],
   "source": [
    "print('pokemon  '*7)"
   ]
  },
  {
   "cell_type": "code",
   "execution_count": 12,
   "metadata": {
    "scrolled": false
   },
   "outputs": [
    {
     "name": "stdout",
     "output_type": "stream",
     "text": [
      "Elliott is loving and I love him\n",
      "Elliott is strong and I love him\n",
      "Elliott is cute and I love him\n",
      "Elliott is A pokemon and I love him\n",
      "Elliott is cute and I love him\n",
      "Elliott is loving and I love him\n",
      "Elliott is strong and I love him\n",
      "Elliott is A pokemon and I love him\n",
      "Elliott is A pokemon and I love him\n",
      "Elliott is brave and I love him\n",
      "Elliott is smart and I love him\n",
      "Elliott is friendly and I love him\n",
      "Elliott is friendly and I love him\n",
      "Elliott is friendly and I love him\n",
      "Elliott is A pokemon and I love him\n",
      "Elliott is friendly and I love him\n",
      "Elliott is loving and I love him\n",
      "Elliott is A pokemon and I love him\n",
      "Elliott is smart and I love him\n",
      "Elliott is strong and I love him\n",
      "Elliott is smart and I love him\n",
      "Elliott is smart and I love him\n"
     ]
    }
   ],
   "source": [
    "import numpy as np\n",
    "things_that_describe_elliott = [\n",
    "    'smart',\n",
    "    'friendly',\n",
    "    'cute',\n",
    "    'strong',\n",
    "    'brave',\n",
    "    'loving',\n",
    "    'A pokemon',\n",
    "    'A pokemon',\n",
    "]\n",
    "\n",
    "for i in range(22):\n",
    "    print('Elliott is {} and I love him'.format(np.random.choice(things_that_describe_elliott)))"
   ]
  },
  {
   "cell_type": "code",
   "execution_count": 8,
   "metadata": {},
   "outputs": [
    {
     "data": {
      "text/plain": [
       "['smart', 'friendly', 'cute', 'strong', 'brave', 'loving']"
      ]
     },
     "execution_count": 8,
     "metadata": {},
     "output_type": "execute_result"
    }
   ],
   "source": [
    "things_that_describe_elliott"
   ]
  },
  {
   "cell_type": "code",
   "execution_count": null,
   "metadata": {},
   "outputs": [],
   "source": []
  }
 ],
 "metadata": {
  "kernelspec": {
   "display_name": "visual_behavior",
   "language": "python",
   "name": "visual_behavior"
  },
  "language_info": {
   "codemirror_mode": {
    "name": "ipython",
    "version": 3
   },
   "file_extension": ".py",
   "mimetype": "text/x-python",
   "name": "python",
   "nbconvert_exporter": "python",
   "pygments_lexer": "ipython3",
   "version": "3.7.3"
  }
 },
 "nbformat": 4,
 "nbformat_minor": 4
}
