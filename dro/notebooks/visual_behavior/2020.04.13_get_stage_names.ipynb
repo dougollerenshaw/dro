{
 "cells": [
  {
   "cell_type": "code",
   "execution_count": 1,
   "metadata": {},
   "outputs": [],
   "source": [
    "from visual_behavior import database as db\n",
    "\n",
    "from allensdk.internal.api import PostgresQueryMixin\n",
    "from allensdk.core.authentication import credential_injector\n",
    "from allensdk.core.auth_config import LIMS_DB_CREDENTIAL_MAP"
   ]
  },
  {
   "cell_type": "code",
   "execution_count": 2,
   "metadata": {},
   "outputs": [],
   "source": [
    "def lims_query(query):\n",
    "    api = (credential_injector(LIMS_DB_CREDENTIAL_MAP)(PostgresQueryMixin)())\n",
    "    conn = api.get_connection()\n",
    "    cur = conn.cursor()\n",
    "\n",
    "    df = pd.read_sql(query, conn)\n",
    "\n",
    "    conn.close()\n",
    "\n",
    "    return df"
   ]
  },
  {
   "cell_type": "code",
   "execution_count": 3,
   "metadata": {},
   "outputs": [],
   "source": [
    "def osid_to_uuid(osid):\n",
    "    query = 'select foraging_id from ophys_sessions where id = {}'.format(osid)\n",
    "    return lims_query(query).values[0][0]"
   ]
  },
  {
   "cell_type": "code",
   "execution_count": 4,
   "metadata": {},
   "outputs": [],
   "source": [
    "def get_stage_from_db(osid):\n",
    "    uuid = osid_to_uuid(osid)\n",
    "    summary = db.get_behavior_session_summary()\n",
    "    res = summary.query('behavior_session_uuid == \"{}\"'.format(uuid))\n",
    "    return res['stage'].iloc[0] if len(res) > 0 else None"
   ]
  },
  {
   "cell_type": "code",
   "execution_count": 5,
   "metadata": {},
   "outputs": [],
   "source": [
    "def get_stage_from_pkl(osid):\n",
    "    wkf = db.get_well_known_files(osid).set_index('name')\n",
    "    data = pd.read_pickle(''.join([wkf.loc['StimulusPickle']['storage_directory'],wkf.loc['StimulusPickle']['filename']]))\n",
    "    return data['params']['stage']"
   ]
  },
  {
   "cell_type": "code",
   "execution_count": 6,
   "metadata": {},
   "outputs": [],
   "source": [
    "ophys_session_ids = [\n",
    "    908810528,\n",
    "    875293691,\n",
    "    873248441,\n",
    "    868621477,\n",
    "    867649640,\n",
    "    929253634,\n",
    "    927279477,\n",
    "    894836178,\n",
    "    893993015,\n",
    "    893234928,\n",
    "    888945661,\n",
    "    886154222,\n",
    "    884353347,\n",
    "    884545175,\n",
    "    871524137,\n",
    "    868615577,\n",
    "    867016776,\n",
    "    893940179,\n",
    "    893238904,\n",
    "    859459978,\n",
    "    858899525,\n",
    "    857759922,\n",
    "    857075165,\n",
    "    856337979,\n",
    "    855898523,\n",
    "    852023722,\n",
    "    847488953,\n",
    "    841817171\n",
    "]"
   ]
  },
  {
   "cell_type": "code",
   "execution_count": 7,
   "metadata": {
    "scrolled": false
   },
   "outputs": [],
   "source": [
    "stage_dict = {}\n",
    "\n",
    "summary = db.get_behavior_session_summary()\n",
    "for osid in ophys_session_ids:\n",
    "    uuid= osid_to_uuid(osid)\n",
    "    \n",
    "    res = summary.query('behavior_session_uuid == \"{}\"'.format(uuid))\n",
    "    stage_dict.update({\n",
    "        osid: get_stage_from_db(osid) if get_stage_from_db(osid) is not None else get_stage_from_pkl(osid)\n",
    "    })"
   ]
  },
  {
   "cell_type": "code",
   "execution_count": 8,
   "metadata": {},
   "outputs": [
    {
     "data": {
      "text/plain": [
       "{908810528: 'OPHYS_7_receptive_field_mapping',\n",
       " 875293691: 'OPHYS_1_images_A',\n",
       " 873248441: 'OPHYS_1_images_A',\n",
       " 868621477: 'OPHYS_2_images_A_passive',\n",
       " 867649640: 'OPHYS_1_images_A',\n",
       " 929253634: 'OPHYS_7_receptive_field_mapping',\n",
       " 927279477: 'OPHYS_7_receptive_field_mapping',\n",
       " 894836178: 'OPHYS_4_images_B',\n",
       " 893993015: 'OPHYS_5_images_B_passive',\n",
       " 893234928: 'OPHYS_6_images_B',\n",
       " 888945661: 'OPHYS_3_images_A',\n",
       " 886154222: 'OPHYS_2_images_A_passive',\n",
       " 884353347: 'OPHYS_1_images_A',\n",
       " 884545175: 'OPHYS_1_images_A',\n",
       " 871524137: 'OPHYS_4_images_B',\n",
       " 868615577: 'OPHYS_3_images_A',\n",
       " 867016776: 'OPHYS_1_images_A',\n",
       " 893940179: 'OPHYS_1_images_E',\n",
       " 893238904: 'OPHYS_1_images_G',\n",
       " 859459978: 'OPHYS_6_images_B',\n",
       " 858899525: 'OPHYS_4_images_B',\n",
       " 857759922: 'OPHYS_4_images_B',\n",
       " 857075165: 'OPHYS_3_images_A',\n",
       " 856337979: 'OPHYS_2_images_A_passive',\n",
       " 855898523: 'OPHYS_7_receptive_field_mapping',\n",
       " 852023722: 'OPHYS_7_receptive_field_mapping',\n",
       " 847488953: 'OPHYS_1_images_A',\n",
       " 841817171: 'OPHYS_7_receptive_field_mapping'}"
      ]
     },
     "execution_count": 8,
     "metadata": {},
     "output_type": "execute_result"
    }
   ],
   "source": [
    "stage_dict"
   ]
  },
  {
   "cell_type": "code",
   "execution_count": null,
   "metadata": {},
   "outputs": [],
   "source": []
  }
 ],
 "metadata": {
  "kernelspec": {
   "display_name": "visual_behavior",
   "language": "python",
   "name": "visual_behavior"
  },
  "language_info": {
   "codemirror_mode": {
    "name": "ipython",
    "version": 3
   },
   "file_extension": ".py",
   "mimetype": "text/x-python",
   "name": "python",
   "nbconvert_exporter": "python",
   "pygments_lexer": "ipython3",
   "version": "3.7.3"
  }
 },
 "nbformat": 4,
 "nbformat_minor": 4
}
