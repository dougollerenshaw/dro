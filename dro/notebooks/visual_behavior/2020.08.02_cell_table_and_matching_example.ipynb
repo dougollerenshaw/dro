{
 "cells": [
  {
   "cell_type": "markdown",
   "metadata": {},
   "source": [
    "# Cell table and cell matching example"
   ]
  },
  {
   "cell_type": "code",
   "execution_count": 15,
   "metadata": {},
   "outputs": [],
   "source": [
    "import pandas as pd\n",
    "pd.set_option('display.max_rows', 500)\n",
    "pd.set_option('display.max_columns', 500)\n",
    "\n",
    "from visual_behavior.data_access import loading"
   ]
  },
  {
   "cell_type": "markdown",
   "metadata": {},
   "source": [
    "## Here is the function to get the cell table.\n",
    "If you don't pass any arguements, it will get the cell table for all released experiments.  \n",
    "Optionally, you can pass a list of `ophys_experiment_id`s to get the cell table for a subset of experiments"
   ]
  },
  {
   "cell_type": "code",
   "execution_count": 3,
   "metadata": {},
   "outputs": [
    {
     "name": "stderr",
     "output_type": "stream",
     "text": [
      "ophys_session_table.csv: 100%|██████████| 165k/165k [00:00<00:00, 1.32MMB/s]\n",
      "behavior_session_table.csv: 100%|██████████| 885k/885k [00:00<00:00, 3.47MMB/s] \n",
      "ophys_experiment_table.csv: 100%|██████████| 336k/336k [00:00<00:00, 2.27MMB/s]\n"
     ]
    }
   ],
   "source": [
    "cell_table = loading.get_cell_table()"
   ]
  },
  {
   "cell_type": "code",
   "execution_count": 4,
   "metadata": {},
   "outputs": [
    {
     "data": {
      "text/plain": [
       "92209"
      ]
     },
     "execution_count": 4,
     "metadata": {},
     "output_type": "execute_result"
    }
   ],
   "source": [
    "len(cell_table)"
   ]
  },
  {
   "cell_type": "code",
   "execution_count": 7,
   "metadata": {},
   "outputs": [
    {
     "data": {
      "text/html": [
       "<div>\n",
       "<style scoped>\n",
       "    .dataframe tbody tr th:only-of-type {\n",
       "        vertical-align: middle;\n",
       "    }\n",
       "\n",
       "    .dataframe tbody tr th {\n",
       "        vertical-align: top;\n",
       "    }\n",
       "\n",
       "    .dataframe thead th {\n",
       "        text-align: right;\n",
       "    }\n",
       "</style>\n",
       "<table border=\"1\" class=\"dataframe\">\n",
       "  <thead>\n",
       "    <tr style=\"text-align: right;\">\n",
       "      <th></th>\n",
       "      <th>cell_roi_id</th>\n",
       "      <th>cell_specimen_id</th>\n",
       "      <th>ophys_experiment_id</th>\n",
       "      <th>x</th>\n",
       "      <th>y</th>\n",
       "      <th>width</th>\n",
       "      <th>height</th>\n",
       "      <th>valid_roi</th>\n",
       "      <th>mask_matrix</th>\n",
       "      <th>max_correction_up</th>\n",
       "      <th>max_correction_down</th>\n",
       "      <th>max_correction_right</th>\n",
       "      <th>max_correction_left</th>\n",
       "      <th>mask_image_plane</th>\n",
       "      <th>ophys_cell_segmentation_run_id</th>\n",
       "    </tr>\n",
       "  </thead>\n",
       "  <tbody>\n",
       "    <tr>\n",
       "      <th>29671</th>\n",
       "      <td>1080880535</td>\n",
       "      <td>1086671328</td>\n",
       "      <td>885067826</td>\n",
       "      <td>20</td>\n",
       "      <td>378</td>\n",
       "      <td>19</td>\n",
       "      <td>23</td>\n",
       "      <td>True</td>\n",
       "      <td>[[False, False, False, True, True, False, Fals...</td>\n",
       "      <td>10.0</td>\n",
       "      <td>8.0</td>\n",
       "      <td>6.0</td>\n",
       "      <td>16.0</td>\n",
       "      <td>1</td>\n",
       "      <td>1080726826</td>\n",
       "    </tr>\n",
       "    <tr>\n",
       "      <th>55911</th>\n",
       "      <td>1080746547</td>\n",
       "      <td>1086612815</td>\n",
       "      <td>944115804</td>\n",
       "      <td>302</td>\n",
       "      <td>314</td>\n",
       "      <td>15</td>\n",
       "      <td>15</td>\n",
       "      <td>True</td>\n",
       "      <td>[[False, False, False, False, False, False, Fa...</td>\n",
       "      <td>14.0</td>\n",
       "      <td>7.0</td>\n",
       "      <td>6.0</td>\n",
       "      <td>8.0</td>\n",
       "      <td>0</td>\n",
       "      <td>1080677241</td>\n",
       "    </tr>\n",
       "    <tr>\n",
       "      <th>67268</th>\n",
       "      <td>1080750977</td>\n",
       "      <td>1086621772</td>\n",
       "      <td>973927944</td>\n",
       "      <td>419</td>\n",
       "      <td>70</td>\n",
       "      <td>13</td>\n",
       "      <td>17</td>\n",
       "      <td>True</td>\n",
       "      <td>[[False, False, False, True, True, True, True,...</td>\n",
       "      <td>9.0</td>\n",
       "      <td>18.0</td>\n",
       "      <td>13.0</td>\n",
       "      <td>11.0</td>\n",
       "      <td>0</td>\n",
       "      <td>1080679835</td>\n",
       "    </tr>\n",
       "    <tr>\n",
       "      <th>16977</th>\n",
       "      <td>1080875717</td>\n",
       "      <td>1086537660</td>\n",
       "      <td>856096766</td>\n",
       "      <td>205</td>\n",
       "      <td>107</td>\n",
       "      <td>21</td>\n",
       "      <td>24</td>\n",
       "      <td>True</td>\n",
       "      <td>[[False, False, False, False, False, False, Fa...</td>\n",
       "      <td>15.0</td>\n",
       "      <td>17.0</td>\n",
       "      <td>16.0</td>\n",
       "      <td>30.0</td>\n",
       "      <td>1</td>\n",
       "      <td>1080785783</td>\n",
       "    </tr>\n",
       "    <tr>\n",
       "      <th>20440</th>\n",
       "      <td>1080884452</td>\n",
       "      <td>1086666681</td>\n",
       "      <td>875045489</td>\n",
       "      <td>43</td>\n",
       "      <td>461</td>\n",
       "      <td>17</td>\n",
       "      <td>17</td>\n",
       "      <td>True</td>\n",
       "      <td>[[False, False, False, False, True, False, Fal...</td>\n",
       "      <td>5.0</td>\n",
       "      <td>8.0</td>\n",
       "      <td>8.0</td>\n",
       "      <td>7.0</td>\n",
       "      <td>0</td>\n",
       "      <td>1080772389</td>\n",
       "    </tr>\n",
       "  </tbody>\n",
       "</table>\n",
       "</div>"
      ],
      "text/plain": [
       "       cell_roi_id  cell_specimen_id  ophys_experiment_id    x    y  width  \\\n",
       "29671   1080880535        1086671328            885067826   20  378     19   \n",
       "55911   1080746547        1086612815            944115804  302  314     15   \n",
       "67268   1080750977        1086621772            973927944  419   70     13   \n",
       "16977   1080875717        1086537660            856096766  205  107     21   \n",
       "20440   1080884452        1086666681            875045489   43  461     17   \n",
       "\n",
       "       height  valid_roi                                        mask_matrix  \\\n",
       "29671      23       True  [[False, False, False, True, True, False, Fals...   \n",
       "55911      15       True  [[False, False, False, False, False, False, Fa...   \n",
       "67268      17       True  [[False, False, False, True, True, True, True,...   \n",
       "16977      24       True  [[False, False, False, False, False, False, Fa...   \n",
       "20440      17       True  [[False, False, False, False, True, False, Fal...   \n",
       "\n",
       "       max_correction_up  max_correction_down  max_correction_right  \\\n",
       "29671               10.0                  8.0                   6.0   \n",
       "55911               14.0                  7.0                   6.0   \n",
       "67268                9.0                 18.0                  13.0   \n",
       "16977               15.0                 17.0                  16.0   \n",
       "20440                5.0                  8.0                   8.0   \n",
       "\n",
       "       max_correction_left  mask_image_plane  ophys_cell_segmentation_run_id  \n",
       "29671                 16.0                 1                      1080726826  \n",
       "55911                  8.0                 0                      1080677241  \n",
       "67268                 11.0                 0                      1080679835  \n",
       "16977                 30.0                 1                      1080785783  \n",
       "20440                  7.0                 0                      1080772389  "
      ]
     },
     "execution_count": 7,
     "metadata": {},
     "output_type": "execute_result"
    }
   ],
   "source": [
    "cell_table.sample(5)"
   ]
  },
  {
   "cell_type": "markdown",
   "metadata": {},
   "source": [
    "## quick cell matching example \n",
    "Here's one method for getting matched cells across experiments. We'll simply get the intersection of two sets.  \n",
    "\n",
    "### First we will get the experiment table"
   ]
  },
  {
   "cell_type": "code",
   "execution_count": 8,
   "metadata": {},
   "outputs": [],
   "source": [
    "from allensdk.brain_observatory.behavior.behavior_project_cache import VisualBehaviorOphysProjectCache as bpc\n",
    "\n",
    "data_storage_directory = '/allen/programs/braintv/workgroups/nc-ophys/visual_behavior/production_cache'\n",
    "\n",
    "cache = bpc.from_s3_cache(cache_dir=data_storage_directory)\n",
    "experiment_table = cache.get_ophys_experiment_table()"
   ]
  },
  {
   "cell_type": "markdown",
   "metadata": {},
   "source": [
    "### Then randomly select one mouse"
   ]
  },
  {
   "cell_type": "code",
   "execution_count": 11,
   "metadata": {},
   "outputs": [],
   "source": [
    "mouse_id = experiment_table.sample(random_state=0).iloc[0]['mouse_id']"
   ]
  },
  {
   "cell_type": "markdown",
   "metadata": {},
   "source": [
    "### Then get all experiments for this mouse"
   ]
  },
  {
   "cell_type": "code",
   "execution_count": 17,
   "metadata": {},
   "outputs": [
    {
     "data": {
      "text/html": [
       "<div>\n",
       "<style scoped>\n",
       "    .dataframe tbody tr th:only-of-type {\n",
       "        vertical-align: middle;\n",
       "    }\n",
       "\n",
       "    .dataframe tbody tr th {\n",
       "        vertical-align: top;\n",
       "    }\n",
       "\n",
       "    .dataframe thead th {\n",
       "        text-align: right;\n",
       "    }\n",
       "</style>\n",
       "<table border=\"1\" class=\"dataframe\">\n",
       "  <thead>\n",
       "    <tr style=\"text-align: right;\">\n",
       "      <th></th>\n",
       "      <th>equipment_name</th>\n",
       "      <th>full_genotype</th>\n",
       "      <th>mouse_id</th>\n",
       "      <th>reporter_line</th>\n",
       "      <th>driver_line</th>\n",
       "      <th>sex</th>\n",
       "      <th>age_in_days</th>\n",
       "      <th>cre_line</th>\n",
       "      <th>indicator</th>\n",
       "      <th>session_number</th>\n",
       "      <th>prior_exposures_to_session_type</th>\n",
       "      <th>prior_exposures_to_image_set</th>\n",
       "      <th>prior_exposures_to_omissions</th>\n",
       "      <th>ophys_session_id</th>\n",
       "      <th>behavior_session_id</th>\n",
       "      <th>ophys_container_id</th>\n",
       "      <th>project_code</th>\n",
       "      <th>imaging_depth</th>\n",
       "      <th>targeted_structure</th>\n",
       "      <th>date_of_acquisition</th>\n",
       "      <th>session_type</th>\n",
       "      <th>file_id</th>\n",
       "    </tr>\n",
       "    <tr>\n",
       "      <th>ophys_experiment_id</th>\n",
       "      <th></th>\n",
       "      <th></th>\n",
       "      <th></th>\n",
       "      <th></th>\n",
       "      <th></th>\n",
       "      <th></th>\n",
       "      <th></th>\n",
       "      <th></th>\n",
       "      <th></th>\n",
       "      <th></th>\n",
       "      <th></th>\n",
       "      <th></th>\n",
       "      <th></th>\n",
       "      <th></th>\n",
       "      <th></th>\n",
       "      <th></th>\n",
       "      <th></th>\n",
       "      <th></th>\n",
       "      <th></th>\n",
       "      <th></th>\n",
       "      <th></th>\n",
       "      <th></th>\n",
       "    </tr>\n",
       "  </thead>\n",
       "  <tbody>\n",
       "    <tr>\n",
       "      <th>792813858</th>\n",
       "      <td>CAM2P.4</td>\n",
       "      <td>Slc17a7-IRES2-Cre/wt;Camk2a-tTA/wt;Ai93(TITL-G...</td>\n",
       "      <td>412366</td>\n",
       "      <td>Ai93(TITL-GCaMP6f)</td>\n",
       "      <td>[Slc17a7-IRES2-Cre, Camk2a-tTA]</td>\n",
       "      <td>F</td>\n",
       "      <td>147.0</td>\n",
       "      <td>Slc17a7-IRES2-Cre</td>\n",
       "      <td>GCaMP6f</td>\n",
       "      <td>1.0</td>\n",
       "      <td>0</td>\n",
       "      <td>11.0</td>\n",
       "      <td>1</td>\n",
       "      <td>792327341</td>\n",
       "      <td>792477679</td>\n",
       "      <td>814796612</td>\n",
       "      <td>VisualBehavior</td>\n",
       "      <td>375</td>\n",
       "      <td>VISp</td>\n",
       "      <td>2018-12-10 16:34:08.000000</td>\n",
       "      <td>OPHYS_1_images_A</td>\n",
       "      <td>859689264</td>\n",
       "    </tr>\n",
       "    <tr>\n",
       "      <th>794381992</th>\n",
       "      <td>CAM2P.4</td>\n",
       "      <td>Slc17a7-IRES2-Cre/wt;Camk2a-tTA/wt;Ai93(TITL-G...</td>\n",
       "      <td>412366</td>\n",
       "      <td>Ai93(TITL-GCaMP6f)</td>\n",
       "      <td>[Slc17a7-IRES2-Cre, Camk2a-tTA]</td>\n",
       "      <td>F</td>\n",
       "      <td>149.0</td>\n",
       "      <td>Slc17a7-IRES2-Cre</td>\n",
       "      <td>GCaMP6f</td>\n",
       "      <td>3.0</td>\n",
       "      <td>0</td>\n",
       "      <td>13.0</td>\n",
       "      <td>3</td>\n",
       "      <td>793857113</td>\n",
       "      <td>794071128</td>\n",
       "      <td>814796612</td>\n",
       "      <td>VisualBehavior</td>\n",
       "      <td>375</td>\n",
       "      <td>VISp</td>\n",
       "      <td>2018-12-12 16:00:43.000000</td>\n",
       "      <td>OPHYS_3_images_A</td>\n",
       "      <td>859689227</td>\n",
       "    </tr>\n",
       "    <tr>\n",
       "      <th>795076128</th>\n",
       "      <td>CAM2P.4</td>\n",
       "      <td>Slc17a7-IRES2-Cre/wt;Camk2a-tTA/wt;Ai93(TITL-G...</td>\n",
       "      <td>412366</td>\n",
       "      <td>Ai93(TITL-GCaMP6f)</td>\n",
       "      <td>[Slc17a7-IRES2-Cre, Camk2a-tTA]</td>\n",
       "      <td>F</td>\n",
       "      <td>150.0</td>\n",
       "      <td>Slc17a7-IRES2-Cre</td>\n",
       "      <td>GCaMP6f</td>\n",
       "      <td>4.0</td>\n",
       "      <td>0</td>\n",
       "      <td>0.0</td>\n",
       "      <td>4</td>\n",
       "      <td>794474159</td>\n",
       "      <td>794673280</td>\n",
       "      <td>814796612</td>\n",
       "      <td>VisualBehavior</td>\n",
       "      <td>375</td>\n",
       "      <td>VISp</td>\n",
       "      <td>2018-12-13 15:42:47.000000</td>\n",
       "      <td>OPHYS_4_images_B</td>\n",
       "      <td>859689336</td>\n",
       "    </tr>\n",
       "    <tr>\n",
       "      <th>795952471</th>\n",
       "      <td>CAM2P.4</td>\n",
       "      <td>Slc17a7-IRES2-Cre/wt;Camk2a-tTA/wt;Ai93(TITL-G...</td>\n",
       "      <td>412366</td>\n",
       "      <td>Ai93(TITL-GCaMP6f)</td>\n",
       "      <td>[Slc17a7-IRES2-Cre, Camk2a-tTA]</td>\n",
       "      <td>F</td>\n",
       "      <td>151.0</td>\n",
       "      <td>Slc17a7-IRES2-Cre</td>\n",
       "      <td>GCaMP6f</td>\n",
       "      <td>5.0</td>\n",
       "      <td>0</td>\n",
       "      <td>1.0</td>\n",
       "      <td>5</td>\n",
       "      <td>795217244</td>\n",
       "      <td>795431009</td>\n",
       "      <td>814796612</td>\n",
       "      <td>VisualBehavior</td>\n",
       "      <td>375</td>\n",
       "      <td>VISp</td>\n",
       "      <td>2018-12-14 16:14:12.000000</td>\n",
       "      <td>OPHYS_5_images_B_passive</td>\n",
       "      <td>859685777</td>\n",
       "    </tr>\n",
       "    <tr>\n",
       "      <th>796105304</th>\n",
       "      <td>CAM2P.4</td>\n",
       "      <td>Slc17a7-IRES2-Cre/wt;Camk2a-tTA/wt;Ai93(TITL-G...</td>\n",
       "      <td>412366</td>\n",
       "      <td>Ai93(TITL-GCaMP6f)</td>\n",
       "      <td>[Slc17a7-IRES2-Cre, Camk2a-tTA]</td>\n",
       "      <td>F</td>\n",
       "      <td>152.0</td>\n",
       "      <td>Slc17a7-IRES2-Cre</td>\n",
       "      <td>GCaMP6f</td>\n",
       "      <td>6.0</td>\n",
       "      <td>0</td>\n",
       "      <td>2.0</td>\n",
       "      <td>6</td>\n",
       "      <td>796019065</td>\n",
       "      <td>796031509</td>\n",
       "      <td>814796612</td>\n",
       "      <td>VisualBehavior</td>\n",
       "      <td>375</td>\n",
       "      <td>VISp</td>\n",
       "      <td>2018-12-15 16:59:41.000000</td>\n",
       "      <td>OPHYS_6_images_B</td>\n",
       "      <td>859681089</td>\n",
       "    </tr>\n",
       "    <tr>\n",
       "      <th>797255551</th>\n",
       "      <td>CAM2P.4</td>\n",
       "      <td>Slc17a7-IRES2-Cre/wt;Camk2a-tTA/wt;Ai93(TITL-G...</td>\n",
       "      <td>412366</td>\n",
       "      <td>Ai93(TITL-GCaMP6f)</td>\n",
       "      <td>[Slc17a7-IRES2-Cre, Camk2a-tTA]</td>\n",
       "      <td>F</td>\n",
       "      <td>154.0</td>\n",
       "      <td>Slc17a7-IRES2-Cre</td>\n",
       "      <td>GCaMP6f</td>\n",
       "      <td>2.0</td>\n",
       "      <td>1</td>\n",
       "      <td>14.0</td>\n",
       "      <td>7</td>\n",
       "      <td>797078933</td>\n",
       "      <td>797170547</td>\n",
       "      <td>814796612</td>\n",
       "      <td>VisualBehavior</td>\n",
       "      <td>375</td>\n",
       "      <td>VISp</td>\n",
       "      <td>2018-12-17 23:37:12.000000</td>\n",
       "      <td>OPHYS_2_images_A_passive</td>\n",
       "      <td>859689353</td>\n",
       "    </tr>\n",
       "  </tbody>\n",
       "</table>\n",
       "</div>"
      ],
      "text/plain": [
       "                    equipment_name  \\\n",
       "ophys_experiment_id                  \n",
       "792813858                  CAM2P.4   \n",
       "794381992                  CAM2P.4   \n",
       "795076128                  CAM2P.4   \n",
       "795952471                  CAM2P.4   \n",
       "796105304                  CAM2P.4   \n",
       "797255551                  CAM2P.4   \n",
       "\n",
       "                                                         full_genotype  \\\n",
       "ophys_experiment_id                                                      \n",
       "792813858            Slc17a7-IRES2-Cre/wt;Camk2a-tTA/wt;Ai93(TITL-G...   \n",
       "794381992            Slc17a7-IRES2-Cre/wt;Camk2a-tTA/wt;Ai93(TITL-G...   \n",
       "795076128            Slc17a7-IRES2-Cre/wt;Camk2a-tTA/wt;Ai93(TITL-G...   \n",
       "795952471            Slc17a7-IRES2-Cre/wt;Camk2a-tTA/wt;Ai93(TITL-G...   \n",
       "796105304            Slc17a7-IRES2-Cre/wt;Camk2a-tTA/wt;Ai93(TITL-G...   \n",
       "797255551            Slc17a7-IRES2-Cre/wt;Camk2a-tTA/wt;Ai93(TITL-G...   \n",
       "\n",
       "                     mouse_id       reporter_line  \\\n",
       "ophys_experiment_id                                 \n",
       "792813858              412366  Ai93(TITL-GCaMP6f)   \n",
       "794381992              412366  Ai93(TITL-GCaMP6f)   \n",
       "795076128              412366  Ai93(TITL-GCaMP6f)   \n",
       "795952471              412366  Ai93(TITL-GCaMP6f)   \n",
       "796105304              412366  Ai93(TITL-GCaMP6f)   \n",
       "797255551              412366  Ai93(TITL-GCaMP6f)   \n",
       "\n",
       "                                         driver_line sex  age_in_days  \\\n",
       "ophys_experiment_id                                                     \n",
       "792813858            [Slc17a7-IRES2-Cre, Camk2a-tTA]   F        147.0   \n",
       "794381992            [Slc17a7-IRES2-Cre, Camk2a-tTA]   F        149.0   \n",
       "795076128            [Slc17a7-IRES2-Cre, Camk2a-tTA]   F        150.0   \n",
       "795952471            [Slc17a7-IRES2-Cre, Camk2a-tTA]   F        151.0   \n",
       "796105304            [Slc17a7-IRES2-Cre, Camk2a-tTA]   F        152.0   \n",
       "797255551            [Slc17a7-IRES2-Cre, Camk2a-tTA]   F        154.0   \n",
       "\n",
       "                              cre_line indicator  session_number  \\\n",
       "ophys_experiment_id                                                \n",
       "792813858            Slc17a7-IRES2-Cre   GCaMP6f             1.0   \n",
       "794381992            Slc17a7-IRES2-Cre   GCaMP6f             3.0   \n",
       "795076128            Slc17a7-IRES2-Cre   GCaMP6f             4.0   \n",
       "795952471            Slc17a7-IRES2-Cre   GCaMP6f             5.0   \n",
       "796105304            Slc17a7-IRES2-Cre   GCaMP6f             6.0   \n",
       "797255551            Slc17a7-IRES2-Cre   GCaMP6f             2.0   \n",
       "\n",
       "                     prior_exposures_to_session_type  \\\n",
       "ophys_experiment_id                                    \n",
       "792813858                                          0   \n",
       "794381992                                          0   \n",
       "795076128                                          0   \n",
       "795952471                                          0   \n",
       "796105304                                          0   \n",
       "797255551                                          1   \n",
       "\n",
       "                     prior_exposures_to_image_set  \\\n",
       "ophys_experiment_id                                 \n",
       "792813858                                    11.0   \n",
       "794381992                                    13.0   \n",
       "795076128                                     0.0   \n",
       "795952471                                     1.0   \n",
       "796105304                                     2.0   \n",
       "797255551                                    14.0   \n",
       "\n",
       "                     prior_exposures_to_omissions  ophys_session_id  \\\n",
       "ophys_experiment_id                                                   \n",
       "792813858                                       1         792327341   \n",
       "794381992                                       3         793857113   \n",
       "795076128                                       4         794474159   \n",
       "795952471                                       5         795217244   \n",
       "796105304                                       6         796019065   \n",
       "797255551                                       7         797078933   \n",
       "\n",
       "                     behavior_session_id  ophys_container_id    project_code  \\\n",
       "ophys_experiment_id                                                            \n",
       "792813858                      792477679           814796612  VisualBehavior   \n",
       "794381992                      794071128           814796612  VisualBehavior   \n",
       "795076128                      794673280           814796612  VisualBehavior   \n",
       "795952471                      795431009           814796612  VisualBehavior   \n",
       "796105304                      796031509           814796612  VisualBehavior   \n",
       "797255551                      797170547           814796612  VisualBehavior   \n",
       "\n",
       "                     imaging_depth targeted_structure  \\\n",
       "ophys_experiment_id                                     \n",
       "792813858                      375               VISp   \n",
       "794381992                      375               VISp   \n",
       "795076128                      375               VISp   \n",
       "795952471                      375               VISp   \n",
       "796105304                      375               VISp   \n",
       "797255551                      375               VISp   \n",
       "\n",
       "                            date_of_acquisition              session_type  \\\n",
       "ophys_experiment_id                                                         \n",
       "792813858            2018-12-10 16:34:08.000000          OPHYS_1_images_A   \n",
       "794381992            2018-12-12 16:00:43.000000          OPHYS_3_images_A   \n",
       "795076128            2018-12-13 15:42:47.000000          OPHYS_4_images_B   \n",
       "795952471            2018-12-14 16:14:12.000000  OPHYS_5_images_B_passive   \n",
       "796105304            2018-12-15 16:59:41.000000          OPHYS_6_images_B   \n",
       "797255551            2018-12-17 23:37:12.000000  OPHYS_2_images_A_passive   \n",
       "\n",
       "                       file_id  \n",
       "ophys_experiment_id             \n",
       "792813858            859689264  \n",
       "794381992            859689227  \n",
       "795076128            859689336  \n",
       "795952471            859685777  \n",
       "796105304            859681089  \n",
       "797255551            859689353  "
      ]
     },
     "execution_count": 17,
     "metadata": {},
     "output_type": "execute_result"
    }
   ],
   "source": [
    "sessions = experiment_table.query('mouse_id == @mouse_id').sort_values(by='date_of_acquisition')\n",
    "sessions"
   ]
  },
  {
   "cell_type": "markdown",
   "metadata": {},
   "source": [
    "### Then select the first two experiments\n",
    "We will find all matching cells across these two experiments"
   ]
  },
  {
   "cell_type": "code",
   "execution_count": 19,
   "metadata": {},
   "outputs": [
    {
     "data": {
      "text/plain": [
       "Int64Index([792813858, 794381992], dtype='int64', name='ophys_experiment_id')"
      ]
     },
     "execution_count": 19,
     "metadata": {},
     "output_type": "execute_result"
    }
   ],
   "source": [
    "experiment_ids_to_match = sessions.index[:2]\n",
    "experiment_ids_to_match"
   ]
  },
  {
   "cell_type": "markdown",
   "metadata": {},
   "source": [
    "### Get the `cell_specimen_id`s for both of our experiments of interest, print the counts"
   ]
  },
  {
   "cell_type": "code",
   "execution_count": 24,
   "metadata": {},
   "outputs": [
    {
     "name": "stdout",
     "output_type": "stream",
     "text": [
      "there are 208 cells in exp 792813858 and 199 cells in exp 794381992\n"
     ]
    }
   ],
   "source": [
    "cells_in_exp_0 = cell_table.query('ophys_experiment_id == {}'.format(experiment_ids_to_match[0]))['cell_specimen_id']\n",
    "cells_in_exp_1 = cell_table.query('ophys_experiment_id == {}'.format(experiment_ids_to_match[1]))['cell_specimen_id']\n",
    "\n",
    "print('there are {} cells in exp {} and {} cells in exp {}'.format(\n",
    "    len(cells_in_exp_0), \n",
    "    experiment_ids_to_match[0],\n",
    "    len(cells_in_exp_1),\n",
    "    experiment_ids_to_match[1],\n",
    "))"
   ]
  },
  {
   "cell_type": "markdown",
   "metadata": {},
   "source": [
    "### Get the number of matched cells\n",
    "Matched cells are the intersection of the two sets"
   ]
  },
  {
   "cell_type": "code",
   "execution_count": 28,
   "metadata": {},
   "outputs": [
    {
     "name": "stdout",
     "output_type": "stream",
     "text": [
      "there are 148 matched cells across these two experiments\n"
     ]
    }
   ],
   "source": [
    "matched_cells = set(cells_in_exp_0).intersection(set(cells_in_exp_1))\n",
    "print('there are {} matched cells across these two experiments'.format(len(matched_cells)))"
   ]
  },
  {
   "cell_type": "markdown",
   "metadata": {},
   "source": [
    "### Print the full set of matched cells"
   ]
  },
  {
   "cell_type": "code",
   "execution_count": 29,
   "metadata": {},
   "outputs": [
    {
     "name": "stdout",
     "output_type": "stream",
     "text": [
      "{1086536704, 1086535168, 1086537218, 1086508544, 1086539275, 1086512140, 1086505486, 1086495246, 1086495762, 1086506005, 1086502426, 1086521373, 1086524448, 1086512680, 1086497322, 1086518828, 1086528046, 1086523438, 1086521907, 1086540341, 1086496822, 1086507576, 1086499901, 1086539840, 1086506561, 1086497861, 1086534214, 1086501958, 1086500430, 1086495828, 1086516823, 1086538330, 1086503013, 1086528616, 1086499433, 1086496361, 1086525033, 1086514795, 1086509168, 1086504560, 1086510196, 1086522998, 1086501497, 1086511235, 1086494852, 1086505098, 1086533776, 1086514329, 1086498971, 1086503069, 1086500001, 1086532769, 1086519977, 1086507180, 1086539950, 1086505653, 1086496440, 1086530232, 1086496955, 1086503614, 1086495935, 1086526146, 1086524622, 1086539471, 1086529744, 1086515918, 1086506194, 1086527192, 1086511833, 1086496761, 1086500576, 1086495461, 1086528229, 1086502634, 1086529260, 1086536430, 1086499074, 1086528777, 1086514958, 1086497041, 1086509330, 1086503191, 1086496536, 1086538010, 1086507806, 1086501157, 1086521644, 1086508334, 1086516532, 1086510397, 1086512452, 1086505287, 1086530896, 1086514517, 1086520153, 1086525275, 1086532444, 1086537053, 1086523744, 1086539623, 1086500722, 1086532979, 1086501239, 1086496632, 1086537599, 1086500224, 1086496132, 1086521221, 1086498185, 1086520713, 1086502795, 1086528400, 1086506897, 1086514068, 1086513044, 1086531993, 1086508446, 1086534560, 1086509984, 1086519202, 1086499240, 1086497200, 1086530487, 1086528953, 1086516665, 1086503867, 1086504386, 1086541251, 1086499782, 1086509512, 1086540754, 1086533586, 1086532565, 1086500824, 1086497753, 1086511580, 1086519773, 1086515676, 1086535649, 1086524899, 1086498789, 1086509030, 1086501866, 1086498285, 1086518255, 1086501363, 1086510581, 1086516217}\n"
     ]
    }
   ],
   "source": [
    "print(matched_cells)"
   ]
  },
  {
   "cell_type": "code",
   "execution_count": 31,
   "metadata": {},
   "outputs": [],
   "source": [
    "import os\n",
    "savedir = '/allen/programs/braintv/workgroups/nc-ophys/visual_behavior/production_cache'\n",
    "cell_table.to_csv(os.path.join(savedir, 'cell_table.csv'), index=False)"
   ]
  },
  {
   "cell_type": "code",
   "execution_count": null,
   "metadata": {},
   "outputs": [],
   "source": []
  }
 ],
 "metadata": {
  "kernelspec": {
   "display_name": "vba",
   "language": "python",
   "name": "vba"
  },
  "language_info": {
   "codemirror_mode": {
    "name": "ipython",
    "version": 3
   },
   "file_extension": ".py",
   "mimetype": "text/x-python",
   "name": "python",
   "nbconvert_exporter": "python",
   "pygments_lexer": "ipython3",
   "version": "3.8.8"
  }
 },
 "nbformat": 4,
 "nbformat_minor": 4
}
