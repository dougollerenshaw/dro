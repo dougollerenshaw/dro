{
 "cells": [
  {
   "cell_type": "code",
   "execution_count": 1,
   "metadata": {},
   "outputs": [
    {
     "name": "stderr",
     "output_type": "stream",
     "text": [
      "/home/dougo/Code/AllenSDK/allensdk/brain_observatory/behavior/behavior_ophys_api/behavior_ophys_nwb_api.py:9: FutureWarning: pandas.util.testing is deprecated. Use the functions in the public API at pandas.testing instead.\n",
      "  from pandas.util.testing import assert_frame_equal\n"
     ]
    },
    {
     "name": "stdout",
     "output_type": "stream",
     "text": [
      "imported:\n",
      "\tos\n",
      "\tpandas as pd\n",
      "\tnumpy as np\n",
      "\tmatplotlib.pyplot as plt\n"
     ]
    },
    {
     "data": {
      "text/html": [
       "<style>.container { width:100% !important; }</style>"
      ],
      "text/plain": [
       "<IPython.core.display.HTML object>"
      ]
     },
     "metadata": {},
     "output_type": "display_data"
    }
   ],
   "source": [
    "from allensdk.internal.api import PostgresQueryMixin\n",
    "from allensdk.core.authentication import credential_injector\n",
    "from allensdk.core.auth_config import LIMS_DB_CREDENTIAL_MAP\n",
    "\n",
    "from visual_behavior import database as db\n",
    "from multiprocessing import Pool\n",
    "\n",
    "from allensdk.brain_observatory.behavior.behavior_project_cache import BehaviorProjectCache as bpc\n",
    "\n",
    "%standard_imports\n",
    "%widescreen"
   ]
  },
  {
   "cell_type": "code",
   "execution_count": 2,
   "metadata": {},
   "outputs": [],
   "source": [
    "def lims_query(query):\n",
    "    api = (credential_injector(LIMS_DB_CREDENTIAL_MAP)(PostgresQueryMixin)())\n",
    "    conn = api.get_connection()\n",
    "    cur = conn.cursor()\n",
    "\n",
    "    df = pd.read_sql(query, conn)\n",
    "\n",
    "    conn.close()\n",
    "\n",
    "    return df"
   ]
  },
  {
   "cell_type": "code",
   "execution_count": 3,
   "metadata": {},
   "outputs": [],
   "source": [
    "def get_epoch(event_time, epoch_length = 10, initial_time = 0):\n",
    "    return np.floor((event_time - initial_time)/(60*epoch_length))*epoch_length"
   ]
  },
  {
   "cell_type": "code",
   "execution_count": 4,
   "metadata": {},
   "outputs": [],
   "source": [
    "def get_bsid(foraging_id):\n",
    "    query = \"select id from behavior_sessions where foraging_id = '{}'\".format(foraging_id)\n",
    "    return lims_query(query).values[0][0]"
   ]
  },
  {
   "cell_type": "code",
   "execution_count": 5,
   "metadata": {},
   "outputs": [],
   "source": [
    "query = 'select id,foraging_id from behavior_sessions'\n",
    "bsids = lims_query(query).rename(columns={'id':'behavior_session_id'}).set_index('behavior_session_id')"
   ]
  },
  {
   "cell_type": "code",
   "execution_count": 6,
   "metadata": {},
   "outputs": [],
   "source": [
    "flash_labels_path = '//allen/programs/braintv/workgroups/nc-ophys/alex.piet/behavior/model_output'\n",
    "epoch_labels_path = '//allen/programs/braintv/workgroups/nc-ophys/visual_behavior/behavioral_state_characterization/motivation_states_by_epoch.2020.04.09.csv'\n",
    "session_labels_path = '//allen/programs/braintv/workgroups/ophysdev/OPhysCore/operator_files/sam_seid/DataAnalysis/Output/20200413_sam_clusterlabels.pkl'"
   ]
  },
  {
   "cell_type": "code",
   "execution_count": 7,
   "metadata": {},
   "outputs": [],
   "source": [
    "session_labels = pd.read_pickle(session_labels_path).rename(columns={\n",
    "    'behavior_id':'behavior_session_id',\n",
    "    'cluster':'session_cluster_id',\n",
    "    'profile':'session_cluster_name',\n",
    "})"
   ]
  },
  {
   "cell_type": "code",
   "execution_count": 8,
   "metadata": {},
   "outputs": [],
   "source": [
    "epoch_labels = pd.read_csv(epoch_labels_path)\n",
    "bsids = lims_query('select id,foraging_id from behavior_sessions').rename(columns={'id':'behavior_session_id'})\n",
    "epoch_labels = epoch_labels.merge(\n",
    "    bsids,\n",
    "    left_on = 'behavior_session_uuid',\n",
    "    right_on = 'foraging_id',\n",
    "    how = 'left'\n",
    ")"
   ]
  },
  {
   "cell_type": "code",
   "execution_count": 9,
   "metadata": {},
   "outputs": [],
   "source": [
    "flash_labels_summary = pd.read_csv(os.path.join(flash_labels_path, '_summary_table.csv'))"
   ]
  },
  {
   "cell_type": "code",
   "execution_count": 16,
   "metadata": {},
   "outputs": [],
   "source": [
    "MANIFEST_PATH = \"//allen/programs/braintv/workgroups/nc-ophys/visual_behavior/2020_cache/production_cache_1/manifest.json\"\n",
    "cache = bpc.from_lims(manifest=MANIFEST_PATH)"
   ]
  },
  {
   "cell_type": "code",
   "execution_count": 11,
   "metadata": {},
   "outputs": [],
   "source": [
    "def load_flashwise_model_weights(behavior_session_id):\n",
    "    df = pd.read_csv(os.path.join(flash_labels_path,'{}.csv'.format(behavior_session_id)),index_col='stimulus_presentations_id')\n",
    "    bs = cache.get_behavior_session_data(behavior_session_id)\n",
    "    df = df.merge(\n",
    "        bs.stimulus_presentations[['start_time','start_frame','stop_time']],\n",
    "        left_index=True,\n",
    "        right_index=True,\n",
    "    )\n",
    "    initial_time = df['start_time'].min()\n",
    "    df['epoch'] = df['start_time'].map(lambda start_time: get_epoch(start_time, epoch_length=10, initial_time=initial_time))\n",
    "    df['behavior_session_id'] = behavior_session_id\n",
    "    \n",
    "    return df"
   ]
  },
  {
   "cell_type": "code",
   "execution_count": 12,
   "metadata": {},
   "outputs": [],
   "source": [
    "def merge_in_epoch_labels(flashwise_df, epoch_labels):\n",
    "    flashwise_df = flashwise_df.merge(\n",
    "        epoch_labels[['behavior_session_id','epoch','criterion_negative','motivation_state']],\n",
    "        left_on = ['behavior_session_id','epoch'],\n",
    "        right_on = ['behavior_session_id','epoch'],\n",
    "        how='left'\n",
    "    )\n",
    "    \n",
    "    for col in ['criterion_negative','motivation_state']:\n",
    "        flashwise_df[col] = flashwise_df[col].fillna(method='ffill')\n",
    "        \n",
    "    return flashwise_df"
   ]
  },
  {
   "cell_type": "code",
   "execution_count": 13,
   "metadata": {},
   "outputs": [],
   "source": [
    "def merge_in_session_label(flashwise_df, session_labels):\n",
    "    flashwise_df = flashwise_df.merge(\n",
    "        session_labels,\n",
    "        left_on='behavior_session_id',\n",
    "        right_on='behavior_session_id',\n",
    "        how='left'\n",
    "    )\n",
    "    return flashwise_df"
   ]
  },
  {
   "cell_type": "markdown",
   "metadata": {},
   "source": [
    "==============="
   ]
  },
  {
   "cell_type": "code",
   "execution_count": 14,
   "metadata": {},
   "outputs": [],
   "source": [
    "def load_merge_cache(behavior_session_id):\n",
    "    flashwise_df = load_flashwise_model_weights(behavior_session_id)\n",
    "    flashwise_df = merge_in_epoch_labels(flashwise_df, epoch_labels)\n",
    "    flashwise_df = merge_in_session_label(flashwise_df, session_labels)\n",
    "\n",
    "    conn = db.Database('visual_behavior_data')\n",
    "    collection = conn['behavior_analysis']['annotated_stimulus_presentations']\n",
    "    for idx,row in flashwise_df.reset_index().rename(columns={'index':'flash_index'}).iterrows():\n",
    "        db.update_or_create(collection, db.simplify_entry(row), keys_to_check=['behavior_session_id','flash_index'])\n",
    "    conn.close()"
   ]
  },
  {
   "cell_type": "code",
   "execution_count": 17,
   "metadata": {},
   "outputs": [],
   "source": [
    "bsids = flash_labels_summary['behavior_session_id'].unique()\n",
    "load_merge_cache(bsids[0])"
   ]
  },
  {
   "cell_type": "code",
   "execution_count": 20,
   "metadata": {},
   "outputs": [
    {
     "ename": "EmptyDataError",
     "evalue": "No columns to parse from file",
     "output_type": "error",
     "traceback": [
      "\u001b[0;31m---------------------------------------------------------------------------\u001b[0m",
      "\u001b[0;31mRemoteTraceback\u001b[0m                           Traceback (most recent call last)",
      "\u001b[0;31mRemoteTraceback\u001b[0m: \n\"\"\"\nTraceback (most recent call last):\n  File \"/home/dougo/.conda/envs/visual_behavior/lib/python3.7/multiprocessing/pool.py\", line 121, in worker\n    result = (True, func(*args, **kwds))\n  File \"/home/dougo/.conda/envs/visual_behavior/lib/python3.7/multiprocessing/pool.py\", line 44, in mapstar\n    return list(map(*args))\n  File \"<ipython-input-14-81b0cec61f1b>\", line 2, in load_merge_cache\n    flashwise_df = load_flashwise_model_weights(behavior_session_id)\n  File \"<ipython-input-11-a1b34b2907e0>\", line 3, in load_flashwise_model_weights\n    bs = cache.get_behavior_session_data(behavior_session_id)\n  File \"/home/dougo/Code/AllenSDK/allensdk/brain_observatory/behavior/behavior_project_cache.py\", line 364, in get_behavior_session_data\n    read=fetch_session\n  File \"/home/dougo/Code/AllenSDK/allensdk/api/caching_utilities.py\", line 100, in call_caching\n    write(data)\n  File \"/home/dougo/Code/AllenSDK/allensdk/brain_observatory/behavior/behavior_project_cache.py\", line 386, in _write_log\n    record = (pd.read_csv(path, index_col=key_name)\n  File \"/home/dougo/.conda/envs/visual_behavior/lib/python3.7/site-packages/pandas/io/parsers.py\", line 676, in parser_f\n    return _read(filepath_or_buffer, kwds)\n  File \"/home/dougo/.conda/envs/visual_behavior/lib/python3.7/site-packages/pandas/io/parsers.py\", line 448, in _read\n    parser = TextFileReader(fp_or_buf, **kwds)\n  File \"/home/dougo/.conda/envs/visual_behavior/lib/python3.7/site-packages/pandas/io/parsers.py\", line 880, in __init__\n    self._make_engine(self.engine)\n  File \"/home/dougo/.conda/envs/visual_behavior/lib/python3.7/site-packages/pandas/io/parsers.py\", line 1114, in _make_engine\n    self._engine = CParserWrapper(self.f, **self.options)\n  File \"/home/dougo/.conda/envs/visual_behavior/lib/python3.7/site-packages/pandas/io/parsers.py\", line 1891, in __init__\n    self._reader = parsers.TextReader(src, **kwds)\n  File \"pandas/_libs/parsers.pyx\", line 532, in pandas._libs.parsers.TextReader.__cinit__\npandas.errors.EmptyDataError: No columns to parse from file\n\"\"\"",
      "\nThe above exception was the direct cause of the following exception:\n",
      "\u001b[0;31mEmptyDataError\u001b[0m                            Traceback (most recent call last)",
      "\u001b[0;32m<timed exec>\u001b[0m in \u001b[0;36m<module>\u001b[0;34m\u001b[0m\n",
      "\u001b[0;32m~/.conda/envs/visual_behavior/lib/python3.7/multiprocessing/pool.py\u001b[0m in \u001b[0;36mmap\u001b[0;34m(self, func, iterable, chunksize)\u001b[0m\n\u001b[1;32m    266\u001b[0m         \u001b[0;32min\u001b[0m \u001b[0ma\u001b[0m \u001b[0mlist\u001b[0m \u001b[0mthat\u001b[0m \u001b[0;32mis\u001b[0m \u001b[0mreturned\u001b[0m\u001b[0;34m.\u001b[0m\u001b[0;34m\u001b[0m\u001b[0;34m\u001b[0m\u001b[0m\n\u001b[1;32m    267\u001b[0m         '''\n\u001b[0;32m--> 268\u001b[0;31m         \u001b[0;32mreturn\u001b[0m \u001b[0mself\u001b[0m\u001b[0;34m.\u001b[0m\u001b[0m_map_async\u001b[0m\u001b[0;34m(\u001b[0m\u001b[0mfunc\u001b[0m\u001b[0;34m,\u001b[0m \u001b[0miterable\u001b[0m\u001b[0;34m,\u001b[0m \u001b[0mmapstar\u001b[0m\u001b[0;34m,\u001b[0m \u001b[0mchunksize\u001b[0m\u001b[0;34m)\u001b[0m\u001b[0;34m.\u001b[0m\u001b[0mget\u001b[0m\u001b[0;34m(\u001b[0m\u001b[0;34m)\u001b[0m\u001b[0;34m\u001b[0m\u001b[0;34m\u001b[0m\u001b[0m\n\u001b[0m\u001b[1;32m    269\u001b[0m \u001b[0;34m\u001b[0m\u001b[0m\n\u001b[1;32m    270\u001b[0m     \u001b[0;32mdef\u001b[0m \u001b[0mstarmap\u001b[0m\u001b[0;34m(\u001b[0m\u001b[0mself\u001b[0m\u001b[0;34m,\u001b[0m \u001b[0mfunc\u001b[0m\u001b[0;34m,\u001b[0m \u001b[0miterable\u001b[0m\u001b[0;34m,\u001b[0m \u001b[0mchunksize\u001b[0m\u001b[0;34m=\u001b[0m\u001b[0;32mNone\u001b[0m\u001b[0;34m)\u001b[0m\u001b[0;34m:\u001b[0m\u001b[0;34m\u001b[0m\u001b[0;34m\u001b[0m\u001b[0m\n",
      "\u001b[0;32m~/.conda/envs/visual_behavior/lib/python3.7/multiprocessing/pool.py\u001b[0m in \u001b[0;36mget\u001b[0;34m(self, timeout)\u001b[0m\n\u001b[1;32m    655\u001b[0m             \u001b[0;32mreturn\u001b[0m \u001b[0mself\u001b[0m\u001b[0;34m.\u001b[0m\u001b[0m_value\u001b[0m\u001b[0;34m\u001b[0m\u001b[0;34m\u001b[0m\u001b[0m\n\u001b[1;32m    656\u001b[0m         \u001b[0;32melse\u001b[0m\u001b[0;34m:\u001b[0m\u001b[0;34m\u001b[0m\u001b[0;34m\u001b[0m\u001b[0m\n\u001b[0;32m--> 657\u001b[0;31m             \u001b[0;32mraise\u001b[0m \u001b[0mself\u001b[0m\u001b[0;34m.\u001b[0m\u001b[0m_value\u001b[0m\u001b[0;34m\u001b[0m\u001b[0;34m\u001b[0m\u001b[0m\n\u001b[0m\u001b[1;32m    658\u001b[0m \u001b[0;34m\u001b[0m\u001b[0m\n\u001b[1;32m    659\u001b[0m     \u001b[0;32mdef\u001b[0m \u001b[0m_set\u001b[0m\u001b[0;34m(\u001b[0m\u001b[0mself\u001b[0m\u001b[0;34m,\u001b[0m \u001b[0mi\u001b[0m\u001b[0;34m,\u001b[0m \u001b[0mobj\u001b[0m\u001b[0;34m)\u001b[0m\u001b[0;34m:\u001b[0m\u001b[0;34m\u001b[0m\u001b[0;34m\u001b[0m\u001b[0m\n",
      "\u001b[0;31mEmptyDataError\u001b[0m: No columns to parse from file"
     ]
    }
   ],
   "source": [
    "%%time\n",
    "bsids = flash_labels_summary['behavior_session_id'].unique()\n",
    "with Pool(32) as pool:\n",
    "    pool.map(load_merge_cache, bsids)"
   ]
  },
  {
   "cell_type": "code",
   "execution_count": null,
   "metadata": {},
   "outputs": [],
   "source": []
  }
 ],
 "metadata": {
  "kernelspec": {
   "display_name": "visual_behavior",
   "language": "python",
   "name": "visual_behavior"
  },
  "language_info": {
   "codemirror_mode": {
    "name": "ipython",
    "version": 3
   },
   "file_extension": ".py",
   "mimetype": "text/x-python",
   "name": "python",
   "nbconvert_exporter": "python",
   "pygments_lexer": "ipython3",
   "version": "3.7.3"
  }
 },
 "nbformat": 4,
 "nbformat_minor": 4
}
