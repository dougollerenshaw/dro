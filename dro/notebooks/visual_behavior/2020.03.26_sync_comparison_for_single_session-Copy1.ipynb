{
 "cells": [
  {
   "cell_type": "code",
   "execution_count": 1,
   "metadata": {},
   "outputs": [
    {
     "name": "stderr",
     "output_type": "stream",
     "text": [
      "/home/dougo/.local/lib/python3.7/site-packages/xarray/core/merge.py:17: FutureWarning: The Panel class is removed from pandas. Accessing it from the top-level namespace will also be removed in the next version\n",
      "  PANDAS_TYPES = (pd.Series, pd.DataFrame, pd.Panel)\n",
      "/home/dougo/Code/AllenSDK/allensdk/brain_observatory/behavior/behavior_ophys_api/behavior_ophys_nwb_api.py:9: FutureWarning: pandas.util.testing is deprecated. Use the functions in the public API at pandas.testing instead.\n",
      "  from pandas.util.testing import assert_frame_equal\n"
     ]
    }
   ],
   "source": [
    "from visual_behavior import database as db\n",
    "from visual_behavior import utilities as vbu\n",
    "\n",
    "from allensdk.brain_observatory.behavior import sync\n",
    "from allensdk.brain_observatory.behavior.behavior_project_cache import BehaviorProjectCache as bpc"
   ]
  },
  {
   "cell_type": "code",
   "execution_count": 2,
   "metadata": {},
   "outputs": [],
   "source": [
    "def get_path(well_known_files, name):\n",
    "    '''\n",
    "    get path from well_known_files dataframe\n",
    "    inputs:\n",
    "        well_known_files (dataframe with index set to name)\n",
    "        name (string with desired name)\n",
    "    returns:\n",
    "        string with full filepath\n",
    "    '''\n",
    "    if name in well_known_files.index:\n",
    "        return ''.join(well_known_files.loc[name][['storage_directory', 'filename']].tolist())\n",
    "    else:\n",
    "        return None\n",
    "    \n",
    "\n",
    "def get_movie_frame_count(osid, movie_type):\n",
    "    '''\n",
    "    get movie frame count for a given movie type\n",
    "    inputs:\n",
    "        ophys_session_id\n",
    "        movie_type ('behavior_monitoring' or 'eye_tracking')\n",
    "    returns:\n",
    "        number of frames in the given movie\n",
    "    '''\n",
    "    well_known_files = db.get_well_known_files(osid).set_index('name')\n",
    "    if movie_type == 'eye_tracking':\n",
    "        movie_path = get_path(well_known_files, 'RawEyeTrackingVideo')\n",
    "    elif movie_type == 'behavior_monitoring':\n",
    "        movie_path = get_path(well_known_files, 'RawBehaviorTrackingVideo')\n",
    "    if movie_path:\n",
    "        movie = vbu.Movie(movie_path)\n",
    "        return movie.frame_count\n",
    "    else:\n",
    "        return None"
   ]
  },
  {
   "cell_type": "markdown",
   "metadata": {},
   "source": [
    "## for ophys session 995558073, here are the behavior and eye movie frame counts:"
   ]
  },
  {
   "cell_type": "code",
   "execution_count": 3,
   "metadata": {},
   "outputs": [
    {
     "name": "stdout",
     "output_type": "stream",
     "text": [
      "number of frames in behavior_monitoring movie: 137046\n",
      "number of frames in eye_tracking movie: 137058\n"
     ]
    }
   ],
   "source": [
    "ophys_session_id = 995558073\n",
    "for movie_type in ['behavior_monitoring','eye_tracking']:\n",
    "    print('number of frames in {} movie: {}'.format(\n",
    "        movie_type, \n",
    "        get_movie_frame_count(ophys_session_id, movie_type)\n",
    "    ))"
   ]
  },
  {
   "cell_type": "markdown",
   "metadata": {},
   "source": [
    "## using the `behavior_monitoring` and `eye_tracking` keys directly from the AllenSDK `get_sync_data` function returns *reversed* counts for the sync lines:"
   ]
  },
  {
   "cell_type": "code",
   "execution_count": 4,
   "metadata": {},
   "outputs": [
    {
     "name": "stdout",
     "output_type": "stream",
     "text": [
      "sync_path: /allen/programs/braintv/production/visualbehavior/prod4/specimen_962177507/ophys_session_995558073/995558073_sync.h5\n",
      "\n",
      "number of rising edges in behavior_monitoring sync line: 137049\n",
      "number of rising edges in eye_tracking sync line: 137058\n"
     ]
    }
   ],
   "source": [
    "well_known_files = db.get_well_known_files(ophys_session_id).set_index('name')\n",
    "sync_path = get_path(well_known_files, 'OphysRigSync')\n",
    "sync_data = sync.get_sync_data(sync_path)\n",
    "\n",
    "print('sync_path: {}\\n'.format(sync_path))\n",
    "\n",
    "for movie_type in ['behavior_monitoring','eye_tracking']:\n",
    "    print('number of rising edges in {} sync line: {}'.format(\n",
    "        movie_type,\n",
    "        len(sync_data[movie_type])\n",
    "    ))"
   ]
  },
  {
   "cell_type": "code",
   "execution_count": null,
   "metadata": {},
   "outputs": [],
   "source": []
  }
 ],
 "metadata": {
  "kernelspec": {
   "display_name": "visual_behavior",
   "language": "python",
   "name": "visual_behavior"
  },
  "language_info": {
   "codemirror_mode": {
    "name": "ipython",
    "version": 3
   },
   "file_extension": ".py",
   "mimetype": "text/x-python",
   "name": "python",
   "nbconvert_exporter": "python",
   "pygments_lexer": "ipython3",
   "version": "3.7.3"
  }
 },
 "nbformat": 4,
 "nbformat_minor": 4
}
