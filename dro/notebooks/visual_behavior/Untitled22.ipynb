{
 "cells": [
  {
   "cell_type": "code",
   "execution_count": 26,
   "metadata": {},
   "outputs": [],
   "source": [
    "from visual_behavior.data_access import loading\n",
    "import pandas as pd\n",
    "\n",
    "from allensdk.brain_observatory.behavior.behavior_ophys_session import BehaviorOphysSession\n",
    "import visual_behavior.database as db"
   ]
  },
  {
   "cell_type": "code",
   "execution_count": 2,
   "metadata": {},
   "outputs": [],
   "source": [
    "et = loading.get_filtered_ophys_experiment_table()"
   ]
  },
  {
   "cell_type": "code",
   "execution_count": 10,
   "metadata": {},
   "outputs": [
    {
     "data": {
      "text/plain": [
       "908381674"
      ]
     },
     "execution_count": 10,
     "metadata": {},
     "output_type": "execute_result"
    }
   ],
   "source": [
    "oeid = et.sample().index[0]\n",
    "oeid"
   ]
  },
  {
   "cell_type": "code",
   "execution_count": 11,
   "metadata": {},
   "outputs": [
    {
     "name": "stderr",
     "output_type": "stream",
     "text": [
      "/home/dougo/Code/AllenSDK/allensdk/brain_observatory/sync_dataset.py:109: UserWarning: The loaded sync file contains the following deprecated line label keys: {'cam1_exposure', 'cam2_exposure'}. Consider updating the sync file line labels.\n",
      "  self._check_line_labels()\n",
      "/home/dougo/Code/AllenSDK/allensdk/brain_observatory/sync_dataset.py:109: UserWarning: The loaded sync file contains the following deprecated line label keys: {'cam1_exposure', 'cam2_exposure'}. Consider updating the sync file line labels.\n",
      "  self._check_line_labels()\n",
      "WARNING:root:Could not find valid lines for the following data sources\n",
      "WARNING:root:acquiring (valid line label(s) = ['2p_acquiring']\n"
     ]
    },
    {
     "data": {
      "text/plain": [
       "{'rig_name': 'MESO.1',\n",
       " 'sex': 'F',\n",
       " 'age': 'P162',\n",
       " 'excitation_lambda': 910.0,\n",
       " 'emission_lambda': 520.0,\n",
       " 'indicator': 'GCAMP6f',\n",
       " 'field_of_view_width': 512,\n",
       " 'field_of_view_height': 512,\n",
       " 'ophys_experiment_id': 908381674,\n",
       " 'experiment_container_id': 1018027647,\n",
       " 'ophys_frame_rate': 11.0,\n",
       " 'stimulus_frame_rate': 60.0,\n",
       " 'targeted_structure': 'VISp',\n",
       " 'imaging_depth': 175,\n",
       " 'session_type': 'OPHYS_5_images_B_passive',\n",
       " 'experiment_datetime': Timestamp('2019-07-16 11:23:05.829504+0000', tz='UTC'),\n",
       " 'reporter_line': ['Ai93(TITL-GCaMP6f)'],\n",
       " 'driver_line': ['Camk2a-tTA', 'Slc17a7-IRES2-Cre'],\n",
       " 'LabTracks_ID': 456915,\n",
       " 'full_genotype': 'Slc17a7-IRES2-Cre/wt;Camk2a-tTA/wt;Ai93(TITL-GCaMP6f)/wt',\n",
       " 'behavior_session_uuid': UUID('ba1f9c5a-51f7-44a1-b30d-67dad2bd66fb'),\n",
       " 'imaging_plane_group': 0}"
      ]
     },
     "execution_count": 11,
     "metadata": {},
     "output_type": "execute_result"
    }
   ],
   "source": [
    "session = BehaviorOphysSession.from_lims(oeid)\n",
    "session.metadata"
   ]
  },
  {
   "cell_type": "code",
   "execution_count": 12,
   "metadata": {},
   "outputs": [],
   "source": []
  },
  {
   "cell_type": "code",
   "execution_count": 21,
   "metadata": {},
   "outputs": [],
   "source": [
    "query = '''select * from ophys_experiments where id = {}'''.format(oeid)\n",
    "df = db.lims_query(query)\n",
    "osid = df['ophys_session_id'][0]"
   ]
  },
  {
   "cell_type": "code",
   "execution_count": 23,
   "metadata": {},
   "outputs": [],
   "source": [
    "pkl_path = db.get_pkl_path(session_id=osid, id_type='ophys_session_id')"
   ]
  },
  {
   "cell_type": "code",
   "execution_count": 27,
   "metadata": {},
   "outputs": [],
   "source": [
    "data = pd.read_pickle(pkl_path)"
   ]
  },
  {
   "cell_type": "code",
   "execution_count": 28,
   "metadata": {},
   "outputs": [
    {
     "data": {
      "text/plain": [
       "dict_keys(['comp_id', 'unpickleable', 'items', 'start_time', 'script', 'rig_id', 'threads', 'stop_time', 'session_uuid', 'platform_info'])"
      ]
     },
     "execution_count": 28,
     "metadata": {},
     "output_type": "execute_result"
    }
   ],
   "source": [
    "data.keys()"
   ]
  },
  {
   "cell_type": "code",
   "execution_count": 34,
   "metadata": {},
   "outputs": [
    {
     "data": {
      "text/plain": [
       "{'auto_reward_delay': 0.15,\n",
       " 'free_reward_trials': 10000,\n",
       " 'end_after_response': True,\n",
       " 'flash_omit_probability': 0.05,\n",
       " 'change_flashes_max': 12,\n",
       " 'mouse_id': '456915',\n",
       " 'change_time_dist': 'geometric',\n",
       " 'stimulus_window': 6.0,\n",
       " 'response_window': [0.15, 0.75],\n",
       " 'change_flashes_min': 4,\n",
       " 'catch_frequency': None,\n",
       " 'min_no_lick_time': 0.0,\n",
       " 'timeout_duration': 0.3,\n",
       " 'change_time_scale': 0.3,\n",
       " 'volume_limit': 5.0,\n",
       " 'max_task_duration_min': 60.0,\n",
       " 'lick_spout': False,\n",
       " 'reward_volume': 0.007,\n",
       " 'end_after_response_sec': 3.5,\n",
       " 'start_stop_padding': 300.0,\n",
       " 'periodic_flash': [0.25, 0.5],\n",
       " 'user_id': 'sara.kivikas',\n",
       " 'epilogue': {'params': {'frame_length': 0.03333333333333333,\n",
       "   'movie_path': '//allen/programs/braintv/workgroups/neuralcoding/Saskia/Visual Stimuli 151207/Movie_TOE1.npy',\n",
       "   'runs': 10,\n",
       "   'size': [1920, 1080]},\n",
       "  'name': 'fingerprint'},\n",
       " 'stage': 'OPHYS_5_images_B_passive',\n",
       " 'auto_reward_vol': 0.005,\n",
       " 'task_id': 'DoC',\n",
       " 'stimulus': {'params': {'image_set': '//allen/programs/braintv/workgroups/nc-ophys/visual_behavior/image_dictionaries/Natural_Images_Lum_Matched_set_ophys_6_2017.07.14.pkl',\n",
       "   'sampling': 'even'},\n",
       "  'class': 'images'},\n",
       " 'failure_repeats': 5,\n",
       " 'warm_up_trials': 0,\n",
       " 'pre_change_time': 0.0}"
      ]
     },
     "execution_count": 34,
     "metadata": {},
     "output_type": "execute_result"
    }
   ],
   "source": [
    "data['items']['behavior']['params']"
   ]
  },
  {
   "cell_type": "code",
   "execution_count": 32,
   "metadata": {},
   "outputs": [
    {
     "data": {
      "text/plain": [
       "{'camstim': '0.5.1',\n",
       " 'opengl': '4.5.0 NVIDIA 384.76',\n",
       " 'python': '2.7.15',\n",
       " 'rig_id': 'unknown',\n",
       " 'hardware': ('Intel64 Family 6 Model 63 Stepping 2, GenuineIntel', 'AMD64'),\n",
       " 'pyglet': '1.2.4',\n",
       " 'computer_name': 'MESO1STIM',\n",
       " 'os': ('Windows', '10', '10.0.14393'),\n",
       " 'psychopy': '1.82.01',\n",
       " 'camstim_git_hash': None}"
      ]
     },
     "execution_count": 32,
     "metadata": {},
     "output_type": "execute_result"
    }
   ],
   "source": [
    "data['platform_info']"
   ]
  },
  {
   "cell_type": "code",
   "execution_count": null,
   "metadata": {},
   "outputs": [],
   "source": []
  }
 ],
 "metadata": {
  "kernelspec": {
   "display_name": "visual_behavior",
   "language": "python",
   "name": "visual_behavior"
  },
  "language_info": {
   "codemirror_mode": {
    "name": "ipython",
    "version": 3
   },
   "file_extension": ".py",
   "mimetype": "text/x-python",
   "name": "python",
   "nbconvert_exporter": "python",
   "pygments_lexer": "ipython3",
   "version": "3.7.9"
  }
 },
 "nbformat": 4,
 "nbformat_minor": 4
}
