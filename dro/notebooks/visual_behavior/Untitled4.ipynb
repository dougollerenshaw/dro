{
 "cells": [
  {
   "cell_type": "code",
   "execution_count": 1,
   "metadata": {},
   "outputs": [],
   "source": [
    "ll = ['OPHYS_1_images_A', 'OPHYS_2_images_A_passive', 'OPHYS_3_images_A',\n",
    "       'OPHYS_4_images_B', 'OPHYS_5_images_B_passive', 'OPHYS_6_images_B',\n",
    "       'OPHYS_1_images_B', 'OPHYS_2_images_B_passive',\n",
    "       'OPHYS_3_images_B', 'OPHYS_4_images_A', 'OPHYS_6_images_A',\n",
    "       'OPHYS_5_images_A_passive', 'OPHYS_7_receptive_field_mapping',\n",
    "       'full_field_test', 'VisCodingTargetedMovieClips',\n",
    "       'OPHYS_0_images_A_habituation']"
   ]
  },
  {
   "cell_type": "code",
   "execution_count": 2,
   "metadata": {},
   "outputs": [
    {
     "data": {
      "text/plain": [
       "['OPHYS_0_images_A_habituation',\n",
       " 'OPHYS_1_images_A',\n",
       " 'OPHYS_1_images_B',\n",
       " 'OPHYS_2_images_A_passive',\n",
       " 'OPHYS_2_images_B_passive',\n",
       " 'OPHYS_3_images_A',\n",
       " 'OPHYS_3_images_B',\n",
       " 'OPHYS_4_images_A',\n",
       " 'OPHYS_4_images_B',\n",
       " 'OPHYS_5_images_A_passive',\n",
       " 'OPHYS_5_images_B_passive',\n",
       " 'OPHYS_6_images_A',\n",
       " 'OPHYS_6_images_B',\n",
       " 'OPHYS_7_receptive_field_mapping',\n",
       " 'VisCodingTargetedMovieClips',\n",
       " 'full_field_test']"
      ]
     },
     "execution_count": 2,
     "metadata": {},
     "output_type": "execute_result"
    }
   ],
   "source": [
    "sorted(ll)"
   ]
  },
  {
   "cell_type": "code",
   "execution_count": null,
   "metadata": {},
   "outputs": [],
   "source": []
  }
 ],
 "metadata": {
  "kernelspec": {
   "display_name": "visual_behavior",
   "language": "python",
   "name": "visual_behavior"
  },
  "language_info": {
   "codemirror_mode": {
    "name": "ipython",
    "version": 3
   },
   "file_extension": ".py",
   "mimetype": "text/x-python",
   "name": "python",
   "nbconvert_exporter": "python",
   "pygments_lexer": "ipython3",
   "version": "3.7.3"
  }
 },
 "nbformat": 4,
 "nbformat_minor": 4
}
