{
 "cells": [
  {
   "cell_type": "markdown",
   "metadata": {},
   "source": [
    "The following details my work on SDK issue 1860  \n",
    "https://github.com/AllenInstitute/AllenSDK/issues/1860  \n",
    "\n",
    "Doug Ollerenshaw\n",
    "2/9/2021"
   ]
  },
  {
   "cell_type": "code",
   "execution_count": 1,
   "metadata": {},
   "outputs": [],
   "source": [
    "import pandas as pd\n",
    "import visual_behavior.database as db\n",
    "from visual_behavior.translator.foraging2 import data_to_change_detection_core\n",
    "from multiprocessing import Pool\n",
    "import os\n",
    "import json"
   ]
  },
  {
   "cell_type": "markdown",
   "metadata": {},
   "source": [
    "## paths to PKL files with missing 'omitted_flash_frame_log'"
   ]
  },
  {
   "cell_type": "code",
   "execution_count": 2,
   "metadata": {},
   "outputs": [],
   "source": [
    "ophys_pkl_paths = [\n",
    "    '/allen/programs/braintv/production/visualbehavior/prod0/specimen_722884882/behavior_session_774937388/774747386.pkl',\n",
    "    '/allen/programs/braintv/production/visualbehavior/prod0/specimen_722884882/behavior_session_775870895/775749782.pkl',\n",
    "    '/allen/programs/braintv/production/visualbehavior/prod0/specimen_722884882/behavior_session_777082591/776926613.pkl',\n",
    "    '/allen/programs/braintv/production/visualbehavior/prod0/specimen_722884882/behavior_session_778980920/778879545.pkl',\n",
    "    '/allen/programs/braintv/production/visualbehavior/prod0/specimen_722884882/behavior_session_784156661/783998900.pkl',\n",
    "]\n",
    "\n",
    "behavior_pkl_paths = [\n",
    "    '/allen/programs/braintv/production/visualbehavior/prod0/specimen_722884882/behavior_session_771245588/181031130535_403491_6cbeebb6-471e-4226-9eec-ae44edab3f27.pkl',\n",
    "    '/allen/programs/braintv/production/visualbehavior/prod0/specimen_722884882/behavior_session_772125590/181101135909_403491_bc27c196-cad5-41f0-bcf8-e9157db6d2c0.pkl',\n",
    "    '/allen/programs/braintv/production/visualbehavior/prod0/specimen_722884882/behavior_session_772658979/181102130333_403491_ba848d48-33ea-415e-b9d7-a93dfd1c48de.pkl',\n",
    "    '/allen/programs/braintv/production/visualbehavior/prod0/specimen_722884882/behavior_session_782380778/181119152241_403491_0991ea0b-9e8a-47cc-b74c-c34f092e2da7.pkl',\n",
    "    '/allen/programs/braintv/production/visualbehavior/prod0/specimen_722884882/behavior_session_786920476/181128094417_403491_ced6aa12-5730-4f90-a0f7-7ea9f40b4963.pkl',\n",
    "    '/allen/programs/braintv/production/visualbehavior/prod0/specimen_744911458/behavior_session_771902184/181101092503_412036_9995edab-e40f-49d8-933f-f166cba72d70.pkl',\n",
    "    '/allen/programs/braintv/production/visualbehavior/prod0/specimen_744911458/behavior_session_772475707/181102095226_412036_565313de-897f-43c5-9127-14d895b9cd0d.pkl',\n",
    "    '/allen/programs/braintv/production/visualbehavior/prod0/specimen_744911458/behavior_session_773391809/181105091534_412036_c98c7e51-7d51-495e-b950-1b76ba36f5ea.pkl',\n",
    "    '/allen/programs/braintv/production/visualbehavior/prod0/specimen_744911458/behavior_session_774679623/181107090608_412036_1d9cde8e-c530-4215-b1c4-4ca68679ee17.pkl',\n",
    "    '/allen/programs/braintv/production/visualbehavior/prod0/specimen_744911458/behavior_session_775291372/181108093606_412036_547f7483-6c42-4027-b001-8db2b4fee2e3.pkl',\n",
    "    '/allen/programs/braintv/production/visualbehavior/prod0/specimen_744911458/behavior_session_776988190/181112091156_412036_72c43ad0-0dd5-4b0e-b51e-863522466237.pkl',\n",
    "    '/allen/programs/braintv/production/visualbehavior/prod0/specimen_744911458/behavior_session_778010119/181113084605_412036_740ca61d-b91c-4451-9147-b4b7526d57b0.pkl',\n",
    "    '/allen/programs/braintv/production/visualbehavior/prod0/specimen_744911458/behavior_session_781938213/181119101741_412036_32300788-81a3-4b78-aa1c-454b3eca5ddd.pkl',\n",
    "    '/allen/programs/braintv/production/visualbehavior/prod0/specimen_744911458/behavior_session_783217873/181120102547_412036_8132835c-52af-4105-b8f5-e3d4e91fa52c.pkl',\n",
    "    '/allen/programs/braintv/production/visualbehavior/prod0/specimen_744911458/behavior_session_783959068/181121083447_412036_b6a1162f-ac6a-49c4-96d6-4fa45cdcfd10.pkl',\n",
    "    '/allen/programs/braintv/production/visualbehavior/prod0/specimen_744911458/behavior_session_785382040/181126092905_412036_c651b112-8ec3-4eb1-b1d4-0e1022b0e64a.pkl',\n",
    "    '/allen/programs/braintv/production/visualbehavior/prod0/specimen_744911458/behavior_session_786007435/181127100535_412036_bc00be63-a97d-44e7-8f44-13387669f2d8.pkl',\n",
    "    '/allen/programs/braintv/production/visualbehavior/prod0/specimen_744911458/behavior_session_786938611/181128101549_412036_18f8e587-57bc-4729-973a-56285a8038cb.pkl',\n",
    "    '/allen/programs/braintv/production/visualbehavior/prod0/specimen_744911458/behavior_session_789008423/181130104604_412036_8201404e-b766-4cbc-94a9-640e329db739.pkl',\n",
    "    '/allen/programs/braintv/production/visualbehavior/prod0/specimen_744911458/behavior_session_789870329/181203090255_412036_a4adc435-d75c-485b-8e65-d2f913836e29.pkl',\n",
    "    '/allen/programs/braintv/production/visualbehavior/prod0/specimen_744911458/behavior_session_791248943/181206085911_412036_81a03f75-fd42-49ef-9b8f-8755ae9711f4.pkl',\n",
    "    '/allen/programs/braintv/production/visualbehavior/prod0/specimen_756577249/behavior_session_772128781/181101150651_416369_6361f115-eedc-4262-be42-4a61ee246b35.pkl',\n",
    "    '/allen/programs/braintv/production/visualbehavior/prod0/specimen_756577249/behavior_session_772682396/181102141615_416369_cdf57463-7500-4ff7-ac7c-cb3ea6a3cc74.pkl',\n",
    "    '/allen/programs/braintv/production/visualbehavior/prod0/specimen_756577249/behavior_session_775013029/181107140617_416369_54e6af61-3944-45a2-94d6-9fcb46b8bbf5.pkl',\n",
    "    '/allen/programs/braintv/production/visualbehavior/prod0/specimen_756577249/behavior_session_775465635/181108132543_416369_7286e519-6963-42aa-8962-a1c12bcf23f4.pkl',\n",
    "    '/allen/programs/braintv/production/visualbehavior/prod0/specimen_756577249/behavior_session_776123405/181109135224_416369_8bda53e3-4487-42d5-a350-eb803d7d712e.pkl',\n",
    "    '/allen/programs/braintv/production/visualbehavior/prod0/specimen_756577249/behavior_session_777317267/181112133748_416369_3118831c-505c-4ecb-8cc8-3caab1496ed6.pkl',\n",
    "    '/allen/programs/braintv/production/visualbehavior/prod0/specimen_756674785/behavior_session_775925580/181109104913_412366_d77375e0-ff0e-46bf-ab4b-2c43444e8b95.pkl',\n",
    "    '/allen/programs/braintv/production/visualbehavior/prod0/specimen_756674785/behavior_session_777061425/181112103513_412366_6f2f695e-21af-49b8-a350-042214d2e1df.pkl',\n",
    "    '/allen/programs/braintv/production/visualbehavior/prod0/specimen_756674785/behavior_session_778119826/181113100427_412366_cef5e770-7187-4e08-a540-48ab6029f79b.pkl',\n",
    "    '/allen/programs/braintv/production/visualbehavior/prod0/specimen_756674785/behavior_session_779580423/181115083459_412366_79db4931-af31-42de-9209-b7d798a96e11.pkl',\n",
    "    '/allen/programs/braintv/production/visualbehavior/prod0/specimen_756674785/behavior_session_783059206/181120085348_412366_a8a4e775-5b2f-41e0-bc54-6542f51e910f.pkl',\n",
    "    '/allen/programs/braintv/production/visualbehavior/prod0/specimen_756674785/behavior_session_783971649/181121083853_412366_b9fbf36a-0bc3-455c-8f89-0992fb552ea7.pkl',\n",
    "    '/allen/programs/braintv/production/visualbehavior/prod0/specimen_756674785/behavior_session_785376297/181126091016_412366_f6d3836d-0580-4b87-9cdb-0f7a05422201.pkl',\n",
    "    '/allen/programs/braintv/production/visualbehavior/prod0/specimen_756674785/behavior_session_785868918/181127083903_412366_2d553a60-7e46-4781-8cfd-a8d054d5e276.pkl',\n",
    "    '/allen/programs/braintv/production/visualbehavior/prod0/specimen_756674785/behavior_session_786841415/181128085403_412366_76f204ec-bae5-4572-b623-e866d1523679.pkl',\n",
    "    '/allen/programs/braintv/production/visualbehavior/prod0/specimen_756674785/behavior_session_788864720/181130091628_412366_6481cbee-edb6-45be-96ad-1b53f9753ddd.pkl',\n",
    "    '/allen/programs/braintv/production/visualbehavior/prod0/specimen_756674785/behavior_session_789946754/181203102155_412366_d6c7d37d-b0b4-48a4-a3cb-1eb83562aaf7.pkl',\n",
    "    '/allen/programs/braintv/production/visualbehavior/prod0/specimen_756674785/behavior_session_791278700/181206101439_412366_1a6cb0d4-7f89-4c4e-8f86-10e7243b2bfb.pkl',\n",
    "    '/allen/programs/braintv/production/visualbehavior/prod0/specimen_760949544/behavior_session_788343533/181129135619_421136_336057e2-8030-4ec8-b608-81d951ae66d6.pkl',\n",
    "    '/allen/programs/braintv/production/visualbehavior/prod0/specimen_760949544/behavior_session_789221588/181130142903_421136_4e4defe9-f60b-4337-adf3-7f706280683c.pkl',\n",
    "    '/allen/programs/braintv/production/visualbehavior/prod0/specimen_760949544/behavior_session_791371899/181206141125_421136_ed513968-86c8-43f2-8bdb-9287b5aefbe1.pkl',\n",
    "    '/allen/programs/braintv/production/visualbehavior/prod0/specimen_760949544/behavior_session_791866254/181207133800_421136_3d574c68-b3ae-4a9e-b78f-5aab6de7b500.pkl',\n",
    "    '/allen/programs/braintv/production/visualbehavior/prod0/specimen_760949544/behavior_session_792661903/181210132151_421136_85f22fca-68f8-4cd4-8e9e-f2fa8c23644a.pkl',\n",
    "    '/allen/programs/braintv/production/visualbehavior/prod0/specimen_760949544/behavior_session_793323654/181211125503_421136_be12d700-8aa1-47f3-8703-41d5136955dc.pkl',\n",
    "    '/allen/programs/braintv/production/visualbehavior/prod0/specimen_760949544/behavior_session_794275479/181212122907_421136_47dfc958-e4f4-4921-b423-9142f717875b.pkl',\n",
    "    '/allen/programs/braintv/production/visualbehavior/prod0/specimen_760949544/behavior_session_794953909/181213130801_421136_2e062b8e-8847-4cc9-85c1-11212eaac235.pkl',\n",
    "    '/allen/programs/braintv/production/visualbehavior/prod0/specimen_760949544/behavior_session_795838927/181214143319_421136_b9edb839-5971-46b5-b93a-83962d53d842.pkl',\n",
    "    '/allen/programs/braintv/production/visualbehavior/prod0/specimen_766015390/behavior_session_790026166/181203143407_423606_9ae1dff9-97a9-4b70-a7dd-9dc64e350290.pkl',\n",
    "    '/allen/programs/braintv/production/visualbehavior/prod0/specimen_766015390/behavior_session_795838931/181214143152_423606_7b185429-b651-4916-9c7c-d039cb776e4a.pkl',\n",
    "    '/allen/programs/braintv/production/visualbehavior/prod0/specimen_766015390/behavior_session_797017509/181217133153_423606_a56cd413-fd40-4473-83df-bfa9430a8878.pkl',\n",
    "    '/allen/programs/braintv/production/visualbehavior/prod0/specimen_766015390/behavior_session_798022584/181218143342_423606_82c363c4-0a2f-4728-8fd1-d501f2363039.pkl',\n",
    "    '/allen/programs/braintv/production/visualbehavior/prod0/specimen_766015390/behavior_session_799110611/181219141344_423606_6e7ffb1e-c9a2-481b-a418-c4165ea6fa8a.pkl',\n",
    "    '/allen/programs/braintv/production/visualbehavior/prod0/specimen_766015390/behavior_session_799919873/181220133211_423606_3b93f39c-5959-4d33-bed4-adf618370449.pkl',\n",
    "    '/allen/programs/braintv/production/visualbehavior/prod0/specimen_766015390/behavior_session_800317148/181221140700_423606_905627a5-55ed-4733-a18b-5e84062d1d25.pkl',\n",
    "    '/allen/programs/braintv/production/visualbehavior/prod0/specimen_772622653/behavior_session_795854555/181214144601_425496_89b7469f-0b2b-4d09-a0f2-dbde0a063f82.pkl',\n",
    "    '/allen/programs/braintv/production/visualbehavior/prod0/specimen_772622653/behavior_session_799049628/181219132053_425496_981ab5b5-05aa-4bfd-a0de-93fcc47bc6b2.pkl',\n",
    "    '/allen/programs/braintv/production/visualbehavior/prod0/specimen_772622653/behavior_session_799919887/181220133144_425496_9e4d19d0-9a7b-4851-b765-8518133d6ce0.pkl',\n",
    "    '/allen/programs/braintv/production/visualbehavior/prod0/specimen_772622653/behavior_session_800299362/181221133410_425496_d412b09a-43cd-43e6-9fed-ba6c39d33bfe.pkl',\n",
    "    '/allen/programs/braintv/production/visualbehavior/prod0/specimen_772629813/behavior_session_795854559/181214144752_425493_c80e0ea2-03d5-45fe-afaa-85d0814659df.pkl',\n",
    "    '/allen/programs/braintv/production/visualbehavior/prod0/specimen_772629813/behavior_session_799051310/181219132217_425493_022e2afa-f8d2-434f-827a-a00643ce442b.pkl',\n",
    "    '/allen/programs/braintv/production/visualbehavior/prod0/specimen_772629813/behavior_session_799922316/181220133716_425493_adc337eb-d6cc-4fe8-b6d7-9075a880df14.pkl',\n",
    "    '/allen/programs/braintv/production/visualbehavior/prod0/specimen_772629813/behavior_session_800299366/181221133613_425493_b47445aa-ddf1-4023-b2c9-93563fed1456.pkl',\n",
    "]"
   ]
  },
  {
   "cell_type": "markdown",
   "metadata": {},
   "source": [
    "# Start by documenting what we expect to be there"
   ]
  },
  {
   "cell_type": "markdown",
   "metadata": {},
   "source": [
    "## here is a recent ophys session with omitted flashes"
   ]
  },
  {
   "cell_type": "code",
   "execution_count": 3,
   "metadata": {},
   "outputs": [
    {
     "name": "stdout",
     "output_type": "stream",
     "text": [
      "omitted_flash_probability = 0.05\n"
     ]
    }
   ],
   "source": [
    "behavior_session_id = 951520319\n",
    "pkl_path = db.get_pkl_path(behavior_session_id)\n",
    "data = pd.read_pickle(pkl_path)\n",
    "core_data = data_to_change_detection_core(data)\n",
    "print('omitted_flash_probability = {}'.format(core_data['metadata']['params']['flash_omit_probability']))"
   ]
  },
  {
   "cell_type": "markdown",
   "metadata": {},
   "source": [
    "## here is the location of the omitted flash probability in the PKL file dictionary:"
   ]
  },
  {
   "cell_type": "code",
   "execution_count": 4,
   "metadata": {},
   "outputs": [
    {
     "data": {
      "text/plain": [
       "0.05"
      ]
     },
     "execution_count": 4,
     "metadata": {},
     "output_type": "execute_result"
    }
   ],
   "source": [
    "data['items']['behavior']['params']['flash_omit_probability']"
   ]
  },
  {
   "cell_type": "markdown",
   "metadata": {},
   "source": [
    "## and here is location/format of the omitted_flash_frame_log"
   ]
  },
  {
   "cell_type": "code",
   "execution_count": 5,
   "metadata": {},
   "outputs": [
    {
     "data": {
      "text/plain": [
       "{'images_0': [18390,\n",
       "  21406,\n",
       "  21541,\n",
       "  22036,\n",
       "  22171,\n",
       "  24331,\n",
       "  25681,\n",
       "  27571,\n",
       "  27661,\n",
       "  28021,\n",
       "  28561,\n",
       "  30496,\n",
       "  30631,\n",
       "  31846,\n",
       "  31936,\n",
       "  32206,\n",
       "  36437,\n",
       "  37157,\n",
       "  37562,\n",
       "  43817,\n",
       "  47598,\n",
       "  48543,\n",
       "  48903,\n",
       "  49038,\n",
       "  49218,\n",
       "  52863,\n",
       "  53088,\n",
       "  54078,\n",
       "  55743,\n",
       "  55923,\n",
       "  56418,\n",
       "  56823,\n",
       "  57409,\n",
       "  58084,\n",
       "  58489,\n",
       "  59299,\n",
       "  62674,\n",
       "  63124,\n",
       "  64160,\n",
       "  65105,\n",
       "  65690,\n",
       "  66815,\n",
       "  69695,\n",
       "  70866,\n",
       "  73071,\n",
       "  76041,\n",
       "  76401,\n",
       "  80271,\n",
       "  80361,\n",
       "  89454,\n",
       "  90174,\n",
       "  90310,\n",
       "  96926,\n",
       "  97556,\n",
       "  99177,\n",
       "  101922,\n",
       "  103723,\n",
       "  103948,\n",
       "  106648,\n",
       "  107189,\n",
       "  107909,\n",
       "  108314,\n",
       "  108809,\n",
       "  110699,\n",
       "  112004,\n",
       "  112139,\n",
       "  112679,\n",
       "  114660,\n",
       "  116145,\n",
       "  116550,\n",
       "  117541,\n",
       "  123212,\n",
       "  124563,\n",
       "  126859,\n",
       "  126949,\n",
       "  127174,\n",
       "  129738,\n",
       "  131538,\n",
       "  132843,\n",
       "  133293,\n",
       "  134148,\n",
       "  134913,\n",
       "  136533,\n",
       "  137253,\n",
       "  138648,\n",
       "  139098,\n",
       "  139278,\n",
       "  141888,\n",
       "  145983,\n",
       "  146658,\n",
       "  146748,\n",
       "  148233,\n",
       "  148413,\n",
       "  149223,\n",
       "  150033,\n",
       "  150168,\n",
       "  153858,\n",
       "  156109,\n",
       "  158404,\n",
       "  159034,\n",
       "  160385,\n",
       "  160475,\n",
       "  161060,\n",
       "  162770,\n",
       "  163580,\n",
       "  164030,\n",
       "  164751,\n",
       "  165291,\n",
       "  167092,\n",
       "  167812,\n",
       "  172133,\n",
       "  173709,\n",
       "  174384,\n",
       "  175194,\n",
       "  176139,\n",
       "  176814,\n",
       "  180009,\n",
       "  181899,\n",
       "  183744,\n",
       "  184599,\n",
       "  186040,\n",
       "  187615,\n",
       "  187885,\n",
       "  188020,\n",
       "  188380,\n",
       "  191216,\n",
       "  191576,\n",
       "  193331,\n",
       "  194547,\n",
       "  196572,\n",
       "  197112,\n",
       "  197517,\n",
       "  199227,\n",
       "  199452,\n",
       "  199857,\n",
       "  201567,\n",
       "  204402,\n",
       "  204673,\n",
       "  204988,\n",
       "  205258,\n",
       "  205933,\n",
       "  206968,\n",
       "  207733,\n",
       "  208319,\n",
       "  208859,\n",
       "  210119,\n",
       "  210884,\n",
       "  212189,\n",
       "  213315,\n",
       "  213540,\n",
       "  214125,\n",
       "  215115,\n",
       "  217006,\n",
       "  220742,\n",
       "  220922,\n",
       "  221103,\n",
       "  222274,\n",
       "  223220,\n",
       "  223490,\n",
       "  225155,\n",
       "  225335,\n",
       "  226010,\n",
       "  228216,\n",
       "  229071,\n",
       "  230691,\n",
       "  231141,\n",
       "  231411,\n",
       "  232896]}"
      ]
     },
     "execution_count": 5,
     "metadata": {},
     "output_type": "execute_result"
    }
   ],
   "source": [
    "data['items']['behavior']['omitted_flash_frame_log']"
   ]
  },
  {
   "cell_type": "markdown",
   "metadata": {},
   "source": [
    "# Here is a recent behavior-only session\n",
    "This session should not have any omitted flashes - and we get a key-error on `flash_omit_probability`"
   ]
  },
  {
   "cell_type": "code",
   "execution_count": 6,
   "metadata": {},
   "outputs": [
    {
     "ename": "KeyError",
     "evalue": "'flash_omit_probability'",
     "output_type": "error",
     "traceback": [
      "\u001b[0;31m---------------------------------------------------------------------------\u001b[0m",
      "\u001b[0;31mKeyError\u001b[0m                                  Traceback (most recent call last)",
      "\u001b[0;32m<ipython-input-6-6dae3dd110cd>\u001b[0m in \u001b[0;36m<module>\u001b[0;34m\u001b[0m\n\u001b[1;32m      3\u001b[0m \u001b[0mdata\u001b[0m \u001b[0;34m=\u001b[0m \u001b[0mpd\u001b[0m\u001b[0;34m.\u001b[0m\u001b[0mread_pickle\u001b[0m\u001b[0;34m(\u001b[0m\u001b[0mpkl_path\u001b[0m\u001b[0;34m)\u001b[0m\u001b[0;34m\u001b[0m\u001b[0;34m\u001b[0m\u001b[0m\n\u001b[1;32m      4\u001b[0m \u001b[0mcore_data\u001b[0m \u001b[0;34m=\u001b[0m \u001b[0mdata_to_change_detection_core\u001b[0m\u001b[0;34m(\u001b[0m\u001b[0mdata\u001b[0m\u001b[0;34m)\u001b[0m\u001b[0;34m\u001b[0m\u001b[0;34m\u001b[0m\u001b[0m\n\u001b[0;32m----> 5\u001b[0;31m \u001b[0mprint\u001b[0m\u001b[0;34m(\u001b[0m\u001b[0;34m'omitted_flash_probability = {}'\u001b[0m\u001b[0;34m.\u001b[0m\u001b[0mformat\u001b[0m\u001b[0;34m(\u001b[0m\u001b[0mcore_data\u001b[0m\u001b[0;34m[\u001b[0m\u001b[0;34m'metadata'\u001b[0m\u001b[0;34m]\u001b[0m\u001b[0;34m[\u001b[0m\u001b[0;34m'params'\u001b[0m\u001b[0;34m]\u001b[0m\u001b[0;34m[\u001b[0m\u001b[0;34m'flash_omit_probability'\u001b[0m\u001b[0;34m]\u001b[0m\u001b[0;34m)\u001b[0m\u001b[0;34m)\u001b[0m\u001b[0;34m\u001b[0m\u001b[0;34m\u001b[0m\u001b[0m\n\u001b[0m",
      "\u001b[0;31mKeyError\u001b[0m: 'flash_omit_probability'"
     ]
    }
   ],
   "source": [
    "behavior_session_id = 802364085\n",
    "pkl_path = db.get_pkl_path(behavior_session_id)\n",
    "data = pd.read_pickle(pkl_path)\n",
    "core_data = data_to_change_detection_core(data)\n",
    "print('omitted_flash_probability = {}'.format(core_data['metadata']['params']['flash_omit_probability']))"
   ]
  },
  {
   "cell_type": "markdown",
   "metadata": {},
   "source": [
    "## also note that the probability key doesn't exist in the PKL file"
   ]
  },
  {
   "cell_type": "code",
   "execution_count": 7,
   "metadata": {},
   "outputs": [
    {
     "ename": "KeyError",
     "evalue": "'flash_omit_probability'",
     "output_type": "error",
     "traceback": [
      "\u001b[0;31m---------------------------------------------------------------------------\u001b[0m",
      "\u001b[0;31mKeyError\u001b[0m                                  Traceback (most recent call last)",
      "\u001b[0;32m<ipython-input-7-327f3c469b81>\u001b[0m in \u001b[0;36m<module>\u001b[0;34m\u001b[0m\n\u001b[0;32m----> 1\u001b[0;31m \u001b[0mdata\u001b[0m\u001b[0;34m[\u001b[0m\u001b[0;34m'items'\u001b[0m\u001b[0;34m]\u001b[0m\u001b[0;34m[\u001b[0m\u001b[0;34m'behavior'\u001b[0m\u001b[0;34m]\u001b[0m\u001b[0;34m[\u001b[0m\u001b[0;34m'params'\u001b[0m\u001b[0;34m]\u001b[0m\u001b[0;34m[\u001b[0m\u001b[0;34m'flash_omit_probability'\u001b[0m\u001b[0;34m]\u001b[0m\u001b[0;34m\u001b[0m\u001b[0;34m\u001b[0m\u001b[0m\n\u001b[0m",
      "\u001b[0;31mKeyError\u001b[0m: 'flash_omit_probability'"
     ]
    }
   ],
   "source": [
    "data['items']['behavior']['params']['flash_omit_probability']"
   ]
  },
  {
   "cell_type": "markdown",
   "metadata": {},
   "source": [
    "## but there is an `'omitted_flash_frame_log'`, which is an empty list"
   ]
  },
  {
   "cell_type": "code",
   "execution_count": 8,
   "metadata": {},
   "outputs": [
    {
     "data": {
      "text/plain": [
       "{'images_0': []}"
      ]
     },
     "execution_count": 8,
     "metadata": {},
     "output_type": "execute_result"
    }
   ],
   "source": [
    "data['items']['behavior']['omitted_flash_frame_log']"
   ]
  },
  {
   "cell_type": "markdown",
   "metadata": {},
   "source": [
    "# Confirm that all behavior sessions above lack the `'flash_omit_probability'` key, which is an indication that the probability was 0 (i.e., there were no omitted flashes)"
   ]
  },
  {
   "cell_type": "code",
   "execution_count": 9,
   "metadata": {},
   "outputs": [],
   "source": [
    "def open_pkl_get_flash_omit_probability(pkl_path):\n",
    "    behavior_session_id = int(pkl_path.split('behavior_session_')[1].split('/')[0])\n",
    "    data = pd.read_pickle(pkl_path)\n",
    "    try:\n",
    "        flash_omit_probability = data['items']['behavior']['params']['flash_omit_probability']\n",
    "    except KeyError:\n",
    "        flash_omit_probability = None\n",
    "        \n",
    "    return {\n",
    "        'behavior_session_id':behavior_session_id, \n",
    "        'training_stage': data['items']['behavior']['params']['stage'],\n",
    "        'flash_omit_probability':flash_omit_probability\n",
    "    }"
   ]
  },
  {
   "cell_type": "code",
   "execution_count": 10,
   "metadata": {},
   "outputs": [],
   "source": [
    "with Pool(32) as pool:\n",
    "    behavior_only_omitted_flash_probs = pd.DataFrame(\n",
    "        pool.map(\n",
    "            open_pkl_get_flash_omit_probability, \n",
    "            behavior_pkl_paths\n",
    "        )\n",
    "    )"
   ]
  },
  {
   "cell_type": "markdown",
   "metadata": {},
   "source": [
    "## There are two sessions in this list that have non-zero omitted flash probabilities, but both are actually ophys sessions!"
   ]
  },
  {
   "cell_type": "code",
   "execution_count": 11,
   "metadata": {},
   "outputs": [
    {
     "data": {
      "text/html": [
       "<div>\n",
       "<style scoped>\n",
       "    .dataframe tbody tr th:only-of-type {\n",
       "        vertical-align: middle;\n",
       "    }\n",
       "\n",
       "    .dataframe tbody tr th {\n",
       "        vertical-align: top;\n",
       "    }\n",
       "\n",
       "    .dataframe thead th {\n",
       "        text-align: right;\n",
       "    }\n",
       "</style>\n",
       "<table border=\"1\" class=\"dataframe\">\n",
       "  <thead>\n",
       "    <tr style=\"text-align: right;\">\n",
       "      <th></th>\n",
       "      <th>behavior_session_id</th>\n",
       "      <th>training_stage</th>\n",
       "      <th>flash_omit_probability</th>\n",
       "    </tr>\n",
       "  </thead>\n",
       "  <tbody>\n",
       "    <tr>\n",
       "      <th>3</th>\n",
       "      <td>782380778</td>\n",
       "      <td>OPHYS_4_images_B</td>\n",
       "      <td>0.05</td>\n",
       "    </tr>\n",
       "    <tr>\n",
       "      <th>4</th>\n",
       "      <td>786920476</td>\n",
       "      <td>OPHYS_6_images_B</td>\n",
       "      <td>0.05</td>\n",
       "    </tr>\n",
       "  </tbody>\n",
       "</table>\n",
       "</div>"
      ],
      "text/plain": [
       "   behavior_session_id    training_stage  flash_omit_probability\n",
       "3            782380778  OPHYS_4_images_B                    0.05\n",
       "4            786920476  OPHYS_6_images_B                    0.05"
      ]
     },
     "execution_count": 11,
     "metadata": {},
     "output_type": "execute_result"
    }
   ],
   "source": [
    "behavior_only_omitted_flash_probs[pd.notnull(behavior_only_omitted_flash_probs['flash_omit_probability'])]"
   ]
  },
  {
   "cell_type": "markdown",
   "metadata": {},
   "source": [
    "# Confirm that all ophys sessions do have an omitted flash probability:"
   ]
  },
  {
   "cell_type": "code",
   "execution_count": 12,
   "metadata": {},
   "outputs": [],
   "source": [
    "with Pool(32) as pool:\n",
    "    ophys_omitted_flash_probs = pd.DataFrame(\n",
    "        pool.map(\n",
    "            open_pkl_get_flash_omit_probability, \n",
    "            ophys_pkl_paths\n",
    "        )\n",
    "    )"
   ]
  },
  {
   "cell_type": "code",
   "execution_count": 13,
   "metadata": {},
   "outputs": [
    {
     "data": {
      "text/html": [
       "<div>\n",
       "<style scoped>\n",
       "    .dataframe tbody tr th:only-of-type {\n",
       "        vertical-align: middle;\n",
       "    }\n",
       "\n",
       "    .dataframe tbody tr th {\n",
       "        vertical-align: top;\n",
       "    }\n",
       "\n",
       "    .dataframe thead th {\n",
       "        text-align: right;\n",
       "    }\n",
       "</style>\n",
       "<table border=\"1\" class=\"dataframe\">\n",
       "  <thead>\n",
       "    <tr style=\"text-align: right;\">\n",
       "      <th></th>\n",
       "      <th>behavior_session_id</th>\n",
       "      <th>training_stage</th>\n",
       "      <th>flash_omit_probability</th>\n",
       "    </tr>\n",
       "  </thead>\n",
       "  <tbody>\n",
       "    <tr>\n",
       "      <th>0</th>\n",
       "      <td>774937388</td>\n",
       "      <td>OPHYS_1_images_A</td>\n",
       "      <td>0.05</td>\n",
       "    </tr>\n",
       "    <tr>\n",
       "      <th>1</th>\n",
       "      <td>775870895</td>\n",
       "      <td>OPHYS_2_images_A_passive</td>\n",
       "      <td>0.05</td>\n",
       "    </tr>\n",
       "    <tr>\n",
       "      <th>2</th>\n",
       "      <td>777082591</td>\n",
       "      <td>OPHYS_2_images_A_passive</td>\n",
       "      <td>0.05</td>\n",
       "    </tr>\n",
       "    <tr>\n",
       "      <th>3</th>\n",
       "      <td>778980920</td>\n",
       "      <td>OPHYS_3_images_A</td>\n",
       "      <td>0.05</td>\n",
       "    </tr>\n",
       "    <tr>\n",
       "      <th>4</th>\n",
       "      <td>784156661</td>\n",
       "      <td>OPHYS_4_images_B</td>\n",
       "      <td>0.05</td>\n",
       "    </tr>\n",
       "  </tbody>\n",
       "</table>\n",
       "</div>"
      ],
      "text/plain": [
       "   behavior_session_id            training_stage  flash_omit_probability\n",
       "0            774937388          OPHYS_1_images_A                    0.05\n",
       "1            775870895  OPHYS_2_images_A_passive                    0.05\n",
       "2            777082591  OPHYS_2_images_A_passive                    0.05\n",
       "3            778980920          OPHYS_3_images_A                    0.05\n",
       "4            784156661          OPHYS_4_images_B                    0.05"
      ]
     },
     "execution_count": 13,
     "metadata": {},
     "output_type": "execute_result"
    }
   ],
   "source": [
    "ophys_omitted_flash_probs"
   ]
  },
  {
   "cell_type": "markdown",
   "metadata": {},
   "source": [
    "## confirm that we can identify the frames of the omitted flashes in one of the ophys sessions\n",
    "Note the warning!"
   ]
  },
  {
   "cell_type": "code",
   "execution_count": 14,
   "metadata": {},
   "outputs": [
    {
     "name": "stderr",
     "output_type": "stream",
     "text": [
      "/allen/programs/braintv/workgroups/nc-ophys/Doug/code/visual_behavior_analysis/visual_behavior/translator/foraging2/extract_stimuli.py:106: UserWarning: \n",
      "there was no omitted_flash_frame_log, but long delays were present that were assumed to be omitted flashes\n",
      "  warnings.warn('\\nthere was no omitted_flash_frame_log, but long delays were present that were assumed to be omitted flashes')\n"
     ]
    },
    {
     "data": {
      "text/html": [
       "<div>\n",
       "<style scoped>\n",
       "    .dataframe tbody tr th:only-of-type {\n",
       "        vertical-align: middle;\n",
       "    }\n",
       "\n",
       "    .dataframe tbody tr th {\n",
       "        vertical-align: top;\n",
       "    }\n",
       "\n",
       "    .dataframe thead th {\n",
       "        text-align: right;\n",
       "    }\n",
       "</style>\n",
       "<table border=\"1\" class=\"dataframe\">\n",
       "  <thead>\n",
       "    <tr style=\"text-align: right;\">\n",
       "      <th></th>\n",
       "      <th>frame</th>\n",
       "      <th>time</th>\n",
       "    </tr>\n",
       "  </thead>\n",
       "  <tbody>\n",
       "    <tr>\n",
       "      <th>0</th>\n",
       "      <td>20060</td>\n",
       "      <td>334.612225</td>\n",
       "    </tr>\n",
       "    <tr>\n",
       "      <th>1</th>\n",
       "      <td>21502</td>\n",
       "      <td>358.665696</td>\n",
       "    </tr>\n",
       "    <tr>\n",
       "      <th>2</th>\n",
       "      <td>21863</td>\n",
       "      <td>364.687160</td>\n",
       "    </tr>\n",
       "    <tr>\n",
       "      <th>3</th>\n",
       "      <td>22268</td>\n",
       "      <td>371.442836</td>\n",
       "    </tr>\n",
       "    <tr>\n",
       "      <th>4</th>\n",
       "      <td>23395</td>\n",
       "      <td>390.241960</td>\n",
       "    </tr>\n",
       "  </tbody>\n",
       "</table>\n",
       "</div>"
      ],
      "text/plain": [
       "   frame        time\n",
       "0  20060  334.612225\n",
       "1  21502  358.665696\n",
       "2  21863  364.687160\n",
       "3  22268  371.442836\n",
       "4  23395  390.241960"
      ]
     },
     "execution_count": 14,
     "metadata": {},
     "output_type": "execute_result"
    }
   ],
   "source": [
    "pkl_path = ophys_pkl_paths[0]\n",
    "data = pd.read_pickle(pkl_path)\n",
    "core_data = data_to_change_detection_core(data)\n",
    "core_data['omitted_stimuli'].head()"
   ]
  },
  {
   "cell_type": "markdown",
   "metadata": {},
   "source": [
    "## write the omitted flashes in the same format that the 'omitted_flash_frame_log' should have been in"
   ]
  },
  {
   "cell_type": "code",
   "execution_count": 15,
   "metadata": {},
   "outputs": [
    {
     "data": {
      "text/plain": [
       "{'images_0': [20060,\n",
       "  21502,\n",
       "  21863,\n",
       "  22268,\n",
       "  23395,\n",
       "  23350,\n",
       "  24026,\n",
       "  25513,\n",
       "  26864,\n",
       "  31192,\n",
       "  32139,\n",
       "  37368,\n",
       "  38135,\n",
       "  41020,\n",
       "  41517,\n",
       "  41832,\n",
       "  42103,\n",
       "  42779,\n",
       "  45169,\n",
       "  49366,\n",
       "  52744,\n",
       "  53014,\n",
       "  53960,\n",
       "  56257,\n",
       "  56619,\n",
       "  59504,\n",
       "  66400,\n",
       "  67165,\n",
       "  67659,\n",
       "  68019,\n",
       "  73921,\n",
       "  74688,\n",
       "  76584,\n",
       "  77304,\n",
       "  77710,\n",
       "  78386,\n",
       "  80235,\n",
       "  82577,\n",
       "  83794,\n",
       "  84563,\n",
       "  87765,\n",
       "  90830,\n",
       "  92906,\n",
       "  92996,\n",
       "  93131,\n",
       "  94438,\n",
       "  94844,\n",
       "  98813,\n",
       "  99128,\n",
       "  100433,\n",
       "  101380,\n",
       "  105883,\n",
       "  106153,\n",
       "  107552,\n",
       "  108363,\n",
       "  109355,\n",
       "  109580,\n",
       "  112692,\n",
       "  112782,\n",
       "  113369,\n",
       "  117789,\n",
       "  120492,\n",
       "  122568,\n",
       "  126894,\n",
       "  127390,\n",
       "  133202,\n",
       "  133787,\n",
       "  134014,\n",
       "  142708,\n",
       "  145144,\n",
       "  149106,\n",
       "  155460,\n",
       "  161860,\n",
       "  162445,\n",
       "  162625,\n",
       "  163976,\n",
       "  165602,\n",
       "  168801,\n",
       "  175156,\n",
       "  176915,\n",
       "  177410,\n",
       "  178311,\n",
       "  188635,\n",
       "  188995,\n",
       "  189446,\n",
       "  198057,\n",
       "  198326,\n",
       "  207563,\n",
       "  218742,\n",
       "  220048,\n",
       "  220317,\n",
       "  221764,\n",
       "  221719,\n",
       "  223432,\n",
       "  224017,\n",
       "  228751,\n",
       "  229248]}"
      ]
     },
     "execution_count": 15,
     "metadata": {},
     "output_type": "execute_result"
    }
   ],
   "source": [
    "{'images_0': core_data['omitted_stimuli']['frame'].to_list()}"
   ]
  },
  {
   "cell_type": "markdown",
   "metadata": {},
   "source": [
    "# for every session with omitted flashes, save the 'omitted_flash_frame_log' to a file"
   ]
  },
  {
   "cell_type": "markdown",
   "metadata": {},
   "source": [
    "### define a function"
   ]
  },
  {
   "cell_type": "code",
   "execution_count": 19,
   "metadata": {},
   "outputs": [],
   "source": [
    "def save_omitted_flash_logs(behavior_session_id):\n",
    "    pkl_path = db.get_pkl_path(behavior_session_id)\n",
    "    data = pd.read_pickle(pkl_path)\n",
    "    core_data = data_to_change_detection_core(data)\n",
    "    \n",
    "    savepath = '/allen/programs/braintv/workgroups/nc-ophys/visual_behavior/omitted_flash_frame_logs'\n",
    "    \n",
    "    filename = os.path.join(\n",
    "        savepath, \n",
    "        'omitted_flash_frame_log_behavior_session_{}.json'.format(behavior_session_id)\n",
    "    )\n",
    "    \n",
    "    omitted_flash_frame_log = {'images_0': core_data['omitted_stimuli']['frame'].to_list()}\n",
    "    \n",
    "    with open(filename, \"w\") as outfile:\n",
    "        json.dump(\n",
    "            omitted_flash_frame_log,\n",
    "            outfile\n",
    "        )"
   ]
  },
  {
   "cell_type": "markdown",
   "metadata": {},
   "source": [
    "### get the IDs for which to save files in list form"
   ]
  },
  {
   "cell_type": "code",
   "execution_count": 20,
   "metadata": {},
   "outputs": [
    {
     "data": {
      "text/plain": [
       "[774937388, 775870895, 777082591, 778980920, 784156661, 782380778, 786920476]"
      ]
     },
     "execution_count": 20,
     "metadata": {},
     "output_type": "execute_result"
    }
   ],
   "source": [
    "behavior_session_ids = (\n",
    "    ophys_omitted_flash_probs['behavior_session_id'].to_list() + \n",
    "    behavior_only_omitted_flash_probs[\n",
    "        pd.notnull(behavior_only_omitted_flash_probs['flash_omit_probability'])\n",
    "    ]['behavior_session_id'].to_list()\n",
    ")\n",
    "behavior_session_ids"
   ]
  },
  {
   "cell_type": "markdown",
   "metadata": {},
   "source": [
    "### run the function using multiprocessing.Pool"
   ]
  },
  {
   "cell_type": "code",
   "execution_count": 21,
   "metadata": {},
   "outputs": [
    {
     "name": "stderr",
     "output_type": "stream",
     "text": [
      "/allen/programs/braintv/workgroups/nc-ophys/Doug/code/visual_behavior_analysis/visual_behavior/translator/foraging2/extract_stimuli.py:106: UserWarning: \n",
      "there was no omitted_flash_frame_log, but long delays were present that were assumed to be omitted flashes\n",
      "  warnings.warn('\\nthere was no omitted_flash_frame_log, but long delays were present that were assumed to be omitted flashes')\n",
      "/allen/programs/braintv/workgroups/nc-ophys/Doug/code/visual_behavior_analysis/visual_behavior/translator/foraging2/extract_stimuli.py:106: UserWarning: \n",
      "there was no omitted_flash_frame_log, but long delays were present that were assumed to be omitted flashes\n",
      "  warnings.warn('\\nthere was no omitted_flash_frame_log, but long delays were present that were assumed to be omitted flashes')\n",
      "/allen/programs/braintv/workgroups/nc-ophys/Doug/code/visual_behavior_analysis/visual_behavior/translator/foraging2/extract_stimuli.py:106: UserWarning: \n",
      "there was no omitted_flash_frame_log, but long delays were present that were assumed to be omitted flashes\n",
      "  warnings.warn('\\nthere was no omitted_flash_frame_log, but long delays were present that were assumed to be omitted flashes')\n",
      "/allen/programs/braintv/workgroups/nc-ophys/Doug/code/visual_behavior_analysis/visual_behavior/translator/foraging2/extract_stimuli.py:106: UserWarning: \n",
      "there was no omitted_flash_frame_log, but long delays were present that were assumed to be omitted flashes\n",
      "  warnings.warn('\\nthere was no omitted_flash_frame_log, but long delays were present that were assumed to be omitted flashes')\n",
      "/allen/programs/braintv/workgroups/nc-ophys/Doug/code/visual_behavior_analysis/visual_behavior/translator/foraging2/extract_stimuli.py:106: UserWarning: \n",
      "there was no omitted_flash_frame_log, but long delays were present that were assumed to be omitted flashes\n",
      "  warnings.warn('\\nthere was no omitted_flash_frame_log, but long delays were present that were assumed to be omitted flashes')\n",
      "/allen/programs/braintv/workgroups/nc-ophys/Doug/code/visual_behavior_analysis/visual_behavior/translator/foraging2/extract_stimuli.py:106: UserWarning: \n",
      "there was no omitted_flash_frame_log, but long delays were present that were assumed to be omitted flashes\n",
      "  warnings.warn('\\nthere was no omitted_flash_frame_log, but long delays were present that were assumed to be omitted flashes')\n",
      "/allen/programs/braintv/workgroups/nc-ophys/Doug/code/visual_behavior_analysis/visual_behavior/translator/foraging2/extract_stimuli.py:106: UserWarning: \n",
      "there was no omitted_flash_frame_log, but long delays were present that were assumed to be omitted flashes\n",
      "  warnings.warn('\\nthere was no omitted_flash_frame_log, but long delays were present that were assumed to be omitted flashes')\n"
     ]
    }
   ],
   "source": [
    "with Pool(32) as pool:\n",
    "    pool.map(\n",
    "        save_omitted_flash_logs, \n",
    "        behavior_session_ids\n",
    "    )"
   ]
  },
  {
   "cell_type": "code",
   "execution_count": null,
   "metadata": {},
   "outputs": [],
   "source": []
  }
 ],
 "metadata": {
  "kernelspec": {
   "display_name": "vba",
   "language": "python",
   "name": "vba"
  },
  "language_info": {
   "codemirror_mode": {
    "name": "ipython",
    "version": 3
   },
   "file_extension": ".py",
   "mimetype": "text/x-python",
   "name": "python",
   "nbconvert_exporter": "python",
   "pygments_lexer": "ipython3",
   "version": "3.7.9"
  }
 },
 "nbformat": 4,
 "nbformat_minor": 4
}
