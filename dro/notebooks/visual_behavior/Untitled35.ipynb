{
 "cells": [
  {
   "cell_type": "code",
   "execution_count": 1,
   "metadata": {},
   "outputs": [],
   "source": [
    "# LIMS access:\n",
    "import psycopg2\n",
    "import psycopg2.extras\n",
    "# import sciris as sc\n",
    "import pandas as pd\n",
    "from visual_behavior.data_access import loading\n",
    "import visual_behavior.database as db"
   ]
  },
  {
   "cell_type": "code",
   "execution_count": 4,
   "metadata": {},
   "outputs": [],
   "source": [
    "def get_paired_planes(session_id):\n",
    "        ''' \n",
    "        Get paired experiments for given session. \n",
    "        This function will first query LIMS. (Query provided by Wayne)\n",
    "        But since LIMS does not have this information for a lot of older mesoscope sesions, if the query returns nothing, \n",
    "        it will try and parce cell extraction input json to get paired planes\n",
    "        :param ophys_session_id\n",
    "        :return: list of two elememnt list, where each sublist is two experiment IDs of a pair of coupled planes. In order of acquisition. \n",
    "        '''\n",
    "        pairs = []\n",
    "        try:\n",
    "            query = (f\"\"\"SELECT\n",
    "            os.id as session_id,\n",
    "            oe.id as exp_id,\n",
    "            oe.ophys_imaging_plane_group_id as pair_id,\n",
    "            oipg.group_order\n",
    "            FROM ophys_sessions os\n",
    "            JOIN ophys_experiments oe ON oe.ophys_session_id=os.id\n",
    "            JOIN ophys_imaging_plane_groups oipg ON oipg.id=oe.ophys_imaging_plane_group_id\n",
    "            WHERE os.id = {session_id}\n",
    "            ORDER BY exp_id\n",
    "            \"\"\")\n",
    "            \n",
    "            pairs_df = db.lims_query(query)\n",
    "            \n",
    "        except Exception as e:\n",
    "            print(\"Unable to query LIMS database: {}\".format(e))\n",
    "        if len(pairs_df) > 0:\n",
    "            num_groups = pairs_df['group_order'].drop_duplicates().values\n",
    "            for i in num_groups:\n",
    "                pair = [exp_id for exp_id in pairs_df.loc[pairs_df['group_order'] == i].exp_id]\n",
    "                pairs.append(pair)\n",
    "        else:\n",
    "            print(f\"Lims returned no group information about session {self.session_id}, using hardcoded splitting json filename\")\n",
    "            splitting_json = self.get_splitting_json()\n",
    "            with open(splitting_json, \"r\") as f:\n",
    "                data = json.load(f)\n",
    "            for pg in data.get(\"plane_groups\", []):\n",
    "                pairs.append([p[\"experiment_id\"] for p in pg.get(\"ophys_experiments\", [])])\n",
    "        return pairs\n",
    "    \n",
    "def refactor_sessions_table_mesoscope_for_qc():\n",
    "    '''\n",
    "    Refactor the sessions table for emoscope decrosstalking QC.\n",
    "    :param \n",
    "    :return: pandas DataFrame, refactored table\n",
    "    '''\n",
    "    session_table = loading.get_filtered_ophys_session_table()\n",
    "    meso_only_sessions = session_table.loc[session_table.equipment_name == 'MESO.1']\n",
    "    meso_only_sessions_filtered = meso_only_sessions #.drop(columns=['ophys_experiment_id', 'at_least_one_experiment_passed', 'age_in_days', 'at_least_one_experiment_passed', 'behavior_session_id', 'donor_id', 'full_genotype', 'model_outputs_available', 'reporter_line', 'session_name', 'sex', 'specimen_id'])\n",
    "    meso_table = pd.concat([meso_only_sessions_filtered, pd.DataFrame(columns=['ophys_experiment_ids, paired'])])\n",
    "    for session in meso_table.index:\n",
    "        paired_planes = get_paired_planes(session)\n",
    "        meso_table.at[session,'ophys_experiment_ids, paired'] = paired_planes\n",
    "    return meso_table\n"
   ]
  },
  {
   "cell_type": "code",
   "execution_count": 5,
   "metadata": {},
   "outputs": [
    {
     "name": "stderr",
     "output_type": "stream",
     "text": [
      "/home/dougo/.local/lib/python3.7/site-packages/ipykernel_launcher.py:51: FutureWarning: Sorting because non-concatenation axis is not aligned. A future version\n",
      "of pandas will change to not sort by default.\n",
      "\n",
      "To accept the future behavior, pass 'sort=False'.\n",
      "\n",
      "To retain the current behavior and silence the warning, pass 'sort=True'.\n",
      "\n"
     ]
    },
    {
     "ename": "KeyError",
     "evalue": "\"['mouse_id'] not in index\"",
     "output_type": "error",
     "traceback": [
      "\u001b[0;31m---------------------------------------------------------------------------\u001b[0m",
      "\u001b[0;31mKeyError\u001b[0m                                  Traceback (most recent call last)",
      "\u001b[0;32m<ipython-input-5-feae1515f428>\u001b[0m in \u001b[0;36m<module>\u001b[0;34m\u001b[0m\n\u001b[1;32m     13\u001b[0m     \u001b[0;34m'session_type'\u001b[0m\u001b[0;34m,\u001b[0m\u001b[0;34m\u001b[0m\u001b[0;34m\u001b[0m\u001b[0m\n\u001b[1;32m     14\u001b[0m ]\n\u001b[0;32m---> 15\u001b[0;31m \u001b[0mmeso_table\u001b[0m\u001b[0;34m[\u001b[0m\u001b[0mcolumms_to_show\u001b[0m\u001b[0;34m]\u001b[0m\u001b[0;34m\u001b[0m\u001b[0;34m\u001b[0m\u001b[0m\n\u001b[0m",
      "\u001b[0;32m~/.local/lib/python3.7/site-packages/pandas/core/frame.py\u001b[0m in \u001b[0;36m__getitem__\u001b[0;34m(self, key)\u001b[0m\n\u001b[1;32m   2999\u001b[0m             \u001b[0;32mif\u001b[0m \u001b[0mis_iterator\u001b[0m\u001b[0;34m(\u001b[0m\u001b[0mkey\u001b[0m\u001b[0;34m)\u001b[0m\u001b[0;34m:\u001b[0m\u001b[0;34m\u001b[0m\u001b[0;34m\u001b[0m\u001b[0m\n\u001b[1;32m   3000\u001b[0m                 \u001b[0mkey\u001b[0m \u001b[0;34m=\u001b[0m \u001b[0mlist\u001b[0m\u001b[0;34m(\u001b[0m\u001b[0mkey\u001b[0m\u001b[0;34m)\u001b[0m\u001b[0;34m\u001b[0m\u001b[0;34m\u001b[0m\u001b[0m\n\u001b[0;32m-> 3001\u001b[0;31m             \u001b[0mindexer\u001b[0m \u001b[0;34m=\u001b[0m \u001b[0mself\u001b[0m\u001b[0;34m.\u001b[0m\u001b[0mloc\u001b[0m\u001b[0;34m.\u001b[0m\u001b[0m_convert_to_indexer\u001b[0m\u001b[0;34m(\u001b[0m\u001b[0mkey\u001b[0m\u001b[0;34m,\u001b[0m \u001b[0maxis\u001b[0m\u001b[0;34m=\u001b[0m\u001b[0;36m1\u001b[0m\u001b[0;34m,\u001b[0m \u001b[0mraise_missing\u001b[0m\u001b[0;34m=\u001b[0m\u001b[0;32mTrue\u001b[0m\u001b[0;34m)\u001b[0m\u001b[0;34m\u001b[0m\u001b[0;34m\u001b[0m\u001b[0m\n\u001b[0m\u001b[1;32m   3002\u001b[0m \u001b[0;34m\u001b[0m\u001b[0m\n\u001b[1;32m   3003\u001b[0m         \u001b[0;31m# take() does not accept boolean indexers\u001b[0m\u001b[0;34m\u001b[0m\u001b[0;34m\u001b[0m\u001b[0;34m\u001b[0m\u001b[0m\n",
      "\u001b[0;32m~/.local/lib/python3.7/site-packages/pandas/core/indexing.py\u001b[0m in \u001b[0;36m_convert_to_indexer\u001b[0;34m(self, obj, axis, is_setter, raise_missing)\u001b[0m\n\u001b[1;32m   1283\u001b[0m                 \u001b[0;31m# When setting, missing keys are not allowed, even with .loc:\u001b[0m\u001b[0;34m\u001b[0m\u001b[0;34m\u001b[0m\u001b[0;34m\u001b[0m\u001b[0m\n\u001b[1;32m   1284\u001b[0m                 \u001b[0mkwargs\u001b[0m \u001b[0;34m=\u001b[0m \u001b[0;34m{\u001b[0m\u001b[0;34m\"raise_missing\"\u001b[0m\u001b[0;34m:\u001b[0m \u001b[0;32mTrue\u001b[0m \u001b[0;32mif\u001b[0m \u001b[0mis_setter\u001b[0m \u001b[0;32melse\u001b[0m \u001b[0mraise_missing\u001b[0m\u001b[0;34m}\u001b[0m\u001b[0;34m\u001b[0m\u001b[0;34m\u001b[0m\u001b[0m\n\u001b[0;32m-> 1285\u001b[0;31m                 \u001b[0;32mreturn\u001b[0m \u001b[0mself\u001b[0m\u001b[0;34m.\u001b[0m\u001b[0m_get_listlike_indexer\u001b[0m\u001b[0;34m(\u001b[0m\u001b[0mobj\u001b[0m\u001b[0;34m,\u001b[0m \u001b[0maxis\u001b[0m\u001b[0;34m,\u001b[0m \u001b[0;34m**\u001b[0m\u001b[0mkwargs\u001b[0m\u001b[0;34m)\u001b[0m\u001b[0;34m[\u001b[0m\u001b[0;36m1\u001b[0m\u001b[0;34m]\u001b[0m\u001b[0;34m\u001b[0m\u001b[0;34m\u001b[0m\u001b[0m\n\u001b[0m\u001b[1;32m   1286\u001b[0m         \u001b[0;32melse\u001b[0m\u001b[0;34m:\u001b[0m\u001b[0;34m\u001b[0m\u001b[0;34m\u001b[0m\u001b[0m\n\u001b[1;32m   1287\u001b[0m             \u001b[0;32mtry\u001b[0m\u001b[0;34m:\u001b[0m\u001b[0;34m\u001b[0m\u001b[0;34m\u001b[0m\u001b[0m\n",
      "\u001b[0;32m~/.local/lib/python3.7/site-packages/pandas/core/indexing.py\u001b[0m in \u001b[0;36m_get_listlike_indexer\u001b[0;34m(self, key, axis, raise_missing)\u001b[0m\n\u001b[1;32m   1090\u001b[0m \u001b[0;34m\u001b[0m\u001b[0m\n\u001b[1;32m   1091\u001b[0m         self._validate_read_indexer(\n\u001b[0;32m-> 1092\u001b[0;31m             \u001b[0mkeyarr\u001b[0m\u001b[0;34m,\u001b[0m \u001b[0mindexer\u001b[0m\u001b[0;34m,\u001b[0m \u001b[0mo\u001b[0m\u001b[0;34m.\u001b[0m\u001b[0m_get_axis_number\u001b[0m\u001b[0;34m(\u001b[0m\u001b[0maxis\u001b[0m\u001b[0;34m)\u001b[0m\u001b[0;34m,\u001b[0m \u001b[0mraise_missing\u001b[0m\u001b[0;34m=\u001b[0m\u001b[0mraise_missing\u001b[0m\u001b[0;34m\u001b[0m\u001b[0;34m\u001b[0m\u001b[0m\n\u001b[0m\u001b[1;32m   1093\u001b[0m         )\n\u001b[1;32m   1094\u001b[0m         \u001b[0;32mreturn\u001b[0m \u001b[0mkeyarr\u001b[0m\u001b[0;34m,\u001b[0m \u001b[0mindexer\u001b[0m\u001b[0;34m\u001b[0m\u001b[0;34m\u001b[0m\u001b[0m\n",
      "\u001b[0;32m~/.local/lib/python3.7/site-packages/pandas/core/indexing.py\u001b[0m in \u001b[0;36m_validate_read_indexer\u001b[0;34m(self, key, indexer, axis, raise_missing)\u001b[0m\n\u001b[1;32m   1183\u001b[0m             \u001b[0;32mif\u001b[0m \u001b[0;32mnot\u001b[0m \u001b[0;34m(\u001b[0m\u001b[0mself\u001b[0m\u001b[0;34m.\u001b[0m\u001b[0mname\u001b[0m \u001b[0;34m==\u001b[0m \u001b[0;34m\"loc\"\u001b[0m \u001b[0;32mand\u001b[0m \u001b[0;32mnot\u001b[0m \u001b[0mraise_missing\u001b[0m\u001b[0;34m)\u001b[0m\u001b[0;34m:\u001b[0m\u001b[0;34m\u001b[0m\u001b[0;34m\u001b[0m\u001b[0m\n\u001b[1;32m   1184\u001b[0m                 \u001b[0mnot_found\u001b[0m \u001b[0;34m=\u001b[0m \u001b[0mlist\u001b[0m\u001b[0;34m(\u001b[0m\u001b[0mset\u001b[0m\u001b[0;34m(\u001b[0m\u001b[0mkey\u001b[0m\u001b[0;34m)\u001b[0m \u001b[0;34m-\u001b[0m \u001b[0mset\u001b[0m\u001b[0;34m(\u001b[0m\u001b[0max\u001b[0m\u001b[0;34m)\u001b[0m\u001b[0;34m)\u001b[0m\u001b[0;34m\u001b[0m\u001b[0;34m\u001b[0m\u001b[0m\n\u001b[0;32m-> 1185\u001b[0;31m                 \u001b[0;32mraise\u001b[0m \u001b[0mKeyError\u001b[0m\u001b[0;34m(\u001b[0m\u001b[0;34m\"{} not in index\"\u001b[0m\u001b[0;34m.\u001b[0m\u001b[0mformat\u001b[0m\u001b[0;34m(\u001b[0m\u001b[0mnot_found\u001b[0m\u001b[0;34m)\u001b[0m\u001b[0;34m)\u001b[0m\u001b[0;34m\u001b[0m\u001b[0;34m\u001b[0m\u001b[0m\n\u001b[0m\u001b[1;32m   1186\u001b[0m \u001b[0;34m\u001b[0m\u001b[0m\n\u001b[1;32m   1187\u001b[0m             \u001b[0;31m# we skip the warning on Categorical/Interval\u001b[0m\u001b[0;34m\u001b[0m\u001b[0;34m\u001b[0m\u001b[0;34m\u001b[0m\u001b[0m\n",
      "\u001b[0;31mKeyError\u001b[0m: \"['mouse_id'] not in index\""
     ]
    }
   ],
   "source": [
    "meso_table = refactor_sessions_table_mesoscope_for_qc()\n",
    "meso_table['container_id'] = meso_table['container_id'].astype(int)\n",
    "meso_table = meso_table.reset_index().rename(columns={'index':'ophys_session_id'})\n",
    "\n",
    "columms_to_show = [\n",
    "    'ophys_session_id',\n",
    "    'ophys_experiment_ids, paired',\n",
    "    'date_of_acquisition', \n",
    "    'driver_line',\n",
    "    'equipment_name', \n",
    "    'mouse_id',\n",
    "    'project_code', \n",
    "    'session_type',\n",
    "]\n",
    "meso_table[columms_to_show]"
   ]
  },
  {
   "cell_type": "code",
   "execution_count": 13,
   "metadata": {},
   "outputs": [
    {
     "data": {
      "text/plain": [
       "Index(['container_id', 'container_workflow_state', 'date_of_acquisition',\n",
       "       'driver_line', 'equipment_name', 'mouse_id',\n",
       "       'ophys_experiment_ids, paired', 'project_code', 'session_type',\n",
       "       'session_workflow_state'],\n",
       "      dtype='object')"
      ]
     },
     "execution_count": 13,
     "metadata": {},
     "output_type": "execute_result"
    }
   ],
   "source": [
    "meso_table.columns"
   ]
  },
  {
   "cell_type": "code",
   "execution_count": 6,
   "metadata": {},
   "outputs": [],
   "source": [
    "import os\n",
    "def get_roi_overlap_plots_links(session_id, plots_dir = '/allen/programs/braintv/workgroups/nc-ophys/visual_behavior/qc_plots/single_cell_plots/mesoscope_decrosstalk'):\n",
    "    \"\"\"\n",
    "    function to build links ot the roi-level plots given session_id\n",
    "    session_id : int, session ID form lims\n",
    "    plots_dir: str, path to outer directory \n",
    "    returns dict, where {'pair_0_overlaps' : \"path_to_roi_level_dir\"}\n",
    "    \"\"\"\n",
    "    session_path = os.path.join(plots_dir, f\"session_{session_id}\")\n",
    "    roi_links = {}\n",
    "    pairs = get_paired_planes(session_id)\n",
    "    for i, pair in enumerate(pairs):\n",
    "        pair_dir_path = os.path.join(session_path, f\"pair_{i}_overlaps\")\n",
    "        if os.path.isdir(pair_dir_path):\n",
    "            roi_links[f'pair_{i}'] = pair_dir_path\n",
    "        else:\n",
    "            roi_links[f'pair_{i}']  = \"roi level plots don't exist\"        \n",
    "    return roi_links"
   ]
  },
  {
   "cell_type": "code",
   "execution_count": 9,
   "metadata": {},
   "outputs": [
    {
     "data": {
      "text/plain": [
       "['/allen/programs/braintv/workgroups/nc-ophys/visual_behavior/qc_plots/single_cell_plots/mesoscope_decrosstalk/session_1048363441/pair_0_overlaps',\n",
       " '/allen/programs/braintv/workgroups/nc-ophys/visual_behavior/qc_plots/single_cell_plots/mesoscope_decrosstalk/session_1048363441/pair_1_overlaps',\n",
       " '/allen/programs/braintv/workgroups/nc-ophys/visual_behavior/qc_plots/single_cell_plots/mesoscope_decrosstalk/session_1048363441/pair_2_overlaps',\n",
       " '/allen/programs/braintv/workgroups/nc-ophys/visual_behavior/qc_plots/single_cell_plots/mesoscope_decrosstalk/session_1048363441/pair_3_overlaps']"
      ]
     },
     "execution_count": 9,
     "metadata": {},
     "output_type": "execute_result"
    }
   ],
   "source": [
    "link_list = [v for k,v in get_roi_overlap_plots_links(1048363441).items()]\n",
    "link_list"
   ]
  },
  {
   "cell_type": "code",
   "execution_count": 10,
   "metadata": {},
   "outputs": [
    {
     "data": {
      "text/plain": [
       "{'pair_0': \"roi level plots don't exist\",\n",
       " 'pair_1': \"roi level plots don't exist\",\n",
       " 'pair_2': \"roi level plots don't exist\",\n",
       " 'pair_3': \"roi level plots don't exist\"}"
      ]
     },
     "execution_count": 10,
     "metadata": {},
     "output_type": "execute_result"
    }
   ],
   "source": [
    "get_roi_overlap_plots_links(866197765)"
   ]
  },
  {
   "cell_type": "code",
   "execution_count": 11,
   "metadata": {},
   "outputs": [
    {
     "ename": "NameError",
     "evalue": "name 'functions' is not defined",
     "output_type": "error",
     "traceback": [
      "\u001b[0;31m---------------------------------------------------------------------------\u001b[0m",
      "\u001b[0;31mNameError\u001b[0m                                 Traceback (most recent call last)",
      "\u001b[0;32m<ipython-input-11-9ad9b4e32b12>\u001b[0m in \u001b[0;36m<module>\u001b[0;34m\u001b[0m\n\u001b[0;32m----> 1\u001b[0;31m \u001b[0mfunctions\u001b[0m\u001b[0;34m.\u001b[0m\u001b[0mload_container_plot_options\u001b[0m\u001b[0;34m(\u001b[0m\u001b[0;34m)\u001b[0m\u001b[0;34m\u001b[0m\u001b[0;34m\u001b[0m\u001b[0m\n\u001b[0m",
      "\u001b[0;31mNameError\u001b[0m: name 'functions' is not defined"
     ]
    }
   ],
   "source": [
    "functions.load_container_plot_options()"
   ]
  },
  {
   "cell_type": "code",
   "execution_count": null,
   "metadata": {},
   "outputs": [],
   "source": []
  }
 ],
 "metadata": {
  "kernelspec": {
   "display_name": "vb_qc_app",
   "language": "python",
   "name": "vb_qc_app"
  },
  "language_info": {
   "codemirror_mode": {
    "name": "ipython",
    "version": 3
   },
   "file_extension": ".py",
   "mimetype": "text/x-python",
   "name": "python",
   "nbconvert_exporter": "python",
   "pygments_lexer": "ipython3",
   "version": "3.7.9"
  }
 },
 "nbformat": 4,
 "nbformat_minor": 4
}
