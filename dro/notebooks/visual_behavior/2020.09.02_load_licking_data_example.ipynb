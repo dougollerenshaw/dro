{
 "cells": [
  {
   "cell_type": "code",
   "execution_count": 2,
   "metadata": {},
   "outputs": [],
   "source": [
    "import visual_behavior.data_access.loading as loading\n",
    "import visual_behavior.database as db"
   ]
  },
  {
   "cell_type": "code",
   "execution_count": 5,
   "metadata": {},
   "outputs": [
    {
     "data": {
      "text/plain": [
       "984551228"
      ]
     },
     "execution_count": 5,
     "metadata": {},
     "output_type": "execute_result"
    }
   ],
   "source": [
    "osid = 982980548\n",
    "oeid = db.lims_query('select ID from ophys_experiments where ophys_session_id = {}'.format(osid))\n",
    "oeid"
   ]
  },
  {
   "cell_type": "code",
   "execution_count": 6,
   "metadata": {},
   "outputs": [],
   "source": [
    "dataset = loading.get_ophys_dataset(oeid)"
   ]
  },
  {
   "cell_type": "code",
   "execution_count": 7,
   "metadata": {},
   "outputs": [
    {
     "data": {
      "text/plain": [
       "{'groom_reach_with_contact': array([1.6314846e-06, 1.3306158e-06, 5.8090188e-07, ..., 2.5681899e-07,\n",
       "        7.0512976e-07, 7.0935300e-08], dtype=float32),\n",
       " 'groom_reach_without_contact': array([4.1038052e-06, 3.5862408e-06, 1.9140214e-06, ..., 2.6446953e-06,\n",
       "        2.6310070e-06, 4.7132914e-07], dtype=float32),\n",
       " 'lick_with_contact': array([2.6735075e-05, 2.5009449e-05, 1.2171467e-05, ..., 8.1381822e-06,\n",
       "        1.7621825e-05, 4.8811139e-06], dtype=float32),\n",
       " 'lick_without_contact': array([3.2511845e-05, 3.2124346e-05, 1.4967448e-05, ..., 7.8939156e-06,\n",
       "        1.6259162e-05, 5.1949924e-06], dtype=float32),\n",
       " 'no_contact': array([0.9998857 , 0.9998964 , 0.9999367 , ..., 0.99978644, 0.99988234,\n",
       "        0.9999664 ], dtype=float32),\n",
       " 'paw_contact': array([4.9365080e-05, 4.1516087e-05, 3.3581415e-05, ..., 1.9468095e-04,\n",
       "        8.0472004e-05, 2.3051065e-05], dtype=float32)}"
      ]
     },
     "execution_count": 7,
     "metadata": {},
     "output_type": "execute_result"
    }
   ],
   "source": [
    "dataset.behavior_movie_predictions "
   ]
  },
  {
   "cell_type": "code",
   "execution_count": 12,
   "metadata": {},
   "outputs": [
    {
     "name": "stderr",
     "output_type": "stream",
     "text": [
      "cannot query specimen driver line: can't adapt type 'numpy.int64'\n",
      "cannot query specimen reporter line: can't adapt type 'numpy.int64'\n"
     ]
    },
    {
     "data": {
      "text/html": [
       "<div>\n",
       "<style scoped>\n",
       "    .dataframe tbody tr th:only-of-type {\n",
       "        vertical-align: middle;\n",
       "    }\n",
       "\n",
       "    .dataframe tbody tr th {\n",
       "        vertical-align: top;\n",
       "    }\n",
       "\n",
       "    .dataframe thead th {\n",
       "        text-align: right;\n",
       "    }\n",
       "</style>\n",
       "<table border=\"1\" class=\"dataframe\">\n",
       "  <thead>\n",
       "    <tr style=\"text-align: right;\">\n",
       "      <th></th>\n",
       "      <th>groom_reach_with_contact</th>\n",
       "      <th>groom_reach_without_contact</th>\n",
       "      <th>lick_with_contact</th>\n",
       "      <th>lick_without_contact</th>\n",
       "      <th>no_contact</th>\n",
       "      <th>paw_contact</th>\n",
       "      <th>timestamps</th>\n",
       "    </tr>\n",
       "    <tr>\n",
       "      <th>frame_index</th>\n",
       "      <th></th>\n",
       "      <th></th>\n",
       "      <th></th>\n",
       "      <th></th>\n",
       "      <th></th>\n",
       "      <th></th>\n",
       "      <th></th>\n",
       "    </tr>\n",
       "  </thead>\n",
       "  <tbody>\n",
       "    <tr>\n",
       "      <th>0</th>\n",
       "      <td>1.631485e-06</td>\n",
       "      <td>4.103805e-06</td>\n",
       "      <td>0.000027</td>\n",
       "      <td>0.000033</td>\n",
       "      <td>0.999886</td>\n",
       "      <td>0.000049</td>\n",
       "      <td>0.14055</td>\n",
       "    </tr>\n",
       "    <tr>\n",
       "      <th>1</th>\n",
       "      <td>1.330616e-06</td>\n",
       "      <td>3.586241e-06</td>\n",
       "      <td>0.000025</td>\n",
       "      <td>0.000032</td>\n",
       "      <td>0.999896</td>\n",
       "      <td>0.000042</td>\n",
       "      <td>0.16326</td>\n",
       "    </tr>\n",
       "    <tr>\n",
       "      <th>2</th>\n",
       "      <td>5.809019e-07</td>\n",
       "      <td>1.914021e-06</td>\n",
       "      <td>0.000012</td>\n",
       "      <td>0.000015</td>\n",
       "      <td>0.999937</td>\n",
       "      <td>0.000034</td>\n",
       "      <td>0.16595</td>\n",
       "    </tr>\n",
       "    <tr>\n",
       "      <th>3</th>\n",
       "      <td>5.257563e-07</td>\n",
       "      <td>1.800797e-06</td>\n",
       "      <td>0.000016</td>\n",
       "      <td>0.000022</td>\n",
       "      <td>0.999936</td>\n",
       "      <td>0.000024</td>\n",
       "      <td>0.19901</td>\n",
       "    </tr>\n",
       "    <tr>\n",
       "      <th>4</th>\n",
       "      <td>1.367007e-06</td>\n",
       "      <td>3.583541e-06</td>\n",
       "      <td>0.000022</td>\n",
       "      <td>0.000027</td>\n",
       "      <td>0.999900</td>\n",
       "      <td>0.000046</td>\n",
       "      <td>0.23252</td>\n",
       "    </tr>\n",
       "    <tr>\n",
       "      <th>...</th>\n",
       "      <td>...</td>\n",
       "      <td>...</td>\n",
       "      <td>...</td>\n",
       "      <td>...</td>\n",
       "      <td>...</td>\n",
       "      <td>...</td>\n",
       "      <td>...</td>\n",
       "    </tr>\n",
       "    <tr>\n",
       "      <th>135867</th>\n",
       "      <td>2.569934e-07</td>\n",
       "      <td>3.472477e-06</td>\n",
       "      <td>0.000011</td>\n",
       "      <td>0.000008</td>\n",
       "      <td>0.999521</td>\n",
       "      <td>0.000457</td>\n",
       "      <td>4529.24394</td>\n",
       "    </tr>\n",
       "    <tr>\n",
       "      <th>135868</th>\n",
       "      <td>5.999602e-08</td>\n",
       "      <td>5.067973e-07</td>\n",
       "      <td>0.000003</td>\n",
       "      <td>0.000002</td>\n",
       "      <td>0.999951</td>\n",
       "      <td>0.000043</td>\n",
       "      <td>4529.27732</td>\n",
       "    </tr>\n",
       "    <tr>\n",
       "      <th>135869</th>\n",
       "      <td>2.568190e-07</td>\n",
       "      <td>2.644695e-06</td>\n",
       "      <td>0.000008</td>\n",
       "      <td>0.000008</td>\n",
       "      <td>0.999786</td>\n",
       "      <td>0.000195</td>\n",
       "      <td>4529.31056</td>\n",
       "    </tr>\n",
       "    <tr>\n",
       "      <th>135870</th>\n",
       "      <td>7.051298e-07</td>\n",
       "      <td>2.631007e-06</td>\n",
       "      <td>0.000018</td>\n",
       "      <td>0.000016</td>\n",
       "      <td>0.999882</td>\n",
       "      <td>0.000080</td>\n",
       "      <td>4529.34653</td>\n",
       "    </tr>\n",
       "    <tr>\n",
       "      <th>135871</th>\n",
       "      <td>7.093530e-08</td>\n",
       "      <td>4.713291e-07</td>\n",
       "      <td>0.000005</td>\n",
       "      <td>0.000005</td>\n",
       "      <td>0.999966</td>\n",
       "      <td>0.000023</td>\n",
       "      <td>4529.37749</td>\n",
       "    </tr>\n",
       "  </tbody>\n",
       "</table>\n",
       "<p>135872 rows × 7 columns</p>\n",
       "</div>"
      ],
      "text/plain": [
       "             groom_reach_with_contact  groom_reach_without_contact  \\\n",
       "frame_index                                                          \n",
       "0                        1.631485e-06                 4.103805e-06   \n",
       "1                        1.330616e-06                 3.586241e-06   \n",
       "2                        5.809019e-07                 1.914021e-06   \n",
       "3                        5.257563e-07                 1.800797e-06   \n",
       "4                        1.367007e-06                 3.583541e-06   \n",
       "...                               ...                          ...   \n",
       "135867                   2.569934e-07                 3.472477e-06   \n",
       "135868                   5.999602e-08                 5.067973e-07   \n",
       "135869                   2.568190e-07                 2.644695e-06   \n",
       "135870                   7.051298e-07                 2.631007e-06   \n",
       "135871                   7.093530e-08                 4.713291e-07   \n",
       "\n",
       "             lick_with_contact  lick_without_contact  no_contact  paw_contact  \\\n",
       "frame_index                                                                     \n",
       "0                     0.000027              0.000033    0.999886     0.000049   \n",
       "1                     0.000025              0.000032    0.999896     0.000042   \n",
       "2                     0.000012              0.000015    0.999937     0.000034   \n",
       "3                     0.000016              0.000022    0.999936     0.000024   \n",
       "4                     0.000022              0.000027    0.999900     0.000046   \n",
       "...                        ...                   ...         ...          ...   \n",
       "135867                0.000011              0.000008    0.999521     0.000457   \n",
       "135868                0.000003              0.000002    0.999951     0.000043   \n",
       "135869                0.000008              0.000008    0.999786     0.000195   \n",
       "135870                0.000018              0.000016    0.999882     0.000080   \n",
       "135871                0.000005              0.000005    0.999966     0.000023   \n",
       "\n",
       "             timestamps  \n",
       "frame_index              \n",
       "0               0.14055  \n",
       "1               0.16326  \n",
       "2               0.16595  \n",
       "3               0.19901  \n",
       "4               0.23252  \n",
       "...                 ...  \n",
       "135867       4529.24394  \n",
       "135868       4529.27732  \n",
       "135869       4529.31056  \n",
       "135870       4529.34653  \n",
       "135871       4529.37749  \n",
       "\n",
       "[135872 rows x 7 columns]"
      ]
     },
     "execution_count": 12,
     "metadata": {},
     "output_type": "execute_result"
    }
   ],
   "source": [
    "movie_predictions = pd.DataFrame(dataset.behavior_movie_predictions)\n",
    "movie_predictions.index.name = 'frame_index'\n",
    "movie_predictions['timestamps'] = dataset.behavior_movie_timestamps[:len(movie_predictions)] #length check will trim off spurious timestamps at the end\n",
    "movie_predictions"
   ]
  },
  {
   "cell_type": "code",
   "execution_count": 18,
   "metadata": {},
   "outputs": [
    {
     "data": {
      "text/plain": [
       "<matplotlib.legend.Legend at 0x7f87e0e54bb0>"
      ]
     },
     "execution_count": 18,
     "metadata": {},
     "output_type": "execute_result"
    },
    {
     "data": {
      "image/png": "[encoded data removed]",
      "text/plain": [
       "<Figure size 1080x360 with 1 Axes>"
      ]
     },
     "metadata": {
      "needs_background": "light"
     },
     "output_type": "display_data"
    }
   ],
   "source": [
    "fig,ax=plt.subplots(figsize=(15,5))\n",
    "cols_to_plot = [col for col in movie_predictions.columns if col not in ['timestamps', 'no_contact']]\n",
    "for col in cols_to_plot:\n",
    "    ax.plot(\n",
    "        movie_predictions['timestamps'],\n",
    "        movie_predictions[col]\n",
    "    )\n",
    "ax.legend(movie_predictions.columns)"
   ]
  }
 ],
 "metadata": {
  "kernelspec": {
   "display_name": "visual_behavior",
   "language": "python",
   "name": "visual_behavior"
  },
  "language_info": {
   "codemirror_mode": {
    "name": "ipython",
    "version": 3
   },
   "file_extension": ".py",
   "mimetype": "text/x-python",
   "name": "python",
   "nbconvert_exporter": "python",
   "pygments_lexer": "ipython3",
   "version": "3.8.3"
  }
 },
 "nbformat": 4,
 "nbformat_minor": 4
}
