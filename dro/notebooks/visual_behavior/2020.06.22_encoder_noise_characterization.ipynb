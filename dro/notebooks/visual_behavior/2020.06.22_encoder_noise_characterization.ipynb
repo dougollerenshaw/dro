{
 "cells": [
  {
   "cell_type": "code",
   "execution_count": 3,
   "metadata": {},
   "outputs": [
    {
     "name": "stderr",
     "output_type": "stream",
     "text": [
      "/home/dougo/Code/AllenSDK/allensdk/brain_observatory/behavior/behavior_ophys_api/behavior_ophys_nwb_api.py:9: FutureWarning: pandas.util.testing is deprecated. Use the functions in the public API at pandas.testing instead.\n",
      "  from pandas.util.testing import assert_frame_equal\n"
     ]
    }
   ],
   "source": [
    "import visual_behavior.database as db\n",
    "from visual_behavior.data_access import loading\n",
    "import seaborn as sns"
   ]
  },
  {
   "cell_type": "code",
   "execution_count": 4,
   "metadata": {},
   "outputs": [],
   "source": [
    "cache = loading.get_visual_behavior_cache()\n",
    "behavior_session_table = cache.get_behavior_session_table()"
   ]
  },
  {
   "cell_type": "code",
   "execution_count": 13,
   "metadata": {},
   "outputs": [
    {
     "data": {
      "text/plain": [
       "10187"
      ]
     },
     "execution_count": 13,
     "metadata": {},
     "output_type": "execute_result"
    }
   ],
   "source": [
    "len(behavior_session_table.index)"
   ]
  },
  {
   "cell_type": "code",
   "execution_count": 36,
   "metadata": {},
   "outputs": [
    {
     "data": {
      "text/plain": [
       "9948"
      ]
     },
     "execution_count": 36,
     "metadata": {},
     "output_type": "execute_result"
    }
   ],
   "source": [
    "conn = db.Database('visual_behavior_data')\n",
    "collection = conn['behavior_analysis']['running_data_summary']\n",
    "df = pd.DataFrame(list(collection.find({}))).query('std < 2.5')\n",
    "conn.close()\n",
    "len(df)"
   ]
  },
  {
   "cell_type": "code",
   "execution_count": 37,
   "metadata": {},
   "outputs": [
    {
     "data": {
      "text/html": [
       "<div>\n",
       "<style scoped>\n",
       "    .dataframe tbody tr th:only-of-type {\n",
       "        vertical-align: middle;\n",
       "    }\n",
       "\n",
       "    .dataframe tbody tr th {\n",
       "        vertical-align: top;\n",
       "    }\n",
       "\n",
       "    .dataframe thead th {\n",
       "        text-align: right;\n",
       "    }\n",
       "</style>\n",
       "<table border=\"1\" class=\"dataframe\">\n",
       "  <thead>\n",
       "    <tr style=\"text-align: right;\">\n",
       "      <th></th>\n",
       "      <th>std</th>\n",
       "      <th>behavior_session_id</th>\n",
       "    </tr>\n",
       "  </thead>\n",
       "  <tbody>\n",
       "    <tr>\n",
       "      <th>1</th>\n",
       "      <td>0.384414</td>\n",
       "      <td>867036297</td>\n",
       "    </tr>\n",
       "    <tr>\n",
       "      <th>4</th>\n",
       "      <td>0.953701</td>\n",
       "      <td>883696092</td>\n",
       "    </tr>\n",
       "    <tr>\n",
       "      <th>10</th>\n",
       "      <td>1.603885</td>\n",
       "      <td>822447169</td>\n",
       "    </tr>\n",
       "    <tr>\n",
       "      <th>11</th>\n",
       "      <td>0.995524</td>\n",
       "      <td>868743660</td>\n",
       "    </tr>\n",
       "    <tr>\n",
       "      <th>27</th>\n",
       "      <td>1.213466</td>\n",
       "      <td>968564134</td>\n",
       "    </tr>\n",
       "    <tr>\n",
       "      <th>...</th>\n",
       "      <td>...</td>\n",
       "      <td>...</td>\n",
       "    </tr>\n",
       "    <tr>\n",
       "      <th>9849</th>\n",
       "      <td>1.786070</td>\n",
       "      <td>817925173</td>\n",
       "    </tr>\n",
       "    <tr>\n",
       "      <th>9855</th>\n",
       "      <td>1.973172</td>\n",
       "      <td>888301437</td>\n",
       "    </tr>\n",
       "    <tr>\n",
       "      <th>9859</th>\n",
       "      <td>0.353384</td>\n",
       "      <td>777200179</td>\n",
       "    </tr>\n",
       "    <tr>\n",
       "      <th>9881</th>\n",
       "      <td>0.651537</td>\n",
       "      <td>994882261</td>\n",
       "    </tr>\n",
       "    <tr>\n",
       "      <th>9940</th>\n",
       "      <td>0.492851</td>\n",
       "      <td>992729558</td>\n",
       "    </tr>\n",
       "  </tbody>\n",
       "</table>\n",
       "<p>470 rows × 2 columns</p>\n",
       "</div>"
      ],
      "text/plain": [
       "           std  behavior_session_id\n",
       "1     0.384414            867036297\n",
       "4     0.953701            883696092\n",
       "10    1.603885            822447169\n",
       "11    0.995524            868743660\n",
       "27    1.213466            968564134\n",
       "...        ...                  ...\n",
       "9849  1.786070            817925173\n",
       "9855  1.973172            888301437\n",
       "9859  0.353384            777200179\n",
       "9881  0.651537            994882261\n",
       "9940  0.492851            992729558\n",
       "\n",
       "[470 rows x 2 columns]"
      ]
     },
     "execution_count": 37,
     "metadata": {},
     "output_type": "execute_result"
    }
   ],
   "source": [
    "df[\n",
    "    df['equipment_name']==\"CAM2P.4\"\n",
    "][['std','behavior_session_id']]"
   ]
  },
  {
   "cell_type": "code",
   "execution_count": 38,
   "metadata": {},
   "outputs": [
    {
     "data": {
      "text/plain": [
       "(array([0.20512821, 0.44042232, 1.57968829, 1.86023127, 1.13826043,\n",
       "        0.75314228, 0.71191554, 0.68476621, 0.58622423, 0.50276521,\n",
       "        0.44746104, 0.33081951, 0.22926094, 0.13373555, 0.11664153,\n",
       "        0.0693816 , 0.0563097 , 0.04725993, 0.02916038, 0.02513826,\n",
       "        0.01709402, 0.02212167, 0.0100553 , 0.00301659]),\n",
       " array([0. , 0.1, 0.2, 0.3, 0.4, 0.5, 0.6, 0.7, 0.8, 0.9, 1. , 1.1, 1.2,\n",
       "        1.3, 1.4, 1.5, 1.6, 1.7, 1.8, 1.9, 2. , 2.1, 2.2, 2.3, 2.4]),\n",
       " <a list of 24 Patch objects>)"
      ]
     },
     "execution_count": 38,
     "metadata": {},
     "output_type": "execute_result"
    },
    {
     "data": {
      "image/png": "[encoded data removed]",
      "text/plain": [
       "<Figure size 432x288 with 1 Axes>"
      ]
     },
     "metadata": {
      "needs_background": "light"
     },
     "output_type": "display_data"
    }
   ],
   "source": [
    "fig,ax=plt.subplots()\n",
    "ax.hist(df['std'],bins=np.arange(0,2.5,0.1),density=True)\n",
    "# ax.hist(df.query('equipment_name == \"CAM2P.4\"')['std'],bins=np.arange(0,2.5,0.1),density=True,alpha=0.5)"
   ]
  },
  {
   "cell_type": "code",
   "execution_count": 39,
   "metadata": {},
   "outputs": [
    {
     "data": {
      "text/plain": [
       "equipment_name\n",
       "BEH.D      0.278380\n",
       "WF.1       0.288426\n",
       "BEH.G      0.350271\n",
       "BEH.E      0.397137\n",
       "BEH.F      0.427715\n",
       "NP.1       0.468448\n",
       "BEH.B      0.468833\n",
       "MESO.1     0.540074\n",
       "NP.0       0.640234\n",
       "CAM2P.3    0.721267\n",
       "NP.3       0.725210\n",
       "CAM2P.5    0.911803\n",
       "CAM2P.4    1.185307\n",
       "Name: std, dtype: float64"
      ]
     },
     "execution_count": 39,
     "metadata": {},
     "output_type": "execute_result"
    }
   ],
   "source": [
    "df.groupby('equipment_name')['std'].median().sort_values()"
   ]
  },
  {
   "cell_type": "code",
   "execution_count": 40,
   "metadata": {},
   "outputs": [],
   "source": [
    "order = df.groupby('equipment_name')['std'].median().sort_values().index"
   ]
  },
  {
   "cell_type": "code",
   "execution_count": 41,
   "metadata": {},
   "outputs": [
    {
     "data": {
      "text/plain": [
       "Text(0.5, 0, 'std of signal noisiness distribution')"
      ]
     },
     "execution_count": 41,
     "metadata": {},
     "output_type": "execute_result"
    },
    {
     "data": {
      "image/png": "[encoded data removed]",
      "text/plain": [
       "<Figure size 432x288 with 1 Axes>"
      ]
     },
     "metadata": {
      "needs_background": "light"
     },
     "output_type": "display_data"
    }
   ],
   "source": [
    "ax = sns.boxplot(\n",
    "    data = df,\n",
    "    x='std',\n",
    "    y='equipment_name',\n",
    "    order = order,\n",
    "    color='gray'\n",
    ")\n",
    "ax.set_xlabel('std of signal noisiness distribution')"
   ]
  },
  {
   "cell_type": "code",
   "execution_count": 42,
   "metadata": {},
   "outputs": [
    {
     "data": {
      "text/plain": [
       "Text(0.5, 0, 'std of signal noisiness distribution')"
      ]
     },
     "execution_count": 42,
     "metadata": {},
     "output_type": "execute_result"
    },
    {
     "data": {
      "image/png": "[encoded data removed]",
      "text/plain": [
       "<Figure size 432x288 with 1 Axes>"
      ]
     },
     "metadata": {
      "needs_background": "light"
     },
     "output_type": "display_data"
    }
   ],
   "source": [
    "ax = sns.violinplot(\n",
    "    data = df,\n",
    "    x='std',\n",
    "    y='equipment_name',\n",
    "    order = order,\n",
    "    color='gray',\n",
    "    scale = 'width'\n",
    ")\n",
    "ax.set_xlabel('std of signal noisiness distribution')"
   ]
  },
  {
   "cell_type": "code",
   "execution_count": null,
   "metadata": {},
   "outputs": [],
   "source": []
  }
 ],
 "metadata": {
  "kernelspec": {
   "display_name": "visual_behavior",
   "language": "python",
   "name": "visual_behavior"
  },
  "language_info": {
   "codemirror_mode": {
    "name": "ipython",
    "version": 3
   },
   "file_extension": ".py",
   "mimetype": "text/x-python",
   "name": "python",
   "nbconvert_exporter": "python",
   "pygments_lexer": "ipython3",
   "version": "3.8.3"
  }
 },
 "nbformat": 4,
 "nbformat_minor": 4
}
