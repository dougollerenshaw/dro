{
 "cells": [
  {
   "cell_type": "code",
   "execution_count": 13,
   "metadata": {},
   "outputs": [],
   "source": [
    "import pandas as pd\n",
    "import os"
   ]
  },
  {
   "cell_type": "code",
   "execution_count": 2,
   "metadata": {},
   "outputs": [],
   "source": [
    "pkl_list = [\n",
    "    '/allen/programs/braintv/production/visualbehavior/prod0/specimen_722884882/behavior_session_746928360/180907132507_403491_e59bbcc2-f516-4357-9771-3cc2d40cc022.pkl',\n",
    "    '/allen/programs/braintv/production/visualbehavior/prod0/specimen_722884882/behavior_session_750415261/180910131659_403491_cf69cb33-fe93-40cd-b461-1ce9bc35facc.pkl',\n",
    "    '/allen/programs/braintv/production/visualbehavior/prod0/specimen_722884882/behavior_session_750781358/180911125733_403491_f704777c-51e6-43d0-ae06-4858f819dd13.pkl',\n",
    "    '/allen/programs/braintv/production/visualbehavior/prod0/specimen_722884882/behavior_session_752002559/180912140203_403491_a8982681-7cc7-42a0-998b-fa6786370b47.pkl',\n",
    "    '/allen/programs/braintv/production/visualbehavior/prod0/specimen_722884882/behavior_session_753011296/180913132324_403491_d128fed8-3f8a-4e9e-9d3a-be9821d7c566.pkl',\n",
    "    '/allen/programs/braintv/production/visualbehavior/prod0/specimen_722884882/behavior_session_753936007/180914144415_403491_1fb8d318-49c2-469b-9423-235dec7a1016.pkl',\n",
    "    '/allen/programs/braintv/production/visualbehavior/prod0/specimen_722884882/behavior_session_754509820/180917140145_403491_161ebbbc-379b-405e-bc71-75f476f84df8.pkl',\n",
    "    '/allen/programs/braintv/production/visualbehavior/prod0/specimen_722884882/behavior_session_754896244/180918143907_403491_75f0c88c-acaa-47d1-993e-592cbc4696dd.pkl',\n",
    "    '/allen/programs/braintv/production/visualbehavior/prod0/specimen_722884882/behavior_session_755551879/180919132333_403491_5baf86f9-48b8-4638-b31e-55f23d25b57a.pkl',\n",
    "    '/allen/programs/braintv/production/visualbehavior/prod0/specimen_722884882/behavior_session_756106020/180920143927_403491_2ed1df9a-7fe2-4460-8d35-c82f4918fe56.pkl',\n",
    "    '/allen/programs/braintv/production/visualbehavior/prod0/specimen_722884882/behavior_session_756632727/180921134342_403491_862d3092-f7cd-4752-9183-67eff6433f7a.pkl',\n",
    "    '/allen/programs/braintv/production/visualbehavior/prod0/specimen_722884882/behavior_session_757431083/180924132535_403491_dbc1c5ac-3d7d-4333-a715-7ff651deac91.pkl',\n",
    "    '/allen/programs/braintv/production/visualbehavior/prod0/specimen_722884882/behavior_session_758162988/180925143806_403491_5b73fcf3-ee2b-4313-93d0-948f96f1d5ab.pkl',\n",
    "    '/allen/programs/braintv/production/visualbehavior/prod0/specimen_722884882/behavior_session_758942142/180926142214_403491_797d7b32-f9fc-4bbe-8012-e56690cce1a3.pkl',\n",
    "    '/allen/programs/braintv/production/visualbehavior/prod0/specimen_722884882/behavior_session_759251920/180927134942_403491_32d42ee8-e718-4eba-b902-aef185c5d0a4.pkl',\n",
    "    '/allen/programs/braintv/production/visualbehavior/prod0/specimen_722884882/behavior_session_759756829/181001142502_403491_d1f7ee69-023c-4da5-b023-ef902d38cf3e.pkl',\n",
    "    '/allen/programs/braintv/production/visualbehavior/prod0/specimen_722884882/behavior_session_760007428/181002140740_403491_61a70fd4-845f-4b0b-91b8-930ec1bfbf63.pkl',\n",
    "    '/allen/programs/braintv/production/visualbehavior/prod0/specimen_722884882/behavior_session_760409951/181003130612_403491_bc0f0741-1e8a-43e7-a1c2-20030d5c31d4.pkl',\n",
    "    '/allen/programs/braintv/production/visualbehavior/prod0/specimen_722884882/behavior_session_760698062/181004141444_403491_2bc1c7d8-b233-413f-9b16-6c8999a81ee4.pkl',\n",
    "    '/allen/programs/braintv/production/visualbehavior/prod0/specimen_722884882/behavior_session_761499069/181008134549_403491_f234b78a-f6c8-4123-8e91-5b3c37ead5a8.pkl',\n",
    "    '/allen/programs/braintv/production/visualbehavior/prod0/specimen_722884882/behavior_session_761831761/181009133840_403491_25b91f1a-0c34-4c62-a157-5fa48f51119c.pkl',\n",
    "    '/allen/programs/braintv/production/visualbehavior/prod0/specimen_722884882/behavior_session_762178061/181010141410_403491_30553aab-61b3-4a0b-b581-152af630f5e7.pkl',\n",
    "    '/allen/programs/braintv/production/visualbehavior/prod0/specimen_722884882/behavior_session_762722108/181011135443_403491_94505d0f-6175-4157-a1d8-9a4a50b7c01e.pkl',\n",
    "    '/allen/programs/braintv/production/visualbehavior/prod0/specimen_722884882/behavior_session_763291103/181012133035_403491_d5d2eb0f-121f-4900-9924-a9a5962a9f1d.pkl',\n",
    "    '/allen/programs/braintv/production/visualbehavior/prod0/specimen_722884882/behavior_session_763980798/181015142459_403491_a0958e10-307e-495c-9b37-645d44589fd3.pkl',\n",
    "    '/allen/programs/braintv/production/visualbehavior/prod0/specimen_722884882/behavior_session_764495320/181016133900_403491_7acf6b69-7da7-4637-b998-3afde524f981.pkl',\n",
    "    '/allen/programs/braintv/production/visualbehavior/prod0/specimen_722884882/behavior_session_764897570/181017135239_403491_70ccb550-821e-43bb-af15-5ff9a71aa89c.pkl',\n",
    "    '/allen/programs/braintv/production/visualbehavior/prod0/specimen_722884882/behavior_session_765396393/181018125644_403491_97f212db-d589-4d9a-8c4a-9d499175ceda.pkl',\n",
    "    '/allen/programs/braintv/production/visualbehavior/prod0/specimen_722884882/behavior_session_766110635/181019141354_403491_ad044630-1a02-4f38-8ea6-569dd30ef5d1.pkl',\n",
    "    '/allen/programs/braintv/production/visualbehavior/prod0/specimen_722884882/behavior_session_766753111/181022140853_403491_8fe66351-aa3c-4212-b384-1fb11982dc18.pkl',\n",
    "    '/allen/programs/braintv/production/visualbehavior/prod0/specimen_722884882/behavior_session_767275980/181023134243_403491_0e8cf5ed-c504-40d9-a4a9-16ff7bbb39ef.pkl',\n",
    "    '/allen/programs/braintv/production/visualbehavior/prod0/specimen_722884882/behavior_session_768042187/181024131007_403491_90df0395-4c76-443a-8eb5-8d64825dc922.pkl',\n",
    "    '/allen/programs/braintv/production/visualbehavior/prod0/specimen_722884882/behavior_session_768815421/181025141743_403491_7709cadd-b08b-476b-ab0c-fc5347942992.pkl',\n",
    "    '/allen/programs/braintv/production/visualbehavior/prod0/specimen_722884882/behavior_session_769452637/181026134231_403491_4035fc05-1c10-4372-b329-f7207a830aa3.pkl',\n",
    "    '/allen/programs/braintv/production/visualbehavior/prod0/specimen_722884882/behavior_session_769902997/181029130319_403491_df72472c-1809-4847-8680-deede567e6a2.pkl',\n",
    "    '/allen/programs/braintv/production/visualbehavior/prod0/specimen_722884882/behavior_session_770244427/181030131729_403491_cbc4388d-1c2f-4ee2-953d-ca17dfb6c95c.pkl'\n",
    "]"
   ]
  },
  {
   "cell_type": "code",
   "execution_count": 4,
   "metadata": {},
   "outputs": [],
   "source": [
    "data = pd.read_pickle(pkl_list[0])"
   ]
  },
  {
   "cell_type": "code",
   "execution_count": 5,
   "metadata": {},
   "outputs": [
    {
     "data": {
      "text/plain": [
       "dict_keys(['unpickleable', 'items', 'start_time', 'script', 'threads', 'stop_time', 'session_uuid', 'platform_info'])"
      ]
     },
     "execution_count": 5,
     "metadata": {},
     "output_type": "execute_result"
    }
   ],
   "source": [
    "data.keys()"
   ]
  },
  {
   "cell_type": "code",
   "execution_count": 6,
   "metadata": {},
   "outputs": [
    {
     "data": {
      "text/plain": [
       "'TRAINING_3_images_a_10uL_reward'"
      ]
     },
     "execution_count": 6,
     "metadata": {},
     "output_type": "execute_result"
    }
   ],
   "source": [
    "data['items']['behavior']['params']['stage']"
   ]
  },
  {
   "cell_type": "code",
   "execution_count": 7,
   "metadata": {},
   "outputs": [],
   "source": [
    "savedir = '/allen/programs/braintv/workgroups/nc-ophys/visual_behavior/2021.03.15_resaved_pkls'"
   ]
  },
  {
   "cell_type": "code",
   "execution_count": 15,
   "metadata": {},
   "outputs": [
    {
     "name": "stdout",
     "output_type": "stream",
     "text": [
      "TRAINING_3_images_a_10uL_reward TRAINING_3_images_A_10uL_reward\n",
      "TRAINING_3_images_a_10uL_reward TRAINING_3_images_A_10uL_reward\n",
      "TRAINING_3_images_a_10uL_reward TRAINING_3_images_A_10uL_reward\n",
      "TRAINING_4_images_a_training TRAINING_4_images_A_training\n",
      "TRAINING_4_images_a_handoff_ready TRAINING_4_images_A_handoff_ready\n",
      "TRAINING_4_images_a_handoff_ready TRAINING_4_images_A_handoff_ready\n",
      "TRAINING_4_images_a_handoff_ready TRAINING_4_images_A_handoff_ready\n",
      "TRAINING_4_images_a_handoff_ready TRAINING_4_images_A_handoff_ready\n",
      "TRAINING_4_images_a_handoff_ready TRAINING_4_images_A_handoff_ready\n",
      "TRAINING_4_images_a_handoff_lapsed TRAINING_4_images_A_handoff_lapsed\n",
      "TRAINING_4_images_a_handoff_lapsed TRAINING_4_images_A_handoff_lapsed\n",
      "TRAINING_4_images_a_handoff_lapsed TRAINING_4_images_A_handoff_lapsed\n",
      "TRAINING_4_images_a_handoff_lapsed TRAINING_4_images_A_handoff_lapsed\n",
      "TRAINING_4_images_a_handoff_lapsed TRAINING_4_images_A_handoff_lapsed\n",
      "TRAINING_4_images_a_handoff_lapsed TRAINING_4_images_A_handoff_lapsed\n",
      "TRAINING_4_images_a_handoff_lapsed TRAINING_4_images_A_handoff_lapsed\n",
      "TRAINING_4_images_a_handoff_lapsed TRAINING_4_images_A_handoff_lapsed\n",
      "TRAINING_4_images_a_handoff_lapsed TRAINING_4_images_A_handoff_lapsed\n",
      "TRAINING_4_images_a_handoff_lapsed TRAINING_4_images_A_handoff_lapsed\n",
      "TRAINING_4_images_a_handoff_lapsed TRAINING_4_images_A_handoff_lapsed\n",
      "TRAINING_4_images_a_handoff_lapsed TRAINING_4_images_A_handoff_lapsed\n",
      "TRAINING_4_images_a_handoff_lapsed TRAINING_4_images_A_handoff_lapsed\n",
      "TRAINING_4_images_a_handoff_lapsed TRAINING_4_images_A_handoff_lapsed\n",
      "TRAINING_4_images_a_handoff_lapsed TRAINING_4_images_A_handoff_lapsed\n",
      "TRAINING_4_images_a_handoff_lapsed TRAINING_4_images_A_handoff_lapsed\n",
      "TRAINING_4_images_a_handoff_ready TRAINING_4_images_A_handoff_ready\n",
      "TRAINING_4_images_a_handoff_ready TRAINING_4_images_A_handoff_ready\n",
      "TRAINING_4_images_a_handoff_ready TRAINING_4_images_A_handoff_ready\n",
      "TRAINING_4_images_a_handoff_ready TRAINING_4_images_A_handoff_ready\n",
      "TRAINING_4_images_a_handoff_ready TRAINING_4_images_A_handoff_ready\n",
      "TRAINING_4_images_a_handoff_lapsed TRAINING_4_images_A_handoff_lapsed\n",
      "TRAINING_4_images_a_handoff_lapsed TRAINING_4_images_A_handoff_lapsed\n",
      "TRAINING_4_images_a_handoff_lapsed TRAINING_4_images_A_handoff_lapsed\n",
      "TRAINING_4_images_a_handoff_lapsed TRAINING_4_images_A_handoff_lapsed\n",
      "TRAINING_4_images_a_handoff_lapsed TRAINING_4_images_A_handoff_lapsed\n",
      "TRAINING_4_images_a_handoff_lapsed TRAINING_4_images_A_handoff_lapsed\n"
     ]
    }
   ],
   "source": [
    "for pkl_path in pkl_list:\n",
    "    data = pd.read_pickle(pkl_path)\n",
    "    old_stage_name = data['items']['behavior']['params']['stage']\n",
    "    new_stage_name = old_stage_name.replace('images_a','images_A')\n",
    "    \n",
    "    data['items']['behavior']['cl_params']['stage'] = new_stage_name\n",
    "    data['items']['behavior']['params']['stage'] = new_stage_name\n",
    "    \n",
    "    print(old_stage_name, new_stage_name)\n",
    "    \n",
    "    pd.to_pickle(data, os.path.join(savedir, os.path.split(pkl_path)[1]))"
   ]
  },
  {
   "cell_type": "code",
   "execution_count": 16,
   "metadata": {},
   "outputs": [],
   "source": [
    "data = pd.read_pickle(os.path.join(savedir, '180918143907_403491_75f0c88c-acaa-47d1-993e-592cbc4696dd.pkl'))"
   ]
  },
  {
   "cell_type": "code",
   "execution_count": 17,
   "metadata": {},
   "outputs": [
    {
     "data": {
      "text/plain": [
       "'TRAINING_4_images_A_handoff_ready'"
      ]
     },
     "execution_count": 17,
     "metadata": {},
     "output_type": "execute_result"
    }
   ],
   "source": [
    "data['items']['behavior']['cl_params']['stage']"
   ]
  },
  {
   "cell_type": "code",
   "execution_count": 18,
   "metadata": {},
   "outputs": [
    {
     "data": {
      "text/plain": [
       "'TRAINING_4_images_A_handoff_ready'"
      ]
     },
     "execution_count": 18,
     "metadata": {},
     "output_type": "execute_result"
    }
   ],
   "source": [
    "data['items']['behavior']['params']['stage']"
   ]
  },
  {
   "cell_type": "code",
   "execution_count": null,
   "metadata": {},
   "outputs": [],
   "source": []
  }
 ],
 "metadata": {
  "kernelspec": {
   "display_name": "vba",
   "language": "python",
   "name": "vba"
  },
  "language_info": {
   "codemirror_mode": {
    "name": "ipython",
    "version": 3
   },
   "file_extension": ".py",
   "mimetype": "text/x-python",
   "name": "python",
   "nbconvert_exporter": "python",
   "pygments_lexer": "ipython3",
   "version": "3.7.9"
  }
 },
 "nbformat": 4,
 "nbformat_minor": 4
}
