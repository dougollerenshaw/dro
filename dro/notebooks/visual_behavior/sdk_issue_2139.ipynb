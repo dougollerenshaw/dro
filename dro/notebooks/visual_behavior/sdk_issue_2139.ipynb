{
 "cells": [
  {
   "cell_type": "code",
   "execution_count": 1,
   "metadata": {},
   "outputs": [],
   "source": [
    "import allensdk.brain_observatory.behavior.behavior_project_cache as bpc\n",
    "import mindscope_utilities.ophys\n",
    "\n",
    "lims_cache = bpc.VisualBehaviorOphysProjectCache.from_lims()\n",
    "\n",
    "data_storage_directory = \"/allen/programs/braintv/workgroups/nc-ophys/visual_behavior/production_cache\" # Note: this path must exist on your local drive\n",
    "s3_cache = bpc.VisualBehaviorOphysProjectCache.from_s3_cache(cache_dir=data_storage_directory)\n",
    "\n",
    "oeid = 972233195\n",
    "\n",
    "lims_experiment = lims_cache.get_behavior_ophys_experiment(oeid)\n",
    "s3_experiment = s3_cache.get_behavior_ophys_experiment(oeid)"
   ]
  },
  {
   "cell_type": "code",
   "execution_count": 19,
   "metadata": {},
   "outputs": [
    {
     "data": {
      "text/plain": [
       "170"
      ]
     },
     "execution_count": 19,
     "metadata": {},
     "output_type": "execute_result"
    }
   ],
   "source": [
    "len(lims_experiment.cell_specimen_table)"
   ]
  },
  {
   "cell_type": "code",
   "execution_count": 22,
   "metadata": {},
   "outputs": [
    {
     "data": {
      "text/plain": [
       "63"
      ]
     },
     "execution_count": 22,
     "metadata": {},
     "output_type": "execute_result"
    }
   ],
   "source": [
    "len(lims_experiment.cell_specimen_table.query('valid_roi'))"
   ]
  },
  {
   "cell_type": "code",
   "execution_count": 36,
   "metadata": {},
   "outputs": [
    {
     "data": {
      "text/plain": [
       "107"
      ]
     },
     "execution_count": 36,
     "metadata": {},
     "output_type": "execute_result"
    }
   ],
   "source": [
    "170-63"
   ]
  },
  {
   "cell_type": "code",
   "execution_count": 23,
   "metadata": {},
   "outputs": [
    {
     "data": {
      "text/plain": [
       "170"
      ]
     },
     "execution_count": 23,
     "metadata": {},
     "output_type": "execute_result"
    }
   ],
   "source": [
    "len(lims_experiment.dff_traces)"
   ]
  },
  {
   "cell_type": "code",
   "execution_count": 24,
   "metadata": {},
   "outputs": [
    {
     "data": {
      "text/plain": [
       "80"
      ]
     },
     "execution_count": 24,
     "metadata": {},
     "output_type": "execute_result"
    }
   ],
   "source": [
    "len(lims_experiment.events)"
   ]
  },
  {
   "cell_type": "code",
   "execution_count": 37,
   "metadata": {},
   "outputs": [
    {
     "data": {
      "text/plain": [
       "[1086526338,\n",
       " 1086511716,\n",
       " 1086513222,\n",
       " 1086523174,\n",
       " 1086545258,\n",
       " 1086531340,\n",
       " 1086514893,\n",
       " 1086528300,\n",
       " 1086554255,\n",
       " 1086528079,\n",
       " 1086535645,\n",
       " 1086515411,\n",
       " 1086511252,\n",
       " 1086526234,\n",
       " 1086531836,\n",
       " 1086518621,\n",
       " 1086522591]"
      ]
     },
     "execution_count": 37,
     "metadata": {},
     "output_type": "execute_result"
    }
   ],
   "source": [
    "extra_csids = list(set(lims_experiment.events.index) - set(lims_experiment.cell_specimen_table.query('valid_roi').index))\n",
    "extra_csids"
   ]
  },
  {
   "cell_type": "markdown",
   "metadata": {},
   "source": [
    "## now S3"
   ]
  },
  {
   "cell_type": "code",
   "execution_count": 28,
   "metadata": {},
   "outputs": [
    {
     "data": {
      "text/plain": [
       "63"
      ]
     },
     "execution_count": 28,
     "metadata": {},
     "output_type": "execute_result"
    }
   ],
   "source": [
    "len(s3_experiment.cell_specimen_table)"
   ]
  },
  {
   "cell_type": "code",
   "execution_count": 30,
   "metadata": {},
   "outputs": [
    {
     "data": {
      "text/plain": [
       "63"
      ]
     },
     "execution_count": 30,
     "metadata": {},
     "output_type": "execute_result"
    }
   ],
   "source": [
    "len(s3_experiment.dff_traces)"
   ]
  },
  {
   "cell_type": "code",
   "execution_count": 31,
   "metadata": {},
   "outputs": [
    {
     "data": {
      "text/plain": [
       "80"
      ]
     },
     "execution_count": 31,
     "metadata": {},
     "output_type": "execute_result"
    }
   ],
   "source": [
    "len(s3_experiment.events)"
   ]
  },
  {
   "cell_type": "code",
   "execution_count": 40,
   "metadata": {},
   "outputs": [
    {
     "data": {
      "text/plain": [
       "[1086526338,\n",
       " 1086511716,\n",
       " 1086513222,\n",
       " 1086523174,\n",
       " 1086545258,\n",
       " 1086531340,\n",
       " 1086514893,\n",
       " 1086528300,\n",
       " 1086554255,\n",
       " 1086528079,\n",
       " 1086535645,\n",
       " 1086515411,\n",
       " 1086511252,\n",
       " 1086526234,\n",
       " 1086531836,\n",
       " 1086518621,\n",
       " 1086522591]"
      ]
     },
     "execution_count": 40,
     "metadata": {},
     "output_type": "execute_result"
    }
   ],
   "source": [
    "extra_s3_csids = list(set(s3_experiment.events.index) - set(s3_experiment.cell_specimen_table.index))\n",
    "extra_s3_csids"
   ]
  },
  {
   "cell_type": "code",
   "execution_count": 35,
   "metadata": {},
   "outputs": [
    {
     "data": {
      "text/plain": [
       "17"
      ]
     },
     "execution_count": 35,
     "metadata": {},
     "output_type": "execute_result"
    }
   ],
   "source": [
    "len(extra_csids)"
   ]
  },
  {
   "cell_type": "code",
   "execution_count": 41,
   "metadata": {},
   "outputs": [],
   "source": [
    "import allensdk"
   ]
  },
  {
   "cell_type": "code",
   "execution_count": 42,
   "metadata": {},
   "outputs": [
    {
     "data": {
      "text/plain": [
       "'2.11.2'"
      ]
     },
     "execution_count": 42,
     "metadata": {},
     "output_type": "execute_result"
    }
   ],
   "source": [
    "allensdk.__version__"
   ]
  },
  {
   "cell_type": "code",
   "execution_count": null,
   "metadata": {},
   "outputs": [],
   "source": []
  }
 ],
 "metadata": {
  "kernelspec": {
   "display_name": "vba",
   "language": "python",
   "name": "vba"
  },
  "language_info": {
   "codemirror_mode": {
    "name": "ipython",
    "version": 3
   },
   "file_extension": ".py",
   "mimetype": "text/x-python",
   "name": "python",
   "nbconvert_exporter": "python",
   "pygments_lexer": "ipython3",
   "version": "3.8.8"
  }
 },
 "nbformat": 4,
 "nbformat_minor": 4
}
