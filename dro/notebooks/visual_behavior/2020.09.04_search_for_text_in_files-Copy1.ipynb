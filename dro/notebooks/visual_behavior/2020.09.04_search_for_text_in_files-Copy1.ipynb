{
 "cells": [
  {
   "cell_type": "code",
   "execution_count": 2,
   "metadata": {},
   "outputs": [],
   "source": [
    "import os\n",
    "from multiprocessing import Pool"
   ]
  },
  {
   "cell_type": "code",
   "execution_count": 1,
   "metadata": {},
   "outputs": [],
   "source": [
    "def search_file(filepath,search_phrase):\n",
    "    searchfile = open(filepath, \"r\")\n",
    "    for line in searchfile:\n",
    "        if search_phrase in line:\n",
    "            searchfile.close()\n",
    "            return filepath\n",
    "    searchfile.close()"
   ]
  },
  {
   "cell_type": "code",
   "execution_count": null,
   "metadata": {},
   "outputs": [
    {
     "name": "stdout",
     "output_type": "stream",
     "text": [
      "on 10408, 25072487.qmaster2.corp.alleninstitute.org.out    \r"
     ]
    }
   ],
   "source": [
    "search_path = '/allen/programs/braintv/workgroups/nc-ophys/visual_behavior/cluster_jobs/ophys_glm'\n",
    "glm_version = '6_L2_optimize_by_cell'\n",
    "oeid = 886001002\n",
    "search_phrase = 'oeid_{}_fit_glm_v_{}'.format(oeid, glm_version)\n",
    "for ii,filename in enumerate(np.sort(os.listdir(search_path))[::-1]):\n",
    "    print('on {}, {}    '.format(ii,filename), end='\\r')\n",
    "    if search_file(os.path.join(search_path, filename), search_phrase):\n",
    "        print(100*' ',end='\\r')\n",
    "        print(filename)\n",
    "        break"
   ]
  },
  {
   "cell_type": "code",
   "execution_count": null,
   "metadata": {},
   "outputs": [],
   "source": []
  }
 ],
 "metadata": {
  "kernelspec": {
   "display_name": "visual_behavior",
   "language": "python",
   "name": "visual_behavior"
  },
  "language_info": {
   "codemirror_mode": {
    "name": "ipython",
    "version": 3
   },
   "file_extension": ".py",
   "mimetype": "text/x-python",
   "name": "python",
   "nbconvert_exporter": "python",
   "pygments_lexer": "ipython3",
   "version": "3.8.3"
  }
 },
 "nbformat": 4,
 "nbformat_minor": 4
}
