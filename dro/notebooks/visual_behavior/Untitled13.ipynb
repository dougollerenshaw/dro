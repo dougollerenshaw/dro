{
 "cells": [
  {
   "cell_type": "code",
   "execution_count": 1,
   "metadata": {},
   "outputs": [
    {
     "data": {
      "text/html": [
       "<style>.container { width:100% !important; }</style>"
      ],
      "text/plain": [
       "<IPython.core.display.HTML object>"
      ]
     },
     "metadata": {},
     "output_type": "display_data"
    },
    {
     "name": "stdout",
     "output_type": "stream",
     "text": [
      "imported:\n",
      "\tos\n",
      "\tpandas as pd\n",
      "\tnumpy as np\n",
      "\tmatplotlib.pyplot as plt\n"
     ]
    }
   ],
   "source": [
    "import visual_behavior.database as db\n",
    "import time\n",
    "from multiprocessing import Pool\n",
    "\n",
    "%widescreen\n",
    "%standard_imports\n",
    "%matplotlib notebook"
   ]
  },
  {
   "cell_type": "code",
   "execution_count": 2,
   "metadata": {},
   "outputs": [],
   "source": [
    "def get_ellipse_fit_fraction_na(ophys_experiment_id):\n",
    "    '''get fraction of rows = NA in ellipse fit file'''\n",
    "    ophys_session_id = db.convert_id({'ophys_experiment_id':ophys_experiment_id}, 'ophys_session_id')\n",
    "    well_known_files = db.get_well_known_files(ophys_session_id).set_index('name')\n",
    "    eye_tracking_ellipses_entry = well_known_files.loc['EyeTracking Ellipses']\n",
    "    eye_tracking_ellipses_path = ''.join([eye_tracking_ellipses_entry['storage_directory'], eye_tracking_ellipses_entry['filename']])\n",
    "    eye_tracking_ellipses = pd.read_hdf(eye_tracking_ellipses_path, key = '/pupil')\n",
    "    return eye_tracking_ellipses['center_x'].isna().mean()"
   ]
  },
  {
   "cell_type": "code",
   "execution_count": null,
   "metadata": {},
   "outputs": [],
   "source": [
    "cache = dl.get_qc_cache()\n",
    "experiments = cache.get_experiment_table()"
   ]
  }
 ],
 "metadata": {
  "kernelspec": {
   "display_name": "visual_behavior",
   "language": "python",
   "name": "visual_behavior"
  },
  "language_info": {
   "codemirror_mode": {
    "name": "ipython",
    "version": 3
   },
   "file_extension": ".py",
   "mimetype": "text/x-python",
   "name": "python",
   "nbconvert_exporter": "python",
   "pygments_lexer": "ipython3",
   "version": "3.7.3"
  }
 },
 "nbformat": 4,
 "nbformat_minor": 4
}
