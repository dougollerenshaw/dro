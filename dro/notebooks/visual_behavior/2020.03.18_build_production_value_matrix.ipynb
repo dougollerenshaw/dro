{
 "cells": [
  {
   "cell_type": "code",
   "execution_count": 1,
   "metadata": {},
   "outputs": [
    {
     "name": "stderr",
     "output_type": "stream",
     "text": [
      "/home/dougo/.local/lib/python3.7/site-packages/xarray/core/merge.py:17: FutureWarning: The Panel class is removed from pandas. Accessing it from the top-level namespace will also be removed in the next version\n",
      "  PANDAS_TYPES = (pd.Series, pd.DataFrame, pd.Panel)\n",
      "/home/dougo/Code/AllenSDK/allensdk/brain_observatory/behavior/behavior_ophys_api/behavior_ophys_nwb_api.py:9: FutureWarning: pandas.util.testing is deprecated. Use the functions in the public API at pandas.testing instead.\n",
      "  from pandas.util.testing import assert_frame_equal\n"
     ]
    }
   ],
   "source": [
    "from visual_behavior.visualization.qc import session_plots as sp\n",
    "from visual_behavior.visualization.qc import container_plots as cp\n",
    "from visual_behavior.visualization.qc import data_loading as dl\n",
    "import visual_behavior.utilities as vbu\n",
    "import matplotlib.pyplot as plt\n",
    "import pandas as pd\n",
    "\n",
    "from visual_behavior.translator.foraging2 import data_to_change_detection_core\n",
    "from visual_behavior.translator.core import create_extended_dataframe\n",
    "from visual_behavior.change_detection.trials import summarize\n",
    "import visual_behavior.database as db\n",
    "\n",
    "import plotly.graph_objects as go\n",
    "import plotly.express as px\n",
    "\n",
    "import xarray as xr\n",
    "\n",
    "%matplotlib inline"
   ]
  },
  {
   "cell_type": "code",
   "execution_count": 2,
   "metadata": {},
   "outputs": [
    {
     "data": {
      "text/html": [
       "<style>.container { width:100% !important; }</style>"
      ],
      "text/plain": [
       "<IPython.core.display.HTML object>"
      ]
     },
     "metadata": {},
     "output_type": "display_data"
    }
   ],
   "source": [
    "%widescreen"
   ]
  },
  {
   "cell_type": "code",
   "execution_count": 3,
   "metadata": {},
   "outputs": [],
   "source": [
    "def load_data():\n",
    "    container_df = dl.build_container_df()\n",
    "    filtered_container_list = dl.get_filtered_ophys_container_ids()  # NOQA F841\n",
    "    return container_df.query('container_id in @filtered_container_list')"
   ]
  },
  {
   "cell_type": "code",
   "execution_count": 4,
   "metadata": {},
   "outputs": [],
   "source": [
    "container_df = load_data()\n",
    "container_df['line'] = container_df['driver_line'].map(lambda s:';'.join(s))\n",
    "session_summary = db.get_behavior_session_summary()"
   ]
  },
  {
   "cell_type": "code",
   "execution_count": 5,
   "metadata": {},
   "outputs": [
    {
     "data": {
      "text/html": [
       "<div>\n",
       "<style scoped>\n",
       "    .dataframe tbody tr th:only-of-type {\n",
       "        vertical-align: middle;\n",
       "    }\n",
       "\n",
       "    .dataframe tbody tr th {\n",
       "        vertical-align: top;\n",
       "    }\n",
       "\n",
       "    .dataframe thead th {\n",
       "        text-align: right;\n",
       "    }\n",
       "</style>\n",
       "<table border=\"1\" class=\"dataframe\">\n",
       "  <thead>\n",
       "    <tr style=\"text-align: right;\">\n",
       "      <th></th>\n",
       "      <th>container_id</th>\n",
       "      <th>container_workflow_state</th>\n",
       "      <th>first_acquistion_date</th>\n",
       "      <th>project_code</th>\n",
       "      <th>driver_line</th>\n",
       "      <th>targeted_structure</th>\n",
       "      <th>imaging_depth</th>\n",
       "      <th>equipment_name</th>\n",
       "      <th>specimen_id</th>\n",
       "      <th>sex</th>\n",
       "      <th>age_in_days</th>\n",
       "      <th>session_0</th>\n",
       "      <th>session_1</th>\n",
       "      <th>session_2</th>\n",
       "      <th>session_3</th>\n",
       "      <th>session_4</th>\n",
       "      <th>session_5</th>\n",
       "      <th>line</th>\n",
       "    </tr>\n",
       "  </thead>\n",
       "  <tbody>\n",
       "    <tr>\n",
       "      <th>0</th>\n",
       "      <td>991913453</td>\n",
       "      <td>completed</td>\n",
       "      <td>2019-12-11</td>\n",
       "      <td>VisualBehaviorTask1B</td>\n",
       "      <td>[Sst-IRES-Cre]</td>\n",
       "      <td>VISp</td>\n",
       "      <td>275</td>\n",
       "      <td>[CAM2P.4]</td>\n",
       "      <td>910267443</td>\n",
       "      <td>M</td>\n",
       "      <td>194.0</td>\n",
       "      <td>OPHYS_1_images_B 993862620</td>\n",
       "      <td>OPHYS_2_images_B_passive 994053903</td>\n",
       "      <td>OPHYS_3_images_B 994790561</td>\n",
       "      <td>OPHYS_4_images_A 995280513</td>\n",
       "      <td>OPHYS_6_images_A 995439942</td>\n",
       "      <td>OPHYS_5_images_A_passive 995622557</td>\n",
       "      <td>Sst-IRES-Cre</td>\n",
       "    </tr>\n",
       "    <tr>\n",
       "      <th>1</th>\n",
       "      <td>989461845</td>\n",
       "      <td>completed</td>\n",
       "      <td>2019-12-04</td>\n",
       "      <td>VisualBehaviorTask1B</td>\n",
       "      <td>[Sst-IRES-Cre]</td>\n",
       "      <td>VISp</td>\n",
       "      <td>275</td>\n",
       "      <td>[CAM2P.3]</td>\n",
       "      <td>940744053</td>\n",
       "      <td>M</td>\n",
       "      <td>143.0</td>\n",
       "      <td>OPHYS_1_images_B 992296756</td>\n",
       "      <td>OPHYS_2_images_B_passive 992572516</td>\n",
       "      <td>OPHYS_3_images_B 992870927</td>\n",
       "      <td>OPHYS_4_images_A 993344860</td>\n",
       "      <td>OPHYS_5_images_A_passive 993593393</td>\n",
       "      <td>OPHYS_6_images_A 993864050</td>\n",
       "      <td>Sst-IRES-Cre</td>\n",
       "    </tr>\n",
       "    <tr>\n",
       "      <th>2</th>\n",
       "      <td>978206330</td>\n",
       "      <td>container_qc</td>\n",
       "      <td>2019-11-14</td>\n",
       "      <td>VisualBehaviorTask1B</td>\n",
       "      <td>[Sst-IRES-Cre]</td>\n",
       "      <td>VISp</td>\n",
       "      <td>275</td>\n",
       "      <td>[CAM2P.3]</td>\n",
       "      <td>916452082</td>\n",
       "      <td>M</td>\n",
       "      <td>148.0</td>\n",
       "      <td>OPHYS_1_images_B 982862443</td>\n",
       "      <td>OPHYS_2_images_B_passive 984551228</td>\n",
       "      <td>OPHYS_3_images_B 986402309</td>\n",
       "      <td>OPHYS_4_images_A 989191384</td>\n",
       "      <td>OPHYS_6_images_A 989594023</td>\n",
       "      <td>OPHYS_5_images_A_passive 990381322</td>\n",
       "      <td>Sst-IRES-Cre</td>\n",
       "    </tr>\n",
       "    <tr>\n",
       "      <th>8</th>\n",
       "      <td>969421516</td>\n",
       "      <td>container_qc</td>\n",
       "      <td>2019-10-03</td>\n",
       "      <td>VisualBehaviorTask1B</td>\n",
       "      <td>[Vip-IRES-Cre]</td>\n",
       "      <td>VISp</td>\n",
       "      <td>175</td>\n",
       "      <td>[CAM2P.3]</td>\n",
       "      <td>887127198</td>\n",
       "      <td>M</td>\n",
       "      <td>170.0</td>\n",
       "      <td>OPHYS_1_images_B 960953590</td>\n",
       "      <td>OPHYS_3_images_B 962473308</td>\n",
       "      <td>OPHYS_2_images_B_passive 963394081</td>\n",
       "      <td>OPHYS_4_images_A 964440177</td>\n",
       "      <td>OPHYS_5_images_A_passive 965228771</td>\n",
       "      <td>OPHYS_6_images_A 965928394</td>\n",
       "      <td>Vip-IRES-Cre</td>\n",
       "    </tr>\n",
       "    <tr>\n",
       "      <th>3</th>\n",
       "      <td>968451510</td>\n",
       "      <td>container_qc</td>\n",
       "      <td>2019-10-24</td>\n",
       "      <td>VisualBehavior</td>\n",
       "      <td>[Camk2a-tTA, Slc17a7-IRES2-Cre]</td>\n",
       "      <td>VISp</td>\n",
       "      <td>175</td>\n",
       "      <td>[CAM2P.5]</td>\n",
       "      <td>916458892</td>\n",
       "      <td>F</td>\n",
       "      <td>135.0</td>\n",
       "      <td>OPHYS_1_images_A 972701564</td>\n",
       "      <td>OPHYS_2_images_A_passive 973927944</td>\n",
       "      <td>OPHYS_3_images_A 974384470</td>\n",
       "      <td>OPHYS_4_images_B 974945686</td>\n",
       "      <td>OPHYS_6_images_B 977132456</td>\n",
       "      <td>OPHYS_5_images_B_passive 977937585</td>\n",
       "      <td>Camk2a-tTA;Slc17a7-IRES2-Cre</td>\n",
       "    </tr>\n",
       "    <tr>\n",
       "      <th>4</th>\n",
       "      <td>957570596</td>\n",
       "      <td>container_qc</td>\n",
       "      <td>2019-10-10</td>\n",
       "      <td>VisualBehaviorTask1B</td>\n",
       "      <td>[Vip-IRES-Cre]</td>\n",
       "      <td>VISp</td>\n",
       "      <td>175</td>\n",
       "      <td>[CAM2P.4]</td>\n",
       "      <td>880255046</td>\n",
       "      <td>M</td>\n",
       "      <td>177.0</td>\n",
       "      <td>OPHYS_1_images_B 965224600</td>\n",
       "      <td>OPHYS_2_images_B_passive 967008454</td>\n",
       "      <td>OPHYS_3_images_B 967876201</td>\n",
       "      <td>OPHYS_4_images_A 968651977</td>\n",
       "      <td>OPHYS_5_images_A_passive 969809655</td>\n",
       "      <td>OPHYS_6_images_A 972200901</td>\n",
       "      <td>Vip-IRES-Cre</td>\n",
       "    </tr>\n",
       "    <tr>\n",
       "      <th>6</th>\n",
       "      <td>957366099</td>\n",
       "      <td>container_qc</td>\n",
       "      <td>2019-10-08</td>\n",
       "      <td>VisualBehaviorTask1B</td>\n",
       "      <td>[Camk2a-tTA, Slc17a7-IRES2-Cre]</td>\n",
       "      <td>VISp</td>\n",
       "      <td>375</td>\n",
       "      <td>[CAM2P.3]</td>\n",
       "      <td>912556133</td>\n",
       "      <td>F</td>\n",
       "      <td>131.0</td>\n",
       "      <td>OPHYS_1_images_B 963394065</td>\n",
       "      <td>OPHYS_2_images_B_passive 964955813</td>\n",
       "      <td>OPHYS_3_images_B 965231035</td>\n",
       "      <td>OPHYS_4_images_A 967007328</td>\n",
       "      <td>OPHYS_5_images_A_passive 967877560</td>\n",
       "      <td>NaN</td>\n",
       "      <td>Camk2a-tTA;Slc17a7-IRES2-Cre</td>\n",
       "    </tr>\n",
       "    <tr>\n",
       "      <th>5</th>\n",
       "      <td>957361481</td>\n",
       "      <td>container_qc</td>\n",
       "      <td>2019-10-08</td>\n",
       "      <td>VisualBehaviorTask1B</td>\n",
       "      <td>[Camk2a-tTA, Slc17a7-IRES2-Cre]</td>\n",
       "      <td>VISp</td>\n",
       "      <td>375</td>\n",
       "      <td>[CAM2P.4]</td>\n",
       "      <td>916634005</td>\n",
       "      <td>M</td>\n",
       "      <td>118.0</td>\n",
       "      <td>OPHYS_1_images_B 963391867</td>\n",
       "      <td>OPHYS_2_images_B_passive 964422360</td>\n",
       "      <td>OPHYS_3_images_B 965218519</td>\n",
       "      <td>OPHYS_4_images_A 967008471</td>\n",
       "      <td>OPHYS_5_images_A_passive 967876219</td>\n",
       "      <td>OPHYS_6_images_A 968651957</td>\n",
       "      <td>Camk2a-tTA;Slc17a7-IRES2-Cre</td>\n",
       "    </tr>\n",
       "    <tr>\n",
       "      <th>7</th>\n",
       "      <td>957024596</td>\n",
       "      <td>container_qc</td>\n",
       "      <td>2019-10-04</td>\n",
       "      <td>VisualBehavior</td>\n",
       "      <td>[Sst-IRES-Cre]</td>\n",
       "      <td>VISp</td>\n",
       "      <td>290</td>\n",
       "      <td>[CAM2P.5]</td>\n",
       "      <td>882757053</td>\n",
       "      <td>M</td>\n",
       "      <td>174.0</td>\n",
       "      <td>OPHYS_2_images_A_passive 961283857</td>\n",
       "      <td>OPHYS_3_images_A 962471831</td>\n",
       "      <td>OPHYS_4_images_B 965228792</td>\n",
       "      <td>OPHYS_5_images_B_passive 965930965</td>\n",
       "      <td>OPHYS_6_images_B 967005387</td>\n",
       "      <td>NaN</td>\n",
       "      <td>Sst-IRES-Cre</td>\n",
       "    </tr>\n",
       "    <tr>\n",
       "      <th>9</th>\n",
       "      <td>947838486</td>\n",
       "      <td>container_qc</td>\n",
       "      <td>2019-09-24</td>\n",
       "      <td>VisualBehaviorTask1B</td>\n",
       "      <td>[Camk2a-tTA, Slc17a7-IRES2-Cre]</td>\n",
       "      <td>VISp</td>\n",
       "      <td>175</td>\n",
       "      <td>[CAM2P.5]</td>\n",
       "      <td>912554454</td>\n",
       "      <td>F</td>\n",
       "      <td>119.0</td>\n",
       "      <td>OPHYS_1_images_B 958435363</td>\n",
       "      <td>OPHYS_3_images_B 956903412</td>\n",
       "      <td>OPHYS_2_images_B_passive 960351943</td>\n",
       "      <td>OPHYS_4_images_A 963397268</td>\n",
       "      <td>OPHYS_5_images_A_passive 964460159</td>\n",
       "      <td>OPHYS_6_images_A 965218395</td>\n",
       "      <td>Camk2a-tTA;Slc17a7-IRES2-Cre</td>\n",
       "    </tr>\n",
       "    <tr>\n",
       "      <th>10</th>\n",
       "      <td>941373529</td>\n",
       "      <td>container_qc</td>\n",
       "      <td>2019-09-25</td>\n",
       "      <td>VisualBehaviorTask1B</td>\n",
       "      <td>[Sst-IRES-Cre]</td>\n",
       "      <td>VISp</td>\n",
       "      <td>275</td>\n",
       "      <td>[CAM2P.5]</td>\n",
       "      <td>887264964</td>\n",
       "      <td>F</td>\n",
       "      <td>149.0</td>\n",
       "      <td>OPHYS_1_images_B 955276580</td>\n",
       "      <td>OPHYS_2_images_B_passive 956903375</td>\n",
       "      <td>OPHYS_3_images_B 957652800</td>\n",
       "      <td>OPHYS_4_images_A 959337347</td>\n",
       "      <td>OPHYS_5_images_A_passive 960351917</td>\n",
       "      <td>OPHYS_6_images_A 960960480</td>\n",
       "      <td>Sst-IRES-Cre</td>\n",
       "    </tr>\n",
       "    <tr>\n",
       "      <th>11</th>\n",
       "      <td>939523510</td>\n",
       "      <td>container_qc</td>\n",
       "      <td>2019-09-18</td>\n",
       "      <td>VisualBehavior</td>\n",
       "      <td>[Camk2a-tTA, Slc17a7-IRES2-Cre]</td>\n",
       "      <td>VISp</td>\n",
       "      <td>175</td>\n",
       "      <td>[CAM2P.3]</td>\n",
       "      <td>847864095</td>\n",
       "      <td>M</td>\n",
       "      <td>204.0</td>\n",
       "      <td>OPHYS_1_images_A 949637002</td>\n",
       "      <td>OPHYS_2_images_A_passive 950852107</td>\n",
       "      <td>OPHYS_3_images_A 953452368</td>\n",
       "      <td>OPHYS_4_images_B 956820482</td>\n",
       "      <td>OPHYS_6_images_B 957655294</td>\n",
       "      <td>OPHYS_5_images_B_passive 958681110</td>\n",
       "      <td>Camk2a-tTA;Slc17a7-IRES2-Cre</td>\n",
       "    </tr>\n",
       "    <tr>\n",
       "      <th>14</th>\n",
       "      <td>930024022</td>\n",
       "      <td>container_qc</td>\n",
       "      <td>2019-08-29</td>\n",
       "      <td>VisualBehavior</td>\n",
       "      <td>[Camk2a-tTA, Slc17a7-IRES2-Cre]</td>\n",
       "      <td>VISp</td>\n",
       "      <td>175</td>\n",
       "      <td>[CAM2P.5]</td>\n",
       "      <td>854612265</td>\n",
       "      <td>F</td>\n",
       "      <td>174.0</td>\n",
       "      <td>OPHYS_1_images_A 935440133</td>\n",
       "      <td>OPHYS_3_images_A 936494970</td>\n",
       "      <td>OPHYS_4_images_B 940352367</td>\n",
       "      <td>OPHYS_6_images_B 940852112</td>\n",
       "      <td>OPHYS_5_images_B_passive 943151492</td>\n",
       "      <td>NaN</td>\n",
       "      <td>Camk2a-tTA;Slc17a7-IRES2-Cre</td>\n",
       "    </tr>\n",
       "    <tr>\n",
       "      <th>13</th>\n",
       "      <td>930022332</td>\n",
       "      <td>container_qc</td>\n",
       "      <td>2019-09-04</td>\n",
       "      <td>VisualBehavior</td>\n",
       "      <td>[Camk2a-tTA, Slc17a7-IRES2-Cre]</td>\n",
       "      <td>VISp</td>\n",
       "      <td>175</td>\n",
       "      <td>[CAM2P.3]</td>\n",
       "      <td>854625263</td>\n",
       "      <td>F</td>\n",
       "      <td>180.0</td>\n",
       "      <td>OPHYS_1_images_A 939327156</td>\n",
       "      <td>OPHYS_2_images_A_passive 940354166</td>\n",
       "      <td>OPHYS_3_images_A 940852658</td>\n",
       "      <td>OPHYS_4_images_B 942043482</td>\n",
       "      <td>OPHYS_5_images_B_passive 943151552</td>\n",
       "      <td>OPHYS_6_images_B 944366183</td>\n",
       "      <td>Camk2a-tTA;Slc17a7-IRES2-Cre</td>\n",
       "    </tr>\n",
       "    <tr>\n",
       "      <th>12</th>\n",
       "      <td>929913236</td>\n",
       "      <td>container_qc</td>\n",
       "      <td>2019-09-05</td>\n",
       "      <td>VisualBehavior</td>\n",
       "      <td>[Vip-IRES-Cre]</td>\n",
       "      <td>VISp</td>\n",
       "      <td>175</td>\n",
       "      <td>[CAM2P.4]</td>\n",
       "      <td>875479702</td>\n",
       "      <td>F</td>\n",
       "      <td>141.0</td>\n",
       "      <td>OPHYS_1_images_A 940352989</td>\n",
       "      <td>OPHYS_2_images_A_passive 943134119</td>\n",
       "      <td>OPHYS_3_images_A 948507789</td>\n",
       "      <td>OPHYS_4_images_B 950833329</td>\n",
       "      <td>OPHYS_6_images_B 953443028</td>\n",
       "      <td>OPHYS_5_images_B_passive 958435448</td>\n",
       "      <td>Vip-IRES-Cre</td>\n",
       "    </tr>\n",
       "    <tr>\n",
       "      <th>15</th>\n",
       "      <td>928325203</td>\n",
       "      <td>container_qc</td>\n",
       "      <td>2019-08-26</td>\n",
       "      <td>VisualBehaviorTask1B</td>\n",
       "      <td>[Vip-IRES-Cre]</td>\n",
       "      <td>VISp</td>\n",
       "      <td>175</td>\n",
       "      <td>[CAM2P.3]</td>\n",
       "      <td>879064141</td>\n",
       "      <td>M</td>\n",
       "      <td>132.0</td>\n",
       "      <td>OPHYS_1_images_B 932331541</td>\n",
       "      <td>OPHYS_2_images_B_passive 933338719</td>\n",
       "      <td>OPHYS_3_images_B 934476801</td>\n",
       "      <td>OPHYS_4_images_A 938001540</td>\n",
       "      <td>OPHYS_5_images_A_passive 939319851</td>\n",
       "      <td>OPHYS_6_images_A 940354181</td>\n",
       "      <td>Vip-IRES-Cre</td>\n",
       "    </tr>\n",
       "    <tr>\n",
       "      <th>17</th>\n",
       "      <td>915584942</td>\n",
       "      <td>container_qc</td>\n",
       "      <td>2019-08-07</td>\n",
       "      <td>VisualBehaviorTask1B</td>\n",
       "      <td>[Camk2a-tTA, Slc17a7-IRES2-Cre]</td>\n",
       "      <td>VISp</td>\n",
       "      <td>375</td>\n",
       "      <td>[CAM2P.3]</td>\n",
       "      <td>866228971</td>\n",
       "      <td>F</td>\n",
       "      <td>131.0</td>\n",
       "      <td>OPHYS_1_images_B 919314793</td>\n",
       "      <td>OPHYS_2_images_B_passive 920211809</td>\n",
       "      <td>OPHYS_3_images_B 920976741</td>\n",
       "      <td>OPHYS_4_images_A 923100531</td>\n",
       "      <td>OPHYS_5_images_A_passive 924108253</td>\n",
       "      <td>OPHYS_6_images_A 929132798</td>\n",
       "      <td>Camk2a-tTA;Slc17a7-IRES2-Cre</td>\n",
       "    </tr>\n",
       "    <tr>\n",
       "      <th>16</th>\n",
       "      <td>911248946</td>\n",
       "      <td>container_qc</td>\n",
       "      <td>2019-07-31</td>\n",
       "      <td>VisualBehaviorTask1B</td>\n",
       "      <td>[Camk2a-tTA, Slc17a7-IRES2-Cre]</td>\n",
       "      <td>VISp</td>\n",
       "      <td>375</td>\n",
       "      <td>[CAM2P.5]</td>\n",
       "      <td>870720274</td>\n",
       "      <td>F</td>\n",
       "      <td>124.0</td>\n",
       "      <td>OPHYS_1_images_B 915136302</td>\n",
       "      <td>OPHYS_2_images_B_passive 918566488</td>\n",
       "      <td>OPHYS_3_images_B 919325924</td>\n",
       "      <td>OPHYS_5_images_A_passive 929136322</td>\n",
       "      <td>OPHYS_4_images_A 929591721</td>\n",
       "      <td>OPHYS_6_images_A 930785836</td>\n",
       "      <td>Camk2a-tTA;Slc17a7-IRES2-Cre</td>\n",
       "    </tr>\n",
       "    <tr>\n",
       "      <th>18</th>\n",
       "      <td>906963896</td>\n",
       "      <td>container_qc</td>\n",
       "      <td>2019-07-23</td>\n",
       "      <td>VisualBehaviorTask1B</td>\n",
       "      <td>[Camk2a-tTA, Slc17a7-IRES2-Cre]</td>\n",
       "      <td>VISp</td>\n",
       "      <td>375</td>\n",
       "      <td>[CAM2P.3]</td>\n",
       "      <td>866070199</td>\n",
       "      <td>M</td>\n",
       "      <td>123.0</td>\n",
       "      <td>OPHYS_1_images_B 911149119</td>\n",
       "      <td>OPHYS_2_images_B_passive 911642167</td>\n",
       "      <td>OPHYS_3_images_B 914062456</td>\n",
       "      <td>OPHYS_4_images_A 915150256</td>\n",
       "      <td>OPHYS_5_images_A_passive 916093599</td>\n",
       "      <td>OPHYS_6_images_A 923100548</td>\n",
       "      <td>Camk2a-tTA;Slc17a7-IRES2-Cre</td>\n",
       "    </tr>\n",
       "    <tr>\n",
       "      <th>23</th>\n",
       "      <td>902748650</td>\n",
       "      <td>container_qc</td>\n",
       "      <td>2019-06-18</td>\n",
       "      <td>VisualBehavior</td>\n",
       "      <td>[Camk2a-tTA, Slc17a7-IRES2-Cre]</td>\n",
       "      <td>VISp</td>\n",
       "      <td>375</td>\n",
       "      <td>[CAM2P.3]</td>\n",
       "      <td>847076524</td>\n",
       "      <td>F</td>\n",
       "      <td>117.0</td>\n",
       "      <td>OPHYS_1_images_A 889772922</td>\n",
       "      <td>OPHYS_2_images_A_passive 891054695</td>\n",
       "      <td>OPHYS_3_images_A 891996193</td>\n",
       "      <td>OPHYS_4_images_B 892805315</td>\n",
       "      <td>OPHYS_5_images_B_passive 893831526</td>\n",
       "      <td>OPHYS_6_images_B 894726001</td>\n",
       "      <td>Camk2a-tTA;Slc17a7-IRES2-Cre</td>\n",
       "    </tr>\n",
       "    <tr>\n",
       "      <th>22</th>\n",
       "      <td>902748564</td>\n",
       "      <td>container_qc</td>\n",
       "      <td>2019-06-10</td>\n",
       "      <td>VisualBehavior</td>\n",
       "      <td>[Camk2a-tTA, Slc17a7-IRES2-Cre]</td>\n",
       "      <td>VISp</td>\n",
       "      <td>175</td>\n",
       "      <td>[CAM2P.4]</td>\n",
       "      <td>843387586</td>\n",
       "      <td>F</td>\n",
       "      <td>110.0</td>\n",
       "      <td>OPHYS_1_images_A 884221469</td>\n",
       "      <td>OPHYS_2_images_A_passive 885067826</td>\n",
       "      <td>OPHYS_3_images_A 885933191</td>\n",
       "      <td>OPHYS_5_images_B_passive 888666715</td>\n",
       "      <td>OPHYS_6_images_B 889777243</td>\n",
       "      <td>OPHYS_4_images_B 896160394</td>\n",
       "      <td>Camk2a-tTA;Slc17a7-IRES2-Cre</td>\n",
       "    </tr>\n",
       "    <tr>\n",
       "      <th>19</th>\n",
       "      <td>896318095</td>\n",
       "      <td>container_qc</td>\n",
       "      <td>2019-07-09</td>\n",
       "      <td>VisualBehaviorTask1B</td>\n",
       "      <td>[Camk2a-tTA, Slc17a7-IRES2-Cre]</td>\n",
       "      <td>VISp</td>\n",
       "      <td>375</td>\n",
       "      <td>[CAM2P.5]</td>\n",
       "      <td>862601575</td>\n",
       "      <td>M</td>\n",
       "      <td>110.0</td>\n",
       "      <td>OPHYS_1_images_B 902487200</td>\n",
       "      <td>OPHYS_2_images_B_passive 903403819</td>\n",
       "      <td>OPHYS_3_images_B 904155140</td>\n",
       "      <td>OPHYS_4_images_A 909090479</td>\n",
       "      <td>OPHYS_6_images_A 910600099</td>\n",
       "      <td>OPHYS_5_images_A_passive 911146705</td>\n",
       "      <td>Camk2a-tTA;Slc17a7-IRES2-Cre</td>\n",
       "    </tr>\n",
       "    <tr>\n",
       "      <th>20</th>\n",
       "      <td>895259496</td>\n",
       "      <td>container_qc</td>\n",
       "      <td>2019-07-02</td>\n",
       "      <td>VisualBehaviorTask1B</td>\n",
       "      <td>[Camk2a-tTA, Slc17a7-IRES2-Cre]</td>\n",
       "      <td>VISp</td>\n",
       "      <td>175</td>\n",
       "      <td>[CAM2P.5]</td>\n",
       "      <td>862671211</td>\n",
       "      <td>F</td>\n",
       "      <td>105.0</td>\n",
       "      <td>OPHYS_1_images_B 899085531</td>\n",
       "      <td>OPHYS_3_images_B 901559828</td>\n",
       "      <td>OPHYS_2_images_B_passive 902487182</td>\n",
       "      <td>OPHYS_4_images_A 903405627</td>\n",
       "      <td>OPHYS_5_images_A_passive 904155155</td>\n",
       "      <td>OPHYS_6_images_A 908350502</td>\n",
       "      <td>Camk2a-tTA;Slc17a7-IRES2-Cre</td>\n",
       "    </tr>\n",
       "    <tr>\n",
       "      <th>21</th>\n",
       "      <td>890047007</td>\n",
       "      <td>container_qc</td>\n",
       "      <td>2019-06-18</td>\n",
       "      <td>VisualBehavior</td>\n",
       "      <td>[Camk2a-tTA, Slc17a7-IRES2-Cre]</td>\n",
       "      <td>VISp</td>\n",
       "      <td>175</td>\n",
       "      <td>[CAM2P.5]</td>\n",
       "      <td>847074148</td>\n",
       "      <td>F</td>\n",
       "      <td>117.0</td>\n",
       "      <td>OPHYS_1_images_A 889771676</td>\n",
       "      <td>OPHYS_2_images_A_passive 891052180</td>\n",
       "      <td>OPHYS_3_images_A 891994418</td>\n",
       "      <td>OPHYS_4_images_B 892799212</td>\n",
       "      <td>OPHYS_6_images_B 894727297</td>\n",
       "      <td>OPHYS_5_images_B_passive 898747791</td>\n",
       "      <td>Camk2a-tTA;Slc17a7-IRES2-Cre</td>\n",
       "    </tr>\n",
       "    <tr>\n",
       "      <th>33</th>\n",
       "      <td>876693136</td>\n",
       "      <td>container_qc</td>\n",
       "      <td>2019-03-28</td>\n",
       "      <td>VisualBehavior</td>\n",
       "      <td>[Camk2a-tTA, Slc17a7-IRES2-Cre]</td>\n",
       "      <td>VISp</td>\n",
       "      <td>175</td>\n",
       "      <td>[CAM2P.4]</td>\n",
       "      <td>814111935</td>\n",
       "      <td>F</td>\n",
       "      <td>97.0</td>\n",
       "      <td>OPHYS_1_images_A 842975542</td>\n",
       "      <td>OPHYS_2_images_A_passive 843520488</td>\n",
       "      <td>OPHYS_3_images_A 844395446</td>\n",
       "      <td>OPHYS_4_images_B 845037476</td>\n",
       "      <td>OPHYS_6_images_B 846487947</td>\n",
       "      <td>OPHYS_5_images_B_passive 847241639</td>\n",
       "      <td>Camk2a-tTA;Slc17a7-IRES2-Cre</td>\n",
       "    </tr>\n",
       "    <tr>\n",
       "      <th>25</th>\n",
       "      <td>876693090</td>\n",
       "      <td>container_qc</td>\n",
       "      <td>2019-05-29</td>\n",
       "      <td>VisualBehavior</td>\n",
       "      <td>[Camk2a-tTA, Slc17a7-IRES2-Cre]</td>\n",
       "      <td>VISp</td>\n",
       "      <td>175</td>\n",
       "      <td>[CAM2P.3]</td>\n",
       "      <td>830940327</td>\n",
       "      <td>M</td>\n",
       "      <td>129.0</td>\n",
       "      <td>OPHYS_2_images_A_passive 877696762</td>\n",
       "      <td>OPHYS_1_images_A 879332693</td>\n",
       "      <td>OPHYS_4_images_B 880375092</td>\n",
       "      <td>OPHYS_6_images_B 882935355</td>\n",
       "      <td>OPHYS_5_images_B_passive 884218326</td>\n",
       "      <td>NaN</td>\n",
       "      <td>Camk2a-tTA;Slc17a7-IRES2-Cre</td>\n",
       "    </tr>\n",
       "    <tr>\n",
       "      <th>24</th>\n",
       "      <td>876461613</td>\n",
       "      <td>container_qc</td>\n",
       "      <td>2019-06-06</td>\n",
       "      <td>VisualBehavior</td>\n",
       "      <td>[Camk2a-tTA, Slc17a7-IRES2-Cre]</td>\n",
       "      <td>VISp</td>\n",
       "      <td>175</td>\n",
       "      <td>[CAM2P.4]</td>\n",
       "      <td>842724854</td>\n",
       "      <td>F</td>\n",
       "      <td>118.0</td>\n",
       "      <td>OPHYS_2_images_A_passive 882520593</td>\n",
       "      <td>OPHYS_3_images_A 885067844</td>\n",
       "      <td>OPHYS_1_images_A 888666698</td>\n",
       "      <td>OPHYS_4_images_B 889775742</td>\n",
       "      <td>OPHYS_5_images_B_passive 891067673</td>\n",
       "      <td>NaN</td>\n",
       "      <td>Camk2a-tTA;Slc17a7-IRES2-Cre</td>\n",
       "    </tr>\n",
       "    <tr>\n",
       "      <th>26</th>\n",
       "      <td>869781307</td>\n",
       "      <td>container_qc</td>\n",
       "      <td>2019-05-22</td>\n",
       "      <td>VisualBehavior</td>\n",
       "      <td>[Camk2a-tTA, Slc17a7-IRES2-Cre]</td>\n",
       "      <td>VISp</td>\n",
       "      <td>175</td>\n",
       "      <td>[CAM2P.3]</td>\n",
       "      <td>834823477</td>\n",
       "      <td>F</td>\n",
       "      <td>117.0</td>\n",
       "      <td>OPHYS_1_images_A 873972085</td>\n",
       "      <td>OPHYS_2_images_A_passive 877022592</td>\n",
       "      <td>OPHYS_3_images_A 878363088</td>\n",
       "      <td>OPHYS_4_images_B 879331157</td>\n",
       "      <td>OPHYS_5_images_B_passive 880374622</td>\n",
       "      <td>OPHYS_6_images_B 880961028</td>\n",
       "      <td>Camk2a-tTA;Slc17a7-IRES2-Cre</td>\n",
       "    </tr>\n",
       "    <tr>\n",
       "      <th>27</th>\n",
       "      <td>863992815</td>\n",
       "      <td>container_qc</td>\n",
       "      <td>2019-05-16</td>\n",
       "      <td>VisualBehavior</td>\n",
       "      <td>[Camk2a-tTA, Slc17a7-IRES2-Cre]</td>\n",
       "      <td>VISp</td>\n",
       "      <td>175</td>\n",
       "      <td>[CAM2P.4]</td>\n",
       "      <td>830901424</td>\n",
       "      <td>M</td>\n",
       "      <td>122.0</td>\n",
       "      <td>OPHYS_5_images_B_passive 869969393</td>\n",
       "      <td>OPHYS_1_images_A 873968820</td>\n",
       "      <td>OPHYS_2_images_A_passive 875045489</td>\n",
       "      <td>OPHYS_3_images_A 877018118</td>\n",
       "      <td>OPHYS_6_images_B 878358326</td>\n",
       "      <td>NaN</td>\n",
       "      <td>Camk2a-tTA;Slc17a7-IRES2-Cre</td>\n",
       "    </tr>\n",
       "    <tr>\n",
       "      <th>29</th>\n",
       "      <td>848390542</td>\n",
       "      <td>container_qc</td>\n",
       "      <td>2019-04-17</td>\n",
       "      <td>VisualBehavior</td>\n",
       "      <td>[Camk2a-tTA, Slc17a7-IRES2-Cre]</td>\n",
       "      <td>VISp</td>\n",
       "      <td>175</td>\n",
       "      <td>[CAM2P.4]</td>\n",
       "      <td>823826986</td>\n",
       "      <td>F</td>\n",
       "      <td>95.0</td>\n",
       "      <td>OPHYS_3_images_A 853328115</td>\n",
       "      <td>OPHYS_4_images_B 853962951</td>\n",
       "      <td>OPHYS_5_images_B_passive 854703305</td>\n",
       "      <td>OPHYS_6_images_B 855577488</td>\n",
       "      <td>OPHYS_1_images_A 859147033</td>\n",
       "      <td>OPHYS_2_images_A_passive 863735602</td>\n",
       "      <td>Camk2a-tTA;Slc17a7-IRES2-Cre</td>\n",
       "    </tr>\n",
       "    <tr>\n",
       "      <th>30</th>\n",
       "      <td>846215539</td>\n",
       "      <td>container_qc</td>\n",
       "      <td>2019-04-09</td>\n",
       "      <td>VisualBehavior</td>\n",
       "      <td>[Camk2a-tTA, Slc17a7-IRES2-Cre]</td>\n",
       "      <td>VISp</td>\n",
       "      <td>375</td>\n",
       "      <td>[CAM2P.3]</td>\n",
       "      <td>820878213</td>\n",
       "      <td>M</td>\n",
       "      <td>97.0</td>\n",
       "      <td>OPHYS_1_images_A 848697625</td>\n",
       "      <td>OPHYS_2_images_A_passive 849203565</td>\n",
       "      <td>OPHYS_3_images_A 850479305</td>\n",
       "      <td>OPHYS_4_images_B 851060467</td>\n",
       "      <td>OPHYS_6_images_B 852691524</td>\n",
       "      <td>OPHYS_5_images_B_passive 855582961</td>\n",
       "      <td>Camk2a-tTA;Slc17a7-IRES2-Cre</td>\n",
       "    </tr>\n",
       "    <tr>\n",
       "      <th>31</th>\n",
       "      <td>846213087</td>\n",
       "      <td>container_qc</td>\n",
       "      <td>2019-04-09</td>\n",
       "      <td>VisualBehavior</td>\n",
       "      <td>[Camk2a-tTA, Slc17a7-IRES2-Cre]</td>\n",
       "      <td>VISp</td>\n",
       "      <td>375</td>\n",
       "      <td>[CAM2P.4]</td>\n",
       "      <td>803258386</td>\n",
       "      <td>M</td>\n",
       "      <td>138.0</td>\n",
       "      <td>OPHYS_1_images_A 848692970</td>\n",
       "      <td>OPHYS_2_images_A_passive 849199228</td>\n",
       "      <td>OPHYS_3_images_A 850489605</td>\n",
       "      <td>OPHYS_4_images_B 851056106</td>\n",
       "      <td>OPHYS_5_images_B_passive 851932055</td>\n",
       "      <td>OPHYS_6_images_B 853962969</td>\n",
       "      <td>Camk2a-tTA;Slc17a7-IRES2-Cre</td>\n",
       "    </tr>\n",
       "    <tr>\n",
       "      <th>28</th>\n",
       "      <td>845588020</td>\n",
       "      <td>container_qc</td>\n",
       "      <td>2019-04-09</td>\n",
       "      <td>VisualBehavior</td>\n",
       "      <td>[Camk2a-tTA, Slc17a7-IRES2-Cre]</td>\n",
       "      <td>VISp</td>\n",
       "      <td>375</td>\n",
       "      <td>[CAM2P.3]</td>\n",
       "      <td>820871408</td>\n",
       "      <td>M</td>\n",
       "      <td>96.0</td>\n",
       "      <td>OPHYS_1_images_A 848697604</td>\n",
       "      <td>OPHYS_2_images_A_passive 849203586</td>\n",
       "      <td>OPHYS_5_images_B_passive 855582981</td>\n",
       "      <td>OPHYS_6_images_B 856096766</td>\n",
       "      <td>OPHYS_4_images_B 862848066</td>\n",
       "      <td>OPHYS_3_images_A 864370674</td>\n",
       "      <td>Camk2a-tTA;Slc17a7-IRES2-Cre</td>\n",
       "    </tr>\n",
       "    <tr>\n",
       "      <th>32</th>\n",
       "      <td>843049827</td>\n",
       "      <td>container_qc</td>\n",
       "      <td>2019-03-28</td>\n",
       "      <td>VisualBehavior</td>\n",
       "      <td>[Camk2a-tTA, Slc17a7-IRES2-Cre]</td>\n",
       "      <td>VISp</td>\n",
       "      <td>375</td>\n",
       "      <td>[CAM2P.3]</td>\n",
       "      <td>813703544</td>\n",
       "      <td>M</td>\n",
       "      <td>108.0</td>\n",
       "      <td>OPHYS_1_images_A 842973730</td>\n",
       "      <td>OPHYS_2_images_A_passive 843519218</td>\n",
       "      <td>OPHYS_4_images_B 848694639</td>\n",
       "      <td>OPHYS_6_images_B 847125577</td>\n",
       "      <td>OPHYS_5_images_B_passive 848698709</td>\n",
       "      <td>NaN</td>\n",
       "      <td>Camk2a-tTA;Slc17a7-IRES2-Cre</td>\n",
       "    </tr>\n",
       "    <tr>\n",
       "      <th>34</th>\n",
       "      <td>829561794</td>\n",
       "      <td>container_qc</td>\n",
       "      <td>2019-02-28</td>\n",
       "      <td>VisualBehavior</td>\n",
       "      <td>[Camk2a-tTA, Slc17a7-IRES2-Cre]</td>\n",
       "      <td>VISp</td>\n",
       "      <td>375</td>\n",
       "      <td>[CAM2P.4]</td>\n",
       "      <td>784057626</td>\n",
       "      <td>F</td>\n",
       "      <td>133.0</td>\n",
       "      <td>OPHYS_1_images_A 830700781</td>\n",
       "      <td>OPHYS_3_images_A 833629926</td>\n",
       "      <td>OPHYS_4_images_B 834279496</td>\n",
       "      <td>OPHYS_6_images_B 836258936</td>\n",
       "      <td>OPHYS_2_images_A_passive 837296345</td>\n",
       "      <td>OPHYS_5_images_B_passive 837729902</td>\n",
       "      <td>Camk2a-tTA;Slc17a7-IRES2-Cre</td>\n",
       "    </tr>\n",
       "    <tr>\n",
       "      <th>35</th>\n",
       "      <td>825183217</td>\n",
       "      <td>container_qc</td>\n",
       "      <td>2019-02-20</td>\n",
       "      <td>VisualBehavior</td>\n",
       "      <td>[Vip-IRES-Cre]</td>\n",
       "      <td>VISp</td>\n",
       "      <td>175</td>\n",
       "      <td>[CAM2P.4]</td>\n",
       "      <td>791756323</td>\n",
       "      <td>M</td>\n",
       "      <td>131.0</td>\n",
       "      <td>OPHYS_1_images_A 826587940</td>\n",
       "      <td>OPHYS_4_images_B 830093338</td>\n",
       "      <td>OPHYS_5_images_B_passive 830700800</td>\n",
       "      <td>OPHYS_6_images_B 833631914</td>\n",
       "      <td>OPHYS_3_images_A 836258957</td>\n",
       "      <td>OPHYS_2_images_A_passive 836911939</td>\n",
       "      <td>Vip-IRES-Cre</td>\n",
       "    </tr>\n",
       "    <tr>\n",
       "      <th>40</th>\n",
       "      <td>814797528</td>\n",
       "      <td>container_qc</td>\n",
       "      <td>2019-01-04</td>\n",
       "      <td>VisualBehavior</td>\n",
       "      <td>[Vip-IRES-Cre]</td>\n",
       "      <td>VISp</td>\n",
       "      <td>175</td>\n",
       "      <td>[CAM2P.5]</td>\n",
       "      <td>760949544</td>\n",
       "      <td>M</td>\n",
       "      <td>127.0</td>\n",
       "      <td>OPHYS_1_images_A 803736273</td>\n",
       "      <td>OPHYS_4_images_B 805784331</td>\n",
       "      <td>OPHYS_5_images_B_passive 807753318</td>\n",
       "      <td>OPHYS_6_images_B 808621958</td>\n",
       "      <td>OPHYS_2_images_A_passive 809497730</td>\n",
       "      <td>NaN</td>\n",
       "      <td>Vip-IRES-Cre</td>\n",
       "    </tr>\n",
       "    <tr>\n",
       "      <th>43</th>\n",
       "      <td>814796612</td>\n",
       "      <td>container_qc</td>\n",
       "      <td>2018-12-10</td>\n",
       "      <td>VisualBehavior</td>\n",
       "      <td>[Camk2a-tTA, Slc17a7-IRES2-Cre]</td>\n",
       "      <td>VISp</td>\n",
       "      <td>375</td>\n",
       "      <td>[CAM2P.4]</td>\n",
       "      <td>756674785</td>\n",
       "      <td>F</td>\n",
       "      <td>147.0</td>\n",
       "      <td>OPHYS_1_images_A 792813858</td>\n",
       "      <td>OPHYS_3_images_A 794381992</td>\n",
       "      <td>OPHYS_4_images_B 795076128</td>\n",
       "      <td>OPHYS_5_images_B_passive 795952471</td>\n",
       "      <td>OPHYS_6_images_B 796105304</td>\n",
       "      <td>OPHYS_2_images_A_passive 797255551</td>\n",
       "      <td>Camk2a-tTA;Slc17a7-IRES2-Cre</td>\n",
       "    </tr>\n",
       "    <tr>\n",
       "      <th>41</th>\n",
       "      <td>814796558</td>\n",
       "      <td>container_qc</td>\n",
       "      <td>2018-11-20</td>\n",
       "      <td>VisualBehavior</td>\n",
       "      <td>[Camk2a-tTA, Slc17a7-IRES2-Cre]</td>\n",
       "      <td>VISp</td>\n",
       "      <td>375</td>\n",
       "      <td>[CAM2P.4, CAM2P.5]</td>\n",
       "      <td>756577249</td>\n",
       "      <td>F</td>\n",
       "      <td>105.0</td>\n",
       "      <td>OPHYS_1_images_A 783927872</td>\n",
       "      <td>OPHYS_2_images_A_passive 784482326</td>\n",
       "      <td>OPHYS_5_images_B_passive 788489531</td>\n",
       "      <td>OPHYS_6_images_B 789359614</td>\n",
       "      <td>OPHYS_3_images_A 795948257</td>\n",
       "      <td>OPHYS_4_images_B 799368904</td>\n",
       "      <td>Camk2a-tTA;Slc17a7-IRES2-Cre</td>\n",
       "    </tr>\n",
       "    <tr>\n",
       "      <th>37</th>\n",
       "      <td>812858755</td>\n",
       "      <td>container_qc</td>\n",
       "      <td>2019-01-30</td>\n",
       "      <td>VisualBehavior</td>\n",
       "      <td>[Camk2a-tTA, Slc17a7-IRES2-Cre]</td>\n",
       "      <td>VISp</td>\n",
       "      <td>175</td>\n",
       "      <td>[CAM2P.5]</td>\n",
       "      <td>789992909</td>\n",
       "      <td>M</td>\n",
       "      <td>97.0</td>\n",
       "      <td>OPHYS_2_images_A_passive 815652334</td>\n",
       "      <td>OPHYS_4_images_B 817267785</td>\n",
       "      <td>OPHYS_6_images_B 820307518</td>\n",
       "      <td>OPHYS_1_images_A 822647135</td>\n",
       "      <td>OPHYS_3_images_A 825130141</td>\n",
       "      <td>NaN</td>\n",
       "      <td>Camk2a-tTA;Slc17a7-IRES2-Cre</td>\n",
       "    </tr>\n",
       "    <tr>\n",
       "      <th>39</th>\n",
       "      <td>803589437</td>\n",
       "      <td>container_qc</td>\n",
       "      <td>2019-01-09</td>\n",
       "      <td>VisualBehavior</td>\n",
       "      <td>[Camk2a-tTA, Slc17a7-IRES2-Cre]</td>\n",
       "      <td>VISp</td>\n",
       "      <td>175</td>\n",
       "      <td>[CAM2P.4]</td>\n",
       "      <td>772622653</td>\n",
       "      <td>M</td>\n",
       "      <td>106.0</td>\n",
       "      <td>OPHYS_1_images_A 806455766</td>\n",
       "      <td>OPHYS_2_images_A_passive 806989729</td>\n",
       "      <td>OPHYS_3_images_A 807753334</td>\n",
       "      <td>OPHYS_4_images_B 808621034</td>\n",
       "      <td>OPHYS_6_images_B 809501118</td>\n",
       "      <td>OPHYS_5_images_B_passive 811458048</td>\n",
       "      <td>Camk2a-tTA;Slc17a7-IRES2-Cre</td>\n",
       "    </tr>\n",
       "    <tr>\n",
       "      <th>38</th>\n",
       "      <td>803517529</td>\n",
       "      <td>container_qc</td>\n",
       "      <td>2019-01-09</td>\n",
       "      <td>VisualBehavior</td>\n",
       "      <td>[Camk2a-tTA, Slc17a7-IRES2-Cre]</td>\n",
       "      <td>VISp</td>\n",
       "      <td>375</td>\n",
       "      <td>[CAM2P.4]</td>\n",
       "      <td>772629813</td>\n",
       "      <td>M</td>\n",
       "      <td>106.0</td>\n",
       "      <td>OPHYS_1_images_A 806456687</td>\n",
       "      <td>OPHYS_3_images_A 807752719</td>\n",
       "      <td>OPHYS_4_images_B 808619543</td>\n",
       "      <td>OPHYS_2_images_A_passive 811456530</td>\n",
       "      <td>OPHYS_6_images_B 813083478</td>\n",
       "      <td>NaN</td>\n",
       "      <td>Camk2a-tTA;Slc17a7-IRES2-Cre</td>\n",
       "    </tr>\n",
       "    <tr>\n",
       "      <th>36</th>\n",
       "      <td>803516615</td>\n",
       "      <td>container_qc</td>\n",
       "      <td>2019-02-12</td>\n",
       "      <td>VisualBehavior</td>\n",
       "      <td>[Camk2a-tTA, Slc17a7-IRES2-Cre]</td>\n",
       "      <td>VISp</td>\n",
       "      <td>175</td>\n",
       "      <td>[CAM2P.3]</td>\n",
       "      <td>766015390</td>\n",
       "      <td>M</td>\n",
       "      <td>150.0</td>\n",
       "      <td>OPHYS_1_images_A 822024770</td>\n",
       "      <td>OPHYS_2_images_A_passive 822641265</td>\n",
       "      <td>OPHYS_3_images_A 823392290</td>\n",
       "      <td>OPHYS_4_images_B 825120601</td>\n",
       "      <td>OPHYS_5_images_B_passive 825623170</td>\n",
       "      <td>OPHYS_6_images_B 826585773</td>\n",
       "      <td>Camk2a-tTA;Slc17a7-IRES2-Cre</td>\n",
       "    </tr>\n",
       "    <tr>\n",
       "      <th>42</th>\n",
       "      <td>791352433</td>\n",
       "      <td>container_qc</td>\n",
       "      <td>2018-12-10</td>\n",
       "      <td>VisualBehavior</td>\n",
       "      <td>[Vip-IRES-Cre]</td>\n",
       "      <td>VISp</td>\n",
       "      <td>175</td>\n",
       "      <td>[CAM2P.4]</td>\n",
       "      <td>744911458</td>\n",
       "      <td>F</td>\n",
       "      <td>148.0</td>\n",
       "      <td>OPHYS_1_images_A 792815735</td>\n",
       "      <td>OPHYS_3_images_A 795073741</td>\n",
       "      <td>OPHYS_4_images_B 795953296</td>\n",
       "      <td>OPHYS_5_images_B_passive 796108483</td>\n",
       "      <td>OPHYS_6_images_B 796308505</td>\n",
       "      <td>OPHYS_2_images_A_passive 798404219</td>\n",
       "      <td>Vip-IRES-Cre</td>\n",
       "    </tr>\n",
       "    <tr>\n",
       "      <th>44</th>\n",
       "      <td>782536745</td>\n",
       "      <td>container_qc</td>\n",
       "      <td>2018-11-08</td>\n",
       "      <td>VisualBehavior</td>\n",
       "      <td>[Camk2a-tTA, Slc17a7-IRES2-Cre]</td>\n",
       "      <td>VISp</td>\n",
       "      <td>375</td>\n",
       "      <td>[CAM2P.5]</td>\n",
       "      <td>722884882</td>\n",
       "      <td>F</td>\n",
       "      <td>160.0</td>\n",
       "      <td>OPHYS_1_images_A 775614751</td>\n",
       "      <td>OPHYS_2_images_A_passive 778644591</td>\n",
       "      <td>OPHYS_6_images_B 788490510</td>\n",
       "      <td>OPHYS_4_images_B 792812544</td>\n",
       "      <td>OPHYS_5_images_B_passive 796106850</td>\n",
       "      <td>NaN</td>\n",
       "      <td>Camk2a-tTA;Slc17a7-IRES2-Cre</td>\n",
       "    </tr>\n",
       "  </tbody>\n",
       "</table>\n",
       "</div>"
      ],
      "text/plain": [
       "    container_id container_workflow_state first_acquistion_date  \\\n",
       "0      991913453                completed            2019-12-11   \n",
       "1      989461845                completed            2019-12-04   \n",
       "2      978206330             container_qc            2019-11-14   \n",
       "8      969421516             container_qc            2019-10-03   \n",
       "3      968451510             container_qc            2019-10-24   \n",
       "4      957570596             container_qc            2019-10-10   \n",
       "6      957366099             container_qc            2019-10-08   \n",
       "5      957361481             container_qc            2019-10-08   \n",
       "7      957024596             container_qc            2019-10-04   \n",
       "9      947838486             container_qc            2019-09-24   \n",
       "10     941373529             container_qc            2019-09-25   \n",
       "11     939523510             container_qc            2019-09-18   \n",
       "14     930024022             container_qc            2019-08-29   \n",
       "13     930022332             container_qc            2019-09-04   \n",
       "12     929913236             container_qc            2019-09-05   \n",
       "15     928325203             container_qc            2019-08-26   \n",
       "17     915584942             container_qc            2019-08-07   \n",
       "16     911248946             container_qc            2019-07-31   \n",
       "18     906963896             container_qc            2019-07-23   \n",
       "23     902748650             container_qc            2019-06-18   \n",
       "22     902748564             container_qc            2019-06-10   \n",
       "19     896318095             container_qc            2019-07-09   \n",
       "20     895259496             container_qc            2019-07-02   \n",
       "21     890047007             container_qc            2019-06-18   \n",
       "33     876693136             container_qc            2019-03-28   \n",
       "25     876693090             container_qc            2019-05-29   \n",
       "24     876461613             container_qc            2019-06-06   \n",
       "26     869781307             container_qc            2019-05-22   \n",
       "27     863992815             container_qc            2019-05-16   \n",
       "29     848390542             container_qc            2019-04-17   \n",
       "30     846215539             container_qc            2019-04-09   \n",
       "31     846213087             container_qc            2019-04-09   \n",
       "28     845588020             container_qc            2019-04-09   \n",
       "32     843049827             container_qc            2019-03-28   \n",
       "34     829561794             container_qc            2019-02-28   \n",
       "35     825183217             container_qc            2019-02-20   \n",
       "40     814797528             container_qc            2019-01-04   \n",
       "43     814796612             container_qc            2018-12-10   \n",
       "41     814796558             container_qc            2018-11-20   \n",
       "37     812858755             container_qc            2019-01-30   \n",
       "39     803589437             container_qc            2019-01-09   \n",
       "38     803517529             container_qc            2019-01-09   \n",
       "36     803516615             container_qc            2019-02-12   \n",
       "42     791352433             container_qc            2018-12-10   \n",
       "44     782536745             container_qc            2018-11-08   \n",
       "\n",
       "            project_code                      driver_line targeted_structure  \\\n",
       "0   VisualBehaviorTask1B                   [Sst-IRES-Cre]               VISp   \n",
       "1   VisualBehaviorTask1B                   [Sst-IRES-Cre]               VISp   \n",
       "2   VisualBehaviorTask1B                   [Sst-IRES-Cre]               VISp   \n",
       "8   VisualBehaviorTask1B                   [Vip-IRES-Cre]               VISp   \n",
       "3         VisualBehavior  [Camk2a-tTA, Slc17a7-IRES2-Cre]               VISp   \n",
       "4   VisualBehaviorTask1B                   [Vip-IRES-Cre]               VISp   \n",
       "6   VisualBehaviorTask1B  [Camk2a-tTA, Slc17a7-IRES2-Cre]               VISp   \n",
       "5   VisualBehaviorTask1B  [Camk2a-tTA, Slc17a7-IRES2-Cre]               VISp   \n",
       "7         VisualBehavior                   [Sst-IRES-Cre]               VISp   \n",
       "9   VisualBehaviorTask1B  [Camk2a-tTA, Slc17a7-IRES2-Cre]               VISp   \n",
       "10  VisualBehaviorTask1B                   [Sst-IRES-Cre]               VISp   \n",
       "11        VisualBehavior  [Camk2a-tTA, Slc17a7-IRES2-Cre]               VISp   \n",
       "14        VisualBehavior  [Camk2a-tTA, Slc17a7-IRES2-Cre]               VISp   \n",
       "13        VisualBehavior  [Camk2a-tTA, Slc17a7-IRES2-Cre]               VISp   \n",
       "12        VisualBehavior                   [Vip-IRES-Cre]               VISp   \n",
       "15  VisualBehaviorTask1B                   [Vip-IRES-Cre]               VISp   \n",
       "17  VisualBehaviorTask1B  [Camk2a-tTA, Slc17a7-IRES2-Cre]               VISp   \n",
       "16  VisualBehaviorTask1B  [Camk2a-tTA, Slc17a7-IRES2-Cre]               VISp   \n",
       "18  VisualBehaviorTask1B  [Camk2a-tTA, Slc17a7-IRES2-Cre]               VISp   \n",
       "23        VisualBehavior  [Camk2a-tTA, Slc17a7-IRES2-Cre]               VISp   \n",
       "22        VisualBehavior  [Camk2a-tTA, Slc17a7-IRES2-Cre]               VISp   \n",
       "19  VisualBehaviorTask1B  [Camk2a-tTA, Slc17a7-IRES2-Cre]               VISp   \n",
       "20  VisualBehaviorTask1B  [Camk2a-tTA, Slc17a7-IRES2-Cre]               VISp   \n",
       "21        VisualBehavior  [Camk2a-tTA, Slc17a7-IRES2-Cre]               VISp   \n",
       "33        VisualBehavior  [Camk2a-tTA, Slc17a7-IRES2-Cre]               VISp   \n",
       "25        VisualBehavior  [Camk2a-tTA, Slc17a7-IRES2-Cre]               VISp   \n",
       "24        VisualBehavior  [Camk2a-tTA, Slc17a7-IRES2-Cre]               VISp   \n",
       "26        VisualBehavior  [Camk2a-tTA, Slc17a7-IRES2-Cre]               VISp   \n",
       "27        VisualBehavior  [Camk2a-tTA, Slc17a7-IRES2-Cre]               VISp   \n",
       "29        VisualBehavior  [Camk2a-tTA, Slc17a7-IRES2-Cre]               VISp   \n",
       "30        VisualBehavior  [Camk2a-tTA, Slc17a7-IRES2-Cre]               VISp   \n",
       "31        VisualBehavior  [Camk2a-tTA, Slc17a7-IRES2-Cre]               VISp   \n",
       "28        VisualBehavior  [Camk2a-tTA, Slc17a7-IRES2-Cre]               VISp   \n",
       "32        VisualBehavior  [Camk2a-tTA, Slc17a7-IRES2-Cre]               VISp   \n",
       "34        VisualBehavior  [Camk2a-tTA, Slc17a7-IRES2-Cre]               VISp   \n",
       "35        VisualBehavior                   [Vip-IRES-Cre]               VISp   \n",
       "40        VisualBehavior                   [Vip-IRES-Cre]               VISp   \n",
       "43        VisualBehavior  [Camk2a-tTA, Slc17a7-IRES2-Cre]               VISp   \n",
       "41        VisualBehavior  [Camk2a-tTA, Slc17a7-IRES2-Cre]               VISp   \n",
       "37        VisualBehavior  [Camk2a-tTA, Slc17a7-IRES2-Cre]               VISp   \n",
       "39        VisualBehavior  [Camk2a-tTA, Slc17a7-IRES2-Cre]               VISp   \n",
       "38        VisualBehavior  [Camk2a-tTA, Slc17a7-IRES2-Cre]               VISp   \n",
       "36        VisualBehavior  [Camk2a-tTA, Slc17a7-IRES2-Cre]               VISp   \n",
       "42        VisualBehavior                   [Vip-IRES-Cre]               VISp   \n",
       "44        VisualBehavior  [Camk2a-tTA, Slc17a7-IRES2-Cre]               VISp   \n",
       "\n",
       "    imaging_depth      equipment_name  specimen_id sex  age_in_days  \\\n",
       "0             275           [CAM2P.4]    910267443   M        194.0   \n",
       "1             275           [CAM2P.3]    940744053   M        143.0   \n",
       "2             275           [CAM2P.3]    916452082   M        148.0   \n",
       "8             175           [CAM2P.3]    887127198   M        170.0   \n",
       "3             175           [CAM2P.5]    916458892   F        135.0   \n",
       "4             175           [CAM2P.4]    880255046   M        177.0   \n",
       "6             375           [CAM2P.3]    912556133   F        131.0   \n",
       "5             375           [CAM2P.4]    916634005   M        118.0   \n",
       "7             290           [CAM2P.5]    882757053   M        174.0   \n",
       "9             175           [CAM2P.5]    912554454   F        119.0   \n",
       "10            275           [CAM2P.5]    887264964   F        149.0   \n",
       "11            175           [CAM2P.3]    847864095   M        204.0   \n",
       "14            175           [CAM2P.5]    854612265   F        174.0   \n",
       "13            175           [CAM2P.3]    854625263   F        180.0   \n",
       "12            175           [CAM2P.4]    875479702   F        141.0   \n",
       "15            175           [CAM2P.3]    879064141   M        132.0   \n",
       "17            375           [CAM2P.3]    866228971   F        131.0   \n",
       "16            375           [CAM2P.5]    870720274   F        124.0   \n",
       "18            375           [CAM2P.3]    866070199   M        123.0   \n",
       "23            375           [CAM2P.3]    847076524   F        117.0   \n",
       "22            175           [CAM2P.4]    843387586   F        110.0   \n",
       "19            375           [CAM2P.5]    862601575   M        110.0   \n",
       "20            175           [CAM2P.5]    862671211   F        105.0   \n",
       "21            175           [CAM2P.5]    847074148   F        117.0   \n",
       "33            175           [CAM2P.4]    814111935   F         97.0   \n",
       "25            175           [CAM2P.3]    830940327   M        129.0   \n",
       "24            175           [CAM2P.4]    842724854   F        118.0   \n",
       "26            175           [CAM2P.3]    834823477   F        117.0   \n",
       "27            175           [CAM2P.4]    830901424   M        122.0   \n",
       "29            175           [CAM2P.4]    823826986   F         95.0   \n",
       "30            375           [CAM2P.3]    820878213   M         97.0   \n",
       "31            375           [CAM2P.4]    803258386   M        138.0   \n",
       "28            375           [CAM2P.3]    820871408   M         96.0   \n",
       "32            375           [CAM2P.3]    813703544   M        108.0   \n",
       "34            375           [CAM2P.4]    784057626   F        133.0   \n",
       "35            175           [CAM2P.4]    791756323   M        131.0   \n",
       "40            175           [CAM2P.5]    760949544   M        127.0   \n",
       "43            375           [CAM2P.4]    756674785   F        147.0   \n",
       "41            375  [CAM2P.4, CAM2P.5]    756577249   F        105.0   \n",
       "37            175           [CAM2P.5]    789992909   M         97.0   \n",
       "39            175           [CAM2P.4]    772622653   M        106.0   \n",
       "38            375           [CAM2P.4]    772629813   M        106.0   \n",
       "36            175           [CAM2P.3]    766015390   M        150.0   \n",
       "42            175           [CAM2P.4]    744911458   F        148.0   \n",
       "44            375           [CAM2P.5]    722884882   F        160.0   \n",
       "\n",
       "                             session_0                           session_1  \\\n",
       "0           OPHYS_1_images_B 993862620  OPHYS_2_images_B_passive 994053903   \n",
       "1           OPHYS_1_images_B 992296756  OPHYS_2_images_B_passive 992572516   \n",
       "2           OPHYS_1_images_B 982862443  OPHYS_2_images_B_passive 984551228   \n",
       "8           OPHYS_1_images_B 960953590          OPHYS_3_images_B 962473308   \n",
       "3           OPHYS_1_images_A 972701564  OPHYS_2_images_A_passive 973927944   \n",
       "4           OPHYS_1_images_B 965224600  OPHYS_2_images_B_passive 967008454   \n",
       "6           OPHYS_1_images_B 963394065  OPHYS_2_images_B_passive 964955813   \n",
       "5           OPHYS_1_images_B 963391867  OPHYS_2_images_B_passive 964422360   \n",
       "7   OPHYS_2_images_A_passive 961283857          OPHYS_3_images_A 962471831   \n",
       "9           OPHYS_1_images_B 958435363          OPHYS_3_images_B 956903412   \n",
       "10          OPHYS_1_images_B 955276580  OPHYS_2_images_B_passive 956903375   \n",
       "11          OPHYS_1_images_A 949637002  OPHYS_2_images_A_passive 950852107   \n",
       "14          OPHYS_1_images_A 935440133          OPHYS_3_images_A 936494970   \n",
       "13          OPHYS_1_images_A 939327156  OPHYS_2_images_A_passive 940354166   \n",
       "12          OPHYS_1_images_A 940352989  OPHYS_2_images_A_passive 943134119   \n",
       "15          OPHYS_1_images_B 932331541  OPHYS_2_images_B_passive 933338719   \n",
       "17          OPHYS_1_images_B 919314793  OPHYS_2_images_B_passive 920211809   \n",
       "16          OPHYS_1_images_B 915136302  OPHYS_2_images_B_passive 918566488   \n",
       "18          OPHYS_1_images_B 911149119  OPHYS_2_images_B_passive 911642167   \n",
       "23          OPHYS_1_images_A 889772922  OPHYS_2_images_A_passive 891054695   \n",
       "22          OPHYS_1_images_A 884221469  OPHYS_2_images_A_passive 885067826   \n",
       "19          OPHYS_1_images_B 902487200  OPHYS_2_images_B_passive 903403819   \n",
       "20          OPHYS_1_images_B 899085531          OPHYS_3_images_B 901559828   \n",
       "21          OPHYS_1_images_A 889771676  OPHYS_2_images_A_passive 891052180   \n",
       "33          OPHYS_1_images_A 842975542  OPHYS_2_images_A_passive 843520488   \n",
       "25  OPHYS_2_images_A_passive 877696762          OPHYS_1_images_A 879332693   \n",
       "24  OPHYS_2_images_A_passive 882520593          OPHYS_3_images_A 885067844   \n",
       "26          OPHYS_1_images_A 873972085  OPHYS_2_images_A_passive 877022592   \n",
       "27  OPHYS_5_images_B_passive 869969393          OPHYS_1_images_A 873968820   \n",
       "29          OPHYS_3_images_A 853328115          OPHYS_4_images_B 853962951   \n",
       "30          OPHYS_1_images_A 848697625  OPHYS_2_images_A_passive 849203565   \n",
       "31          OPHYS_1_images_A 848692970  OPHYS_2_images_A_passive 849199228   \n",
       "28          OPHYS_1_images_A 848697604  OPHYS_2_images_A_passive 849203586   \n",
       "32          OPHYS_1_images_A 842973730  OPHYS_2_images_A_passive 843519218   \n",
       "34          OPHYS_1_images_A 830700781          OPHYS_3_images_A 833629926   \n",
       "35          OPHYS_1_images_A 826587940          OPHYS_4_images_B 830093338   \n",
       "40          OPHYS_1_images_A 803736273          OPHYS_4_images_B 805784331   \n",
       "43          OPHYS_1_images_A 792813858          OPHYS_3_images_A 794381992   \n",
       "41          OPHYS_1_images_A 783927872  OPHYS_2_images_A_passive 784482326   \n",
       "37  OPHYS_2_images_A_passive 815652334          OPHYS_4_images_B 817267785   \n",
       "39          OPHYS_1_images_A 806455766  OPHYS_2_images_A_passive 806989729   \n",
       "38          OPHYS_1_images_A 806456687          OPHYS_3_images_A 807752719   \n",
       "36          OPHYS_1_images_A 822024770  OPHYS_2_images_A_passive 822641265   \n",
       "42          OPHYS_1_images_A 792815735          OPHYS_3_images_A 795073741   \n",
       "44          OPHYS_1_images_A 775614751  OPHYS_2_images_A_passive 778644591   \n",
       "\n",
       "                             session_2                           session_3  \\\n",
       "0           OPHYS_3_images_B 994790561          OPHYS_4_images_A 995280513   \n",
       "1           OPHYS_3_images_B 992870927          OPHYS_4_images_A 993344860   \n",
       "2           OPHYS_3_images_B 986402309          OPHYS_4_images_A 989191384   \n",
       "8   OPHYS_2_images_B_passive 963394081          OPHYS_4_images_A 964440177   \n",
       "3           OPHYS_3_images_A 974384470          OPHYS_4_images_B 974945686   \n",
       "4           OPHYS_3_images_B 967876201          OPHYS_4_images_A 968651977   \n",
       "6           OPHYS_3_images_B 965231035          OPHYS_4_images_A 967007328   \n",
       "5           OPHYS_3_images_B 965218519          OPHYS_4_images_A 967008471   \n",
       "7           OPHYS_4_images_B 965228792  OPHYS_5_images_B_passive 965930965   \n",
       "9   OPHYS_2_images_B_passive 960351943          OPHYS_4_images_A 963397268   \n",
       "10          OPHYS_3_images_B 957652800          OPHYS_4_images_A 959337347   \n",
       "11          OPHYS_3_images_A 953452368          OPHYS_4_images_B 956820482   \n",
       "14          OPHYS_4_images_B 940352367          OPHYS_6_images_B 940852112   \n",
       "13          OPHYS_3_images_A 940852658          OPHYS_4_images_B 942043482   \n",
       "12          OPHYS_3_images_A 948507789          OPHYS_4_images_B 950833329   \n",
       "15          OPHYS_3_images_B 934476801          OPHYS_4_images_A 938001540   \n",
       "17          OPHYS_3_images_B 920976741          OPHYS_4_images_A 923100531   \n",
       "16          OPHYS_3_images_B 919325924  OPHYS_5_images_A_passive 929136322   \n",
       "18          OPHYS_3_images_B 914062456          OPHYS_4_images_A 915150256   \n",
       "23          OPHYS_3_images_A 891996193          OPHYS_4_images_B 892805315   \n",
       "22          OPHYS_3_images_A 885933191  OPHYS_5_images_B_passive 888666715   \n",
       "19          OPHYS_3_images_B 904155140          OPHYS_4_images_A 909090479   \n",
       "20  OPHYS_2_images_B_passive 902487182          OPHYS_4_images_A 903405627   \n",
       "21          OPHYS_3_images_A 891994418          OPHYS_4_images_B 892799212   \n",
       "33          OPHYS_3_images_A 844395446          OPHYS_4_images_B 845037476   \n",
       "25          OPHYS_4_images_B 880375092          OPHYS_6_images_B 882935355   \n",
       "24          OPHYS_1_images_A 888666698          OPHYS_4_images_B 889775742   \n",
       "26          OPHYS_3_images_A 878363088          OPHYS_4_images_B 879331157   \n",
       "27  OPHYS_2_images_A_passive 875045489          OPHYS_3_images_A 877018118   \n",
       "29  OPHYS_5_images_B_passive 854703305          OPHYS_6_images_B 855577488   \n",
       "30          OPHYS_3_images_A 850479305          OPHYS_4_images_B 851060467   \n",
       "31          OPHYS_3_images_A 850489605          OPHYS_4_images_B 851056106   \n",
       "28  OPHYS_5_images_B_passive 855582981          OPHYS_6_images_B 856096766   \n",
       "32          OPHYS_4_images_B 848694639          OPHYS_6_images_B 847125577   \n",
       "34          OPHYS_4_images_B 834279496          OPHYS_6_images_B 836258936   \n",
       "35  OPHYS_5_images_B_passive 830700800          OPHYS_6_images_B 833631914   \n",
       "40  OPHYS_5_images_B_passive 807753318          OPHYS_6_images_B 808621958   \n",
       "43          OPHYS_4_images_B 795076128  OPHYS_5_images_B_passive 795952471   \n",
       "41  OPHYS_5_images_B_passive 788489531          OPHYS_6_images_B 789359614   \n",
       "37          OPHYS_6_images_B 820307518          OPHYS_1_images_A 822647135   \n",
       "39          OPHYS_3_images_A 807753334          OPHYS_4_images_B 808621034   \n",
       "38          OPHYS_4_images_B 808619543  OPHYS_2_images_A_passive 811456530   \n",
       "36          OPHYS_3_images_A 823392290          OPHYS_4_images_B 825120601   \n",
       "42          OPHYS_4_images_B 795953296  OPHYS_5_images_B_passive 796108483   \n",
       "44          OPHYS_6_images_B 788490510          OPHYS_4_images_B 792812544   \n",
       "\n",
       "                             session_4                           session_5  \\\n",
       "0           OPHYS_6_images_A 995439942  OPHYS_5_images_A_passive 995622557   \n",
       "1   OPHYS_5_images_A_passive 993593393          OPHYS_6_images_A 993864050   \n",
       "2           OPHYS_6_images_A 989594023  OPHYS_5_images_A_passive 990381322   \n",
       "8   OPHYS_5_images_A_passive 965228771          OPHYS_6_images_A 965928394   \n",
       "3           OPHYS_6_images_B 977132456  OPHYS_5_images_B_passive 977937585   \n",
       "4   OPHYS_5_images_A_passive 969809655          OPHYS_6_images_A 972200901   \n",
       "6   OPHYS_5_images_A_passive 967877560                                 NaN   \n",
       "5   OPHYS_5_images_A_passive 967876219          OPHYS_6_images_A 968651957   \n",
       "7           OPHYS_6_images_B 967005387                                 NaN   \n",
       "9   OPHYS_5_images_A_passive 964460159          OPHYS_6_images_A 965218395   \n",
       "10  OPHYS_5_images_A_passive 960351917          OPHYS_6_images_A 960960480   \n",
       "11          OPHYS_6_images_B 957655294  OPHYS_5_images_B_passive 958681110   \n",
       "14  OPHYS_5_images_B_passive 943151492                                 NaN   \n",
       "13  OPHYS_5_images_B_passive 943151552          OPHYS_6_images_B 944366183   \n",
       "12          OPHYS_6_images_B 953443028  OPHYS_5_images_B_passive 958435448   \n",
       "15  OPHYS_5_images_A_passive 939319851          OPHYS_6_images_A 940354181   \n",
       "17  OPHYS_5_images_A_passive 924108253          OPHYS_6_images_A 929132798   \n",
       "16          OPHYS_4_images_A 929591721          OPHYS_6_images_A 930785836   \n",
       "18  OPHYS_5_images_A_passive 916093599          OPHYS_6_images_A 923100548   \n",
       "23  OPHYS_5_images_B_passive 893831526          OPHYS_6_images_B 894726001   \n",
       "22          OPHYS_6_images_B 889777243          OPHYS_4_images_B 896160394   \n",
       "19          OPHYS_6_images_A 910600099  OPHYS_5_images_A_passive 911146705   \n",
       "20  OPHYS_5_images_A_passive 904155155          OPHYS_6_images_A 908350502   \n",
       "21          OPHYS_6_images_B 894727297  OPHYS_5_images_B_passive 898747791   \n",
       "33          OPHYS_6_images_B 846487947  OPHYS_5_images_B_passive 847241639   \n",
       "25  OPHYS_5_images_B_passive 884218326                                 NaN   \n",
       "24  OPHYS_5_images_B_passive 891067673                                 NaN   \n",
       "26  OPHYS_5_images_B_passive 880374622          OPHYS_6_images_B 880961028   \n",
       "27          OPHYS_6_images_B 878358326                                 NaN   \n",
       "29          OPHYS_1_images_A 859147033  OPHYS_2_images_A_passive 863735602   \n",
       "30          OPHYS_6_images_B 852691524  OPHYS_5_images_B_passive 855582961   \n",
       "31  OPHYS_5_images_B_passive 851932055          OPHYS_6_images_B 853962969   \n",
       "28          OPHYS_4_images_B 862848066          OPHYS_3_images_A 864370674   \n",
       "32  OPHYS_5_images_B_passive 848698709                                 NaN   \n",
       "34  OPHYS_2_images_A_passive 837296345  OPHYS_5_images_B_passive 837729902   \n",
       "35          OPHYS_3_images_A 836258957  OPHYS_2_images_A_passive 836911939   \n",
       "40  OPHYS_2_images_A_passive 809497730                                 NaN   \n",
       "43          OPHYS_6_images_B 796105304  OPHYS_2_images_A_passive 797255551   \n",
       "41          OPHYS_3_images_A 795948257          OPHYS_4_images_B 799368904   \n",
       "37          OPHYS_3_images_A 825130141                                 NaN   \n",
       "39          OPHYS_6_images_B 809501118  OPHYS_5_images_B_passive 811458048   \n",
       "38          OPHYS_6_images_B 813083478                                 NaN   \n",
       "36  OPHYS_5_images_B_passive 825623170          OPHYS_6_images_B 826585773   \n",
       "42          OPHYS_6_images_B 796308505  OPHYS_2_images_A_passive 798404219   \n",
       "44  OPHYS_5_images_B_passive 796106850                                 NaN   \n",
       "\n",
       "                            line  \n",
       "0                   Sst-IRES-Cre  \n",
       "1                   Sst-IRES-Cre  \n",
       "2                   Sst-IRES-Cre  \n",
       "8                   Vip-IRES-Cre  \n",
       "3   Camk2a-tTA;Slc17a7-IRES2-Cre  \n",
       "4                   Vip-IRES-Cre  \n",
       "6   Camk2a-tTA;Slc17a7-IRES2-Cre  \n",
       "5   Camk2a-tTA;Slc17a7-IRES2-Cre  \n",
       "7                   Sst-IRES-Cre  \n",
       "9   Camk2a-tTA;Slc17a7-IRES2-Cre  \n",
       "10                  Sst-IRES-Cre  \n",
       "11  Camk2a-tTA;Slc17a7-IRES2-Cre  \n",
       "14  Camk2a-tTA;Slc17a7-IRES2-Cre  \n",
       "13  Camk2a-tTA;Slc17a7-IRES2-Cre  \n",
       "12                  Vip-IRES-Cre  \n",
       "15                  Vip-IRES-Cre  \n",
       "17  Camk2a-tTA;Slc17a7-IRES2-Cre  \n",
       "16  Camk2a-tTA;Slc17a7-IRES2-Cre  \n",
       "18  Camk2a-tTA;Slc17a7-IRES2-Cre  \n",
       "23  Camk2a-tTA;Slc17a7-IRES2-Cre  \n",
       "22  Camk2a-tTA;Slc17a7-IRES2-Cre  \n",
       "19  Camk2a-tTA;Slc17a7-IRES2-Cre  \n",
       "20  Camk2a-tTA;Slc17a7-IRES2-Cre  \n",
       "21  Camk2a-tTA;Slc17a7-IRES2-Cre  \n",
       "33  Camk2a-tTA;Slc17a7-IRES2-Cre  \n",
       "25  Camk2a-tTA;Slc17a7-IRES2-Cre  \n",
       "24  Camk2a-tTA;Slc17a7-IRES2-Cre  \n",
       "26  Camk2a-tTA;Slc17a7-IRES2-Cre  \n",
       "27  Camk2a-tTA;Slc17a7-IRES2-Cre  \n",
       "29  Camk2a-tTA;Slc17a7-IRES2-Cre  \n",
       "30  Camk2a-tTA;Slc17a7-IRES2-Cre  \n",
       "31  Camk2a-tTA;Slc17a7-IRES2-Cre  \n",
       "28  Camk2a-tTA;Slc17a7-IRES2-Cre  \n",
       "32  Camk2a-tTA;Slc17a7-IRES2-Cre  \n",
       "34  Camk2a-tTA;Slc17a7-IRES2-Cre  \n",
       "35                  Vip-IRES-Cre  \n",
       "40                  Vip-IRES-Cre  \n",
       "43  Camk2a-tTA;Slc17a7-IRES2-Cre  \n",
       "41  Camk2a-tTA;Slc17a7-IRES2-Cre  \n",
       "37  Camk2a-tTA;Slc17a7-IRES2-Cre  \n",
       "39  Camk2a-tTA;Slc17a7-IRES2-Cre  \n",
       "38  Camk2a-tTA;Slc17a7-IRES2-Cre  \n",
       "36  Camk2a-tTA;Slc17a7-IRES2-Cre  \n",
       "42                  Vip-IRES-Cre  \n",
       "44  Camk2a-tTA;Slc17a7-IRES2-Cre  "
      ]
     },
     "execution_count": 5,
     "metadata": {},
     "output_type": "execute_result"
    }
   ],
   "source": [
    "container_df"
   ]
  },
  {
   "cell_type": "code",
   "execution_count": null,
   "metadata": {},
   "outputs": [],
   "source": []
  },
  {
   "cell_type": "code",
   "execution_count": 6,
   "metadata": {},
   "outputs": [],
   "source": [
    "container_df = container_df.sort_values(by=['line','targeted_structure','first_acquistion_date'])\n",
    "container_ids = container_df.container_id.values\n",
    "sessions = ['session_{}'.format(i) for i in range(6)]"
   ]
  },
  {
   "cell_type": "code",
   "execution_count": 7,
   "metadata": {},
   "outputs": [
    {
     "data": {
      "text/plain": [
       "array(['OPHYS_1', 'OPHYS_2', 'OPHYS_3', 'OPHYS_4', 'OPHYS_5', 'OPHYS_6'],\n",
       "      dtype='<U7')"
      ]
     },
     "execution_count": 7,
     "metadata": {},
     "output_type": "execute_result"
    }
   ],
   "source": [
    "session_prefixes = []\n",
    "for container_id in container_ids:\n",
    "    session_prefixes += [s.split(' ')[0][:7] for s in container_df[container_df['container_id']==container_id][sessions].values[0] if pd.notnull(s)]\n",
    "session_prefixes = np.sort(np.unique(np.array(session_prefixes)))\n",
    "session_prefixes"
   ]
  },
  {
   "cell_type": "code",
   "execution_count": 8,
   "metadata": {},
   "outputs": [],
   "source": [
    "values = ['d_prime_peak','number_of_licks','num_contingent_trials']\n",
    "val_array = xr.DataArray(\n",
    "    np.zeros((len(container_ids), len(sessions),len(values))), \n",
    "    dims=('container_id', 'session_prefix','value'), \n",
    "    coords={'container_id':container_ids, 'session_prefix':session_prefixes,'value':values}\n",
    ")*np.nan"
   ]
  },
  {
   "cell_type": "code",
   "execution_count": 9,
   "metadata": {},
   "outputs": [],
   "source": [
    "vb = db.Database('visual_behavior_data')"
   ]
  },
  {
   "cell_type": "code",
   "execution_count": 10,
   "metadata": {},
   "outputs": [],
   "source": [
    "def get_movie_filepath(osid):\n",
    "    well_known_files = db.get_well_known_files(osid).set_index('name')\n",
    "    behavior_video_path = ''.join(well_known_files.loc['RawBehaviorTrackingVideo'][[\n",
    "                                  'storage_directory', 'filename']].tolist())\n",
    "    return behavior_video_path"
   ]
  },
  {
   "cell_type": "code",
   "execution_count": 11,
   "metadata": {},
   "outputs": [],
   "source": [
    "def oeid_to_uuid(oeid):\n",
    "    return db.convert_id({'ophys_experiment_id':oeid},'behavior_session_uuid')\n",
    "\n",
    "def get_oeid(container_id,session_number):\n",
    "    entry_string = container_df.query('container_id == @container_id')['session_{}'.format(session_number)].iloc[0]\n",
    "    if pd.notnull(entry_string):\n",
    "        return int(entry_string.split(' ')[1])\n",
    "        \n",
    "def get_uuid(container_id, session_number):\n",
    "    oeid = get_oeid(container_id, session_number)\n",
    "    if pd.notnull(oeid):\n",
    "        return oeid_to_uuid(oeid)\n",
    "    else:\n",
    "        return None\n",
    "\n",
    "def get_session_stats(container_id,session_number):\n",
    "    vb = db.Database('visual_behavior_data')\n",
    "    behavior_session_uuid = get_uuid(container_id,session_number)\n",
    "    stats = vb.behavior_data['summary'].find_one({'behavior_session_uuid':behavior_session_uuid})\n",
    "    vb.close()\n",
    "    return stats\n",
    "\n",
    "def get_value(container_id, session_number, value):\n",
    "    behavior_session_uuid = get_uuid(container_id,session_number)\n",
    "    session_stats = get_session_stats(container_id,session_number)\n",
    "    if value == 'session_prefix':\n",
    "        oeid = get_oeid(container_id,session_number)\n",
    "        return dl.get_session_type_for_ophys_experiment_id(oeid)[:7]\n",
    "    elif value == 'ophys_experiment_id' or value == 'ophys_session_id':\n",
    "        return db.convert_id({'behavior_session_uuid': behavior_session_uuid},value)\n",
    "    else:\n",
    "        return session_stats[value]\n",
    "    \n",
    "def rewrite_record(uuid):\n",
    "    pkl_path = db.get_pkl_path(uuid)\n",
    "    data = pd.read_pickle(pkl_path)\n",
    "    \n",
    "    core_data = data_to_change_detection_core(data)\n",
    "    trials = create_extended_dataframe(**core_data).drop(columns=['date', 'LDT_mode'])\n",
    "    summary = summarize.session_level_summary(trials).iloc[0].to_dict()\n",
    "    summary.update({'error_on_load':0})\n",
    "    db.update_or_create(\n",
    "        vb['behavior_data']['summary'],\n",
    "        db.simplify_entry(summary),\n",
    "        ['behavior_session_uuid'],\n",
    "        force_write=False\n",
    "    )"
   ]
  },
  {
   "cell_type": "code",
   "execution_count": 12,
   "metadata": {},
   "outputs": [],
   "source": [
    "for container_id in container_ids:\n",
    "    for session_number in range(6):\n",
    "        bs_uuid = get_uuid(container_id, session_number)\n",
    "        if pd.notnull(bs_uuid):\n",
    "            session_stats = get_session_stats(container_id, session_number)\n",
    "            if 'error_on_load' in session_stats.keys() and session_stats['error_on_load'] == 1:\n",
    "                rewrite_record(bs_uuid)\n",
    "            session_prefix = get_value(container_id, session_number, 'session_prefix')\n",
    "            \n",
    "            for value in values:\n",
    "                v = get_value(container_id, session_number, value)\n",
    "                val_array.loc[{'container_id':container_id, 'session_prefix':session_prefix,'value':value}] = v"
   ]
  },
  {
   "cell_type": "code",
   "execution_count": 13,
   "metadata": {},
   "outputs": [
    {
     "data": {
      "text/plain": [
       "{'_id': ObjectId('5d5e4428eeab8349b6f745a5'),\n",
       " 'mouse_id': '421136',\n",
       " 'behavior_session_uuid': 'fa385ba2-3c2c-4f88-988f-90151629e9f7',\n",
       " 'startdatetime': datetime.datetime(2019, 1, 8, 16, 43, 52, 128000),\n",
       " 'session_duration': 3601.330871177301,\n",
       " 'd_prime_peak': 1.7368920761910625,\n",
       " 'discrim_p': 0.16977817679240736,\n",
       " 'response_bias': 0.38333333333333336,\n",
       " 'earned_water': 0.448,\n",
       " 'total_water': 0.448,\n",
       " 'num_contingent_trials': 180,\n",
       " 'lick_latency_median': 0.47540438038413413,\n",
       " 'fraction_time_aborted': 0.5755454596558418,\n",
       " 'fraction_time_hit': 0.1442337230701007,\n",
       " 'fraction_time_miss': 0.22727454207957443,\n",
       " 'fraction_time_correct_reject': 0.04231610702752629,\n",
       " 'fraction_time_false_alarm': 0.010630168166956888,\n",
       " 'fraction_time_auto_rewarded': 0.0,\n",
       " 'number_of_hit_trials': 64,\n",
       " 'number_of_miss_trials': 94,\n",
       " 'number_of_false_alarm_trials': 5,\n",
       " 'number_of_correct_reject_trials': 17,\n",
       " 'hit_rate': 0.4050632911392405,\n",
       " 'false_alarm_rate': 0.22727272727272727,\n",
       " 'hit_rate_peak': 0.9104477611940298,\n",
       " 'false_alarm_rate_peak': 0.7142857142857143,\n",
       " 'number_of_licks': 3023,\n",
       " 'blank_duration': 0.5,\n",
       " 'day_of_week': 1,\n",
       " 'change_time_distribution': 'geometric',\n",
       " 'user_id': 'kylam',\n",
       " 'rig_id': '2P5',\n",
       " 'stimulus': 'images',\n",
       " 'stage': 'OPHYS_4_images_B',\n",
       " 'lims_id': 805373492,\n",
       " 'pkl_path': '/allen/programs/braintv/production/visualbehavior/prod0/specimen_760949544/behavior_session_805373492/805269503.pkl',\n",
       " 'behavior_session_id': 805373492,\n",
       " 'foraging_id': 'fa385ba2-3c2c-4f88-988f-90151629e9f7',\n",
       " 'ophys_experiment_id': 805784331,\n",
       " 'ophys_session_id': 805269503}"
      ]
     },
     "execution_count": 13,
     "metadata": {},
     "output_type": "execute_result"
    }
   ],
   "source": [
    "container_id = 814797528\n",
    "get_session_stats(container_id,1)"
   ]
  },
  {
   "cell_type": "code",
   "execution_count": 14,
   "metadata": {},
   "outputs": [],
   "source": [
    "container_id = container_ids[9]"
   ]
  },
  {
   "cell_type": "code",
   "execution_count": 15,
   "metadata": {},
   "outputs": [],
   "source": [
    "# label = ['CID = {}, line = {}, depth = {}'.format(cid,line,depth) for ]"
   ]
  },
  {
   "cell_type": "code",
   "execution_count": 16,
   "metadata": {},
   "outputs": [
    {
     "data": {
      "image/png": "[encoded data removed]",
      "text/plain": [
       "<Figure size 864x1080 with 6 Axes>"
      ]
     },
     "metadata": {},
     "output_type": "display_data"
    }
   ],
   "source": [
    "fig,ax=plt.subplots(1,3,figsize=(12,15),sharey=True,facecolor='white')\n",
    "for ii,value in enumerate(values):\n",
    "    im = ax[ii].imshow(val_array.loc[{'container_id':container_ids,'value':value}].values)\n",
    "    ax[ii].set_yticks(np.arange(len(container_ids)));\n",
    "    ax[ii].set_yticklabels(container_ids);\n",
    "    ax[ii].set_xticks(np.arange(6))\n",
    "    ax[ii].set_xticklabels(session_prefixes,rotation=45,ha='right')\n",
    "    ax[ii].set_ylabel('container ID')\n",
    "    ax[ii].set_xlabel('session prefix')\n",
    "\n",
    "    fig.colorbar(im, ax=ax[ii])\n",
    "    ax[ii].set_title('{}'.format(value))\n",
    "fig.tight_layout()\n",
    "fig.savefig('/home/dougo/dropbox/temp_fig.png',dpi=150)"
   ]
  },
  {
   "cell_type": "code",
   "execution_count": 17,
   "metadata": {},
   "outputs": [
    {
     "data": {
      "text/plain": [
       "45"
      ]
     },
     "execution_count": 17,
     "metadata": {},
     "output_type": "execute_result"
    }
   ],
   "source": [
    "len([str(c) for c in container_ids])"
   ]
  },
  {
   "cell_type": "code",
   "execution_count": 28,
   "metadata": {},
   "outputs": [
    {
     "data": {
      "application/vnd.plotly.v1+json": {
       "config": {
        "plotlyServerURL": "https://plot.ly"
       },
       "data": [
        {
         "colorbar": {
          "title": {
           "text": "num_contingent_trials"
          }
         },
         "colorscale": [
          [
           0,
           "#440154"
          ],
          [
           0.1111111111111111,
           "#482878"
          ],
          [
           0.2222222222222222,
           "#3e4989"
          ],
          [
           0.3333333333333333,
           "#31688e"
          ],
          [
           0.4444444444444444,
           "#26828e"
          ],
          [
           0.5555555555555556,
           "#1f9e89"
          ],
          [
           0.6666666666666666,
           "#35b779"
          ],
          [
           0.7777777777777778,
           "#6ece58"
          ],
          [
           0.8888888888888888,
           "#b5de2b"
          ],
          [
           1,
           "#fde725"
          ]
         ],
         "hoverongaps": true,
         "type": "heatmap",
         "x": [
          "OPHYS_1",
          "OPHYS_2",
          "OPHYS_3",
          "OPHYS_4",
          "OPHYS_5",
          "OPHYS_6"
         ],
         "y": [
          782536745,
          814796558,
          814796612,
          803589437,
          803517529,
          812858755,
          803516615,
          829561794,
          876693136,
          843049827,
          846215539,
          846213087,
          845588020,
          848390542,
          863992815,
          869781307,
          876693090,
          876461613,
          902748564,
          902748650,
          890047007,
          895259496,
          896318095,
          906963896,
          911248946,
          915584942,
          930024022,
          930022332,
          939523510,
          947838486,
          957366099,
          957361481,
          968451510,
          941373529,
          957024596,
          978206330,
          989461845,
          991913453,
          791352433,
          814797528,
          825183217,
          928325203,
          929913236,
          969421516,
          957570596
         ],
         "z": [
          [
           39,
           405,
           null,
           276,
           404,
           190
          ],
          [
           372,
           409,
           333,
           400,
           407,
           304
          ],
          [
           151,
           408,
           155,
           166,
           405,
           172
          ],
          [
           234,
           403,
           230,
           267,
           406,
           195
          ],
          [
           271,
           406,
           176,
           251,
           null,
           293
          ],
          [
           307,
           400,
           228,
           315,
           null,
           285
          ],
          [
           260,
           402,
           293,
           312,
           412,
           338
          ],
          [
           293,
           405,
           271,
           302,
           405,
           293
          ],
          [
           213,
           402,
           145,
           185,
           409,
           263
          ],
          [
           146,
           402,
           null,
           254,
           399,
           268
          ],
          [
           263,
           402,
           228,
           265,
           406,
           231
          ],
          [
           274,
           405,
           279,
           279,
           409,
           251
          ],
          [
           286,
           406,
           378,
           387,
           405,
           246
          ],
          [
           189,
           403,
           290,
           327,
           407,
           329
          ],
          [
           279,
           403,
           324,
           null,
           406,
           343
          ],
          [
           215,
           410,
           200,
           252,
           410,
           230
          ],
          [
           304,
           406,
           null,
           291,
           405,
           291
          ],
          [
           149,
           410,
           206,
           186,
           409,
           null
          ],
          [
           347,
           405,
           288,
           307,
           402,
           323
          ],
          [
           339,
           407,
           380,
           356,
           407,
           330
          ],
          [
           250,
           400,
           220,
           232,
           410,
           205
          ],
          [
           295,
           404,
           195,
           259,
           406,
           270
          ],
          [
           284,
           401,
           300,
           312,
           411,
           260
          ],
          [
           268,
           405,
           282,
           308,
           406,
           386
          ],
          [
           257,
           404,
           230,
           100,
           407,
           124
          ],
          [
           334,
           405,
           369,
           183,
           407,
           209
          ],
          [
           300,
           null,
           263,
           257,
           406,
           173
          ],
          [
           348,
           401,
           334,
           379,
           405,
           363
          ],
          [
           286,
           407,
           257,
           138,
           405,
           216
          ],
          [
           307,
           410,
           165,
           263,
           402,
           270
          ],
          [
           227,
           410,
           326,
           378,
           404,
           null
          ],
          [
           240,
           403,
           310,
           223,
           407,
           229
          ],
          [
           269,
           407,
           189,
           224,
           404,
           258
          ],
          [
           334,
           405,
           350,
           123,
           404,
           146
          ],
          [
           null,
           407,
           217,
           181,
           403,
           107
          ],
          [
           218,
           408,
           161,
           371,
           401,
           165
          ],
          [
           218,
           406,
           171,
           193,
           407,
           200
          ],
          [
           279,
           403,
           338,
           277,
           405,
           338
          ],
          [
           188,
           404,
           112,
           243,
           402,
           225
          ],
          [
           242,
           407,
           null,
           180,
           408,
           129
          ],
          [
           396,
           406,
           381,
           397,
           403,
           403
          ],
          [
           161,
           399,
           275,
           251,
           405,
           312
          ],
          [
           117,
           405,
           117,
           248,
           404,
           279
          ],
          [
           140,
           404,
           136,
           120,
           407,
           138
          ],
          [
           334,
           398,
           299,
           340,
           409,
           335
          ]
         ]
        }
       ],
       "layout": {
        "autosize": false,
        "height": 900,
        "margin": {
         "b": 0,
         "l": 0,
         "pad": 0,
         "r": 0,
         "t": 50
        },
        "template": {
         "data": {
          "bar": [
           {
            "error_x": {
             "color": "#2a3f5f"
            },
            "error_y": {
             "color": "#2a3f5f"
            },
            "marker": {
             "line": {
              "color": "#E5ECF6",
              "width": 0.5
             }
            },
            "type": "bar"
           }
          ],
          "barpolar": [
           {
            "marker": {
             "line": {
              "color": "#E5ECF6",
              "width": 0.5
             }
            },
            "type": "barpolar"
           }
          ],
          "carpet": [
           {
            "aaxis": {
             "endlinecolor": "#2a3f5f",
             "gridcolor": "white",
             "linecolor": "white",
             "minorgridcolor": "white",
             "startlinecolor": "#2a3f5f"
            },
            "baxis": {
             "endlinecolor": "#2a3f5f",
             "gridcolor": "white",
             "linecolor": "white",
             "minorgridcolor": "white",
             "startlinecolor": "#2a3f5f"
            },
            "type": "carpet"
           }
          ],
          "choropleth": [
           {
            "colorbar": {
             "outlinewidth": 0,
             "ticks": ""
            },
            "type": "choropleth"
           }
          ],
          "contour": [
           {
            "colorbar": {
             "outlinewidth": 0,
             "ticks": ""
            },
            "colorscale": [
             [
              0,
              "#0d0887"
             ],
             [
              0.1111111111111111,
              "#46039f"
             ],
             [
              0.2222222222222222,
              "#7201a8"
             ],
             [
              0.3333333333333333,
              "#9c179e"
             ],
             [
              0.4444444444444444,
              "#bd3786"
             ],
             [
              0.5555555555555556,
              "#d8576b"
             ],
             [
              0.6666666666666666,
              "#ed7953"
             ],
             [
              0.7777777777777778,
              "#fb9f3a"
             ],
             [
              0.8888888888888888,
              "#fdca26"
             ],
             [
              1,
              "#f0f921"
             ]
            ],
            "type": "contour"
           }
          ],
          "contourcarpet": [
           {
            "colorbar": {
             "outlinewidth": 0,
             "ticks": ""
            },
            "type": "contourcarpet"
           }
          ],
          "heatmap": [
           {
            "colorbar": {
             "outlinewidth": 0,
             "ticks": ""
            },
            "colorscale": [
             [
              0,
              "#0d0887"
             ],
             [
              0.1111111111111111,
              "#46039f"
             ],
             [
              0.2222222222222222,
              "#7201a8"
             ],
             [
              0.3333333333333333,
              "#9c179e"
             ],
             [
              0.4444444444444444,
              "#bd3786"
             ],
             [
              0.5555555555555556,
              "#d8576b"
             ],
             [
              0.6666666666666666,
              "#ed7953"
             ],
             [
              0.7777777777777778,
              "#fb9f3a"
             ],
             [
              0.8888888888888888,
              "#fdca26"
             ],
             [
              1,
              "#f0f921"
             ]
            ],
            "type": "heatmap"
           }
          ],
          "heatmapgl": [
           {
            "colorbar": {
             "outlinewidth": 0,
             "ticks": ""
            },
            "colorscale": [
             [
              0,
              "#0d0887"
             ],
             [
              0.1111111111111111,
              "#46039f"
             ],
             [
              0.2222222222222222,
              "#7201a8"
             ],
             [
              0.3333333333333333,
              "#9c179e"
             ],
             [
              0.4444444444444444,
              "#bd3786"
             ],
             [
              0.5555555555555556,
              "#d8576b"
             ],
             [
              0.6666666666666666,
              "#ed7953"
             ],
             [
              0.7777777777777778,
              "#fb9f3a"
             ],
             [
              0.8888888888888888,
              "#fdca26"
             ],
             [
              1,
              "#f0f921"
             ]
            ],
            "type": "heatmapgl"
           }
          ],
          "histogram": [
           {
            "marker": {
             "colorbar": {
              "outlinewidth": 0,
              "ticks": ""
             }
            },
            "type": "histogram"
           }
          ],
          "histogram2d": [
           {
            "colorbar": {
             "outlinewidth": 0,
             "ticks": ""
            },
            "colorscale": [
             [
              0,
              "#0d0887"
             ],
             [
              0.1111111111111111,
              "#46039f"
             ],
             [
              0.2222222222222222,
              "#7201a8"
             ],
             [
              0.3333333333333333,
              "#9c179e"
             ],
             [
              0.4444444444444444,
              "#bd3786"
             ],
             [
              0.5555555555555556,
              "#d8576b"
             ],
             [
              0.6666666666666666,
              "#ed7953"
             ],
             [
              0.7777777777777778,
              "#fb9f3a"
             ],
             [
              0.8888888888888888,
              "#fdca26"
             ],
             [
              1,
              "#f0f921"
             ]
            ],
            "type": "histogram2d"
           }
          ],
          "histogram2dcontour": [
           {
            "colorbar": {
             "outlinewidth": 0,
             "ticks": ""
            },
            "colorscale": [
             [
              0,
              "#0d0887"
             ],
             [
              0.1111111111111111,
              "#46039f"
             ],
             [
              0.2222222222222222,
              "#7201a8"
             ],
             [
              0.3333333333333333,
              "#9c179e"
             ],
             [
              0.4444444444444444,
              "#bd3786"
             ],
             [
              0.5555555555555556,
              "#d8576b"
             ],
             [
              0.6666666666666666,
              "#ed7953"
             ],
             [
              0.7777777777777778,
              "#fb9f3a"
             ],
             [
              0.8888888888888888,
              "#fdca26"
             ],
             [
              1,
              "#f0f921"
             ]
            ],
            "type": "histogram2dcontour"
           }
          ],
          "mesh3d": [
           {
            "colorbar": {
             "outlinewidth": 0,
             "ticks": ""
            },
            "type": "mesh3d"
           }
          ],
          "parcoords": [
           {
            "line": {
             "colorbar": {
              "outlinewidth": 0,
              "ticks": ""
             }
            },
            "type": "parcoords"
           }
          ],
          "pie": [
           {
            "automargin": true,
            "type": "pie"
           }
          ],
          "scatter": [
           {
            "marker": {
             "colorbar": {
              "outlinewidth": 0,
              "ticks": ""
             }
            },
            "type": "scatter"
           }
          ],
          "scatter3d": [
           {
            "line": {
             "colorbar": {
              "outlinewidth": 0,
              "ticks": ""
             }
            },
            "marker": {
             "colorbar": {
              "outlinewidth": 0,
              "ticks": ""
             }
            },
            "type": "scatter3d"
           }
          ],
          "scattercarpet": [
           {
            "marker": {
             "colorbar": {
              "outlinewidth": 0,
              "ticks": ""
             }
            },
            "type": "scattercarpet"
           }
          ],
          "scattergeo": [
           {
            "marker": {
             "colorbar": {
              "outlinewidth": 0,
              "ticks": ""
             }
            },
            "type": "scattergeo"
           }
          ],
          "scattergl": [
           {
            "marker": {
             "colorbar": {
              "outlinewidth": 0,
              "ticks": ""
             }
            },
            "type": "scattergl"
           }
          ],
          "scattermapbox": [
           {
            "marker": {
             "colorbar": {
              "outlinewidth": 0,
              "ticks": ""
             }
            },
            "type": "scattermapbox"
           }
          ],
          "scatterpolar": [
           {
            "marker": {
             "colorbar": {
              "outlinewidth": 0,
              "ticks": ""
             }
            },
            "type": "scatterpolar"
           }
          ],
          "scatterpolargl": [
           {
            "marker": {
             "colorbar": {
              "outlinewidth": 0,
              "ticks": ""
             }
            },
            "type": "scatterpolargl"
           }
          ],
          "scatterternary": [
           {
            "marker": {
             "colorbar": {
              "outlinewidth": 0,
              "ticks": ""
             }
            },
            "type": "scatterternary"
           }
          ],
          "surface": [
           {
            "colorbar": {
             "outlinewidth": 0,
             "ticks": ""
            },
            "colorscale": [
             [
              0,
              "#0d0887"
             ],
             [
              0.1111111111111111,
              "#46039f"
             ],
             [
              0.2222222222222222,
              "#7201a8"
             ],
             [
              0.3333333333333333,
              "#9c179e"
             ],
             [
              0.4444444444444444,
              "#bd3786"
             ],
             [
              0.5555555555555556,
              "#d8576b"
             ],
             [
              0.6666666666666666,
              "#ed7953"
             ],
             [
              0.7777777777777778,
              "#fb9f3a"
             ],
             [
              0.8888888888888888,
              "#fdca26"
             ],
             [
              1,
              "#f0f921"
             ]
            ],
            "type": "surface"
           }
          ],
          "table": [
           {
            "cells": {
             "fill": {
              "color": "#EBF0F8"
             },
             "line": {
              "color": "white"
             }
            },
            "header": {
             "fill": {
              "color": "#C8D4E3"
             },
             "line": {
              "color": "white"
             }
            },
            "type": "table"
           }
          ]
         },
         "layout": {
          "annotationdefaults": {
           "arrowcolor": "#2a3f5f",
           "arrowhead": 0,
           "arrowwidth": 1
          },
          "coloraxis": {
           "colorbar": {
            "outlinewidth": 0,
            "ticks": ""
           }
          },
          "colorscale": {
           "diverging": [
            [
             0,
             "#8e0152"
            ],
            [
             0.1,
             "#c51b7d"
            ],
            [
             0.2,
             "#de77ae"
            ],
            [
             0.3,
             "#f1b6da"
            ],
            [
             0.4,
             "#fde0ef"
            ],
            [
             0.5,
             "#f7f7f7"
            ],
            [
             0.6,
             "#e6f5d0"
            ],
            [
             0.7,
             "#b8e186"
            ],
            [
             0.8,
             "#7fbc41"
            ],
            [
             0.9,
             "#4d9221"
            ],
            [
             1,
             "#276419"
            ]
           ],
           "sequential": [
            [
             0,
             "#0d0887"
            ],
            [
             0.1111111111111111,
             "#46039f"
            ],
            [
             0.2222222222222222,
             "#7201a8"
            ],
            [
             0.3333333333333333,
             "#9c179e"
            ],
            [
             0.4444444444444444,
             "#bd3786"
            ],
            [
             0.5555555555555556,
             "#d8576b"
            ],
            [
             0.6666666666666666,
             "#ed7953"
            ],
            [
             0.7777777777777778,
             "#fb9f3a"
            ],
            [
             0.8888888888888888,
             "#fdca26"
            ],
            [
             1,
             "#f0f921"
            ]
           ],
           "sequentialminus": [
            [
             0,
             "#0d0887"
            ],
            [
             0.1111111111111111,
             "#46039f"
            ],
            [
             0.2222222222222222,
             "#7201a8"
            ],
            [
             0.3333333333333333,
             "#9c179e"
            ],
            [
             0.4444444444444444,
             "#bd3786"
            ],
            [
             0.5555555555555556,
             "#d8576b"
            ],
            [
             0.6666666666666666,
             "#ed7953"
            ],
            [
             0.7777777777777778,
             "#fb9f3a"
            ],
            [
             0.8888888888888888,
             "#fdca26"
            ],
            [
             1,
             "#f0f921"
            ]
           ]
          },
          "colorway": [
           "#636efa",
           "#EF553B",
           "#00cc96",
           "#ab63fa",
           "#FFA15A",
           "#19d3f3",
           "#FF6692",
           "#B6E880",
           "#FF97FF",
           "#FECB52"
          ],
          "font": {
           "color": "#2a3f5f"
          },
          "geo": {
           "bgcolor": "white",
           "lakecolor": "white",
           "landcolor": "#E5ECF6",
           "showlakes": true,
           "showland": true,
           "subunitcolor": "white"
          },
          "hoverlabel": {
           "align": "left"
          },
          "hovermode": "closest",
          "mapbox": {
           "style": "light"
          },
          "paper_bgcolor": "white",
          "plot_bgcolor": "#E5ECF6",
          "polar": {
           "angularaxis": {
            "gridcolor": "white",
            "linecolor": "white",
            "ticks": ""
           },
           "bgcolor": "#E5ECF6",
           "radialaxis": {
            "gridcolor": "white",
            "linecolor": "white",
            "ticks": ""
           }
          },
          "scene": {
           "xaxis": {
            "backgroundcolor": "#E5ECF6",
            "gridcolor": "white",
            "gridwidth": 2,
            "linecolor": "white",
            "showbackground": true,
            "ticks": "",
            "zerolinecolor": "white"
           },
           "yaxis": {
            "backgroundcolor": "#E5ECF6",
            "gridcolor": "white",
            "gridwidth": 2,
            "linecolor": "white",
            "showbackground": true,
            "ticks": "",
            "zerolinecolor": "white"
           },
           "zaxis": {
            "backgroundcolor": "#E5ECF6",
            "gridcolor": "white",
            "gridwidth": 2,
            "linecolor": "white",
            "showbackground": true,
            "ticks": "",
            "zerolinecolor": "white"
           }
          },
          "shapedefaults": {
           "line": {
            "color": "#2a3f5f"
           }
          },
          "ternary": {
           "aaxis": {
            "gridcolor": "white",
            "linecolor": "white",
            "ticks": ""
           },
           "baxis": {
            "gridcolor": "white",
            "linecolor": "white",
            "ticks": ""
           },
           "bgcolor": "#E5ECF6",
           "caxis": {
            "gridcolor": "white",
            "linecolor": "white",
            "ticks": ""
           }
          },
          "title": {
           "x": 0.05
          },
          "xaxis": {
           "automargin": true,
           "gridcolor": "white",
           "linecolor": "white",
           "ticks": "",
           "title": {
            "standoff": 15
           },
           "zerolinecolor": "white",
           "zerolinewidth": 2
          },
          "yaxis": {
           "automargin": true,
           "gridcolor": "white",
           "linecolor": "white",
           "ticks": "",
           "title": {
            "standoff": 15
           },
           "zerolinecolor": "white",
           "zerolinewidth": 2
          }
         }
        },
        "title": {
         "text": "num_contingent_trials by container ID and ophys session"
        },
        "width": 700,
        "xaxis": {
         "dtick": 1,
         "title": {
          "text": "ophys session"
         }
        },
        "yaxis": {
         "autorange": "reversed",
         "dtick": 1,
         "title": {
          "text": "container ID"
         },
         "type": "category"
        }
       }
      },
      "text/html": [
       "<div>\n",
       "        \n",
       "        \n",
       "            <div id=\"af073edd-8888-497a-8c45-870a9a04ab03\" class=\"plotly-graph-div\" style=\"height:900px; width:700px;\"></div>\n",
       "            <script type=\"text/javascript\">\n",
       "                require([\"plotly\"], function(Plotly) {\n",
       "                    window.PLOTLYENV=window.PLOTLYENV || {};\n",
       "                    \n",
       "                if (document.getElementById(\"af073edd-8888-497a-8c45-870a9a04ab03\")) {\n",
       "                    Plotly.newPlot(\n",
       "                        'af073edd-8888-497a-8c45-870a9a04ab03',\n",
       "                        [{\"colorbar\": {\"title\": {\"text\": \"num_contingent_trials\"}}, \"colorscale\": [[0.0, \"#440154\"], [0.1111111111111111, \"#482878\"], [0.2222222222222222, \"#3e4989\"], [0.3333333333333333, \"#31688e\"], [0.4444444444444444, \"#26828e\"], [0.5555555555555556, \"#1f9e89\"], [0.6666666666666666, \"#35b779\"], [0.7777777777777778, \"#6ece58\"], [0.8888888888888888, \"#b5de2b\"], [1.0, \"#fde725\"]], \"hoverongaps\": true, \"type\": \"heatmap\", \"x\": [\"OPHYS_1\", \"OPHYS_2\", \"OPHYS_3\", \"OPHYS_4\", \"OPHYS_5\", \"OPHYS_6\"], \"y\": [782536745, 814796558, 814796612, 803589437, 803517529, 812858755, 803516615, 829561794, 876693136, 843049827, 846215539, 846213087, 845588020, 848390542, 863992815, 869781307, 876693090, 876461613, 902748564, 902748650, 890047007, 895259496, 896318095, 906963896, 911248946, 915584942, 930024022, 930022332, 939523510, 947838486, 957366099, 957361481, 968451510, 941373529, 957024596, 978206330, 989461845, 991913453, 791352433, 814797528, 825183217, 928325203, 929913236, 969421516, 957570596], \"z\": [[39.0, 405.0, null, 276.0, 404.0, 190.0], [372.0, 409.0, 333.0, 400.0, 407.0, 304.0], [151.0, 408.0, 155.0, 166.0, 405.0, 172.0], [234.0, 403.0, 230.0, 267.0, 406.0, 195.0], [271.0, 406.0, 176.0, 251.0, null, 293.0], [307.0, 400.0, 228.0, 315.0, null, 285.0], [260.0, 402.0, 293.0, 312.0, 412.0, 338.0], [293.0, 405.0, 271.0, 302.0, 405.0, 293.0], [213.0, 402.0, 145.0, 185.0, 409.0, 263.0], [146.0, 402.0, null, 254.0, 399.0, 268.0], [263.0, 402.0, 228.0, 265.0, 406.0, 231.0], [274.0, 405.0, 279.0, 279.0, 409.0, 251.0], [286.0, 406.0, 378.0, 387.0, 405.0, 246.0], [189.0, 403.0, 290.0, 327.0, 407.0, 329.0], [279.0, 403.0, 324.0, null, 406.0, 343.0], [215.0, 410.0, 200.0, 252.0, 410.0, 230.0], [304.0, 406.0, null, 291.0, 405.0, 291.0], [149.0, 410.0, 206.0, 186.0, 409.0, null], [347.0, 405.0, 288.0, 307.0, 402.0, 323.0], [339.0, 407.0, 380.0, 356.0, 407.0, 330.0], [250.0, 400.0, 220.0, 232.0, 410.0, 205.0], [295.0, 404.0, 195.0, 259.0, 406.0, 270.0], [284.0, 401.0, 300.0, 312.0, 411.0, 260.0], [268.0, 405.0, 282.0, 308.0, 406.0, 386.0], [257.0, 404.0, 230.0, 100.0, 407.0, 124.0], [334.0, 405.0, 369.0, 183.0, 407.0, 209.0], [300.0, null, 263.0, 257.0, 406.0, 173.0], [348.0, 401.0, 334.0, 379.0, 405.0, 363.0], [286.0, 407.0, 257.0, 138.0, 405.0, 216.0], [307.0, 410.0, 165.0, 263.0, 402.0, 270.0], [227.0, 410.0, 326.0, 378.0, 404.0, null], [240.0, 403.0, 310.0, 223.0, 407.0, 229.0], [269.0, 407.0, 189.0, 224.0, 404.0, 258.0], [334.0, 405.0, 350.0, 123.0, 404.0, 146.0], [null, 407.0, 217.0, 181.0, 403.0, 107.0], [218.0, 408.0, 161.0, 371.0, 401.0, 165.0], [218.0, 406.0, 171.0, 193.0, 407.0, 200.0], [279.0, 403.0, 338.0, 277.0, 405.0, 338.0], [188.0, 404.0, 112.0, 243.0, 402.0, 225.0], [242.0, 407.0, null, 180.0, 408.0, 129.0], [396.0, 406.0, 381.0, 397.0, 403.0, 403.0], [161.0, 399.0, 275.0, 251.0, 405.0, 312.0], [117.0, 405.0, 117.0, 248.0, 404.0, 279.0], [140.0, 404.0, 136.0, 120.0, 407.0, 138.0], [334.0, 398.0, 299.0, 340.0, 409.0, 335.0]]}],\n",
       "                        {\"autosize\": false, \"height\": 900, \"margin\": {\"b\": 0, \"l\": 0, \"pad\": 0, \"r\": 0, \"t\": 50}, \"template\": {\"data\": {\"bar\": [{\"error_x\": {\"color\": \"#2a3f5f\"}, \"error_y\": {\"color\": \"#2a3f5f\"}, \"marker\": {\"line\": {\"color\": \"#E5ECF6\", \"width\": 0.5}}, \"type\": \"bar\"}], \"barpolar\": [{\"marker\": {\"line\": {\"color\": \"#E5ECF6\", \"width\": 0.5}}, \"type\": \"barpolar\"}], \"carpet\": [{\"aaxis\": {\"endlinecolor\": \"#2a3f5f\", \"gridcolor\": \"white\", \"linecolor\": \"white\", \"minorgridcolor\": \"white\", \"startlinecolor\": \"#2a3f5f\"}, \"baxis\": {\"endlinecolor\": \"#2a3f5f\", \"gridcolor\": \"white\", \"linecolor\": \"white\", \"minorgridcolor\": \"white\", \"startlinecolor\": \"#2a3f5f\"}, \"type\": \"carpet\"}], \"choropleth\": [{\"colorbar\": {\"outlinewidth\": 0, \"ticks\": \"\"}, \"type\": \"choropleth\"}], \"contour\": [{\"colorbar\": {\"outlinewidth\": 0, \"ticks\": \"\"}, \"colorscale\": [[0.0, \"#0d0887\"], [0.1111111111111111, \"#46039f\"], [0.2222222222222222, \"#7201a8\"], [0.3333333333333333, \"#9c179e\"], [0.4444444444444444, \"#bd3786\"], [0.5555555555555556, \"#d8576b\"], [0.6666666666666666, \"#ed7953\"], [0.7777777777777778, \"#fb9f3a\"], [0.8888888888888888, \"#fdca26\"], [1.0, \"#f0f921\"]], \"type\": \"contour\"}], \"contourcarpet\": [{\"colorbar\": {\"outlinewidth\": 0, \"ticks\": \"\"}, \"type\": \"contourcarpet\"}], \"heatmap\": [{\"colorbar\": {\"outlinewidth\": 0, \"ticks\": \"\"}, \"colorscale\": [[0.0, \"#0d0887\"], [0.1111111111111111, \"#46039f\"], [0.2222222222222222, \"#7201a8\"], [0.3333333333333333, \"#9c179e\"], [0.4444444444444444, \"#bd3786\"], [0.5555555555555556, \"#d8576b\"], [0.6666666666666666, \"#ed7953\"], [0.7777777777777778, \"#fb9f3a\"], [0.8888888888888888, \"#fdca26\"], [1.0, \"#f0f921\"]], \"type\": \"heatmap\"}], \"heatmapgl\": [{\"colorbar\": {\"outlinewidth\": 0, \"ticks\": \"\"}, \"colorscale\": [[0.0, \"#0d0887\"], [0.1111111111111111, \"#46039f\"], [0.2222222222222222, \"#7201a8\"], [0.3333333333333333, \"#9c179e\"], [0.4444444444444444, \"#bd3786\"], [0.5555555555555556, \"#d8576b\"], [0.6666666666666666, \"#ed7953\"], [0.7777777777777778, \"#fb9f3a\"], [0.8888888888888888, \"#fdca26\"], [1.0, \"#f0f921\"]], \"type\": \"heatmapgl\"}], \"histogram\": [{\"marker\": {\"colorbar\": {\"outlinewidth\": 0, \"ticks\": \"\"}}, \"type\": \"histogram\"}], \"histogram2d\": [{\"colorbar\": {\"outlinewidth\": 0, \"ticks\": \"\"}, \"colorscale\": [[0.0, \"#0d0887\"], [0.1111111111111111, \"#46039f\"], [0.2222222222222222, \"#7201a8\"], [0.3333333333333333, \"#9c179e\"], [0.4444444444444444, \"#bd3786\"], [0.5555555555555556, \"#d8576b\"], [0.6666666666666666, \"#ed7953\"], [0.7777777777777778, \"#fb9f3a\"], [0.8888888888888888, \"#fdca26\"], [1.0, \"#f0f921\"]], \"type\": \"histogram2d\"}], \"histogram2dcontour\": [{\"colorbar\": {\"outlinewidth\": 0, \"ticks\": \"\"}, \"colorscale\": [[0.0, \"#0d0887\"], [0.1111111111111111, \"#46039f\"], [0.2222222222222222, \"#7201a8\"], [0.3333333333333333, \"#9c179e\"], [0.4444444444444444, \"#bd3786\"], [0.5555555555555556, \"#d8576b\"], [0.6666666666666666, \"#ed7953\"], [0.7777777777777778, \"#fb9f3a\"], [0.8888888888888888, \"#fdca26\"], [1.0, \"#f0f921\"]], \"type\": \"histogram2dcontour\"}], \"mesh3d\": [{\"colorbar\": {\"outlinewidth\": 0, \"ticks\": \"\"}, \"type\": \"mesh3d\"}], \"parcoords\": [{\"line\": {\"colorbar\": {\"outlinewidth\": 0, \"ticks\": \"\"}}, \"type\": \"parcoords\"}], \"pie\": [{\"automargin\": true, \"type\": \"pie\"}], \"scatter\": [{\"marker\": {\"colorbar\": {\"outlinewidth\": 0, \"ticks\": \"\"}}, \"type\": \"scatter\"}], \"scatter3d\": [{\"line\": {\"colorbar\": {\"outlinewidth\": 0, \"ticks\": \"\"}}, \"marker\": {\"colorbar\": {\"outlinewidth\": 0, \"ticks\": \"\"}}, \"type\": \"scatter3d\"}], \"scattercarpet\": [{\"marker\": {\"colorbar\": {\"outlinewidth\": 0, \"ticks\": \"\"}}, \"type\": \"scattercarpet\"}], \"scattergeo\": [{\"marker\": {\"colorbar\": {\"outlinewidth\": 0, \"ticks\": \"\"}}, \"type\": \"scattergeo\"}], \"scattergl\": [{\"marker\": {\"colorbar\": {\"outlinewidth\": 0, \"ticks\": \"\"}}, \"type\": \"scattergl\"}], \"scattermapbox\": [{\"marker\": {\"colorbar\": {\"outlinewidth\": 0, \"ticks\": \"\"}}, \"type\": \"scattermapbox\"}], \"scatterpolar\": [{\"marker\": {\"colorbar\": {\"outlinewidth\": 0, \"ticks\": \"\"}}, \"type\": \"scatterpolar\"}], \"scatterpolargl\": [{\"marker\": {\"colorbar\": {\"outlinewidth\": 0, \"ticks\": \"\"}}, \"type\": \"scatterpolargl\"}], \"scatterternary\": [{\"marker\": {\"colorbar\": {\"outlinewidth\": 0, \"ticks\": \"\"}}, \"type\": \"scatterternary\"}], \"surface\": [{\"colorbar\": {\"outlinewidth\": 0, \"ticks\": \"\"}, \"colorscale\": [[0.0, \"#0d0887\"], [0.1111111111111111, \"#46039f\"], [0.2222222222222222, \"#7201a8\"], [0.3333333333333333, \"#9c179e\"], [0.4444444444444444, \"#bd3786\"], [0.5555555555555556, \"#d8576b\"], [0.6666666666666666, \"#ed7953\"], [0.7777777777777778, \"#fb9f3a\"], [0.8888888888888888, \"#fdca26\"], [1.0, \"#f0f921\"]], \"type\": \"surface\"}], \"table\": [{\"cells\": {\"fill\": {\"color\": \"#EBF0F8\"}, \"line\": {\"color\": \"white\"}}, \"header\": {\"fill\": {\"color\": \"#C8D4E3\"}, \"line\": {\"color\": \"white\"}}, \"type\": \"table\"}]}, \"layout\": {\"annotationdefaults\": {\"arrowcolor\": \"#2a3f5f\", \"arrowhead\": 0, \"arrowwidth\": 1}, \"coloraxis\": {\"colorbar\": {\"outlinewidth\": 0, \"ticks\": \"\"}}, \"colorscale\": {\"diverging\": [[0, \"#8e0152\"], [0.1, \"#c51b7d\"], [0.2, \"#de77ae\"], [0.3, \"#f1b6da\"], [0.4, \"#fde0ef\"], [0.5, \"#f7f7f7\"], [0.6, \"#e6f5d0\"], [0.7, \"#b8e186\"], [0.8, \"#7fbc41\"], [0.9, \"#4d9221\"], [1, \"#276419\"]], \"sequential\": [[0.0, \"#0d0887\"], [0.1111111111111111, \"#46039f\"], [0.2222222222222222, \"#7201a8\"], [0.3333333333333333, \"#9c179e\"], [0.4444444444444444, \"#bd3786\"], [0.5555555555555556, \"#d8576b\"], [0.6666666666666666, \"#ed7953\"], [0.7777777777777778, \"#fb9f3a\"], [0.8888888888888888, \"#fdca26\"], [1.0, \"#f0f921\"]], \"sequentialminus\": [[0.0, \"#0d0887\"], [0.1111111111111111, \"#46039f\"], [0.2222222222222222, \"#7201a8\"], [0.3333333333333333, \"#9c179e\"], [0.4444444444444444, \"#bd3786\"], [0.5555555555555556, \"#d8576b\"], [0.6666666666666666, \"#ed7953\"], [0.7777777777777778, \"#fb9f3a\"], [0.8888888888888888, \"#fdca26\"], [1.0, \"#f0f921\"]]}, \"colorway\": [\"#636efa\", \"#EF553B\", \"#00cc96\", \"#ab63fa\", \"#FFA15A\", \"#19d3f3\", \"#FF6692\", \"#B6E880\", \"#FF97FF\", \"#FECB52\"], \"font\": {\"color\": \"#2a3f5f\"}, \"geo\": {\"bgcolor\": \"white\", \"lakecolor\": \"white\", \"landcolor\": \"#E5ECF6\", \"showlakes\": true, \"showland\": true, \"subunitcolor\": \"white\"}, \"hoverlabel\": {\"align\": \"left\"}, \"hovermode\": \"closest\", \"mapbox\": {\"style\": \"light\"}, \"paper_bgcolor\": \"white\", \"plot_bgcolor\": \"#E5ECF6\", \"polar\": {\"angularaxis\": {\"gridcolor\": \"white\", \"linecolor\": \"white\", \"ticks\": \"\"}, \"bgcolor\": \"#E5ECF6\", \"radialaxis\": {\"gridcolor\": \"white\", \"linecolor\": \"white\", \"ticks\": \"\"}}, \"scene\": {\"xaxis\": {\"backgroundcolor\": \"#E5ECF6\", \"gridcolor\": \"white\", \"gridwidth\": 2, \"linecolor\": \"white\", \"showbackground\": true, \"ticks\": \"\", \"zerolinecolor\": \"white\"}, \"yaxis\": {\"backgroundcolor\": \"#E5ECF6\", \"gridcolor\": \"white\", \"gridwidth\": 2, \"linecolor\": \"white\", \"showbackground\": true, \"ticks\": \"\", \"zerolinecolor\": \"white\"}, \"zaxis\": {\"backgroundcolor\": \"#E5ECF6\", \"gridcolor\": \"white\", \"gridwidth\": 2, \"linecolor\": \"white\", \"showbackground\": true, \"ticks\": \"\", \"zerolinecolor\": \"white\"}}, \"shapedefaults\": {\"line\": {\"color\": \"#2a3f5f\"}}, \"ternary\": {\"aaxis\": {\"gridcolor\": \"white\", \"linecolor\": \"white\", \"ticks\": \"\"}, \"baxis\": {\"gridcolor\": \"white\", \"linecolor\": \"white\", \"ticks\": \"\"}, \"bgcolor\": \"#E5ECF6\", \"caxis\": {\"gridcolor\": \"white\", \"linecolor\": \"white\", \"ticks\": \"\"}}, \"title\": {\"x\": 0.05}, \"xaxis\": {\"automargin\": true, \"gridcolor\": \"white\", \"linecolor\": \"white\", \"ticks\": \"\", \"title\": {\"standoff\": 15}, \"zerolinecolor\": \"white\", \"zerolinewidth\": 2}, \"yaxis\": {\"automargin\": true, \"gridcolor\": \"white\", \"linecolor\": \"white\", \"ticks\": \"\", \"title\": {\"standoff\": 15}, \"zerolinecolor\": \"white\", \"zerolinewidth\": 2}}}, \"title\": {\"text\": \"num_contingent_trials by container ID and ophys session\"}, \"width\": 700, \"xaxis\": {\"dtick\": 1, \"title\": {\"text\": \"ophys session\"}}, \"yaxis\": {\"autorange\": \"reversed\", \"dtick\": 1, \"title\": {\"text\": \"container ID\"}, \"type\": \"category\"}},\n",
       "                        {\"responsive\": true}\n",
       "                    ).then(function(){\n",
       "                            \n",
       "var gd = document.getElementById('af073edd-8888-497a-8c45-870a9a04ab03');\n",
       "var x = new MutationObserver(function (mutations, observer) {{\n",
       "        var display = window.getComputedStyle(gd).display;\n",
       "        if (!display || display === 'none') {{\n",
       "            console.log([gd, 'removed!']);\n",
       "            Plotly.purge(gd);\n",
       "            observer.disconnect();\n",
       "        }}\n",
       "}});\n",
       "\n",
       "// Listen for the removal of the full notebook cells\n",
       "var notebookContainer = gd.closest('#notebook-container');\n",
       "if (notebookContainer) {{\n",
       "    x.observe(notebookContainer, {childList: true});\n",
       "}}\n",
       "\n",
       "// Listen for the clearing of the current output cell\n",
       "var outputEl = gd.closest('.output');\n",
       "if (outputEl) {{\n",
       "    x.observe(outputEl, {childList: true});\n",
       "}}\n",
       "\n",
       "                        })\n",
       "                };\n",
       "                });\n",
       "            </script>\n",
       "        </div>"
      ]
     },
     "metadata": {},
     "output_type": "display_data"
    }
   ],
   "source": [
    "value = 'd_prime_peak'\n",
    "for value in values:\n",
    "    fig = go.Figure(\n",
    "        data=go.Heatmap(\n",
    "            z=val_array.loc[{'container_id':container_ids,'value':value}].values,\n",
    "            x=session_prefixes,\n",
    "    #         y = [str(i) for i in range(len(container_ids))],\n",
    "            y=container_ids,\n",
    "            hoverongaps = True,\n",
    "            colorbar={'title':value},\n",
    "            colorscale='viridis',\n",
    "        )\n",
    "    )\n",
    "\n",
    "    fig.update_layout(\n",
    "        autosize=False,\n",
    "        width=700,\n",
    "        height=20*len(container_ids),\n",
    "        margin=dict(\n",
    "            l=0,\n",
    "            r=0,\n",
    "            b=0,\n",
    "            t=50,\n",
    "            pad=0\n",
    "        ),\n",
    "        xaxis_title='ophys session',\n",
    "        yaxis_title='container ID',\n",
    "        title='{} by container ID and ophys session'.format(value)\n",
    "    )\n",
    "    fig.update_yaxes(autorange=\"reversed\",type='category',dtick=1)\n",
    "    fig.update_xaxes(dtick=1)\n",
    "    fig.write_html(\"/allen/programs/braintv/workgroups/nc-ophys/visual_behavior/qc_plots/overview_plots/{}_container_overview.html\".format(value))\n",
    "fig.show()"
   ]
  },
  {
   "cell_type": "code",
   "execution_count": null,
   "metadata": {},
   "outputs": [],
   "source": []
  },
  {
   "cell_type": "code",
   "execution_count": null,
   "metadata": {},
   "outputs": [],
   "source": []
  },
  {
   "cell_type": "code",
   "execution_count": 20,
   "metadata": {},
   "outputs": [
    {
     "data": {
      "text/plain": [
       "{'_id': ObjectId('5e744198116a11a02dec5881'),\n",
       " 'mouse_id': '403491',\n",
       " 'behavior_session_uuid': '7da1aebf-fad4-4013-a991-18a13d1a8b94',\n",
       " 'startdatetime': datetime.datetime(2018, 11, 8, 19, 22, 6, 936000),\n",
       " 'session_duration': 3593.4077284647865,\n",
       " 'd_prime_peak': nan,\n",
       " 'discrim_p': 0.8398822850603558,\n",
       " 'response_bias': 0.8717948717948718,\n",
       " 'flashwise_lick_probability': 0.29809550096605025,\n",
       " 'earned_water': 0.203,\n",
       " 'total_water': 0.203,\n",
       " 'num_contingent_trials': 39,\n",
       " 'lick_latency_median': 0.4002853433485143,\n",
       " 'fraction_time_aborted': 0.9113092281090072,\n",
       " 'fraction_time_hit': 0.0656899986096539,\n",
       " 'fraction_time_miss': 0.01234722586789854,\n",
       " 'fraction_time_correct_reject': 0.0,\n",
       " 'fraction_time_false_alarm': 0.010653547413440313,\n",
       " 'fraction_time_auto_rewarded': 0.0,\n",
       " 'number_of_hit_trials': 29,\n",
       " 'number_of_miss_trials': 5,\n",
       " 'number_of_false_alarm_trials': 5,\n",
       " 'number_of_correct_reject_trials': 0.0,\n",
       " 'hit_rate_peak': nan,\n",
       " 'false_alarm_rate_peak': nan,\n",
       " 'number_of_licks': 4874,\n",
       " 'blank_duration': 0.5,\n",
       " 'day_of_week': 3,\n",
       " 'change_time_distribution': 'geometric',\n",
       " 'user_id': 'thuyanhn',\n",
       " 'rig_id': '2P5',\n",
       " 'stimulus': 'images',\n",
       " 'stage': 'OPHYS_1_images_A',\n",
       " 'hit_rate': 0.8529411764705882,\n",
       " 'false_alarm_rate': 1.0,\n",
       " 'd_prime': -inf,\n",
       " 'error_on_load': 0}"
      ]
     },
     "execution_count": 20,
     "metadata": {},
     "output_type": "execute_result"
    }
   ],
   "source": [
    "container_id = container_ids[0]\n",
    "get_session_stats(container_id,0)"
   ]
  },
  {
   "cell_type": "code",
   "execution_count": 21,
   "metadata": {},
   "outputs": [],
   "source": [
    "uuid = '7da1aebf-fad4-4013-a991-18a13d1a8b94'\n",
    "pkl_path = db.get_pkl_path(uuid)\n",
    "data = pd.read_pickle(pkl_path)\n",
    "\n",
    "core_data = data_to_change_detection_core(data)\n",
    "trials = create_extended_dataframe(**core_data).drop(columns=['date', 'LDT_mode'])\n",
    "summary = summarize.session_level_summary(trials).iloc[0].to_dict()"
   ]
  },
  {
   "cell_type": "code",
   "execution_count": 18,
   "metadata": {},
   "outputs": [
    {
     "data": {
      "text/plain": [
       "{'mouse_id': '403491',\n",
       " 'behavior_session_uuid': UUID('7da1aebf-fad4-4013-a991-18a13d1a8b94'),\n",
       " 'startdatetime': Timestamp('2018-11-08 11:22:06.936000-0800', tz='tzoffset(None, -28800)'),\n",
       " 'session_duration': 3593.4077284647865,\n",
       " 'd_prime_peak': nan,\n",
       " 'discrim_p': 0.8398822850603558,\n",
       " 'response_bias': 0.8717948717948718,\n",
       " 'flashwise_lick_probability': 0.29809550096605025,\n",
       " 'earned_water': 0.203,\n",
       " 'total_water': 0.203,\n",
       " 'num_contingent_trials': 39,\n",
       " 'lick_latency_median': 0.4002853433485143,\n",
       " 'fraction_time_aborted': 0.9113092281090072,\n",
       " 'fraction_time_hit': 0.0656899986096539,\n",
       " 'fraction_time_miss': 0.01234722586789854,\n",
       " 'fraction_time_correct_reject': 0.0,\n",
       " 'fraction_time_false_alarm': 0.010653547413440313,\n",
       " 'fraction_time_auto_rewarded': 0.0,\n",
       " 'number_of_hit_trials': 29,\n",
       " 'number_of_miss_trials': 5,\n",
       " 'number_of_false_alarm_trials': 5,\n",
       " 'number_of_correct_reject_trials': 0.0,\n",
       " 'hit_rate_peak': nan,\n",
       " 'false_alarm_rate_peak': nan,\n",
       " 'number_of_licks': 4874,\n",
       " 'blank_duration': 0.5,\n",
       " 'day_of_week': 3,\n",
       " 'change_time_distribution': 'geometric',\n",
       " 'user_id': 'thuyanhn',\n",
       " 'rig_id': '2P5',\n",
       " 'stimulus': 'images',\n",
       " 'stage': 'OPHYS_1_images_A',\n",
       " 'hit_rate': 0.8529411764705882,\n",
       " 'false_alarm_rate': 1.0,\n",
       " 'd_prime': -inf}"
      ]
     },
     "execution_count": 18,
     "metadata": {},
     "output_type": "execute_result"
    }
   ],
   "source": [
    "summary"
   ]
  },
  {
   "cell_type": "code",
   "execution_count": 20,
   "metadata": {},
   "outputs": [],
   "source": [
    "from visual_behavior.change_detection.trials import session_metrics"
   ]
  },
  {
   "cell_type": "code",
   "execution_count": 26,
   "metadata": {},
   "outputs": [
    {
     "ename": "AssertionError",
     "evalue": "",
     "output_type": "error",
     "traceback": [
      "\u001b[0;31m---------------------------------------------------------------------------\u001b[0m",
      "\u001b[0;31mAssertionError\u001b[0m                            Traceback (most recent call last)",
      "\u001b[0;32m<ipython-input-26-dd6009dddab4>\u001b[0m in \u001b[0;36m<module>\u001b[0;34m\u001b[0m\n\u001b[0;32m----> 1\u001b[0;31m \u001b[0msession_metrics\u001b[0m\u001b[0;34m.\u001b[0m\u001b[0mpeak_dprime\u001b[0m\u001b[0;34m(\u001b[0m\u001b[0mtrials\u001b[0m\u001b[0;34m)\u001b[0m\u001b[0;34m\u001b[0m\u001b[0;34m\u001b[0m\u001b[0m\n\u001b[0m",
      "\u001b[0;32m~/Code/visual_behavior_analysis/visual_behavior/change_detection/trials/session_metrics.py\u001b[0m in \u001b[0;36mpeak_dprime\u001b[0;34m(session_trials, first_valid_trial, sliding_window, apply_trial_number_limit)\u001b[0m\n\u001b[1;32m    149\u001b[0m         \u001b[0mapply_trial_number_limit\u001b[0m\u001b[0;34m=\u001b[0m\u001b[0mapply_trial_number_limit\u001b[0m\u001b[0;34m\u001b[0m\u001b[0;34m\u001b[0m\u001b[0m\n\u001b[1;32m    150\u001b[0m     )\n\u001b[0;32m--> 151\u001b[0;31m     \u001b[0;32massert\u001b[0m \u001b[0;32mFalse\u001b[0m\u001b[0;34m\u001b[0m\u001b[0;34m\u001b[0m\u001b[0m\n\u001b[0m\u001b[1;32m    152\u001b[0m     \u001b[0;32mif\u001b[0m \u001b[0mnp\u001b[0m\u001b[0;34m.\u001b[0m\u001b[0mall\u001b[0m\u001b[0;34m(\u001b[0m\u001b[0mnp\u001b[0m\u001b[0;34m.\u001b[0m\u001b[0misnan\u001b[0m\u001b[0;34m(\u001b[0m\u001b[0mdp\u001b[0m\u001b[0;34m)\u001b[0m\u001b[0;34m)\u001b[0m\u001b[0;34m:\u001b[0m\u001b[0;34m\u001b[0m\u001b[0;34m\u001b[0m\u001b[0m\n\u001b[1;32m    153\u001b[0m         \u001b[0;32mreturn\u001b[0m \u001b[0mnp\u001b[0m\u001b[0;34m.\u001b[0m\u001b[0mnan\u001b[0m\u001b[0;34m\u001b[0m\u001b[0;34m\u001b[0m\u001b[0m\n",
      "\u001b[0;31mAssertionError\u001b[0m: "
     ]
    }
   ],
   "source": [
    "session_metrics.peak_dprime(trials)"
   ]
  },
  {
   "cell_type": "code",
   "execution_count": 27,
   "metadata": {},
   "outputs": [
    {
     "name": "stdout",
     "output_type": "stream",
     "text": [
      "> \u001b[0;32m/home/dougo/Code/visual_behavior_analysis/visual_behavior/change_detection/trials/session_metrics.py\u001b[0m(151)\u001b[0;36mpeak_dprime\u001b[0;34m()\u001b[0m\n",
      "\u001b[0;32m    149 \u001b[0;31m        \u001b[0mapply_trial_number_limit\u001b[0m\u001b[0;34m=\u001b[0m\u001b[0mapply_trial_number_limit\u001b[0m\u001b[0;34m\u001b[0m\u001b[0;34m\u001b[0m\u001b[0m\n",
      "\u001b[0m\u001b[0;32m    150 \u001b[0;31m    )\n",
      "\u001b[0m\u001b[0;32m--> 151 \u001b[0;31m    \u001b[0;32massert\u001b[0m \u001b[0;32mFalse\u001b[0m\u001b[0;34m\u001b[0m\u001b[0;34m\u001b[0m\u001b[0m\n",
      "\u001b[0m\u001b[0;32m    152 \u001b[0;31m    \u001b[0;32mif\u001b[0m \u001b[0mnp\u001b[0m\u001b[0;34m.\u001b[0m\u001b[0mall\u001b[0m\u001b[0;34m(\u001b[0m\u001b[0mnp\u001b[0m\u001b[0;34m.\u001b[0m\u001b[0misnan\u001b[0m\u001b[0;34m(\u001b[0m\u001b[0mdp\u001b[0m\u001b[0;34m)\u001b[0m\u001b[0;34m)\u001b[0m\u001b[0;34m:\u001b[0m\u001b[0;34m\u001b[0m\u001b[0;34m\u001b[0m\u001b[0m\n",
      "\u001b[0m\u001b[0;32m    153 \u001b[0;31m        \u001b[0;32mreturn\u001b[0m \u001b[0mnp\u001b[0m\u001b[0;34m.\u001b[0m\u001b[0mnan\u001b[0m\u001b[0;34m\u001b[0m\u001b[0;34m\u001b[0m\u001b[0m\n",
      "\u001b[0m\n",
      "ipdb> dp\n",
      "array([        nan,         nan,         nan,         nan,         nan,\n",
      "               nan,         nan, -1.76039905, -2.00770851, -1.89562057,\n",
      "       -1.80194736, -1.72176253, -1.89562057, -1.82394565, -1.82394565,\n",
      "       -1.76039905, -1.70342215, -1.70342215, -1.83757146, -1.83757146,\n",
      "       -1.78495279, -1.73689208, -1.69270787, -1.65185812, -1.61390484,\n",
      "       -1.57848928, -1.54531406, -1.51413007, -1.48472664, -1.4569241 ,\n",
      "       -1.4569241 , -1.43056806, -1.4055249 , -1.38167828, -1.35892631,\n",
      "       -1.33717925, -1.3163577 , -1.29639111, -1.27721648])\n",
      "ipdb> np.all(np.isnan(dp)\n",
      "*** SyntaxError: unexpected EOF while parsing\n",
      "ipdb> np.all(np.isnan(dp))\n",
      "False\n",
      "ipdb> len(dp)\n",
      "39\n",
      "ipdb> q\n"
     ]
    }
   ],
   "source": [
    "%debug"
   ]
  },
  {
   "cell_type": "code",
   "execution_count": 25,
   "metadata": {},
   "outputs": [
    {
     "data": {
      "text/plain": [
       "array([        nan,         nan,         nan,         nan,         nan,\n",
       "               nan,         nan, -1.76039905, -2.00770851, -1.89562057,\n",
       "       -1.80194736, -1.72176253, -1.89562057, -1.82394565, -1.82394565,\n",
       "       -1.76039905, -1.70342215, -1.70342215, -1.83757146, -1.83757146,\n",
       "       -1.78495279, -1.73689208, -1.69270787, -1.65185812, -1.61390484,\n",
       "       -1.57848928, -1.54531406, -1.51413007, -1.48472664, -1.4569241 ,\n",
       "       -1.4569241 , -1.43056806, -1.4055249 , -1.38167828, -1.35892631,\n",
       "       -1.33717925, -1.3163577 , -1.29639111, -1.27721648])"
      ]
     },
     "execution_count": 25,
     "metadata": {},
     "output_type": "execute_result"
    }
   ],
   "source": [
    "nonaborted_trials = trials.query('trial_type != \"aborted\"')\n",
    "_,_,dp = vbu.get_response_rates(nonaborted_trials)\n",
    "dp"
   ]
  },
  {
   "cell_type": "code",
   "execution_count": 115,
   "metadata": {},
   "outputs": [
    {
     "data": {
      "text/plain": [
       "775289198"
      ]
     },
     "execution_count": 115,
     "metadata": {},
     "output_type": "execute_result"
    }
   ],
   "source": [
    "db.convert_id({'ophys_experiment_id':775614751},'ophys_session_id')"
   ]
  },
  {
   "cell_type": "code",
   "execution_count": 132,
   "metadata": {},
   "outputs": [
    {
     "data": {
      "text/plain": [
       "'/allen/programs/braintv/production/visualbehavior/prod0/specimen_722884882/ophys_session_775289198/eye_tracking/'"
      ]
     },
     "execution_count": 132,
     "metadata": {},
     "output_type": "execute_result"
    }
   ],
   "source": [
    "db.get_well_known_files(db.convert_id({'ophys_experiment_id':775614751},'ophys_session_id')).iloc[0]['storage_directory']"
   ]
  },
  {
   "cell_type": "code",
   "execution_count": 121,
   "metadata": {},
   "outputs": [],
   "source": [
    "m = vbu.Movie(get_movie_filepath(db.convert_id({'ophys_experiment_id':775614751},'ophys_session_id')))"
   ]
  },
  {
   "cell_type": "code",
   "execution_count": 129,
   "metadata": {},
   "outputs": [
    {
     "data": {
      "text/plain": [
       "<matplotlib.image.AxesImage at 0x7f182dc396d8>"
      ]
     },
     "execution_count": 129,
     "metadata": {},
     "output_type": "execute_result"
    },
    {
     "data": {
      "image/png": "[encoded data removed]",
      "text/plain": [
       "<Figure size 432x288 with 1 Axes>"
      ]
     },
     "metadata": {
      "needs_background": "light"
     },
     "output_type": "display_data"
    }
   ],
   "source": [
    "fig,ax=plt.subplots()\n",
    "ax.imshow(m.get_frame(6010))"
   ]
  },
  {
   "cell_type": "code",
   "execution_count": 80,
   "metadata": {},
   "outputs": [
    {
     "data": {
      "application/vnd.plotly.v1+json": {
       "config": {
        "plotlyServerURL": "https://plot.ly"
       },
       "data": [
        {
         "customdata": [
          [
           [
            null,
            null
           ],
           [
            0,
            0
           ],
           [
            null,
            null
           ],
           [
            2508,
            2508
           ],
           [
            1,
            1
           ],
           [
            null,
            null
           ]
          ],
          [
           [
            404,
            404
           ],
           [
            0,
            0
           ],
           [
            3031,
            3031
           ],
           [
            51,
            51
           ],
           [
            null,
            null
           ],
           [
            2360,
            2360
           ]
          ],
          [
           [
            2838,
            2838
           ],
           [
            0,
            0
           ],
           [
            2811,
            2811
           ],
           [
            2703,
            2703
           ],
           [
            1,
            1
           ],
           [
            2947,
            2947
           ]
          ],
          [
           [
            3360,
            3360
           ],
           [
            0,
            0
           ],
           [
            3305,
            3305
           ],
           [
            2594,
            2594
           ],
           [
            0,
            0
           ],
           [
            3163,
            3163
           ]
          ],
          [
           [
            2384,
            2384
           ],
           [
            0,
            0
           ],
           [
            null,
            null
           ],
           [
            3023,
            3023
           ],
           [
            0,
            0
           ],
           [
            3191,
            3191
           ]
          ],
          [
           [
            3451,
            3451
           ],
           [
            0,
            0
           ],
           [
            3788,
            3788
           ],
           [
            3731,
            3731
           ],
           [
            null,
            null
           ],
           [
            2910,
            2910
           ]
          ],
          [
           [
            3921,
            3921
           ],
           [
            0,
            0
           ],
           [
            5420,
            5420
           ],
           [
            4134,
            4134
           ],
           [
            0,
            0
           ],
           [
            4192,
            4192
           ]
          ],
          [
           [
            2111,
            2111
           ],
           [
            1,
            1
           ],
           [
            2742,
            2742
           ],
           [
            1710,
            1710
           ],
           [
            null,
            null
           ],
           [
            1991,
            1991
           ]
          ],
          [
           [
            3208,
            3208
           ],
           [
            1,
            1
           ],
           [
            3393,
            3393
           ],
           [
            3722,
            3722
           ],
           [
            0,
            0
           ],
           [
            1582,
            1582
           ]
          ],
          [
           [
            243,
            243
           ],
           [
            0,
            0
           ],
           [
            218,
            218
           ],
           [
            156,
            156
           ],
           [
            0,
            0
           ],
           [
            43,
            43
           ]
          ],
          [
           [
            2510,
            2510
           ],
           [
            0,
            0
           ],
           [
            3162,
            3162
           ],
           [
            2532,
            2532
           ],
           [
            0,
            0
           ],
           [
            2958,
            2958
           ]
          ],
          [
           [
            3540,
            3540
           ],
           [
            1,
            1
           ],
           [
            null,
            null
           ],
           [
            3577,
            3577
           ],
           [
            0,
            0
           ],
           [
            3288,
            3288
           ]
          ],
          [
           [
            3242,
            3242
           ],
           [
            0,
            0
           ],
           [
            2762,
            2762
           ],
           [
            3140,
            3140
           ],
           [
            0,
            0
           ],
           [
            2600,
            2600
           ]
          ],
          [
           [
            2377,
            2377
           ],
           [
            0,
            0
           ],
           [
            2164,
            2164
           ],
           [
            2847,
            2847
           ],
           [
            0,
            0
           ],
           [
            3134,
            3134
           ]
          ],
          [
           [
            2340,
            2340
           ],
           [
            0,
            0
           ],
           [
            1173,
            1173
           ],
           [
            531,
            531
           ],
           [
            0,
            0
           ],
           [
            2739,
            2739
           ]
          ],
          [
           [
            4702,
            4702
           ],
           [
            0,
            0
           ],
           [
            2974,
            2974
           ],
           [
            3218,
            3218
           ],
           [
            0,
            0
           ],
           [
            3419,
            3419
           ]
          ],
          [
           [
            2357,
            2357
           ],
           [
            0,
            0
           ],
           [
            2613,
            2613
           ],
           [
            2469,
            2469
           ],
           [
            1,
            1
           ],
           [
            1079,
            1079
           ]
          ],
          [
           [
            2289,
            2289
           ],
           [
            0,
            0
           ],
           [
            1073,
            1073
           ],
           [
            null,
            null
           ],
           [
            0,
            0
           ],
           [
            1135,
            1135
           ]
          ],
          [
           [
            4433,
            4433
           ],
           [
            0,
            0
           ],
           [
            3597,
            3597
           ],
           [
            3724,
            3724
           ],
           [
            0,
            0
           ],
           [
            3155,
            3155
           ]
          ],
          [
           [
            3513,
            3513
           ],
           [
            0,
            0
           ],
           [
            null,
            null
           ],
           [
            3610,
            3610
           ],
           [
            0,
            0
           ],
           [
            3216,
            3216
           ]
          ],
          [
           [
            3333,
            3333
           ],
           [
            1,
            1
           ],
           [
            3428,
            3428
           ],
           [
            4123,
            4123
           ],
           [
            0,
            0
           ],
           [
            null,
            null
           ]
          ],
          [
           [
            1433,
            1433
           ],
           [
            1,
            1
           ],
           [
            3575,
            3575
           ],
           [
            2135,
            2135
           ],
           [
            0,
            0
           ],
           [
            3725,
            3725
           ]
          ],
          [
           [
            4793,
            4793
           ],
           [
            0,
            0
           ],
           [
            4847,
            4847
           ],
           [
            4148,
            4148
           ],
           [
            0,
            0
           ],
           [
            5252,
            5252
           ]
          ],
          [
           [
            2922,
            2922
           ],
           [
            1,
            1
           ],
           [
            1189,
            1189
           ],
           [
            2359,
            2359
           ],
           [
            1,
            1
           ],
           [
            2831,
            2831
           ]
          ],
          [
           [
            3157,
            3157
           ],
           [
            0,
            0
           ],
           [
            3270,
            3270
           ],
           [
            3334,
            3334
           ],
           [
            0,
            0
           ],
           [
            2815,
            2815
           ]
          ],
          [
           [
            3634,
            3634
           ],
           [
            1,
            1
           ],
           [
            3211,
            3211
           ],
           [
            2930,
            2930
           ],
           [
            0,
            0
           ],
           [
            4040,
            4040
           ]
          ],
          [
           [
            2776,
            2776
           ],
           [
            0,
            0
           ],
           [
            1343,
            1343
           ],
           [
            956,
            956
           ],
           [
            0,
            0
           ],
           [
            242,
            242
           ]
          ],
          [
           [
            3604,
            3604
           ],
           [
            0,
            0
           ],
           [
            4173,
            4173
           ],
           [
            6916,
            6916
           ],
           [
            1,
            1
           ],
           [
            6016,
            6016
           ]
          ],
          [
           [
            977,
            977
           ],
           [
            0,
            0
           ],
           [
            446,
            446
           ],
           [
            2884,
            2884
           ],
           [
            0,
            0
           ],
           [
            1966,
            1966
           ]
          ],
          [
           [
            2888,
            2888
           ],
           [
            1,
            1
           ],
           [
            2282,
            2282
           ],
           [
            2614,
            2614
           ],
           [
            0,
            0
           ],
           [
            1471,
            1471
           ]
          ],
          [
           [
            4507,
            4507
           ],
           [
            null,
            null
           ],
           [
            4636,
            4636
           ],
           [
            6624,
            6624
           ],
           [
            0,
            0
           ],
           [
            7769,
            7769
           ]
          ],
          [
           [
            3192,
            3192
           ],
           [
            0,
            0
           ],
           [
            2966,
            2966
           ],
           [
            500,
            500
           ],
           [
            0,
            0
           ],
           [
            3026,
            3026
           ]
          ],
          [
           [
            3407,
            3407
           ],
           [
            0,
            0
           ],
           [
            3380,
            3380
           ],
           [
            2268,
            2268
           ],
           [
            0,
            0
           ],
           [
            2118,
            2118
           ]
          ],
          [
           [
            2582,
            2582
           ],
           [
            0,
            0
           ],
           [
            2269,
            2269
           ],
           [
            4426,
            4426
           ],
           [
            0,
            0
           ],
           [
            3360,
            3360
           ]
          ],
          [
           [
            1599,
            1599
           ],
           [
            0,
            0
           ],
           [
            3044,
            3044
           ],
           [
            2760,
            2760
           ],
           [
            0,
            0
           ],
           [
            3896,
            3896
           ]
          ],
          [
           [
            731,
            731
           ],
           [
            0,
            0
           ],
           [
            564,
            564
           ],
           [
            3505,
            3505
           ],
           [
            0,
            0
           ],
           [
            3142,
            3142
           ]
          ],
          [
           [
            3782,
            3782
           ],
           [
            0,
            0
           ],
           [
            3883,
            3883
           ],
           [
            3546,
            3546
           ],
           [
            0,
            0
           ],
           [
            3915,
            3915
           ]
          ],
          [
           [
            null,
            null
           ],
           [
            1,
            1
           ],
           [
            2772,
            2772
           ],
           [
            2999,
            2999
           ],
           [
            1,
            1
           ],
           [
            4191,
            4191
           ]
          ],
          [
           [
            2478,
            2478
           ],
           [
            1,
            1
           ],
           [
            1308,
            1308
           ],
           [
            2182,
            2182
           ],
           [
            1,
            1
           ],
           [
            2463,
            2463
           ]
          ],
          [
           [
            2469,
            2469
           ],
           [
            0,
            0
           ],
           [
            1499,
            1499
           ],
           [
            452,
            452
           ],
           [
            0,
            0
           ],
           [
            null,
            null
           ]
          ],
          [
           [
            2184,
            2184
           ],
           [
            1,
            1
           ],
           [
            2758,
            2758
           ],
           [
            1955,
            1955
           ],
           [
            0,
            0
           ],
           [
            1675,
            1675
           ]
          ],
          [
           [
            5337,
            5337
           ],
           [
            0,
            0
           ],
           [
            4100,
            4100
           ],
           [
            4523,
            4523
           ],
           [
            0,
            0
           ],
           [
            4867,
            4867
           ]
          ],
          [
           [
            3253,
            3253
           ],
           [
            0,
            0
           ],
           [
            3046,
            3046
           ],
           [
            848,
            848
           ],
           [
            0,
            0
           ],
           [
            2658,
            2658
           ]
          ]
         ],
         "hovertemplate": "<b>d_prime_peak:%{z:.3f}</b><br>number_of_licks:%{customdata[0]:.3f} <br> ",
         "type": "heatmap",
         "x": [
          "OPHYS_1",
          "OPHYS_2",
          "OPHYS_3",
          "OPHYS_4",
          "OPHYS_5",
          "OPHYS_6"
         ],
         "z": [
          [
           null,
           0,
           null,
           2.3913271343095035,
           0,
           null
          ],
          [
           0.3307435775260481,
           0,
           2.7729360785470196,
           0,
           null,
           1.727001607947586
          ],
          [
           -0.648782202137326,
           0,
           -0.07965799506149684,
           0.7288930421263174,
           0,
           0.9213165900738313
          ],
          [
           2.252556600232568,
           0,
           1.9909603496902775,
           1.7569793388565886,
           0,
           2.841078065208799
          ],
          [
           1.548708444242402,
           0,
           null,
           1.7368920761910625,
           0,
           3.0655733148069366
          ],
          [
           2.6336404452419964,
           0,
           2.062261582420264,
           3.7915816667263638,
           null,
           3.2005237676120633
          ],
          [
           2.316323759543228,
           0,
           2.013652237068048,
           2.2254033596659926,
           0,
           3.7405472512854505
          ],
          [
           0.8096947945745112,
           0,
           0.9453030503636206,
           2.154600784403329,
           null,
           3.242569696793482
          ],
          [
           3.379797802382231,
           0,
           2.220731230737384,
           4.002287596814284,
           0,
           2.4534287285358696
          ],
          [
           0.8029515233222089,
           0,
           0.3307435775260481,
           0.05714207775587754,
           0,
           0
          ],
          [
           1.8562678876920782,
           0,
           2.39843982013869,
           1.5402637111236404,
           0,
           1.9163645518535037
          ],
          [
           1.2562309211761646,
           0,
           null,
           3.661525610159777,
           0,
           2.9309332206240777
          ],
          [
           2.652662866045635,
           0,
           1.360937307289162,
           2.2882108727254913,
           0,
           3.1351922781542365
          ],
          [
           2.1748356163239033,
           0,
           3.2863013078677747,
           2.6015746119409133,
           0,
           2.2052165559458388
          ],
          [
           1.5008533831116049,
           0,
           2.5917526278658163,
           1.7130547509550418,
           0,
           2.044131726978333
          ],
          [
           2.7148095380239523,
           0,
           1.6709243688064142,
           2.2542559279429915,
           0,
           0.7606024946306629
          ],
          [
           1.0510733000088301,
           0,
           2.6151572291153045,
           3.5818340438652703,
           0,
           3.99473906798792
          ],
          [
           1.569972747251497,
           0,
           1.0105303442254467,
           null,
           0,
           1.0447963084962404
          ],
          [
           2.4220618548675876,
           0,
           1.9209500358414713,
           3.234805742578226,
           0,
           2.4660581729227027
          ],
          [
           1.2439364795797427,
           0,
           null,
           2.0139221210441254,
           0,
           1.2647085490501817
          ],
          [
           1.4186350928324822,
           0,
           1.8312201512382287,
           3.0293380669111625,
           0,
           null
          ],
          [
           1.2587773501626993,
           0,
           2.8235484447223946,
           1.517503469927445,
           0,
           4.29685317721117
          ],
          [
           2.757075173336298,
           0,
           2.176816887767412,
           2.4649783163801313,
           0,
           2.4770712299005644
          ],
          [
           2.39843982013869,
           0,
           1.632543466304473,
           1.670042883174079,
           0,
           2.212162579719412
          ],
          [
           3.722094866990508,
           0,
           1.7657366892034803,
           3.533761924263043,
           0,
           2.821221037609465
          ],
          [
           3.655165801905714,
           0,
           2.759845316227911,
           2.203911343133532,
           0,
           3.234805742578226
          ],
          [
           2.108549494113442,
           0,
           2.4520092208959148,
           1.0776202288051047,
           0,
           1.1610598843441582
          ],
          [
           4.038023180550569,
           0,
           3.0008376242369224,
           1.8956872820315454,
           0,
           1.7225951628941298
          ],
          [
           2.3860649738261634,
           0,
           2.1729046752175063,
           1.8322801976645287,
           0,
           1.8291473033592867
          ],
          [
           1.7746915246395651,
           0,
           2.0077085100764656,
           1.8214582520302398,
           0,
           1.712515107989434
          ],
          [
           3.143584696070241,
           null,
           2.463317516827809,
           3.120741537113758,
           0,
           3.469745438573865
          ],
          [
           2.644987238005216,
           0,
           2.4534287285358696,
           1.7495893095330428,
           0,
           3.037043731496038
          ],
          [
           1.0216336033656195,
           0,
           1.1503493803760079,
           1.2439364795797427,
           0,
           1.4703667035769141
          ],
          [
           1.632543466304473,
           0,
           1.125692876089658,
           2.3755572072497895,
           0,
           1.4339131946053667
          ],
          [
           1.977592178523796,
           0,
           3.1212564819730266,
           2.208488618029874,
           0,
           3.120741537113758
          ],
          [
           1.5748963301918355,
           0,
           1.0307728869431534,
           1.1937502221033054,
           0,
           1.0359228851771605
          ],
          [
           1.072572042727156,
           0,
           1.2750513253418871,
           1.232817491762386,
           0,
           1.0590067020281584
          ],
          [
           null,
           0,
           1.465233792685523,
           2.1767989696918506,
           0,
           1.891687676302434
          ],
          [
           1.381678282646365,
           0,
           1.3589263079391398,
           1.5699959133349162,
           0,
           1.6429920423779547
          ],
          [
           1.1189338238186386,
           0,
           1.4927265085070727,
           1.0171761572550637,
           0,
           null
          ],
          [
           2.603570463289498,
           0,
           1.3356621834693843,
           1.9163645518535037,
           0,
           2.2426961401337118
          ],
          [
           2.2831166828880236,
           0,
           2.901457155319279,
           3.601523204395097,
           0,
           2.7760278427495586
          ],
          [
           1.6156520165856434,
           0,
           2.006909223269597,
           1.6204212737029158,
           0,
           2.5104509617151756
          ]
         ]
        }
       ],
       "layout": {
        "template": {
         "data": {
          "bar": [
           {
            "error_x": {
             "color": "#2a3f5f"
            },
            "error_y": {
             "color": "#2a3f5f"
            },
            "marker": {
             "line": {
              "color": "#E5ECF6",
              "width": 0.5
             }
            },
            "type": "bar"
           }
          ],
          "barpolar": [
           {
            "marker": {
             "line": {
              "color": "#E5ECF6",
              "width": 0.5
             }
            },
            "type": "barpolar"
           }
          ],
          "carpet": [
           {
            "aaxis": {
             "endlinecolor": "#2a3f5f",
             "gridcolor": "white",
             "linecolor": "white",
             "minorgridcolor": "white",
             "startlinecolor": "#2a3f5f"
            },
            "baxis": {
             "endlinecolor": "#2a3f5f",
             "gridcolor": "white",
             "linecolor": "white",
             "minorgridcolor": "white",
             "startlinecolor": "#2a3f5f"
            },
            "type": "carpet"
           }
          ],
          "choropleth": [
           {
            "colorbar": {
             "outlinewidth": 0,
             "ticks": ""
            },
            "type": "choropleth"
           }
          ],
          "contour": [
           {
            "colorbar": {
             "outlinewidth": 0,
             "ticks": ""
            },
            "colorscale": [
             [
              0,
              "#0d0887"
             ],
             [
              0.1111111111111111,
              "#46039f"
             ],
             [
              0.2222222222222222,
              "#7201a8"
             ],
             [
              0.3333333333333333,
              "#9c179e"
             ],
             [
              0.4444444444444444,
              "#bd3786"
             ],
             [
              0.5555555555555556,
              "#d8576b"
             ],
             [
              0.6666666666666666,
              "#ed7953"
             ],
             [
              0.7777777777777778,
              "#fb9f3a"
             ],
             [
              0.8888888888888888,
              "#fdca26"
             ],
             [
              1,
              "#f0f921"
             ]
            ],
            "type": "contour"
           }
          ],
          "contourcarpet": [
           {
            "colorbar": {
             "outlinewidth": 0,
             "ticks": ""
            },
            "type": "contourcarpet"
           }
          ],
          "heatmap": [
           {
            "colorbar": {
             "outlinewidth": 0,
             "ticks": ""
            },
            "colorscale": [
             [
              0,
              "#0d0887"
             ],
             [
              0.1111111111111111,
              "#46039f"
             ],
             [
              0.2222222222222222,
              "#7201a8"
             ],
             [
              0.3333333333333333,
              "#9c179e"
             ],
             [
              0.4444444444444444,
              "#bd3786"
             ],
             [
              0.5555555555555556,
              "#d8576b"
             ],
             [
              0.6666666666666666,
              "#ed7953"
             ],
             [
              0.7777777777777778,
              "#fb9f3a"
             ],
             [
              0.8888888888888888,
              "#fdca26"
             ],
             [
              1,
              "#f0f921"
             ]
            ],
            "type": "heatmap"
           }
          ],
          "heatmapgl": [
           {
            "colorbar": {
             "outlinewidth": 0,
             "ticks": ""
            },
            "colorscale": [
             [
              0,
              "#0d0887"
             ],
             [
              0.1111111111111111,
              "#46039f"
             ],
             [
              0.2222222222222222,
              "#7201a8"
             ],
             [
              0.3333333333333333,
              "#9c179e"
             ],
             [
              0.4444444444444444,
              "#bd3786"
             ],
             [
              0.5555555555555556,
              "#d8576b"
             ],
             [
              0.6666666666666666,
              "#ed7953"
             ],
             [
              0.7777777777777778,
              "#fb9f3a"
             ],
             [
              0.8888888888888888,
              "#fdca26"
             ],
             [
              1,
              "#f0f921"
             ]
            ],
            "type": "heatmapgl"
           }
          ],
          "histogram": [
           {
            "marker": {
             "colorbar": {
              "outlinewidth": 0,
              "ticks": ""
             }
            },
            "type": "histogram"
           }
          ],
          "histogram2d": [
           {
            "colorbar": {
             "outlinewidth": 0,
             "ticks": ""
            },
            "colorscale": [
             [
              0,
              "#0d0887"
             ],
             [
              0.1111111111111111,
              "#46039f"
             ],
             [
              0.2222222222222222,
              "#7201a8"
             ],
             [
              0.3333333333333333,
              "#9c179e"
             ],
             [
              0.4444444444444444,
              "#bd3786"
             ],
             [
              0.5555555555555556,
              "#d8576b"
             ],
             [
              0.6666666666666666,
              "#ed7953"
             ],
             [
              0.7777777777777778,
              "#fb9f3a"
             ],
             [
              0.8888888888888888,
              "#fdca26"
             ],
             [
              1,
              "#f0f921"
             ]
            ],
            "type": "histogram2d"
           }
          ],
          "histogram2dcontour": [
           {
            "colorbar": {
             "outlinewidth": 0,
             "ticks": ""
            },
            "colorscale": [
             [
              0,
              "#0d0887"
             ],
             [
              0.1111111111111111,
              "#46039f"
             ],
             [
              0.2222222222222222,
              "#7201a8"
             ],
             [
              0.3333333333333333,
              "#9c179e"
             ],
             [
              0.4444444444444444,
              "#bd3786"
             ],
             [
              0.5555555555555556,
              "#d8576b"
             ],
             [
              0.6666666666666666,
              "#ed7953"
             ],
             [
              0.7777777777777778,
              "#fb9f3a"
             ],
             [
              0.8888888888888888,
              "#fdca26"
             ],
             [
              1,
              "#f0f921"
             ]
            ],
            "type": "histogram2dcontour"
           }
          ],
          "mesh3d": [
           {
            "colorbar": {
             "outlinewidth": 0,
             "ticks": ""
            },
            "type": "mesh3d"
           }
          ],
          "parcoords": [
           {
            "line": {
             "colorbar": {
              "outlinewidth": 0,
              "ticks": ""
             }
            },
            "type": "parcoords"
           }
          ],
          "pie": [
           {
            "automargin": true,
            "type": "pie"
           }
          ],
          "scatter": [
           {
            "marker": {
             "colorbar": {
              "outlinewidth": 0,
              "ticks": ""
             }
            },
            "type": "scatter"
           }
          ],
          "scatter3d": [
           {
            "line": {
             "colorbar": {
              "outlinewidth": 0,
              "ticks": ""
             }
            },
            "marker": {
             "colorbar": {
              "outlinewidth": 0,
              "ticks": ""
             }
            },
            "type": "scatter3d"
           }
          ],
          "scattercarpet": [
           {
            "marker": {
             "colorbar": {
              "outlinewidth": 0,
              "ticks": ""
             }
            },
            "type": "scattercarpet"
           }
          ],
          "scattergeo": [
           {
            "marker": {
             "colorbar": {
              "outlinewidth": 0,
              "ticks": ""
             }
            },
            "type": "scattergeo"
           }
          ],
          "scattergl": [
           {
            "marker": {
             "colorbar": {
              "outlinewidth": 0,
              "ticks": ""
             }
            },
            "type": "scattergl"
           }
          ],
          "scattermapbox": [
           {
            "marker": {
             "colorbar": {
              "outlinewidth": 0,
              "ticks": ""
             }
            },
            "type": "scattermapbox"
           }
          ],
          "scatterpolar": [
           {
            "marker": {
             "colorbar": {
              "outlinewidth": 0,
              "ticks": ""
             }
            },
            "type": "scatterpolar"
           }
          ],
          "scatterpolargl": [
           {
            "marker": {
             "colorbar": {
              "outlinewidth": 0,
              "ticks": ""
             }
            },
            "type": "scatterpolargl"
           }
          ],
          "scatterternary": [
           {
            "marker": {
             "colorbar": {
              "outlinewidth": 0,
              "ticks": ""
             }
            },
            "type": "scatterternary"
           }
          ],
          "surface": [
           {
            "colorbar": {
             "outlinewidth": 0,
             "ticks": ""
            },
            "colorscale": [
             [
              0,
              "#0d0887"
             ],
             [
              0.1111111111111111,
              "#46039f"
             ],
             [
              0.2222222222222222,
              "#7201a8"
             ],
             [
              0.3333333333333333,
              "#9c179e"
             ],
             [
              0.4444444444444444,
              "#bd3786"
             ],
             [
              0.5555555555555556,
              "#d8576b"
             ],
             [
              0.6666666666666666,
              "#ed7953"
             ],
             [
              0.7777777777777778,
              "#fb9f3a"
             ],
             [
              0.8888888888888888,
              "#fdca26"
             ],
             [
              1,
              "#f0f921"
             ]
            ],
            "type": "surface"
           }
          ],
          "table": [
           {
            "cells": {
             "fill": {
              "color": "#EBF0F8"
             },
             "line": {
              "color": "white"
             }
            },
            "header": {
             "fill": {
              "color": "#C8D4E3"
             },
             "line": {
              "color": "white"
             }
            },
            "type": "table"
           }
          ]
         },
         "layout": {
          "annotationdefaults": {
           "arrowcolor": "#2a3f5f",
           "arrowhead": 0,
           "arrowwidth": 1
          },
          "coloraxis": {
           "colorbar": {
            "outlinewidth": 0,
            "ticks": ""
           }
          },
          "colorscale": {
           "diverging": [
            [
             0,
             "#8e0152"
            ],
            [
             0.1,
             "#c51b7d"
            ],
            [
             0.2,
             "#de77ae"
            ],
            [
             0.3,
             "#f1b6da"
            ],
            [
             0.4,
             "#fde0ef"
            ],
            [
             0.5,
             "#f7f7f7"
            ],
            [
             0.6,
             "#e6f5d0"
            ],
            [
             0.7,
             "#b8e186"
            ],
            [
             0.8,
             "#7fbc41"
            ],
            [
             0.9,
             "#4d9221"
            ],
            [
             1,
             "#276419"
            ]
           ],
           "sequential": [
            [
             0,
             "#0d0887"
            ],
            [
             0.1111111111111111,
             "#46039f"
            ],
            [
             0.2222222222222222,
             "#7201a8"
            ],
            [
             0.3333333333333333,
             "#9c179e"
            ],
            [
             0.4444444444444444,
             "#bd3786"
            ],
            [
             0.5555555555555556,
             "#d8576b"
            ],
            [
             0.6666666666666666,
             "#ed7953"
            ],
            [
             0.7777777777777778,
             "#fb9f3a"
            ],
            [
             0.8888888888888888,
             "#fdca26"
            ],
            [
             1,
             "#f0f921"
            ]
           ],
           "sequentialminus": [
            [
             0,
             "#0d0887"
            ],
            [
             0.1111111111111111,
             "#46039f"
            ],
            [
             0.2222222222222222,
             "#7201a8"
            ],
            [
             0.3333333333333333,
             "#9c179e"
            ],
            [
             0.4444444444444444,
             "#bd3786"
            ],
            [
             0.5555555555555556,
             "#d8576b"
            ],
            [
             0.6666666666666666,
             "#ed7953"
            ],
            [
             0.7777777777777778,
             "#fb9f3a"
            ],
            [
             0.8888888888888888,
             "#fdca26"
            ],
            [
             1,
             "#f0f921"
            ]
           ]
          },
          "colorway": [
           "#636efa",
           "#EF553B",
           "#00cc96",
           "#ab63fa",
           "#FFA15A",
           "#19d3f3",
           "#FF6692",
           "#B6E880",
           "#FF97FF",
           "#FECB52"
          ],
          "font": {
           "color": "#2a3f5f"
          },
          "geo": {
           "bgcolor": "white",
           "lakecolor": "white",
           "landcolor": "#E5ECF6",
           "showlakes": true,
           "showland": true,
           "subunitcolor": "white"
          },
          "hoverlabel": {
           "align": "left"
          },
          "hovermode": "closest",
          "mapbox": {
           "style": "light"
          },
          "paper_bgcolor": "white",
          "plot_bgcolor": "#E5ECF6",
          "polar": {
           "angularaxis": {
            "gridcolor": "white",
            "linecolor": "white",
            "ticks": ""
           },
           "bgcolor": "#E5ECF6",
           "radialaxis": {
            "gridcolor": "white",
            "linecolor": "white",
            "ticks": ""
           }
          },
          "scene": {
           "xaxis": {
            "backgroundcolor": "#E5ECF6",
            "gridcolor": "white",
            "gridwidth": 2,
            "linecolor": "white",
            "showbackground": true,
            "ticks": "",
            "zerolinecolor": "white"
           },
           "yaxis": {
            "backgroundcolor": "#E5ECF6",
            "gridcolor": "white",
            "gridwidth": 2,
            "linecolor": "white",
            "showbackground": true,
            "ticks": "",
            "zerolinecolor": "white"
           },
           "zaxis": {
            "backgroundcolor": "#E5ECF6",
            "gridcolor": "white",
            "gridwidth": 2,
            "linecolor": "white",
            "showbackground": true,
            "ticks": "",
            "zerolinecolor": "white"
           }
          },
          "shapedefaults": {
           "line": {
            "color": "#2a3f5f"
           }
          },
          "ternary": {
           "aaxis": {
            "gridcolor": "white",
            "linecolor": "white",
            "ticks": ""
           },
           "baxis": {
            "gridcolor": "white",
            "linecolor": "white",
            "ticks": ""
           },
           "bgcolor": "#E5ECF6",
           "caxis": {
            "gridcolor": "white",
            "linecolor": "white",
            "ticks": ""
           }
          },
          "title": {
           "x": 0.05
          },
          "xaxis": {
           "automargin": true,
           "gridcolor": "white",
           "linecolor": "white",
           "ticks": "",
           "title": {
            "standoff": 15
           },
           "zerolinecolor": "white",
           "zerolinewidth": 2
          },
          "yaxis": {
           "automargin": true,
           "gridcolor": "white",
           "linecolor": "white",
           "ticks": "",
           "title": {
            "standoff": 15
           },
           "zerolinecolor": "white",
           "zerolinewidth": 2
          }
         }
        },
        "yaxis": {
         "autorange": "reversed"
        }
       }
      },
      "text/html": [
       "<div>\n",
       "        \n",
       "        \n",
       "            <div id=\"9ed416ec-117c-4f3e-8a53-c82700de244d\" class=\"plotly-graph-div\" style=\"height:525px; width:100%;\"></div>\n",
       "            <script type=\"text/javascript\">\n",
       "                require([\"plotly\"], function(Plotly) {\n",
       "                    window.PLOTLYENV=window.PLOTLYENV || {};\n",
       "                    \n",
       "                if (document.getElementById(\"9ed416ec-117c-4f3e-8a53-c82700de244d\")) {\n",
       "                    Plotly.newPlot(\n",
       "                        '9ed416ec-117c-4f3e-8a53-c82700de244d',\n",
       "                        [{\"customdata\": [[[null, null], [0.0, 0.0], [null, null], [2508.0, 2508.0], [1.0, 1.0], [null, null]], [[404.0, 404.0], [0.0, 0.0], [3031.0, 3031.0], [51.0, 51.0], [null, null], [2360.0, 2360.0]], [[2838.0, 2838.0], [0.0, 0.0], [2811.0, 2811.0], [2703.0, 2703.0], [1.0, 1.0], [2947.0, 2947.0]], [[3360.0, 3360.0], [0.0, 0.0], [3305.0, 3305.0], [2594.0, 2594.0], [0.0, 0.0], [3163.0, 3163.0]], [[2384.0, 2384.0], [0.0, 0.0], [null, null], [3023.0, 3023.0], [0.0, 0.0], [3191.0, 3191.0]], [[3451.0, 3451.0], [0.0, 0.0], [3788.0, 3788.0], [3731.0, 3731.0], [null, null], [2910.0, 2910.0]], [[3921.0, 3921.0], [0.0, 0.0], [5420.0, 5420.0], [4134.0, 4134.0], [0.0, 0.0], [4192.0, 4192.0]], [[2111.0, 2111.0], [1.0, 1.0], [2742.0, 2742.0], [1710.0, 1710.0], [null, null], [1991.0, 1991.0]], [[3208.0, 3208.0], [1.0, 1.0], [3393.0, 3393.0], [3722.0, 3722.0], [0.0, 0.0], [1582.0, 1582.0]], [[243.0, 243.0], [0.0, 0.0], [218.0, 218.0], [156.0, 156.0], [0.0, 0.0], [43.0, 43.0]], [[2510.0, 2510.0], [0.0, 0.0], [3162.0, 3162.0], [2532.0, 2532.0], [0.0, 0.0], [2958.0, 2958.0]], [[3540.0, 3540.0], [1.0, 1.0], [null, null], [3577.0, 3577.0], [0.0, 0.0], [3288.0, 3288.0]], [[3242.0, 3242.0], [0.0, 0.0], [2762.0, 2762.0], [3140.0, 3140.0], [0.0, 0.0], [2600.0, 2600.0]], [[2377.0, 2377.0], [0.0, 0.0], [2164.0, 2164.0], [2847.0, 2847.0], [0.0, 0.0], [3134.0, 3134.0]], [[2340.0, 2340.0], [0.0, 0.0], [1173.0, 1173.0], [531.0, 531.0], [0.0, 0.0], [2739.0, 2739.0]], [[4702.0, 4702.0], [0.0, 0.0], [2974.0, 2974.0], [3218.0, 3218.0], [0.0, 0.0], [3419.0, 3419.0]], [[2357.0, 2357.0], [0.0, 0.0], [2613.0, 2613.0], [2469.0, 2469.0], [1.0, 1.0], [1079.0, 1079.0]], [[2289.0, 2289.0], [0.0, 0.0], [1073.0, 1073.0], [null, null], [0.0, 0.0], [1135.0, 1135.0]], [[4433.0, 4433.0], [0.0, 0.0], [3597.0, 3597.0], [3724.0, 3724.0], [0.0, 0.0], [3155.0, 3155.0]], [[3513.0, 3513.0], [0.0, 0.0], [null, null], [3610.0, 3610.0], [0.0, 0.0], [3216.0, 3216.0]], [[3333.0, 3333.0], [1.0, 1.0], [3428.0, 3428.0], [4123.0, 4123.0], [0.0, 0.0], [null, null]], [[1433.0, 1433.0], [1.0, 1.0], [3575.0, 3575.0], [2135.0, 2135.0], [0.0, 0.0], [3725.0, 3725.0]], [[4793.0, 4793.0], [0.0, 0.0], [4847.0, 4847.0], [4148.0, 4148.0], [0.0, 0.0], [5252.0, 5252.0]], [[2922.0, 2922.0], [1.0, 1.0], [1189.0, 1189.0], [2359.0, 2359.0], [1.0, 1.0], [2831.0, 2831.0]], [[3157.0, 3157.0], [0.0, 0.0], [3270.0, 3270.0], [3334.0, 3334.0], [0.0, 0.0], [2815.0, 2815.0]], [[3634.0, 3634.0], [1.0, 1.0], [3211.0, 3211.0], [2930.0, 2930.0], [0.0, 0.0], [4040.0, 4040.0]], [[2776.0, 2776.0], [0.0, 0.0], [1343.0, 1343.0], [956.0, 956.0], [0.0, 0.0], [242.0, 242.0]], [[3604.0, 3604.0], [0.0, 0.0], [4173.0, 4173.0], [6916.0, 6916.0], [1.0, 1.0], [6016.0, 6016.0]], [[977.0, 977.0], [0.0, 0.0], [446.0, 446.0], [2884.0, 2884.0], [0.0, 0.0], [1966.0, 1966.0]], [[2888.0, 2888.0], [1.0, 1.0], [2282.0, 2282.0], [2614.0, 2614.0], [0.0, 0.0], [1471.0, 1471.0]], [[4507.0, 4507.0], [null, null], [4636.0, 4636.0], [6624.0, 6624.0], [0.0, 0.0], [7769.0, 7769.0]], [[3192.0, 3192.0], [0.0, 0.0], [2966.0, 2966.0], [500.0, 500.0], [0.0, 0.0], [3026.0, 3026.0]], [[3407.0, 3407.0], [0.0, 0.0], [3380.0, 3380.0], [2268.0, 2268.0], [0.0, 0.0], [2118.0, 2118.0]], [[2582.0, 2582.0], [0.0, 0.0], [2269.0, 2269.0], [4426.0, 4426.0], [0.0, 0.0], [3360.0, 3360.0]], [[1599.0, 1599.0], [0.0, 0.0], [3044.0, 3044.0], [2760.0, 2760.0], [0.0, 0.0], [3896.0, 3896.0]], [[731.0, 731.0], [0.0, 0.0], [564.0, 564.0], [3505.0, 3505.0], [0.0, 0.0], [3142.0, 3142.0]], [[3782.0, 3782.0], [0.0, 0.0], [3883.0, 3883.0], [3546.0, 3546.0], [0.0, 0.0], [3915.0, 3915.0]], [[null, null], [1.0, 1.0], [2772.0, 2772.0], [2999.0, 2999.0], [1.0, 1.0], [4191.0, 4191.0]], [[2478.0, 2478.0], [1.0, 1.0], [1308.0, 1308.0], [2182.0, 2182.0], [1.0, 1.0], [2463.0, 2463.0]], [[2469.0, 2469.0], [0.0, 0.0], [1499.0, 1499.0], [452.0, 452.0], [0.0, 0.0], [null, null]], [[2184.0, 2184.0], [1.0, 1.0], [2758.0, 2758.0], [1955.0, 1955.0], [0.0, 0.0], [1675.0, 1675.0]], [[5337.0, 5337.0], [0.0, 0.0], [4100.0, 4100.0], [4523.0, 4523.0], [0.0, 0.0], [4867.0, 4867.0]], [[3253.0, 3253.0], [0.0, 0.0], [3046.0, 3046.0], [848.0, 848.0], [0.0, 0.0], [2658.0, 2658.0]]], \"hovertemplate\": \"<b>d_prime_peak:%{z:.3f}</b><br>number_of_licks:%{customdata[0]:.3f} <br> \", \"type\": \"heatmap\", \"x\": [\"OPHYS_1\", \"OPHYS_2\", \"OPHYS_3\", \"OPHYS_4\", \"OPHYS_5\", \"OPHYS_6\"], \"z\": [[null, 0.0, null, 2.3913271343095035, 0.0, null], [0.3307435775260481, 0.0, 2.7729360785470196, 0.0, null, 1.727001607947586], [-0.648782202137326, 0.0, -0.07965799506149684, 0.7288930421263174, 0.0, 0.9213165900738313], [2.252556600232568, 0.0, 1.9909603496902775, 1.7569793388565886, 0.0, 2.841078065208799], [1.548708444242402, 0.0, null, 1.7368920761910625, 0.0, 3.0655733148069366], [2.6336404452419964, 0.0, 2.062261582420264, 3.7915816667263638, null, 3.2005237676120633], [2.316323759543228, 0.0, 2.013652237068048, 2.2254033596659926, 0.0, 3.7405472512854505], [0.8096947945745112, 0.0, 0.9453030503636206, 2.154600784403329, null, 3.242569696793482], [3.379797802382231, 0.0, 2.220731230737384, 4.002287596814284, 0.0, 2.4534287285358696], [0.8029515233222089, 0.0, 0.3307435775260481, 0.05714207775587754, 0.0, 0.0], [1.8562678876920782, 0.0, 2.39843982013869, 1.5402637111236404, 0.0, 1.9163645518535037], [1.2562309211761646, 0.0, null, 3.661525610159777, 0.0, 2.9309332206240777], [2.652662866045635, 0.0, 1.360937307289162, 2.2882108727254913, 0.0, 3.1351922781542365], [2.1748356163239033, 0.0, 3.2863013078677747, 2.6015746119409133, 0.0, 2.2052165559458388], [1.5008533831116049, 0.0, 2.5917526278658163, 1.7130547509550418, 0.0, 2.044131726978333], [2.7148095380239523, 0.0, 1.6709243688064142, 2.2542559279429915, 0.0, 0.7606024946306629], [1.0510733000088301, 0.0, 2.6151572291153045, 3.5818340438652703, 0.0, 3.99473906798792], [1.569972747251497, 0.0, 1.0105303442254467, null, 0.0, 1.0447963084962404], [2.4220618548675876, 0.0, 1.9209500358414713, 3.234805742578226, 0.0, 2.4660581729227027], [1.2439364795797427, 0.0, null, 2.0139221210441254, 0.0, 1.2647085490501817], [1.4186350928324822, 0.0, 1.8312201512382287, 3.0293380669111625, 0.0, null], [1.2587773501626993, 0.0, 2.8235484447223946, 1.517503469927445, 0.0, 4.29685317721117], [2.757075173336298, 0.0, 2.176816887767412, 2.4649783163801313, 0.0, 2.4770712299005644], [2.39843982013869, 0.0, 1.632543466304473, 1.670042883174079, 0.0, 2.212162579719412], [3.722094866990508, 0.0, 1.7657366892034803, 3.533761924263043, 0.0, 2.821221037609465], [3.655165801905714, 0.0, 2.759845316227911, 2.203911343133532, 0.0, 3.234805742578226], [2.108549494113442, 0.0, 2.4520092208959148, 1.0776202288051047, 0.0, 1.1610598843441582], [4.038023180550569, 0.0, 3.0008376242369224, 1.8956872820315454, 0.0, 1.7225951628941298], [2.3860649738261634, 0.0, 2.1729046752175063, 1.8322801976645287, 0.0, 1.8291473033592867], [1.7746915246395651, 0.0, 2.0077085100764656, 1.8214582520302398, 0.0, 1.712515107989434], [3.143584696070241, null, 2.463317516827809, 3.120741537113758, 0.0, 3.469745438573865], [2.644987238005216, 0.0, 2.4534287285358696, 1.7495893095330428, 0.0, 3.037043731496038], [1.0216336033656195, 0.0, 1.1503493803760079, 1.2439364795797427, 0.0, 1.4703667035769141], [1.632543466304473, 0.0, 1.125692876089658, 2.3755572072497895, 0.0, 1.4339131946053667], [1.977592178523796, 0.0, 3.1212564819730266, 2.208488618029874, 0.0, 3.120741537113758], [1.5748963301918355, 0.0, 1.0307728869431534, 1.1937502221033054, 0.0, 1.0359228851771605], [1.072572042727156, 0.0, 1.2750513253418871, 1.232817491762386, 0.0, 1.0590067020281584], [null, 0.0, 1.465233792685523, 2.1767989696918506, 0.0, 1.891687676302434], [1.381678282646365, 0.0, 1.3589263079391398, 1.5699959133349162, 0.0, 1.6429920423779547], [1.1189338238186386, 0.0, 1.4927265085070727, 1.0171761572550637, 0.0, null], [2.603570463289498, 0.0, 1.3356621834693843, 1.9163645518535037, 0.0, 2.2426961401337118], [2.2831166828880236, 0.0, 2.901457155319279, 3.601523204395097, 0.0, 2.7760278427495586], [1.6156520165856434, 0.0, 2.006909223269597, 1.6204212737029158, 0.0, 2.5104509617151756]]}],\n",
       "                        {\"template\": {\"data\": {\"bar\": [{\"error_x\": {\"color\": \"#2a3f5f\"}, \"error_y\": {\"color\": \"#2a3f5f\"}, \"marker\": {\"line\": {\"color\": \"#E5ECF6\", \"width\": 0.5}}, \"type\": \"bar\"}], \"barpolar\": [{\"marker\": {\"line\": {\"color\": \"#E5ECF6\", \"width\": 0.5}}, \"type\": \"barpolar\"}], \"carpet\": [{\"aaxis\": {\"endlinecolor\": \"#2a3f5f\", \"gridcolor\": \"white\", \"linecolor\": \"white\", \"minorgridcolor\": \"white\", \"startlinecolor\": \"#2a3f5f\"}, \"baxis\": {\"endlinecolor\": \"#2a3f5f\", \"gridcolor\": \"white\", \"linecolor\": \"white\", \"minorgridcolor\": \"white\", \"startlinecolor\": \"#2a3f5f\"}, \"type\": \"carpet\"}], \"choropleth\": [{\"colorbar\": {\"outlinewidth\": 0, \"ticks\": \"\"}, \"type\": \"choropleth\"}], \"contour\": [{\"colorbar\": {\"outlinewidth\": 0, \"ticks\": \"\"}, \"colorscale\": [[0.0, \"#0d0887\"], [0.1111111111111111, \"#46039f\"], [0.2222222222222222, \"#7201a8\"], [0.3333333333333333, \"#9c179e\"], [0.4444444444444444, \"#bd3786\"], [0.5555555555555556, \"#d8576b\"], [0.6666666666666666, \"#ed7953\"], [0.7777777777777778, \"#fb9f3a\"], [0.8888888888888888, \"#fdca26\"], [1.0, \"#f0f921\"]], \"type\": \"contour\"}], \"contourcarpet\": [{\"colorbar\": {\"outlinewidth\": 0, \"ticks\": \"\"}, \"type\": \"contourcarpet\"}], \"heatmap\": [{\"colorbar\": {\"outlinewidth\": 0, \"ticks\": \"\"}, \"colorscale\": [[0.0, \"#0d0887\"], [0.1111111111111111, \"#46039f\"], [0.2222222222222222, \"#7201a8\"], [0.3333333333333333, \"#9c179e\"], [0.4444444444444444, \"#bd3786\"], [0.5555555555555556, \"#d8576b\"], [0.6666666666666666, \"#ed7953\"], [0.7777777777777778, \"#fb9f3a\"], [0.8888888888888888, \"#fdca26\"], [1.0, \"#f0f921\"]], \"type\": \"heatmap\"}], \"heatmapgl\": [{\"colorbar\": {\"outlinewidth\": 0, \"ticks\": \"\"}, \"colorscale\": [[0.0, \"#0d0887\"], [0.1111111111111111, \"#46039f\"], [0.2222222222222222, \"#7201a8\"], [0.3333333333333333, \"#9c179e\"], [0.4444444444444444, \"#bd3786\"], [0.5555555555555556, \"#d8576b\"], [0.6666666666666666, \"#ed7953\"], [0.7777777777777778, \"#fb9f3a\"], [0.8888888888888888, \"#fdca26\"], [1.0, \"#f0f921\"]], \"type\": \"heatmapgl\"}], \"histogram\": [{\"marker\": {\"colorbar\": {\"outlinewidth\": 0, \"ticks\": \"\"}}, \"type\": \"histogram\"}], \"histogram2d\": [{\"colorbar\": {\"outlinewidth\": 0, \"ticks\": \"\"}, \"colorscale\": [[0.0, \"#0d0887\"], [0.1111111111111111, \"#46039f\"], [0.2222222222222222, \"#7201a8\"], [0.3333333333333333, \"#9c179e\"], [0.4444444444444444, \"#bd3786\"], [0.5555555555555556, \"#d8576b\"], [0.6666666666666666, \"#ed7953\"], [0.7777777777777778, \"#fb9f3a\"], [0.8888888888888888, \"#fdca26\"], [1.0, \"#f0f921\"]], \"type\": \"histogram2d\"}], \"histogram2dcontour\": [{\"colorbar\": {\"outlinewidth\": 0, \"ticks\": \"\"}, \"colorscale\": [[0.0, \"#0d0887\"], [0.1111111111111111, \"#46039f\"], [0.2222222222222222, \"#7201a8\"], [0.3333333333333333, \"#9c179e\"], [0.4444444444444444, \"#bd3786\"], [0.5555555555555556, \"#d8576b\"], [0.6666666666666666, \"#ed7953\"], [0.7777777777777778, \"#fb9f3a\"], [0.8888888888888888, \"#fdca26\"], [1.0, \"#f0f921\"]], \"type\": \"histogram2dcontour\"}], \"mesh3d\": [{\"colorbar\": {\"outlinewidth\": 0, \"ticks\": \"\"}, \"type\": \"mesh3d\"}], \"parcoords\": [{\"line\": {\"colorbar\": {\"outlinewidth\": 0, \"ticks\": \"\"}}, \"type\": \"parcoords\"}], \"pie\": [{\"automargin\": true, \"type\": \"pie\"}], \"scatter\": [{\"marker\": {\"colorbar\": {\"outlinewidth\": 0, \"ticks\": \"\"}}, \"type\": \"scatter\"}], \"scatter3d\": [{\"line\": {\"colorbar\": {\"outlinewidth\": 0, \"ticks\": \"\"}}, \"marker\": {\"colorbar\": {\"outlinewidth\": 0, \"ticks\": \"\"}}, \"type\": \"scatter3d\"}], \"scattercarpet\": [{\"marker\": {\"colorbar\": {\"outlinewidth\": 0, \"ticks\": \"\"}}, \"type\": \"scattercarpet\"}], \"scattergeo\": [{\"marker\": {\"colorbar\": {\"outlinewidth\": 0, \"ticks\": \"\"}}, \"type\": \"scattergeo\"}], \"scattergl\": [{\"marker\": {\"colorbar\": {\"outlinewidth\": 0, \"ticks\": \"\"}}, \"type\": \"scattergl\"}], \"scattermapbox\": [{\"marker\": {\"colorbar\": {\"outlinewidth\": 0, \"ticks\": \"\"}}, \"type\": \"scattermapbox\"}], \"scatterpolar\": [{\"marker\": {\"colorbar\": {\"outlinewidth\": 0, \"ticks\": \"\"}}, \"type\": \"scatterpolar\"}], \"scatterpolargl\": [{\"marker\": {\"colorbar\": {\"outlinewidth\": 0, \"ticks\": \"\"}}, \"type\": \"scatterpolargl\"}], \"scatterternary\": [{\"marker\": {\"colorbar\": {\"outlinewidth\": 0, \"ticks\": \"\"}}, \"type\": \"scatterternary\"}], \"surface\": [{\"colorbar\": {\"outlinewidth\": 0, \"ticks\": \"\"}, \"colorscale\": [[0.0, \"#0d0887\"], [0.1111111111111111, \"#46039f\"], [0.2222222222222222, \"#7201a8\"], [0.3333333333333333, \"#9c179e\"], [0.4444444444444444, \"#bd3786\"], [0.5555555555555556, \"#d8576b\"], [0.6666666666666666, \"#ed7953\"], [0.7777777777777778, \"#fb9f3a\"], [0.8888888888888888, \"#fdca26\"], [1.0, \"#f0f921\"]], \"type\": \"surface\"}], \"table\": [{\"cells\": {\"fill\": {\"color\": \"#EBF0F8\"}, \"line\": {\"color\": \"white\"}}, \"header\": {\"fill\": {\"color\": \"#C8D4E3\"}, \"line\": {\"color\": \"white\"}}, \"type\": \"table\"}]}, \"layout\": {\"annotationdefaults\": {\"arrowcolor\": \"#2a3f5f\", \"arrowhead\": 0, \"arrowwidth\": 1}, \"coloraxis\": {\"colorbar\": {\"outlinewidth\": 0, \"ticks\": \"\"}}, \"colorscale\": {\"diverging\": [[0, \"#8e0152\"], [0.1, \"#c51b7d\"], [0.2, \"#de77ae\"], [0.3, \"#f1b6da\"], [0.4, \"#fde0ef\"], [0.5, \"#f7f7f7\"], [0.6, \"#e6f5d0\"], [0.7, \"#b8e186\"], [0.8, \"#7fbc41\"], [0.9, \"#4d9221\"], [1, \"#276419\"]], \"sequential\": [[0.0, \"#0d0887\"], [0.1111111111111111, \"#46039f\"], [0.2222222222222222, \"#7201a8\"], [0.3333333333333333, \"#9c179e\"], [0.4444444444444444, \"#bd3786\"], [0.5555555555555556, \"#d8576b\"], [0.6666666666666666, \"#ed7953\"], [0.7777777777777778, \"#fb9f3a\"], [0.8888888888888888, \"#fdca26\"], [1.0, \"#f0f921\"]], \"sequentialminus\": [[0.0, \"#0d0887\"], [0.1111111111111111, \"#46039f\"], [0.2222222222222222, \"#7201a8\"], [0.3333333333333333, \"#9c179e\"], [0.4444444444444444, \"#bd3786\"], [0.5555555555555556, \"#d8576b\"], [0.6666666666666666, \"#ed7953\"], [0.7777777777777778, \"#fb9f3a\"], [0.8888888888888888, \"#fdca26\"], [1.0, \"#f0f921\"]]}, \"colorway\": [\"#636efa\", \"#EF553B\", \"#00cc96\", \"#ab63fa\", \"#FFA15A\", \"#19d3f3\", \"#FF6692\", \"#B6E880\", \"#FF97FF\", \"#FECB52\"], \"font\": {\"color\": \"#2a3f5f\"}, \"geo\": {\"bgcolor\": \"white\", \"lakecolor\": \"white\", \"landcolor\": \"#E5ECF6\", \"showlakes\": true, \"showland\": true, \"subunitcolor\": \"white\"}, \"hoverlabel\": {\"align\": \"left\"}, \"hovermode\": \"closest\", \"mapbox\": {\"style\": \"light\"}, \"paper_bgcolor\": \"white\", \"plot_bgcolor\": \"#E5ECF6\", \"polar\": {\"angularaxis\": {\"gridcolor\": \"white\", \"linecolor\": \"white\", \"ticks\": \"\"}, \"bgcolor\": \"#E5ECF6\", \"radialaxis\": {\"gridcolor\": \"white\", \"linecolor\": \"white\", \"ticks\": \"\"}}, \"scene\": {\"xaxis\": {\"backgroundcolor\": \"#E5ECF6\", \"gridcolor\": \"white\", \"gridwidth\": 2, \"linecolor\": \"white\", \"showbackground\": true, \"ticks\": \"\", \"zerolinecolor\": \"white\"}, \"yaxis\": {\"backgroundcolor\": \"#E5ECF6\", \"gridcolor\": \"white\", \"gridwidth\": 2, \"linecolor\": \"white\", \"showbackground\": true, \"ticks\": \"\", \"zerolinecolor\": \"white\"}, \"zaxis\": {\"backgroundcolor\": \"#E5ECF6\", \"gridcolor\": \"white\", \"gridwidth\": 2, \"linecolor\": \"white\", \"showbackground\": true, \"ticks\": \"\", \"zerolinecolor\": \"white\"}}, \"shapedefaults\": {\"line\": {\"color\": \"#2a3f5f\"}}, \"ternary\": {\"aaxis\": {\"gridcolor\": \"white\", \"linecolor\": \"white\", \"ticks\": \"\"}, \"baxis\": {\"gridcolor\": \"white\", \"linecolor\": \"white\", \"ticks\": \"\"}, \"bgcolor\": \"#E5ECF6\", \"caxis\": {\"gridcolor\": \"white\", \"linecolor\": \"white\", \"ticks\": \"\"}}, \"title\": {\"x\": 0.05}, \"xaxis\": {\"automargin\": true, \"gridcolor\": \"white\", \"linecolor\": \"white\", \"ticks\": \"\", \"title\": {\"standoff\": 15}, \"zerolinecolor\": \"white\", \"zerolinewidth\": 2}, \"yaxis\": {\"automargin\": true, \"gridcolor\": \"white\", \"linecolor\": \"white\", \"ticks\": \"\", \"title\": {\"standoff\": 15}, \"zerolinecolor\": \"white\", \"zerolinewidth\": 2}}}, \"yaxis\": {\"autorange\": \"reversed\"}},\n",
       "                        {\"responsive\": true}\n",
       "                    ).then(function(){\n",
       "                            \n",
       "var gd = document.getElementById('9ed416ec-117c-4f3e-8a53-c82700de244d');\n",
       "var x = new MutationObserver(function (mutations, observer) {{\n",
       "        var display = window.getComputedStyle(gd).display;\n",
       "        if (!display || display === 'none') {{\n",
       "            console.log([gd, 'removed!']);\n",
       "            Plotly.purge(gd);\n",
       "            observer.disconnect();\n",
       "        }}\n",
       "}});\n",
       "\n",
       "// Listen for the removal of the full notebook cells\n",
       "var notebookContainer = gd.closest('#notebook-container');\n",
       "if (notebookContainer) {{\n",
       "    x.observe(notebookContainer, {childList: true});\n",
       "}}\n",
       "\n",
       "// Listen for the clearing of the current output cell\n",
       "var outputEl = gd.closest('.output');\n",
       "if (outputEl) {{\n",
       "    x.observe(outputEl, {childList: true});\n",
       "}}\n",
       "\n",
       "                        })\n",
       "                };\n",
       "                });\n",
       "            </script>\n",
       "        </div>"
      ]
     },
     "metadata": {},
     "output_type": "display_data"
    }
   ],
   "source": [
    "fig = go.Figure()\n",
    "z2 = val_array.loc[{'value':'number_of_licks'}].values\n",
    "z3 = val_array.loc[{'value':'number_of_licks'}].values\n",
    "fig.add_trace(\n",
    "    go.Heatmap(\n",
    "        x=session_prefixes,\n",
    "#         y=container_ids,\n",
    "        z=val_array.loc[{'value':'d_prime_peak'}].values,\n",
    "        customdata=np.dstack((z2, z3)),\n",
    "        hovertemplate='<b>d_prime_peak:%{z:.3f}</b><br>number_of_licks:%{customdata[0]:.3f} <br> ',\n",
    "#         coloraxis=\"coloraxis1\", name=''\n",
    "    )\n",
    ")\n",
    "fig.update_yaxes(autorange=\"reversed\")\n",
    "fig.show()"
   ]
  },
  {
   "cell_type": "code",
   "execution_count": 58,
   "metadata": {},
   "outputs": [
    {
     "data": {
      "text/plain": [
       "43"
      ]
     },
     "execution_count": 58,
     "metadata": {},
     "output_type": "execute_result"
    }
   ],
   "source": [
    "len(container_ids)"
   ]
  },
  {
   "cell_type": "code",
   "execution_count": 133,
   "metadata": {},
   "outputs": [],
   "source": [
    "ophys_experiment_table = dl.get_filtered_ophys_experiment_table().sort_values(by='date_of_acquisition', ascending=False).reset_index()"
   ]
  },
  {
   "cell_type": "code",
   "execution_count": 134,
   "metadata": {},
   "outputs": [
    {
     "data": {
      "text/plain": [
       "247"
      ]
     },
     "execution_count": 134,
     "metadata": {},
     "output_type": "execute_result"
    }
   ],
   "source": [
    "len(ophys_experiment_table)"
   ]
  },
  {
   "cell_type": "code",
   "execution_count": null,
   "metadata": {},
   "outputs": [],
   "source": [
    "def get_session_from_mongo(ophys_experiment_id):\n",
    "    uuid = oeid_to_uuid(ophys_experiment_id)\n",
    "    vb = db.Database('visual_behavior_data')\n",
    "    stats = vb.behavior_data['summary'].find_one({'behavior_session_uuid':uuid})\n",
    "    vb.close()\n",
    "    return stats['stage']\n",
    "\n",
    "def get_date_from_mongo(ophys_experiment_id):\n",
    "    uuid = oeid_to_uuid(ophys_experiment_id)\n",
    "    vb = db.Database('visual_behavior_data')\n",
    "    stats = vb.behavior_data['summary'].find_one({'behavior_session_uuid':uuid})\n",
    "    vb.close()\n",
    "    return stats['startdatetime']\n",
    "    \n",
    "\n",
    "ophys_experiment_table['mongo_session_name'] = ophys_experiment_table['ophys_session_id'].map(lambda osid:get_session_from_mongo(osid))\n",
    "ophys_experiment_table['mongo_date'] = ophys_experiment_table['ophys_session_id'].map(lambda osid:get_date_from_mongo(osid))\n"
   ]
  },
  {
   "cell_type": "code",
   "execution_count": null,
   "metadata": {},
   "outputs": [],
   "source": []
  }
 ],
 "metadata": {
  "kernelspec": {
   "display_name": "visual_behavior",
   "language": "python",
   "name": "visual_behavior"
  },
  "language_info": {
   "codemirror_mode": {
    "name": "ipython",
    "version": 3
   },
   "file_extension": ".py",
   "mimetype": "text/x-python",
   "name": "python",
   "nbconvert_exporter": "python",
   "pygments_lexer": "ipython3",
   "version": "3.7.3"
  }
 },
 "nbformat": 4,
 "nbformat_minor": 4
}
