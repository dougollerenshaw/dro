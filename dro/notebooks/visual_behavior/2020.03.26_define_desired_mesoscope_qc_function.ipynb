{
 "cells": [
  {
   "cell_type": "code",
   "execution_count": 5,
   "metadata": {},
   "outputs": [
    {
     "name": "stderr",
     "output_type": "stream",
     "text": [
      "/home/dougo/.local/lib/python3.7/site-packages/xarray/core/merge.py:17: FutureWarning: The Panel class is removed from pandas. Accessing it from the top-level namespace will also be removed in the next version\n",
      "  PANDAS_TYPES = (pd.Series, pd.DataFrame, pd.Panel)\n",
      "/home/dougo/Code/AllenSDK/allensdk/brain_observatory/behavior/behavior_ophys_api/behavior_ophys_nwb_api.py:9: FutureWarning: pandas.util.testing is deprecated. Use the functions in the public API at pandas.testing instead.\n",
      "  from pandas.util.testing import assert_frame_equal\n"
     ]
    }
   ],
   "source": [
    "from visual_behavior import database as db\n",
    "from allensdk.brain_observatory.behavior.behavior_project_cache import BehaviorProjectCache as bpc"
   ]
  },
  {
   "cell_type": "markdown",
   "metadata": {},
   "source": [
    "## connect to mouseseeks"
   ]
  },
  {
   "cell_type": "code",
   "execution_count": 6,
   "metadata": {},
   "outputs": [],
   "source": [
    "ms = db.Database('mouseseeks')"
   ]
  },
  {
   "cell_type": "markdown",
   "metadata": {},
   "source": [
    "## get experiments"
   ]
  },
  {
   "cell_type": "code",
   "execution_count": 7,
   "metadata": {},
   "outputs": [],
   "source": [
    "manifest_file = \"/allen/programs/braintv/workgroups/nc-ophys/visual_behavior/2020_cache/manifest_all.json\"\n",
    "cache = bpc.from_lims(manifest=manifest_file)\n",
    "all_experiments = cache.get_experiment_table() \n",
    "all_experiments = all_experiments.reset_index()\n",
    "\n",
    "#drop duplicate sessions (these represent multiple planes (or \"experiments\") within a single mesoscope session)\n",
    "all_experiments = all_experiments.drop_duplicates('ophys_session_id')"
   ]
  },
  {
   "cell_type": "code",
   "execution_count": 35,
   "metadata": {},
   "outputs": [
    {
     "data": {
      "text/html": [
       "<div>\n",
       "<style scoped>\n",
       "    .dataframe tbody tr th:only-of-type {\n",
       "        vertical-align: middle;\n",
       "    }\n",
       "\n",
       "    .dataframe tbody tr th {\n",
       "        vertical-align: top;\n",
       "    }\n",
       "\n",
       "    .dataframe thead th {\n",
       "        text-align: right;\n",
       "    }\n",
       "</style>\n",
       "<table border=\"1\" class=\"dataframe\">\n",
       "  <thead>\n",
       "    <tr style=\"text-align: right;\">\n",
       "      <th></th>\n",
       "      <th>ophys_experiment_id</th>\n",
       "      <th>ophys_session_id</th>\n",
       "      <th>behavior_session_id</th>\n",
       "      <th>container_id</th>\n",
       "      <th>project_code</th>\n",
       "      <th>container_workflow_state</th>\n",
       "      <th>experiment_workflow_state</th>\n",
       "      <th>session_name</th>\n",
       "      <th>session_type</th>\n",
       "      <th>equipment_name</th>\n",
       "      <th>date_of_acquisition</th>\n",
       "      <th>isi_experiment_id</th>\n",
       "      <th>specimen_id</th>\n",
       "      <th>sex</th>\n",
       "      <th>age_in_days</th>\n",
       "      <th>full_genotype</th>\n",
       "      <th>reporter_line</th>\n",
       "      <th>driver_line</th>\n",
       "      <th>imaging_depth</th>\n",
       "      <th>targeted_structure</th>\n",
       "      <th>published_at</th>\n",
       "    </tr>\n",
       "  </thead>\n",
       "  <tbody>\n",
       "    <tr>\n",
       "      <th>190</th>\n",
       "      <td>845777911</td>\n",
       "      <td>845235947</td>\n",
       "      <td>845404780</td>\n",
       "      <td>902737041</td>\n",
       "      <td>VisualBehaviorMultiscope</td>\n",
       "      <td>failed</td>\n",
       "      <td>passed</td>\n",
       "      <td>20190403_429956_Ophys5Passive</td>\n",
       "      <td>OPHYS_4_images_B</td>\n",
       "      <td>MESO.1</td>\n",
       "      <td>2019-04-03 09:01:20.000000</td>\n",
       "      <td>802369734</td>\n",
       "      <td>791855403</td>\n",
       "      <td>F</td>\n",
       "      <td>173.0</td>\n",
       "      <td>Vip-IRES-Cre/wt;Ai148(TIT2L-GC6f-ICL-tTA2)/wt</td>\n",
       "      <td>[Ai148(TIT2L-GC6f-ICL-tTA2)]</td>\n",
       "      <td>[Vip-IRES-Cre]</td>\n",
       "      <td>NaN</td>\n",
       "      <td>VISp</td>\n",
       "      <td>NaN</td>\n",
       "    </tr>\n",
       "    <tr>\n",
       "      <th>2508</th>\n",
       "      <td>927102620</td>\n",
       "      <td>926774218</td>\n",
       "      <td>926887331</td>\n",
       "      <td>914885113</td>\n",
       "      <td>VisualBehaviorMultiscope</td>\n",
       "      <td>completed</td>\n",
       "      <td>passed</td>\n",
       "      <td>20190819_453990_Ophys7</td>\n",
       "      <td>NaN</td>\n",
       "      <td>MESO.1</td>\n",
       "      <td>2019-08-19 14:24:42.000000</td>\n",
       "      <td>852262774</td>\n",
       "      <td>840544752</td>\n",
       "      <td>M</td>\n",
       "      <td>192.0</td>\n",
       "      <td>Vip-IRES-Cre/wt;Ai148(TIT2L-GC6f-ICL-tTA2)/wt</td>\n",
       "      <td>[Ai148(TIT2L-GC6f-ICL-tTA2)]</td>\n",
       "      <td>[Vip-IRES-Cre]</td>\n",
       "      <td>NaN</td>\n",
       "      <td>VISp</td>\n",
       "      <td>NaN</td>\n",
       "    </tr>\n",
       "    <tr>\n",
       "      <th>975</th>\n",
       "      <td>936500611</td>\n",
       "      <td>935559843</td>\n",
       "      <td>935811563</td>\n",
       "      <td>931330738</td>\n",
       "      <td>VisualBehaviorMultiscope</td>\n",
       "      <td>failed</td>\n",
       "      <td>passed</td>\n",
       "      <td>20190830_6_Images_B_453988</td>\n",
       "      <td>OPHYS_6_images_B</td>\n",
       "      <td>MESO.1</td>\n",
       "      <td>2019-08-30 09:36:00.434110</td>\n",
       "      <td>848974280</td>\n",
       "      <td>840355567</td>\n",
       "      <td>M</td>\n",
       "      <td>203.0</td>\n",
       "      <td>Vip-IRES-Cre/wt;Ai148(TIT2L-GC6f-ICL-tTA2)/wt</td>\n",
       "      <td>[Ai148(TIT2L-GC6f-ICL-tTA2)]</td>\n",
       "      <td>[Vip-IRES-Cre]</td>\n",
       "      <td>NaN</td>\n",
       "      <td>VISp</td>\n",
       "      <td>NaN</td>\n",
       "    </tr>\n",
       "    <tr>\n",
       "      <th>895</th>\n",
       "      <td>944115831</td>\n",
       "      <td>940775208</td>\n",
       "      <td>940796859</td>\n",
       "      <td>938299493</td>\n",
       "      <td>VisualBehaviorMultiscope</td>\n",
       "      <td>completed</td>\n",
       "      <td>passed</td>\n",
       "      <td>20190906_453989_stim3</td>\n",
       "      <td>OPHYS_3_images_A</td>\n",
       "      <td>MESO.1</td>\n",
       "      <td>2019-09-06 15:15:47.438632</td>\n",
       "      <td>848540715</td>\n",
       "      <td>840378937</td>\n",
       "      <td>M</td>\n",
       "      <td>210.0</td>\n",
       "      <td>Vip-IRES-Cre/wt;Ai148(TIT2L-GC6f-ICL-tTA2)/wt</td>\n",
       "      <td>[Ai148(TIT2L-GC6f-ICL-tTA2)]</td>\n",
       "      <td>[Vip-IRES-Cre]</td>\n",
       "      <td>NaN</td>\n",
       "      <td>VISl</td>\n",
       "      <td>NaN</td>\n",
       "    </tr>\n",
       "    <tr>\n",
       "      <th>2058</th>\n",
       "      <td>974358971</td>\n",
       "      <td>973701907</td>\n",
       "      <td>973744975</td>\n",
       "      <td>973353660</td>\n",
       "      <td>VisualBehaviorMultiscope</td>\n",
       "      <td>completed</td>\n",
       "      <td>passed</td>\n",
       "      <td>20191029_484627_Ophys4</td>\n",
       "      <td>NaN</td>\n",
       "      <td>MESO.1</td>\n",
       "      <td>2019-10-29 10:41:35.836194</td>\n",
       "      <td>943395690</td>\n",
       "      <td>930825455</td>\n",
       "      <td>M</td>\n",
       "      <td>113.0</td>\n",
       "      <td>Slc17a7-IRES2-Cre/wt;Camk2a-tTA/wt;Ai93(TITL-G...</td>\n",
       "      <td>[Ai93(TITL-GCaMP6f)]</td>\n",
       "      <td>[Camk2a-tTA, Slc17a7-IRES2-Cre]</td>\n",
       "      <td>NaN</td>\n",
       "      <td>VISp</td>\n",
       "      <td>NaN</td>\n",
       "    </tr>\n",
       "  </tbody>\n",
       "</table>\n",
       "</div>"
      ],
      "text/plain": [
       "      ophys_experiment_id  ophys_session_id  behavior_session_id  \\\n",
       "190             845777911         845235947            845404780   \n",
       "2508            927102620         926774218            926887331   \n",
       "975             936500611         935559843            935811563   \n",
       "895             944115831         940775208            940796859   \n",
       "2058            974358971         973701907            973744975   \n",
       "\n",
       "      container_id              project_code container_workflow_state  \\\n",
       "190      902737041  VisualBehaviorMultiscope                   failed   \n",
       "2508     914885113  VisualBehaviorMultiscope                completed   \n",
       "975      931330738  VisualBehaviorMultiscope                   failed   \n",
       "895      938299493  VisualBehaviorMultiscope                completed   \n",
       "2058     973353660  VisualBehaviorMultiscope                completed   \n",
       "\n",
       "     experiment_workflow_state                   session_name  \\\n",
       "190                     passed  20190403_429956_Ophys5Passive   \n",
       "2508                    passed         20190819_453990_Ophys7   \n",
       "975                     passed     20190830_6_Images_B_453988   \n",
       "895                     passed          20190906_453989_stim3   \n",
       "2058                    passed         20191029_484627_Ophys4   \n",
       "\n",
       "          session_type equipment_name         date_of_acquisition  \\\n",
       "190   OPHYS_4_images_B         MESO.1  2019-04-03 09:01:20.000000   \n",
       "2508               NaN         MESO.1  2019-08-19 14:24:42.000000   \n",
       "975   OPHYS_6_images_B         MESO.1  2019-08-30 09:36:00.434110   \n",
       "895   OPHYS_3_images_A         MESO.1  2019-09-06 15:15:47.438632   \n",
       "2058               NaN         MESO.1  2019-10-29 10:41:35.836194   \n",
       "\n",
       "      isi_experiment_id  specimen_id sex  age_in_days  \\\n",
       "190           802369734    791855403   F        173.0   \n",
       "2508          852262774    840544752   M        192.0   \n",
       "975           848974280    840355567   M        203.0   \n",
       "895           848540715    840378937   M        210.0   \n",
       "2058          943395690    930825455   M        113.0   \n",
       "\n",
       "                                          full_genotype  \\\n",
       "190       Vip-IRES-Cre/wt;Ai148(TIT2L-GC6f-ICL-tTA2)/wt   \n",
       "2508      Vip-IRES-Cre/wt;Ai148(TIT2L-GC6f-ICL-tTA2)/wt   \n",
       "975       Vip-IRES-Cre/wt;Ai148(TIT2L-GC6f-ICL-tTA2)/wt   \n",
       "895       Vip-IRES-Cre/wt;Ai148(TIT2L-GC6f-ICL-tTA2)/wt   \n",
       "2058  Slc17a7-IRES2-Cre/wt;Camk2a-tTA/wt;Ai93(TITL-G...   \n",
       "\n",
       "                     reporter_line                      driver_line  \\\n",
       "190   [Ai148(TIT2L-GC6f-ICL-tTA2)]                   [Vip-IRES-Cre]   \n",
       "2508  [Ai148(TIT2L-GC6f-ICL-tTA2)]                   [Vip-IRES-Cre]   \n",
       "975   [Ai148(TIT2L-GC6f-ICL-tTA2)]                   [Vip-IRES-Cre]   \n",
       "895   [Ai148(TIT2L-GC6f-ICL-tTA2)]                   [Vip-IRES-Cre]   \n",
       "2058          [Ai93(TITL-GCaMP6f)]  [Camk2a-tTA, Slc17a7-IRES2-Cre]   \n",
       "\n",
       "      imaging_depth targeted_structure  published_at  \n",
       "190             NaN               VISp           NaN  \n",
       "2508            NaN               VISp           NaN  \n",
       "975             NaN               VISp           NaN  \n",
       "895             NaN               VISl           NaN  \n",
       "2058            NaN               VISp           NaN  "
      ]
     },
     "execution_count": 35,
     "metadata": {},
     "output_type": "execute_result"
    }
   ],
   "source": [
    "all_experiments.query('project_code == \"VisualBehaviorMultiscope\"').sample(5)"
   ]
  },
  {
   "cell_type": "markdown",
   "metadata": {},
   "source": [
    "## Here's one example of accessing failure tags and associated experiments"
   ]
  },
  {
   "cell_type": "code",
   "execution_count": 32,
   "metadata": {},
   "outputs": [],
   "source": [
    "ophys_session_id = 869117575"
   ]
  },
  {
   "cell_type": "code",
   "execution_count": 33,
   "metadata": {},
   "outputs": [
    {
     "data": {
      "text/plain": [
       "['z_drift_corr_um_diff']"
      ]
     },
     "execution_count": 33,
     "metadata": {},
     "output_type": "execute_result"
    }
   ],
   "source": [
    "ms['db']['ophys_session_log'].find_one({'id':ophys_session_id})['failure_tags']"
   ]
  },
  {
   "cell_type": "code",
   "execution_count": 34,
   "metadata": {},
   "outputs": [
    {
     "data": {
      "text/plain": [
       "[{'storage_directory': '/allen/programs/braintv/production/neuralcoding/prod0/specimen_837628436/ophys_session_869117575/ophys_experiment_870142184/',\n",
       "  'workflow_state': 'passed',\n",
       "  'name': '20190516_449653_ophys1_VISp_0_0_225',\n",
       "  'id': 870142184},\n",
       " {'storage_directory': '/allen/programs/braintv/production/neuralcoding/prod0/specimen_837628436/ophys_session_869117575/ophys_experiment_870142189/',\n",
       "  'workflow_state': 'passed',\n",
       "  'name': '20190516_449653_ophys1_VISp_0_0_150',\n",
       "  'id': 870142189},\n",
       " {'storage_directory': '/allen/programs/braintv/production/neuralcoding/prod0/specimen_837628436/ophys_session_869117575/ophys_experiment_870142214/',\n",
       "  'workflow_state': 'passed',\n",
       "  'name': '20190516_449653_ophys1_VISp_0_0_302',\n",
       "  'id': 870142214},\n",
       " {'storage_directory': '/allen/programs/braintv/production/neuralcoding/prod0/specimen_837628436/ophys_session_869117575/ophys_experiment_870142218/',\n",
       "  'workflow_state': 'passed',\n",
       "  'name': '20190516_449653_ophys1_VISp_0_0_77',\n",
       "  'id': 870142218},\n",
       " {'storage_directory': '/allen/programs/braintv/production/neuralcoding/prod0/specimen_837628436/ophys_session_869117575/ophys_experiment_870142223/',\n",
       "  'workflow_state': 'passed',\n",
       "  'name': '20190516_449653_ophys1_VISl_100_100_225',\n",
       "  'id': 870142223},\n",
       " {'storage_directory': '/allen/programs/braintv/production/neuralcoding/prod0/specimen_837628436/ophys_session_869117575/ophys_experiment_870142227/',\n",
       "  'workflow_state': 'failed',\n",
       "  'name': '20190516_449653_ophys1_VISl_100_100_150',\n",
       "  'id': 870142227},\n",
       " {'storage_directory': '/allen/programs/braintv/production/neuralcoding/prod0/specimen_837628436/ophys_session_869117575/ophys_experiment_870142232/',\n",
       "  'workflow_state': 'passed',\n",
       "  'name': '20190516_449653_ophys1_VISl_100_100_300',\n",
       "  'id': 870142232},\n",
       " {'storage_directory': '/allen/programs/braintv/production/neuralcoding/prod0/specimen_837628436/ophys_session_869117575/ophys_experiment_870142236/',\n",
       "  'workflow_state': 'passed',\n",
       "  'name': '20190516_449653_ophys1_VISl_100_100_75',\n",
       "  'id': 870142236}]"
      ]
     },
     "execution_count": 34,
     "metadata": {},
     "output_type": "execute_result"
    }
   ],
   "source": [
    "ms['db']['ophys_session_log'].find_one({'id':ophys_session_id})['ophys_experiments']"
   ]
  },
  {
   "cell_type": "markdown",
   "metadata": {},
   "source": [
    "## Here's another example of accessing failure tags and associated experiments"
   ]
  },
  {
   "cell_type": "code",
   "execution_count": 29,
   "metadata": {},
   "outputs": [],
   "source": [
    "ophys_session_id = 870762788"
   ]
  },
  {
   "cell_type": "code",
   "execution_count": 30,
   "metadata": {
    "scrolled": false
   },
   "outputs": [
    {
     "data": {
      "text/plain": [
       "['parent_averaged_depth_image_7']"
      ]
     },
     "execution_count": 30,
     "metadata": {},
     "output_type": "execute_result"
    }
   ],
   "source": [
    "ms['db']['ophys_session_log'].find_one({'id':ophys_session_id})['failure_tags']"
   ]
  },
  {
   "cell_type": "code",
   "execution_count": 31,
   "metadata": {},
   "outputs": [
    {
     "data": {
      "text/plain": [
       "[{'storage_directory': '/allen/programs/braintv/production/neuralcoding/prod0/specimen_834902199/ophys_session_870762788/ophys_experiment_871196365/',\n",
       "  'workflow_state': 'passed',\n",
       "  'name': '20190517_448366_3imagesA_VISp_0_0_225',\n",
       "  'id': 871196365},\n",
       " {'storage_directory': '/allen/programs/braintv/production/neuralcoding/prod0/specimen_834902199/ophys_session_870762788/ophys_experiment_871196367/',\n",
       "  'workflow_state': 'passed',\n",
       "  'name': '20190517_448366_3imagesA_VISp_0_0_150',\n",
       "  'id': 871196367},\n",
       " {'storage_directory': '/allen/programs/braintv/production/neuralcoding/prod0/specimen_834902199/ophys_session_870762788/ophys_experiment_871196369/',\n",
       "  'workflow_state': 'passed',\n",
       "  'name': '20190517_448366_3imagesA_VISp_0_0_300',\n",
       "  'id': 871196369},\n",
       " {'storage_directory': '/allen/programs/braintv/production/neuralcoding/prod0/specimen_834902199/ophys_session_870762788/ophys_experiment_871196371/',\n",
       "  'workflow_state': 'passed',\n",
       "  'name': '20190517_448366_3imagesA_VISp_0_0_75',\n",
       "  'id': 871196371},\n",
       " {'storage_directory': '/allen/programs/braintv/production/neuralcoding/prod0/specimen_834902199/ophys_session_870762788/ophys_experiment_871196373/',\n",
       "  'workflow_state': 'failed',\n",
       "  'name': '20190517_448366_3imagesA_VISl_100_100_225',\n",
       "  'id': 871196373},\n",
       " {'storage_directory': '/allen/programs/braintv/production/neuralcoding/prod0/specimen_834902199/ophys_session_870762788/ophys_experiment_871196375/',\n",
       "  'workflow_state': 'passed',\n",
       "  'name': '20190517_448366_3imagesA_VISl_100_100_150',\n",
       "  'id': 871196375},\n",
       " {'storage_directory': '/allen/programs/braintv/production/neuralcoding/prod0/specimen_834902199/ophys_session_870762788/ophys_experiment_871196377/',\n",
       "  'workflow_state': 'passed',\n",
       "  'name': '20190517_448366_3imagesA_VISl_100_100_300',\n",
       "  'id': 871196377},\n",
       " {'storage_directory': '/allen/programs/braintv/production/neuralcoding/prod0/specimen_834902199/ophys_session_870762788/ophys_experiment_871196379/',\n",
       "  'workflow_state': 'passed',\n",
       "  'name': '20190517_448366_3imagesA_VISl_100_100_75',\n",
       "  'id': 871196379}]"
      ]
     },
     "execution_count": 31,
     "metadata": {},
     "output_type": "execute_result"
    }
   ],
   "source": [
    "ms['db']['ophys_session_log'].find_one({'id':ophys_session_id})['ophys_experiments']"
   ]
  },
  {
   "cell_type": "markdown",
   "metadata": {},
   "source": [
    "## what we would like is a function that does the following: \n",
    "input: ophys_session_id  \n",
    "output: a dictionary where:  \n",
    "* keys = failed experiments  \n",
    "* values = list of failure tags assigned to that failed experiment  \n",
    "\n",
    "So, for session_id 870762788, the function should act as follows  \n",
    "\n",
    "> get_failure_tags(870762788)  \n",
    "{871196373: ['parent_averaged_depth_image_7']}"
   ]
  },
  {
   "cell_type": "code",
   "execution_count": null,
   "metadata": {},
   "outputs": [],
   "source": []
  }
 ],
 "metadata": {
  "kernelspec": {
   "display_name": "visual_behavior",
   "language": "python",
   "name": "visual_behavior"
  },
  "language_info": {
   "codemirror_mode": {
    "name": "ipython",
    "version": 3
   },
   "file_extension": ".py",
   "mimetype": "text/x-python",
   "name": "python",
   "nbconvert_exporter": "python",
   "pygments_lexer": "ipython3",
   "version": "3.7.3"
  }
 },
 "nbformat": 4,
 "nbformat_minor": 4
}
