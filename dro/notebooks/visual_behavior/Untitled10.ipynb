{
 "cells": [
  {
   "cell_type": "code",
   "execution_count": 2,
   "metadata": {},
   "outputs": [],
   "source": [
    "import os"
   ]
  },
  {
   "cell_type": "code",
   "execution_count": 1,
   "metadata": {},
   "outputs": [],
   "source": [
    "path = '/allen/programs/braintv/workgroups/nc-ophys/visual_behavior/qc_plots/container_qc_spreadsheets'"
   ]
  },
  {
   "cell_type": "code",
   "execution_count": 7,
   "metadata": {},
   "outputs": [
    {
     "name": "stdout",
     "output_type": "stream",
     "text": [
      "containers_set_2.xlsx\n",
      "containers_set_11.xlsx\n",
      "containers_set_1.xlsx\n",
      "containers_set_12.xlsx\n",
      "containers_set_8.xlsx\n",
      "containers_set_4.xlsx\n",
      "containers_set_18.xlsx\n",
      "containers_set_14.xlsx\n",
      "containers_set_16.xlsx\n",
      "containers_set_19.xlsx\n",
      "containers_set_15.xlsx\n",
      "containers_set_9.xlsx\n",
      "containers_set_0.xlsx\n",
      "containers_set_21.xlsx\n",
      "containers_set_10.xlsx\n",
      "containers_set_3.xlsx\n",
      "containers_set_20.xlsx\n",
      "containers_set_6.xlsx\n",
      "containers_set_7.xlsx\n",
      "containers_set_13.xlsx\n",
      "containers_set_5.xlsx\n",
      "containers_set_17.xlsx\n"
     ]
    }
   ],
   "source": [
    "sets = {}\n",
    "for fn in os.listdir(path):\n",
    "    if 'containers_set' in fn and '~' not in fn:\n",
    "        print(fn)\n",
    "        sets[fn] = pd.read_excel(os.path.join(path,fn))"
   ]
  },
  {
   "cell_type": "code",
   "execution_count": 11,
   "metadata": {},
   "outputs": [
    {
     "data": {
      "text/plain": [
       "array([1016840013, 1016840042, 1016840061, 1016840208, 1016840255,\n",
       "       1016840315, 1016840342, 1016840615, 1016840641, 1016840714])"
      ]
     },
     "execution_count": 11,
     "metadata": {},
     "output_type": "execute_result"
    }
   ],
   "source": [
    "sets['containers_set_2.xlsx']['container_id'].dropna().unique().astype(int)"
   ]
  },
  {
   "cell_type": "code",
   "execution_count": 24,
   "metadata": {},
   "outputs": [],
   "source": [
    "d = []\n",
    "for key in sets.keys():\n",
    "    container_ids = sets[key]['container_id'].dropna().unique().astype(int)\n",
    "    for container_id in container_ids:\n",
    "        d.append({\"container_id\":container_id,\"spreadsheet_name\":key})"
   ]
  },
  {
   "cell_type": "code",
   "execution_count": 27,
   "metadata": {},
   "outputs": [],
   "source": [
    "df = pd.DataFrame(d)"
   ]
  },
  {
   "cell_type": "code",
   "execution_count": 28,
   "metadata": {},
   "outputs": [],
   "source": [
    "df.to_csv('/home/dougo/spreadsheet_map.csv',index=False)"
   ]
  },
  {
   "cell_type": "code",
   "execution_count": null,
   "metadata": {},
   "outputs": [],
   "source": []
  }
 ],
 "metadata": {
  "kernelspec": {
   "display_name": "visual_behavior",
   "language": "python",
   "name": "visual_behavior"
  },
  "language_info": {
   "codemirror_mode": {
    "name": "ipython",
    "version": 3
   },
   "file_extension": ".py",
   "mimetype": "text/x-python",
   "name": "python",
   "nbconvert_exporter": "python",
   "pygments_lexer": "ipython3",
   "version": "3.7.3"
  }
 },
 "nbformat": 4,
 "nbformat_minor": 4
}
