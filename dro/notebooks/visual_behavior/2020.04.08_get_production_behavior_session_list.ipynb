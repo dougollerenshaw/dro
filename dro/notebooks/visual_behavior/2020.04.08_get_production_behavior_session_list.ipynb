{
 "cells": [
  {
   "cell_type": "code",
   "execution_count": 2,
   "metadata": {},
   "outputs": [
    {
     "ename": "ImportError",
     "evalue": "cannot import name 'loading' from 'visual_behavior.visualization.qc' (/home/dougo/Code/visual_behavior_analysis/visual_behavior/visualization/qc/__init__.py)",
     "output_type": "error",
     "traceback": [
      "\u001b[0;31m---------------------------------------------------------------------------\u001b[0m",
      "\u001b[0;31mImportError\u001b[0m                               Traceback (most recent call last)",
      "\u001b[0;32m<ipython-input-2-53ef1b3fb8ad>\u001b[0m in \u001b[0;36m<module>\u001b[0;34m\u001b[0m\n\u001b[1;32m      1\u001b[0m \u001b[0;32mfrom\u001b[0m \u001b[0mvisual_behavior\u001b[0m \u001b[0;32mimport\u001b[0m \u001b[0mdatabase\u001b[0m \u001b[0;32mas\u001b[0m \u001b[0mdb\u001b[0m\u001b[0;34m\u001b[0m\u001b[0;34m\u001b[0m\u001b[0m\n\u001b[0;32m----> 2\u001b[0;31m \u001b[0;32mfrom\u001b[0m \u001b[0mvisual_behavior\u001b[0m\u001b[0;34m.\u001b[0m\u001b[0mvisualization\u001b[0m\u001b[0;34m.\u001b[0m\u001b[0mqc\u001b[0m \u001b[0;32mimport\u001b[0m \u001b[0mloading\u001b[0m \u001b[0;32mas\u001b[0m \u001b[0mdl\u001b[0m\u001b[0;34m\u001b[0m\u001b[0;34m\u001b[0m\u001b[0m\n\u001b[0m",
      "\u001b[0;31mImportError\u001b[0m: cannot import name 'loading' from 'visual_behavior.visualization.qc' (/home/dougo/Code/visual_behavior_analysis/visual_behavior/visualization/qc/__init__.py)"
     ]
    }
   ],
   "source": [
    "from visual_behavior import database as db\n",
    "from visual_behavior.visualization.qc import dataloading as dl"
   ]
  },
  {
   "cell_type": "code",
   "execution_count": null,
   "metadata": {},
   "outputs": [],
   "source": [
    "%widescreen\n",
    "%standard_imports"
   ]
  },
  {
   "cell_type": "code",
   "execution_count": null,
   "metadata": {},
   "outputs": [],
   "source": [
    "vb = db.Database('visual_behavior_data')"
   ]
  },
  {
   "cell_type": "code",
   "execution_count": null,
   "metadata": {},
   "outputs": [],
   "source": [
    "summary = db.get_behavior_session_summary()\n",
    "id_map = pd.DataFrame([{'mouse_id':mouse_id, 'specimen_id':db.get_specimen_id_from_labtracks_id(mouse_id, show_warnings=False)} for mouse_id in summary['mouse_id'].unique()])\n",
    "summary = summary.merge(id_map, left_on='mouse_id', right_on='mouse_id', how='left')\n",
    "summary.sample(5)"
   ]
  },
  {
   "cell_type": "code",
   "execution_count": null,
   "metadata": {},
   "outputs": [],
   "source": [
    "cache = dl.get_qc_cache()\n",
    "experiments = cache.get_experiment_table()"
   ]
  },
  {
   "cell_type": "code",
   "execution_count": null,
   "metadata": {},
   "outputs": [],
   "source": [
    "experiments['specimen_id'].unique()"
   ]
  },
  {
   "cell_type": "code",
   "execution_count": null,
   "metadata": {},
   "outputs": [],
   "source": [
    "production_behavior_sessions = summary[summary['specimen_id'].isin(experiments['specimen_id'].unique())].drop(columns=['_id']).sort_values(by=['mouse_id', 'startdatetime']).reset_index(drop=True)\n",
    "production_behavior_sessions.sample(10)"
   ]
  },
  {
   "cell_type": "code",
   "execution_count": null,
   "metadata": {},
   "outputs": [],
   "source": [
    "production_behavior_sessions.to_csv('/allen/programs/braintv/workgroups/nc-ophys/visual_behavior/production_behavior_sessions.2020.04.08.csv', index=False)"
   ]
  },
  {
   "cell_type": "code",
   "execution_count": null,
   "metadata": {},
   "outputs": [],
   "source": []
  }
 ],
 "metadata": {
  "kernelspec": {
   "display_name": "visual_behavior",
   "language": "python",
   "name": "visual_behavior"
  },
  "language_info": {
   "codemirror_mode": {
    "name": "ipython",
    "version": 3
   },
   "file_extension": ".py",
   "mimetype": "text/x-python",
   "name": "python",
   "nbconvert_exporter": "python",
   "pygments_lexer": "ipython3",
   "version": "3.7.3"
  }
 },
 "nbformat": 4,
 "nbformat_minor": 4
}
