{
 "cells": [
  {
   "cell_type": "code",
   "execution_count": 3,
   "metadata": {},
   "outputs": [
    {
     "data": {
      "text/html": [
       "<style>.container { width:100% !important; }</style>"
      ],
      "text/plain": [
       "<IPython.core.display.HTML object>"
      ]
     },
     "metadata": {},
     "output_type": "display_data"
    }
   ],
   "source": [
    "import pandas as pd\n",
    "%widescreen"
   ]
  },
  {
   "cell_type": "code",
   "execution_count": 4,
   "metadata": {},
   "outputs": [],
   "source": [
    "path = '//allen/programs/braintv/workgroups/nc-ophys/visual_behavior/2020_cache/production_cache_old/behavior_analysis_log.csv'\n",
    "key_name = 'behavior_session_id'"
   ]
  },
  {
   "cell_type": "code",
   "execution_count": 55,
   "metadata": {},
   "outputs": [],
   "source": [
    "record = pd.read_csv(path, index_col=key_name) #.to_dict(orient=\"index\")"
   ]
  },
  {
   "cell_type": "code",
   "execution_count": 56,
   "metadata": {},
   "outputs": [
    {
     "data": {
      "text/plain": [
       "False"
      ]
     },
     "execution_count": 56,
     "metadata": {},
     "output_type": "execute_result"
    }
   ],
   "source": [
    "1015170268 in record.index.values"
   ]
  },
  {
   "cell_type": "code",
   "execution_count": 58,
   "metadata": {},
   "outputs": [],
   "source": [
    "record.to_csv('temp.csv')"
   ]
  },
  {
   "cell_type": "code",
   "execution_count": 28,
   "metadata": {},
   "outputs": [
    {
     "data": {
      "text/plain": [
       "True"
      ]
     },
     "execution_count": 28,
     "metadata": {},
     "output_type": "execute_result"
    }
   ],
   "source": [
    "912570298 in record.index"
   ]
  },
  {
   "cell_type": "code",
   "execution_count": 29,
   "metadata": {},
   "outputs": [],
   "source": [
    "import time"
   ]
  },
  {
   "cell_type": "code",
   "execution_count": 32,
   "metadata": {},
   "outputs": [],
   "source": [
    "key_value = 1015170268\n",
    "now = round(time.time())\n",
    "keys = [key_name, \"created_at\", \"updated_at\"]\n",
    "values = [key_value, now, now]"
   ]
  },
  {
   "cell_type": "code",
   "execution_count": 33,
   "metadata": {},
   "outputs": [
    {
     "data": {
      "text/plain": [
       "[1015170268, 1586799611, 1586799611]"
      ]
     },
     "execution_count": 33,
     "metadata": {},
     "output_type": "execute_result"
    }
   ],
   "source": [
    "values"
   ]
  },
  {
   "cell_type": "code",
   "execution_count": 34,
   "metadata": {},
   "outputs": [
    {
     "data": {
      "text/plain": [
       "{1015170268: {'created_at': 1586799611, 'updated_at': 1586799611}}"
      ]
     },
     "execution_count": 34,
     "metadata": {},
     "output_type": "execute_result"
    }
   ],
   "source": [
    "{key_value: dict(zip(keys[1:], values[1:]))}"
   ]
  },
  {
   "cell_type": "code",
   "execution_count": 37,
   "metadata": {},
   "outputs": [
    {
     "data": {
      "text/html": [
       "<div>\n",
       "<style scoped>\n",
       "    .dataframe tbody tr th:only-of-type {\n",
       "        vertical-align: middle;\n",
       "    }\n",
       "\n",
       "    .dataframe tbody tr th {\n",
       "        vertical-align: top;\n",
       "    }\n",
       "\n",
       "    .dataframe thead th {\n",
       "        text-align: right;\n",
       "    }\n",
       "</style>\n",
       "<table border=\"1\" class=\"dataframe\">\n",
       "  <thead>\n",
       "    <tr style=\"text-align: right;\">\n",
       "      <th></th>\n",
       "      <th>created_at</th>\n",
       "      <th>updated_at</th>\n",
       "    </tr>\n",
       "  </thead>\n",
       "  <tbody>\n",
       "    <tr>\n",
       "      <th>1015170268</th>\n",
       "      <td>1586799611</td>\n",
       "      <td>1586799611</td>\n",
       "    </tr>\n",
       "  </tbody>\n",
       "</table>\n",
       "</div>"
      ],
      "text/plain": [
       "            created_at  updated_at\n",
       "1015170268  1586799611  1586799611"
      ]
     },
     "execution_count": 37,
     "metadata": {},
     "output_type": "execute_result"
    }
   ],
   "source": [
    "pd.DataFrame.from_dict({key_value: dict(zip(keys[1:], values[1:]))}, orient=\"index\")"
   ]
  },
  {
   "cell_type": "code",
   "execution_count": 39,
   "metadata": {},
   "outputs": [],
   "source": [
    "temp = pd.concat([record, pd.DataFrame.from_dict({key_value: dict(zip(keys[1:], values[1:]))}, orient=\"index\")])"
   ]
  },
  {
   "cell_type": "code",
   "execution_count": 41,
   "metadata": {},
   "outputs": [
    {
     "data": {
      "text/plain": [
       "created_at    1.586800e+09\n",
       "updated_at    1.586800e+09\n",
       "Name: 1015170268.0, dtype: float64"
      ]
     },
     "execution_count": 41,
     "metadata": {},
     "output_type": "execute_result"
    }
   ],
   "source": [
    "temp.loc[key_value]"
   ]
  },
  {
   "cell_type": "code",
   "execution_count": 51,
   "metadata": {},
   "outputs": [],
   "source": [
    "record.loc[844004077,keys[1:]]  = values[1:]"
   ]
  },
  {
   "cell_type": "code",
   "execution_count": 47,
   "metadata": {},
   "outputs": [
    {
     "data": {
      "text/plain": [
       "['created_at', 'updated_at']"
      ]
     },
     "execution_count": 47,
     "metadata": {},
     "output_type": "execute_result"
    }
   ],
   "source": [
    "keys[1:]"
   ]
  },
  {
   "cell_type": "code",
   "execution_count": 52,
   "metadata": {},
   "outputs": [
    {
     "data": {
      "text/html": [
       "<div>\n",
       "<style scoped>\n",
       "    .dataframe tbody tr th:only-of-type {\n",
       "        vertical-align: middle;\n",
       "    }\n",
       "\n",
       "    .dataframe tbody tr th {\n",
       "        vertical-align: top;\n",
       "    }\n",
       "\n",
       "    .dataframe thead th {\n",
       "        text-align: right;\n",
       "    }\n",
       "</style>\n",
       "<table border=\"1\" class=\"dataframe\">\n",
       "  <thead>\n",
       "    <tr style=\"text-align: right;\">\n",
       "      <th></th>\n",
       "      <th>created_at</th>\n",
       "      <th>updated_at</th>\n",
       "    </tr>\n",
       "    <tr>\n",
       "      <th>behavior_session_id</th>\n",
       "      <th></th>\n",
       "      <th></th>\n",
       "    </tr>\n",
       "  </thead>\n",
       "  <tbody>\n",
       "    <tr>\n",
       "      <th>911128094.0</th>\n",
       "      <td>1.586473e+09</td>\n",
       "      <td>1.586475e+09</td>\n",
       "    </tr>\n",
       "    <tr>\n",
       "      <th>942562699.0</th>\n",
       "      <td>1.586473e+09</td>\n",
       "      <td>1.586568e+09</td>\n",
       "    </tr>\n",
       "    <tr>\n",
       "      <th>983472077.0</th>\n",
       "      <td>1.586476e+09</td>\n",
       "      <td>1.586476e+09</td>\n",
       "    </tr>\n",
       "    <tr>\n",
       "      <th>992440576.0</th>\n",
       "      <td>1.586477e+09</td>\n",
       "      <td>1.586574e+09</td>\n",
       "    </tr>\n",
       "    <tr>\n",
       "      <th>844004077.0</th>\n",
       "      <td>1.586800e+09</td>\n",
       "      <td>1.586800e+09</td>\n",
       "    </tr>\n",
       "    <tr>\n",
       "      <th>...</th>\n",
       "      <td>...</td>\n",
       "      <td>...</td>\n",
       "    </tr>\n",
       "    <tr>\n",
       "      <th>912570298.0</th>\n",
       "      <td>1.586584e+09</td>\n",
       "      <td>1.586584e+09</td>\n",
       "    </tr>\n",
       "    <tr>\n",
       "      <th>913091877.0</th>\n",
       "      <td>1.586584e+09</td>\n",
       "      <td>1.586584e+09</td>\n",
       "    </tr>\n",
       "    <tr>\n",
       "      <th>913677684.0</th>\n",
       "      <td>1.586584e+09</td>\n",
       "      <td>1.586584e+09</td>\n",
       "    </tr>\n",
       "    <tr>\n",
       "      <th>913677684.0</th>\n",
       "      <td>1.586584e+09</td>\n",
       "      <td>1.586584e+09</td>\n",
       "    </tr>\n",
       "    <tr>\n",
       "      <th>913677706.0</th>\n",
       "      <td>1.586584e+09</td>\n",
       "      <td>1.586584e+09</td>\n",
       "    </tr>\n",
       "  </tbody>\n",
       "</table>\n",
       "<p>317 rows × 2 columns</p>\n",
       "</div>"
      ],
      "text/plain": [
       "                       created_at    updated_at\n",
       "behavior_session_id                            \n",
       "911128094.0          1.586473e+09  1.586475e+09\n",
       "942562699.0          1.586473e+09  1.586568e+09\n",
       "983472077.0          1.586476e+09  1.586476e+09\n",
       "992440576.0          1.586477e+09  1.586574e+09\n",
       "844004077.0          1.586800e+09  1.586800e+09\n",
       "...                           ...           ...\n",
       "912570298.0          1.586584e+09  1.586584e+09\n",
       "913091877.0          1.586584e+09  1.586584e+09\n",
       "913677684.0          1.586584e+09  1.586584e+09\n",
       "913677684.0          1.586584e+09  1.586584e+09\n",
       "913677706.0          1.586584e+09  1.586584e+09\n",
       "\n",
       "[317 rows x 2 columns]"
      ]
     },
     "execution_count": 52,
     "metadata": {},
     "output_type": "execute_result"
    }
   ],
   "source": [
    "record"
   ]
  },
  {
   "cell_type": "code",
   "execution_count": null,
   "metadata": {},
   "outputs": [],
   "source": []
  }
 ],
 "metadata": {
  "kernelspec": {
   "display_name": "visual_behavior",
   "language": "python",
   "name": "visual_behavior"
  },
  "language_info": {
   "codemirror_mode": {
    "name": "ipython",
    "version": 3
   },
   "file_extension": ".py",
   "mimetype": "text/x-python",
   "name": "python",
   "nbconvert_exporter": "python",
   "pygments_lexer": "ipython3",
   "version": "3.7.3"
  }
 },
 "nbformat": 4,
 "nbformat_minor": 4
}
