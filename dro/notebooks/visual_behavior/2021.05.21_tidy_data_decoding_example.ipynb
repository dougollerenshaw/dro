{
 "cells": [
  {
   "cell_type": "code",
   "execution_count": 1,
   "metadata": {},
   "outputs": [],
   "source": [
    "from visual_behavior.data_access import loading, utilities\n",
    "import visual_behavior.utilities as vbu\n",
    "import pandas as pd\n",
    "import matplotlib.pyplot as plt\n",
    "import seaborn as sns\n",
    "import numpy as np"
   ]
  },
  {
   "cell_type": "markdown",
   "metadata": {},
   "source": [
    "## load the full stimulus table, then view details for a single experiment"
   ]
  },
  {
   "cell_type": "code",
   "execution_count": 2,
   "metadata": {},
   "outputs": [
    {
     "data": {
      "text/plain": [
       "array(['Sst-IRES-Cre', 'Vip-IRES-Cre', 'Slc17a7-IRES2-Cre'], dtype=object)"
      ]
     },
     "execution_count": 2,
     "metadata": {},
     "output_type": "execute_result"
    }
   ],
   "source": [
    "et = loading.get_filtered_ophys_experiment_table(release_data_only=True)\n",
    "et['cre_line'].unique()"
   ]
  },
  {
   "cell_type": "code",
   "execution_count": 3,
   "metadata": {},
   "outputs": [],
   "source": [
    "oeid= et.query('cre_line == \"Slc17a7-IRES2-Cre\" and session_type == \"OPHYS_4_images_B\"').sample(random_state=0).index[0]"
   ]
  },
  {
   "cell_type": "code",
   "execution_count": 4,
   "metadata": {},
   "outputs": [
    {
     "data": {
      "text/plain": [
       "equipment_name                                                                MESO.1\n",
       "full_genotype                      Slc17a7-IRES2-Cre/wt;Camk2a-tTA/wt;Ai93(TITL-G...\n",
       "mouse_id                                                                      484627\n",
       "reporter_line                                                     Ai93(TITL-GCaMP6f)\n",
       "driver_line                                          [Slc17a7-IRES2-Cre, Camk2a-tTA]\n",
       "sex                                                                                M\n",
       "age_in_days                                                                      113\n",
       "cre_line                                                           Slc17a7-IRES2-Cre\n",
       "indicator                                                                    GCaMP6f\n",
       "session_number                                                                     4\n",
       "prior_exposures_to_session_type                                                    0\n",
       "prior_exposures_to_image_set                                                       0\n",
       "prior_exposures_to_omissions                                                       3\n",
       "ophys_session_id                                                           973701907\n",
       "behavior_session_id                                                        973744975\n",
       "ophys_container_id                                                        1018027831\n",
       "project_code                                                VisualBehaviorMultiscope\n",
       "imaging_depth                                                                    371\n",
       "targeted_structure                                                              VISp\n",
       "date_of_acquisition                                       2019-10-29 10:41:35.836194\n",
       "session_type                                                        OPHYS_4_images_B\n",
       "file_id                                                                   1085399697\n",
       "Name: 974358969, dtype: object"
      ]
     },
     "execution_count": 4,
     "metadata": {},
     "output_type": "execute_result"
    }
   ],
   "source": [
    "et.loc[oeid]"
   ]
  },
  {
   "cell_type": "markdown",
   "metadata": {},
   "source": [
    "## load a dataset object"
   ]
  },
  {
   "cell_type": "code",
   "execution_count": 5,
   "metadata": {},
   "outputs": [],
   "source": [
    "dataset = loading.get_ophys_dataset(oeid)"
   ]
  },
  {
   "cell_type": "markdown",
   "metadata": {},
   "source": [
    "## load the stimulus table"
   ]
  },
  {
   "cell_type": "code",
   "execution_count": 6,
   "metadata": {
    "scrolled": false
   },
   "outputs": [
    {
     "name": "stderr",
     "output_type": "stream",
     "text": [
      "/allen/programs/braintv/workgroups/nc-ophys/Doug/code/AllenSDK/allensdk/brain_observatory/sync_dataset.py:109: UserWarning: The loaded sync file contains the following deprecated line label keys: {'cam1_exposure', 'cam2_exposure'}. Consider updating the sync file line labels.\n",
      "  self._check_line_labels()\n",
      "WARNING:root:Could not find valid lines for the following data sources\n",
      "WARNING:root:acquiring (valid line label(s) = ['2p_acquiring']\n"
     ]
    },
    {
     "data": {
      "text/html": [
       "<div>\n",
       "<style scoped>\n",
       "    .dataframe tbody tr th:only-of-type {\n",
       "        vertical-align: middle;\n",
       "    }\n",
       "\n",
       "    .dataframe tbody tr th {\n",
       "        vertical-align: top;\n",
       "    }\n",
       "\n",
       "    .dataframe thead th {\n",
       "        text-align: right;\n",
       "    }\n",
       "</style>\n",
       "<table border=\"1\" class=\"dataframe\">\n",
       "  <thead>\n",
       "    <tr style=\"text-align: right;\">\n",
       "      <th></th>\n",
       "      <th>duration</th>\n",
       "      <th>end_frame</th>\n",
       "      <th>image_index</th>\n",
       "      <th>image_name</th>\n",
       "      <th>image_set</th>\n",
       "      <th>index</th>\n",
       "      <th>is_change</th>\n",
       "      <th>omitted</th>\n",
       "      <th>start_frame</th>\n",
       "      <th>start_time</th>\n",
       "      <th>stop_time</th>\n",
       "    </tr>\n",
       "    <tr>\n",
       "      <th>stimulus_presentations_id</th>\n",
       "      <th></th>\n",
       "      <th></th>\n",
       "      <th></th>\n",
       "      <th></th>\n",
       "      <th></th>\n",
       "      <th></th>\n",
       "      <th></th>\n",
       "      <th></th>\n",
       "      <th></th>\n",
       "      <th></th>\n",
       "      <th></th>\n",
       "    </tr>\n",
       "  </thead>\n",
       "  <tbody>\n",
       "    <tr>\n",
       "      <th>0</th>\n",
       "      <td>0.25021</td>\n",
       "      <td>18001.0</td>\n",
       "      <td>0</td>\n",
       "      <td>im000</td>\n",
       "      <td>Natural_Images_Lum_Matched_set_ophys_6_2017.07.14</td>\n",
       "      <td>0</td>\n",
       "      <td>False</td>\n",
       "      <td>False</td>\n",
       "      <td>17986</td>\n",
       "      <td>308.57085</td>\n",
       "      <td>308.82106</td>\n",
       "    </tr>\n",
       "    <tr>\n",
       "      <th>1</th>\n",
       "      <td>0.25020</td>\n",
       "      <td>18046.0</td>\n",
       "      <td>0</td>\n",
       "      <td>im000</td>\n",
       "      <td>Natural_Images_Lum_Matched_set_ophys_6_2017.07.14</td>\n",
       "      <td>1</td>\n",
       "      <td>False</td>\n",
       "      <td>False</td>\n",
       "      <td>18031</td>\n",
       "      <td>309.32147</td>\n",
       "      <td>309.57167</td>\n",
       "    </tr>\n",
       "    <tr>\n",
       "      <th>2</th>\n",
       "      <td>0.25019</td>\n",
       "      <td>18091.0</td>\n",
       "      <td>0</td>\n",
       "      <td>im000</td>\n",
       "      <td>Natural_Images_Lum_Matched_set_ophys_6_2017.07.14</td>\n",
       "      <td>2</td>\n",
       "      <td>False</td>\n",
       "      <td>False</td>\n",
       "      <td>18076</td>\n",
       "      <td>310.07208</td>\n",
       "      <td>310.32227</td>\n",
       "    </tr>\n",
       "    <tr>\n",
       "      <th>3</th>\n",
       "      <td>0.25013</td>\n",
       "      <td>18136.0</td>\n",
       "      <td>0</td>\n",
       "      <td>im000</td>\n",
       "      <td>Natural_Images_Lum_Matched_set_ophys_6_2017.07.14</td>\n",
       "      <td>3</td>\n",
       "      <td>False</td>\n",
       "      <td>False</td>\n",
       "      <td>18121</td>\n",
       "      <td>310.82274</td>\n",
       "      <td>311.07287</td>\n",
       "    </tr>\n",
       "    <tr>\n",
       "      <th>4</th>\n",
       "      <td>0.25021</td>\n",
       "      <td>18181.0</td>\n",
       "      <td>0</td>\n",
       "      <td>im000</td>\n",
       "      <td>Natural_Images_Lum_Matched_set_ophys_6_2017.07.14</td>\n",
       "      <td>4</td>\n",
       "      <td>False</td>\n",
       "      <td>False</td>\n",
       "      <td>18166</td>\n",
       "      <td>311.57326</td>\n",
       "      <td>311.82347</td>\n",
       "    </tr>\n",
       "    <tr>\n",
       "      <th>5</th>\n",
       "      <td>0.25021</td>\n",
       "      <td>18226.0</td>\n",
       "      <td>0</td>\n",
       "      <td>im000</td>\n",
       "      <td>Natural_Images_Lum_Matched_set_ophys_6_2017.07.14</td>\n",
       "      <td>5</td>\n",
       "      <td>False</td>\n",
       "      <td>False</td>\n",
       "      <td>18211</td>\n",
       "      <td>312.32387</td>\n",
       "      <td>312.57408</td>\n",
       "    </tr>\n",
       "    <tr>\n",
       "      <th>6</th>\n",
       "      <td>0.25020</td>\n",
       "      <td>18271.0</td>\n",
       "      <td>0</td>\n",
       "      <td>im000</td>\n",
       "      <td>Natural_Images_Lum_Matched_set_ophys_6_2017.07.14</td>\n",
       "      <td>6</td>\n",
       "      <td>False</td>\n",
       "      <td>False</td>\n",
       "      <td>18256</td>\n",
       "      <td>313.07450</td>\n",
       "      <td>313.32470</td>\n",
       "    </tr>\n",
       "    <tr>\n",
       "      <th>7</th>\n",
       "      <td>0.25020</td>\n",
       "      <td>18316.0</td>\n",
       "      <td>0</td>\n",
       "      <td>im000</td>\n",
       "      <td>Natural_Images_Lum_Matched_set_ophys_6_2017.07.14</td>\n",
       "      <td>7</td>\n",
       "      <td>False</td>\n",
       "      <td>False</td>\n",
       "      <td>18301</td>\n",
       "      <td>313.82515</td>\n",
       "      <td>314.07535</td>\n",
       "    </tr>\n",
       "    <tr>\n",
       "      <th>8</th>\n",
       "      <td>NaN</td>\n",
       "      <td>NaN</td>\n",
       "      <td>8</td>\n",
       "      <td>omitted</td>\n",
       "      <td>omitted</td>\n",
       "      <td>0</td>\n",
       "      <td>False</td>\n",
       "      <td>True</td>\n",
       "      <td>18345</td>\n",
       "      <td>314.55904</td>\n",
       "      <td>NaN</td>\n",
       "    </tr>\n",
       "    <tr>\n",
       "      <th>9</th>\n",
       "      <td>0.25021</td>\n",
       "      <td>18406.0</td>\n",
       "      <td>0</td>\n",
       "      <td>im000</td>\n",
       "      <td>Natural_Images_Lum_Matched_set_ophys_6_2017.07.14</td>\n",
       "      <td>8</td>\n",
       "      <td>False</td>\n",
       "      <td>False</td>\n",
       "      <td>18391</td>\n",
       "      <td>315.32637</td>\n",
       "      <td>315.57658</td>\n",
       "    </tr>\n",
       "  </tbody>\n",
       "</table>\n",
       "</div>"
      ],
      "text/plain": [
       "                           duration  end_frame  image_index image_name  \\\n",
       "stimulus_presentations_id                                                \n",
       "0                           0.25021    18001.0            0      im000   \n",
       "1                           0.25020    18046.0            0      im000   \n",
       "2                           0.25019    18091.0            0      im000   \n",
       "3                           0.25013    18136.0            0      im000   \n",
       "4                           0.25021    18181.0            0      im000   \n",
       "5                           0.25021    18226.0            0      im000   \n",
       "6                           0.25020    18271.0            0      im000   \n",
       "7                           0.25020    18316.0            0      im000   \n",
       "8                               NaN        NaN            8    omitted   \n",
       "9                           0.25021    18406.0            0      im000   \n",
       "\n",
       "                                                                   image_set  \\\n",
       "stimulus_presentations_id                                                      \n",
       "0                          Natural_Images_Lum_Matched_set_ophys_6_2017.07.14   \n",
       "1                          Natural_Images_Lum_Matched_set_ophys_6_2017.07.14   \n",
       "2                          Natural_Images_Lum_Matched_set_ophys_6_2017.07.14   \n",
       "3                          Natural_Images_Lum_Matched_set_ophys_6_2017.07.14   \n",
       "4                          Natural_Images_Lum_Matched_set_ophys_6_2017.07.14   \n",
       "5                          Natural_Images_Lum_Matched_set_ophys_6_2017.07.14   \n",
       "6                          Natural_Images_Lum_Matched_set_ophys_6_2017.07.14   \n",
       "7                          Natural_Images_Lum_Matched_set_ophys_6_2017.07.14   \n",
       "8                                                                    omitted   \n",
       "9                          Natural_Images_Lum_Matched_set_ophys_6_2017.07.14   \n",
       "\n",
       "                           index  is_change  omitted  start_frame  start_time  \\\n",
       "stimulus_presentations_id                                                       \n",
       "0                              0      False    False        17986   308.57085   \n",
       "1                              1      False    False        18031   309.32147   \n",
       "2                              2      False    False        18076   310.07208   \n",
       "3                              3      False    False        18121   310.82274   \n",
       "4                              4      False    False        18166   311.57326   \n",
       "5                              5      False    False        18211   312.32387   \n",
       "6                              6      False    False        18256   313.07450   \n",
       "7                              7      False    False        18301   313.82515   \n",
       "8                              0      False     True        18345   314.55904   \n",
       "9                              8      False    False        18391   315.32637   \n",
       "\n",
       "                           stop_time  \n",
       "stimulus_presentations_id             \n",
       "0                          308.82106  \n",
       "1                          309.57167  \n",
       "2                          310.32227  \n",
       "3                          311.07287  \n",
       "4                          311.82347  \n",
       "5                          312.57408  \n",
       "6                          313.32470  \n",
       "7                          314.07535  \n",
       "8                                NaN  \n",
       "9                          315.57658  "
      ]
     },
     "execution_count": 6,
     "metadata": {},
     "output_type": "execute_result"
    }
   ],
   "source": [
    "stimulus_table = dataset.stimulus_presentations\n",
    "stimulus_table.head(10)"
   ]
  },
  {
   "cell_type": "markdown",
   "metadata": {},
   "source": [
    "## load a tidy dataframe of cell activity"
   ]
  },
  {
   "cell_type": "code",
   "execution_count": 7,
   "metadata": {
    "scrolled": false
   },
   "outputs": [
    {
     "name": "stderr",
     "output_type": "stream",
     "text": [
      "/allen/programs/braintv/workgroups/nc-ophys/Doug/code/AllenSDK/allensdk/brain_observatory/sync_dataset.py:109: UserWarning: The loaded sync file contains the following deprecated line label keys: {'cam1_exposure', 'cam2_exposure'}. Consider updating the sync file line labels.\n",
      "  self._check_line_labels()\n"
     ]
    },
    {
     "data": {
      "text/html": [
       "<div>\n",
       "<style scoped>\n",
       "    .dataframe tbody tr th:only-of-type {\n",
       "        vertical-align: middle;\n",
       "    }\n",
       "\n",
       "    .dataframe tbody tr th {\n",
       "        vertical-align: top;\n",
       "    }\n",
       "\n",
       "    .dataframe thead th {\n",
       "        text-align: right;\n",
       "    }\n",
       "</style>\n",
       "<table border=\"1\" class=\"dataframe\">\n",
       "  <thead>\n",
       "    <tr style=\"text-align: right;\">\n",
       "      <th></th>\n",
       "      <th>timestamps</th>\n",
       "      <th>cell_roi_id</th>\n",
       "      <th>cell_specimen_id</th>\n",
       "      <th>dff</th>\n",
       "      <th>events</th>\n",
       "      <th>filtered_events</th>\n",
       "    </tr>\n",
       "  </thead>\n",
       "  <tbody>\n",
       "    <tr>\n",
       "      <th>0</th>\n",
       "      <td>8.54249</td>\n",
       "      <td>1080730001</td>\n",
       "      <td>1086512421</td>\n",
       "      <td>0.276424</td>\n",
       "      <td>0.0</td>\n",
       "      <td>0.0</td>\n",
       "    </tr>\n",
       "    <tr>\n",
       "      <th>1</th>\n",
       "      <td>8.63569</td>\n",
       "      <td>1080730001</td>\n",
       "      <td>1086512421</td>\n",
       "      <td>0.477695</td>\n",
       "      <td>0.0</td>\n",
       "      <td>0.0</td>\n",
       "    </tr>\n",
       "    <tr>\n",
       "      <th>2</th>\n",
       "      <td>8.72890</td>\n",
       "      <td>1080730001</td>\n",
       "      <td>1086512421</td>\n",
       "      <td>0.229618</td>\n",
       "      <td>0.0</td>\n",
       "      <td>0.0</td>\n",
       "    </tr>\n",
       "    <tr>\n",
       "      <th>3</th>\n",
       "      <td>8.82210</td>\n",
       "      <td>1080730001</td>\n",
       "      <td>1086512421</td>\n",
       "      <td>0.008415</td>\n",
       "      <td>0.0</td>\n",
       "      <td>0.0</td>\n",
       "    </tr>\n",
       "    <tr>\n",
       "      <th>4</th>\n",
       "      <td>8.91531</td>\n",
       "      <td>1080730001</td>\n",
       "      <td>1086512421</td>\n",
       "      <td>-0.028617</td>\n",
       "      <td>0.0</td>\n",
       "      <td>0.0</td>\n",
       "    </tr>\n",
       "    <tr>\n",
       "      <th>...</th>\n",
       "      <td>...</td>\n",
       "      <td>...</td>\n",
       "      <td>...</td>\n",
       "      <td>...</td>\n",
       "      <td>...</td>\n",
       "      <td>...</td>\n",
       "    </tr>\n",
       "    <tr>\n",
       "      <th>4350505</th>\n",
       "      <td>4514.95184</td>\n",
       "      <td>1080731685</td>\n",
       "      <td>1086542408</td>\n",
       "      <td>0.112574</td>\n",
       "      <td>0.0</td>\n",
       "      <td>0.0</td>\n",
       "    </tr>\n",
       "    <tr>\n",
       "      <th>4350506</th>\n",
       "      <td>4515.04508</td>\n",
       "      <td>1080731685</td>\n",
       "      <td>1086542408</td>\n",
       "      <td>0.116418</td>\n",
       "      <td>0.0</td>\n",
       "      <td>0.0</td>\n",
       "    </tr>\n",
       "    <tr>\n",
       "      <th>4350507</th>\n",
       "      <td>4515.13831</td>\n",
       "      <td>1080731685</td>\n",
       "      <td>1086542408</td>\n",
       "      <td>0.100769</td>\n",
       "      <td>0.0</td>\n",
       "      <td>0.0</td>\n",
       "    </tr>\n",
       "    <tr>\n",
       "      <th>4350508</th>\n",
       "      <td>4515.23155</td>\n",
       "      <td>1080731685</td>\n",
       "      <td>1086542408</td>\n",
       "      <td>0.148043</td>\n",
       "      <td>0.0</td>\n",
       "      <td>0.0</td>\n",
       "    </tr>\n",
       "    <tr>\n",
       "      <th>4350509</th>\n",
       "      <td>4515.32479</td>\n",
       "      <td>1080731685</td>\n",
       "      <td>1086542408</td>\n",
       "      <td>0.354952</td>\n",
       "      <td>0.0</td>\n",
       "      <td>0.0</td>\n",
       "    </tr>\n",
       "  </tbody>\n",
       "</table>\n",
       "<p>4350510 rows × 6 columns</p>\n",
       "</div>"
      ],
      "text/plain": [
       "         timestamps  cell_roi_id  cell_specimen_id       dff  events  \\\n",
       "0           8.54249   1080730001        1086512421  0.276424     0.0   \n",
       "1           8.63569   1080730001        1086512421  0.477695     0.0   \n",
       "2           8.72890   1080730001        1086512421  0.229618     0.0   \n",
       "3           8.82210   1080730001        1086512421  0.008415     0.0   \n",
       "4           8.91531   1080730001        1086512421 -0.028617     0.0   \n",
       "...             ...          ...               ...       ...     ...   \n",
       "4350505  4514.95184   1080731685        1086542408  0.112574     0.0   \n",
       "4350506  4515.04508   1080731685        1086542408  0.116418     0.0   \n",
       "4350507  4515.13831   1080731685        1086542408  0.100769     0.0   \n",
       "4350508  4515.23155   1080731685        1086542408  0.148043     0.0   \n",
       "4350509  4515.32479   1080731685        1086542408  0.354952     0.0   \n",
       "\n",
       "         filtered_events  \n",
       "0                    0.0  \n",
       "1                    0.0  \n",
       "2                    0.0  \n",
       "3                    0.0  \n",
       "4                    0.0  \n",
       "...                  ...  \n",
       "4350505              0.0  \n",
       "4350506              0.0  \n",
       "4350507              0.0  \n",
       "4350508              0.0  \n",
       "4350509              0.0  \n",
       "\n",
       "[4350510 rows x 6 columns]"
      ]
     },
     "execution_count": 7,
     "metadata": {},
     "output_type": "execute_result"
    }
   ],
   "source": [
    "tidy_df = utilities.build_tidy_cell_df(dataset)\n",
    "tidy_df"
   ]
  },
  {
   "cell_type": "markdown",
   "metadata": {},
   "source": [
    "## make an event triggered average for a single cell relative to stimulus omissions"
   ]
  },
  {
   "cell_type": "code",
   "execution_count": 8,
   "metadata": {},
   "outputs": [
    {
     "data": {
      "text/html": [
       "<div>\n",
       "<style scoped>\n",
       "    .dataframe tbody tr th:only-of-type {\n",
       "        vertical-align: middle;\n",
       "    }\n",
       "\n",
       "    .dataframe tbody tr th {\n",
       "        vertical-align: top;\n",
       "    }\n",
       "\n",
       "    .dataframe thead th {\n",
       "        text-align: right;\n",
       "    }\n",
       "</style>\n",
       "<table border=\"1\" class=\"dataframe\">\n",
       "  <thead>\n",
       "    <tr style=\"text-align: right;\">\n",
       "      <th></th>\n",
       "      <th>time</th>\n",
       "      <th>dff</th>\n",
       "      <th>event_number</th>\n",
       "      <th>event_time</th>\n",
       "    </tr>\n",
       "  </thead>\n",
       "  <tbody>\n",
       "    <tr>\n",
       "      <th>0</th>\n",
       "      <td>-3.000000</td>\n",
       "      <td>0.078459</td>\n",
       "      <td>0</td>\n",
       "      <td>314.55904</td>\n",
       "    </tr>\n",
       "    <tr>\n",
       "      <th>1</th>\n",
       "      <td>-2.983333</td>\n",
       "      <td>0.078459</td>\n",
       "      <td>0</td>\n",
       "      <td>314.55904</td>\n",
       "    </tr>\n",
       "    <tr>\n",
       "      <th>2</th>\n",
       "      <td>-2.966667</td>\n",
       "      <td>0.078459</td>\n",
       "      <td>0</td>\n",
       "      <td>314.55904</td>\n",
       "    </tr>\n",
       "    <tr>\n",
       "      <th>3</th>\n",
       "      <td>-2.950000</td>\n",
       "      <td>0.078459</td>\n",
       "      <td>0</td>\n",
       "      <td>314.55904</td>\n",
       "    </tr>\n",
       "    <tr>\n",
       "      <th>4</th>\n",
       "      <td>-2.933333</td>\n",
       "      <td>0.074763</td>\n",
       "      <td>0</td>\n",
       "      <td>314.55904</td>\n",
       "    </tr>\n",
       "    <tr>\n",
       "      <th>...</th>\n",
       "      <td>...</td>\n",
       "      <td>...</td>\n",
       "      <td>...</td>\n",
       "      <td>...</td>\n",
       "    </tr>\n",
       "    <tr>\n",
       "      <th>65875</th>\n",
       "      <td>2.916667</td>\n",
       "      <td>0.041221</td>\n",
       "      <td>182</td>\n",
       "      <td>3908.3439</td>\n",
       "    </tr>\n",
       "    <tr>\n",
       "      <th>65876</th>\n",
       "      <td>2.933333</td>\n",
       "      <td>0.054843</td>\n",
       "      <td>182</td>\n",
       "      <td>3908.3439</td>\n",
       "    </tr>\n",
       "    <tr>\n",
       "      <th>65877</th>\n",
       "      <td>2.950000</td>\n",
       "      <td>0.068464</td>\n",
       "      <td>182</td>\n",
       "      <td>3908.3439</td>\n",
       "    </tr>\n",
       "    <tr>\n",
       "      <th>65878</th>\n",
       "      <td>2.966667</td>\n",
       "      <td>0.082086</td>\n",
       "      <td>182</td>\n",
       "      <td>3908.3439</td>\n",
       "    </tr>\n",
       "    <tr>\n",
       "      <th>65879</th>\n",
       "      <td>2.983333</td>\n",
       "      <td>0.095707</td>\n",
       "      <td>182</td>\n",
       "      <td>3908.3439</td>\n",
       "    </tr>\n",
       "  </tbody>\n",
       "</table>\n",
       "<p>65880 rows × 4 columns</p>\n",
       "</div>"
      ],
      "text/plain": [
       "           time       dff event_number event_time\n",
       "0     -3.000000  0.078459            0  314.55904\n",
       "1     -2.983333  0.078459            0  314.55904\n",
       "2     -2.966667  0.078459            0  314.55904\n",
       "3     -2.950000  0.078459            0  314.55904\n",
       "4     -2.933333  0.074763            0  314.55904\n",
       "...         ...       ...          ...        ...\n",
       "65875  2.916667  0.041221          182  3908.3439\n",
       "65876  2.933333  0.054843          182  3908.3439\n",
       "65877  2.950000  0.068464          182  3908.3439\n",
       "65878  2.966667  0.082086          182  3908.3439\n",
       "65879  2.983333  0.095707          182  3908.3439\n",
       "\n",
       "[65880 rows x 4 columns]"
      ]
     },
     "execution_count": 8,
     "metadata": {},
     "output_type": "execute_result"
    }
   ],
   "source": [
    "etr = vbu.event_triggered_response(\n",
    "    tidy_df.query('cell_specimen_id == 1086512421'),\n",
    "    parameter = 'dff',\n",
    "    event_times = stimulus_table.query('omitted')['start_time'],\n",
    "    t_before=3,\n",
    "    t_after=3,\n",
    ")\n",
    "etr"
   ]
  },
  {
   "cell_type": "markdown",
   "metadata": {},
   "source": [
    "## plot the event triggered average using seaborn lineplot"
   ]
  },
  {
   "cell_type": "code",
   "execution_count": 9,
   "metadata": {},
   "outputs": [
    {
     "data": {
      "text/plain": [
       "<AxesSubplot:xlabel='time', ylabel='dff'>"
      ]
     },
     "execution_count": 9,
     "metadata": {},
     "output_type": "execute_result"
    },
    {
     "data": {
      "image/png": "[encoded data removed]",
      "text/plain": [
       "<Figure size 432x288 with 1 Axes>"
      ]
     },
     "metadata": {
      "needs_background": "light"
     },
     "output_type": "display_data"
    }
   ],
   "source": [
    "sns.lineplot(\n",
    "    data=etr,\n",
    "    x='time',\n",
    "    y='dff',\n",
    "    n_boot=100\n",
    ")"
   ]
  },
  {
   "cell_type": "markdown",
   "metadata": {},
   "source": [
    "## make a simple function so that the above can be done in a single line"
   ]
  },
  {
   "cell_type": "code",
   "execution_count": 10,
   "metadata": {},
   "outputs": [],
   "source": [
    "def make_event_triggered_plot(df, x, y, event_query, ax, t_before=3, t_after=3):\n",
    "    etr = vbu.event_triggered_response(\n",
    "        df,\n",
    "        parameter = y,\n",
    "        event_times = stimulus_table.query(event_query)['start_time'],\n",
    "        t_before=t_before,\n",
    "        t_after=t_before,\n",
    "    )\n",
    "    sns.lineplot(\n",
    "        data=etr,\n",
    "        x=x,\n",
    "        y=y,\n",
    "        n_boot=100,\n",
    "        ax=ax\n",
    "    )"
   ]
  },
  {
   "cell_type": "markdown",
   "metadata": {},
   "source": [
    "## repeat for events instead of dff"
   ]
  },
  {
   "cell_type": "code",
   "execution_count": 11,
   "metadata": {},
   "outputs": [
    {
     "data": {
      "image/png": "[encoded data removed]",
      "text/plain": [
       "<Figure size 432x288 with 1 Axes>"
      ]
     },
     "metadata": {
      "needs_background": "light"
     },
     "output_type": "display_data"
    }
   ],
   "source": [
    "fig, ax = plt.subplots()\n",
    "make_event_triggered_plot(\n",
    "    df = tidy_df.query('cell_specimen_id == 1086512421'), \n",
    "    x = 'time', \n",
    "    y = 'filtered_events', \n",
    "    event_query = 'omitted', \n",
    "    ax=ax\n",
    ")"
   ]
  },
  {
   "cell_type": "markdown",
   "metadata": {},
   "source": [
    "## iterate through the first 10 individual cells and plot the omission triggered dff response"
   ]
  },
  {
   "cell_type": "code",
   "execution_count": 12,
   "metadata": {},
   "outputs": [
    {
     "data": {
      "text/plain": [
       "array([1086512421, 1086512180, 1086519523, 1086531274, 1086520978,\n",
       "       1086541701, 1086542234, 1086527247, 1086527059, 1086528066,\n",
       "       1086513171, 1086551231, 1086551328, 1086524022, 1086511343,\n",
       "       1086550091, 1086514955, 1086530481, 1086518618, 1086531005,\n",
       "       1086551629, 1086530720, 1086530205, 1086512733, 1086519109,\n",
       "       1086538596, 1086538367, 1086541438, 1086545592, 1086518873,\n",
       "       1086529064, 1086521178, 1086513935, 1086513389, 1086510641,\n",
       "       1086525885, 1086516031, 1086512917, 1086510432, 1086541992,\n",
       "       1086523645, 1086526878, 1086530045, 1086517198, 1086525333,\n",
       "       1086562416, 1086531431, 1086534633, 1086510069, 1086524619,\n",
       "       1086534872, 1086524868, 1086544475, 1086527684, 1086527491,\n",
       "       1086514461, 1086562733, 1086535267, 1086516567, 1086520100,\n",
       "       1086519261, 1086547441, 1086536456, 1086553084, 1086542951,\n",
       "       1086522252, 1086532140, 1086553184, 1086526678, 1086553501,\n",
       "       1086533064, 1086521945, 1086532704, 1086532395, 1086540196,\n",
       "       1086540894, 1086520249, 1086541231, 1086538851, 1086538012,\n",
       "       1086523182, 1086537791, 1086529558, 1086514733, 1086539378,\n",
       "       1086548837, 1086524291, 1086521834, 1086545084, 1086542408])"
      ]
     },
     "execution_count": 12,
     "metadata": {},
     "output_type": "execute_result"
    }
   ],
   "source": [
    "csids = tidy_df['cell_specimen_id'].unique()\n",
    "csids"
   ]
  },
  {
   "cell_type": "code",
   "execution_count": 13,
   "metadata": {},
   "outputs": [
    {
     "data": {
      "image/png": "[encoded data removed]",
      "text/plain": [
       "<Figure size 432x288 with 1 Axes>"
      ]
     },
     "metadata": {
      "needs_background": "light"
     },
     "output_type": "display_data"
    }
   ],
   "source": [
    "fig, ax = plt.subplots()\n",
    "\n",
    "for csid in csids[:10]:\n",
    "    make_event_triggered_plot(\n",
    "        df = tidy_df.query('cell_specimen_id == @csid'), \n",
    "        x = 'time', \n",
    "        y = 'dff', \n",
    "        event_query = 'omitted', \n",
    "        ax=ax\n",
    "    )"
   ]
  },
  {
   "cell_type": "markdown",
   "metadata": {},
   "source": [
    "## a quick decoding demo\n",
    "Can we train a decoder to identify the image identity from dff or event activity?"
   ]
  },
  {
   "cell_type": "code",
   "execution_count": 14,
   "metadata": {},
   "outputs": [],
   "source": [
    "from sklearn.model_selection import train_test_split\n",
    "from sklearn import svm\n",
    "from sklearn.metrics import confusion_matrix, accuracy_score"
   ]
  },
  {
   "cell_type": "markdown",
   "metadata": {},
   "source": [
    "#### First we're going to build a new tidy dataframe with one row for each stimulus presentation, cell identity and timestep relative to the stimulus\n",
    "Note that for every distinct stimulus we are only going to gather responses from the stimulus onset time to 0.75 seconds after the stimulus onset.  \n",
    "\n",
    "Also note that we are only looking at the first presentation of every stimulus after the change. That dramatically cuts down on the amount of data we have access to and speeds model fitting. "
   ]
  },
  {
   "cell_type": "code",
   "execution_count": 15,
   "metadata": {},
   "outputs": [
    {
     "name": "stdout",
     "output_type": "stream",
     "text": [
      "on image_name im106, cell 1086542408\r"
     ]
    }
   ],
   "source": [
    "# get all unique images, excluding the omissions\n",
    "image_identities = [im for im in np.sort(stimulus_table['image_name'].unique()) if im != 'omitted']\n",
    "\n",
    "# set up an empty list that will contain all event triggered responses\n",
    "full_etr = []\n",
    "\n",
    "# iterate over every image and cell\n",
    "for image_index, image_identity in enumerate(image_identities):\n",
    "    for csid in tidy_df['cell_specimen_id'].unique():\n",
    "        \n",
    "        # a print statement to track progress\n",
    "        print('on image_name {}, cell {}'.format(image_identity, csid), end = '\\r')\n",
    "        \n",
    "        # get the event triggered response for all presentations of this image for this cell\n",
    "        etr = vbu.event_triggered_response(\n",
    "            tidy_df.query('cell_specimen_id == @csid'),\n",
    "            parameter = 'dff',\n",
    "            event_times = stimulus_table.query('image_name == @image_identity and is_change')['start_time'],\n",
    "            t_before = 0,\n",
    "            t_after = 0.75\n",
    "        )\n",
    "        \n",
    "        # append to the list\n",
    "        full_etr.append(etr)\n",
    "\n",
    "        # add a column with the cell_id and the image_identity\n",
    "        full_etr[-1]['cell_specimen_id'] = csid\n",
    "        full_etr[-1]['image_index'] = image_index\n",
    "        full_etr[-1]['image_name'] = image_identity\n",
    "                \n",
    "# concatenate all dataframes into a single dataframe\n",
    "full_etr = pd.concat(full_etr)"
   ]
  },
  {
   "cell_type": "markdown",
   "metadata": {},
   "source": [
    "## now we have one big dataframe with responses for all cells to the presentation of every image\n",
    "\n",
    "\n",
    "## Next, we can train a simple Support Vector Machine decoder to try to identify the image based on the vectors of df/f responses that we just built"
   ]
  },
  {
   "cell_type": "code",
   "execution_count": 16,
   "metadata": {},
   "outputs": [],
   "source": [
    "def run_svm(cell_list, etr):\n",
    "\n",
    "    image_identities = [im for im in np.sort(etr['image_name'].unique()) if im != 'omitted']\n",
    "\n",
    "    # set up empty lists of X and y values\n",
    "    X = []\n",
    "    y = []\n",
    "    # iterate over every image\n",
    "    for image_index, image_identity in enumerate(image_identities):\n",
    "        # get the event triggered response for this image for all desired cells\n",
    "        etr_this_image = etr.query('cell_specimen_id in @cell_list and image_name == @image_identity')\n",
    "        \n",
    "        # now iterate over every presentation of this image\n",
    "        for event_number in etr_this_image['event_number'].unique():\n",
    "            # append the vector of responses to X\n",
    "            X.append(etr_this_image.query('event_number == @event_number')['dff'].values)\n",
    "            # and append the image index to y\n",
    "            y.append(image_index)\n",
    "\n",
    "    # Now split into train/test\n",
    "    X_train, X_test, y_train, y_test = train_test_split(X, y, test_size=0.33, random_state=42)\n",
    "\n",
    "    # instantiate our model\n",
    "    model = svm.SVC(probability=True)\n",
    "    \n",
    "    # fit our model\n",
    "    model.fit(X_train, y_train)\n",
    "\n",
    "    # get predictions on the test data\n",
    "    y_pred = model.predict(X_test)\n",
    "\n",
    "    # save out the confusion matrix and accuracy\n",
    "    result = {}\n",
    "    result['confusion_matrix'] = confusion_matrix(y_test, y_pred)\n",
    "    result['accuracy'] = accuracy_score(y_test, y_pred)\n",
    "\n",
    "    return model, result"
   ]
  },
  {
   "cell_type": "markdown",
   "metadata": {},
   "source": [
    "### Now run the model for each cell individually. This tells us how accurate any given cell is at decoding _all_ images."
   ]
  },
  {
   "cell_type": "code",
   "execution_count": 17,
   "metadata": {},
   "outputs": [
    {
     "name": "stdout",
     "output_type": "stream",
     "text": [
      "on cell 1086542408\r"
     ]
    }
   ],
   "source": [
    "cells = {}\n",
    "for csid in tidy_df['cell_specimen_id'].unique():\n",
    "    cells[csid] = {}\n",
    "    print('on cell {}'.format(csid), end = '\\r')\n",
    "    \n",
    "    cell_list = [csid]\n",
    "    \n",
    "    model, res = run_svm(cell_list, full_etr)\n",
    "    \n",
    "    cells[csid]['confusion_matrix'] = res['confusion_matrix']\n",
    "    cells[csid]['accuracy'] = float(res['accuracy'])"
   ]
  },
  {
   "cell_type": "markdown",
   "metadata": {},
   "source": [
    "### Organize results into a dataframe"
   ]
  },
  {
   "cell_type": "code",
   "execution_count": 18,
   "metadata": {},
   "outputs": [
    {
     "data": {
      "text/html": [
       "<div>\n",
       "<style scoped>\n",
       "    .dataframe tbody tr th:only-of-type {\n",
       "        vertical-align: middle;\n",
       "    }\n",
       "\n",
       "    .dataframe tbody tr th {\n",
       "        vertical-align: top;\n",
       "    }\n",
       "\n",
       "    .dataframe thead th {\n",
       "        text-align: right;\n",
       "    }\n",
       "</style>\n",
       "<table border=\"1\" class=\"dataframe\">\n",
       "  <thead>\n",
       "    <tr style=\"text-align: right;\">\n",
       "      <th></th>\n",
       "      <th>confusion_matrix</th>\n",
       "      <th>accuracy</th>\n",
       "    </tr>\n",
       "    <tr>\n",
       "      <th>cell_specimen_id</th>\n",
       "      <th></th>\n",
       "      <th></th>\n",
       "    </tr>\n",
       "  </thead>\n",
       "  <tbody>\n",
       "    <tr>\n",
       "      <th>1086512421</th>\n",
       "      <td>[[0, 5, 0, 2, 1, 2, 1, 2], [0, 4, 2, 2, 1, 1, ...</td>\n",
       "      <td>0.170213</td>\n",
       "    </tr>\n",
       "    <tr>\n",
       "      <th>1086512180</th>\n",
       "      <td>[[0, 2, 0, 1, 1, 3, 1, 5], [1, 10, 0, 1, 0, 0,...</td>\n",
       "      <td>0.244681</td>\n",
       "    </tr>\n",
       "    <tr>\n",
       "      <th>1086519523</th>\n",
       "      <td>[[4, 1, 1, 0, 3, 0, 1, 3], [2, 0, 1, 0, 4, 0, ...</td>\n",
       "      <td>0.212766</td>\n",
       "    </tr>\n",
       "    <tr>\n",
       "      <th>1086531274</th>\n",
       "      <td>[[3, 0, 0, 1, 1, 0, 2, 6], [2, 1, 1, 1, 1, 0, ...</td>\n",
       "      <td>0.180851</td>\n",
       "    </tr>\n",
       "    <tr>\n",
       "      <th>1086520978</th>\n",
       "      <td>[[1, 2, 1, 2, 0, 0, 5, 2], [0, 4, 0, 1, 4, 0, ...</td>\n",
       "      <td>0.180851</td>\n",
       "    </tr>\n",
       "    <tr>\n",
       "      <th>...</th>\n",
       "      <td>...</td>\n",
       "      <td>...</td>\n",
       "    </tr>\n",
       "    <tr>\n",
       "      <th>1086548837</th>\n",
       "      <td>[[1, 1, 0, 1, 2, 1, 5, 2], [1, 5, 1, 1, 0, 0, ...</td>\n",
       "      <td>0.212766</td>\n",
       "    </tr>\n",
       "    <tr>\n",
       "      <th>1086524291</th>\n",
       "      <td>[[2, 4, 1, 1, 1, 0, 2, 2], [0, 4, 0, 0, 3, 0, ...</td>\n",
       "      <td>0.234043</td>\n",
       "    </tr>\n",
       "    <tr>\n",
       "      <th>1086521834</th>\n",
       "      <td>[[1, 1, 2, 3, 0, 3, 2, 1], [1, 1, 3, 1, 1, 0, ...</td>\n",
       "      <td>0.117021</td>\n",
       "    </tr>\n",
       "    <tr>\n",
       "      <th>1086545084</th>\n",
       "      <td>[[1, 1, 1, 1, 5, 0, 0, 4], [0, 2, 3, 0, 1, 0, ...</td>\n",
       "      <td>0.159574</td>\n",
       "    </tr>\n",
       "    <tr>\n",
       "      <th>1086542408</th>\n",
       "      <td>[[1, 0, 1, 4, 1, 2, 2, 2], [0, 2, 2, 2, 4, 0, ...</td>\n",
       "      <td>0.159574</td>\n",
       "    </tr>\n",
       "  </tbody>\n",
       "</table>\n",
       "<p>90 rows × 2 columns</p>\n",
       "</div>"
      ],
      "text/plain": [
       "                                                   confusion_matrix  accuracy\n",
       "cell_specimen_id                                                             \n",
       "1086512421        [[0, 5, 0, 2, 1, 2, 1, 2], [0, 4, 2, 2, 1, 1, ...  0.170213\n",
       "1086512180        [[0, 2, 0, 1, 1, 3, 1, 5], [1, 10, 0, 1, 0, 0,...  0.244681\n",
       "1086519523        [[4, 1, 1, 0, 3, 0, 1, 3], [2, 0, 1, 0, 4, 0, ...  0.212766\n",
       "1086531274        [[3, 0, 0, 1, 1, 0, 2, 6], [2, 1, 1, 1, 1, 0, ...  0.180851\n",
       "1086520978        [[1, 2, 1, 2, 0, 0, 5, 2], [0, 4, 0, 1, 4, 0, ...  0.180851\n",
       "...                                                             ...       ...\n",
       "1086548837        [[1, 1, 0, 1, 2, 1, 5, 2], [1, 5, 1, 1, 0, 0, ...  0.212766\n",
       "1086524291        [[2, 4, 1, 1, 1, 0, 2, 2], [0, 4, 0, 0, 3, 0, ...  0.234043\n",
       "1086521834        [[1, 1, 2, 3, 0, 3, 2, 1], [1, 1, 3, 1, 1, 0, ...  0.117021\n",
       "1086545084        [[1, 1, 1, 1, 5, 0, 0, 4], [0, 2, 3, 0, 1, 0, ...  0.159574\n",
       "1086542408        [[1, 0, 1, 4, 1, 2, 2, 2], [0, 2, 2, 2, 4, 0, ...  0.159574\n",
       "\n",
       "[90 rows x 2 columns]"
      ]
     },
     "execution_count": 18,
     "metadata": {},
     "output_type": "execute_result"
    }
   ],
   "source": [
    "results_df = pd.DataFrame(cells).T\n",
    "results_df.index.name = 'cell_specimen_id'\n",
    "results_df"
   ]
  },
  {
   "cell_type": "markdown",
   "metadata": {},
   "source": [
    "### and look at our accuracy results.\n",
    "Average performance of just under 17% - barely above chance, which would be 12.5% (1/8)\n",
    "The best cell gets 32% correct."
   ]
  },
  {
   "cell_type": "code",
   "execution_count": 19,
   "metadata": {},
   "outputs": [
    {
     "data": {
      "text/plain": [
       "count    90.000000\n",
       "mean      0.167730\n",
       "std       0.049567\n",
       "min       0.085106\n",
       "25%       0.127660\n",
       "50%       0.164894\n",
       "75%       0.199468\n",
       "max       0.329787\n",
       "Name: accuracy, dtype: float64"
      ]
     },
     "execution_count": 19,
     "metadata": {},
     "output_type": "execute_result"
    }
   ],
   "source": [
    "results_df['accuracy'].astype(float).describe()"
   ]
  },
  {
   "cell_type": "markdown",
   "metadata": {},
   "source": [
    "### Now run the decoder again, but give it access to the full population."
   ]
  },
  {
   "cell_type": "code",
   "execution_count": 20,
   "metadata": {},
   "outputs": [],
   "source": [
    "cell_list = list(full_etr['cell_specimen_id'].unique())\n",
    "    \n",
    "model, res = run_svm(cell_list, full_etr)"
   ]
  },
  {
   "cell_type": "markdown",
   "metadata": {},
   "source": [
    "### The full population does much better. Accuracy goes to 72%"
   ]
  },
  {
   "cell_type": "code",
   "execution_count": 21,
   "metadata": {},
   "outputs": [
    {
     "data": {
      "text/plain": [
       "0.723404255319149"
      ]
     },
     "execution_count": 21,
     "metadata": {},
     "output_type": "execute_result"
    }
   ],
   "source": [
    "res['accuracy']"
   ]
  },
  {
   "cell_type": "markdown",
   "metadata": {},
   "source": [
    "### And here's the confusion matrix. Diagonal components are correct classifications, off-diagionals are incorrect"
   ]
  },
  {
   "cell_type": "code",
   "execution_count": 22,
   "metadata": {},
   "outputs": [
    {
     "data": {
      "text/plain": [
       "array([[ 8,  0,  0,  0,  2,  0,  0,  3],\n",
       "       [ 0, 12,  0,  0,  0,  0,  0,  0],\n",
       "       [ 0,  0,  9,  1,  1,  0,  0,  1],\n",
       "       [ 1,  0,  2,  8,  1,  0,  0,  1],\n",
       "       [ 3,  0,  0,  0,  4,  0,  0,  3],\n",
       "       [ 3,  0,  0,  0,  2,  7,  0,  0],\n",
       "       [ 0,  0,  1,  0,  0,  0,  9,  0],\n",
       "       [ 0,  0,  1,  0,  0,  0,  0, 11]])"
      ]
     },
     "execution_count": 22,
     "metadata": {},
     "output_type": "execute_result"
    }
   ],
   "source": [
    "res['confusion_matrix']"
   ]
  },
  {
   "cell_type": "markdown",
   "metadata": {},
   "source": [
    "### what if we use _every_ image presentation, instead of just the first (change image)? We'll have dramatically more data, so things will be slower\n",
    "We'll first rebuilt the event_triggered_response dataframe to include every image presentation. This takes the better part of 10 minutes to run."
   ]
  },
  {
   "cell_type": "code",
   "execution_count": 23,
   "metadata": {},
   "outputs": [
    {
     "name": "stdout",
     "output_type": "stream",
     "text": [
      "on image_name im106, cell 1086542408\r"
     ]
    }
   ],
   "source": [
    "# get all unique images, excluding the omissions\n",
    "image_identities = [im for im in np.sort(stimulus_table['image_name'].unique()) if im != 'omitted']\n",
    "\n",
    "# set up an empty list that will contain all event triggered responses\n",
    "full_etr = []\n",
    "\n",
    "# iterate over every image and cell\n",
    "for image_index, image_identity in enumerate(image_identities):\n",
    "    for csid in tidy_df['cell_specimen_id'].unique():\n",
    "        \n",
    "        # a print statement to track progress\n",
    "        print('on image_name {}, cell {}'.format(image_identity, csid), end = '\\r')\n",
    "        \n",
    "        # get the event triggered response for all presentations of this image for this cell\n",
    "        etr = vbu.event_triggered_response(\n",
    "            tidy_df.query('cell_specimen_id == @csid'),\n",
    "            parameter = 'dff',\n",
    "            event_times = stimulus_table.query('image_name == @image_identity')['start_time'],\n",
    "            t_before = 0,\n",
    "            t_after = 0.75\n",
    "        )\n",
    "        \n",
    "        # append to the list\n",
    "        full_etr.append(etr)\n",
    "\n",
    "        # add a column with the cell_id and the image_identity\n",
    "        full_etr[-1]['cell_specimen_id'] = csid\n",
    "        full_etr[-1]['image_index'] = image_index\n",
    "        full_etr[-1]['image_name'] = image_identity\n",
    "                \n",
    "# concatenate all dataframes into a single dataframe\n",
    "full_etr = pd.concat(full_etr)"
   ]
  },
  {
   "cell_type": "markdown",
   "metadata": {},
   "source": [
    "### Now we can see how are previous best cell, which had ~33% accuracy, does on all images, rather than just the changes."
   ]
  },
  {
   "cell_type": "code",
   "execution_count": 26,
   "metadata": {},
   "outputs": [
    {
     "data": {
      "text/plain": [
       "1086545592"
      ]
     },
     "execution_count": 26,
     "metadata": {},
     "output_type": "execute_result"
    }
   ],
   "source": [
    "previous_best_cell = results_df[results_df['accuracy'] == results_df['accuracy'].max()].index[0]\n",
    "previous_best_cell"
   ]
  },
  {
   "cell_type": "markdown",
   "metadata": {},
   "source": [
    "Accuracy has actually fallen to ~25% for this cell"
   ]
  },
  {
   "cell_type": "code",
   "execution_count": 27,
   "metadata": {},
   "outputs": [
    {
     "data": {
      "text/plain": [
       "0.2544262295081967"
      ]
     },
     "execution_count": 27,
     "metadata": {},
     "output_type": "execute_result"
    }
   ],
   "source": [
    "model, res = run_svm([previous_best_cell], full_etr)\n",
    "res['accuracy']"
   ]
  },
  {
   "cell_type": "markdown",
   "metadata": {},
   "source": [
    "The confusion matrix shows that we're actually able to do very well at decoding image 7 with this cell (lower/right value), but many of the other images cannot be decoded using this cell's activity alone."
   ]
  },
  {
   "cell_type": "code",
   "execution_count": 28,
   "metadata": {},
   "outputs": [
    {
     "data": {
      "text/plain": [
       "array([[ 44,  76,   1,  71,   6,   1,  17,   4],\n",
       "       [ 41,  75,   0,  77,   8,   1,  18,   8],\n",
       "       [ 29,  66,   0,  50,   3,   3,  16,   7],\n",
       "       [ 44,  62,   3,  80,   5,   3,  17,   5],\n",
       "       [ 21,  47,   1,  62,  10,   3,  12,   7],\n",
       "       [ 25,  32,   3,  43,   7,   2,   8,   8],\n",
       "       [ 19,  26,   2,  47,   8,   0,  35,  41],\n",
       "       [ 14,  10,   0,  12,   5,   5,  27, 142]])"
      ]
     },
     "execution_count": 28,
     "metadata": {},
     "output_type": "execute_result"
    }
   ],
   "source": [
    "res['confusion_matrix']"
   ]
  },
  {
   "cell_type": "markdown",
   "metadata": {},
   "source": [
    "### And what about the full population?\n",
    "Again, this is a bit slow because the volume of data is now quite large. There is a lot of data for the model to fit."
   ]
  },
  {
   "cell_type": "code",
   "execution_count": 29,
   "metadata": {},
   "outputs": [],
   "source": [
    "cell_list = list(full_etr['cell_specimen_id'].unique())\n",
    "    \n",
    "model, res = run_svm(cell_list, full_etr)"
   ]
  },
  {
   "cell_type": "markdown",
   "metadata": {},
   "source": [
    "Accuracy goes up to 87%!"
   ]
  },
  {
   "cell_type": "code",
   "execution_count": 30,
   "metadata": {},
   "outputs": [
    {
     "data": {
      "text/plain": [
       "0.8740983606557376"
      ]
     },
     "execution_count": 30,
     "metadata": {},
     "output_type": "execute_result"
    }
   ],
   "source": [
    "res['accuracy']"
   ]
  },
  {
   "cell_type": "markdown",
   "metadata": {},
   "source": [
    "And the confusion matrix shows that all individual images can be decoded with reasonable accuracy (all diagonal elements are large)"
   ]
  },
  {
   "cell_type": "code",
   "execution_count": 31,
   "metadata": {},
   "outputs": [
    {
     "data": {
      "text/plain": [
       "array([[186,   0,   2,  13,   9,   7,   1,   2],\n",
       "       [  6, 213,   0,   4,   1,   0,   0,   4],\n",
       "       [ 12,   0, 139,  19,   2,   1,   0,   1],\n",
       "       [  8,   0,   1, 200,   1,   1,   0,   8],\n",
       "       [ 11,   0,   1,   3, 136,   8,   1,   3],\n",
       "       [ 12,   0,   7,   3,   6,  95,   1,   4],\n",
       "       [  2,   0,   3,   1,   0,   2, 168,   2],\n",
       "       [  5,   0,   1,  10,   2,   1,   0, 196]])"
      ]
     },
     "execution_count": 31,
     "metadata": {},
     "output_type": "execute_result"
    }
   ],
   "source": [
    "res['confusion_matrix']"
   ]
  },
  {
   "cell_type": "code",
   "execution_count": null,
   "metadata": {},
   "outputs": [],
   "source": []
  }
 ],
 "metadata": {
  "kernelspec": {
   "display_name": "vba",
   "language": "python",
   "name": "vba"
  },
  "language_info": {
   "codemirror_mode": {
    "name": "ipython",
    "version": 3
   },
   "file_extension": ".py",
   "mimetype": "text/x-python",
   "name": "python",
   "nbconvert_exporter": "python",
   "pygments_lexer": "ipython3",
   "version": "3.8.8"
  }
 },
 "nbformat": 4,
 "nbformat_minor": 4
}
