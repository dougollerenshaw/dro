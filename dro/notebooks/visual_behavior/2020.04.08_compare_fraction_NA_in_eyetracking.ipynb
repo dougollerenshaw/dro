{
 "cells": [
  {
   "cell_type": "code",
   "execution_count": 44,
   "metadata": {},
   "outputs": [
    {
     "data": {
      "text/html": [
       "<style>.container { width:100% !important; }</style>"
      ],
      "text/plain": [
       "<IPython.core.display.HTML object>"
      ]
     },
     "metadata": {},
     "output_type": "display_data"
    },
    {
     "name": "stdout",
     "output_type": "stream",
     "text": [
      "imported:\n",
      "\tos\n",
      "\tpandas as pd\n",
      "\tnumpy as np\n",
      "\tmatplotlib.pyplot as plt\n"
     ]
    }
   ],
   "source": [
    "from visual_behavior.utilities import EyeTrackingData\n",
    "import visual_behavior.database as db\n",
    "import time\n",
    "from multiprocessing import Pool\n",
    "\n",
    "%widescreen\n",
    "%standard_imports\n",
    "%matplotlib notebook"
   ]
  },
  {
   "cell_type": "markdown",
   "metadata": {},
   "source": [
    "## custom functions"
   ]
  },
  {
   "cell_type": "code",
   "execution_count": 38,
   "metadata": {},
   "outputs": [],
   "source": [
    "def get_eye_data_fraction_na(ophys_experiment_id):\n",
    "    '''get fraction of rows = NA in eye tracking object'''\n",
    "    ophys_session_id = db.convert_id({'ophys_experiment_id':ophys_experiment_id}, 'ophys_session_id')\n",
    "    eye_data = EyeTrackingData(ophys_session_id)\n",
    "    return eye_data.ellipse_fits['pupil']['area'].isna().mean()"
   ]
  },
  {
   "cell_type": "code",
   "execution_count": 39,
   "metadata": {},
   "outputs": [],
   "source": [
    "def get_ellipse_fit_fraction_na(ophys_experiment_id):\n",
    "    '''get fraction of rows = NA in ellipse fit file'''\n",
    "    ophys_session_id = db.convert_id({'ophys_experiment_id':ophys_experiment_id}, 'ophys_session_id')\n",
    "    well_known_files = db.get_well_known_files(ophys_session_id).set_index('name')\n",
    "    eye_tracking_ellipses_entry = well_known_files.loc['EyeTracking Ellipses']\n",
    "    eye_tracking_ellipses_path = ''.join([eye_tracking_ellipses_entry['storage_directory'], eye_tracking_ellipses_entry['filename']])\n",
    "    eye_tracking_ellipses = pd.read_hdf(eye_tracking_ellipses_path, key = '/pupil')\n",
    "    return eye_tracking_ellipses['center_x'].isna().mean()"
   ]
  },
  {
   "cell_type": "code",
   "execution_count": 43,
   "metadata": {},
   "outputs": [],
   "source": [
    "def get_both_fractions(ophys_experiment_id):\n",
    "    print('on {}'.format(ophys_experiment_id))\n",
    "    t0 = time.time()\n",
    "    ans = {\n",
    "        'ophys_experiment_id':ophys_experiment_id, \n",
    "        'fraction_na_in_processed_eye_data':get_eye_data_fraction_na(ophys_experiment_id),\n",
    "        'fraction_na_in_ellipse_fit_file':get_ellipse_fit_fraction_na(ophys_experiment_id),\n",
    "    }\n",
    "    print('done with {}, that took {} seconds'.format(ophys_experiment_id, time.time() - t0))\n",
    "    return ans"
   ]
  },
  {
   "cell_type": "markdown",
   "metadata": {},
   "source": [
    "## ophys experiment IDs (from Peter L via slack)"
   ]
  },
  {
   "cell_type": "code",
   "execution_count": 48,
   "metadata": {},
   "outputs": [],
   "source": [
    "oeids = [\n",
    "    503772253, \n",
    "    509580400, \n",
    "    509841198, \n",
    "    510021399, \n",
    "    510390912, \n",
    "    510699005, \n",
    "    510814438, \n",
    "    510524416, \n",
    "    512326618, \n",
    "    503324629, \n",
    "    502483554, \n",
    "    504642019, \n",
    "    506144725, \n",
    "    506773185, \n",
    "    507304910, \n",
    "    510214538, \n",
    "    511458599, \n",
    "    511573879\n",
    "]"
   ]
  },
  {
   "cell_type": "markdown",
   "metadata": {},
   "source": [
    "## get fraction NA in processed result and ellipse files (parallelized)"
   ]
  },
  {
   "cell_type": "code",
   "execution_count": 49,
   "metadata": {},
   "outputs": [
    {
     "name": "stdout",
     "output_type": "stream",
     "text": [
      "on 509841198\n",
      "on 503772253\n",
      "on 510699005\n",
      "on 509580400\n",
      "on 510390912\n",
      "on 510021399\n",
      "on 512326618\n",
      "on 510214538\n",
      "on 503324629\n",
      "on 510814438\n",
      "on 504642019\n",
      "on 502483554\n",
      "on 506773185\n",
      "on 507304910\n",
      "on 510524416\n",
      "on 506144725\n",
      "on 511458599\n",
      "on 511573879\n"
     ]
    },
    {
     "name": "stderr",
     "output_type": "stream",
     "text": [
      "/home/dougo/Code/visual_behavior_analysis/visual_behavior/utilities.py:432: UserWarning: no matching sync line for behavior\n",
      "  warnings.warn('no matching sync line for {}'.format(movie_label))\n",
      "/home/dougo/.conda/envs/visual_behavior/lib/python3.7/site-packages/scipy/stats/stats.py:2281: RuntimeWarning: invalid value encountered in true_divide\n",
      "  return (a - mns) / sstd\n",
      "/home/dougo/.conda/envs/visual_behavior/lib/python3.7/site-packages/scipy/stats/stats.py:2281: RuntimeWarning: invalid value encountered in true_divide\n",
      "  return (a - mns) / sstd\n",
      "/home/dougo/.conda/envs/visual_behavior/lib/python3.7/site-packages/scipy/stats/stats.py:2281: RuntimeWarning: invalid value encountered in true_divide\n",
      "  return (a - mns) / sstd\n",
      "/home/dougo/.conda/envs/visual_behavior/lib/python3.7/site-packages/scipy/stats/stats.py:2281: RuntimeWarning: invalid value encountered in true_divide\n",
      "  return (a - mns) / sstd\n"
     ]
    },
    {
     "name": "stdout",
     "output_type": "stream",
     "text": [
      "done with 510814438, that took 15.507771492004395 seconds\n"
     ]
    },
    {
     "name": "stderr",
     "output_type": "stream",
     "text": [
      "/home/dougo/.conda/envs/visual_behavior/lib/python3.7/site-packages/scipy/stats/stats.py:2281: RuntimeWarning: invalid value encountered in true_divide\n",
      "  return (a - mns) / sstd\n",
      "/home/dougo/.conda/envs/visual_behavior/lib/python3.7/site-packages/scipy/stats/stats.py:2281: RuntimeWarning: invalid value encountered in true_divide\n",
      "  return (a - mns) / sstd\n",
      "/home/dougo/.conda/envs/visual_behavior/lib/python3.7/site-packages/scipy/stats/stats.py:2281: RuntimeWarning: invalid value encountered in true_divide\n",
      "  return (a - mns) / sstd\n"
     ]
    },
    {
     "name": "stdout",
     "output_type": "stream",
     "text": [
      "done with 503772253, that took 15.595768690109253 seconds\n",
      "done with 504642019, that took 16.197500228881836 seconds\n",
      "done with 510021399, that took 16.6600661277771 seconds\n",
      "done with 503324629, that took 16.66206645965576 seconds\n",
      "done with 506144725, that took 16.666584014892578 seconds\n",
      "done with 510524416, that took 16.718434810638428 seconds\n"
     ]
    },
    {
     "name": "stderr",
     "output_type": "stream",
     "text": [
      "/home/dougo/.conda/envs/visual_behavior/lib/python3.7/site-packages/scipy/stats/stats.py:2281: RuntimeWarning: invalid value encountered in true_divide\n",
      "  return (a - mns) / sstd\n",
      "/home/dougo/.conda/envs/visual_behavior/lib/python3.7/site-packages/scipy/stats/stats.py:2281: RuntimeWarning: invalid value encountered in true_divide\n",
      "  return (a - mns) / sstd\n"
     ]
    },
    {
     "name": "stdout",
     "output_type": "stream",
     "text": [
      "done with 502483554, that took 17.660895586013794 seconds\n"
     ]
    },
    {
     "name": "stderr",
     "output_type": "stream",
     "text": [
      "/home/dougo/.conda/envs/visual_behavior/lib/python3.7/site-packages/scipy/stats/stats.py:2281: RuntimeWarning: invalid value encountered in true_divide\n",
      "  return (a - mns) / sstd\n",
      "/home/dougo/.conda/envs/visual_behavior/lib/python3.7/site-packages/scipy/stats/stats.py:2281: RuntimeWarning: invalid value encountered in true_divide\n",
      "  return (a - mns) / sstd\n",
      "/home/dougo/.conda/envs/visual_behavior/lib/python3.7/site-packages/scipy/stats/stats.py:2281: RuntimeWarning: invalid value encountered in true_divide\n",
      "  return (a - mns) / sstd\n",
      "/home/dougo/.conda/envs/visual_behavior/lib/python3.7/site-packages/scipy/stats/stats.py:2281: RuntimeWarning: invalid value encountered in true_divide\n",
      "  return (a - mns) / sstd\n"
     ]
    },
    {
     "name": "stdout",
     "output_type": "stream",
     "text": [
      "done with 509841198, that took 17.824145555496216 seconds\n"
     ]
    },
    {
     "name": "stderr",
     "output_type": "stream",
     "text": [
      "/home/dougo/.conda/envs/visual_behavior/lib/python3.7/site-packages/scipy/stats/stats.py:2281: RuntimeWarning: invalid value encountered in true_divide\n",
      "  return (a - mns) / sstd\n",
      "/home/dougo/.conda/envs/visual_behavior/lib/python3.7/site-packages/scipy/stats/stats.py:2281: RuntimeWarning: invalid value encountered in true_divide\n",
      "  return (a - mns) / sstd\n"
     ]
    },
    {
     "name": "stdout",
     "output_type": "stream",
     "text": [
      "done with 511573879, that took 17.88774561882019 seconds\n",
      "done with 510214538, that took 18.199673652648926 seconds\n",
      "done with 510390912, that took 18.202727794647217 seconds\n",
      "done with 511458599, that took 18.1720449924469 seconds\n",
      "done with 509580400, that took 18.212042570114136 seconds\n",
      "done with 512326618, that took 18.271979808807373 seconds\n"
     ]
    },
    {
     "name": "stderr",
     "output_type": "stream",
     "text": [
      "/home/dougo/.conda/envs/visual_behavior/lib/python3.7/site-packages/scipy/stats/stats.py:2281: RuntimeWarning: invalid value encountered in true_divide\n",
      "  return (a - mns) / sstd\n",
      "/home/dougo/.conda/envs/visual_behavior/lib/python3.7/site-packages/scipy/stats/stats.py:2281: RuntimeWarning: invalid value encountered in true_divide\n",
      "  return (a - mns) / sstd\n"
     ]
    },
    {
     "name": "stdout",
     "output_type": "stream",
     "text": [
      "done with 510699005, that took 18.90243887901306 seconds\n"
     ]
    },
    {
     "name": "stderr",
     "output_type": "stream",
     "text": [
      "/home/dougo/.conda/envs/visual_behavior/lib/python3.7/site-packages/scipy/stats/stats.py:2281: RuntimeWarning: invalid value encountered in true_divide\n",
      "  return (a - mns) / sstd\n"
     ]
    },
    {
     "name": "stdout",
     "output_type": "stream",
     "text": [
      "done with 506773185, that took 18.96406054496765 seconds\n",
      "done with 507304910, that took 19.119776248931885 seconds\n"
     ]
    }
   ],
   "source": [
    "\n",
    "with Pool(32) as pool:\n",
    "    ans = pool.map(get_both_fractions, oeids)\n",
    "summary_df = pd.DataFrame(ans)"
   ]
  },
  {
   "cell_type": "markdown",
   "metadata": {},
   "source": [
    "## compare\n",
    "(fraction missing is same in both)"
   ]
  },
  {
   "cell_type": "code",
   "execution_count": 50,
   "metadata": {},
   "outputs": [
    {
     "data": {
      "text/html": [
       "<div>\n",
       "<style scoped>\n",
       "    .dataframe tbody tr th:only-of-type {\n",
       "        vertical-align: middle;\n",
       "    }\n",
       "\n",
       "    .dataframe tbody tr th {\n",
       "        vertical-align: top;\n",
       "    }\n",
       "\n",
       "    .dataframe thead th {\n",
       "        text-align: right;\n",
       "    }\n",
       "</style>\n",
       "<table border=\"1\" class=\"dataframe\">\n",
       "  <thead>\n",
       "    <tr style=\"text-align: right;\">\n",
       "      <th></th>\n",
       "      <th>ophys_experiment_id</th>\n",
       "      <th>fraction_na_in_processed_eye_data</th>\n",
       "      <th>fraction_na_in_ellipse_fit_file</th>\n",
       "    </tr>\n",
       "  </thead>\n",
       "  <tbody>\n",
       "    <tr>\n",
       "      <th>0</th>\n",
       "      <td>503772253</td>\n",
       "      <td>0.425012</td>\n",
       "      <td>0.425012</td>\n",
       "    </tr>\n",
       "    <tr>\n",
       "      <th>1</th>\n",
       "      <td>509580400</td>\n",
       "      <td>0.031192</td>\n",
       "      <td>0.031192</td>\n",
       "    </tr>\n",
       "    <tr>\n",
       "      <th>2</th>\n",
       "      <td>509841198</td>\n",
       "      <td>0.033101</td>\n",
       "      <td>0.033101</td>\n",
       "    </tr>\n",
       "    <tr>\n",
       "      <th>3</th>\n",
       "      <td>510021399</td>\n",
       "      <td>0.020532</td>\n",
       "      <td>0.020532</td>\n",
       "    </tr>\n",
       "    <tr>\n",
       "      <th>4</th>\n",
       "      <td>510390912</td>\n",
       "      <td>0.095661</td>\n",
       "      <td>0.095661</td>\n",
       "    </tr>\n",
       "    <tr>\n",
       "      <th>5</th>\n",
       "      <td>510699005</td>\n",
       "      <td>0.187732</td>\n",
       "      <td>0.187732</td>\n",
       "    </tr>\n",
       "    <tr>\n",
       "      <th>6</th>\n",
       "      <td>510814438</td>\n",
       "      <td>0.022044</td>\n",
       "      <td>0.022044</td>\n",
       "    </tr>\n",
       "    <tr>\n",
       "      <th>7</th>\n",
       "      <td>510524416</td>\n",
       "      <td>0.013853</td>\n",
       "      <td>0.013853</td>\n",
       "    </tr>\n",
       "    <tr>\n",
       "      <th>8</th>\n",
       "      <td>512326618</td>\n",
       "      <td>0.000130</td>\n",
       "      <td>0.000130</td>\n",
       "    </tr>\n",
       "    <tr>\n",
       "      <th>9</th>\n",
       "      <td>503324629</td>\n",
       "      <td>0.237887</td>\n",
       "      <td>0.237887</td>\n",
       "    </tr>\n",
       "    <tr>\n",
       "      <th>10</th>\n",
       "      <td>502483554</td>\n",
       "      <td>0.007018</td>\n",
       "      <td>0.007018</td>\n",
       "    </tr>\n",
       "    <tr>\n",
       "      <th>11</th>\n",
       "      <td>504642019</td>\n",
       "      <td>0.864257</td>\n",
       "      <td>0.864257</td>\n",
       "    </tr>\n",
       "    <tr>\n",
       "      <th>12</th>\n",
       "      <td>506144725</td>\n",
       "      <td>0.002637</td>\n",
       "      <td>0.002637</td>\n",
       "    </tr>\n",
       "    <tr>\n",
       "      <th>13</th>\n",
       "      <td>506773185</td>\n",
       "      <td>0.005264</td>\n",
       "      <td>0.005264</td>\n",
       "    </tr>\n",
       "    <tr>\n",
       "      <th>14</th>\n",
       "      <td>507304910</td>\n",
       "      <td>0.003258</td>\n",
       "      <td>0.003258</td>\n",
       "    </tr>\n",
       "    <tr>\n",
       "      <th>15</th>\n",
       "      <td>510214538</td>\n",
       "      <td>0.068249</td>\n",
       "      <td>0.068249</td>\n",
       "    </tr>\n",
       "    <tr>\n",
       "      <th>16</th>\n",
       "      <td>511458599</td>\n",
       "      <td>0.132058</td>\n",
       "      <td>0.132058</td>\n",
       "    </tr>\n",
       "    <tr>\n",
       "      <th>17</th>\n",
       "      <td>511573879</td>\n",
       "      <td>0.067045</td>\n",
       "      <td>0.067045</td>\n",
       "    </tr>\n",
       "  </tbody>\n",
       "</table>\n",
       "</div>"
      ],
      "text/plain": [
       "    ophys_experiment_id  fraction_na_in_processed_eye_data  \\\n",
       "0             503772253                           0.425012   \n",
       "1             509580400                           0.031192   \n",
       "2             509841198                           0.033101   \n",
       "3             510021399                           0.020532   \n",
       "4             510390912                           0.095661   \n",
       "5             510699005                           0.187732   \n",
       "6             510814438                           0.022044   \n",
       "7             510524416                           0.013853   \n",
       "8             512326618                           0.000130   \n",
       "9             503324629                           0.237887   \n",
       "10            502483554                           0.007018   \n",
       "11            504642019                           0.864257   \n",
       "12            506144725                           0.002637   \n",
       "13            506773185                           0.005264   \n",
       "14            507304910                           0.003258   \n",
       "15            510214538                           0.068249   \n",
       "16            511458599                           0.132058   \n",
       "17            511573879                           0.067045   \n",
       "\n",
       "    fraction_na_in_ellipse_fit_file  \n",
       "0                          0.425012  \n",
       "1                          0.031192  \n",
       "2                          0.033101  \n",
       "3                          0.020532  \n",
       "4                          0.095661  \n",
       "5                          0.187732  \n",
       "6                          0.022044  \n",
       "7                          0.013853  \n",
       "8                          0.000130  \n",
       "9                          0.237887  \n",
       "10                         0.007018  \n",
       "11                         0.864257  \n",
       "12                         0.002637  \n",
       "13                         0.005264  \n",
       "14                         0.003258  \n",
       "15                         0.068249  \n",
       "16                         0.132058  \n",
       "17                         0.067045  "
      ]
     },
     "execution_count": 50,
     "metadata": {},
     "output_type": "execute_result"
    }
   ],
   "source": [
    "summary_df"
   ]
  },
  {
   "cell_type": "code",
   "execution_count": null,
   "metadata": {},
   "outputs": [],
   "source": []
  }
 ],
 "metadata": {
  "kernelspec": {
   "display_name": "visual_behavior",
   "language": "python",
   "name": "visual_behavior"
  },
  "language_info": {
   "codemirror_mode": {
    "name": "ipython",
    "version": 3
   },
   "file_extension": ".py",
   "mimetype": "text/x-python",
   "name": "python",
   "nbconvert_exporter": "python",
   "pygments_lexer": "ipython3",
   "version": "3.7.3"
  }
 },
 "nbformat": 4,
 "nbformat_minor": 4
}
