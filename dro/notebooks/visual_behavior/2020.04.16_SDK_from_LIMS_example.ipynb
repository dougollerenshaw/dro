{
 "cells": [
  {
   "cell_type": "code",
   "execution_count": 6,
   "metadata": {
    "scrolled": false
   },
   "outputs": [
    {
     "name": "stderr",
     "output_type": "stream",
     "text": [
      "/home/dougo/Code/AllenSDK/allensdk/brain_observatory/sync_dataset.py:109: UserWarning: The loaded sync file contains the following deprecated line label keys: {'cam1_exposure', 'cam2_exposure'}. Consider updating the sync file line labels.\n",
      "  self._check_line_labels()\n",
      "WARNING:root:Could not find valid lines for the following data sources\n",
      "WARNING:root:acquiring (valid line label(s) = ['2p_acquiring']\n"
     ]
    },
    {
     "data": {
      "text/plain": [
       "{'rig_name': 'MESO.1',\n",
       " 'sex': 'F',\n",
       " 'age': 'P233',\n",
       " 'excitation_lambda': 910.0,\n",
       " 'emission_lambda': 520.0,\n",
       " 'indicator': 'GCAMP6f',\n",
       " 'field_of_view_width': 512,\n",
       " 'field_of_view_height': 512,\n",
       " 'ophys_experiment_id': 953659749,\n",
       " 'experiment_container_id': 1018028354,\n",
       " 'ophys_frame_rate': 43.0,\n",
       " 'stimulus_frame_rate': 60.0,\n",
       " 'targeted_structure': 'VISl',\n",
       " 'imaging_depth': 150,\n",
       " 'session_type': 'OPHYS_2_images_A_passive',\n",
       " 'experiment_datetime': Timestamp('2019-09-23 08:13:07.627573+0000', tz='UTC'),\n",
       " 'reporter_line': ['Ai148(TIT2L-GC6f-ICL-tTA2)'],\n",
       " 'driver_line': ['Sst-IRES-Cre'],\n",
       " 'LabTracks_ID': 457841,\n",
       " 'full_genotype': 'Sst-IRES-Cre/wt;Ai148(TIT2L-GC6f-ICL-tTA2)/wt',\n",
       " 'behavior_session_uuid': UUID('67813c87-8b09-4a35-9ebd-d0d34141f253')}"
      ]
     },
     "execution_count": 6,
     "metadata": {},
     "output_type": "execute_result"
    }
   ],
   "source": [
    "from allensdk.brain_observatory.behavior.behavior_ophys_session import BehaviorOphysSession\n",
    "session = BehaviorOphysSession.from_lims(953659749)\n",
    "session.metadata"
   ]
  },
  {
   "cell_type": "code",
   "execution_count": 4,
   "metadata": {},
   "outputs": [
    {
     "data": {
      "text/plain": [
       "{'Natural_Images_Lum_Matched_set_training_2017.07.14_2': array([[[127, 127, 127, ..., 127, 127, 127],\n",
       "         [127, 127, 127, ..., 127, 127, 127],\n",
       "         [127, 127, 127, ..., 127, 127, 127],\n",
       "         ...,\n",
       "         [127, 127, 127, ..., 127, 127, 127],\n",
       "         [127, 127, 127, ..., 127, 127, 127],\n",
       "         [127, 127, 127, ..., 127, 127, 127]],\n",
       " \n",
       "        [[127, 127, 127, ..., 127, 127, 127],\n",
       "         [127, 127, 127, ..., 127, 127, 127],\n",
       "         [127, 127, 127, ..., 127, 127, 127],\n",
       "         ...,\n",
       "         [127, 127, 127, ..., 127, 127, 127],\n",
       "         [127, 127, 127, ..., 127, 127, 127],\n",
       "         [127, 127, 127, ..., 127, 127, 127]],\n",
       " \n",
       "        [[127, 127, 127, ..., 127, 127, 127],\n",
       "         [127, 127, 127, ..., 127, 127, 127],\n",
       "         [127, 127, 127, ..., 127, 127, 127],\n",
       "         ...,\n",
       "         [127, 127, 127, ..., 127, 127, 127],\n",
       "         [127, 127, 127, ..., 127, 127, 127],\n",
       "         [127, 127, 127, ..., 127, 127, 127]],\n",
       " \n",
       "        ...,\n",
       " \n",
       "        [[127, 127, 127, ..., 127, 127, 127],\n",
       "         [127, 127, 127, ..., 127, 127, 127],\n",
       "         [127, 127, 127, ..., 127, 127, 127],\n",
       "         ...,\n",
       "         [127, 127, 127, ..., 127, 127, 127],\n",
       "         [127, 127, 127, ..., 127, 127, 127],\n",
       "         [127, 127, 127, ..., 127, 127, 127]],\n",
       " \n",
       "        [[127, 127, 127, ..., 127, 127, 127],\n",
       "         [127, 127, 127, ..., 127, 127, 127],\n",
       "         [127, 127, 127, ..., 127, 127, 127],\n",
       "         ...,\n",
       "         [127, 127, 127, ..., 127, 127, 127],\n",
       "         [127, 127, 127, ..., 127, 127, 127],\n",
       "         [127, 127, 127, ..., 127, 127, 127]],\n",
       " \n",
       "        [[127, 127, 127, ..., 127, 127, 127],\n",
       "         [127, 127, 127, ..., 127, 127, 127],\n",
       "         [127, 127, 127, ..., 127, 127, 127],\n",
       "         ...,\n",
       "         [127, 127, 127, ..., 127, 127, 127],\n",
       "         [127, 127, 127, ..., 127, 127, 127],\n",
       "         [127, 127, 127, ..., 127, 127, 127]]], dtype=uint8)}"
      ]
     },
     "execution_count": 4,
     "metadata": {},
     "output_type": "execute_result"
    }
   ],
   "source": [
    "session.stimulus_templates"
   ]
  },
  {
   "cell_type": "code",
   "execution_count": 62,
   "metadata": {},
   "outputs": [
    {
     "data": {
      "text/plain": [
       "{'blank_duration_sec': [0.5, 0.5],\n",
       " 'stimulus_duration_sec': 6.0,\n",
       " 'omitted_flash_fraction': nan,\n",
       " 'response_window_sec': [0.15, 0.75],\n",
       " 'reward_volume': 0.007,\n",
       " 'stage': 'OPHYS_6_images_B',\n",
       " 'stimulus': 'images',\n",
       " 'stimulus_distribution': 'geometric',\n",
       " 'task': 'DoC_untranslated',\n",
       " 'n_stimulus_frames': 70068}"
      ]
     },
     "execution_count": 62,
     "metadata": {},
     "output_type": "execute_result"
    }
   ],
   "source": [
    "session.task_parameters"
   ]
  },
  {
   "cell_type": "code",
   "execution_count": 6,
   "metadata": {},
   "outputs": [],
   "source": [
    "def lims_query(query):\n",
    "    api = (credential_injector(LIMS_DB_CREDENTIAL_MAP)(PostgresQueryMixin)())\n",
    "    conn = api.get_connection()\n",
    "    cur = conn.cursor()\n",
    "\n",
    "    df = pd.read_sql(query, conn)\n",
    "\n",
    "    conn.close()\n",
    "\n",
    "    return df"
   ]
  },
  {
   "cell_type": "code",
   "execution_count": 60,
   "metadata": {},
   "outputs": [
    {
     "data": {
      "text/html": [
       "<div>\n",
       "<style scoped>\n",
       "    .dataframe tbody tr th:only-of-type {\n",
       "        vertical-align: middle;\n",
       "    }\n",
       "\n",
       "    .dataframe tbody tr th {\n",
       "        vertical-align: top;\n",
       "    }\n",
       "\n",
       "    .dataframe thead th {\n",
       "        text-align: right;\n",
       "    }\n",
       "</style>\n",
       "<table border=\"1\" class=\"dataframe\">\n",
       "  <thead>\n",
       "    <tr style=\"text-align: right;\">\n",
       "      <th></th>\n",
       "      <th>id</th>\n",
       "      <th>name</th>\n",
       "      <th>storage_directory</th>\n",
       "      <th>workflow_state</th>\n",
       "      <th>ophys_session_id</th>\n",
       "      <th>targeted_structure_id</th>\n",
       "      <th>imaging_depth_id</th>\n",
       "      <th>qc_operator_id</th>\n",
       "      <th>calculated_depth</th>\n",
       "      <th>experiment_container_id</th>\n",
       "      <th>ophys_primary_image_id</th>\n",
       "      <th>ophys_z_stack_local_image_id</th>\n",
       "      <th>averaged_surface_image_id</th>\n",
       "      <th>averaged_depth_image_id</th>\n",
       "      <th>maximum_intensity_projection_image_id</th>\n",
       "      <th>mip_isi_offset_x</th>\n",
       "      <th>mip_isi_offset_y</th>\n",
       "      <th>movie_width</th>\n",
       "      <th>movie_height</th>\n",
       "      <th>movie_number_of_frames</th>\n",
       "      <th>raw_movie_width</th>\n",
       "      <th>raw_movie_height</th>\n",
       "      <th>raw_movie_number_of_frames</th>\n",
       "      <th>ophys_imaging_plane_group_id</th>\n",
       "    </tr>\n",
       "  </thead>\n",
       "  <tbody>\n",
       "    <tr>\n",
       "      <th>0</th>\n",
       "      <td>783927872</td>\n",
       "      <td>20181120_416369_2P3_VISp_375_1</td>\n",
       "      <td>/allen/programs/braintv/production/visualbehav...</td>\n",
       "      <td>passed</td>\n",
       "      <td>783475910</td>\n",
       "      <td>385</td>\n",
       "      <td>511480447</td>\n",
       "      <td>None</td>\n",
       "      <td>None</td>\n",
       "      <td>None</td>\n",
       "      <td>783928169</td>\n",
       "      <td>783928161</td>\n",
       "      <td>783973912</td>\n",
       "      <td>783973920</td>\n",
       "      <td>784403358</td>\n",
       "      <td>None</td>\n",
       "      <td>None</td>\n",
       "      <td>451</td>\n",
       "      <td>512</td>\n",
       "      <td>149456</td>\n",
       "      <td>512</td>\n",
       "      <td>512</td>\n",
       "      <td>149456</td>\n",
       "      <td>None</td>\n",
       "    </tr>\n",
       "  </tbody>\n",
       "</table>\n",
       "</div>"
      ],
      "text/plain": [
       "          id                            name  \\\n",
       "0  783927872  20181120_416369_2P3_VISp_375_1   \n",
       "\n",
       "                                   storage_directory workflow_state  \\\n",
       "0  /allen/programs/braintv/production/visualbehav...         passed   \n",
       "\n",
       "   ophys_session_id  targeted_structure_id  imaging_depth_id qc_operator_id  \\\n",
       "0         783475910                    385         511480447           None   \n",
       "\n",
       "  calculated_depth experiment_container_id  ophys_primary_image_id  \\\n",
       "0             None                    None               783928169   \n",
       "\n",
       "   ophys_z_stack_local_image_id  averaged_surface_image_id  \\\n",
       "0                     783928161                  783973912   \n",
       "\n",
       "   averaged_depth_image_id  maximum_intensity_projection_image_id  \\\n",
       "0                783973920                              784403358   \n",
       "\n",
       "  mip_isi_offset_x mip_isi_offset_y  movie_width  movie_height  \\\n",
       "0             None             None          451           512   \n",
       "\n",
       "   movie_number_of_frames  raw_movie_width  raw_movie_height  \\\n",
       "0                  149456              512               512   \n",
       "\n",
       "   raw_movie_number_of_frames ophys_imaging_plane_group_id  \n",
       "0                      149456                         None  "
      ]
     },
     "execution_count": 60,
     "metadata": {},
     "output_type": "execute_result"
    }
   ],
   "source": [
    "lims_query(\"select * from ophys_experiments where id = 783927872\")"
   ]
  },
  {
   "cell_type": "code",
   "execution_count": 33,
   "metadata": {},
   "outputs": [],
   "source": [
    "from allensdk.brain_observatory.behavior.behavior_project_cache import BehaviorProjectCache as bpc\n",
    "\n",
    "def get_cache():\n",
    "    MANIFEST_PATH = \"//allen/programs/braintv/workgroups/nc-ophys/visual_behavior/2020_cache/production_cache/manifest.json\"\n",
    "    cache = bpc.from_lims(manifest=MANIFEST_PATH)\n",
    "    return cache"
   ]
  },
  {
   "cell_type": "code",
   "execution_count": 34,
   "metadata": {},
   "outputs": [],
   "source": [
    "def get_sdk_session(osid):\n",
    "    cache = get_cache()\n",
    "    return cache.get_session_data(osid)"
   ]
  },
  {
   "cell_type": "code",
   "execution_count": 50,
   "metadata": {},
   "outputs": [],
   "source": [
    "session = get_sdk_session(1012618881)"
   ]
  },
  {
   "cell_type": "code",
   "execution_count": 53,
   "metadata": {},
   "outputs": [
    {
     "ename": "OneResultExpectedError",
     "evalue": "Expected length one result, received: [] results from query",
     "output_type": "error",
     "traceback": [
      "\u001b[0;31m---------------------------------------------------------------------------\u001b[0m",
      "\u001b[0;31mOneResultExpectedError\u001b[0m                    Traceback (most recent call last)",
      "\u001b[0;32m<ipython-input-53-668ac13c2da5>\u001b[0m in \u001b[0;36m<module>\u001b[0;34m\u001b[0m\n\u001b[0;32m----> 1\u001b[0;31m \u001b[0msession\u001b[0m\u001b[0;34m.\u001b[0m\u001b[0mrewards\u001b[0m\u001b[0;34m\u001b[0m\u001b[0;34m\u001b[0m\u001b[0m\n\u001b[0m",
      "\u001b[0;32m~/Code/AllenSDK/allensdk/brain_observatory/behavior/behavior_ophys_session.py\u001b[0m in \u001b[0;36mrewards\u001b[0;34m(self)\u001b[0m\n\u001b[1;32m    250\u001b[0m         \"\"\"\n\u001b[1;32m    251\u001b[0m         \u001b[0;32mif\u001b[0m \u001b[0mself\u001b[0m\u001b[0;34m.\u001b[0m\u001b[0m_rewards\u001b[0m \u001b[0;32mis\u001b[0m \u001b[0;32mNone\u001b[0m\u001b[0;34m:\u001b[0m\u001b[0;34m\u001b[0m\u001b[0;34m\u001b[0m\u001b[0m\n\u001b[0;32m--> 252\u001b[0;31m             \u001b[0mself\u001b[0m\u001b[0;34m.\u001b[0m\u001b[0m_rewards\u001b[0m \u001b[0;34m=\u001b[0m \u001b[0mself\u001b[0m\u001b[0;34m.\u001b[0m\u001b[0mapi\u001b[0m\u001b[0;34m.\u001b[0m\u001b[0mget_rewards\u001b[0m\u001b[0;34m(\u001b[0m\u001b[0;34m)\u001b[0m\u001b[0;34m\u001b[0m\u001b[0;34m\u001b[0m\u001b[0m\n\u001b[0m\u001b[1;32m    253\u001b[0m         \u001b[0;32mreturn\u001b[0m \u001b[0mself\u001b[0m\u001b[0;34m.\u001b[0m\u001b[0m_rewards\u001b[0m\u001b[0;34m\u001b[0m\u001b[0;34m\u001b[0m\u001b[0m\n\u001b[1;32m    254\u001b[0m \u001b[0;34m\u001b[0m\u001b[0m\n",
      "\u001b[0;32m~/Code/AllenSDK/allensdk/api/cache.py\u001b[0m in \u001b[0;36mwrapper\u001b[0;34m(*args, **kwargs)\u001b[0m\n\u001b[1;32m     73\u001b[0m         \u001b[0;32mif\u001b[0m \u001b[0mresult\u001b[0m \u001b[0;32mis\u001b[0m \u001b[0;32mnot\u001b[0m \u001b[0msentinel\u001b[0m\u001b[0;34m:\u001b[0m\u001b[0;34m\u001b[0m\u001b[0;34m\u001b[0m\u001b[0m\n\u001b[1;32m     74\u001b[0m             \u001b[0;32mreturn\u001b[0m \u001b[0mresult\u001b[0m\u001b[0;34m\u001b[0m\u001b[0;34m\u001b[0m\u001b[0m\n\u001b[0;32m---> 75\u001b[0;31m         \u001b[0mresult\u001b[0m \u001b[0;34m=\u001b[0m \u001b[0mf\u001b[0m\u001b[0;34m(\u001b[0m\u001b[0;34m*\u001b[0m\u001b[0margs\u001b[0m\u001b[0;34m,\u001b[0m \u001b[0;34m**\u001b[0m\u001b[0mkwargs\u001b[0m\u001b[0;34m)\u001b[0m\u001b[0;34m\u001b[0m\u001b[0;34m\u001b[0m\u001b[0m\n\u001b[0m\u001b[1;32m     76\u001b[0m         \u001b[0mcache\u001b[0m\u001b[0;34m[\u001b[0m\u001b[0mkey\u001b[0m\u001b[0;34m]\u001b[0m \u001b[0;34m=\u001b[0m \u001b[0mresult\u001b[0m\u001b[0;34m\u001b[0m\u001b[0;34m\u001b[0m\u001b[0m\n\u001b[1;32m     77\u001b[0m         \u001b[0;32mreturn\u001b[0m \u001b[0mresult\u001b[0m\u001b[0;34m\u001b[0m\u001b[0;34m\u001b[0m\u001b[0m\n",
      "\u001b[0;32m~/Code/AllenSDK/allensdk/internal/api/behavior_ophys_api.py\u001b[0m in \u001b[0;36mget_rewards\u001b[0;34m(self)\u001b[0m\n\u001b[1;32m    193\u001b[0m     \u001b[0;34m@\u001b[0m\u001b[0mmemoize\u001b[0m\u001b[0;34m\u001b[0m\u001b[0;34m\u001b[0m\u001b[0m\n\u001b[1;32m    194\u001b[0m     \u001b[0;32mdef\u001b[0m \u001b[0mget_rewards\u001b[0m\u001b[0;34m(\u001b[0m\u001b[0mself\u001b[0m\u001b[0;34m)\u001b[0m\u001b[0;34m:\u001b[0m\u001b[0;34m\u001b[0m\u001b[0;34m\u001b[0m\u001b[0m\n\u001b[0;32m--> 195\u001b[0;31m         \u001b[0mbehavior_stimulus_file\u001b[0m \u001b[0;34m=\u001b[0m \u001b[0mself\u001b[0m\u001b[0;34m.\u001b[0m\u001b[0mget_behavior_stimulus_file\u001b[0m\u001b[0;34m(\u001b[0m\u001b[0;34m)\u001b[0m\u001b[0;34m\u001b[0m\u001b[0;34m\u001b[0m\u001b[0m\n\u001b[0m\u001b[1;32m    196\u001b[0m         \u001b[0mdata\u001b[0m \u001b[0;34m=\u001b[0m \u001b[0mpd\u001b[0m\u001b[0;34m.\u001b[0m\u001b[0mread_pickle\u001b[0m\u001b[0;34m(\u001b[0m\u001b[0mbehavior_stimulus_file\u001b[0m\u001b[0;34m)\u001b[0m\u001b[0;34m\u001b[0m\u001b[0;34m\u001b[0m\u001b[0m\n\u001b[1;32m    197\u001b[0m         \u001b[0mrebase_function\u001b[0m \u001b[0;34m=\u001b[0m \u001b[0mself\u001b[0m\u001b[0;34m.\u001b[0m\u001b[0mget_stimulus_rebase_function\u001b[0m\u001b[0;34m(\u001b[0m\u001b[0;34m)\u001b[0m\u001b[0;34m\u001b[0m\u001b[0;34m\u001b[0m\u001b[0m\n",
      "\u001b[0;32m~/Code/AllenSDK/allensdk/api/cache.py\u001b[0m in \u001b[0;36mwrapper\u001b[0;34m(*args, **kwargs)\u001b[0m\n\u001b[1;32m     73\u001b[0m         \u001b[0;32mif\u001b[0m \u001b[0mresult\u001b[0m \u001b[0;32mis\u001b[0m \u001b[0;32mnot\u001b[0m \u001b[0msentinel\u001b[0m\u001b[0;34m:\u001b[0m\u001b[0;34m\u001b[0m\u001b[0;34m\u001b[0m\u001b[0m\n\u001b[1;32m     74\u001b[0m             \u001b[0;32mreturn\u001b[0m \u001b[0mresult\u001b[0m\u001b[0;34m\u001b[0m\u001b[0;34m\u001b[0m\u001b[0m\n\u001b[0;32m---> 75\u001b[0;31m         \u001b[0mresult\u001b[0m \u001b[0;34m=\u001b[0m \u001b[0mf\u001b[0m\u001b[0;34m(\u001b[0m\u001b[0;34m*\u001b[0m\u001b[0margs\u001b[0m\u001b[0;34m,\u001b[0m \u001b[0;34m**\u001b[0m\u001b[0mkwargs\u001b[0m\u001b[0;34m)\u001b[0m\u001b[0;34m\u001b[0m\u001b[0;34m\u001b[0m\u001b[0m\n\u001b[0m\u001b[1;32m     76\u001b[0m         \u001b[0mcache\u001b[0m\u001b[0;34m[\u001b[0m\u001b[0mkey\u001b[0m\u001b[0;34m]\u001b[0m \u001b[0;34m=\u001b[0m \u001b[0mresult\u001b[0m\u001b[0;34m\u001b[0m\u001b[0;34m\u001b[0m\u001b[0m\n\u001b[1;32m     77\u001b[0m         \u001b[0;32mreturn\u001b[0m \u001b[0mresult\u001b[0m\u001b[0;34m\u001b[0m\u001b[0;34m\u001b[0m\u001b[0m\n",
      "\u001b[0;32m~/Code/AllenSDK/allensdk/internal/api/behavior_ophys_api.py\u001b[0m in \u001b[0;36mget_behavior_stimulus_file\u001b[0;34m(self)\u001b[0m\n\u001b[1;32m     85\u001b[0m                 \u001b[0mWHERE\u001b[0m \u001b[0moe\u001b[0m\u001b[0;34m.\u001b[0m\u001b[0mid\u001b[0m\u001b[0;34m=\u001b[0m \u001b[0;34m{\u001b[0m\u001b[0;34m}\u001b[0m\u001b[0;34m;\u001b[0m\u001b[0;34m\u001b[0m\u001b[0;34m\u001b[0m\u001b[0m\n\u001b[1;32m     86\u001b[0m                 '''.format(self.get_ophys_experiment_id())\n\u001b[0;32m---> 87\u001b[0;31m         \u001b[0;32mreturn\u001b[0m \u001b[0msafe_system_path\u001b[0m\u001b[0;34m(\u001b[0m\u001b[0mself\u001b[0m\u001b[0;34m.\u001b[0m\u001b[0mlims_db\u001b[0m\u001b[0;34m.\u001b[0m\u001b[0mfetchone\u001b[0m\u001b[0;34m(\u001b[0m\u001b[0mquery\u001b[0m\u001b[0;34m,\u001b[0m \u001b[0mstrict\u001b[0m\u001b[0;34m=\u001b[0m\u001b[0;32mTrue\u001b[0m\u001b[0;34m)\u001b[0m\u001b[0;34m)\u001b[0m\u001b[0;34m\u001b[0m\u001b[0;34m\u001b[0m\u001b[0m\n\u001b[0m\u001b[1;32m     88\u001b[0m \u001b[0;34m\u001b[0m\u001b[0m\n\u001b[1;32m     89\u001b[0m     \u001b[0;32mdef\u001b[0m \u001b[0mget_behavior_session_uuid\u001b[0m\u001b[0;34m(\u001b[0m\u001b[0mself\u001b[0m\u001b[0;34m)\u001b[0m\u001b[0;34m:\u001b[0m\u001b[0;34m\u001b[0m\u001b[0;34m\u001b[0m\u001b[0m\n",
      "\u001b[0;32m~/Code/AllenSDK/allensdk/internal/api/__init__.py\u001b[0m in \u001b[0;36mfetchone\u001b[0;34m(self, query, strict)\u001b[0m\n\u001b[1;32m     44\u001b[0m \u001b[0;34m\u001b[0m\u001b[0m\n\u001b[1;32m     45\u001b[0m     \u001b[0;32mdef\u001b[0m \u001b[0mfetchone\u001b[0m\u001b[0;34m(\u001b[0m\u001b[0mself\u001b[0m\u001b[0;34m,\u001b[0m \u001b[0mquery\u001b[0m\u001b[0;34m,\u001b[0m \u001b[0mstrict\u001b[0m\u001b[0;34m=\u001b[0m\u001b[0;32mTrue\u001b[0m\u001b[0;34m)\u001b[0m\u001b[0;34m:\u001b[0m\u001b[0;34m\u001b[0m\u001b[0;34m\u001b[0m\u001b[0m\n\u001b[0;32m---> 46\u001b[0;31m         \u001b[0mresponse\u001b[0m \u001b[0;34m=\u001b[0m \u001b[0mone\u001b[0m\u001b[0;34m(\u001b[0m\u001b[0mlist\u001b[0m\u001b[0;34m(\u001b[0m\u001b[0mself\u001b[0m\u001b[0;34m.\u001b[0m\u001b[0mselect\u001b[0m\u001b[0;34m(\u001b[0m\u001b[0mquery\u001b[0m\u001b[0;34m)\u001b[0m\u001b[0;34m.\u001b[0m\u001b[0mto_dict\u001b[0m\u001b[0;34m(\u001b[0m\u001b[0;34m)\u001b[0m\u001b[0;34m.\u001b[0m\u001b[0mvalues\u001b[0m\u001b[0;34m(\u001b[0m\u001b[0;34m)\u001b[0m\u001b[0;34m)\u001b[0m\u001b[0;34m)\u001b[0m\u001b[0;34m\u001b[0m\u001b[0;34m\u001b[0m\u001b[0m\n\u001b[0m\u001b[1;32m     47\u001b[0m         \u001b[0;32mif\u001b[0m \u001b[0mstrict\u001b[0m \u001b[0;32mis\u001b[0m \u001b[0;32mTrue\u001b[0m \u001b[0;32mand\u001b[0m \u001b[0;34m(\u001b[0m\u001b[0mlen\u001b[0m\u001b[0;34m(\u001b[0m\u001b[0mresponse\u001b[0m\u001b[0;34m)\u001b[0m \u001b[0;34m!=\u001b[0m \u001b[0;36m1\u001b[0m \u001b[0;32mor\u001b[0m \u001b[0mresponse\u001b[0m\u001b[0;34m[\u001b[0m\u001b[0;36m0\u001b[0m\u001b[0;34m]\u001b[0m \u001b[0;32mis\u001b[0m \u001b[0;32mNone\u001b[0m\u001b[0;34m)\u001b[0m\u001b[0;34m:\u001b[0m\u001b[0;34m\u001b[0m\u001b[0;34m\u001b[0m\u001b[0m\n\u001b[1;32m     48\u001b[0m             \u001b[0;32mraise\u001b[0m \u001b[0mOneResultExpectedError\u001b[0m\u001b[0;34m\u001b[0m\u001b[0;34m\u001b[0m\u001b[0m\n",
      "\u001b[0;32m~/Code/AllenSDK/allensdk/__init__.py\u001b[0m in \u001b[0;36mone\u001b[0;34m(x)\u001b[0m\n\u001b[1;32m     60\u001b[0m         \u001b[0;32mreturn\u001b[0m \u001b[0mx\u001b[0m\u001b[0;34m\u001b[0m\u001b[0;34m\u001b[0m\u001b[0m\n\u001b[1;32m     61\u001b[0m     \u001b[0;32mif\u001b[0m \u001b[0mxlen\u001b[0m \u001b[0;34m!=\u001b[0m \u001b[0;36m1\u001b[0m\u001b[0;34m:\u001b[0m\u001b[0;34m\u001b[0m\u001b[0;34m\u001b[0m\u001b[0m\n\u001b[0;32m---> 62\u001b[0;31m         \u001b[0;32mraise\u001b[0m \u001b[0mOneResultExpectedError\u001b[0m\u001b[0;34m(\u001b[0m\u001b[0;34m'Expected length one result, received: {} results from query'\u001b[0m\u001b[0;34m.\u001b[0m\u001b[0mformat\u001b[0m\u001b[0;34m(\u001b[0m\u001b[0mx\u001b[0m\u001b[0;34m)\u001b[0m\u001b[0;34m)\u001b[0m\u001b[0;34m\u001b[0m\u001b[0;34m\u001b[0m\u001b[0m\n\u001b[0m\u001b[1;32m     63\u001b[0m     \u001b[0;32mif\u001b[0m \u001b[0misinstance\u001b[0m\u001b[0;34m(\u001b[0m\u001b[0mx\u001b[0m\u001b[0;34m,\u001b[0m \u001b[0mset\u001b[0m\u001b[0;34m)\u001b[0m\u001b[0;34m:\u001b[0m\u001b[0;34m\u001b[0m\u001b[0;34m\u001b[0m\u001b[0m\n\u001b[1;32m     64\u001b[0m         \u001b[0;32mreturn\u001b[0m \u001b[0mlist\u001b[0m\u001b[0;34m(\u001b[0m\u001b[0mx\u001b[0m\u001b[0;34m)\u001b[0m\u001b[0;34m[\u001b[0m\u001b[0;36m0\u001b[0m\u001b[0;34m]\u001b[0m\u001b[0;34m\u001b[0m\u001b[0;34m\u001b[0m\u001b[0m\n",
      "\u001b[0;31mOneResultExpectedError\u001b[0m: Expected length one result, received: [] results from query"
     ]
    }
   ],
   "source": [
    "session.rewards"
   ]
  },
  {
   "cell_type": "code",
   "execution_count": 49,
   "metadata": {},
   "outputs": [
    {
     "data": {
      "text/plain": [
       "id                                                                      1012618881\n",
       "name                                                        20200305_489065_Ophys6\n",
       "storage_directory                /allen/programs/braintv/production/visualbehav...\n",
       "workflow_state                                                            uploaded\n",
       "specimen_id                                                              958769031\n",
       "isi_experiment_id                                                        972289328\n",
       "parent_session_id                                                       1006424352\n",
       "vasculature_image_id                                                    1012771076\n",
       "targeted_structure_id                                                         None\n",
       "imaging_depth_id                                                              None\n",
       "temp_upload_directory            /allen/programs/braintv/production/incoming/ne...\n",
       "date_of_acquisition                                     2020-03-05 11:30:19.493894\n",
       "equipment_id                                                             769904239\n",
       "operator_id                                                              646304944\n",
       "project_id                                                               894204169\n",
       "reticle_image_id                                                        1012771072\n",
       "ophys_z_stack_column_image_id                                                 None\n",
       "stimulus_name                                                     OPHYS_6_images_H\n",
       "stimulus_warp                                                                 None\n",
       "stimulus_eye_position_x                                                       None\n",
       "stimulus_eye_position_y                                                       None\n",
       "screen_height                                                                 None\n",
       "screen_width                                                                  None\n",
       "screen_depth                                                                  None\n",
       "eye_track_image_id                                                            None\n",
       "eye_tracking_id                                                               None\n",
       "foraging_id                                   0bc22c0e-37eb-424f-9eff-feddbbc654fa\n",
       "stim_delay                                                                    None\n",
       "Name: 0, dtype: object"
      ]
     },
     "execution_count": 49,
     "metadata": {},
     "output_type": "execute_result"
    }
   ],
   "source": [
    "lims_query(\"select * from ophys_sessions where id = 1012618881\").iloc[0]"
   ]
  },
  {
   "cell_type": "code",
   "execution_count": 48,
   "metadata": {},
   "outputs": [
    {
     "data": {
      "text/html": [
       "<div>\n",
       "<style scoped>\n",
       "    .dataframe tbody tr th:only-of-type {\n",
       "        vertical-align: middle;\n",
       "    }\n",
       "\n",
       "    .dataframe tbody tr th {\n",
       "        vertical-align: top;\n",
       "    }\n",
       "\n",
       "    .dataframe thead th {\n",
       "        text-align: right;\n",
       "    }\n",
       "</style>\n",
       "<table border=\"1\" class=\"dataframe\">\n",
       "  <thead>\n",
       "    <tr style=\"text-align: right;\">\n",
       "      <th></th>\n",
       "      <th>id</th>\n",
       "      <th>name</th>\n",
       "      <th>storage_directory</th>\n",
       "      <th>workflow_state</th>\n",
       "      <th>ophys_session_id</th>\n",
       "      <th>targeted_structure_id</th>\n",
       "      <th>imaging_depth_id</th>\n",
       "      <th>qc_operator_id</th>\n",
       "      <th>calculated_depth</th>\n",
       "      <th>experiment_container_id</th>\n",
       "      <th>ophys_primary_image_id</th>\n",
       "      <th>ophys_z_stack_local_image_id</th>\n",
       "      <th>averaged_surface_image_id</th>\n",
       "      <th>averaged_depth_image_id</th>\n",
       "      <th>maximum_intensity_projection_image_id</th>\n",
       "      <th>mip_isi_offset_x</th>\n",
       "      <th>mip_isi_offset_y</th>\n",
       "      <th>movie_width</th>\n",
       "      <th>movie_height</th>\n",
       "      <th>movie_number_of_frames</th>\n",
       "      <th>raw_movie_width</th>\n",
       "      <th>raw_movie_height</th>\n",
       "      <th>raw_movie_number_of_frames</th>\n",
       "      <th>ophys_imaging_plane_group_id</th>\n",
       "    </tr>\n",
       "  </thead>\n",
       "  <tbody>\n",
       "    <tr>\n",
       "      <th>0</th>\n",
       "      <td>1012771667</td>\n",
       "      <td>20200305_489065_Ophys6_VISp_-204_-1222_173</td>\n",
       "      <td>/allen/programs/braintv/production/visualbehav...</td>\n",
       "      <td>passed</td>\n",
       "      <td>1012618881</td>\n",
       "      <td>385</td>\n",
       "      <td>856123128</td>\n",
       "      <td>None</td>\n",
       "      <td>173.0</td>\n",
       "      <td>None</td>\n",
       "      <td>1012825667</td>\n",
       "      <td>1012825657</td>\n",
       "      <td>1012825659</td>\n",
       "      <td>1012825663</td>\n",
       "      <td>1012831288</td>\n",
       "      <td>None</td>\n",
       "      <td>None</td>\n",
       "      <td>512</td>\n",
       "      <td>512</td>\n",
       "      <td>48161</td>\n",
       "      <td>512</td>\n",
       "      <td>512</td>\n",
       "      <td>48161</td>\n",
       "      <td>1012771668</td>\n",
       "    </tr>\n",
       "  </tbody>\n",
       "</table>\n",
       "</div>"
      ],
      "text/plain": [
       "           id                                        name  \\\n",
       "0  1012771667  20200305_489065_Ophys6_VISp_-204_-1222_173   \n",
       "\n",
       "                                   storage_directory workflow_state  \\\n",
       "0  /allen/programs/braintv/production/visualbehav...         passed   \n",
       "\n",
       "   ophys_session_id  targeted_structure_id  imaging_depth_id qc_operator_id  \\\n",
       "0        1012618881                    385         856123128           None   \n",
       "\n",
       "   calculated_depth experiment_container_id  ophys_primary_image_id  \\\n",
       "0             173.0                    None              1012825667   \n",
       "\n",
       "   ophys_z_stack_local_image_id  averaged_surface_image_id  \\\n",
       "0                    1012825657                 1012825659   \n",
       "\n",
       "   averaged_depth_image_id  maximum_intensity_projection_image_id  \\\n",
       "0               1012825663                             1012831288   \n",
       "\n",
       "  mip_isi_offset_x mip_isi_offset_y  movie_width  movie_height  \\\n",
       "0             None             None          512           512   \n",
       "\n",
       "   movie_number_of_frames  raw_movie_width  raw_movie_height  \\\n",
       "0                   48161              512               512   \n",
       "\n",
       "   raw_movie_number_of_frames  ophys_imaging_plane_group_id  \n",
       "0                       48161                    1012771668  "
      ]
     },
     "execution_count": 48,
     "metadata": {},
     "output_type": "execute_result"
    }
   ],
   "source": [
    "lims_query(\"select * from ophys_experiments where id = 1012771667\")"
   ]
  },
  {
   "cell_type": "code",
   "execution_count": null,
   "metadata": {},
   "outputs": [],
   "source": []
  }
 ],
 "metadata": {
  "kernelspec": {
   "display_name": "visual_behavior",
   "language": "python",
   "name": "visual_behavior"
  },
  "language_info": {
   "codemirror_mode": {
    "name": "ipython",
    "version": 3
   },
   "file_extension": ".py",
   "mimetype": "text/x-python",
   "name": "python",
   "nbconvert_exporter": "python",
   "pygments_lexer": "ipython3",
   "version": "3.7.9"
  }
 },
 "nbformat": 4,
 "nbformat_minor": 4
}
