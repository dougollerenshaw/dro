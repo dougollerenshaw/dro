{
 "cells": [
  {
   "cell_type": "code",
   "execution_count": 1,
   "metadata": {},
   "outputs": [
    {
     "name": "stderr",
     "output_type": "stream",
     "text": [
      "/home/dougo/Code/AllenSDK/allensdk/brain_observatory/behavior/behavior_ophys_api/behavior_ophys_nwb_api.py:9: FutureWarning:\n",
      "\n",
      "pandas.util.testing is deprecated. Use the functions in the public API at pandas.testing instead.\n",
      "\n"
     ]
    }
   ],
   "source": [
    "import os\n",
    "import argparse\n",
    "import sys\n",
    "import time\n",
    "import pandas as pd\n",
    "import numpy as  np\n",
    "from visual_behavior import database as db\n",
    "import visual_behavior.data_access.loading as loading\n",
    "sys.path.append('/allen/programs/braintv/workgroups/nc-ophys/visual_behavior/src/')\n",
    "from pbstools import pbstools  # NOQA E402"
   ]
  },
  {
   "cell_type": "code",
   "execution_count": 4,
   "metadata": {},
   "outputs": [],
   "source": [
    "class Cluster(object):\n",
    "    \n",
    "    def __init__(self, env_name, memory='16g', walltime='1:00:00', queue='braintv', ppn=1):\n",
    "        self.env_name = env_name\n",
    "        self.memory = memory\n",
    "        self.walltime = walltime\n",
    "        self.queue = queue\n",
    "        self.ppn = ppn\n",
    "        \n",
    "        self.define_job_settings()\n",
    "    \n",
    "    def define_job_settings(self):\n",
    "        self.job_settings = {\n",
    "            'queue': '{}'.format(self.queue),\n",
    "            'mem': '{}'.format(self.memory),\n",
    "            'walltime': '{}'.format(self.walltime),\n",
    "            'ppn': self.ppn,\n",
    "        }\n",
    "        \n",
    "    def run_job():\n",
    "        pbstools.PythonJob(\n",
    "            python_file,\n",
    "            python_executable,\n",
    "            python_args=\"--experiment-id {} --action {}\".format(experiment_id, action),\n",
    "            jobname=job_title,\n",
    "            jobdir=job_dir,\n",
    "            **job_settings\n",
    "        ).run(dryrun=False)"
   ]
  },
  {
   "cell_type": "code",
   "execution_count": 5,
   "metadata": {},
   "outputs": [
    {
     "data": {
      "text/plain": [
       "{'queue': 'braintv', 'mem': '16g', 'walltime': '1:00:00', 'ppn': 1}"
      ]
     },
     "execution_count": 5,
     "metadata": {},
     "output_type": "execute_result"
    }
   ],
   "source": [
    "cluster = Cluster('visual_behavior')\n",
    "cluster.job_settings"
   ]
  },
  {
   "cell_type": "code",
   "execution_count": null,
   "metadata": {},
   "outputs": [],
   "source": []
  }
 ],
 "metadata": {
  "kernelspec": {
   "display_name": "visual_behavior",
   "language": "python",
   "name": "visual_behavior"
  },
  "language_info": {
   "codemirror_mode": {
    "name": "ipython",
    "version": 3
   },
   "file_extension": ".py",
   "mimetype": "text/x-python",
   "name": "python",
   "nbconvert_exporter": "python",
   "pygments_lexer": "ipython3",
   "version": "3.7.3"
  }
 },
 "nbformat": 4,
 "nbformat_minor": 4
}
