{
 "cells": [
  {
   "cell_type": "code",
   "execution_count": 1,
   "metadata": {},
   "outputs": [],
   "source": [
    "import visual_behavior.database as db\n",
    "import pandas as pd"
   ]
  },
  {
   "cell_type": "markdown",
   "metadata": {},
   "source": [
    "## a function to get motion correction qc records"
   ]
  },
  {
   "cell_type": "code",
   "execution_count": 2,
   "metadata": {},
   "outputs": [],
   "source": [
    "def get_container_qc_records(search_dict={}):\n",
    "    '''\n",
    "    find all session level qc records matching the pattern in search_dict\n",
    "    passing an empty search dict (or no args) returns all records\n",
    "    returns pandas dataframe\n",
    "    '''\n",
    "    conn = db.Database('visual_behavior_data')\n",
    "    collection = conn['ophys_qc']['container_qc_records']\n",
    "    res = list(collection.find(search_dict))\n",
    "    conn.close()\n",
    "    return pd.DataFrame(res)"
   ]
  },
  {
   "cell_type": "markdown",
   "metadata": {},
   "source": [
    "## get all records"
   ]
  },
  {
   "cell_type": "code",
   "execution_count": 3,
   "metadata": {},
   "outputs": [
    {
     "data": {
      "text/html": [
       "<div>\n",
       "<style scoped>\n",
       "    .dataframe tbody tr th:only-of-type {\n",
       "        vertical-align: middle;\n",
       "    }\n",
       "\n",
       "    .dataframe tbody tr th {\n",
       "        vertical-align: top;\n",
       "    }\n",
       "\n",
       "    .dataframe thead th {\n",
       "        text-align: right;\n",
       "    }\n",
       "</style>\n",
       "<table border=\"1\" class=\"dataframe\">\n",
       "  <thead>\n",
       "    <tr style=\"text-align: right;\">\n",
       "      <th></th>\n",
       "      <th>_id</th>\n",
       "      <th>timestamp</th>\n",
       "      <th>username</th>\n",
       "      <th>container_id</th>\n",
       "      <th>experiment_ids</th>\n",
       "      <th>qc_attribute</th>\n",
       "      <th>motion_present</th>\n",
       "      <th>qc_labels</th>\n",
       "      <th>input_text</th>\n",
       "      <th>entry_time_utc</th>\n",
       "      <th>experiment_id</th>\n",
       "    </tr>\n",
       "  </thead>\n",
       "  <tbody>\n",
       "    <tr>\n",
       "      <th>0</th>\n",
       "      <td>ffba77de37c947b0a92946f40bdb2cf9</td>\n",
       "      <td>2021-01-06 17:43:07</td>\n",
       "      <td>None</td>\n",
       "      <td>846213087</td>\n",
       "      <td>848692970.0</td>\n",
       "      <td>Motion Correction</td>\n",
       "      <td>no_motion</td>\n",
       "      <td>none_of_these_problems_in_xy_shift_plot</td>\n",
       "      <td></td>\n",
       "      <td>2021-01-07 01:46:00.645692</td>\n",
       "      <td>NaN</td>\n",
       "    </tr>\n",
       "    <tr>\n",
       "      <th>1</th>\n",
       "      <td>9612b572885c4db6860130fdb607bb59</td>\n",
       "      <td>2021-01-06 17:58:38</td>\n",
       "      <td>None</td>\n",
       "      <td>846213087</td>\n",
       "      <td>849199228.0</td>\n",
       "      <td>Motion Correction</td>\n",
       "      <td>no_motion</td>\n",
       "      <td>none_of_these_problems_in_xy_shift_plot</td>\n",
       "      <td></td>\n",
       "      <td>2021-01-07 01:58:53.587461</td>\n",
       "      <td>NaN</td>\n",
       "    </tr>\n",
       "    <tr>\n",
       "      <th>2</th>\n",
       "      <td>3b55a8c36408435dbd9a567cdab24a80</td>\n",
       "      <td>2021-01-06 18:25:37</td>\n",
       "      <td>None</td>\n",
       "      <td>846213087</td>\n",
       "      <td>850489605.0</td>\n",
       "      <td>Motion Correction</td>\n",
       "      <td>no_motion</td>\n",
       "      <td>none_of_these_problems_in_xy_shift_plot</td>\n",
       "      <td></td>\n",
       "      <td>2021-01-07 02:25:51.692272</td>\n",
       "      <td>NaN</td>\n",
       "    </tr>\n",
       "    <tr>\n",
       "      <th>3</th>\n",
       "      <td>bd679bdb3cd04e719646e179e8bac4e9</td>\n",
       "      <td>2021-01-06 19:25:08</td>\n",
       "      <td>None</td>\n",
       "      <td>846213087</td>\n",
       "      <td>853962969.0</td>\n",
       "      <td>Motion Correction</td>\n",
       "      <td>no_motion</td>\n",
       "      <td>none_of_these_problems_in_xy_shift_plot</td>\n",
       "      <td></td>\n",
       "      <td>2021-01-07 03:30:11.827832</td>\n",
       "      <td>NaN</td>\n",
       "    </tr>\n",
       "    <tr>\n",
       "      <th>4</th>\n",
       "      <td>f621fde327a94ac2a5480f9a067004ba</td>\n",
       "      <td>2021-01-07 11:42:00</td>\n",
       "      <td>marinag</td>\n",
       "      <td>782536745</td>\n",
       "      <td>NaN</td>\n",
       "      <td>Motion Correction</td>\n",
       "      <td>0</td>\n",
       "      <td>other_problem</td>\n",
       "      <td></td>\n",
       "      <td>2021-01-07 19:42:25.129093</td>\n",
       "      <td>778644591</td>\n",
       "    </tr>\n",
       "    <tr>\n",
       "      <th>...</th>\n",
       "      <td>...</td>\n",
       "      <td>...</td>\n",
       "      <td>...</td>\n",
       "      <td>...</td>\n",
       "      <td>...</td>\n",
       "      <td>...</td>\n",
       "      <td>...</td>\n",
       "      <td>...</td>\n",
       "      <td>...</td>\n",
       "      <td>...</td>\n",
       "      <td>...</td>\n",
       "    </tr>\n",
       "    <tr>\n",
       "      <th>569</th>\n",
       "      <td>f9af4386ab96466fb34fd970e5aa752a</td>\n",
       "      <td>2021-01-11 16:03:19</td>\n",
       "      <td>sam</td>\n",
       "      <td>1018028052</td>\n",
       "      <td>NaN</td>\n",
       "      <td>Motion Correction</td>\n",
       "      <td>no_motion</td>\n",
       "      <td>no_problems</td>\n",
       "      <td></td>\n",
       "      <td>2021-01-12 00:03:27.868427</td>\n",
       "      <td>989610986</td>\n",
       "    </tr>\n",
       "    <tr>\n",
       "      <th>570</th>\n",
       "      <td>c66abce6aac84476b023e2d0289cbeaf</td>\n",
       "      <td>2021-01-11 16:03:51</td>\n",
       "      <td>sam</td>\n",
       "      <td>1018028052</td>\n",
       "      <td>NaN</td>\n",
       "      <td>Motion Correction</td>\n",
       "      <td>yes_motion</td>\n",
       "      <td>other_problem</td>\n",
       "      <td>mild jitter</td>\n",
       "      <td>2021-01-12 00:04:02.055155</td>\n",
       "      <td>990400777</td>\n",
       "    </tr>\n",
       "    <tr>\n",
       "      <th>571</th>\n",
       "      <td>5a847fc6993045f2aa57561dc283509e</td>\n",
       "      <td>2021-01-11 16:04:11</td>\n",
       "      <td>sam</td>\n",
       "      <td>1018028052</td>\n",
       "      <td>NaN</td>\n",
       "      <td>Motion Correction</td>\n",
       "      <td>no_motion</td>\n",
       "      <td>no_problems</td>\n",
       "      <td></td>\n",
       "      <td>2021-01-12 00:04:46.541888</td>\n",
       "      <td>990681007</td>\n",
       "    </tr>\n",
       "    <tr>\n",
       "      <th>572</th>\n",
       "      <td>a4f8853d498c494db3323fcba743f3c2</td>\n",
       "      <td>2021-01-11 16:05:14</td>\n",
       "      <td>sam</td>\n",
       "      <td>1018028052</td>\n",
       "      <td>NaN</td>\n",
       "      <td>Motion Correction</td>\n",
       "      <td>yes_motion</td>\n",
       "      <td>other_problem</td>\n",
       "      <td>mild jitter</td>\n",
       "      <td>2021-01-12 00:05:24.622711</td>\n",
       "      <td>991852001</td>\n",
       "    </tr>\n",
       "    <tr>\n",
       "      <th>573</th>\n",
       "      <td>88799e7c47a14b39865a282dd0abb3d6</td>\n",
       "      <td>2021-01-11 16:09:08</td>\n",
       "      <td>sam</td>\n",
       "      <td>1018027981</td>\n",
       "      <td>NaN</td>\n",
       "      <td>Motion Correction</td>\n",
       "      <td>no_motion</td>\n",
       "      <td>no_problems</td>\n",
       "      <td></td>\n",
       "      <td>2021-01-12 00:09:15.763895</td>\n",
       "      <td>1006562227</td>\n",
       "    </tr>\n",
       "  </tbody>\n",
       "</table>\n",
       "<p>574 rows × 11 columns</p>\n",
       "</div>"
      ],
      "text/plain": [
       "                                  _id            timestamp username  \\\n",
       "0    ffba77de37c947b0a92946f40bdb2cf9  2021-01-06 17:43:07     None   \n",
       "1    9612b572885c4db6860130fdb607bb59  2021-01-06 17:58:38     None   \n",
       "2    3b55a8c36408435dbd9a567cdab24a80  2021-01-06 18:25:37     None   \n",
       "3    bd679bdb3cd04e719646e179e8bac4e9  2021-01-06 19:25:08     None   \n",
       "4    f621fde327a94ac2a5480f9a067004ba  2021-01-07 11:42:00  marinag   \n",
       "..                                ...                  ...      ...   \n",
       "569  f9af4386ab96466fb34fd970e5aa752a  2021-01-11 16:03:19      sam   \n",
       "570  c66abce6aac84476b023e2d0289cbeaf  2021-01-11 16:03:51      sam   \n",
       "571  5a847fc6993045f2aa57561dc283509e  2021-01-11 16:04:11      sam   \n",
       "572  a4f8853d498c494db3323fcba743f3c2  2021-01-11 16:05:14      sam   \n",
       "573  88799e7c47a14b39865a282dd0abb3d6  2021-01-11 16:09:08      sam   \n",
       "\n",
       "     container_id  experiment_ids       qc_attribute motion_present  \\\n",
       "0       846213087     848692970.0  Motion Correction      no_motion   \n",
       "1       846213087     849199228.0  Motion Correction      no_motion   \n",
       "2       846213087     850489605.0  Motion Correction      no_motion   \n",
       "3       846213087     853962969.0  Motion Correction      no_motion   \n",
       "4       782536745             NaN  Motion Correction              0   \n",
       "..            ...             ...                ...            ...   \n",
       "569    1018028052             NaN  Motion Correction      no_motion   \n",
       "570    1018028052             NaN  Motion Correction     yes_motion   \n",
       "571    1018028052             NaN  Motion Correction      no_motion   \n",
       "572    1018028052             NaN  Motion Correction     yes_motion   \n",
       "573    1018027981             NaN  Motion Correction      no_motion   \n",
       "\n",
       "                                   qc_labels   input_text  \\\n",
       "0    none_of_these_problems_in_xy_shift_plot                \n",
       "1    none_of_these_problems_in_xy_shift_plot                \n",
       "2    none_of_these_problems_in_xy_shift_plot                \n",
       "3    none_of_these_problems_in_xy_shift_plot                \n",
       "4                              other_problem                \n",
       "..                                       ...          ...   \n",
       "569                              no_problems                \n",
       "570                            other_problem  mild jitter   \n",
       "571                              no_problems                \n",
       "572                            other_problem  mild jitter   \n",
       "573                              no_problems                \n",
       "\n",
       "                 entry_time_utc experiment_id  \n",
       "0    2021-01-07 01:46:00.645692           NaN  \n",
       "1    2021-01-07 01:58:53.587461           NaN  \n",
       "2    2021-01-07 02:25:51.692272           NaN  \n",
       "3    2021-01-07 03:30:11.827832           NaN  \n",
       "4    2021-01-07 19:42:25.129093     778644591  \n",
       "..                          ...           ...  \n",
       "569  2021-01-12 00:03:27.868427     989610986  \n",
       "570  2021-01-12 00:04:02.055155     990400777  \n",
       "571  2021-01-12 00:04:46.541888     990681007  \n",
       "572  2021-01-12 00:05:24.622711     991852001  \n",
       "573  2021-01-12 00:09:15.763895    1006562227  \n",
       "\n",
       "[574 rows x 11 columns]"
      ]
     },
     "execution_count": 3,
     "metadata": {},
     "output_type": "execute_result"
    }
   ],
   "source": [
    "motion_correction_records = get_container_qc_records({'qc_attribute':'Motion Correction'})\n",
    "motion_correction_records"
   ]
  },
  {
   "cell_type": "markdown",
   "metadata": {},
   "source": [
    "## identify records where the user failed to select an experiment ID (my bad - my app was supposed to require it but I screwed up!)"
   ]
  },
  {
   "cell_type": "code",
   "execution_count": 4,
   "metadata": {},
   "outputs": [],
   "source": [
    "def has_experiment_id(row):\n",
    "    return isinstance(row['experiment_id'], int)\n",
    "motion_correction_records['has_oeid'] = motion_correction_records.apply(has_experiment_id, axis=1)"
   ]
  },
  {
   "cell_type": "markdown",
   "metadata": {},
   "source": [
    "## examine data"
   ]
  },
  {
   "cell_type": "code",
   "execution_count": 5,
   "metadata": {},
   "outputs": [
    {
     "data": {
      "text/plain": [
       "array([None, 'marinag', 'alex', 'nataliao', 'sam', 'dougo', 'KateR',\n",
       "       'farzaneh', 'peterg', 'michael', 'iryna', 'sams', 'peterl',\n",
       "       'Kate R'], dtype=object)"
      ]
     },
     "execution_count": 5,
     "metadata": {},
     "output_type": "execute_result"
    }
   ],
   "source": [
    "motion_correction_records['username'].unique()"
   ]
  },
  {
   "cell_type": "code",
   "execution_count": 6,
   "metadata": {},
   "outputs": [
    {
     "data": {
      "text/plain": [
       "array(['no_motion', 0, 'missing_movie', 'yes_motion',\n",
       "       'movie_too_noisy_to_tell', 'movie_too_dim_to_tell'], dtype=object)"
      ]
     },
     "execution_count": 6,
     "metadata": {},
     "output_type": "execute_result"
    }
   ],
   "source": [
    "motion_correction_records['motion_present'].unique()"
   ]
  },
  {
   "cell_type": "markdown",
   "metadata": {},
   "source": [
    "## get movies with motion"
   ]
  },
  {
   "cell_type": "code",
   "execution_count": 7,
   "metadata": {},
   "outputs": [
    {
     "data": {
      "text/plain": [
       "153"
      ]
     },
     "execution_count": 7,
     "metadata": {},
     "output_type": "execute_result"
    }
   ],
   "source": [
    "movies_with_motion = motion_correction_records.query('motion_present == \"yes_motion\" and has_oeid')\n",
    "len(movies_with_motion)"
   ]
  },
  {
   "cell_type": "markdown",
   "metadata": {},
   "source": [
    "## get movies with no motion and no problems"
   ]
  },
  {
   "cell_type": "code",
   "execution_count": 8,
   "metadata": {},
   "outputs": [
    {
     "data": {
      "text/plain": [
       "229"
      ]
     },
     "execution_count": 8,
     "metadata": {},
     "output_type": "execute_result"
    }
   ],
   "source": [
    "movies_without_motion = motion_correction_records.query('motion_present == \"no_motion\" and qc_labels == \"no_problems\" and has_oeid')\n",
    "len(movies_without_motion)"
   ]
  },
  {
   "cell_type": "markdown",
   "metadata": {},
   "source": [
    "## combine all sessions with motion and 25 randomly sampled movies without motion"
   ]
  },
  {
   "cell_type": "code",
   "execution_count": 9,
   "metadata": {},
   "outputs": [
    {
     "data": {
      "text/html": [
       "<div>\n",
       "<style scoped>\n",
       "    .dataframe tbody tr th:only-of-type {\n",
       "        vertical-align: middle;\n",
       "    }\n",
       "\n",
       "    .dataframe tbody tr th {\n",
       "        vertical-align: top;\n",
       "    }\n",
       "\n",
       "    .dataframe thead th {\n",
       "        text-align: right;\n",
       "    }\n",
       "</style>\n",
       "<table border=\"1\" class=\"dataframe\">\n",
       "  <thead>\n",
       "    <tr style=\"text-align: right;\">\n",
       "      <th></th>\n",
       "      <th>experiment_id</th>\n",
       "      <th>motion_present</th>\n",
       "      <th>qc_labels</th>\n",
       "      <th>input_text</th>\n",
       "      <th>username</th>\n",
       "    </tr>\n",
       "  </thead>\n",
       "  <tbody>\n",
       "    <tr>\n",
       "      <th>21</th>\n",
       "      <td>885067826</td>\n",
       "      <td>yes_motion</td>\n",
       "      <td>other_problem</td>\n",
       "      <td></td>\n",
       "      <td>alex</td>\n",
       "    </tr>\n",
       "    <tr>\n",
       "      <th>27</th>\n",
       "      <td>908381686</td>\n",
       "      <td>yes_motion</td>\n",
       "      <td>none_of_these_problems_in_xy_shift_plot</td>\n",
       "      <td></td>\n",
       "      <td>peterg</td>\n",
       "    </tr>\n",
       "    <tr>\n",
       "      <th>43</th>\n",
       "      <td>908381686</td>\n",
       "      <td>yes_motion</td>\n",
       "      <td>anomalous_bump_in_xy_shift_plot</td>\n",
       "      <td></td>\n",
       "      <td>peterg</td>\n",
       "    </tr>\n",
       "    <tr>\n",
       "      <th>59</th>\n",
       "      <td>825623170</td>\n",
       "      <td>yes_motion</td>\n",
       "      <td>other_problem</td>\n",
       "      <td>motion visible along the x axis, apparently no...</td>\n",
       "      <td>sam</td>\n",
       "    </tr>\n",
       "    <tr>\n",
       "      <th>60</th>\n",
       "      <td>930996067</td>\n",
       "      <td>yes_motion</td>\n",
       "      <td>no_problems</td>\n",
       "      <td></td>\n",
       "      <td>KateR</td>\n",
       "    </tr>\n",
       "    <tr>\n",
       "      <th>...</th>\n",
       "      <td>...</td>\n",
       "      <td>...</td>\n",
       "      <td>...</td>\n",
       "      <td>...</td>\n",
       "      <td>...</td>\n",
       "    </tr>\n",
       "    <tr>\n",
       "      <th>410</th>\n",
       "      <td>993341877</td>\n",
       "      <td>no_motion</td>\n",
       "      <td>no_problems</td>\n",
       "      <td></td>\n",
       "      <td>marinag</td>\n",
       "    </tr>\n",
       "    <tr>\n",
       "      <th>269</th>\n",
       "      <td>806455766</td>\n",
       "      <td>no_motion</td>\n",
       "      <td>no_problems</td>\n",
       "      <td></td>\n",
       "      <td>peterl</td>\n",
       "    </tr>\n",
       "    <tr>\n",
       "      <th>524</th>\n",
       "      <td>973927944</td>\n",
       "      <td>no_motion</td>\n",
       "      <td>no_problems</td>\n",
       "      <td></td>\n",
       "      <td>nataliao</td>\n",
       "    </tr>\n",
       "    <tr>\n",
       "      <th>528</th>\n",
       "      <td>977937585</td>\n",
       "      <td>no_motion</td>\n",
       "      <td>no_problems</td>\n",
       "      <td></td>\n",
       "      <td>nataliao</td>\n",
       "    </tr>\n",
       "    <tr>\n",
       "      <th>270</th>\n",
       "      <td>806989729</td>\n",
       "      <td>no_motion</td>\n",
       "      <td>no_problems</td>\n",
       "      <td></td>\n",
       "      <td>peterl</td>\n",
       "    </tr>\n",
       "  </tbody>\n",
       "</table>\n",
       "<p>178 rows × 5 columns</p>\n",
       "</div>"
      ],
      "text/plain": [
       "    experiment_id motion_present                                qc_labels  \\\n",
       "21      885067826     yes_motion                            other_problem   \n",
       "27      908381686     yes_motion  none_of_these_problems_in_xy_shift_plot   \n",
       "43      908381686     yes_motion          anomalous_bump_in_xy_shift_plot   \n",
       "59      825623170     yes_motion                            other_problem   \n",
       "60      930996067     yes_motion                              no_problems   \n",
       "..            ...            ...                                      ...   \n",
       "410     993341877      no_motion                              no_problems   \n",
       "269     806455766      no_motion                              no_problems   \n",
       "524     973927944      no_motion                              no_problems   \n",
       "528     977937585      no_motion                              no_problems   \n",
       "270     806989729      no_motion                              no_problems   \n",
       "\n",
       "                                            input_text  username  \n",
       "21                                                          alex  \n",
       "27                                                        peterg  \n",
       "43                                                        peterg  \n",
       "59   motion visible along the x axis, apparently no...       sam  \n",
       "60                                                         KateR  \n",
       "..                                                 ...       ...  \n",
       "410                                                      marinag  \n",
       "269                                                       peterl  \n",
       "524                                                     nataliao  \n",
       "528                                                     nataliao  \n",
       "270                                                       peterl  \n",
       "\n",
       "[178 rows x 5 columns]"
      ]
     },
     "execution_count": 9,
     "metadata": {},
     "output_type": "execute_result"
    }
   ],
   "source": [
    "cols_to_save = ['experiment_id','motion_present','qc_labels','input_text','username']\n",
    "data_to_save = pd.concat([movies_with_motion, movies_without_motion.sample(25, random_state=0)])\n",
    "data_to_save[cols_to_save]"
   ]
  },
  {
   "cell_type": "markdown",
   "metadata": {},
   "source": [
    "## save to csv"
   ]
  },
  {
   "cell_type": "code",
   "execution_count": 11,
   "metadata": {},
   "outputs": [],
   "source": [
    "data_to_save[cols_to_save].to_csv('/allen/programs/braintv/workgroups/nc-ophys/visual_behavior/2021.01.21_movies_for_dan_to_mc.csv', index=False)"
   ]
  },
  {
   "cell_type": "code",
   "execution_count": null,
   "metadata": {},
   "outputs": [],
   "source": []
  }
 ],
 "metadata": {
  "kernelspec": {
   "display_name": "vba",
   "language": "python",
   "name": "vba"
  },
  "language_info": {
   "codemirror_mode": {
    "name": "ipython",
    "version": 3
   },
   "file_extension": ".py",
   "mimetype": "text/x-python",
   "name": "python",
   "nbconvert_exporter": "python",
   "pygments_lexer": "ipython3",
   "version": "3.7.9"
  }
 },
 "nbformat": 4,
 "nbformat_minor": 4
}
