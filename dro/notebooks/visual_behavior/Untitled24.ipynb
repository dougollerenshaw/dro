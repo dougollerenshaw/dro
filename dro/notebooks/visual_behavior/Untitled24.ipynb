{
 "cells": [
  {
   "cell_type": "code",
   "execution_count": 1,
   "metadata": {},
   "outputs": [],
   "source": [
    "from visual_behavior.visualization.qc.dash_app import functions\n",
    "from visual_behavior.data_access import loading"
   ]
  },
  {
   "cell_type": "code",
   "execution_count": 35,
   "metadata": {},
   "outputs": [],
   "source": []
  },
  {
   "cell_type": "code",
   "execution_count": 10,
   "metadata": {},
   "outputs": [
    {
     "data": {
      "text/html": [
       "<div>\n",
       "<style scoped>\n",
       "    .dataframe tbody tr th:only-of-type {\n",
       "        vertical-align: middle;\n",
       "    }\n",
       "\n",
       "    .dataframe tbody tr th {\n",
       "        vertical-align: top;\n",
       "    }\n",
       "\n",
       "    .dataframe thead th {\n",
       "        text-align: right;\n",
       "    }\n",
       "</style>\n",
       "<table border=\"1\" class=\"dataframe\">\n",
       "  <thead>\n",
       "    <tr style=\"text-align: right;\">\n",
       "      <th></th>\n",
       "      <th>container_id</th>\n",
       "      <th>motion_correction_has_qc</th>\n",
       "      <th>cell_matching_has_qc</th>\n",
       "      <th>assigned_user</th>\n",
       "      <th>cre_line</th>\n",
       "      <th>equipment_name</th>\n",
       "      <th>equipment_name</th>\n",
       "      <th>first_acquistion_date</th>\n",
       "      <th>targeted_structure</th>\n",
       "      <th>imaging_depth</th>\n",
       "      <th>project_code</th>\n",
       "      <th>container_workflow_state</th>\n",
       "      <th>specimen_id</th>\n",
       "      <th>super_container_id</th>\n",
       "      <th>experiment_count</th>\n",
       "      <th>date_of_acquisition</th>\n",
       "      <th>container_group</th>\n",
       "    </tr>\n",
       "  </thead>\n",
       "  <tbody>\n",
       "    <tr>\n",
       "      <th>14</th>\n",
       "      <td>1018027847</td>\n",
       "      <td>False</td>\n",
       "      <td>True</td>\n",
       "      <td>doug</td>\n",
       "      <td>Vip-IRES-Cre</td>\n",
       "      <td>MESO.1</td>\n",
       "      <td>MESO.1</td>\n",
       "      <td>2019-04-05 11:50:20.000000</td>\n",
       "      <td>VISp</td>\n",
       "      <td>75</td>\n",
       "      <td>VisualBehaviorMultiscope</td>\n",
       "      <td>container_qc</td>\n",
       "      <td>810573072</td>\n",
       "      <td>810573072</td>\n",
       "      <td>4</td>\n",
       "      <td>2019-04-05 11:50:20.000000</td>\n",
       "      <td>8</td>\n",
       "    </tr>\n",
       "    <tr>\n",
       "      <th>20</th>\n",
       "      <td>846213087</td>\n",
       "      <td>False</td>\n",
       "      <td>True</td>\n",
       "      <td>doug</td>\n",
       "      <td>Slc17a7-IRES2-Cre</td>\n",
       "      <td>CAM2P.4</td>\n",
       "      <td>CAM2P.4</td>\n",
       "      <td>2019-04-09 17:08:32.000000</td>\n",
       "      <td>VISp</td>\n",
       "      <td>375</td>\n",
       "      <td>VisualBehavior</td>\n",
       "      <td>container_qc</td>\n",
       "      <td>803258386</td>\n",
       "      <td>803258386</td>\n",
       "      <td>6</td>\n",
       "      <td>2019-04-09 17:08:32.000000</td>\n",
       "      <td>1</td>\n",
       "    </tr>\n",
       "    <tr>\n",
       "      <th>21</th>\n",
       "      <td>846215539</td>\n",
       "      <td>False</td>\n",
       "      <td>True</td>\n",
       "      <td>doug</td>\n",
       "      <td>Slc17a7-IRES2-Cre</td>\n",
       "      <td>CAM2P.3</td>\n",
       "      <td>CAM2P.3</td>\n",
       "      <td>2019-04-09 17:15:25.000000</td>\n",
       "      <td>VISp</td>\n",
       "      <td>375</td>\n",
       "      <td>VisualBehavior</td>\n",
       "      <td>container_qc</td>\n",
       "      <td>820878213</td>\n",
       "      <td>820878213</td>\n",
       "      <td>6</td>\n",
       "      <td>2019-04-09 17:15:25.000000</td>\n",
       "      <td>5</td>\n",
       "    </tr>\n",
       "    <tr>\n",
       "      <th>30</th>\n",
       "      <td>848390542</td>\n",
       "      <td>False</td>\n",
       "      <td>True</td>\n",
       "      <td>doug</td>\n",
       "      <td>Slc17a7-IRES2-Cre</td>\n",
       "      <td>CAM2P.4</td>\n",
       "      <td>CAM2P.4</td>\n",
       "      <td>2019-04-17 15:54:23.000000</td>\n",
       "      <td>VISp</td>\n",
       "      <td>175</td>\n",
       "      <td>VisualBehavior</td>\n",
       "      <td>container_qc</td>\n",
       "      <td>823826986</td>\n",
       "      <td>823826986</td>\n",
       "      <td>6</td>\n",
       "      <td>2019-04-17 15:54:23.000000</td>\n",
       "      <td>22</td>\n",
       "    </tr>\n",
       "    <tr>\n",
       "      <th>139</th>\n",
       "      <td>1018027744</td>\n",
       "      <td>False</td>\n",
       "      <td>True</td>\n",
       "      <td>doug</td>\n",
       "      <td>Slc17a7-IRES2-Cre</td>\n",
       "      <td>MESO.1</td>\n",
       "      <td>MESO.1</td>\n",
       "      <td>2019-10-01 10:35:03.000000</td>\n",
       "      <td>VISam</td>\n",
       "      <td>275</td>\n",
       "      <td>VisualBehaviorMultiscope4areasx2d</td>\n",
       "      <td>container_qc</td>\n",
       "      <td>900263316</td>\n",
       "      <td>900263316</td>\n",
       "      <td>6</td>\n",
       "      <td>2019-10-01 10:35:03.000000</td>\n",
       "      <td>14</td>\n",
       "    </tr>\n",
       "    <tr>\n",
       "      <th>149</th>\n",
       "      <td>1018028034</td>\n",
       "      <td>False</td>\n",
       "      <td>True</td>\n",
       "      <td>doug</td>\n",
       "      <td>Slc17a7-IRES2-Cre</td>\n",
       "      <td>MESO.1</td>\n",
       "      <td>MESO.1</td>\n",
       "      <td>2019-10-09 13:22:46.634833</td>\n",
       "      <td>VISal</td>\n",
       "      <td>275</td>\n",
       "      <td>VisualBehaviorMultiscope4areasx2d</td>\n",
       "      <td>container_qc</td>\n",
       "      <td>912560523</td>\n",
       "      <td>912560523</td>\n",
       "      <td>5</td>\n",
       "      <td>2019-10-09 13:22:46.634833</td>\n",
       "      <td>18</td>\n",
       "    </tr>\n",
       "    <tr>\n",
       "      <th>203</th>\n",
       "      <td>989461845</td>\n",
       "      <td>False</td>\n",
       "      <td>True</td>\n",
       "      <td>doug</td>\n",
       "      <td>Sst-IRES-Cre</td>\n",
       "      <td>CAM2P.3</td>\n",
       "      <td>CAM2P.3</td>\n",
       "      <td>2019-12-04 20:10:14.000000</td>\n",
       "      <td>VISp</td>\n",
       "      <td>275</td>\n",
       "      <td>VisualBehaviorTask1B</td>\n",
       "      <td>container_qc</td>\n",
       "      <td>940744053</td>\n",
       "      <td>940744053</td>\n",
       "      <td>6</td>\n",
       "      <td>2019-12-04 20:10:14.000000</td>\n",
       "      <td>24</td>\n",
       "    </tr>\n",
       "    <tr>\n",
       "      <th>240</th>\n",
       "      <td>1036303886</td>\n",
       "      <td>False</td>\n",
       "      <td>True</td>\n",
       "      <td>doug</td>\n",
       "      <td>Slc17a7-IRES2-Cre</td>\n",
       "      <td>CAM2P.3</td>\n",
       "      <td>CAM2P.3</td>\n",
       "      <td>2020-07-21 18:21:37.000000</td>\n",
       "      <td>VISp</td>\n",
       "      <td>175</td>\n",
       "      <td>VisualBehaviorTask1B</td>\n",
       "      <td>holding</td>\n",
       "      <td>1009380979</td>\n",
       "      <td>1009380979</td>\n",
       "      <td>6</td>\n",
       "      <td>2020-07-21 18:21:37.000000</td>\n",
       "      <td>17</td>\n",
       "    </tr>\n",
       "    <tr>\n",
       "      <th>241</th>\n",
       "      <td>1037672795</td>\n",
       "      <td>False</td>\n",
       "      <td>True</td>\n",
       "      <td>doug</td>\n",
       "      <td>Slc17a7-IRES2-Cre</td>\n",
       "      <td>MESO.1</td>\n",
       "      <td>MESO.1</td>\n",
       "      <td>2020-07-24 10:07:29.374396</td>\n",
       "      <td>VISal</td>\n",
       "      <td>175</td>\n",
       "      <td>VisualBehaviorMultiscope4areasx2d</td>\n",
       "      <td>holding</td>\n",
       "      <td>1010927858</td>\n",
       "      <td>1010927858</td>\n",
       "      <td>7</td>\n",
       "      <td>2020-07-24 10:07:29.374396</td>\n",
       "      <td>0</td>\n",
       "    </tr>\n",
       "    <tr>\n",
       "      <th>246</th>\n",
       "      <td>1037672792</td>\n",
       "      <td>False</td>\n",
       "      <td>True</td>\n",
       "      <td>doug</td>\n",
       "      <td>Slc17a7-IRES2-Cre</td>\n",
       "      <td>MESO.1</td>\n",
       "      <td>MESO.1</td>\n",
       "      <td>2020-07-24 10:07:29.374396</td>\n",
       "      <td>VISl</td>\n",
       "      <td>275</td>\n",
       "      <td>VisualBehaviorMultiscope4areasx2d</td>\n",
       "      <td>holding</td>\n",
       "      <td>1010927858</td>\n",
       "      <td>1010927858</td>\n",
       "      <td>7</td>\n",
       "      <td>2020-07-24 10:07:29.374396</td>\n",
       "      <td>15</td>\n",
       "    </tr>\n",
       "  </tbody>\n",
       "</table>\n",
       "</div>"
      ],
      "text/plain": [
       "     container_id  motion_correction_has_qc  cell_matching_has_qc  \\\n",
       "14     1018027847                     False                  True   \n",
       "20      846213087                     False                  True   \n",
       "21      846215539                     False                  True   \n",
       "30      848390542                     False                  True   \n",
       "139    1018027744                     False                  True   \n",
       "149    1018028034                     False                  True   \n",
       "203     989461845                     False                  True   \n",
       "240    1036303886                     False                  True   \n",
       "241    1037672795                     False                  True   \n",
       "246    1037672792                     False                  True   \n",
       "\n",
       "    assigned_user           cre_line equipment_name equipment_name  \\\n",
       "14           doug       Vip-IRES-Cre         MESO.1         MESO.1   \n",
       "20           doug  Slc17a7-IRES2-Cre        CAM2P.4        CAM2P.4   \n",
       "21           doug  Slc17a7-IRES2-Cre        CAM2P.3        CAM2P.3   \n",
       "30           doug  Slc17a7-IRES2-Cre        CAM2P.4        CAM2P.4   \n",
       "139          doug  Slc17a7-IRES2-Cre         MESO.1         MESO.1   \n",
       "149          doug  Slc17a7-IRES2-Cre         MESO.1         MESO.1   \n",
       "203          doug       Sst-IRES-Cre        CAM2P.3        CAM2P.3   \n",
       "240          doug  Slc17a7-IRES2-Cre        CAM2P.3        CAM2P.3   \n",
       "241          doug  Slc17a7-IRES2-Cre         MESO.1         MESO.1   \n",
       "246          doug  Slc17a7-IRES2-Cre         MESO.1         MESO.1   \n",
       "\n",
       "          first_acquistion_date targeted_structure  imaging_depth  \\\n",
       "14   2019-04-05 11:50:20.000000               VISp             75   \n",
       "20   2019-04-09 17:08:32.000000               VISp            375   \n",
       "21   2019-04-09 17:15:25.000000               VISp            375   \n",
       "30   2019-04-17 15:54:23.000000               VISp            175   \n",
       "139  2019-10-01 10:35:03.000000              VISam            275   \n",
       "149  2019-10-09 13:22:46.634833              VISal            275   \n",
       "203  2019-12-04 20:10:14.000000               VISp            275   \n",
       "240  2020-07-21 18:21:37.000000               VISp            175   \n",
       "241  2020-07-24 10:07:29.374396              VISal            175   \n",
       "246  2020-07-24 10:07:29.374396               VISl            275   \n",
       "\n",
       "                          project_code container_workflow_state  specimen_id  \\\n",
       "14            VisualBehaviorMultiscope             container_qc    810573072   \n",
       "20                      VisualBehavior             container_qc    803258386   \n",
       "21                      VisualBehavior             container_qc    820878213   \n",
       "30                      VisualBehavior             container_qc    823826986   \n",
       "139  VisualBehaviorMultiscope4areasx2d             container_qc    900263316   \n",
       "149  VisualBehaviorMultiscope4areasx2d             container_qc    912560523   \n",
       "203               VisualBehaviorTask1B             container_qc    940744053   \n",
       "240               VisualBehaviorTask1B                  holding   1009380979   \n",
       "241  VisualBehaviorMultiscope4areasx2d                  holding   1010927858   \n",
       "246  VisualBehaviorMultiscope4areasx2d                  holding   1010927858   \n",
       "\n",
       "     super_container_id  experiment_count         date_of_acquisition  \\\n",
       "14            810573072                 4  2019-04-05 11:50:20.000000   \n",
       "20            803258386                 6  2019-04-09 17:08:32.000000   \n",
       "21            820878213                 6  2019-04-09 17:15:25.000000   \n",
       "30            823826986                 6  2019-04-17 15:54:23.000000   \n",
       "139           900263316                 6  2019-10-01 10:35:03.000000   \n",
       "149           912560523                 5  2019-10-09 13:22:46.634833   \n",
       "203           940744053                 6  2019-12-04 20:10:14.000000   \n",
       "240          1009380979                 6  2020-07-21 18:21:37.000000   \n",
       "241          1010927858                 7  2020-07-24 10:07:29.374396   \n",
       "246          1010927858                 7  2020-07-24 10:07:29.374396   \n",
       "\n",
       "     container_group  \n",
       "14                 8  \n",
       "20                 1  \n",
       "21                 5  \n",
       "30                22  \n",
       "139               14  \n",
       "149               18  \n",
       "203               24  \n",
       "240               17  \n",
       "241                0  \n",
       "246               15  "
      ]
     },
     "execution_count": 10,
     "metadata": {},
     "output_type": "execute_result"
    }
   ],
   "source": [
    "container_df = functions.load_data()\n",
    "container_df.query('assigned_user == \"doug\"')"
   ]
  },
  {
   "cell_type": "code",
   "execution_count": 3,
   "metadata": {},
   "outputs": [],
   "source": [
    "from importlib import reload"
   ]
  },
  {
   "cell_type": "code",
   "execution_count": 49,
   "metadata": {},
   "outputs": [
    {
     "data": {
      "text/plain": [
       "<module 'visual_behavior.visualization.qc.dash_app.functions' from '/home/dougo/vb_qc_app/visual_behavior_analysis/visual_behavior/visualization/qc/dash_app/functions.py'>"
      ]
     },
     "execution_count": 49,
     "metadata": {},
     "output_type": "execute_result"
    }
   ],
   "source": [
    "reload(functions)"
   ]
  },
  {
   "cell_type": "code",
   "execution_count": 50,
   "metadata": {},
   "outputs": [
    {
     "name": "stdout",
     "output_type": "stream",
     "text": [
      "nan\n",
      "nan\n",
      "nan\n",
      "nan\n",
      "848692970.0\n",
      "849199228.0\n",
      "850489605.0\n",
      "851056106.0\n",
      "851932055.0\n",
      "853962969.0\n"
     ]
    },
    {
     "data": {
      "text/plain": [
       "[848692970, 849199228, 850489605, 851056106, 851932055, 853962969]"
      ]
     },
     "execution_count": 50,
     "metadata": {},
     "output_type": "execute_result"
    }
   ],
   "source": [
    "functions.get_qcd_oeids(846213087, 'Motion Correction')"
   ]
  },
  {
   "cell_type": "code",
   "execution_count": 51,
   "metadata": {},
   "outputs": [
    {
     "name": "stdout",
     "output_type": "stream",
     "text": [
      "nan\n",
      "nan\n",
      "nan\n",
      "nan\n",
      "848692970.0\n",
      "849199228.0\n",
      "850489605.0\n",
      "851056106.0\n",
      "851932055.0\n",
      "853962969.0\n"
     ]
    },
    {
     "data": {
      "text/plain": [
       "True"
      ]
     },
     "execution_count": 51,
     "metadata": {},
     "output_type": "execute_result"
    }
   ],
   "source": [
    "functions.qc_for_all_experiments(846213087, 'Motion Correction')"
   ]
  },
  {
   "cell_type": "code",
   "execution_count": 7,
   "metadata": {},
   "outputs": [
    {
     "data": {
      "text/plain": [
       "[775614751, 778644591, 788490510, 792812544, 796106850]"
      ]
     },
     "execution_count": 7,
     "metadata": {},
     "output_type": "execute_result"
    }
   ],
   "source": [
    "functions.get_qcd_oeids(782536745, 'Nway Production Warp Summary')"
   ]
  },
  {
   "cell_type": "code",
   "execution_count": 8,
   "metadata": {},
   "outputs": [
    {
     "data": {
      "text/plain": [
       "True"
      ]
     },
     "execution_count": 8,
     "metadata": {},
     "output_type": "execute_result"
    }
   ],
   "source": [
    "functions.qc_for_all_experiments(782536745, 'Nway Production Warp Summary')"
   ]
  },
  {
   "cell_type": "code",
   "execution_count": 11,
   "metadata": {},
   "outputs": [
    {
     "name": "stdout",
     "output_type": "stream",
     "text": [
      "> \u001b[0;32m/home/dougo/vb_qc_app/visual_behavior_analysis/visual_behavior/visualization/qc/dash_app/functions.py\u001b[0m(218)\u001b[0;36m<listcomp>\u001b[0;34m()\u001b[0m\n",
      "\u001b[0;32m    216 \u001b[0;31m    \u001b[0;31m# try:\u001b[0m\u001b[0;34m\u001b[0m\u001b[0;34m\u001b[0m\u001b[0;34m\u001b[0m\u001b[0m\n",
      "\u001b[0m\u001b[0;32m    217 \u001b[0;31m    \u001b[0;32mif\u001b[0m \u001b[0mlen\u001b[0m\u001b[0;34m(\u001b[0m\u001b[0mres\u001b[0m\u001b[0;34m)\u001b[0m \u001b[0;34m>\u001b[0m \u001b[0;36m0\u001b[0m\u001b[0;34m:\u001b[0m\u001b[0;34m\u001b[0m\u001b[0;34m\u001b[0m\u001b[0m\n",
      "\u001b[0m\u001b[0;32m--> 218 \u001b[0;31m        \u001b[0moeids\u001b[0m \u001b[0;34m=\u001b[0m \u001b[0;34m[\u001b[0m\u001b[0mitem\u001b[0m \u001b[0;32mfor\u001b[0m \u001b[0msublist\u001b[0m \u001b[0;32min\u001b[0m \u001b[0mres\u001b[0m\u001b[0;34m[\u001b[0m\u001b[0;34m'experiment_ids'\u001b[0m\u001b[0;34m]\u001b[0m \u001b[0;32mfor\u001b[0m \u001b[0mitem\u001b[0m \u001b[0;32min\u001b[0m \u001b[0msublist\u001b[0m\u001b[0;34m]\u001b[0m\u001b[0;34m\u001b[0m\u001b[0;34m\u001b[0m\u001b[0m\n",
      "\u001b[0m\u001b[0;32m    219 \u001b[0;31m        \u001b[0;32mreturn\u001b[0m \u001b[0moeids\u001b[0m\u001b[0;34m\u001b[0m\u001b[0;34m\u001b[0m\u001b[0m\n",
      "\u001b[0m\u001b[0;32m    220 \u001b[0;31m    \u001b[0;32melse\u001b[0m\u001b[0;34m:\u001b[0m\u001b[0;34m\u001b[0m\u001b[0;34m\u001b[0m\u001b[0m\n",
      "\u001b[0m\n",
      "ipdb> res['experiment_ids']\n",
      "*** NameError: name 'res' is not defined\n",
      "ipdb> res\n",
      "*** NameError: name 'res' is not defined\n",
      "ipdb> u\n",
      "> \u001b[0;32m/home/dougo/vb_qc_app/visual_behavior_analysis/visual_behavior/visualization/qc/dash_app/functions.py\u001b[0m(218)\u001b[0;36mget_qcd_oeids\u001b[0;34m()\u001b[0m\n",
      "\u001b[0;32m    216 \u001b[0;31m    \u001b[0;31m# try:\u001b[0m\u001b[0;34m\u001b[0m\u001b[0;34m\u001b[0m\u001b[0;34m\u001b[0m\u001b[0m\n",
      "\u001b[0m\u001b[0;32m    217 \u001b[0;31m    \u001b[0;32mif\u001b[0m \u001b[0mlen\u001b[0m\u001b[0;34m(\u001b[0m\u001b[0mres\u001b[0m\u001b[0;34m)\u001b[0m \u001b[0;34m>\u001b[0m \u001b[0;36m0\u001b[0m\u001b[0;34m:\u001b[0m\u001b[0;34m\u001b[0m\u001b[0;34m\u001b[0m\u001b[0m\n",
      "\u001b[0m\u001b[0;32m--> 218 \u001b[0;31m        \u001b[0moeids\u001b[0m \u001b[0;34m=\u001b[0m \u001b[0;34m[\u001b[0m\u001b[0mitem\u001b[0m \u001b[0;32mfor\u001b[0m \u001b[0msublist\u001b[0m \u001b[0;32min\u001b[0m \u001b[0mres\u001b[0m\u001b[0;34m[\u001b[0m\u001b[0;34m'experiment_ids'\u001b[0m\u001b[0;34m]\u001b[0m \u001b[0;32mfor\u001b[0m \u001b[0mitem\u001b[0m \u001b[0;32min\u001b[0m \u001b[0msublist\u001b[0m\u001b[0;34m]\u001b[0m\u001b[0;34m\u001b[0m\u001b[0;34m\u001b[0m\u001b[0m\n",
      "\u001b[0m\u001b[0;32m    219 \u001b[0;31m        \u001b[0;32mreturn\u001b[0m \u001b[0moeids\u001b[0m\u001b[0;34m\u001b[0m\u001b[0;34m\u001b[0m\u001b[0m\n",
      "\u001b[0m\u001b[0;32m    220 \u001b[0;31m    \u001b[0;32melse\u001b[0m\u001b[0;34m:\u001b[0m\u001b[0;34m\u001b[0m\u001b[0;34m\u001b[0m\u001b[0m\n",
      "\u001b[0m\n",
      "ipdb> res\n",
      "                                _id            timestamp     username  \\\n",
      "0  72408e7ae723478788e4cbc57292e695  2021-01-06 15:53:38  test_marina   \n",
      "1  e45eb9f78aec4708b5f57878ae228dd8  2021-01-06 16:44:37    test_doug   \n",
      "2  9713d99ff04d4ecb8d3df430c4dd5977  2021-01-06 16:49:14    test_doug   \n",
      "3  a2fab33fc73f4402b87f8d64a3fad87c  2021-01-06 16:51:06    test_doug   \n",
      "\n",
      "   container_id  experiment_ids       qc_attribute  \\\n",
      "0     782536745       792812544  Motion Correction   \n",
      "1     782536745       775614751  Motion Correction   \n",
      "2     782536745       775614751  Motion Correction   \n",
      "3     782536745       775614751  Motion Correction   \n",
      "\n",
      "                                           qc_labels input_text  \\\n",
      "0             spike_in_xy_shift_plot_motion_in_video              \n",
      "1             spike_in_xy_shift_plot_motion_in_video              \n",
      "2  anomalous_bump_in_xy_shift_plot_NO_motion_in_v...              \n",
      "3      step_change_in_xy_shift_plot_motion_in_video               \n",
      "\n",
      "               entry_time_utc motion_present  \n",
      "0  2021-01-06 23:56:01.170568            NaN  \n",
      "1  2021-01-07 00:44:51.858843     yes_motion  \n",
      "2  2021-01-07 00:49:29.807722     yes_motion  \n",
      "3  2021-01-07 00:51:20.472257     yes_motion  \n",
      "ipdb> res['experiment_ids']\n",
      "0    792812544\n",
      "1    775614751\n",
      "2    775614751\n",
      "3    775614751\n",
      "Name: experiment_ids, dtype: int64\n",
      "ipdb> [item for sublist in res['experiment_ids']]\n",
      "*** NameError: name 'item' is not defined\n",
      "ipdb> q\n"
     ]
    }
   ],
   "source": [
    "%debug"
   ]
  },
  {
   "cell_type": "code",
   "execution_count": 39,
   "metadata": {},
   "outputs": [
    {
     "data": {
      "text/plain": [
       "[[1, 2], [2], [3]]"
      ]
     },
     "execution_count": 39,
     "metadata": {},
     "output_type": "execute_result"
    }
   ],
   "source": [
    "def flatten_list(input_list):\n",
    "    flat_list = []\n",
    "    for entry in input_list:\n",
    "        flat_list.append(entry)\n",
    "    return flat_list\n",
    "\n",
    "flatten_list([[1,2],[2],[3]])"
   ]
  },
  {
   "cell_type": "code",
   "execution_count": 46,
   "metadata": {},
   "outputs": [
    {
     "data": {
      "text/plain": [
       "True"
      ]
     },
     "execution_count": 46,
     "metadata": {},
     "output_type": "execute_result"
    }
   ],
   "source": [
    "a = ''\n",
    "anything_missing = (\n",
    "    a == ''\n",
    "    or a is None\n",
    ")\n",
    "anything_missing"
   ]
  },
  {
   "cell_type": "code",
   "execution_count": null,
   "metadata": {},
   "outputs": [],
   "source": []
  }
 ],
 "metadata": {
  "kernelspec": {
   "display_name": "vb_qc_app",
   "language": "python",
   "name": "vb_qc_app"
  },
  "language_info": {
   "codemirror_mode": {
    "name": "ipython",
    "version": 3
   },
   "file_extension": ".py",
   "mimetype": "text/x-python",
   "name": "python",
   "nbconvert_exporter": "python",
   "pygments_lexer": "ipython3",
   "version": "3.7.9"
  }
 },
 "nbformat": 4,
 "nbformat_minor": 4
}
