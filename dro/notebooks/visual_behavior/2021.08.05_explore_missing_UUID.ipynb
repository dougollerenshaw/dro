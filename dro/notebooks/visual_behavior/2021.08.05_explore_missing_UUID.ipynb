{
 "cells": [
  {
   "cell_type": "code",
   "execution_count": 73,
   "metadata": {},
   "outputs": [],
   "source": [
    "import pandas as pd"
   ]
  },
  {
   "cell_type": "markdown",
   "metadata": {},
   "source": [
    "## here's a method to get the PKL path for a random experiment"
   ]
  },
  {
   "cell_type": "code",
   "execution_count": 71,
   "metadata": {},
   "outputs": [],
   "source": [
    "def get_random_pkl_path(random_state=0):\n",
    "    from allensdk.brain_observatory.behavior.behavior_project_cache import VisualBehaviorOphysProjectCache as bpc\n",
    "    from visual_behavior import database as db\n",
    "    data_storage_directory = '/allen/programs/braintv/workgroups/nc-ophys/visual_behavior/production_cache'\n",
    "\n",
    "    cache = bpc.from_s3_cache(cache_dir=data_storage_directory)\n",
    "    experiment_table = cache.get_ophys_experiment_table()\n",
    "    bsid = experiment_table.sample(random_state = random_state)['behavior_session_id'].iloc[0]\n",
    "    pkl_path = db.get_pkl_path(session_id = bsid)\n",
    "    return pkl_path"
   ]
  },
  {
   "cell_type": "markdown",
   "metadata": {},
   "source": [
    "## the session UUID aka foraging_id is located at the top level of the pkl file dictionary in a key called 'session_uuid':\n",
    "Here it is for one random session"
   ]
  },
  {
   "cell_type": "code",
   "execution_count": 79,
   "metadata": {},
   "outputs": [
    {
     "name": "stdout",
     "output_type": "stream",
     "text": [
      "dict_keys(['unpickleable', 'items', 'start_time', 'script', 'threads', 'stop_time', 'session_uuid', 'platform_info'])\n",
      "070af869-f96c-412b-bc1e-bc8801a34562\n"
     ]
    }
   ],
   "source": [
    "data = pd.read_pickle(get_random_pkl_path(random_state=0))\n",
    "print(data.keys())\n",
    "print(data['session_uuid'])"
   ]
  },
  {
   "cell_type": "markdown",
   "metadata": {},
   "source": [
    "And here it is for another random session"
   ]
  },
  {
   "cell_type": "code",
   "execution_count": 87,
   "metadata": {},
   "outputs": [
    {
     "name": "stdout",
     "output_type": "stream",
     "text": [
      "dict_keys(['comp_id', 'unpickleable', 'items', 'start_time', 'script', 'rig_id', 'threads', 'stop_time', 'session_uuid', 'platform_info'])\n",
      "f4a89a74-45f1-4421-966b-df7d92756cef\n"
     ]
    }
   ],
   "source": [
    "data = pd.read_pickle(get_random_pkl_path(random_state=1))\n",
    "print(data.keys())\n",
    "print(data['session_uuid'])"
   ]
  },
  {
   "cell_type": "code",
   "execution_count": 88,
   "metadata": {},
   "outputs": [
    {
     "data": {
      "text/plain": [
       "str"
      ]
     },
     "execution_count": 88,
     "metadata": {},
     "output_type": "execute_result"
    }
   ],
   "source": [
    "type(data['session_uuid'])"
   ]
  },
  {
   "cell_type": "markdown",
   "metadata": {},
   "source": [
    "## But this key appears to be missing in a path that Wayne provided to me:"
   ]
  },
  {
   "cell_type": "code",
   "execution_count": 89,
   "metadata": {},
   "outputs": [
    {
     "name": "stdout",
     "output_type": "stream",
     "text": [
      "dict_keys(['script', 'items', 'start_time', 'unpickleable', 'threads', 'stop_time', 'platform_info'])\n"
     ]
    },
    {
     "ename": "KeyError",
     "evalue": "'session_uuid'",
     "output_type": "error",
     "traceback": [
      "\u001b[0;31m---------------------------------------------------------------------------\u001b[0m",
      "\u001b[0;31mKeyError\u001b[0m                                  Traceback (most recent call last)",
      "\u001b[0;32m<ipython-input-89-2c1fc947e147>\u001b[0m in \u001b[0;36m<module>\u001b[0;34m\u001b[0m\n\u001b[1;32m      2\u001b[0m \u001b[0mdata\u001b[0m \u001b[0;34m=\u001b[0m \u001b[0mpd\u001b[0m\u001b[0;34m.\u001b[0m\u001b[0mread_pickle\u001b[0m\u001b[0;34m(\u001b[0m\u001b[0mwayne_path\u001b[0m\u001b[0;34m)\u001b[0m\u001b[0;34m\u001b[0m\u001b[0;34m\u001b[0m\u001b[0m\n\u001b[1;32m      3\u001b[0m \u001b[0mprint\u001b[0m\u001b[0;34m(\u001b[0m\u001b[0mdata\u001b[0m\u001b[0;34m.\u001b[0m\u001b[0mkeys\u001b[0m\u001b[0;34m(\u001b[0m\u001b[0;34m)\u001b[0m\u001b[0;34m)\u001b[0m\u001b[0;34m\u001b[0m\u001b[0;34m\u001b[0m\u001b[0m\n\u001b[0;32m----> 4\u001b[0;31m \u001b[0mprint\u001b[0m\u001b[0;34m(\u001b[0m\u001b[0mdata\u001b[0m\u001b[0;34m[\u001b[0m\u001b[0;34m'session_uuid'\u001b[0m\u001b[0;34m]\u001b[0m\u001b[0;34m)\u001b[0m\u001b[0;34m\u001b[0m\u001b[0;34m\u001b[0m\u001b[0m\n\u001b[0m",
      "\u001b[0;31mKeyError\u001b[0m: 'session_uuid'"
     ]
    }
   ],
   "source": [
    "wayne_path = '/allen/programs/braintv/production/visualbehavior/prod3/specimen_912560523/ophys_session_965063340/965063340.pkl'\n",
    "data = pd.read_pickle(wayne_path)\n",
    "print(data.keys())\n",
    "print(data['session_uuid'])"
   ]
  },
  {
   "cell_type": "markdown",
   "metadata": {},
   "source": [
    "### For the errant session, here is the contents of 'platform_info'"
   ]
  },
  {
   "cell_type": "code",
   "execution_count": 84,
   "metadata": {},
   "outputs": [
    {
     "name": "stdout",
     "output_type": "stream",
     "text": [
      "hardware ('Intel64 Family 6 Model 63 Stepping 2, GenuineIntel', 'AMD64')\n",
      "camstim 0.5.6+g9c5966f.b2062\n",
      "pyglet 1.2.4\n",
      "computer_name MESO1STIM\n",
      "opengl 4.5.0 NVIDIA 384.76\n",
      "python 2.7.15\n",
      "rig_id unknown\n",
      "os ('Windows', '10', '10.0.14393')\n",
      "psychopy 1.82.02\n",
      "camstim_git_hash None\n"
     ]
    }
   ],
   "source": [
    "for key, value in data['platform_info'].items():\n",
    "    print(key, value)"
   ]
  },
  {
   "cell_type": "markdown",
   "metadata": {},
   "source": [
    "### For the errant session, here is the contents of data['items']['behavior']['params']"
   ]
  },
  {
   "cell_type": "code",
   "execution_count": 86,
   "metadata": {},
   "outputs": [
    {
     "name": "stdout",
     "output_type": "stream",
     "text": [
      "reward_volume 0.007\n",
      "auto_reward_delay 0.15\n",
      "change_time_scale 0.3\n",
      "failure_repeats 5\n",
      "start_stop_padding 300.0\n",
      "end_after_response True\n",
      "periodic_flash [0.25, 0.5]\n",
      "flash_omit_probability 0.05\n",
      "change_flashes_max 12\n",
      "mouse_id 477052\n",
      "change_time_dist geometric\n",
      "stimulus_window 6.0\n",
      "user_id sams\n",
      "response_window [0.15, 0.75]\n",
      "change_flashes_min 4\n",
      "catch_frequency None\n",
      "stage OPHYS_2_images_G_passive\n",
      "auto_reward_vol 0.005\n",
      "min_no_lick_time 0.0\n",
      "timeout_duration 0.3\n",
      "free_reward_trials 10000\n",
      "task_id DoC\n",
      "stimulus {'params': {'image_set': '//allen/programs/braintv/workgroups/nc-ophys/visual_behavior/image_dictionaries/Natural_Images_Lum_Matched_set_ophys_G_2019.05.26.pkl', 'sampling': 'even'}, 'class': 'images', 'luminance_matching_intensity': -0.46}\n",
      "epilogue {'params': {'frame_length': 0.03333333333333333, 'movie_path': '//allen/programs/braintv/workgroups/neuralcoding/Saskia/Visual Stimuli 151207/Movie_TOE1.npy', 'runs': 10, 'size': [1920, 1080]}, 'name': 'fingerprint'}\n",
      "volume_limit 5.0\n",
      "end_after_response_sec 3.5\n",
      "max_task_duration_min 60.0\n",
      "warm_up_trials 0\n",
      "pre_change_time 0.0\n",
      "lick_spout False\n"
     ]
    }
   ],
   "source": [
    "for key, value in data['items']['behavior']['params'].items():\n",
    "    print(key, value)"
   ]
  },
  {
   "cell_type": "markdown",
   "metadata": {},
   "source": [
    "## I don't know why this key would be missing in this file. Is this the only case where this is true? I believe the UUID is assigned by camstim at the end of the session. Could this session have crashed before the UUID assignment function was called?\n",
    "\n",
    "## I think this is a question for MPE"
   ]
  },
  {
   "cell_type": "markdown",
   "metadata": {},
   "source": [
    "## According to Wayne, the UUID should be '11599422-bcfe-4a8c-bd3c-4f08f5d9075d', I'm going to write that to data, then save out as a new PKL file"
   ]
  },
  {
   "cell_type": "code",
   "execution_count": 95,
   "metadata": {},
   "outputs": [
    {
     "name": "stdout",
     "output_type": "stream",
     "text": [
      "saved to /allen/programs/braintv/workgroups/nc-ophys/visual_behavior/965063340_edited.pkl\n"
     ]
    }
   ],
   "source": [
    "import os\n",
    "import pandas as pd\n",
    "\n",
    "wayne_path = '/allen/programs/braintv/production/visualbehavior/prod3/specimen_912560523/ophys_session_965063340/965063340.pkl'\n",
    "data = pd.read_pickle(wayne_path)\n",
    "\n",
    "data['session_uuid'] = '11599422-bcfe-4a8c-bd3c-4f08f5d9075d'\n",
    "\n",
    "folder, filename = os.path.split(wayne_path)\n",
    "new_filename = filename.replace('.pkl', '_edited.pkl')\n",
    "new_folder = '/allen/programs/braintv/workgroups/nc-ophys/visual_behavior'\n",
    "new_savepath = os.path.join(new_folder, new_filename)\n",
    "pd.to_pickle(data, new_savepath)\n",
    "print('saved to {}'.format(new_savepath))"
   ]
  },
  {
   "cell_type": "code",
   "execution_count": 91,
   "metadata": {},
   "outputs": [
    {
     "data": {
      "text/plain": [
       "'/allen/programs/braintv/production/visualbehavior/prod3/specimen_912560523/ophys_session_965063340/965063340_edited.pkl'"
      ]
     },
     "execution_count": 91,
     "metadata": {},
     "output_type": "execute_result"
    }
   ],
   "source": []
  },
  {
   "cell_type": "code",
   "execution_count": null,
   "metadata": {},
   "outputs": [],
   "source": []
  }
 ],
 "metadata": {
  "kernelspec": {
   "display_name": "vba",
   "language": "python",
   "name": "vba"
  },
  "language_info": {
   "codemirror_mode": {
    "name": "ipython",
    "version": 3
   },
   "file_extension": ".py",
   "mimetype": "text/x-python",
   "name": "python",
   "nbconvert_exporter": "python",
   "pygments_lexer": "ipython3",
   "version": "3.8.8"
  }
 },
 "nbformat": 4,
 "nbformat_minor": 4
}
