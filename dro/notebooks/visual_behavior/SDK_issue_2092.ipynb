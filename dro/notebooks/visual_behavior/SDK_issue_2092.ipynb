{
 "cells": [
  {
   "cell_type": "code",
   "execution_count": 1,
   "metadata": {},
   "outputs": [
    {
     "data": {
      "text/html": [
       "<style>.container { width:100% !important; }</style>"
      ],
      "text/plain": [
       "<IPython.core.display.HTML object>"
      ]
     },
     "metadata": {},
     "output_type": "display_data"
    }
   ],
   "source": [
    "%matplotlib notebook\n",
    "from IPython.core.display import display, HTML\n",
    "display(HTML(\"<style>.container { width:100% !important; }</style>\"))"
   ]
  },
  {
   "cell_type": "code",
   "execution_count": 28,
   "metadata": {},
   "outputs": [
    {
     "data": {
      "text/html": [
       "<div>\n",
       "<style scoped>\n",
       "    .dataframe tbody tr th:only-of-type {\n",
       "        vertical-align: middle;\n",
       "    }\n",
       "\n",
       "    .dataframe tbody tr th {\n",
       "        vertical-align: top;\n",
       "    }\n",
       "\n",
       "    .dataframe thead th {\n",
       "        text-align: right;\n",
       "    }\n",
       "</style>\n",
       "<table border=\"1\" class=\"dataframe\">\n",
       "  <thead>\n",
       "    <tr style=\"text-align: right;\">\n",
       "      <th></th>\n",
       "      <th>mouse_id</th>\n",
       "      <th>date_of_acquisition</th>\n",
       "      <th>session_type</th>\n",
       "      <th>previous_session_type</th>\n",
       "      <th>next_session_type</th>\n",
       "      <th>pkl_stage</th>\n",
       "      <th>equipment_name</th>\n",
       "      <th>mismatch</th>\n",
       "    </tr>\n",
       "    <tr>\n",
       "      <th>behavior_session_id</th>\n",
       "      <th></th>\n",
       "      <th></th>\n",
       "      <th></th>\n",
       "      <th></th>\n",
       "      <th></th>\n",
       "      <th></th>\n",
       "      <th></th>\n",
       "      <th></th>\n",
       "    </tr>\n",
       "  </thead>\n",
       "  <tbody>\n",
       "  </tbody>\n",
       "</table>\n",
       "</div>"
      ],
      "text/plain": [
       "Empty DataFrame\n",
       "Columns: [mouse_id, date_of_acquisition, session_type, previous_session_type, next_session_type, pkl_stage, equipment_name, mismatch]\n",
       "Index: []"
      ]
     },
     "execution_count": 28,
     "metadata": {},
     "output_type": "execute_result"
    }
   ],
   "source": [
    "import pandas as pd\n",
    "import visual_behavior.database as db\n",
    "import allensdk.brain_observatory.behavior.behavior_project_cache as bpc\n",
    "\n",
    "my_cache_dir = '//allen/programs/braintv/workgroups/nc-ophys/visual_behavior/visual_behavior_production_analysis/'\n",
    "\n",
    "# bc = bpc.VisualBehaviorOphysProjectCache.from_s3_cache(cache_dir=my_cache_dir)\n",
    "bc = bpc.VisualBehaviorOphysProjectCache.from_lims(data_release_date='2021-03-25')\n",
    "          \n",
    "behavior_session_table = bc.get_behavior_session_table().sort_values(by = ['mouse_id', 'date_of_acquisition'])\n",
    "\n",
    "## make a column that assigns an ordered number to each phase (eg. training_0 becomes 0.0, training_1 becomes 0.1, ophys_0 becomes 1.0, etc)\n",
    "name_map = {'TRAINING': '0', 'OPHYS': '1'}\n",
    "behavior_session_table['session_type_ordered'] = behavior_session_table['session_type'].map(lambda sts: float(name_map[sts.split('_')[0]] + '.' + sts.split('_')[1]))\n",
    "\n",
    "## some more columns useful for filtering\n",
    "behavior_session_table['next_session_type_ordered'] = behavior_session_table['session_type_ordered'].shift(-1)\n",
    "behavior_session_table['next_mouse_id'] = behavior_session_table['mouse_id'].shift(-1)\n",
    "behavior_session_table['next_session_type'] = behavior_session_table['session_type'].shift(-1)\n",
    "behavior_session_table['previous_session_type'] = behavior_session_table['session_type'].shift(1)\n",
    "\n",
    "## identify sessions that were run out of order\n",
    "misordered_sessions = behavior_session_table.query('next_session_type_ordered < session_type_ordered and next_session_type_ordered < 1 and mouse_id == next_mouse_id').copy()\n",
    "misordered_sessions['pkl_stage'] = None    \n",
    "\n",
    "## get stage from PKL file\n",
    "def get_pkl_stage(bsid):\n",
    "    data = pd.read_pickle(db.get_pkl_path(bsid))\n",
    "    return data['items']['behavior']['params']['stage']\n",
    "\n",
    "for idx, row in misordered_sessions.iterrows():\n",
    "    misordered_sessions.at[idx, 'pkl_stage'] = get_pkl_stage(idx)\n",
    "\n",
    "## list of columns to display\n",
    "cols = [\n",
    "    'mouse_id',\n",
    "    'date_of_acquisition',\n",
    "    'session_type',\n",
    "    'previous_session_type',\n",
    "    'next_session_type',\n",
    "    'pkl_stage',\n",
    "    'equipment_name',\n",
    "    'mismatch'\n",
    "]\n",
    "\n",
    "## identify sessions where 'session_type' does not match 'pkl_stage'\n",
    "misordered_sessions['mismatch'] = misordered_sessions['pkl_stage'] != misordered_sessions['session_type']\n",
    "\n",
    "## display them\n",
    "misordered_sessions.query('mismatch')[cols]"
   ]
  },
  {
   "cell_type": "code",
   "execution_count": 9,
   "metadata": {},
   "outputs": [
    {
     "name": "stdout",
     "output_type": "stream",
     "text": [
      "|   behavior_session_id |   mouse_id | date_of_acquisition     | session_type                      | previous_session_type              | next_session_type                  | pkl_stage                          | equipment_name   | mismatch   |\n",
      "|----------------------:|-----------:|:------------------------|:----------------------------------|:-----------------------------------|:-----------------------------------|:-----------------------------------|:-----------------|:-----------|\n",
      "|             863571072 |     435431 | 2019-05-06 13:04:34.653 | OPHYS_5_images_B_passive          | TRAINING_4_images_A_training       | TRAINING_4_images_A_training       | TRAINING_4_images_A_training       | BEH.B-Box5       | True       |\n",
      "|             863571054 |     449653 | 2019-05-06 12:49:50.929 | OPHYS_7_receptive_field_mapping   | TRAINING_4_images_A_training       | TRAINING_5_images_A_epilogue       | TRAINING_5_images_A_epilogue       | BEH.G-Box5       | True       |\n",
      "|             863571063 |     453988 | 2019-05-06 13:00:10.752 | TRAINING_5_images_A_handoff_ready | TRAINING_1_gratings                | TRAINING_1_gratings                | TRAINING_1_gratings                | BEH.B-Box1       | True       |\n",
      "|             885418521 |     453990 | 2019-06-12 09:34:43.677 | OPHYS_1_images_A                  | TRAINING_5_images_A_handoff_lapsed | TRAINING_5_images_A_handoff_lapsed | TRAINING_5_images_A_handoff_lapsed | BEH.B-Box6       | True       |\n",
      "|             902810506 |     464207 | 2019-07-10 09:51:43.177 | TRAINING_4_images_B_training      | TRAINING_3_images_B_10uL_reward    | TRAINING_3_images_B_10uL_reward    | TRAINING_3_images_B_10uL_reward    | BEH.G-Box5       | True       |\n",
      "|             914219174 |     464207 | 2019-07-30 09:09:15.156 | OPHYS_0_images_B_habituation      | TRAINING_5_images_B_handoff_ready  | TRAINING_5_images_B_handoff_ready  | TRAINING_5_images_B_handoff_ready  | BEH.G-Box3       | True       |\n"
     ]
    }
   ],
   "source": [
    "print(misordered_sessions.query('mismatch')[cols].to_markdown())"
   ]
  },
  {
   "cell_type": "code",
   "execution_count": 24,
   "metadata": {},
   "outputs": [
    {
     "data": {
      "text/plain": [
       "{'correct_session_type': {863571072: 'TRAINING_4_images_A_training',\n",
       "  863571054: 'TRAINING_5_images_A_epilogue',\n",
       "  863571063: 'TRAINING_1_gratings',\n",
       "  885418521: 'TRAINING_5_images_A_handoff_lapsed',\n",
       "  902810506: 'TRAINING_3_images_B_10uL_reward',\n",
       "  914219174: 'TRAINING_5_images_B_handoff_ready'}}"
      ]
     },
     "execution_count": 24,
     "metadata": {},
     "output_type": "execute_result"
    }
   ],
   "source": [
    "df = misordered_sessions.query('mismatch')[['pkl_stage']].rename(columns = {'pkl_stage':'correct_session_type'})\n",
    "df.to_dict()"
   ]
  },
  {
   "cell_type": "code",
   "execution_count": 20,
   "metadata": {},
   "outputs": [
    {
     "data": {
      "text/plain": [
       "{'behavior_session_id': {0: 863571072,\n",
       "  1: 863571054,\n",
       "  2: 863571063,\n",
       "  3: 885418521,\n",
       "  4: 902810506,\n",
       "  5: 914219174},\n",
       " 'correct_session_type': {0: 'TRAINING_4_images_A_training',\n",
       "  1: 'TRAINING_5_images_A_epilogue',\n",
       "  2: 'TRAINING_1_gratings',\n",
       "  3: 'TRAINING_5_images_A_handoff_lapsed',\n",
       "  4: 'TRAINING_3_images_B_10uL_reward',\n",
       "  5: 'TRAINING_5_images_B_handoff_ready'}}"
      ]
     },
     "execution_count": 20,
     "metadata": {},
     "output_type": "execute_result"
    }
   ],
   "source": [
    "df.to_dict()"
   ]
  },
  {
   "cell_type": "code",
   "execution_count": 27,
   "metadata": {},
   "outputs": [],
   "source": [
    "corrected_session_types = pd.DataFrame({\n",
    "    'correct_session_type': {\n",
    "        863571072: 'TRAINING_4_images_A_training',\n",
    "        863571054: 'TRAINING_5_images_A_epilogue',\n",
    "        863571063: 'TRAINING_1_gratings',\n",
    "        885418521: 'TRAINING_5_images_A_handoff_lapsed',\n",
    "        902810506: 'TRAINING_3_images_B_10uL_reward',\n",
    "        914219174: 'TRAINING_5_images_B_handoff_ready'\n",
    "    }\n",
    "})\n",
    "for behavior_session_id, row in corrected_session_types.iterrows():\n",
    "    behavior_session_table.at[behavior_session_id, 'session_type'] = row['correct_session_type']"
   ]
  },
  {
   "cell_type": "code",
   "execution_count": null,
   "metadata": {},
   "outputs": [],
   "source": []
  }
 ],
 "metadata": {
  "kernelspec": {
   "display_name": "vba",
   "language": "python",
   "name": "vba"
  },
  "language_info": {
   "codemirror_mode": {
    "name": "ipython",
    "version": 3
   },
   "file_extension": ".py",
   "mimetype": "text/x-python",
   "name": "python",
   "nbconvert_exporter": "python",
   "pygments_lexer": "ipython3",
   "version": "3.7.9"
  }
 },
 "nbformat": 4,
 "nbformat_minor": 4
}
