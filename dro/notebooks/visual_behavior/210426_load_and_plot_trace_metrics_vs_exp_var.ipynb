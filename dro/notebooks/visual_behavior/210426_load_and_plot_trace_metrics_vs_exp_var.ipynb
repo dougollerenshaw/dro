{
 "cells": [
  {
   "cell_type": "code",
   "execution_count": 1,
   "metadata": {},
   "outputs": [],
   "source": [
    "import os\n",
    "import numpy as np\n",
    "import pandas as pd\n",
    "import matplotlib.pyplot as plt\n",
    "\n",
    "import seaborn as sns\n",
    "sns.set_context('notebook', font_scale=1.5, rc={'lines.markeredgewidth': 2})"
   ]
  },
  {
   "cell_type": "code",
   "execution_count": 2,
   "metadata": {},
   "outputs": [],
   "source": [
    "%load_ext autoreload\n",
    "%autoreload 2\n",
    "\n",
    "%matplotlib inline"
   ]
  },
  {
   "cell_type": "code",
   "execution_count": 3,
   "metadata": {},
   "outputs": [
    {
     "name": "stderr",
     "output_type": "stream",
     "text": [
      "/allen/programs/braintv/workgroups/nc-ophys/Doug/code/AllenSDK/allensdk/brain_observatory/session_api_utils.py:15: FutureWarning: pandas.util.testing is deprecated. Use the functions in the public API at pandas.testing instead.\n",
      "  from pandas.util.testing import assert_frame_equal\n"
     ]
    }
   ],
   "source": [
    "import visual_behavior.data_access.loading as loading\n",
    "import visual_behavior.visualization.utils as utils\n",
    "\n",
    "from visual_behavior.ophys.response_analysis.response_analysis import ResponseAnalysis"
   ]
  },
  {
   "cell_type": "code",
   "execution_count": 4,
   "metadata": {},
   "outputs": [],
   "source": [
    "import visual_behavior.ophys.response_analysis.cell_metrics as cell_metrics"
   ]
  },
  {
   "cell_type": "code",
   "execution_count": 5,
   "metadata": {},
   "outputs": [],
   "source": [
    "ophys_experiment_table = loading.get_filtered_ophys_experiment_table(release_data_only=True)\n",
    "\n",
    "ophys_experiment_ids = ophys_experiment_table.index.values"
   ]
  },
  {
   "cell_type": "code",
   "execution_count": 6,
   "metadata": {},
   "outputs": [],
   "source": [
    "ophys_experiment_id = ophys_experiment_ids[50]\n",
    "\n",
    "dataset = loading.get_ophys_dataset(ophys_experiment_id, from_lims=False, from_nwb=False)"
   ]
  },
  {
   "cell_type": "code",
   "execution_count": 7,
   "metadata": {},
   "outputs": [],
   "source": [
    "# analysis = ResponseAnalysis(dataset, use_extended_stimulus_presentations=True)\n",
    "\n",
    "# sdf = analysis.get_response_df(df_name='stimulus_response_df')"
   ]
  },
  {
   "cell_type": "code",
   "execution_count": 1,
   "metadata": {},
   "outputs": [],
   "source": [
    "import visual_behavior.ophys.response_analysis.cell_metrics as cell_metrics"
   ]
  },
  {
   "cell_type": "code",
   "execution_count": 9,
   "metadata": {},
   "outputs": [
    {
     "ename": "AttributeError",
     "evalue": "module 'visual_behavior.ophys.response_analysis.cell_metrics' has no attribute 'load_cell_metrics_table_for_experiments'",
     "output_type": "error",
     "traceback": [
      "\u001b[0;31m---------------------------------------------------------------------------\u001b[0m",
      "\u001b[0;31mAttributeError\u001b[0m                            Traceback (most recent call last)",
      "\u001b[0;32m<ipython-input-9-aa3c470fc76b>\u001b[0m in \u001b[0;36m<module>\u001b[0;34m\u001b[0m\n\u001b[1;32m      6\u001b[0m \u001b[0mophys_experiment_ids\u001b[0m \u001b[0;34m=\u001b[0m \u001b[0mophys_experiment_table\u001b[0m\u001b[0;34m.\u001b[0m\u001b[0mindex\u001b[0m\u001b[0;34m.\u001b[0m\u001b[0mvalues\u001b[0m\u001b[0;34m\u001b[0m\u001b[0;34m\u001b[0m\u001b[0m\n\u001b[1;32m      7\u001b[0m \u001b[0;34m\u001b[0m\u001b[0m\n\u001b[0;32m----> 8\u001b[0;31m \u001b[0mtrace_metrics\u001b[0m \u001b[0;34m=\u001b[0m \u001b[0mcell_metrics\u001b[0m\u001b[0;34m.\u001b[0m\u001b[0mload_cell_metrics_table_for_experiments\u001b[0m\u001b[0;34m(\u001b[0m\u001b[0;34m'all_experiments'\u001b[0m\u001b[0;34m,\u001b[0m \u001b[0mcondition\u001b[0m\u001b[0;34m,\u001b[0m \u001b[0mstimulus\u001b[0m\u001b[0;34m,\u001b[0m \u001b[0msession_subset\u001b[0m\u001b[0;34m,\u001b[0m \u001b[0muse_events\u001b[0m\u001b[0;34m)\u001b[0m\u001b[0;34m\u001b[0m\u001b[0;34m\u001b[0m\u001b[0m\n\u001b[0m",
      "\u001b[0;31mAttributeError\u001b[0m: module 'visual_behavior.ophys.response_analysis.cell_metrics' has no attribute 'load_cell_metrics_table_for_experiments'"
     ]
    }
   ],
   "source": [
    "condition = 'traces'\n",
    "session_subset = 'full_session'\n",
    "stimulus = 'none'\n",
    "use_events = True\n",
    "\n",
    "ophys_experiment_ids = ophys_experiment_table.index.values\n",
    "\n",
    "trace_metrics = cell_metrics.load_cell_metrics_table_for_experiments('all_experiments', condition, stimulus, session_subset, use_events)"
   ]
  },
  {
   "cell_type": "code",
   "execution_count": 15,
   "metadata": {
    "scrolled": true
   },
   "outputs": [
    {
     "data": {
      "text/plain": [
       "24286"
      ]
     },
     "execution_count": 15,
     "metadata": {},
     "output_type": "execute_result"
    }
   ],
   "source": [
    "len(trace_metrics.cell_specimen_id.unique())"
   ]
  },
  {
   "cell_type": "code",
   "execution_count": 16,
   "metadata": {},
   "outputs": [
    {
     "data": {
      "text/plain": [
       "1109"
      ]
     },
     "execution_count": 16,
     "metadata": {},
     "output_type": "execute_result"
    }
   ],
   "source": [
    "len(trace_metrics.ophys_experiment_id.unique())"
   ]
  },
  {
   "cell_type": "code",
   "execution_count": 17,
   "metadata": {},
   "outputs": [
    {
     "data": {
      "text/html": [
       "<div>\n",
       "<style scoped>\n",
       "    .dataframe tbody tr th:only-of-type {\n",
       "        vertical-align: middle;\n",
       "    }\n",
       "\n",
       "    .dataframe tbody tr th {\n",
       "        vertical-align: top;\n",
       "    }\n",
       "\n",
       "    .dataframe thead th {\n",
       "        text-align: right;\n",
       "    }\n",
       "</style>\n",
       "<table border=\"1\" class=\"dataframe\">\n",
       "  <thead>\n",
       "    <tr style=\"text-align: right;\">\n",
       "      <th></th>\n",
       "      <th>cell_specimen_id</th>\n",
       "      <th>robust_signal</th>\n",
       "      <th>robust_noise</th>\n",
       "      <th>robust_snr</th>\n",
       "      <th>trace_max</th>\n",
       "      <th>trace_mean</th>\n",
       "      <th>trace_var</th>\n",
       "      <th>trace_std</th>\n",
       "      <th>trace_max_over_std</th>\n",
       "      <th>trace_mean_over_std</th>\n",
       "      <th>...</th>\n",
       "      <th>isi_experiment_id</th>\n",
       "      <th>imaging_depth</th>\n",
       "      <th>targeted_structure</th>\n",
       "      <th>published_at</th>\n",
       "      <th>date_of_acquisition</th>\n",
       "      <th>session_type</th>\n",
       "      <th>session_tags</th>\n",
       "      <th>failure_tags</th>\n",
       "      <th>model_outputs_available</th>\n",
       "      <th>location</th>\n",
       "    </tr>\n",
       "  </thead>\n",
       "  <tbody>\n",
       "    <tr>\n",
       "      <td>0</td>\n",
       "      <td>1086622595</td>\n",
       "      <td>NaN</td>\n",
       "      <td>NaN</td>\n",
       "      <td>NaN</td>\n",
       "      <td>0.640438</td>\n",
       "      <td>0.002467</td>\n",
       "      <td>0.000572</td>\n",
       "      <td>0.023925</td>\n",
       "      <td>26.768717</td>\n",
       "      <td>0.103105</td>\n",
       "      <td>...</td>\n",
       "      <td>858992726</td>\n",
       "      <td>225</td>\n",
       "      <td>VISp</td>\n",
       "      <td>2021-03-25 00:00:00.000000</td>\n",
       "      <td>2019-09-24 16:00:00.000000</td>\n",
       "      <td>OPHYS_3_images_A</td>\n",
       "      <td>NaN</td>\n",
       "      <td>NaN</td>\n",
       "      <td>True</td>\n",
       "      <td>Sst_VISp_225</td>\n",
       "    </tr>\n",
       "    <tr>\n",
       "      <td>1</td>\n",
       "      <td>1086620813</td>\n",
       "      <td>NaN</td>\n",
       "      <td>NaN</td>\n",
       "      <td>NaN</td>\n",
       "      <td>0.540531</td>\n",
       "      <td>0.002530</td>\n",
       "      <td>0.000402</td>\n",
       "      <td>0.020062</td>\n",
       "      <td>26.943185</td>\n",
       "      <td>0.126088</td>\n",
       "      <td>...</td>\n",
       "      <td>858992726</td>\n",
       "      <td>225</td>\n",
       "      <td>VISp</td>\n",
       "      <td>2021-03-25 00:00:00.000000</td>\n",
       "      <td>2019-09-24 16:00:00.000000</td>\n",
       "      <td>OPHYS_3_images_A</td>\n",
       "      <td>NaN</td>\n",
       "      <td>NaN</td>\n",
       "      <td>True</td>\n",
       "      <td>Sst_VISp_225</td>\n",
       "    </tr>\n",
       "    <tr>\n",
       "      <td>2</td>\n",
       "      <td>1086622778</td>\n",
       "      <td>NaN</td>\n",
       "      <td>NaN</td>\n",
       "      <td>NaN</td>\n",
       "      <td>0.831274</td>\n",
       "      <td>0.009175</td>\n",
       "      <td>0.001922</td>\n",
       "      <td>0.043838</td>\n",
       "      <td>18.962389</td>\n",
       "      <td>0.209301</td>\n",
       "      <td>...</td>\n",
       "      <td>858992726</td>\n",
       "      <td>225</td>\n",
       "      <td>VISp</td>\n",
       "      <td>2021-03-25 00:00:00.000000</td>\n",
       "      <td>2019-09-24 16:00:00.000000</td>\n",
       "      <td>OPHYS_3_images_A</td>\n",
       "      <td>NaN</td>\n",
       "      <td>NaN</td>\n",
       "      <td>True</td>\n",
       "      <td>Sst_VISp_225</td>\n",
       "    </tr>\n",
       "    <tr>\n",
       "      <td>3</td>\n",
       "      <td>1086621629</td>\n",
       "      <td>NaN</td>\n",
       "      <td>NaN</td>\n",
       "      <td>NaN</td>\n",
       "      <td>0.444463</td>\n",
       "      <td>0.003766</td>\n",
       "      <td>0.000587</td>\n",
       "      <td>0.024227</td>\n",
       "      <td>18.345520</td>\n",
       "      <td>0.155464</td>\n",
       "      <td>...</td>\n",
       "      <td>858992726</td>\n",
       "      <td>225</td>\n",
       "      <td>VISp</td>\n",
       "      <td>2021-03-25 00:00:00.000000</td>\n",
       "      <td>2019-09-24 16:00:00.000000</td>\n",
       "      <td>OPHYS_3_images_A</td>\n",
       "      <td>NaN</td>\n",
       "      <td>NaN</td>\n",
       "      <td>True</td>\n",
       "      <td>Sst_VISp_225</td>\n",
       "    </tr>\n",
       "    <tr>\n",
       "      <td>4</td>\n",
       "      <td>1086621968</td>\n",
       "      <td>NaN</td>\n",
       "      <td>NaN</td>\n",
       "      <td>NaN</td>\n",
       "      <td>0.758823</td>\n",
       "      <td>0.003140</td>\n",
       "      <td>0.000658</td>\n",
       "      <td>0.025643</td>\n",
       "      <td>29.591514</td>\n",
       "      <td>0.122447</td>\n",
       "      <td>...</td>\n",
       "      <td>858992726</td>\n",
       "      <td>225</td>\n",
       "      <td>VISp</td>\n",
       "      <td>2021-03-25 00:00:00.000000</td>\n",
       "      <td>2019-09-24 16:00:00.000000</td>\n",
       "      <td>OPHYS_3_images_A</td>\n",
       "      <td>NaN</td>\n",
       "      <td>NaN</td>\n",
       "      <td>True</td>\n",
       "      <td>Sst_VISp_225</td>\n",
       "    </tr>\n",
       "  </tbody>\n",
       "</table>\n",
       "<p>5 rows × 49 columns</p>\n",
       "</div>"
      ],
      "text/plain": [
       "   cell_specimen_id  robust_signal  robust_noise  robust_snr  trace_max  \\\n",
       "0        1086622595            NaN           NaN         NaN   0.640438   \n",
       "1        1086620813            NaN           NaN         NaN   0.540531   \n",
       "2        1086622778            NaN           NaN         NaN   0.831274   \n",
       "3        1086621629            NaN           NaN         NaN   0.444463   \n",
       "4        1086621968            NaN           NaN         NaN   0.758823   \n",
       "\n",
       "   trace_mean  trace_var  trace_std  trace_max_over_std  trace_mean_over_std  \\\n",
       "0    0.002467   0.000572   0.023925           26.768717             0.103105   \n",
       "1    0.002530   0.000402   0.020062           26.943185             0.126088   \n",
       "2    0.009175   0.001922   0.043838           18.962389             0.209301   \n",
       "3    0.003766   0.000587   0.024227           18.345520             0.155464   \n",
       "4    0.003140   0.000658   0.025643           29.591514             0.122447   \n",
       "\n",
       "   ...  isi_experiment_id  imaging_depth  targeted_structure  \\\n",
       "0  ...          858992726            225                VISp   \n",
       "1  ...          858992726            225                VISp   \n",
       "2  ...          858992726            225                VISp   \n",
       "3  ...          858992726            225                VISp   \n",
       "4  ...          858992726            225                VISp   \n",
       "\n",
       "                 published_at         date_of_acquisition      session_type  \\\n",
       "0  2021-03-25 00:00:00.000000  2019-09-24 16:00:00.000000  OPHYS_3_images_A   \n",
       "1  2021-03-25 00:00:00.000000  2019-09-24 16:00:00.000000  OPHYS_3_images_A   \n",
       "2  2021-03-25 00:00:00.000000  2019-09-24 16:00:00.000000  OPHYS_3_images_A   \n",
       "3  2021-03-25 00:00:00.000000  2019-09-24 16:00:00.000000  OPHYS_3_images_A   \n",
       "4  2021-03-25 00:00:00.000000  2019-09-24 16:00:00.000000  OPHYS_3_images_A   \n",
       "\n",
       "  session_tags  failure_tags model_outputs_available      location  \n",
       "0          NaN           NaN                    True  Sst_VISp_225  \n",
       "1          NaN           NaN                    True  Sst_VISp_225  \n",
       "2          NaN           NaN                    True  Sst_VISp_225  \n",
       "3          NaN           NaN                    True  Sst_VISp_225  \n",
       "4          NaN           NaN                    True  Sst_VISp_225  \n",
       "\n",
       "[5 rows x 49 columns]"
      ]
     },
     "execution_count": 17,
     "metadata": {},
     "output_type": "execute_result"
    }
   ],
   "source": [
    "trace_metrics.head()"
   ]
  },
  {
   "cell_type": "code",
   "execution_count": 18,
   "metadata": {},
   "outputs": [
    {
     "data": {
      "text/plain": [
       "Index(['cell_specimen_id', 'robust_signal', 'robust_noise', 'robust_snr',\n",
       "       'trace_max', 'trace_mean', 'trace_var', 'trace_std',\n",
       "       'trace_max_over_std', 'trace_mean_over_std',\n",
       "       'population_coupling_r_value', 'population_coupling_p_value',\n",
       "       'ophys_experiment_id', 'ophys_session_id', 'condition',\n",
       "       'session_subset', 'stimuli', 'events', 'equipment_name', 'donor_id',\n",
       "       'full_genotype', 'mouse_id', 'reporter_line', 'driver_line', 'sex',\n",
       "       'age_in_days', 'foraging_id', 'cre_line', 'indicator', 'session_number',\n",
       "       'prior_exposures_to_session_type', 'prior_exposures_to_image_set',\n",
       "       'prior_exposures_to_omissions', 'behavior_session_id',\n",
       "       'ophys_container_id', 'project_code', 'container_workflow_state',\n",
       "       'experiment_workflow_state', 'session_name', 'isi_experiment_id',\n",
       "       'imaging_depth', 'targeted_structure', 'published_at',\n",
       "       'date_of_acquisition', 'session_type', 'session_tags', 'failure_tags',\n",
       "       'model_outputs_available', 'location'],\n",
       "      dtype='object')"
      ]
     },
     "execution_count": 18,
     "metadata": {},
     "output_type": "execute_result"
    }
   ],
   "source": [
    "trace_metrics.keys()"
   ]
  },
  {
   "cell_type": "code",
   "execution_count": 20,
   "metadata": {},
   "outputs": [
    {
     "data": {
      "text/plain": [
       "['cell_specimen_id',\n",
       " 'robust_signal',\n",
       " 'robust_noise',\n",
       " 'robust_snr',\n",
       " 'trace_max',\n",
       " 'trace_mean',\n",
       " 'trace_var',\n",
       " 'trace_std',\n",
       " 'trace_max_over_std',\n",
       " 'trace_mean_over_std',\n",
       " 'population_coupling_r_value',\n",
       " 'population_coupling_p_value']"
      ]
     },
     "execution_count": 20,
     "metadata": {},
     "output_type": "execute_result"
    }
   ],
   "source": [
    "metrics = list(trace_metrics.keys())[:12]\n",
    "metrics"
   ]
  },
  {
   "cell_type": "code",
   "execution_count": null,
   "metadata": {},
   "outputs": [],
   "source": []
  },
  {
   "cell_type": "markdown",
   "metadata": {},
   "source": [
    "### merge with GLM dropouts "
   ]
  },
  {
   "cell_type": "code",
   "execution_count": 21,
   "metadata": {},
   "outputs": [],
   "source": [
    "import visual_behavior_glm.GLM_analysis_tools as gat\n",
    "from visual_behavior_glm import GLM_visualization_tools as gvt\n",
    "from visual_behavior_glm.glm import GLM"
   ]
  },
  {
   "cell_type": "code",
   "execution_count": 35,
   "metadata": {},
   "outputs": [],
   "source": [
    "model_output_types = ['absolute_change_from_full', 'adj_fraction_change_from_full']\n",
    "model_output_type = model_output_types[0]\n",
    "kind = 'events' # or 'dff'\n",
    "glm_version = '12_{}_L2_optimize_by_session'.format(kind)\n",
    "\n",
    "colors = gvt.project_colors()"
   ]
  },
  {
   "cell_type": "code",
   "execution_count": 36,
   "metadata": {},
   "outputs": [
    {
     "name": "stdout",
     "output_type": "stream",
     "text": [
      "Wall time: 2min 38s\n"
     ]
    },
    {
     "data": {
      "text/plain": [
       "Slc17a7-IRES2-Cre    56318\n",
       "Vip-IRES-Cre          7241\n",
       "Sst-IRES-Cre          2666\n",
       "Name: cre_line, dtype: int64"
      ]
     },
     "execution_count": 36,
     "metadata": {},
     "output_type": "execute_result"
    }
   ],
   "source": [
    "%%time\n",
    "glm = gat.build_pivoted_results_summary(value_to_use=model_output_type, results_summary=None, \n",
    "                                       glm_version=glm_version, cutoff=None)\n",
    "glm = glm.sort_values('date_of_acquisition')\n",
    "\n",
    "glm = glm[(glm.project_code == 'VisualBehavior') |\n",
    "                     (glm.project_code == 'VisualBehaviorTask1B') |\n",
    "                     (glm.project_code =='VisualBehaviorMultiscope')].copy()\n",
    "glm.cre_line.value_counts(normalize=False)"
   ]
  },
  {
   "cell_type": "code",
   "execution_count": 37,
   "metadata": {},
   "outputs": [
    {
     "data": {
      "text/plain": [
       "Index(['identifier', 'Full', 'all-images', 'beh_model', 'behavioral',\n",
       "       'cognitive', 'correct_rejects', 'expectation', 'face_motion_PC_0',\n",
       "       'face_motion_PC_1',\n",
       "       ...\n",
       "       'isi_experiment_id', 'imaging_depth', 'targeted_structure',\n",
       "       'published_at', 'date_of_acquisition', 'session_type', 'session_tags',\n",
       "       'failure_tags', 'model_outputs_available', 'location'],\n",
       "      dtype='object', length=116)"
      ]
     },
     "execution_count": 37,
     "metadata": {},
     "output_type": "execute_result"
    }
   ],
   "source": [
    "glm.keys()"
   ]
  },
  {
   "cell_type": "code",
   "execution_count": 38,
   "metadata": {},
   "outputs": [
    {
     "data": {
      "text/plain": [
       "array([0.])"
      ]
     },
     "execution_count": 38,
     "metadata": {},
     "output_type": "execute_result"
    }
   ],
   "source": [
    "glm['Full'].unique()"
   ]
  },
  {
   "cell_type": "code",
   "execution_count": 39,
   "metadata": {},
   "outputs": [],
   "source": [
    "df = trace_metrics.merge(glm[['Full', 'cell_specimen_id', 'ophys_experiment_id']], on=['cell_specimen_id', 'ophys_experiment_id'])"
   ]
  },
  {
   "cell_type": "code",
   "execution_count": 40,
   "metadata": {},
   "outputs": [
    {
     "data": {
      "text/plain": [
       "Index(['cell_specimen_id', 'robust_signal', 'robust_noise', 'robust_snr',\n",
       "       'trace_max', 'trace_mean', 'trace_var', 'trace_std',\n",
       "       'trace_max_over_std', 'trace_mean_over_std',\n",
       "       'population_coupling_r_value', 'population_coupling_p_value',\n",
       "       'ophys_experiment_id', 'ophys_session_id', 'condition',\n",
       "       'session_subset', 'stimuli', 'events', 'equipment_name', 'donor_id',\n",
       "       'full_genotype', 'mouse_id', 'reporter_line', 'driver_line', 'sex',\n",
       "       'age_in_days', 'foraging_id', 'cre_line', 'indicator', 'session_number',\n",
       "       'prior_exposures_to_session_type', 'prior_exposures_to_image_set',\n",
       "       'prior_exposures_to_omissions', 'behavior_session_id',\n",
       "       'ophys_container_id', 'project_code', 'container_workflow_state',\n",
       "       'experiment_workflow_state', 'session_name', 'isi_experiment_id',\n",
       "       'imaging_depth', 'targeted_structure', 'published_at',\n",
       "       'date_of_acquisition', 'session_type', 'session_tags', 'failure_tags',\n",
       "       'model_outputs_available', 'location', 'Full'],\n",
       "      dtype='object')"
      ]
     },
     "execution_count": 40,
     "metadata": {},
     "output_type": "execute_result"
    }
   ],
   "source": [
    "df.keys()"
   ]
  },
  {
   "cell_type": "code",
   "execution_count": 41,
   "metadata": {},
   "outputs": [
    {
     "data": {
      "text/plain": [
       "<matplotlib.axes._subplots.AxesSubplot at 0x1e00f348a90>"
      ]
     },
     "execution_count": 41,
     "metadata": {},
     "output_type": "execute_result"
    },
    {
     "data": {
      "image/png": "[encoded data removed]",
      "text/plain": [
       "<Figure size 432x288 with 1 Axes>"
      ]
     },
     "metadata": {
      "needs_background": "light"
     },
     "output_type": "display_data"
    }
   ],
   "source": [
    "sns.scatterplot(data=df, x='Full', y='trace_std')"
   ]
  },
  {
   "cell_type": "code",
   "execution_count": null,
   "metadata": {},
   "outputs": [],
   "source": []
  },
  {
   "cell_type": "code",
   "execution_count": null,
   "metadata": {},
   "outputs": [],
   "source": []
  },
  {
   "cell_type": "code",
   "execution_count": null,
   "metadata": {},
   "outputs": [],
   "source": []
  },
  {
   "cell_type": "code",
   "execution_count": null,
   "metadata": {},
   "outputs": [],
   "source": []
  }
 ],
 "metadata": {
  "kernelspec": {
   "display_name": "vba",
   "language": "python",
   "name": "vba"
  },
  "language_info": {
   "codemirror_mode": {
    "name": "ipython",
    "version": 3
   },
   "file_extension": ".py",
   "mimetype": "text/x-python",
   "name": "python",
   "nbconvert_exporter": "python",
   "pygments_lexer": "ipython3",
   "version": "3.7.9"
  }
 },
 "nbformat": 4,
 "nbformat_minor": 2
}
