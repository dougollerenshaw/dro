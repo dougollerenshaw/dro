{
 "cells": [
  {
   "cell_type": "code",
   "execution_count": 1,
   "metadata": {},
   "outputs": [
    {
     "name": "stderr",
     "output_type": "stream",
     "text": [
      "/home/dougo/Code/AllenSDK/allensdk/brain_observatory/behavior/behavior_ophys_api/behavior_ophys_nwb_api.py:9: FutureWarning: pandas.util.testing is deprecated. Use the functions in the public API at pandas.testing instead.\n",
      "  from pandas.util.testing import assert_frame_equal\n"
     ]
    }
   ],
   "source": [
    "import visual_behavior.visualization.qc.data_loading as dl\n",
    "from visual_behavior.visualization.qc.dash_app.functions import *\n",
    "import time\n",
    "from multiprocessing import Pool"
   ]
  },
  {
   "cell_type": "code",
   "execution_count": 2,
   "metadata": {},
   "outputs": [],
   "source": [
    "CONTAINER_TABLE = load_data().sort_values('first_acquistion_date')"
   ]
  },
  {
   "cell_type": "code",
   "execution_count": 3,
   "metadata": {},
   "outputs": [],
   "source": [
    "def generate_plot_inventory_local():\n",
    "    container_table = load_data().sort_values('first_acquistion_date')\n",
    "    plots = load_container_plot_options()\n",
    "    list_of_dicts = []\n",
    "    for container_id in container_table['container_id'].values:\n",
    "        d = {'container_id': container_id}\n",
    "        for entry in plots:\n",
    "            plot_type = entry['value']\n",
    "            d.update({plot_type: os.path.exists(get_container_plot_path(container_id, plot_type))})\n",
    "        list_of_dicts.append(d)\n",
    "    return pd.DataFrame(list_of_dicts).set_index('container_id').sort_index()"
   ]
  },
  {
   "cell_type": "code",
   "execution_count": 4,
   "metadata": {},
   "outputs": [
    {
     "name": "stdout",
     "output_type": "stream",
     "text": [
      "that took 12.727705001831055 seconds\n"
     ]
    }
   ],
   "source": [
    "t0 = time.time()\n",
    "pi = generate_plot_inventory_local()\n",
    "print('that took {} seconds'.format(time.time()-t0))"
   ]
  },
  {
   "cell_type": "code",
   "execution_count": 5,
   "metadata": {},
   "outputs": [],
   "source": [
    "def generate_plot_inventory_optimized():\n",
    "    global CONTAINER_TABLE\n",
    "    container_table = CONTAINER_TABLE\n",
    "    plots = load_container_plot_options()\n",
    "    list_of_dicts = []\n",
    "    for container_id in container_table['container_id'].values:\n",
    "        d = {'container_id': container_id}\n",
    "        for entry in plots:\n",
    "            plot_type = entry['value']\n",
    "            d.update({plot_type: os.path.exists(get_container_plot_path(container_id, plot_type))})\n",
    "        list_of_dicts.append(d)\n",
    "    return pd.DataFrame(list_of_dicts).set_index('container_id').sort_index()"
   ]
  },
  {
   "cell_type": "code",
   "execution_count": 6,
   "metadata": {},
   "outputs": [
    {
     "name": "stdout",
     "output_type": "stream",
     "text": [
      "that took 0.05469465255737305 seconds\n"
     ]
    }
   ],
   "source": [
    "t0 = time.time()\n",
    "pi = generate_plot_inventory_optimized()\n",
    "print('that took {} seconds'.format(time.time()-t0))"
   ]
  },
  {
   "cell_type": "code",
   "execution_count": 8,
   "metadata": {},
   "outputs": [
    {
     "name": "stdout",
     "output_type": "stream",
     "text": [
      "that took 0.04881167411804199 seconds\n"
     ]
    }
   ],
   "source": [
    "t0 = time.time()\n",
    "pi = generate_plot_inventory()\n",
    "print('that took {} seconds'.format(time.time()-t0))"
   ]
  },
  {
   "cell_type": "code",
   "execution_count": 10,
   "metadata": {},
   "outputs": [
    {
     "name": "stdout",
     "output_type": "stream",
     "text": [
      "that took 0.19055724143981934 seconds\n"
     ]
    }
   ],
   "source": [
    "t0 = time.time()\n",
    "fig = make_plot_inventory_heatmap(pi)\n",
    "print('that took {} seconds'.format(time.time()-t0))"
   ]
  },
  {
   "cell_type": "code",
   "execution_count": null,
   "metadata": {},
   "outputs": [],
   "source": []
  }
 ],
 "metadata": {
  "kernelspec": {
   "display_name": "visual_behavior",
   "language": "python",
   "name": "visual_behavior"
  },
  "language_info": {
   "codemirror_mode": {
    "name": "ipython",
    "version": 3
   },
   "file_extension": ".py",
   "mimetype": "text/x-python",
   "name": "python",
   "nbconvert_exporter": "python",
   "pygments_lexer": "ipython3",
   "version": "3.7.3"
  }
 },
 "nbformat": 4,
 "nbformat_minor": 4
}
