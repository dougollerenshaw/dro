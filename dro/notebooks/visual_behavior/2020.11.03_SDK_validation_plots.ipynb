{
 "cells": [
  {
   "cell_type": "code",
   "execution_count": null,
   "metadata": {},
   "outputs": [],
   "source": [
    "import visual_behavior.data_access.loading as loading\n",
    "import visual_behavior.data_access.utilities as data_utilities\n",
    "import visual_behavior.validation.sdk as sdk_validation\n",
    "from visual_behavior.validation.sdk import ValidateSDK\n",
    "from visual_behavior import database as db\n",
    "\n",
    "import datetime\n",
    "import pandas as pd\n",
    "\n",
    "%widescreen\n",
    "%standard_imports"
   ]
  },
  {
   "cell_type": "code",
   "execution_count": null,
   "metadata": {},
   "outputs": [],
   "source": [
    "!which python"
   ]
  },
  {
   "cell_type": "code",
   "execution_count": null,
   "metadata": {},
   "outputs": [],
   "source": [
    "def get_donor_from_specimen_id(specimen_id):\n",
    "    res = db.lims_query('select * from specimens where id = {}'.format(specimen_id))\n",
    "    if len(res['donor_id']) == 1:\n",
    "        return res['donor_id'].iloc[0]\n",
    "    elif len(res['donor_id']) == 0:\n",
    "        return None\n",
    "    elif len(res['donor_id']) > 1:\n",
    "        print('found more than one donor ID for specimen ID {}'.format(specimen_id))\n",
    "        return res['donor_id'].iloc[0]\n",
    "\n",
    "cache = loading.get_visual_behavior_cache()\n",
    "behavior_session_table = cache.get_behavior_session_table().reset_index()\n",
    "filtered_ophys_experiment_table = loading.get_filtered_ophys_experiment_table()\n",
    "\n",
    "# get donor id for experiment_table\n",
    "filtered_ophys_experiment_table['donor_id'] = filtered_ophys_experiment_table['specimen_id'].map(\n",
    "    lambda sid: get_donor_from_specimen_id(sid)\n",
    ")\n",
    "\n",
    "# get behavior donor dataframe - all mice in behavior table\n",
    "behavior_donors = pd.DataFrame({'donor_id':behavior_session_table['donor_id'].unique()})\n",
    "# add a flag identifying which donors have associated ophys sessions\n",
    "behavior_donors['donor_in_ophys'] = behavior_donors['donor_id'].map(\n",
    "    lambda did: did in list(filtered_ophys_experiment_table['donor_id'].unique())\n",
    ")\n",
    "\n",
    "# merge back in behavior donors to determine which behavior sessions have associated ophys\n",
    "behavior_session_table = behavior_session_table.merge(\n",
    "    behavior_donors,\n",
    "    left_on='donor_id',\n",
    "    right_on='donor_id',\n",
    "    how='left',\n",
    ")\n",
    "\n",
    "# get project table\n",
    "project_table = db.lims_query(\"select id,code from projects\")\n",
    "query = '''SELECT behavior_sessions.id, specimens.project_id FROM specimens\n",
    "JOIN donors ON specimens.donor_id=donors.id\n",
    "JOIN behavior_sessions ON donors.id=behavior_sessions.donor_id'''\n",
    "behavior_id_project_id_map = db.lims_query(query).rename(columns={'id':'behavior_session_id'}).merge(\n",
    "    project_table,\n",
    "    left_on='project_id',\n",
    "    right_on='id',\n",
    "    how='left',\n",
    ").drop(columns=['id']).rename(columns={'code':'project_code'}).drop_duplicates('behavior_session_id').set_index('behavior_session_id')\n",
    "\n",
    "# merge project table with behavior sessions\n",
    "behavior_session_table = behavior_session_table.merge(\n",
    "    behavior_id_project_id_map.reset_index(),\n",
    "    left_on='behavior_session_id',\n",
    "    right_on='behavior_session_id',\n",
    "    how='left'\n",
    ")\n",
    "\n",
    "# add a boolean for whether or not a session is in the filtered experiment table\n",
    "def osid_in_filtered_experiments(osid):\n",
    "    if pd.notnull(osid):\n",
    "        return osid in filtered_ophys_experiment_table['ophys_session_id'].unique()\n",
    "    else:\n",
    "        return True\n",
    "behavior_session_table['in_filtered_experiments'] = behavior_session_table['ophys_session_id'].apply(osid_in_filtered_experiments)\n",
    "\n",
    "# add missing session types (I have no idea why some are missing!)\n",
    "def get_session_type(osid):\n",
    "    if osid in filtered_ophys_experiment_table['ophys_session_id'].unique().tolist():\n",
    "        return filtered_ophys_experiment_table.query('ophys_session_id == {}'.format(osid)).iloc[0]['session_type']\n",
    "    else:\n",
    "        return None\n",
    "\n",
    "# drop sessions for mice with no ophys AND sessions that aren't in the filtered list\n",
    "behavior_session_table = behavior_session_table.set_index('behavior_session_id').query('donor_in_ophys and in_filtered_experiments').copy()\n",
    "for idx,row in behavior_session_table.iterrows():\n",
    "    if pd.isnull(row['session_type']):\n",
    "        behavior_session_table.at[idx, 'session_type'] = get_session_type(row['ophys_session_id'])\n",
    "\n",
    "validation_results = sdk_validation.get_validation_results().sort_index()\n",
    "behavior_session_table = behavior_session_table.merge(\n",
    "    validation_results,\n",
    "    left_index=True,\n",
    "    right_index=True,\n",
    "    how='left'\n",
    ")"
   ]
  },
  {
   "cell_type": "code",
   "execution_count": null,
   "metadata": {},
   "outputs": [],
   "source": [
    "missing_sessions = behavior_session_table[pd.isnull(behavior_session_table['metadata'])].index.values\n",
    "len(missing_sessions)"
   ]
  },
  {
   "cell_type": "code",
   "execution_count": null,
   "metadata": {},
   "outputs": [],
   "source": [
    "savefig = True\n",
    "\n",
    "sort_by = ['is_ophys','project_code','session_type','behavior_session_id']\n",
    "\n",
    "fig = sdk_validation.make_sdk_heatmap(\n",
    "    behavior_session_table.sort_values(by=sort_by)\n",
    ")\n",
    "if savefig:\n",
    "    fig.write_html(\"/home/dougo/code/dougollerenshaw.github.io/figures_to_share/sdk_validation_matrix.html\")\n",
    "fig.show()"
   ]
  },
  {
   "cell_type": "code",
   "execution_count": null,
   "metadata": {
    "scrolled": false
   },
   "outputs": [],
   "source": [
    "savefig = True\n",
    "\n",
    "sort_by = ['is_ophys','project_code','session_type','behavior_session_id']\n",
    "\n",
    "for title,is_ophys in zip(['ophys_only','behavior_only'],[True,False]):\n",
    "    fig = sdk_validation.make_sdk_heatmap(\n",
    "        behavior_session_table[\n",
    "            (behavior_session_table['is_ophys'] == is_ophys)\n",
    "        ].sort_values(by=sort_by),\n",
    "        title_addendum = ' - {} - '.format(title)\n",
    "    )\n",
    "    if savefig:\n",
    "        fig.write_html(\"/home/dougo/code/dougollerenshaw.github.io/figures_to_share/sdk_validation_matrix_{}.html\".format(title))\n",
    "    fig.show()"
   ]
  },
  {
   "cell_type": "code",
   "execution_count": null,
   "metadata": {},
   "outputs": [],
   "source": [
    "import allensdk\n",
    "allensdk.__version__"
   ]
  },
  {
   "cell_type": "code",
   "execution_count": null,
   "metadata": {},
   "outputs": [],
   "source": []
  }
 ],
 "metadata": {
  "kernelspec": {
   "display_name": "vba",
   "language": "python",
   "name": "vba"
  },
  "language_info": {
   "codemirror_mode": {
    "name": "ipython",
    "version": 3
   },
   "file_extension": ".py",
   "mimetype": "text/x-python",
   "name": "python",
   "nbconvert_exporter": "python",
   "pygments_lexer": "ipython3",
   "version": "3.7.9"
  }
 },
 "nbformat": 4,
 "nbformat_minor": 4
}
