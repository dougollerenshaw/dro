{
 "cells": [
  {
   "cell_type": "code",
   "execution_count": 3,
   "metadata": {},
   "outputs": [
    {
     "name": "stderr",
     "output_type": "stream",
     "text": [
      "Getting all ophys sessions. This might take a while.\n"
     ]
    },
    {
     "data": {
      "text/plain": [
       "array([ 75, 150, 225, 300, 211, 210, 324, 140, 144, 205, 292,  71, 209,\n",
       "        73, 215, 217,  77, 171, 177, 259, 269, 267, 373, 367, 359, 365,\n",
       "       361,  81,  83,  85,  79, 167, 169, 175, 279, 271, 283, 275, 371,\n",
       "       377, 363, 165, 173, 263, 369, 277, 185, 183, 297, 255, 181, 265,\n",
       "       179, 273, 189, 291, 187, 193, 163, 281, 355, 353, 375, 327,  63,\n",
       "       345, 160, 170,  55,  69, 379, 285,  67, 395, 159, 280, 290, 164,\n",
       "       229, 284, 148, 158, 219, 221,  93, 166, 156, 152, 231,  87, 162,\n",
       "       213,  89, 174, 223, 191, 289, 295, 270, 182, 252, 257, 161, 227,\n",
       "       298, 308, 146, 296, 302, 306, 304, 218, 154, 282, 276, 312, 294,\n",
       "       381, 380, 261,  70, 383, 138, 142, 310, 235, 195,  95,  91, 197,\n",
       "       253, 157, 151, 153, 220, 314,  84, 320, 321,  72,  56, 226, 287,\n",
       "        80, 149, 147,  78, 222,  82,  76, 145, 228, 322, 315, 128, 132,\n",
       "       233, 286, 136, 288, 316, 354, 350,  65, 293, 352, 348])"
      ]
     },
     "execution_count": 3,
     "metadata": {},
     "output_type": "execute_result"
    }
   ],
   "source": [
    "from allensdk.brain_observatory.behavior.behavior_project_cache import BehaviorProjectCache as bpc\n",
    "\n",
    "manifest_path = \"//allen/programs/braintv/workgroups/nc-ophys/visual_behavior/2020_cache/temp_cache/manifest.json\"\n",
    "cache = bpc.from_lims(manifest=manifest_path)\n",
    "\n",
    "experiment_table = cache.get_experiment_table()\n",
    "\n",
    "#get only the multiscope sessions, look at depths\n",
    "experiment_table[experiment_table['project_code'].str.contains('Multi')]['imaging_depth'].unique()"
   ]
  },
  {
   "cell_type": "code",
   "execution_count": null,
   "metadata": {},
   "outputs": [],
   "source": []
  }
 ],
 "metadata": {
  "kernelspec": {
   "display_name": "visual_behavior",
   "language": "python",
   "name": "visual_behavior"
  },
  "language_info": {
   "codemirror_mode": {
    "name": "ipython",
    "version": 3
   },
   "file_extension": ".py",
   "mimetype": "text/x-python",
   "name": "python",
   "nbconvert_exporter": "python",
   "pygments_lexer": "ipython3",
   "version": "3.7.3"
  }
 },
 "nbformat": 4,
 "nbformat_minor": 4
}
