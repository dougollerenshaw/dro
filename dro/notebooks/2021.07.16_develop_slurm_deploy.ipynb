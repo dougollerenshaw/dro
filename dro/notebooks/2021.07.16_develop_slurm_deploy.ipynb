{
 "cells": [
  {
   "cell_type": "code",
   "execution_count": 1,
   "metadata": {},
   "outputs": [],
   "source": [
    "import slurm_deploy\n",
    "from slurm_deploy import Slurm"
   ]
  },
  {
   "cell_type": "code",
   "execution_count": 2,
   "metadata": {},
   "outputs": [],
   "source": [
    "%load_ext autoreload\n",
    "%autoreload 2"
   ]
  },
  {
   "cell_type": "code",
   "execution_count": 3,
   "metadata": {},
   "outputs": [
    {
     "data": {
      "text/plain": [
       "['Slurm',\n",
       " '__builtins__',\n",
       " '__cached__',\n",
       " '__doc__',\n",
       " '__file__',\n",
       " '__loader__',\n",
       " '__name__',\n",
       " '__package__',\n",
       " '__path__',\n",
       " '__spec__',\n",
       " '_define_file_content',\n",
       " '_modify_file_content',\n",
       " 'close_ssh',\n",
       " 'connect_to_hpc',\n",
       " 'datetime',\n",
       " 'deploy_job',\n",
       " 'get_password',\n",
       " 'get_username',\n",
       " 'getpass',\n",
       " 'os',\n",
       " 'paramiko',\n",
       " 'pathlib',\n",
       " 'sys']"
      ]
     },
     "execution_count": 3,
     "metadata": {},
     "output_type": "execute_result"
    }
   ],
   "source": [
    "dir(slurm_deploy)"
   ]
  },
  {
   "cell_type": "code",
   "execution_count": 7,
   "metadata": {},
   "outputs": [
    {
     "name": "stdout",
     "output_type": "stream",
     "text": [
      "Enter your password········\n"
     ]
    }
   ],
   "source": [
    "python_script = '/home/dougo/code/slurm_python_demo/demo_python_scripts/plotting_demo.py --frequency 15 --save-loc /home/dougo/new_plot_loc'\n",
    "\n",
    "slurm = Slurm(\n",
    "    python_script=python_script, \n",
    "    partition='braintv', \n",
    "    job_name='test_job', \n",
    "    cpus_per_task=1, \n",
    "    memory='16gb', \n",
    "    time='00:05:00',\n",
    "    username='dougo',\n",
    ")"
   ]
  },
  {
   "cell_type": "code",
   "execution_count": 9,
   "metadata": {},
   "outputs": [],
   "source": [
    "slurm.python_script = slurm.python_script.replace('--frequency 15', '--frequency 25')"
   ]
  },
  {
   "cell_type": "code",
   "execution_count": 27,
   "metadata": {},
   "outputs": [
    {
     "name": "stdout",
     "output_type": "stream",
     "text": [
      "No python path specified. Using the python path for the current environment:\n",
      "\t/home/dougo/anaconda3/envs/vba/bin/python\n",
      "\n",
      "No stdout location specified. Job records will be saved in:\n",
      "\t/allen/programs/braintv/workgroups/nc-ophys/Doug/code/slurm_deploy/.job_records\n",
      "\n"
     ]
    }
   ],
   "source": [
    "slurm.deploy_job()"
   ]
  },
  {
   "cell_type": "code",
   "execution_count": 33,
   "metadata": {},
   "outputs": [
    {
     "name": "stdout",
     "output_type": "stream",
     "text": [
      "             JOBID PARTITION     NAME     USER ST       TIME  NODES NODELIST(REASON)\n",
      "\n",
      "            365272   braintv test_job    dougo PD       0:00      1 (Priority)\n",
      "\n"
     ]
    }
   ],
   "source": [
    "slurm.check_queue_status()"
   ]
  },
  {
   "cell_type": "code",
   "execution_count": 14,
   "metadata": {},
   "outputs": [],
   "source": [
    "import time"
   ]
  },
  {
   "cell_type": "code",
   "execution_count": 17,
   "metadata": {},
   "outputs": [
    {
     "ename": "AttributeError",
     "evalue": "module 'time' has no attribute 'now'",
     "output_type": "error",
     "traceback": [
      "\u001b[0;31m---------------------------------------------------------------------------\u001b[0m",
      "\u001b[0;31mAttributeError\u001b[0m                            Traceback (most recent call last)",
      "\u001b[0;32m<ipython-input-17-87643641695b>\u001b[0m in \u001b[0;36m<module>\u001b[0;34m\u001b[0m\n\u001b[0;32m----> 1\u001b[0;31m \u001b[0mtime\u001b[0m\u001b[0;34m.\u001b[0m\u001b[0mnow\u001b[0m\u001b[0;34m(\u001b[0m\u001b[0;34m)\u001b[0m\u001b[0;34m\u001b[0m\u001b[0;34m\u001b[0m\u001b[0m\n\u001b[0m",
      "\u001b[0;31mAttributeError\u001b[0m: module 'time' has no attribute 'now'"
     ]
    }
   ],
   "source": [
    "time.now()"
   ]
  },
  {
   "cell_type": "code",
   "execution_count": null,
   "metadata": {},
   "outputs": [],
   "source": []
  }
 ],
 "metadata": {
  "kernelspec": {
   "display_name": "vba",
   "language": "python",
   "name": "vba"
  },
  "language_info": {
   "codemirror_mode": {
    "name": "ipython",
    "version": 3
   },
   "file_extension": ".py",
   "mimetype": "text/x-python",
   "name": "python",
   "nbconvert_exporter": "python",
   "pygments_lexer": "ipython3",
   "version": "3.8.8"
  }
 },
 "nbformat": 4,
 "nbformat_minor": 4
}
