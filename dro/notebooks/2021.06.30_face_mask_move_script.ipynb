{
 "cells": [
  {
   "cell_type": "code",
   "execution_count": 37,
   "metadata": {},
   "outputs": [],
   "source": [
    "import os\n",
    "import glob\n",
    "import pandas as pd\n",
    "import shutil\n",
    "import numpy as np\n",
    "from tqdm import tqdm"
   ]
  },
  {
   "cell_type": "code",
   "execution_count": 2,
   "metadata": {},
   "outputs": [
    {
     "data": {
      "text/html": [
       "<style>.container { width:100% !important; }</style>"
      ],
      "text/plain": [
       "<IPython.core.display.HTML object>"
      ]
     },
     "metadata": {},
     "output_type": "display_data"
    }
   ],
   "source": [
    "from IPython.core.display import display, HTML\n",
    "display(HTML(\"<style>.container { width:100% !important; }</style>\"))"
   ]
  },
  {
   "cell_type": "code",
   "execution_count": 40,
   "metadata": {},
   "outputs": [],
   "source": [
    "checkplot_folder = '//allen/programs/braintv/workgroups/nc-ophys/visual_behavior/qc_plots/face_motion_ac_mask/checkplots'\n",
    "motmask_source_folder = '//allen/programs/braintv/workgroups/cortexmodels/peterl/facemap_results'\n",
    "motmask_destination_folder = '//allen/programs/braintv/workgroups/nc-ophys/visual_behavior/qc_plots/face_motion_ac_mask/motmasks'"
   ]
  },
  {
   "cell_type": "code",
   "execution_count": 41,
   "metadata": {},
   "outputs": [],
   "source": [
    "folders = ['_EDGE_CASES','_GOOD_MASKS','_BAD_MASKS']"
   ]
  },
  {
   "cell_type": "code",
   "execution_count": 44,
   "metadata": {},
   "outputs": [],
   "source": [
    "_list = []\n",
    "for folder in folders:\n",
    "    \n",
    "    for fn in glob.glob(os.path.join(checkplot_folder, folder, 'check_plot*')):\n",
    "        osid = int(fn.split('plot_')[1].split('_video')[0])\n",
    "        _list.append({'ophys_session_id': osid, 'folder_name': folder})\n",
    "\n",
    "check_plot_df = pd.DataFrame(_list)\n",
    "check_plot_df['motmask_exists'] = None"
   ]
  },
  {
   "cell_type": "code",
   "execution_count": 45,
   "metadata": {},
   "outputs": [
    {
     "data": {
      "text/html": [
       "<div>\n",
       "<style scoped>\n",
       "    .dataframe tbody tr th:only-of-type {\n",
       "        vertical-align: middle;\n",
       "    }\n",
       "\n",
       "    .dataframe tbody tr th {\n",
       "        vertical-align: top;\n",
       "    }\n",
       "\n",
       "    .dataframe thead th {\n",
       "        text-align: right;\n",
       "    }\n",
       "</style>\n",
       "<table border=\"1\" class=\"dataframe\">\n",
       "  <thead>\n",
       "    <tr style=\"text-align: right;\">\n",
       "      <th></th>\n",
       "      <th>ophys_session_id</th>\n",
       "      <th>folder_name</th>\n",
       "      <th>motmask_exists</th>\n",
       "    </tr>\n",
       "  </thead>\n",
       "  <tbody>\n",
       "    <tr>\n",
       "      <th>0</th>\n",
       "      <td>1066944927</td>\n",
       "      <td>_EDGE_CASES</td>\n",
       "      <td>None</td>\n",
       "    </tr>\n",
       "    <tr>\n",
       "      <th>1</th>\n",
       "      <td>1037717307</td>\n",
       "      <td>_EDGE_CASES</td>\n",
       "      <td>None</td>\n",
       "    </tr>\n",
       "    <tr>\n",
       "      <th>2</th>\n",
       "      <td>1010684546</td>\n",
       "      <td>_EDGE_CASES</td>\n",
       "      <td>None</td>\n",
       "    </tr>\n",
       "    <tr>\n",
       "      <th>3</th>\n",
       "      <td>1052482256</td>\n",
       "      <td>_EDGE_CASES</td>\n",
       "      <td>None</td>\n",
       "    </tr>\n",
       "    <tr>\n",
       "      <th>4</th>\n",
       "      <td>1039246790</td>\n",
       "      <td>_EDGE_CASES</td>\n",
       "      <td>None</td>\n",
       "    </tr>\n",
       "    <tr>\n",
       "      <th>...</th>\n",
       "      <td>...</td>\n",
       "      <td>...</td>\n",
       "      <td>...</td>\n",
       "    </tr>\n",
       "    <tr>\n",
       "      <th>787</th>\n",
       "      <td>847494416</td>\n",
       "      <td>_BAD_MASKS</td>\n",
       "      <td>None</td>\n",
       "    </tr>\n",
       "    <tr>\n",
       "      <th>788</th>\n",
       "      <td>754695045</td>\n",
       "      <td>_BAD_MASKS</td>\n",
       "      <td>None</td>\n",
       "    </tr>\n",
       "    <tr>\n",
       "      <th>789</th>\n",
       "      <td>918718249</td>\n",
       "      <td>_BAD_MASKS</td>\n",
       "      <td>None</td>\n",
       "    </tr>\n",
       "    <tr>\n",
       "      <th>790</th>\n",
       "      <td>965038745</td>\n",
       "      <td>_BAD_MASKS</td>\n",
       "      <td>None</td>\n",
       "    </tr>\n",
       "    <tr>\n",
       "      <th>791</th>\n",
       "      <td>881236651</td>\n",
       "      <td>_BAD_MASKS</td>\n",
       "      <td>None</td>\n",
       "    </tr>\n",
       "  </tbody>\n",
       "</table>\n",
       "<p>792 rows × 3 columns</p>\n",
       "</div>"
      ],
      "text/plain": [
       "     ophys_session_id  folder_name motmask_exists\n",
       "0          1066944927  _EDGE_CASES           None\n",
       "1          1037717307  _EDGE_CASES           None\n",
       "2          1010684546  _EDGE_CASES           None\n",
       "3          1052482256  _EDGE_CASES           None\n",
       "4          1039246790  _EDGE_CASES           None\n",
       "..                ...          ...            ...\n",
       "787         847494416   _BAD_MASKS           None\n",
       "788         754695045   _BAD_MASKS           None\n",
       "789         918718249   _BAD_MASKS           None\n",
       "790         965038745   _BAD_MASKS           None\n",
       "791         881236651   _BAD_MASKS           None\n",
       "\n",
       "[792 rows x 3 columns]"
      ]
     },
     "execution_count": 45,
     "metadata": {},
     "output_type": "execute_result"
    }
   ],
   "source": [
    "check_plot_df"
   ]
  },
  {
   "cell_type": "code",
   "execution_count": 48,
   "metadata": {},
   "outputs": [
    {
     "data": {
      "text/plain": [
       "_GOOD_MASKS    0.584596\n",
       "_BAD_MASKS     0.280303\n",
       "_EDGE_CASES    0.135101\n",
       "Name: folder_name, dtype: float64"
      ]
     },
     "execution_count": 48,
     "metadata": {},
     "output_type": "execute_result"
    }
   ],
   "source": [
    "check_plot_df['folder_name'].value_counts(normalize=True)"
   ]
  },
  {
   "cell_type": "code",
   "execution_count": 49,
   "metadata": {},
   "outputs": [
    {
     "name": "stderr",
     "output_type": "stream",
     "text": [
      "100%|██████████| 792/792 [00:29<00:00, 26.43it/s]\n"
     ]
    }
   ],
   "source": [
    "for idx, row in tqdm(check_plot_df.iterrows(), total = len(check_plot_df)):\n",
    "    osid = row['ophys_session_id']\n",
    "    motmask_source_filename = os.path.join(motmask_source_folder, 'motMask_{}_video-0.png'.format(osid))\n",
    "    try:\n",
    "        shutil.copy(\n",
    "            motmask_source_filename,\n",
    "            os.path.join(motmask_destination_folder, row['folder_name'])\n",
    "        )\n",
    "        check_plot_df.at[idx, 'motmask_exists'] = True\n",
    "    except FileNotFoundError:\n",
    "        check_plot_df.at[idx, 'motmask_exists'] = False"
   ]
  },
  {
   "cell_type": "code",
   "execution_count": null,
   "metadata": {},
   "outputs": [],
   "source": []
  },
  {
   "cell_type": "code",
   "execution_count": 52,
   "metadata": {},
   "outputs": [],
   "source": [
    "check_plot_df.to_csv(os.path.join(checkplot_folder, '2021.06.30_check_plot_qc_summary.csv'), index=False)"
   ]
  },
  {
   "cell_type": "code",
   "execution_count": null,
   "metadata": {},
   "outputs": [],
   "source": []
  }
 ],
 "metadata": {
  "kernelspec": {
   "display_name": "vba",
   "language": "python",
   "name": "vba"
  },
  "language_info": {
   "codemirror_mode": {
    "name": "ipython",
    "version": 3
   },
   "file_extension": ".py",
   "mimetype": "text/x-python",
   "name": "python",
   "nbconvert_exporter": "python",
   "pygments_lexer": "ipython3",
   "version": "3.8.8"
  }
 },
 "nbformat": 4,
 "nbformat_minor": 4
}
