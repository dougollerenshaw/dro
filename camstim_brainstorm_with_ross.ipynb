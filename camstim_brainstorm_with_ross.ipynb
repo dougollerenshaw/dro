{
  "nbformat": 4,
  "nbformat_minor": 0,
  "metadata": {
    "colab": {
      "name": "camstim_brainstorm_with_ross.ipynb",
      "provenance": [],
      "collapsed_sections": [],
      "include_colab_link": true
    },
    "kernelspec": {
      "name": "python3",
      "display_name": "Python 3"
    }
  },
  "cells": [
    {
      "cell_type": "markdown",
      "metadata": {
        "id": "view-in-github",
        "colab_type": "text"
      },
      "source": [
        "<a href=\"https://colab.research.google.com/github/dougollerenshaw/dro/blob/master/camstim_brainstorm_with_ross.ipynb\" target=\"_parent\"><img src=\"https://colab.research.google.com/assets/colab-badge.svg\" alt=\"Open In Colab\"/></a>"
      ]
    },
    {
      "cell_type": "code",
      "metadata": {
        "id": "nnnBv2RX2XUw",
        "colab_type": "code",
        "colab": {}
      },
      "source": [
        "class lick_detector:\n",
        "    def __init__(self):\n",
        "        ...\n",
        "\n",
        "    def state(self):\n",
        "        \"\"\"\n",
        "        returns a hi / lo value\n",
        "        :return:\n",
        "        \"\"\"\n",
        "\n",
        "    def toggled(self, state):\n",
        "        \"\"\"\n",
        "        return true / False if state is different than state\n",
        "        :param state:\n",
        "        :return:\n",
        "        \"\"\""
      ],
      "execution_count": 0,
      "outputs": []
    },
    {
      "cell_type": "code",
      "metadata": {
        "id": "P_P9JgIq3bqH",
        "colab_type": "code",
        "colab": {}
      },
      "source": [
        ""
      ],
      "execution_count": 0,
      "outputs": []
    },
    {
      "cell_type": "code",
      "metadata": {
        "id": "zupQ9rh13e-N",
        "colab_type": "code",
        "colab": {}
      },
      "source": [
        "class encoder:\n",
        "    def __init__(self):\n",
        "        ...\n",
        "\n",
        "    def voltage(self):\n",
        "        \"\"\"\n",
        "\n",
        "        :return:\n",
        "        \"\"\"\n",
        "\n",
        "    def speed(self):\n",
        "        \"\"\"\n",
        "\n",
        "        :return:\n",
        "        \"\"\"\n",
        "\n",
        "    def distance(self):\n",
        "        ...\n",
        "\n",
        "    def distance_since_last_checked(self):"
      ],
      "execution_count": 0,
      "outputs": []
    },
    {
      "cell_type": "markdown",
      "metadata": {
        "id": "bb-fcAlG3f-n",
        "colab_type": "text"
      },
      "source": [
        ""
      ]
    },
    {
      "cell_type": "code",
      "metadata": {
        "id": "_lqLW7UI3gJD",
        "colab_type": "code",
        "colab": {}
      },
      "source": [
        "\n",
        "class base_scope:\n",
        "    def __init__(self):\n",
        "        ...\n",
        "\n",
        "    def start_recording(self):\n",
        "        ...\n",
        "\n",
        "    def stop_recording(self):\n",
        "        ...\n",
        "\n",
        "class twop_scope(base_scope):\n",
        "    ...\n",
        "\n",
        "class np_scope(base_scope):\n",
        "    ...\n"
      ],
      "execution_count": 0,
      "outputs": []
    },
    {
      "cell_type": "code",
      "metadata": {
        "id": "W1dFeTVq_rAT",
        "colab_type": "code",
        "colab": {}
      },
      "source": [
        "from psychopy import *\n",
        "from camstim import lick_spout, lick_detector, encoder, twop_scope, stimulii\n",
        "from camstim import core\n",
        "\n",
        "import random\n",
        "\n",
        "params = {'start': True,\n",
        "          'pre_stim_interval': False}\n",
        "          'timeout': False\n",
        "          'timeout_start_time': None, \n",
        "          'stimulus_start_time': None\n",
        "          'interval_timer': None\n",
        "         }\n",
        "\n",
        "\n",
        "beep = stimulli.Beep()  # play api\n",
        "stim = stimulii.Stim()  # some stimulus\n",
        "\n",
        "def frame_callback():  # runs per frame\n",
        "  if params['start']:\n",
        "    params['start'] = False\n",
        "    params['pre_stim_interval'] = True\n",
        "    beep.Play()\n",
        "    interval_to_stim = random.int(10)\n",
        "    params['interval_timer'] = core.timer(interval_to_stim, play_stim, run_once = True)\n",
        "    return\n",
        "\n",
        "  if params['pre_stim_interval']:\n",
        "    licked = lick_detector.state()\n",
        "    if licked = lick_detector.high:\n",
        "      core.interval_timer.cancel()\n",
        "      params['pre_stim_intereval'] = False\n",
        "      params['timeout'] = True\n",
        "      params['timeout_start_time'] = datetime.datetime.now()\n",
        "      return\n",
        "\n",
        "  if params['timeout']:\n",
        "    t2 = datetime.datetime.now()\n",
        "    if t2 - params['timeout_start_time'].total_seconds >= 1:\n",
        "      params['timeout'] = False\n",
        "      params['start'] = True\n",
        "      return\n",
        "\n",
        "  if params['stim_interval']:\n",
        "    licked = lick_detector.state()\n",
        "    if licked = lick_detector.high or (datetime.datetime.now() - params['stim_start'_time'] > 1):\n",
        "      lick_spout.deliver_reward(volume)\n",
        "      params['stim_interval'] = False\n",
        "      params['start'] = True\n",
        "      return\n",
        "    \n",
        "\n",
        "def play_stim():\n",
        "  stim.Play()\n",
        "  params['pre_stim_interval'] = False\n",
        "  params['stim_interval'] = True\n",
        "  params['stim_start_time'] = datetime.datetime.now()\n",
        "\n",
        "core.register_frame_logic(frame_callback)\n",
        "core.run()"
      ],
      "execution_count": 0,
      "outputs": []
    },
    {
      "cell_type": "code",
      "metadata": {
        "id": "z2P5Rb3P3mce",
        "colab_type": "code",
        "colab": {}
      },
      "source": [
        "from psychopy import *\n",
        "from camstim import lick_detector, encoder, twop_scope\n",
        "from camstim import core\n",
        "\n",
        "\n",
        "experimental_params = {}\n",
        "def frame_logic():\n",
        "  # could update experimental_params\n",
        "  # check the running time here\n",
        "  if running_to_long:\n",
        "    core.end_task()\n",
        "\n",
        "  # below would be a series of conditional statements that determine task logic\n",
        "\n",
        "  # stimulus logic:\n",
        "\n",
        "  if flash == True:\n",
        "    # show a stimulus\n",
        "  else:\n",
        "    # show a blank\n",
        "\n",
        "  if time_in_trial < change_time:\n",
        "    if lick.state == True:\n",
        "      #abort trial\n",
        "\n",
        "def update_func():\n",
        "  ...\n",
        "  \n",
        "core.register_frame_logic(frame_logic)  # would run per frame\n",
        "core.register_event(time, update_func)  # runs at an interval or once\n",
        "\n",
        "core.run()  # kicks off an event loop\n",
        "\n"
      ],
      "execution_count": 0,
      "outputs": []
    }
  ]
}